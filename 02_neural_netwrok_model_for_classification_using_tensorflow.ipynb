{
  "nbformat": 4,
  "nbformat_minor": 0,
  "metadata": {
    "colab": {
      "name": "02_neural_netwrok_model_for_classification using_tensorflow.ipynb",
      "provenance": [],
      "collapsed_sections": [],
      "authorship_tag": "ABX9TyNeEAuQpfrP1DDie50dTbS+",
      "include_colab_link": true
    },
    "kernelspec": {
      "name": "python3",
      "display_name": "Python 3"
    },
    "language_info": {
      "name": "python"
    }
  },
  "cells": [
    {
      "cell_type": "markdown",
      "metadata": {
        "id": "view-in-github",
        "colab_type": "text"
      },
      "source": [
        "<a href=\"https://colab.research.google.com/github/hrushikute/DataAnalytics/blob/master/02_neural_netwrok_model_for_classification_using_tensorflow.ipynb\" target=\"_parent\"><img src=\"https://colab.research.google.com/assets/colab-badge.svg\" alt=\"Open In Colab\"/></a>"
      ]
    },
    {
      "cell_type": "markdown",
      "metadata": {
        "id": "HtPSX7-qvX04"
      },
      "source": [
        "#Usually There type fo classificaiton\n",
        "1. Binary Classification\n",
        "2. Multiclass classification\n",
        "3. Multilabel Classification\n"
      ]
    },
    {
      "cell_type": "code",
      "metadata": {
        "id": "jvMmsBYGv6u6"
      },
      "source": [
        "# Lets get the data for calssisfication\n",
        "\n",
        "from sklearn.datasets import make_circles"
      ],
      "execution_count": null,
      "outputs": []
    },
    {
      "cell_type": "code",
      "metadata": {
        "id": "W8i22cabwdHM"
      },
      "source": [
        "#samples \n",
        "n_samples=1000\n",
        "\n",
        "#create data \n",
        "X,y = make_circles(n_samples,noise=0.03)\n"
      ],
      "execution_count": null,
      "outputs": []
    },
    {
      "cell_type": "code",
      "metadata": {
        "colab": {
          "base_uri": "https://localhost:8080/"
        },
        "id": "xxpLPeN8wtaV",
        "outputId": "23d6aa27-bc28-49db-bde8-c1bd617e418f"
      },
      "source": [
        "X,y"
      ],
      "execution_count": null,
      "outputs": [
        {
          "output_type": "execute_result",
          "data": {
            "text/plain": [
              "(array([[ 0.82530853,  0.56112464],\n",
              "        [-0.89011413, -0.47075405],\n",
              "        [-0.89365618,  0.33663206],\n",
              "        ...,\n",
              "        [-0.83059755, -0.59154143],\n",
              "        [-0.75870785,  0.65905786],\n",
              "        [-0.56683663,  0.56925049]]),\n",
              " array([0, 0, 0, 1, 1, 0, 0, 1, 0, 0, 0, 1, 0, 0, 1, 1, 0, 1, 1, 1, 0, 0,\n",
              "        0, 0, 1, 1, 1, 1, 0, 0, 0, 0, 0, 1, 0, 0, 1, 0, 1, 1, 1, 0, 1, 1,\n",
              "        1, 1, 1, 1, 1, 1, 1, 1, 1, 1, 1, 1, 1, 0, 1, 0, 1, 1, 1, 1, 0, 1,\n",
              "        1, 1, 0, 1, 0, 0, 0, 0, 0, 1, 1, 0, 0, 0, 1, 0, 1, 1, 1, 1, 1, 1,\n",
              "        1, 0, 1, 0, 0, 0, 1, 0, 1, 0, 1, 0, 0, 1, 0, 0, 1, 1, 0, 0, 0, 0,\n",
              "        0, 1, 0, 0, 1, 0, 0, 0, 1, 1, 0, 1, 0, 0, 1, 1, 1, 0, 0, 1, 1, 1,\n",
              "        1, 0, 0, 0, 1, 0, 1, 0, 1, 1, 0, 0, 1, 1, 0, 0, 1, 0, 0, 1, 1, 0,\n",
              "        1, 0, 1, 0, 0, 1, 0, 1, 0, 1, 1, 0, 1, 0, 0, 0, 1, 1, 1, 0, 0, 0,\n",
              "        1, 0, 1, 0, 1, 0, 0, 1, 1, 0, 1, 1, 1, 1, 0, 1, 1, 0, 1, 1, 0, 1,\n",
              "        0, 1, 1, 0, 0, 0, 0, 0, 0, 1, 1, 0, 1, 1, 0, 1, 0, 0, 1, 1, 1, 0,\n",
              "        1, 1, 1, 1, 1, 0, 0, 0, 1, 0, 1, 1, 0, 0, 1, 1, 0, 0, 0, 0, 1, 1,\n",
              "        0, 1, 0, 1, 1, 0, 0, 1, 0, 1, 0, 1, 0, 0, 0, 0, 1, 0, 0, 1, 1, 1,\n",
              "        1, 1, 0, 1, 1, 0, 1, 0, 0, 1, 1, 1, 1, 0, 0, 1, 1, 0, 0, 0, 0, 1,\n",
              "        0, 1, 0, 0, 0, 0, 0, 1, 1, 1, 1, 0, 0, 0, 1, 0, 0, 1, 1, 0, 1, 0,\n",
              "        1, 0, 0, 1, 1, 0, 1, 1, 1, 1, 0, 1, 1, 1, 1, 0, 1, 1, 0, 1, 0, 1,\n",
              "        0, 0, 1, 0, 0, 1, 0, 0, 0, 0, 1, 1, 0, 1, 0, 1, 1, 0, 1, 1, 0, 1,\n",
              "        0, 1, 0, 0, 0, 0, 0, 1, 0, 1, 0, 0, 1, 1, 0, 1, 1, 1, 1, 0, 0, 1,\n",
              "        0, 1, 1, 0, 0, 0, 0, 0, 0, 1, 1, 1, 0, 1, 0, 1, 1, 0, 0, 1, 1, 1,\n",
              "        0, 0, 1, 0, 0, 0, 0, 1, 0, 1, 0, 1, 1, 0, 1, 1, 1, 1, 1, 0, 1, 1,\n",
              "        0, 1, 0, 0, 1, 1, 0, 1, 0, 0, 0, 1, 1, 1, 1, 1, 1, 0, 1, 0, 1, 1,\n",
              "        0, 1, 0, 0, 1, 0, 1, 0, 0, 0, 1, 1, 0, 0, 0, 1, 1, 0, 1, 1, 1, 1,\n",
              "        1, 0, 0, 1, 1, 1, 1, 0, 1, 1, 0, 0, 1, 1, 0, 1, 1, 0, 0, 0, 0, 1,\n",
              "        1, 1, 0, 0, 0, 1, 0, 0, 0, 0, 0, 1, 0, 1, 0, 1, 1, 0, 0, 0, 1, 0,\n",
              "        0, 1, 0, 0, 1, 0, 1, 1, 0, 1, 1, 0, 0, 0, 1, 1, 0, 1, 1, 1, 0, 0,\n",
              "        0, 0, 1, 0, 1, 1, 0, 0, 1, 0, 0, 0, 1, 0, 0, 0, 1, 1, 1, 1, 0, 1,\n",
              "        1, 1, 1, 0, 0, 1, 1, 0, 1, 1, 0, 1, 0, 0, 1, 0, 1, 0, 1, 0, 1, 1,\n",
              "        0, 0, 0, 0, 0, 0, 0, 0, 1, 1, 0, 1, 0, 0, 1, 0, 1, 1, 0, 1, 0, 0,\n",
              "        1, 1, 1, 1, 0, 1, 1, 1, 1, 0, 0, 1, 1, 0, 1, 1, 1, 0, 1, 1, 0, 0,\n",
              "        0, 1, 0, 1, 0, 1, 1, 0, 0, 1, 0, 1, 1, 0, 0, 1, 0, 0, 0, 1, 1, 0,\n",
              "        0, 1, 1, 1, 0, 1, 1, 1, 1, 1, 0, 0, 1, 1, 1, 0, 0, 0, 1, 1, 0, 1,\n",
              "        1, 1, 0, 0, 1, 0, 0, 1, 0, 1, 0, 0, 1, 1, 0, 0, 1, 1, 0, 0, 0, 1,\n",
              "        1, 1, 0, 1, 1, 0, 1, 1, 0, 0, 1, 1, 0, 0, 1, 0, 1, 1, 1, 0, 0, 1,\n",
              "        1, 1, 0, 0, 0, 1, 0, 1, 1, 1, 1, 0, 0, 1, 1, 0, 1, 1, 0, 0, 0, 1,\n",
              "        0, 0, 1, 1, 0, 1, 1, 0, 1, 1, 1, 1, 0, 0, 1, 1, 1, 1, 1, 1, 0, 0,\n",
              "        0, 0, 0, 0, 0, 1, 1, 1, 1, 0, 0, 1, 1, 1, 1, 1, 0, 0, 0, 1, 0, 1,\n",
              "        0, 1, 0, 0, 0, 1, 1, 1, 0, 1, 0, 0, 0, 1, 0, 0, 1, 0, 0, 0, 1, 0,\n",
              "        1, 1, 0, 1, 0, 0, 0, 1, 1, 1, 1, 1, 1, 1, 1, 1, 1, 1, 1, 1, 1, 0,\n",
              "        0, 1, 1, 0, 0, 1, 1, 0, 1, 1, 0, 0, 0, 1, 0, 0, 1, 0, 0, 1, 0, 0,\n",
              "        0, 0, 1, 0, 1, 0, 0, 0, 0, 0, 0, 1, 0, 0, 0, 0, 1, 1, 0, 0, 0, 0,\n",
              "        0, 0, 1, 1, 0, 0, 1, 0, 1, 0, 1, 1, 0, 0, 1, 1, 0, 0, 1, 1, 1, 0,\n",
              "        1, 1, 1, 0, 0, 0, 0, 1, 0, 0, 1, 0, 0, 1, 1, 0, 1, 0, 0, 0, 1, 0,\n",
              "        0, 0, 0, 1, 0, 1, 0, 1, 0, 1, 0, 1, 1, 0, 1, 0, 0, 0, 1, 1, 0, 0,\n",
              "        1, 0, 1, 0, 1, 0, 0, 1, 0, 1, 1, 0, 1, 1, 1, 0, 0, 1, 1, 0, 1, 0,\n",
              "        0, 0, 0, 0, 1, 1, 1, 0, 1, 1, 0, 1, 0, 1, 0, 1, 1, 0, 1, 0, 0, 1,\n",
              "        0, 0, 0, 0, 0, 0, 1, 1, 1, 1, 1, 0, 0, 0, 1, 1, 0, 0, 0, 1, 0, 1,\n",
              "        0, 0, 0, 0, 0, 0, 0, 0, 0, 1]))"
            ]
          },
          "metadata": {
            "tags": []
          },
          "execution_count": 4
        }
      ]
    },
    {
      "cell_type": "code",
      "metadata": {
        "colab": {
          "base_uri": "https://localhost:8080/",
          "height": 202
        },
        "id": "ygPTUBO5wwW1",
        "outputId": "38cd3844-8d86-4444-eb0c-e8304a333f74"
      },
      "source": [
        "import pandas as pd\n",
        "circle_data = pd.DataFrame({\"X0\":X[:,0],\"X1\":X[:,1],\"Label\":y})\n",
        "circle_data.head()"
      ],
      "execution_count": null,
      "outputs": [
        {
          "output_type": "execute_result",
          "data": {
            "text/html": [
              "<div>\n",
              "<style scoped>\n",
              "    .dataframe tbody tr th:only-of-type {\n",
              "        vertical-align: middle;\n",
              "    }\n",
              "\n",
              "    .dataframe tbody tr th {\n",
              "        vertical-align: top;\n",
              "    }\n",
              "\n",
              "    .dataframe thead th {\n",
              "        text-align: right;\n",
              "    }\n",
              "</style>\n",
              "<table border=\"1\" class=\"dataframe\">\n",
              "  <thead>\n",
              "    <tr style=\"text-align: right;\">\n",
              "      <th></th>\n",
              "      <th>X0</th>\n",
              "      <th>X1</th>\n",
              "      <th>Label</th>\n",
              "    </tr>\n",
              "  </thead>\n",
              "  <tbody>\n",
              "    <tr>\n",
              "      <th>0</th>\n",
              "      <td>0.825309</td>\n",
              "      <td>0.561125</td>\n",
              "      <td>0</td>\n",
              "    </tr>\n",
              "    <tr>\n",
              "      <th>1</th>\n",
              "      <td>-0.890114</td>\n",
              "      <td>-0.470754</td>\n",
              "      <td>0</td>\n",
              "    </tr>\n",
              "    <tr>\n",
              "      <th>2</th>\n",
              "      <td>-0.893656</td>\n",
              "      <td>0.336632</td>\n",
              "      <td>0</td>\n",
              "    </tr>\n",
              "    <tr>\n",
              "      <th>3</th>\n",
              "      <td>0.129645</td>\n",
              "      <td>-0.799272</td>\n",
              "      <td>1</td>\n",
              "    </tr>\n",
              "    <tr>\n",
              "      <th>4</th>\n",
              "      <td>0.750434</td>\n",
              "      <td>0.334816</td>\n",
              "      <td>1</td>\n",
              "    </tr>\n",
              "  </tbody>\n",
              "</table>\n",
              "</div>"
            ],
            "text/plain": [
              "         X0        X1  Label\n",
              "0  0.825309  0.561125      0\n",
              "1 -0.890114 -0.470754      0\n",
              "2 -0.893656  0.336632      0\n",
              "3  0.129645 -0.799272      1\n",
              "4  0.750434  0.334816      1"
            ]
          },
          "metadata": {
            "tags": []
          },
          "execution_count": 5
        }
      ]
    },
    {
      "cell_type": "code",
      "metadata": {
        "colab": {
          "base_uri": "https://localhost:8080/",
          "height": 281
        },
        "id": "rDbcDr6kxep1",
        "outputId": "38c0af7a-05d7-4a50-de3f-435857596f83"
      },
      "source": [
        "import matplotlib.pyplot as plt\n",
        "plt.scatter(X[:,0],X[:,1],c=y,cmap=plt.cm.RdYlGn)"
      ],
      "execution_count": null,
      "outputs": [
        {
          "output_type": "execute_result",
          "data": {
            "text/plain": [
              "<matplotlib.collections.PathCollection at 0x7fd15d52d110>"
            ]
          },
          "metadata": {
            "tags": []
          },
          "execution_count": 6
        },
        {
          "output_type": "display_data",
          "data": {
            "image/png": "[encoded data removed]",
            "text/plain": [
              "<Figure size 432x288 with 1 Axes>"
            ]
          },
          "metadata": {
            "tags": [],
            "needs_background": "light"
          }
        }
      ]
    },
    {
      "cell_type": "code",
      "metadata": {
        "colab": {
          "base_uri": "https://localhost:8080/"
        },
        "id": "P_bheBZr4gzE",
        "outputId": "f5283068-7105-4d9e-ff9f-83cec47f03a7"
      },
      "source": [
        "\n",
        "X_data = circle_data.drop('Label', axis=1)\n",
        "y_data = circle_data[\"Label\"]\n",
        "\n",
        "X_data.head(), y_data.head()"
      ],
      "execution_count": null,
      "outputs": [
        {
          "output_type": "execute_result",
          "data": {
            "text/plain": [
              "(         X0        X1\n",
              " 0  0.825309  0.561125\n",
              " 1 -0.890114 -0.470754\n",
              " 2 -0.893656  0.336632\n",
              " 3  0.129645 -0.799272\n",
              " 4  0.750434  0.334816, 0    0\n",
              " 1    0\n",
              " 2    0\n",
              " 3    1\n",
              " 4    1\n",
              " Name: Label, dtype: int64)"
            ]
          },
          "metadata": {
            "tags": []
          },
          "execution_count": 7
        }
      ]
    },
    {
      "cell_type": "code",
      "metadata": {
        "colab": {
          "base_uri": "https://localhost:8080/"
        },
        "id": "Ek_lMV_o5fRU",
        "outputId": "2da1a6c3-7424-4b02-f9fa-b5fcee3c7537"
      },
      "source": [
        "\n",
        "#Lets split the model for train and test.\n",
        "from sklearn.model_selection import train_test_split\n",
        "\n",
        "X_train, X_test, y_train, y_test = train_test_split(X_data, y_data, test_size=0.2, random_state=42)\n",
        "len(X_train),len(X_test)"
      ],
      "execution_count": null,
      "outputs": [
        {
          "output_type": "execute_result",
          "data": {
            "text/plain": [
              "(800, 200)"
            ]
          },
          "metadata": {
            "tags": []
          },
          "execution_count": 8
        }
      ]
    },
    {
      "cell_type": "code",
      "metadata": {
        "id": "I1z0Fjmr6r2G"
      },
      "source": [
        "\n",
        "\n",
        "import tensorflow as tf"
      ],
      "execution_count": null,
      "outputs": []
    },
    {
      "cell_type": "code",
      "metadata": {
        "colab": {
          "base_uri": "https://localhost:8080/"
        },
        "id": "CTMFIj-j68Cg",
        "outputId": "4c7a4f81-374b-4103-b5de-421063474fb8"
      },
      "source": [
        "# Lets create a model.\n",
        "tf.random.set_seed(42)\n",
        "\n",
        "# Create a model with one hidden layer\n",
        "model_1 = tf.keras.Sequential([\n",
        "                               tf.keras.layers.Dense(1)\n",
        "\n",
        "])\n",
        "\n",
        "# Comiple the model\n",
        "model_1.compile(loss=tf.keras.losses.BinaryCrossentropy(),\n",
        "                optimizer=tf.keras.optimizers.Adam(),\n",
        "                metrics=[\"accuracy\"])\n",
        "\n",
        "#fit the model.\n",
        "\n",
        "model_1.fit(X_train, y_train, epochs=100)"
      ],
      "execution_count": null,
      "outputs": [
        {
          "output_type": "stream",
          "text": [
            "Epoch 1/100\n",
            "25/25 [==============================] - 1s 1ms/step - loss: 4.2934 - accuracy: 0.4750\n",
            "Epoch 2/100\n",
            "25/25 [==============================] - 0s 1ms/step - loss: 4.2145 - accuracy: 0.4563\n",
            "Epoch 3/100\n",
            "25/25 [==============================] - 0s 1ms/step - loss: 4.1266 - accuracy: 0.4387\n",
            "Epoch 4/100\n",
            "25/25 [==============================] - 0s 1ms/step - loss: 4.0643 - accuracy: 0.4238\n",
            "Epoch 5/100\n",
            "25/25 [==============================] - 0s 1ms/step - loss: 4.0253 - accuracy: 0.4212\n",
            "Epoch 6/100\n",
            "25/25 [==============================] - 0s 2ms/step - loss: 3.8896 - accuracy: 0.4150\n",
            "Epoch 7/100\n",
            "25/25 [==============================] - 0s 1ms/step - loss: 3.8203 - accuracy: 0.4075\n",
            "Epoch 8/100\n",
            "25/25 [==============================] - 0s 1ms/step - loss: 3.7979 - accuracy: 0.4087\n",
            "Epoch 9/100\n",
            "25/25 [==============================] - 0s 1ms/step - loss: 3.7409 - accuracy: 0.4112\n",
            "Epoch 10/100\n",
            "25/25 [==============================] - 0s 1ms/step - loss: 3.7165 - accuracy: 0.4125\n",
            "Epoch 11/100\n",
            "25/25 [==============================] - 0s 1ms/step - loss: 3.6623 - accuracy: 0.4175\n",
            "Epoch 12/100\n",
            "25/25 [==============================] - 0s 2ms/step - loss: 3.5511 - accuracy: 0.4300\n",
            "Epoch 13/100\n",
            "25/25 [==============================] - 0s 1ms/step - loss: 3.5446 - accuracy: 0.4288\n",
            "Epoch 14/100\n",
            "25/25 [==============================] - 0s 1ms/step - loss: 3.5308 - accuracy: 0.4300\n",
            "Epoch 15/100\n",
            "25/25 [==============================] - 0s 1ms/step - loss: 3.5254 - accuracy: 0.4325\n",
            "Epoch 16/100\n",
            "25/25 [==============================] - 0s 1ms/step - loss: 3.5225 - accuracy: 0.4338\n",
            "Epoch 17/100\n",
            "25/25 [==============================] - 0s 1ms/step - loss: 3.5096 - accuracy: 0.4363\n",
            "Epoch 18/100\n",
            "25/25 [==============================] - 0s 1ms/step - loss: 3.4838 - accuracy: 0.4363\n",
            "Epoch 19/100\n",
            "25/25 [==============================] - 0s 1ms/step - loss: 3.3856 - accuracy: 0.4450\n",
            "Epoch 20/100\n",
            "25/25 [==============================] - 0s 1ms/step - loss: 3.3108 - accuracy: 0.4487\n",
            "Epoch 21/100\n",
            "25/25 [==============================] - 0s 1ms/step - loss: 3.2981 - accuracy: 0.4475\n",
            "Epoch 22/100\n",
            "25/25 [==============================] - 0s 1ms/step - loss: 3.2691 - accuracy: 0.4487\n",
            "Epoch 23/100\n",
            "25/25 [==============================] - 0s 1ms/step - loss: 3.2392 - accuracy: 0.4487\n",
            "Epoch 24/100\n",
            "25/25 [==============================] - 0s 1ms/step - loss: 3.2114 - accuracy: 0.4538\n",
            "Epoch 25/100\n",
            "25/25 [==============================] - 0s 1ms/step - loss: 3.1828 - accuracy: 0.4538\n",
            "Epoch 26/100\n",
            "25/25 [==============================] - 0s 1ms/step - loss: 3.0875 - accuracy: 0.4588\n",
            "Epoch 27/100\n",
            "25/25 [==============================] - 0s 1ms/step - loss: 3.0343 - accuracy: 0.4575\n",
            "Epoch 28/100\n",
            "25/25 [==============================] - 0s 1ms/step - loss: 3.0130 - accuracy: 0.4588\n",
            "Epoch 29/100\n",
            "25/25 [==============================] - 0s 2ms/step - loss: 2.9855 - accuracy: 0.4588\n",
            "Epoch 30/100\n",
            "25/25 [==============================] - 0s 1ms/step - loss: 2.9402 - accuracy: 0.4588\n",
            "Epoch 31/100\n",
            "25/25 [==============================] - 0s 1ms/step - loss: 2.9305 - accuracy: 0.4588\n",
            "Epoch 32/100\n",
            "25/25 [==============================] - 0s 1ms/step - loss: 2.8784 - accuracy: 0.4600\n",
            "Epoch 33/100\n",
            "25/25 [==============================] - 0s 1ms/step - loss: 2.7530 - accuracy: 0.4600\n",
            "Epoch 34/100\n",
            "25/25 [==============================] - 0s 1ms/step - loss: 2.6603 - accuracy: 0.4625\n",
            "Epoch 35/100\n",
            "25/25 [==============================] - 0s 1ms/step - loss: 2.5788 - accuracy: 0.4638\n",
            "Epoch 36/100\n",
            "25/25 [==============================] - 0s 1ms/step - loss: 2.4405 - accuracy: 0.4650\n",
            "Epoch 37/100\n",
            "25/25 [==============================] - 0s 1ms/step - loss: 2.1930 - accuracy: 0.4650\n",
            "Epoch 38/100\n",
            "25/25 [==============================] - 0s 1ms/step - loss: 1.9285 - accuracy: 0.4638\n",
            "Epoch 39/100\n",
            "25/25 [==============================] - 0s 1ms/step - loss: 1.2218 - accuracy: 0.4638\n",
            "Epoch 40/100\n",
            "25/25 [==============================] - 0s 1ms/step - loss: 0.9940 - accuracy: 0.4638\n",
            "Epoch 41/100\n",
            "25/25 [==============================] - 0s 1ms/step - loss: 0.9645 - accuracy: 0.4600\n",
            "Epoch 42/100\n",
            "25/25 [==============================] - 0s 1ms/step - loss: 0.9471 - accuracy: 0.4600\n",
            "Epoch 43/100\n",
            "25/25 [==============================] - 0s 1ms/step - loss: 0.9332 - accuracy: 0.4600\n",
            "Epoch 44/100\n",
            "25/25 [==============================] - 0s 1ms/step - loss: 0.9216 - accuracy: 0.4600\n",
            "Epoch 45/100\n",
            "25/25 [==============================] - 0s 1ms/step - loss: 0.9118 - accuracy: 0.4613\n",
            "Epoch 46/100\n",
            "25/25 [==============================] - 0s 1ms/step - loss: 0.9030 - accuracy: 0.4613\n",
            "Epoch 47/100\n",
            "25/25 [==============================] - 0s 1ms/step - loss: 0.8952 - accuracy: 0.4625\n",
            "Epoch 48/100\n",
            "25/25 [==============================] - 0s 1ms/step - loss: 0.8878 - accuracy: 0.4613\n",
            "Epoch 49/100\n",
            "25/25 [==============================] - 0s 1ms/step - loss: 0.8812 - accuracy: 0.4613\n",
            "Epoch 50/100\n",
            "25/25 [==============================] - 0s 1ms/step - loss: 0.8749 - accuracy: 0.4613\n",
            "Epoch 51/100\n",
            "25/25 [==============================] - 0s 2ms/step - loss: 0.8691 - accuracy: 0.4613\n",
            "Epoch 52/100\n",
            "25/25 [==============================] - 0s 1ms/step - loss: 0.8636 - accuracy: 0.4613\n",
            "Epoch 53/100\n",
            "25/25 [==============================] - 0s 1ms/step - loss: 0.8585 - accuracy: 0.4613\n",
            "Epoch 54/100\n",
            "25/25 [==============================] - 0s 2ms/step - loss: 0.8537 - accuracy: 0.4600\n",
            "Epoch 55/100\n",
            "25/25 [==============================] - 0s 2ms/step - loss: 0.8488 - accuracy: 0.4600\n",
            "Epoch 56/100\n",
            "25/25 [==============================] - 0s 1ms/step - loss: 0.8445 - accuracy: 0.4613\n",
            "Epoch 57/100\n",
            "25/25 [==============================] - 0s 1ms/step - loss: 0.8403 - accuracy: 0.4613\n",
            "Epoch 58/100\n",
            "25/25 [==============================] - 0s 1ms/step - loss: 0.8362 - accuracy: 0.4625\n",
            "Epoch 59/100\n",
            "25/25 [==============================] - 0s 1ms/step - loss: 0.8323 - accuracy: 0.4625\n",
            "Epoch 60/100\n",
            "25/25 [==============================] - 0s 1ms/step - loss: 0.8286 - accuracy: 0.4638\n",
            "Epoch 61/100\n",
            "25/25 [==============================] - 0s 1ms/step - loss: 0.8250 - accuracy: 0.4625\n",
            "Epoch 62/100\n",
            "25/25 [==============================] - 0s 1ms/step - loss: 0.8215 - accuracy: 0.4625\n",
            "Epoch 63/100\n",
            "25/25 [==============================] - 0s 1ms/step - loss: 0.8181 - accuracy: 0.4625\n",
            "Epoch 64/100\n",
            "25/25 [==============================] - 0s 1ms/step - loss: 0.8149 - accuracy: 0.4625\n",
            "Epoch 65/100\n",
            "25/25 [==============================] - 0s 1ms/step - loss: 0.8118 - accuracy: 0.4600\n",
            "Epoch 66/100\n",
            "25/25 [==============================] - 0s 1ms/step - loss: 0.8087 - accuracy: 0.4600\n",
            "Epoch 67/100\n",
            "25/25 [==============================] - 0s 1ms/step - loss: 0.8058 - accuracy: 0.4600\n",
            "Epoch 68/100\n",
            "25/25 [==============================] - 0s 1ms/step - loss: 0.8029 - accuracy: 0.4600\n",
            "Epoch 69/100\n",
            "25/25 [==============================] - 0s 1ms/step - loss: 0.8002 - accuracy: 0.4600\n",
            "Epoch 70/100\n",
            "25/25 [==============================] - 0s 1ms/step - loss: 0.7974 - accuracy: 0.4600\n",
            "Epoch 71/100\n",
            "25/25 [==============================] - 0s 1ms/step - loss: 0.7949 - accuracy: 0.4600\n",
            "Epoch 72/100\n",
            "25/25 [==============================] - 0s 1ms/step - loss: 0.7924 - accuracy: 0.4600\n",
            "Epoch 73/100\n",
            "25/25 [==============================] - 0s 1ms/step - loss: 0.7899 - accuracy: 0.4600\n",
            "Epoch 74/100\n",
            "25/25 [==============================] - 0s 1ms/step - loss: 0.7875 - accuracy: 0.4600\n",
            "Epoch 75/100\n",
            "25/25 [==============================] - 0s 1ms/step - loss: 0.7852 - accuracy: 0.4588\n",
            "Epoch 76/100\n",
            "25/25 [==============================] - 0s 1ms/step - loss: 0.7828 - accuracy: 0.4600\n",
            "Epoch 77/100\n",
            "25/25 [==============================] - 0s 1ms/step - loss: 0.7807 - accuracy: 0.4600\n",
            "Epoch 78/100\n",
            "25/25 [==============================] - 0s 1ms/step - loss: 0.7784 - accuracy: 0.4600\n",
            "Epoch 79/100\n",
            "25/25 [==============================] - 0s 2ms/step - loss: 0.7763 - accuracy: 0.4600\n",
            "Epoch 80/100\n",
            "25/25 [==============================] - 0s 2ms/step - loss: 0.7743 - accuracy: 0.4600\n",
            "Epoch 81/100\n",
            "25/25 [==============================] - 0s 2ms/step - loss: 0.7723 - accuracy: 0.4600\n",
            "Epoch 82/100\n",
            "25/25 [==============================] - 0s 2ms/step - loss: 0.7702 - accuracy: 0.4600\n",
            "Epoch 83/100\n",
            "25/25 [==============================] - 0s 1ms/step - loss: 0.7684 - accuracy: 0.4600\n",
            "Epoch 84/100\n",
            "25/25 [==============================] - 0s 1ms/step - loss: 0.7665 - accuracy: 0.4600\n",
            "Epoch 85/100\n",
            "25/25 [==============================] - 0s 1ms/step - loss: 0.7646 - accuracy: 0.4600\n",
            "Epoch 86/100\n",
            "25/25 [==============================] - 0s 1ms/step - loss: 0.7629 - accuracy: 0.4600\n",
            "Epoch 87/100\n",
            "25/25 [==============================] - 0s 1ms/step - loss: 0.7611 - accuracy: 0.4600\n",
            "Epoch 88/100\n",
            "25/25 [==============================] - 0s 1ms/step - loss: 0.7594 - accuracy: 0.4588\n",
            "Epoch 89/100\n",
            "25/25 [==============================] - 0s 1ms/step - loss: 0.7577 - accuracy: 0.4588\n",
            "Epoch 90/100\n",
            "25/25 [==============================] - 0s 1ms/step - loss: 0.7561 - accuracy: 0.4588\n",
            "Epoch 91/100\n",
            "25/25 [==============================] - 0s 1ms/step - loss: 0.7545 - accuracy: 0.4600\n",
            "Epoch 92/100\n",
            "25/25 [==============================] - 0s 1ms/step - loss: 0.7529 - accuracy: 0.4600\n",
            "Epoch 93/100\n",
            "25/25 [==============================] - 0s 1ms/step - loss: 0.7514 - accuracy: 0.4600\n",
            "Epoch 94/100\n",
            "25/25 [==============================] - 0s 1ms/step - loss: 0.7498 - accuracy: 0.4600\n",
            "Epoch 95/100\n",
            "25/25 [==============================] - 0s 1ms/step - loss: 0.7484 - accuracy: 0.4600\n",
            "Epoch 96/100\n",
            "25/25 [==============================] - 0s 1ms/step - loss: 0.7469 - accuracy: 0.4600\n",
            "Epoch 97/100\n",
            "25/25 [==============================] - 0s 1ms/step - loss: 0.7455 - accuracy: 0.4600\n",
            "Epoch 98/100\n",
            "25/25 [==============================] - 0s 1ms/step - loss: 0.7442 - accuracy: 0.4600\n",
            "Epoch 99/100\n",
            "25/25 [==============================] - 0s 2ms/step - loss: 0.7428 - accuracy: 0.4600\n",
            "Epoch 100/100\n",
            "25/25 [==============================] - 0s 1ms/step - loss: 0.7415 - accuracy: 0.4588\n"
          ],
          "name": "stdout"
        },
        {
          "output_type": "execute_result",
          "data": {
            "text/plain": [
              "<tensorflow.python.keras.callbacks.History at 0x7fd119cfca10>"
            ]
          },
          "metadata": {
            "tags": []
          },
          "execution_count": 10
        }
      ]
    },
    {
      "cell_type": "markdown",
      "metadata": {
        "id": "8qhaN_UU-aiV"
      },
      "source": [
        "# what ??? Just 48 % accuracy.\n",
        "  Need to add change hyper parameters"
      ]
    },
    {
      "cell_type": "code",
      "metadata": {
        "colab": {
          "base_uri": "https://localhost:8080/"
        },
        "id": "H-V7wb18-oes",
        "outputId": "81743b51-aac3-476b-a05b-40057be3f328"
      },
      "source": [
        "tf.random.set_seed(42)\n",
        "\n",
        "#create a model\n",
        "model_2 = tf.keras.Sequential([\n",
        "                               tf.keras.layers.Dense(10),\n",
        "                               tf.keras.layers.Dense(1)\n",
        "\n",
        "])\n",
        "\n",
        "#compile a model\n",
        "\n",
        "model_2.compile(loss=tf.keras.losses.BinaryCrossentropy(),\n",
        "                optimizer=tf.keras.optimizers.Adam(),\n",
        "                metrics=[\"accuracy\"])\n",
        "# foit the model\n",
        "\n",
        "model_2.fit(X_train, y_train, epochs=100)"
      ],
      "execution_count": null,
      "outputs": [
        {
          "output_type": "stream",
          "text": [
            "Epoch 1/100\n",
            "25/25 [==============================] - 0s 1ms/step - loss: 4.2213 - accuracy: 0.4625\n",
            "Epoch 2/100\n",
            "25/25 [==============================] - 0s 1ms/step - loss: 4.0760 - accuracy: 0.4650\n",
            "Epoch 3/100\n",
            "25/25 [==============================] - 0s 1ms/step - loss: 3.9682 - accuracy: 0.4688\n",
            "Epoch 4/100\n",
            "25/25 [==============================] - 0s 2ms/step - loss: 3.8140 - accuracy: 0.4675\n",
            "Epoch 5/100\n",
            "25/25 [==============================] - 0s 1ms/step - loss: 3.6038 - accuracy: 0.4675\n",
            "Epoch 6/100\n",
            "25/25 [==============================] - 0s 1ms/step - loss: 3.2816 - accuracy: 0.4737\n",
            "Epoch 7/100\n",
            "25/25 [==============================] - 0s 2ms/step - loss: 1.5184 - accuracy: 0.4750\n",
            "Epoch 8/100\n",
            "25/25 [==============================] - 0s 2ms/step - loss: 0.8170 - accuracy: 0.4762\n",
            "Epoch 9/100\n",
            "25/25 [==============================] - 0s 1ms/step - loss: 0.7962 - accuracy: 0.4762\n",
            "Epoch 10/100\n",
            "25/25 [==============================] - 0s 1ms/step - loss: 0.7863 - accuracy: 0.4762\n",
            "Epoch 11/100\n",
            "25/25 [==============================] - 0s 1ms/step - loss: 0.7779 - accuracy: 0.4787\n",
            "Epoch 12/100\n",
            "25/25 [==============================] - 0s 1ms/step - loss: 0.7703 - accuracy: 0.4762\n",
            "Epoch 13/100\n",
            "25/25 [==============================] - 0s 1ms/step - loss: 0.7636 - accuracy: 0.4750\n",
            "Epoch 14/100\n",
            "25/25 [==============================] - 0s 1ms/step - loss: 0.7571 - accuracy: 0.4787\n",
            "Epoch 15/100\n",
            "25/25 [==============================] - 0s 1ms/step - loss: 0.7515 - accuracy: 0.4775\n",
            "Epoch 16/100\n",
            "25/25 [==============================] - 0s 1ms/step - loss: 0.7461 - accuracy: 0.4775\n",
            "Epoch 17/100\n",
            "25/25 [==============================] - 0s 1ms/step - loss: 0.7412 - accuracy: 0.4787\n",
            "Epoch 18/100\n",
            "25/25 [==============================] - 0s 1ms/step - loss: 0.7370 - accuracy: 0.4825\n",
            "Epoch 19/100\n",
            "25/25 [==============================] - 0s 1ms/step - loss: 0.7328 - accuracy: 0.4837\n",
            "Epoch 20/100\n",
            "25/25 [==============================] - 0s 1ms/step - loss: 0.7292 - accuracy: 0.4812\n",
            "Epoch 21/100\n",
            "25/25 [==============================] - 0s 2ms/step - loss: 0.7257 - accuracy: 0.4837\n",
            "Epoch 22/100\n",
            "25/25 [==============================] - 0s 1ms/step - loss: 0.7227 - accuracy: 0.4863\n",
            "Epoch 23/100\n",
            "25/25 [==============================] - 0s 1ms/step - loss: 0.7198 - accuracy: 0.4850\n",
            "Epoch 24/100\n",
            "25/25 [==============================] - 0s 1ms/step - loss: 0.7172 - accuracy: 0.4850\n",
            "Epoch 25/100\n",
            "25/25 [==============================] - 0s 1ms/step - loss: 0.7148 - accuracy: 0.4837\n",
            "Epoch 26/100\n",
            "25/25 [==============================] - 0s 1ms/step - loss: 0.7127 - accuracy: 0.4812\n",
            "Epoch 27/100\n",
            "25/25 [==============================] - 0s 1ms/step - loss: 0.7106 - accuracy: 0.4837\n",
            "Epoch 28/100\n",
            "25/25 [==============================] - 0s 1ms/step - loss: 0.7089 - accuracy: 0.4837\n",
            "Epoch 29/100\n",
            "25/25 [==============================] - 0s 1ms/step - loss: 0.7072 - accuracy: 0.4850\n",
            "Epoch 30/100\n",
            "25/25 [==============================] - 0s 1ms/step - loss: 0.7058 - accuracy: 0.4837\n",
            "Epoch 31/100\n",
            "25/25 [==============================] - 0s 2ms/step - loss: 0.7044 - accuracy: 0.4812\n",
            "Epoch 32/100\n",
            "25/25 [==============================] - 0s 1ms/step - loss: 0.7033 - accuracy: 0.4812\n",
            "Epoch 33/100\n",
            "25/25 [==============================] - 0s 1ms/step - loss: 0.7021 - accuracy: 0.4850\n",
            "Epoch 34/100\n",
            "25/25 [==============================] - 0s 1ms/step - loss: 0.7011 - accuracy: 0.4825\n",
            "Epoch 35/100\n",
            "25/25 [==============================] - 0s 1ms/step - loss: 0.7001 - accuracy: 0.4837\n",
            "Epoch 36/100\n",
            "25/25 [==============================] - 0s 2ms/step - loss: 0.6994 - accuracy: 0.4875\n",
            "Epoch 37/100\n",
            "25/25 [==============================] - 0s 1ms/step - loss: 0.6987 - accuracy: 0.4888\n",
            "Epoch 38/100\n",
            "25/25 [==============================] - 0s 2ms/step - loss: 0.6980 - accuracy: 0.4888\n",
            "Epoch 39/100\n",
            "25/25 [==============================] - 0s 1ms/step - loss: 0.6973 - accuracy: 0.4875\n",
            "Epoch 40/100\n",
            "25/25 [==============================] - 0s 1ms/step - loss: 0.6969 - accuracy: 0.4888\n",
            "Epoch 41/100\n",
            "25/25 [==============================] - 0s 2ms/step - loss: 0.6964 - accuracy: 0.4888\n",
            "Epoch 42/100\n",
            "25/25 [==============================] - 0s 2ms/step - loss: 0.6960 - accuracy: 0.4888\n",
            "Epoch 43/100\n",
            "25/25 [==============================] - 0s 1ms/step - loss: 0.6957 - accuracy: 0.4888\n",
            "Epoch 44/100\n",
            "25/25 [==============================] - 0s 1ms/step - loss: 0.6953 - accuracy: 0.4825\n",
            "Epoch 45/100\n",
            "25/25 [==============================] - 0s 2ms/step - loss: 0.6950 - accuracy: 0.4825\n",
            "Epoch 46/100\n",
            "25/25 [==============================] - 0s 1ms/step - loss: 0.6947 - accuracy: 0.4812\n",
            "Epoch 47/100\n",
            "25/25 [==============================] - 0s 1ms/step - loss: 0.6946 - accuracy: 0.4800\n",
            "Epoch 48/100\n",
            "25/25 [==============================] - 0s 1ms/step - loss: 0.6943 - accuracy: 0.4825\n",
            "Epoch 49/100\n",
            "25/25 [==============================] - 0s 1ms/step - loss: 0.6941 - accuracy: 0.4800\n",
            "Epoch 50/100\n",
            "25/25 [==============================] - 0s 2ms/step - loss: 0.6941 - accuracy: 0.4787\n",
            "Epoch 51/100\n",
            "25/25 [==============================] - 0s 1ms/step - loss: 0.6939 - accuracy: 0.4800\n",
            "Epoch 52/100\n",
            "25/25 [==============================] - 0s 1ms/step - loss: 0.6938 - accuracy: 0.4800\n",
            "Epoch 53/100\n",
            "25/25 [==============================] - 0s 1ms/step - loss: 0.6938 - accuracy: 0.4663\n",
            "Epoch 54/100\n",
            "25/25 [==============================] - 0s 2ms/step - loss: 0.6936 - accuracy: 0.4750\n",
            "Epoch 55/100\n",
            "25/25 [==============================] - 0s 2ms/step - loss: 0.6936 - accuracy: 0.4663\n",
            "Epoch 56/100\n",
            "25/25 [==============================] - 0s 1ms/step - loss: 0.6934 - accuracy: 0.4650\n",
            "Epoch 57/100\n",
            "25/25 [==============================] - 0s 2ms/step - loss: 0.6934 - accuracy: 0.4525\n",
            "Epoch 58/100\n",
            "25/25 [==============================] - 0s 1ms/step - loss: 0.6934 - accuracy: 0.4263\n",
            "Epoch 59/100\n",
            "25/25 [==============================] - 0s 1ms/step - loss: 0.6934 - accuracy: 0.4762\n",
            "Epoch 60/100\n",
            "25/25 [==============================] - 0s 1ms/step - loss: 0.6933 - accuracy: 0.4875\n",
            "Epoch 61/100\n",
            "25/25 [==============================] - 0s 2ms/step - loss: 0.6933 - accuracy: 0.5050\n",
            "Epoch 62/100\n",
            "25/25 [==============================] - 0s 1ms/step - loss: 0.6933 - accuracy: 0.5050\n",
            "Epoch 63/100\n",
            "25/25 [==============================] - 0s 2ms/step - loss: 0.6933 - accuracy: 0.4938\n",
            "Epoch 64/100\n",
            "25/25 [==============================] - 0s 2ms/step - loss: 0.6934 - accuracy: 0.5050\n",
            "Epoch 65/100\n",
            "25/25 [==============================] - 0s 1ms/step - loss: 0.6933 - accuracy: 0.5050\n",
            "Epoch 66/100\n",
            "25/25 [==============================] - 0s 1ms/step - loss: 0.6932 - accuracy: 0.5050\n",
            "Epoch 67/100\n",
            "25/25 [==============================] - 0s 2ms/step - loss: 0.6932 - accuracy: 0.5050\n",
            "Epoch 68/100\n",
            "25/25 [==============================] - 0s 1ms/step - loss: 0.6933 - accuracy: 0.4613\n",
            "Epoch 69/100\n",
            "25/25 [==============================] - 0s 1ms/step - loss: 0.6934 - accuracy: 0.4988\n",
            "Epoch 70/100\n",
            "25/25 [==============================] - 0s 1ms/step - loss: 0.6932 - accuracy: 0.4988\n",
            "Epoch 71/100\n",
            "25/25 [==============================] - 0s 1ms/step - loss: 0.6932 - accuracy: 0.5013\n",
            "Epoch 72/100\n",
            "25/25 [==============================] - 0s 2ms/step - loss: 0.6933 - accuracy: 0.4363\n",
            "Epoch 73/100\n",
            "25/25 [==============================] - 0s 1ms/step - loss: 0.6932 - accuracy: 0.5025\n",
            "Epoch 74/100\n",
            "25/25 [==============================] - 0s 1ms/step - loss: 0.6931 - accuracy: 0.5050\n",
            "Epoch 75/100\n",
            "25/25 [==============================] - 0s 1ms/step - loss: 0.6934 - accuracy: 0.4563\n",
            "Epoch 76/100\n",
            "25/25 [==============================] - 0s 2ms/step - loss: 0.6931 - accuracy: 0.4787\n",
            "Epoch 77/100\n",
            "25/25 [==============================] - 0s 2ms/step - loss: 0.6933 - accuracy: 0.4400\n",
            "Epoch 78/100\n",
            "25/25 [==============================] - 0s 1ms/step - loss: 0.6932 - accuracy: 0.4288\n",
            "Epoch 79/100\n",
            "25/25 [==============================] - 0s 1ms/step - loss: 0.6932 - accuracy: 0.4625\n",
            "Epoch 80/100\n",
            "25/25 [==============================] - 0s 1ms/step - loss: 0.6932 - accuracy: 0.4462\n",
            "Epoch 81/100\n",
            "25/25 [==============================] - 0s 1ms/step - loss: 0.6932 - accuracy: 0.4538\n",
            "Epoch 82/100\n",
            "25/25 [==============================] - 0s 1ms/step - loss: 0.6932 - accuracy: 0.4475\n",
            "Epoch 83/100\n",
            "25/25 [==============================] - 0s 2ms/step - loss: 0.6932 - accuracy: 0.4575\n",
            "Epoch 84/100\n",
            "25/25 [==============================] - 0s 1ms/step - loss: 0.6931 - accuracy: 0.4250\n",
            "Epoch 85/100\n",
            "25/25 [==============================] - 0s 2ms/step - loss: 0.6932 - accuracy: 0.4338\n",
            "Epoch 86/100\n",
            "25/25 [==============================] - 0s 1ms/step - loss: 0.6931 - accuracy: 0.4737\n",
            "Epoch 87/100\n",
            "25/25 [==============================] - 0s 1ms/step - loss: 0.6931 - accuracy: 0.4737\n",
            "Epoch 88/100\n",
            "25/25 [==============================] - 0s 1ms/step - loss: 0.6931 - accuracy: 0.4538\n",
            "Epoch 89/100\n",
            "25/25 [==============================] - 0s 2ms/step - loss: 0.6932 - accuracy: 0.4412\n",
            "Epoch 90/100\n",
            "25/25 [==============================] - 0s 2ms/step - loss: 0.6932 - accuracy: 0.4750\n",
            "Epoch 91/100\n",
            "25/25 [==============================] - 0s 2ms/step - loss: 0.6933 - accuracy: 0.4888\n",
            "Epoch 92/100\n",
            "25/25 [==============================] - 0s 2ms/step - loss: 0.6932 - accuracy: 0.4812\n",
            "Epoch 93/100\n",
            "25/25 [==============================] - 0s 1ms/step - loss: 0.6933 - accuracy: 0.4675\n",
            "Epoch 94/100\n",
            "25/25 [==============================] - 0s 1ms/step - loss: 0.6933 - accuracy: 0.4787\n",
            "Epoch 95/100\n",
            "25/25 [==============================] - 0s 1ms/step - loss: 0.6933 - accuracy: 0.4450\n",
            "Epoch 96/100\n",
            "25/25 [==============================] - 0s 1ms/step - loss: 0.6934 - accuracy: 0.4663\n",
            "Epoch 97/100\n",
            "25/25 [==============================] - 0s 1ms/step - loss: 0.6932 - accuracy: 0.4563\n",
            "Epoch 98/100\n",
            "25/25 [==============================] - 0s 1ms/step - loss: 0.6932 - accuracy: 0.4563\n",
            "Epoch 99/100\n",
            "25/25 [==============================] - 0s 1ms/step - loss: 0.6932 - accuracy: 0.4650\n",
            "Epoch 100/100\n",
            "25/25 [==============================] - 0s 1ms/step - loss: 0.6932 - accuracy: 0.4375\n"
          ],
          "name": "stdout"
        },
        {
          "output_type": "execute_result",
          "data": {
            "text/plain": [
              "<tensorflow.python.keras.callbacks.History at 0x7fd117a65b10>"
            ]
          },
          "metadata": {
            "tags": []
          },
          "execution_count": 11
        }
      ]
    },
    {
      "cell_type": "code",
      "metadata": {
        "colab": {
          "base_uri": "https://localhost:8080/"
        },
        "id": "Pnc_LQJy_bIb",
        "outputId": "91f0696f-4157-4757-ca93-8fd2faf62802"
      },
      "source": [
        "#Still 50 % lets add one more hidden layer of 100 neurons.\n",
        "tf.random.set_seed(42)\n",
        "\n",
        "model_3 = tf.keras.Sequential([\n",
        "                               tf.keras.layers.Dense(100),\n",
        "                               tf.keras.layers.Dense(10),\n",
        "                               tf.keras.layers.Dense(1),\n",
        "])\n",
        "\n",
        "model_3.compile(loss=tf.keras.losses.BinaryCrossentropy(),\n",
        "                optimizer=tf.keras.optimizers.Adam(),\n",
        "                metrics=[\"accuracy\"])\n",
        "model_3.fit(X_train,y_train,epochs=100)"
      ],
      "execution_count": null,
      "outputs": [
        {
          "output_type": "stream",
          "text": [
            "Epoch 1/100\n",
            "25/25 [==============================] - 1s 2ms/step - loss: 3.3863 - accuracy: 0.4550\n",
            "Epoch 2/100\n",
            "25/25 [==============================] - 0s 2ms/step - loss: 0.7202 - accuracy: 0.4863\n",
            "Epoch 3/100\n",
            "25/25 [==============================] - 0s 1ms/step - loss: 0.6984 - accuracy: 0.5113\n",
            "Epoch 4/100\n",
            "25/25 [==============================] - 0s 1ms/step - loss: 0.6964 - accuracy: 0.4913\n",
            "Epoch 5/100\n",
            "25/25 [==============================] - 0s 2ms/step - loss: 0.6955 - accuracy: 0.4650\n",
            "Epoch 6/100\n",
            "25/25 [==============================] - 0s 1ms/step - loss: 0.6954 - accuracy: 0.4375\n",
            "Epoch 7/100\n",
            "25/25 [==============================] - 0s 1ms/step - loss: 0.6949 - accuracy: 0.4688\n",
            "Epoch 8/100\n",
            "25/25 [==============================] - 0s 2ms/step - loss: 0.6953 - accuracy: 0.4850\n",
            "Epoch 9/100\n",
            "25/25 [==============================] - 0s 2ms/step - loss: 0.6960 - accuracy: 0.4900\n",
            "Epoch 10/100\n",
            "25/25 [==============================] - 0s 1ms/step - loss: 0.6955 - accuracy: 0.4688\n",
            "Epoch 11/100\n",
            "25/25 [==============================] - 0s 2ms/step - loss: 0.6954 - accuracy: 0.4725\n",
            "Epoch 12/100\n",
            "25/25 [==============================] - 0s 1ms/step - loss: 0.6950 - accuracy: 0.4650\n",
            "Epoch 13/100\n",
            "25/25 [==============================] - 0s 1ms/step - loss: 0.6954 - accuracy: 0.4950\n",
            "Epoch 14/100\n",
            "25/25 [==============================] - 0s 1ms/step - loss: 0.6964 - accuracy: 0.4712\n",
            "Epoch 15/100\n",
            "25/25 [==============================] - 0s 1ms/step - loss: 0.6965 - accuracy: 0.4500\n",
            "Epoch 16/100\n",
            "25/25 [==============================] - 0s 2ms/step - loss: 0.6964 - accuracy: 0.5163\n",
            "Epoch 17/100\n",
            "25/25 [==============================] - 0s 2ms/step - loss: 0.6980 - accuracy: 0.4563\n",
            "Epoch 18/100\n",
            "25/25 [==============================] - 0s 1ms/step - loss: 0.6987 - accuracy: 0.5138\n",
            "Epoch 19/100\n",
            "25/25 [==============================] - 0s 1ms/step - loss: 0.6986 - accuracy: 0.4613\n",
            "Epoch 20/100\n",
            "25/25 [==============================] - 0s 1ms/step - loss: 0.6970 - accuracy: 0.4825\n",
            "Epoch 21/100\n",
            "25/25 [==============================] - 0s 1ms/step - loss: 0.6961 - accuracy: 0.4850\n",
            "Epoch 22/100\n",
            "25/25 [==============================] - 0s 2ms/step - loss: 0.6957 - accuracy: 0.5000\n",
            "Epoch 23/100\n",
            "25/25 [==============================] - 0s 1ms/step - loss: 0.6978 - accuracy: 0.4450\n",
            "Epoch 24/100\n",
            "25/25 [==============================] - 0s 1ms/step - loss: 0.6944 - accuracy: 0.4825\n",
            "Epoch 25/100\n",
            "25/25 [==============================] - 0s 1ms/step - loss: 0.6961 - accuracy: 0.4988\n",
            "Epoch 26/100\n",
            "25/25 [==============================] - 0s 1ms/step - loss: 0.7002 - accuracy: 0.4737\n",
            "Epoch 27/100\n",
            "25/25 [==============================] - 0s 2ms/step - loss: 0.6955 - accuracy: 0.4825\n",
            "Epoch 28/100\n",
            "25/25 [==============================] - 0s 1ms/step - loss: 0.6970 - accuracy: 0.4863\n",
            "Epoch 29/100\n",
            "25/25 [==============================] - 0s 1ms/step - loss: 0.6964 - accuracy: 0.4613\n",
            "Epoch 30/100\n",
            "25/25 [==============================] - 0s 2ms/step - loss: 0.6953 - accuracy: 0.5088\n",
            "Epoch 31/100\n",
            "25/25 [==============================] - 0s 1ms/step - loss: 0.7010 - accuracy: 0.4800\n",
            "Epoch 32/100\n",
            "25/25 [==============================] - 0s 1ms/step - loss: 0.7043 - accuracy: 0.4800\n",
            "Epoch 33/100\n",
            "25/25 [==============================] - 0s 1ms/step - loss: 0.6998 - accuracy: 0.4725\n",
            "Epoch 34/100\n",
            "25/25 [==============================] - 0s 2ms/step - loss: 0.7012 - accuracy: 0.4762\n",
            "Epoch 35/100\n",
            "25/25 [==============================] - 0s 2ms/step - loss: 0.6970 - accuracy: 0.4787\n",
            "Epoch 36/100\n",
            "25/25 [==============================] - 0s 2ms/step - loss: 0.6994 - accuracy: 0.5088\n",
            "Epoch 37/100\n",
            "25/25 [==============================] - 0s 2ms/step - loss: 0.7002 - accuracy: 0.4613\n",
            "Epoch 38/100\n",
            "25/25 [==============================] - 0s 2ms/step - loss: 0.7008 - accuracy: 0.4775\n",
            "Epoch 39/100\n",
            "25/25 [==============================] - 0s 2ms/step - loss: 0.6970 - accuracy: 0.4875\n",
            "Epoch 40/100\n",
            "25/25 [==============================] - 0s 2ms/step - loss: 0.6994 - accuracy: 0.4775\n",
            "Epoch 41/100\n",
            "25/25 [==============================] - 0s 2ms/step - loss: 0.6962 - accuracy: 0.4563\n",
            "Epoch 42/100\n",
            "25/25 [==============================] - 0s 2ms/step - loss: 0.6965 - accuracy: 0.5038\n",
            "Epoch 43/100\n",
            "25/25 [==============================] - 0s 1ms/step - loss: 0.7007 - accuracy: 0.4650\n",
            "Epoch 44/100\n",
            "25/25 [==============================] - 0s 2ms/step - loss: 0.6967 - accuracy: 0.4800\n",
            "Epoch 45/100\n",
            "25/25 [==============================] - 0s 2ms/step - loss: 0.6950 - accuracy: 0.4700\n",
            "Epoch 46/100\n",
            "25/25 [==============================] - 0s 2ms/step - loss: 0.6983 - accuracy: 0.4875\n",
            "Epoch 47/100\n",
            "25/25 [==============================] - 0s 1ms/step - loss: 0.6994 - accuracy: 0.4812\n",
            "Epoch 48/100\n",
            "25/25 [==============================] - 0s 1ms/step - loss: 0.6992 - accuracy: 0.4762\n",
            "Epoch 49/100\n",
            "25/25 [==============================] - 0s 1ms/step - loss: 0.6975 - accuracy: 0.4950\n",
            "Epoch 50/100\n",
            "25/25 [==============================] - 0s 2ms/step - loss: 0.7007 - accuracy: 0.4550\n",
            "Epoch 51/100\n",
            "25/25 [==============================] - 0s 2ms/step - loss: 0.6976 - accuracy: 0.4863\n",
            "Epoch 52/100\n",
            "25/25 [==============================] - 0s 2ms/step - loss: 0.6949 - accuracy: 0.4688\n",
            "Epoch 53/100\n",
            "25/25 [==============================] - 0s 2ms/step - loss: 0.6987 - accuracy: 0.5088\n",
            "Epoch 54/100\n",
            "25/25 [==============================] - 0s 2ms/step - loss: 0.6975 - accuracy: 0.4725\n",
            "Epoch 55/100\n",
            "25/25 [==============================] - 0s 2ms/step - loss: 0.6977 - accuracy: 0.4762\n",
            "Epoch 56/100\n",
            "25/25 [==============================] - 0s 1ms/step - loss: 0.6983 - accuracy: 0.5075\n",
            "Epoch 57/100\n",
            "25/25 [==============================] - 0s 1ms/step - loss: 0.6974 - accuracy: 0.4538\n",
            "Epoch 58/100\n",
            "25/25 [==============================] - 0s 2ms/step - loss: 0.6997 - accuracy: 0.4775\n",
            "Epoch 59/100\n",
            "25/25 [==============================] - 0s 2ms/step - loss: 0.6977 - accuracy: 0.4400\n",
            "Epoch 60/100\n",
            "25/25 [==============================] - 0s 2ms/step - loss: 0.6974 - accuracy: 0.4850\n",
            "Epoch 61/100\n",
            "25/25 [==============================] - 0s 2ms/step - loss: 0.6985 - accuracy: 0.5000\n",
            "Epoch 62/100\n",
            "25/25 [==============================] - 0s 1ms/step - loss: 0.6992 - accuracy: 0.4762\n",
            "Epoch 63/100\n",
            "25/25 [==============================] - 0s 1ms/step - loss: 0.7013 - accuracy: 0.4437\n",
            "Epoch 64/100\n",
            "25/25 [==============================] - 0s 1ms/step - loss: 0.6947 - accuracy: 0.4863\n",
            "Epoch 65/100\n",
            "25/25 [==============================] - 0s 2ms/step - loss: 0.7031 - accuracy: 0.5200\n",
            "Epoch 66/100\n",
            "25/25 [==============================] - 0s 2ms/step - loss: 0.6990 - accuracy: 0.4600\n",
            "Epoch 67/100\n",
            "25/25 [==============================] - 0s 1ms/step - loss: 0.6972 - accuracy: 0.4625\n",
            "Epoch 68/100\n",
            "25/25 [==============================] - 0s 2ms/step - loss: 0.6969 - accuracy: 0.5038\n",
            "Epoch 69/100\n",
            "25/25 [==============================] - 0s 2ms/step - loss: 0.7003 - accuracy: 0.4988\n",
            "Epoch 70/100\n",
            "25/25 [==============================] - 0s 2ms/step - loss: 0.6992 - accuracy: 0.4762\n",
            "Epoch 71/100\n",
            "25/25 [==============================] - 0s 1ms/step - loss: 0.6974 - accuracy: 0.4638\n",
            "Epoch 72/100\n",
            "25/25 [==============================] - 0s 2ms/step - loss: 0.7003 - accuracy: 0.5038\n",
            "Epoch 73/100\n",
            "25/25 [==============================] - 0s 2ms/step - loss: 0.6985 - accuracy: 0.4650\n",
            "Epoch 74/100\n",
            "25/25 [==============================] - 0s 2ms/step - loss: 0.6958 - accuracy: 0.4688\n",
            "Epoch 75/100\n",
            "25/25 [==============================] - 0s 1ms/step - loss: 0.6993 - accuracy: 0.4675\n",
            "Epoch 76/100\n",
            "25/25 [==============================] - 0s 2ms/step - loss: 0.6986 - accuracy: 0.4875\n",
            "Epoch 77/100\n",
            "25/25 [==============================] - 0s 1ms/step - loss: 0.7028 - accuracy: 0.4700\n",
            "Epoch 78/100\n",
            "25/25 [==============================] - 0s 1ms/step - loss: 0.7012 - accuracy: 0.4425\n",
            "Epoch 79/100\n",
            "25/25 [==============================] - 0s 2ms/step - loss: 0.6988 - accuracy: 0.4400\n",
            "Epoch 80/100\n",
            "25/25 [==============================] - 0s 1ms/step - loss: 0.6966 - accuracy: 0.4812\n",
            "Epoch 81/100\n",
            "25/25 [==============================] - 0s 1ms/step - loss: 0.6983 - accuracy: 0.4787\n",
            "Epoch 82/100\n",
            "25/25 [==============================] - 0s 1ms/step - loss: 0.6985 - accuracy: 0.4575\n",
            "Epoch 83/100\n",
            "25/25 [==============================] - 0s 2ms/step - loss: 0.6984 - accuracy: 0.4938\n",
            "Epoch 84/100\n",
            "25/25 [==============================] - 0s 2ms/step - loss: 0.6944 - accuracy: 0.4712\n",
            "Epoch 85/100\n",
            "25/25 [==============================] - 0s 2ms/step - loss: 0.6977 - accuracy: 0.4575\n",
            "Epoch 86/100\n",
            "25/25 [==============================] - 0s 2ms/step - loss: 0.6949 - accuracy: 0.5063\n",
            "Epoch 87/100\n",
            "25/25 [==============================] - 0s 2ms/step - loss: 0.6955 - accuracy: 0.4462\n",
            "Epoch 88/100\n",
            "25/25 [==============================] - 0s 2ms/step - loss: 0.6952 - accuracy: 0.4475\n",
            "Epoch 89/100\n",
            "25/25 [==============================] - 0s 1ms/step - loss: 0.6977 - accuracy: 0.4700\n",
            "Epoch 90/100\n",
            "25/25 [==============================] - 0s 2ms/step - loss: 0.6964 - accuracy: 0.5050\n",
            "Epoch 91/100\n",
            "25/25 [==============================] - 0s 1ms/step - loss: 0.7022 - accuracy: 0.4550\n",
            "Epoch 92/100\n",
            "25/25 [==============================] - 0s 2ms/step - loss: 0.6964 - accuracy: 0.4825\n",
            "Epoch 93/100\n",
            "25/25 [==============================] - 0s 2ms/step - loss: 0.6992 - accuracy: 0.4712\n",
            "Epoch 94/100\n",
            "25/25 [==============================] - 0s 2ms/step - loss: 0.6974 - accuracy: 0.4750\n",
            "Epoch 95/100\n",
            "25/25 [==============================] - 0s 1ms/step - loss: 0.6979 - accuracy: 0.4900\n",
            "Epoch 96/100\n",
            "25/25 [==============================] - 0s 2ms/step - loss: 0.6987 - accuracy: 0.4925\n",
            "Epoch 97/100\n",
            "25/25 [==============================] - 0s 2ms/step - loss: 0.6965 - accuracy: 0.4737\n",
            "Epoch 98/100\n",
            "25/25 [==============================] - 0s 2ms/step - loss: 0.6970 - accuracy: 0.4800\n",
            "Epoch 99/100\n",
            "25/25 [==============================] - 0s 2ms/step - loss: 0.6971 - accuracy: 0.4487\n",
            "Epoch 100/100\n",
            "25/25 [==============================] - 0s 2ms/step - loss: 0.6949 - accuracy: 0.4925\n"
          ],
          "name": "stdout"
        },
        {
          "output_type": "execute_result",
          "data": {
            "text/plain": [
              "<tensorflow.python.keras.callbacks.History at 0x7fd11797fd50>"
            ]
          },
          "metadata": {
            "tags": []
          },
          "execution_count": 12
        }
      ]
    },
    {
      "cell_type": "code",
      "metadata": {
        "colab": {
          "base_uri": "https://localhost:8080/"
        },
        "id": "nxyY6_5KAGtU",
        "outputId": "91ef0405-9478-4222-c2c5-3d0bcf3176ec"
      },
      "source": [
        "model_3.evaluate(X_test,y_test)"
      ],
      "execution_count": null,
      "outputs": [
        {
          "output_type": "stream",
          "text": [
            "7/7 [==============================] - 0s 3ms/step - loss: 0.6964 - accuracy: 0.5050\n"
          ],
          "name": "stdout"
        },
        {
          "output_type": "execute_result",
          "data": {
            "text/plain": [
              "[0.6964394450187683, 0.5049999952316284]"
            ]
          },
          "metadata": {
            "tags": []
          },
          "execution_count": 13
        }
      ]
    },
    {
      "cell_type": "code",
      "metadata": {
        "id": "LHcO8_q4jrIr"
      },
      "source": [
        "# Lets add the activation function with 2 hidden layers and learning rate as 0.001"
      ],
      "execution_count": null,
      "outputs": []
    },
    {
      "cell_type": "code",
      "metadata": {
        "colab": {
          "base_uri": "https://localhost:8080/"
        },
        "id": "ZgDIp_jij8zW",
        "outputId": "0fc815a1-5d11-40ab-c445-34eacd52eb3e"
      },
      "source": [
        "tf.random.set_seed(42)\n",
        "\n",
        "# Create a model\n",
        "\n",
        "model_4 = tf.keras.Sequential([\n",
        "                               tf.keras.layers.Dense(4,activation=tf.keras.activations.relu),\n",
        "                               tf.keras.layers.Dense(4,activation=tf.keras.activations.relu),\n",
        "                               tf.keras.layers.Dense(1,activation=tf.keras.activations.sigmoid)\n",
        "])\n",
        "\n",
        "#Compile the model\n",
        "\n",
        "model_4.compile(loss=tf.keras.losses.BinaryCrossentropy(),\n",
        "                optimizer=tf.keras.optimizers.Adam(lr=0.001),\n",
        "                metrics=[\"accuracy\"])\n",
        "\n",
        "# fit the model\n",
        "\n",
        "history_4 = model_4.fit(X_train,y_train,epochs=200)"
      ],
      "execution_count": null,
      "outputs": [
        {
          "output_type": "stream",
          "text": [
            "/usr/local/lib/python3.7/dist-packages/tensorflow/python/keras/optimizer_v2/optimizer_v2.py:375: UserWarning: The `lr` argument is deprecated, use `learning_rate` instead.\n",
            "  \"The `lr` argument is deprecated, use `learning_rate` instead.\")\n"
          ],
          "name": "stderr"
        },
        {
          "output_type": "stream",
          "text": [
            "Epoch 1/200\n",
            "25/25 [==============================] - 1s 2ms/step - loss: 0.6904 - accuracy: 0.5100\n",
            "Epoch 2/200\n",
            "25/25 [==============================] - 0s 1ms/step - loss: 0.6862 - accuracy: 0.5075\n",
            "Epoch 3/200\n",
            "25/25 [==============================] - 0s 1ms/step - loss: 0.6845 - accuracy: 0.5325\n",
            "Epoch 4/200\n",
            "25/25 [==============================] - 0s 1ms/step - loss: 0.6829 - accuracy: 0.5312\n",
            "Epoch 5/200\n",
            "25/25 [==============================] - 0s 1ms/step - loss: 0.6821 - accuracy: 0.5213\n",
            "Epoch 6/200\n",
            "25/25 [==============================] - 0s 1ms/step - loss: 0.6817 - accuracy: 0.5312\n",
            "Epoch 7/200\n",
            "25/25 [==============================] - 0s 1ms/step - loss: 0.6812 - accuracy: 0.5275\n",
            "Epoch 8/200\n",
            "25/25 [==============================] - 0s 1ms/step - loss: 0.6808 - accuracy: 0.5350\n",
            "Epoch 9/200\n",
            "25/25 [==============================] - 0s 2ms/step - loss: 0.6804 - accuracy: 0.5300\n",
            "Epoch 10/200\n",
            "25/25 [==============================] - 0s 1ms/step - loss: 0.6800 - accuracy: 0.5400\n",
            "Epoch 11/200\n",
            "25/25 [==============================] - 0s 2ms/step - loss: 0.6796 - accuracy: 0.5350\n",
            "Epoch 12/200\n",
            "25/25 [==============================] - 0s 1ms/step - loss: 0.6793 - accuracy: 0.5337\n",
            "Epoch 13/200\n",
            "25/25 [==============================] - 0s 1ms/step - loss: 0.6789 - accuracy: 0.5337\n",
            "Epoch 14/200\n",
            "25/25 [==============================] - 0s 1ms/step - loss: 0.6785 - accuracy: 0.5350\n",
            "Epoch 15/200\n",
            "25/25 [==============================] - 0s 2ms/step - loss: 0.6782 - accuracy: 0.5362\n",
            "Epoch 16/200\n",
            "25/25 [==============================] - 0s 1ms/step - loss: 0.6777 - accuracy: 0.5437\n",
            "Epoch 17/200\n",
            "25/25 [==============================] - 0s 1ms/step - loss: 0.6775 - accuracy: 0.5400\n",
            "Epoch 18/200\n",
            "25/25 [==============================] - 0s 1ms/step - loss: 0.6771 - accuracy: 0.5462\n",
            "Epoch 19/200\n",
            "25/25 [==============================] - 0s 1ms/step - loss: 0.6766 - accuracy: 0.5475\n",
            "Epoch 20/200\n",
            "25/25 [==============================] - 0s 1ms/step - loss: 0.6762 - accuracy: 0.5475\n",
            "Epoch 21/200\n",
            "25/25 [==============================] - 0s 1ms/step - loss: 0.6756 - accuracy: 0.5487\n",
            "Epoch 22/200\n",
            "25/25 [==============================] - 0s 1ms/step - loss: 0.6753 - accuracy: 0.5525\n",
            "Epoch 23/200\n",
            "25/25 [==============================] - 0s 1ms/step - loss: 0.6749 - accuracy: 0.5500\n",
            "Epoch 24/200\n",
            "25/25 [==============================] - 0s 2ms/step - loss: 0.6743 - accuracy: 0.5550\n",
            "Epoch 25/200\n",
            "25/25 [==============================] - 0s 2ms/step - loss: 0.6740 - accuracy: 0.5537\n",
            "Epoch 26/200\n",
            "25/25 [==============================] - 0s 1ms/step - loss: 0.6739 - accuracy: 0.5525\n",
            "Epoch 27/200\n",
            "25/25 [==============================] - 0s 2ms/step - loss: 0.6729 - accuracy: 0.5550\n",
            "Epoch 28/200\n",
            "25/25 [==============================] - 0s 1ms/step - loss: 0.6725 - accuracy: 0.5525\n",
            "Epoch 29/200\n",
            "25/25 [==============================] - 0s 1ms/step - loss: 0.6720 - accuracy: 0.5525\n",
            "Epoch 30/200\n",
            "25/25 [==============================] - 0s 1ms/step - loss: 0.6717 - accuracy: 0.5537\n",
            "Epoch 31/200\n",
            "25/25 [==============================] - 0s 2ms/step - loss: 0.6712 - accuracy: 0.5562\n",
            "Epoch 32/200\n",
            "25/25 [==============================] - 0s 1ms/step - loss: 0.6710 - accuracy: 0.5587\n",
            "Epoch 33/200\n",
            "25/25 [==============================] - 0s 1ms/step - loss: 0.6700 - accuracy: 0.5600\n",
            "Epoch 34/200\n",
            "25/25 [==============================] - 0s 1ms/step - loss: 0.6696 - accuracy: 0.5587\n",
            "Epoch 35/200\n",
            "25/25 [==============================] - 0s 1ms/step - loss: 0.6691 - accuracy: 0.5587\n",
            "Epoch 36/200\n",
            "25/25 [==============================] - 0s 1ms/step - loss: 0.6687 - accuracy: 0.5625\n",
            "Epoch 37/200\n",
            "25/25 [==============================] - 0s 1ms/step - loss: 0.6683 - accuracy: 0.5612\n",
            "Epoch 38/200\n",
            "25/25 [==============================] - 0s 2ms/step - loss: 0.6676 - accuracy: 0.5663\n",
            "Epoch 39/200\n",
            "25/25 [==============================] - 0s 2ms/step - loss: 0.6669 - accuracy: 0.5625\n",
            "Epoch 40/200\n",
            "25/25 [==============================] - 0s 1ms/step - loss: 0.6666 - accuracy: 0.5612\n",
            "Epoch 41/200\n",
            "25/25 [==============================] - 0s 1ms/step - loss: 0.6660 - accuracy: 0.5638\n",
            "Epoch 42/200\n",
            "25/25 [==============================] - 0s 1ms/step - loss: 0.6655 - accuracy: 0.5650\n",
            "Epoch 43/200\n",
            "25/25 [==============================] - 0s 1ms/step - loss: 0.6651 - accuracy: 0.5650\n",
            "Epoch 44/200\n",
            "25/25 [==============================] - 0s 1ms/step - loss: 0.6643 - accuracy: 0.5663\n",
            "Epoch 45/200\n",
            "25/25 [==============================] - 0s 1ms/step - loss: 0.6638 - accuracy: 0.5638\n",
            "Epoch 46/200\n",
            "25/25 [==============================] - 0s 2ms/step - loss: 0.6632 - accuracy: 0.5650\n",
            "Epoch 47/200\n",
            "25/25 [==============================] - 0s 1ms/step - loss: 0.6626 - accuracy: 0.5663\n",
            "Epoch 48/200\n",
            "25/25 [==============================] - 0s 1ms/step - loss: 0.6621 - accuracy: 0.5663\n",
            "Epoch 49/200\n",
            "25/25 [==============================] - 0s 1ms/step - loss: 0.6612 - accuracy: 0.5688\n",
            "Epoch 50/200\n",
            "25/25 [==============================] - 0s 1ms/step - loss: 0.6608 - accuracy: 0.5663\n",
            "Epoch 51/200\n",
            "25/25 [==============================] - 0s 1ms/step - loss: 0.6598 - accuracy: 0.5713\n",
            "Epoch 52/200\n",
            "25/25 [==============================] - 0s 1ms/step - loss: 0.6592 - accuracy: 0.5700\n",
            "Epoch 53/200\n",
            "25/25 [==============================] - 0s 1ms/step - loss: 0.6585 - accuracy: 0.5725\n",
            "Epoch 54/200\n",
            "25/25 [==============================] - 0s 1ms/step - loss: 0.6576 - accuracy: 0.5713\n",
            "Epoch 55/200\n",
            "25/25 [==============================] - 0s 1ms/step - loss: 0.6572 - accuracy: 0.5688\n",
            "Epoch 56/200\n",
            "25/25 [==============================] - 0s 1ms/step - loss: 0.6559 - accuracy: 0.5750\n",
            "Epoch 57/200\n",
            "25/25 [==============================] - 0s 1ms/step - loss: 0.6550 - accuracy: 0.5688\n",
            "Epoch 58/200\n",
            "25/25 [==============================] - 0s 1ms/step - loss: 0.6539 - accuracy: 0.5713\n",
            "Epoch 59/200\n",
            "25/25 [==============================] - 0s 2ms/step - loss: 0.6526 - accuracy: 0.5725\n",
            "Epoch 60/200\n",
            "25/25 [==============================] - 0s 1ms/step - loss: 0.6508 - accuracy: 0.5763\n",
            "Epoch 61/200\n",
            "25/25 [==============================] - 0s 1ms/step - loss: 0.6487 - accuracy: 0.5888\n",
            "Epoch 62/200\n",
            "25/25 [==============================] - 0s 1ms/step - loss: 0.6462 - accuracy: 0.6037\n",
            "Epoch 63/200\n",
            "25/25 [==============================] - 0s 1ms/step - loss: 0.6447 - accuracy: 0.6250\n",
            "Epoch 64/200\n",
            "25/25 [==============================] - 0s 1ms/step - loss: 0.6427 - accuracy: 0.6400\n",
            "Epoch 65/200\n",
            "25/25 [==============================] - 0s 2ms/step - loss: 0.6413 - accuracy: 0.6650\n",
            "Epoch 66/200\n",
            "25/25 [==============================] - 0s 1ms/step - loss: 0.6381 - accuracy: 0.6762\n",
            "Epoch 67/200\n",
            "25/25 [==============================] - 0s 2ms/step - loss: 0.6360 - accuracy: 0.6938\n",
            "Epoch 68/200\n",
            "25/25 [==============================] - 0s 2ms/step - loss: 0.6339 - accuracy: 0.7100\n",
            "Epoch 69/200\n",
            "25/25 [==============================] - 0s 2ms/step - loss: 0.6314 - accuracy: 0.7050\n",
            "Epoch 70/200\n",
            "25/25 [==============================] - 0s 1ms/step - loss: 0.6290 - accuracy: 0.7100\n",
            "Epoch 71/200\n",
            "25/25 [==============================] - 0s 1ms/step - loss: 0.6258 - accuracy: 0.7163\n",
            "Epoch 72/200\n",
            "25/25 [==============================] - 0s 1ms/step - loss: 0.6235 - accuracy: 0.7262\n",
            "Epoch 73/200\n",
            "25/25 [==============================] - 0s 1ms/step - loss: 0.6203 - accuracy: 0.7188\n",
            "Epoch 74/200\n",
            "25/25 [==============================] - 0s 1ms/step - loss: 0.6160 - accuracy: 0.7125\n",
            "Epoch 75/200\n",
            "25/25 [==============================] - 0s 2ms/step - loss: 0.6127 - accuracy: 0.7300\n",
            "Epoch 76/200\n",
            "25/25 [==============================] - 0s 1ms/step - loss: 0.6079 - accuracy: 0.7175\n",
            "Epoch 77/200\n",
            "25/25 [==============================] - 0s 1ms/step - loss: 0.6044 - accuracy: 0.7138\n",
            "Epoch 78/200\n",
            "25/25 [==============================] - 0s 1ms/step - loss: 0.6000 - accuracy: 0.7188\n",
            "Epoch 79/200\n",
            "25/25 [==============================] - 0s 1ms/step - loss: 0.5959 - accuracy: 0.7300\n",
            "Epoch 80/200\n",
            "25/25 [==============================] - 0s 1ms/step - loss: 0.5917 - accuracy: 0.7337\n",
            "Epoch 81/200\n",
            "25/25 [==============================] - 0s 1ms/step - loss: 0.5879 - accuracy: 0.7412\n",
            "Epoch 82/200\n",
            "25/25 [==============================] - 0s 2ms/step - loss: 0.5837 - accuracy: 0.7387\n",
            "Epoch 83/200\n",
            "25/25 [==============================] - 0s 2ms/step - loss: 0.5800 - accuracy: 0.7487\n",
            "Epoch 84/200\n",
            "25/25 [==============================] - 0s 2ms/step - loss: 0.5752 - accuracy: 0.7513\n",
            "Epoch 85/200\n",
            "25/25 [==============================] - 0s 1ms/step - loss: 0.5711 - accuracy: 0.7575\n",
            "Epoch 86/200\n",
            "25/25 [==============================] - 0s 1ms/step - loss: 0.5668 - accuracy: 0.7600\n",
            "Epoch 87/200\n",
            "25/25 [==============================] - 0s 2ms/step - loss: 0.5622 - accuracy: 0.7713\n",
            "Epoch 88/200\n",
            "25/25 [==============================] - 0s 2ms/step - loss: 0.5578 - accuracy: 0.7812\n",
            "Epoch 89/200\n",
            "25/25 [==============================] - 0s 1ms/step - loss: 0.5540 - accuracy: 0.7788\n",
            "Epoch 90/200\n",
            "25/25 [==============================] - 0s 1ms/step - loss: 0.5494 - accuracy: 0.7912\n",
            "Epoch 91/200\n",
            "25/25 [==============================] - 0s 1ms/step - loss: 0.5446 - accuracy: 0.7950\n",
            "Epoch 92/200\n",
            "25/25 [==============================] - 0s 2ms/step - loss: 0.5400 - accuracy: 0.8012\n",
            "Epoch 93/200\n",
            "25/25 [==============================] - 0s 2ms/step - loss: 0.5359 - accuracy: 0.8050\n",
            "Epoch 94/200\n",
            "25/25 [==============================] - 0s 1ms/step - loss: 0.5314 - accuracy: 0.8112\n",
            "Epoch 95/200\n",
            "25/25 [==============================] - 0s 1ms/step - loss: 0.5267 - accuracy: 0.8150\n",
            "Epoch 96/200\n",
            "25/25 [==============================] - 0s 1ms/step - loss: 0.5225 - accuracy: 0.8238\n",
            "Epoch 97/200\n",
            "25/25 [==============================] - 0s 1ms/step - loss: 0.5167 - accuracy: 0.8250\n",
            "Epoch 98/200\n",
            "25/25 [==============================] - 0s 1ms/step - loss: 0.5123 - accuracy: 0.8325\n",
            "Epoch 99/200\n",
            "25/25 [==============================] - 0s 2ms/step - loss: 0.5072 - accuracy: 0.8413\n",
            "Epoch 100/200\n",
            "25/25 [==============================] - 0s 1ms/step - loss: 0.5018 - accuracy: 0.8350\n",
            "Epoch 101/200\n",
            "25/25 [==============================] - 0s 1ms/step - loss: 0.4965 - accuracy: 0.8450\n",
            "Epoch 102/200\n",
            "25/25 [==============================] - 0s 1ms/step - loss: 0.4915 - accuracy: 0.8512\n",
            "Epoch 103/200\n",
            "25/25 [==============================] - 0s 2ms/step - loss: 0.4863 - accuracy: 0.8575\n",
            "Epoch 104/200\n",
            "25/25 [==============================] - 0s 2ms/step - loss: 0.4790 - accuracy: 0.8575\n",
            "Epoch 105/200\n",
            "25/25 [==============================] - 0s 2ms/step - loss: 0.4687 - accuracy: 0.8700\n",
            "Epoch 106/200\n",
            "25/25 [==============================] - 0s 1ms/step - loss: 0.4621 - accuracy: 0.8775\n",
            "Epoch 107/200\n",
            "25/25 [==============================] - 0s 2ms/step - loss: 0.4556 - accuracy: 0.8875\n",
            "Epoch 108/200\n",
            "25/25 [==============================] - 0s 2ms/step - loss: 0.4489 - accuracy: 0.8913\n",
            "Epoch 109/200\n",
            "25/25 [==============================] - 0s 2ms/step - loss: 0.4437 - accuracy: 0.8950\n",
            "Epoch 110/200\n",
            "25/25 [==============================] - 0s 2ms/step - loss: 0.4373 - accuracy: 0.9013\n",
            "Epoch 111/200\n",
            "25/25 [==============================] - 0s 2ms/step - loss: 0.4317 - accuracy: 0.9087\n",
            "Epoch 112/200\n",
            "25/25 [==============================] - 0s 2ms/step - loss: 0.4257 - accuracy: 0.9125\n",
            "Epoch 113/200\n",
            "25/25 [==============================] - 0s 2ms/step - loss: 0.4194 - accuracy: 0.9225\n",
            "Epoch 114/200\n",
            "25/25 [==============================] - 0s 2ms/step - loss: 0.4135 - accuracy: 0.9237\n",
            "Epoch 115/200\n",
            "25/25 [==============================] - 0s 2ms/step - loss: 0.4086 - accuracy: 0.9225\n",
            "Epoch 116/200\n",
            "25/25 [==============================] - 0s 1ms/step - loss: 0.4024 - accuracy: 0.9300\n",
            "Epoch 117/200\n",
            "25/25 [==============================] - 0s 1ms/step - loss: 0.3967 - accuracy: 0.9400\n",
            "Epoch 118/200\n",
            "25/25 [==============================] - 0s 2ms/step - loss: 0.3910 - accuracy: 0.9362\n",
            "Epoch 119/200\n",
            "25/25 [==============================] - 0s 2ms/step - loss: 0.3856 - accuracy: 0.9450\n",
            "Epoch 120/200\n",
            "25/25 [==============================] - 0s 2ms/step - loss: 0.3799 - accuracy: 0.9500\n",
            "Epoch 121/200\n",
            "25/25 [==============================] - 0s 1ms/step - loss: 0.3746 - accuracy: 0.9550\n",
            "Epoch 122/200\n",
            "25/25 [==============================] - 0s 2ms/step - loss: 0.3687 - accuracy: 0.9550\n",
            "Epoch 123/200\n",
            "25/25 [==============================] - 0s 1ms/step - loss: 0.3633 - accuracy: 0.9550\n",
            "Epoch 124/200\n",
            "25/25 [==============================] - 0s 1ms/step - loss: 0.3583 - accuracy: 0.9600\n",
            "Epoch 125/200\n",
            "25/25 [==============================] - 0s 1ms/step - loss: 0.3542 - accuracy: 0.9513\n",
            "Epoch 126/200\n",
            "25/25 [==============================] - 0s 1ms/step - loss: 0.3480 - accuracy: 0.9575\n",
            "Epoch 127/200\n",
            "25/25 [==============================] - 0s 2ms/step - loss: 0.3427 - accuracy: 0.9588\n",
            "Epoch 128/200\n",
            "25/25 [==============================] - 0s 2ms/step - loss: 0.3375 - accuracy: 0.9638\n",
            "Epoch 129/200\n",
            "25/25 [==============================] - 0s 1ms/step - loss: 0.3321 - accuracy: 0.9550\n",
            "Epoch 130/200\n",
            "25/25 [==============================] - 0s 2ms/step - loss: 0.3264 - accuracy: 0.9638\n",
            "Epoch 131/200\n",
            "25/25 [==============================] - 0s 1ms/step - loss: 0.3214 - accuracy: 0.9675\n",
            "Epoch 132/200\n",
            "25/25 [==============================] - 0s 1ms/step - loss: 0.3159 - accuracy: 0.9700\n",
            "Epoch 133/200\n",
            "25/25 [==============================] - 0s 1ms/step - loss: 0.3113 - accuracy: 0.9700\n",
            "Epoch 134/200\n",
            "25/25 [==============================] - 0s 1ms/step - loss: 0.3061 - accuracy: 0.9688\n",
            "Epoch 135/200\n",
            "25/25 [==============================] - 0s 2ms/step - loss: 0.3012 - accuracy: 0.9700\n",
            "Epoch 136/200\n",
            "25/25 [==============================] - 0s 1ms/step - loss: 0.2963 - accuracy: 0.9725\n",
            "Epoch 137/200\n",
            "25/25 [==============================] - 0s 1ms/step - loss: 0.2917 - accuracy: 0.9775\n",
            "Epoch 138/200\n",
            "25/25 [==============================] - 0s 1ms/step - loss: 0.2874 - accuracy: 0.9750\n",
            "Epoch 139/200\n",
            "25/25 [==============================] - 0s 2ms/step - loss: 0.2823 - accuracy: 0.9812\n",
            "Epoch 140/200\n",
            "25/25 [==============================] - 0s 1ms/step - loss: 0.2777 - accuracy: 0.9837\n",
            "Epoch 141/200\n",
            "25/25 [==============================] - 0s 2ms/step - loss: 0.2742 - accuracy: 0.9812\n",
            "Epoch 142/200\n",
            "25/25 [==============================] - 0s 1ms/step - loss: 0.2688 - accuracy: 0.9825\n",
            "Epoch 143/200\n",
            "25/25 [==============================] - 0s 1ms/step - loss: 0.2660 - accuracy: 0.9775\n",
            "Epoch 144/200\n",
            "25/25 [==============================] - 0s 2ms/step - loss: 0.2602 - accuracy: 0.9850\n",
            "Epoch 145/200\n",
            "25/25 [==============================] - 0s 1ms/step - loss: 0.2558 - accuracy: 0.9825\n",
            "Epoch 146/200\n",
            "25/25 [==============================] - 0s 1ms/step - loss: 0.2518 - accuracy: 0.9825\n",
            "Epoch 147/200\n",
            "25/25 [==============================] - 0s 2ms/step - loss: 0.2485 - accuracy: 0.9825\n",
            "Epoch 148/200\n",
            "25/25 [==============================] - 0s 1ms/step - loss: 0.2438 - accuracy: 0.9875\n",
            "Epoch 149/200\n",
            "25/25 [==============================] - 0s 2ms/step - loss: 0.2397 - accuracy: 0.9875\n",
            "Epoch 150/200\n",
            "25/25 [==============================] - 0s 2ms/step - loss: 0.2368 - accuracy: 0.9875\n",
            "Epoch 151/200\n",
            "25/25 [==============================] - 0s 1ms/step - loss: 0.2324 - accuracy: 0.9887\n",
            "Epoch 152/200\n",
            "25/25 [==============================] - 0s 1ms/step - loss: 0.2288 - accuracy: 0.9850\n",
            "Epoch 153/200\n",
            "25/25 [==============================] - 0s 1ms/step - loss: 0.2256 - accuracy: 0.9862\n",
            "Epoch 154/200\n",
            "25/25 [==============================] - 0s 1ms/step - loss: 0.2215 - accuracy: 0.9887\n",
            "Epoch 155/200\n",
            "25/25 [==============================] - 0s 1ms/step - loss: 0.2177 - accuracy: 0.9862\n",
            "Epoch 156/200\n",
            "25/25 [==============================] - 0s 1ms/step - loss: 0.2149 - accuracy: 0.9887\n",
            "Epoch 157/200\n",
            "25/25 [==============================] - 0s 2ms/step - loss: 0.2114 - accuracy: 0.9875\n",
            "Epoch 158/200\n",
            "25/25 [==============================] - 0s 1ms/step - loss: 0.2079 - accuracy: 0.9887\n",
            "Epoch 159/200\n",
            "25/25 [==============================] - 0s 1ms/step - loss: 0.2048 - accuracy: 0.9912\n",
            "Epoch 160/200\n",
            "25/25 [==============================] - 0s 1ms/step - loss: 0.2020 - accuracy: 0.9875\n",
            "Epoch 161/200\n",
            "25/25 [==============================] - 0s 1ms/step - loss: 0.1991 - accuracy: 0.9900\n",
            "Epoch 162/200\n",
            "25/25 [==============================] - 0s 1ms/step - loss: 0.1959 - accuracy: 0.9875\n",
            "Epoch 163/200\n",
            "25/25 [==============================] - 0s 2ms/step - loss: 0.1933 - accuracy: 0.9900\n",
            "Epoch 164/200\n",
            "25/25 [==============================] - 0s 1ms/step - loss: 0.1907 - accuracy: 0.9887\n",
            "Epoch 165/200\n",
            "25/25 [==============================] - 0s 1ms/step - loss: 0.1872 - accuracy: 0.9875\n",
            "Epoch 166/200\n",
            "25/25 [==============================] - 0s 2ms/step - loss: 0.1848 - accuracy: 0.9912\n",
            "Epoch 167/200\n",
            "25/25 [==============================] - 0s 1ms/step - loss: 0.1826 - accuracy: 0.9875\n",
            "Epoch 168/200\n",
            "25/25 [==============================] - 0s 1ms/step - loss: 0.1795 - accuracy: 0.9900\n",
            "Epoch 169/200\n",
            "25/25 [==============================] - 0s 2ms/step - loss: 0.1771 - accuracy: 0.9900\n",
            "Epoch 170/200\n",
            "25/25 [==============================] - 0s 2ms/step - loss: 0.1747 - accuracy: 0.9925\n",
            "Epoch 171/200\n",
            "25/25 [==============================] - 0s 2ms/step - loss: 0.1721 - accuracy: 0.9875\n",
            "Epoch 172/200\n",
            "25/25 [==============================] - 0s 1ms/step - loss: 0.1697 - accuracy: 0.9925\n",
            "Epoch 173/200\n",
            "25/25 [==============================] - 0s 2ms/step - loss: 0.1674 - accuracy: 0.9900\n",
            "Epoch 174/200\n",
            "25/25 [==============================] - 0s 1ms/step - loss: 0.1656 - accuracy: 0.9912\n",
            "Epoch 175/200\n",
            "25/25 [==============================] - 0s 2ms/step - loss: 0.1630 - accuracy: 0.9900\n",
            "Epoch 176/200\n",
            "25/25 [==============================] - 0s 2ms/step - loss: 0.1613 - accuracy: 0.9900\n",
            "Epoch 177/200\n",
            "25/25 [==============================] - 0s 2ms/step - loss: 0.1586 - accuracy: 0.9925\n",
            "Epoch 178/200\n",
            "25/25 [==============================] - 0s 1ms/step - loss: 0.1563 - accuracy: 0.9912\n",
            "Epoch 179/200\n",
            "25/25 [==============================] - 0s 1ms/step - loss: 0.1544 - accuracy: 0.9912\n",
            "Epoch 180/200\n",
            "25/25 [==============================] - 0s 1ms/step - loss: 0.1524 - accuracy: 0.9912\n",
            "Epoch 181/200\n",
            "25/25 [==============================] - 0s 2ms/step - loss: 0.1509 - accuracy: 0.9925\n",
            "Epoch 182/200\n",
            "25/25 [==============================] - 0s 2ms/step - loss: 0.1484 - accuracy: 0.9887\n",
            "Epoch 183/200\n",
            "25/25 [==============================] - 0s 2ms/step - loss: 0.1466 - accuracy: 0.9912\n",
            "Epoch 184/200\n",
            "25/25 [==============================] - 0s 2ms/step - loss: 0.1443 - accuracy: 0.9925\n",
            "Epoch 185/200\n",
            "25/25 [==============================] - 0s 2ms/step - loss: 0.1431 - accuracy: 0.9912\n",
            "Epoch 186/200\n",
            "25/25 [==============================] - 0s 2ms/step - loss: 0.1408 - accuracy: 0.9937\n",
            "Epoch 187/200\n",
            "25/25 [==============================] - 0s 1ms/step - loss: 0.1391 - accuracy: 0.9925\n",
            "Epoch 188/200\n",
            "25/25 [==============================] - 0s 2ms/step - loss: 0.1378 - accuracy: 0.9912\n",
            "Epoch 189/200\n",
            "25/25 [==============================] - 0s 2ms/step - loss: 0.1357 - accuracy: 0.9925\n",
            "Epoch 190/200\n",
            "25/25 [==============================] - 0s 2ms/step - loss: 0.1342 - accuracy: 0.9912\n",
            "Epoch 191/200\n",
            "25/25 [==============================] - 0s 1ms/step - loss: 0.1323 - accuracy: 0.9900\n",
            "Epoch 192/200\n",
            "25/25 [==============================] - 0s 1ms/step - loss: 0.1308 - accuracy: 0.9925\n",
            "Epoch 193/200\n",
            "25/25 [==============================] - 0s 2ms/step - loss: 0.1289 - accuracy: 0.9925\n",
            "Epoch 194/200\n",
            "25/25 [==============================] - 0s 2ms/step - loss: 0.1276 - accuracy: 0.9925\n",
            "Epoch 195/200\n",
            "25/25 [==============================] - 0s 2ms/step - loss: 0.1262 - accuracy: 0.9937\n",
            "Epoch 196/200\n",
            "25/25 [==============================] - 0s 2ms/step - loss: 0.1246 - accuracy: 0.9912\n",
            "Epoch 197/200\n",
            "25/25 [==============================] - 0s 1ms/step - loss: 0.1234 - accuracy: 0.9937\n",
            "Epoch 198/200\n",
            "25/25 [==============================] - 0s 1ms/step - loss: 0.1217 - accuracy: 0.9912\n",
            "Epoch 199/200\n",
            "25/25 [==============================] - 0s 2ms/step - loss: 0.1200 - accuracy: 0.9925\n",
            "Epoch 200/200\n",
            "25/25 [==============================] - 0s 2ms/step - loss: 0.1186 - accuracy: 0.9925\n"
          ],
          "name": "stdout"
        }
      ]
    },
    {
      "cell_type": "code",
      "metadata": {
        "colab": {
          "base_uri": "https://localhost:8080/"
        },
        "id": "OheLkk5xnAZa",
        "outputId": "55e02dc9-1868-45ef-db31-cb888b06e60d"
      },
      "source": [
        "model_4.evaluate(X_train, y_train)"
      ],
      "execution_count": null,
      "outputs": [
        {
          "output_type": "stream",
          "text": [
            "25/25 [==============================] - 0s 1ms/step - loss: 0.1175 - accuracy: 0.9925\n"
          ],
          "name": "stdout"
        },
        {
          "output_type": "execute_result",
          "data": {
            "text/plain": [
              "[0.11746694892644882, 0.9925000071525574]"
            ]
          },
          "metadata": {
            "tags": []
          },
          "execution_count": 16
        }
      ]
    },
    {
      "cell_type": "code",
      "metadata": {
        "id": "Rr2AB7Vx_LWa"
      },
      "source": [
        "# lets try that model to learn faster."
      ],
      "execution_count": null,
      "outputs": []
    },
    {
      "cell_type": "code",
      "metadata": {
        "colab": {
          "base_uri": "https://localhost:8080/"
        },
        "id": "zQiX1Ru9_ba2",
        "outputId": "e8028434-2a58-4083-fc01-a60e4925b646"
      },
      "source": [
        "tf.random.set_seed(42)\n",
        "# create a model\n",
        "model_5=tf.keras.Sequential([\n",
        "                             tf.keras.layers.Dense(5,activation=tf.keras.activations.relu),\n",
        "                             tf.keras.layers.Dense(5,activation=tf.keras.activations.relu),\n",
        "                             tf.keras.layers.Dense(1,activation=tf.keras.activations.sigmoid)\n",
        "])\n",
        "\n",
        "#compile a model\n",
        "model_5.compile(loss=tf.keras.losses.BinaryCrossentropy(),\n",
        "                optimizer=tf.keras.optimizers.Adam(lr=0.01),\n",
        "                metrics=[\"accuracy\"])\n",
        "\n",
        "#fit the model\n",
        "history_5=model_5.fit(X_train,y_train,epochs=25)\n"
      ],
      "execution_count": null,
      "outputs": [
        {
          "output_type": "stream",
          "text": [
            "Epoch 1/25\n"
          ],
          "name": "stdout"
        },
        {
          "output_type": "stream",
          "text": [
            "/usr/local/lib/python3.7/dist-packages/tensorflow/python/keras/optimizer_v2/optimizer_v2.py:375: UserWarning: The `lr` argument is deprecated, use `learning_rate` instead.\n",
            "  \"The `lr` argument is deprecated, use `learning_rate` instead.\")\n"
          ],
          "name": "stderr"
        },
        {
          "output_type": "stream",
          "text": [
            "25/25 [==============================] - 0s 1ms/step - loss: 0.6902 - accuracy: 0.5250\n",
            "Epoch 2/25\n",
            "25/25 [==============================] - 0s 1ms/step - loss: 0.6840 - accuracy: 0.5138\n",
            "Epoch 3/25\n",
            "25/25 [==============================] - 0s 1ms/step - loss: 0.6785 - accuracy: 0.5738\n",
            "Epoch 4/25\n",
            "25/25 [==============================] - 0s 1ms/step - loss: 0.6726 - accuracy: 0.5688\n",
            "Epoch 5/25\n",
            "25/25 [==============================] - 0s 2ms/step - loss: 0.6594 - accuracy: 0.6000\n",
            "Epoch 6/25\n",
            "25/25 [==============================] - 0s 1ms/step - loss: 0.6450 - accuracy: 0.6100\n",
            "Epoch 7/25\n",
            "25/25 [==============================] - 0s 1ms/step - loss: 0.6249 - accuracy: 0.6862\n",
            "Epoch 8/25\n",
            "25/25 [==============================] - 0s 1ms/step - loss: 0.5890 - accuracy: 0.7725\n",
            "Epoch 9/25\n",
            "25/25 [==============================] - 0s 2ms/step - loss: 0.5387 - accuracy: 0.7837\n",
            "Epoch 10/25\n",
            "25/25 [==============================] - 0s 1ms/step - loss: 0.4599 - accuracy: 0.9137\n",
            "Epoch 11/25\n",
            "25/25 [==============================] - 0s 1ms/step - loss: 0.3647 - accuracy: 0.9538\n",
            "Epoch 12/25\n",
            "25/25 [==============================] - 0s 1ms/step - loss: 0.2666 - accuracy: 0.9812\n",
            "Epoch 13/25\n",
            "25/25 [==============================] - 0s 1ms/step - loss: 0.1926 - accuracy: 0.9950\n",
            "Epoch 14/25\n",
            "25/25 [==============================] - 0s 1ms/step - loss: 0.1405 - accuracy: 0.9950\n",
            "Epoch 15/25\n",
            "25/25 [==============================] - 0s 1ms/step - loss: 0.1091 - accuracy: 0.9937\n",
            "Epoch 16/25\n",
            "25/25 [==============================] - 0s 1ms/step - loss: 0.0925 - accuracy: 0.9962\n",
            "Epoch 17/25\n",
            "25/25 [==============================] - 0s 2ms/step - loss: 0.0776 - accuracy: 0.9950\n",
            "Epoch 18/25\n",
            "25/25 [==============================] - 0s 2ms/step - loss: 0.0644 - accuracy: 0.9937\n",
            "Epoch 19/25\n",
            "25/25 [==============================] - 0s 2ms/step - loss: 0.0595 - accuracy: 0.9937\n",
            "Epoch 20/25\n",
            "25/25 [==============================] - 0s 1ms/step - loss: 0.0556 - accuracy: 0.9962\n",
            "Epoch 21/25\n",
            "25/25 [==============================] - 0s 2ms/step - loss: 0.0489 - accuracy: 0.9925\n",
            "Epoch 22/25\n",
            "25/25 [==============================] - 0s 2ms/step - loss: 0.0406 - accuracy: 0.9987\n",
            "Epoch 23/25\n",
            "25/25 [==============================] - 0s 1ms/step - loss: 0.0434 - accuracy: 0.9900\n",
            "Epoch 24/25\n",
            "25/25 [==============================] - 0s 1ms/step - loss: 0.0361 - accuracy: 0.9975\n",
            "Epoch 25/25\n",
            "25/25 [==============================] - 0s 1ms/step - loss: 0.0355 - accuracy: 0.9975\n"
          ],
          "name": "stdout"
        }
      ]
    },
    {
      "cell_type": "code",
      "metadata": {
        "colab": {
          "base_uri": "https://localhost:8080/",
          "height": 298
        },
        "id": "BsTf1kgAATB-",
        "outputId": "9c41438b-ef13-4c84-dbe5-15bda243ede4"
      },
      "source": [
        "pd.DataFrame(history_5.history).plot()\n",
        "model_5.evaluate(X_test,y_test)\n"
      ],
      "execution_count": null,
      "outputs": [
        {
          "output_type": "stream",
          "text": [
            "7/7 [==============================] - 0s 2ms/step - loss: 0.0309 - accuracy: 0.9950\n"
          ],
          "name": "stdout"
        },
        {
          "output_type": "execute_result",
          "data": {
            "text/plain": [
              "[0.03091532737016678, 0.9950000047683716]"
            ]
          },
          "metadata": {
            "tags": []
          },
          "execution_count": 19
        },
        {
          "output_type": "display_data",
          "data": {
            "image/png": "[encoded data removed]",
            "text/plain": [
              "<Figure size 432x288 with 1 Axes>"
            ]
          },
          "metadata": {
            "tags": [],
            "needs_background": "light"
          }
        }
      ]
    },
    {
      "cell_type": "markdown",
      "metadata": {
        "id": "kUqCqA6jAhOd"
      },
      "source": [
        "**Learning Rate effect:**\n",
        "\n",
        "So just by increasing the learning rate by 10% we are able to trian the model in 1/10th of epochs. \n",
        "\n"
      ]
    },
    {
      "cell_type": "markdown",
      "metadata": {
        "id": "kl18OTySWFJG"
      },
      "source": [
        "#Confusion matrix"
      ]
    },
    {
      "cell_type": "code",
      "metadata": {
        "colab": {
          "base_uri": "https://localhost:8080/"
        },
        "id": "sh-8bLaBWgeU",
        "outputId": "51141650-c81e-4641-8a22-9e825ef95848"
      },
      "source": [
        "y_pred = model_5.predict(X_test)\n",
        "\n",
        "model_5.evaluate(X_test,y_test)"
      ],
      "execution_count": null,
      "outputs": [
        {
          "output_type": "stream",
          "text": [
            "7/7 [==============================] - 0s 2ms/step - loss: 0.0309 - accuracy: 0.9950\n"
          ],
          "name": "stdout"
        },
        {
          "output_type": "execute_result",
          "data": {
            "text/plain": [
              "[0.03091532737016678, 0.9950000047683716]"
            ]
          },
          "metadata": {
            "tags": []
          },
          "execution_count": 20
        }
      ]
    },
    {
      "cell_type": "code",
      "metadata": {
        "colab": {
          "base_uri": "https://localhost:8080/"
        },
        "id": "tnzz4OqiW5d1",
        "outputId": "0f3e14e7-6613-48e9-b2ca-2f41fe404262"
      },
      "source": [
        "tf.math.confusion_matrix(y_test,y_pred)"
      ],
      "execution_count": null,
      "outputs": [
        {
          "output_type": "execute_result",
          "data": {
            "text/plain": [
              "<tf.Tensor: shape=(2, 2), dtype=int32, numpy=\n",
              "array([[ 96,   0],\n",
              "       [104,   0]], dtype=int32)>"
            ]
          },
          "metadata": {
            "tags": []
          },
          "execution_count": 21
        }
      ]
    },
    {
      "cell_type": "markdown",
      "metadata": {
        "id": "oX7U30G3XLgs"
      },
      "source": [
        "Now this is showing very high false negative case. However accuracy is quite high\n",
        "\n",
        "**Are we missing some thing?**"
      ]
    },
    {
      "cell_type": "code",
      "metadata": {
        "colab": {
          "base_uri": "https://localhost:8080/"
        },
        "id": "Muybr31rXk9k",
        "outputId": "24786ada-7899-48f7-eee3-845aef0ffbca"
      },
      "source": [
        "y_pred, y_test\n"
      ],
      "execution_count": null,
      "outputs": [
        {
          "output_type": "execute_result",
          "data": {
            "text/plain": [
              "(array([[8.96117926e-01],\n",
              "        [9.71792817e-01],\n",
              "        [9.86472607e-01],\n",
              "        [9.66189504e-01],\n",
              "        [9.90426302e-01],\n",
              "        [5.79968095e-03],\n",
              "        [1.44277215e-02],\n",
              "        [9.97489095e-01],\n",
              "        [7.70702958e-03],\n",
              "        [9.99608159e-01],\n",
              "        [9.99549687e-01],\n",
              "        [9.88307059e-01],\n",
              "        [9.98883307e-01],\n",
              "        [1.32054090e-04],\n",
              "        [9.65618908e-01],\n",
              "        [1.84984207e-02],\n",
              "        [9.71078157e-01],\n",
              "        [3.82921100e-03],\n",
              "        [9.82292652e-01],\n",
              "        [9.96159852e-01],\n",
              "        [9.85738397e-01],\n",
              "        [1.34116411e-03],\n",
              "        [1.95696950e-03],\n",
              "        [9.15015638e-02],\n",
              "        [9.47417676e-01],\n",
              "        [9.98877943e-01],\n",
              "        [9.88709927e-01],\n",
              "        [7.75426626e-04],\n",
              "        [4.03416157e-03],\n",
              "        [6.69568777e-04],\n",
              "        [9.99101758e-01],\n",
              "        [1.64144933e-02],\n",
              "        [9.24653649e-01],\n",
              "        [9.48586583e-01],\n",
              "        [9.73206758e-01],\n",
              "        [5.83589077e-04],\n",
              "        [2.34097242e-04],\n",
              "        [4.55655754e-02],\n",
              "        [1.89870596e-04],\n",
              "        [3.74954939e-03],\n",
              "        [7.27826357e-03],\n",
              "        [9.95193124e-01],\n",
              "        [9.94333029e-01],\n",
              "        [9.61050868e-01],\n",
              "        [1.54550672e-02],\n",
              "        [7.55405426e-03],\n",
              "        [9.96904850e-01],\n",
              "        [9.98647690e-01],\n",
              "        [9.79304552e-01],\n",
              "        [1.11091435e-02],\n",
              "        [9.96672273e-01],\n",
              "        [9.18647349e-02],\n",
              "        [9.80689824e-01],\n",
              "        [8.05863738e-03],\n",
              "        [1.17389977e-01],\n",
              "        [2.18248367e-03],\n",
              "        [9.33833241e-01],\n",
              "        [1.78047299e-01],\n",
              "        [9.97400165e-01],\n",
              "        [9.96622086e-01],\n",
              "        [9.49794173e-01],\n",
              "        [9.76677299e-01],\n",
              "        [2.39464045e-02],\n",
              "        [1.28385425e-03],\n",
              "        [3.17910910e-02],\n",
              "        [9.98463631e-01],\n",
              "        [4.66046929e-02],\n",
              "        [9.68982518e-01],\n",
              "        [1.12718344e-03],\n",
              "        [7.02464581e-03],\n",
              "        [1.75913215e-01],\n",
              "        [6.70833588e-02],\n",
              "        [7.46220350e-04],\n",
              "        [9.94452596e-01],\n",
              "        [5.37031889e-03],\n",
              "        [1.19926006e-01],\n",
              "        [9.11954165e-01],\n",
              "        [9.86409068e-01],\n",
              "        [9.99192595e-01],\n",
              "        [1.55144930e-03],\n",
              "        [1.60683692e-02],\n",
              "        [9.82777357e-01],\n",
              "        [9.89405036e-01],\n",
              "        [9.97777343e-01],\n",
              "        [1.81463361e-03],\n",
              "        [3.05434167e-02],\n",
              "        [3.95408273e-03],\n",
              "        [9.95782018e-01],\n",
              "        [9.90764976e-01],\n",
              "        [9.44506049e-01],\n",
              "        [7.14063644e-04],\n",
              "        [9.89970326e-01],\n",
              "        [6.92555308e-03],\n",
              "        [9.86033082e-01],\n",
              "        [5.64253330e-03],\n",
              "        [9.37933683e-01],\n",
              "        [1.02153420e-03],\n",
              "        [9.74542320e-01],\n",
              "        [9.95887280e-01],\n",
              "        [6.16163015e-03],\n",
              "        [6.65903091e-04],\n",
              "        [9.56656396e-01],\n",
              "        [9.52192664e-01],\n",
              "        [3.33577394e-03],\n",
              "        [9.99711692e-01],\n",
              "        [9.89378452e-01],\n",
              "        [3.75556946e-03],\n",
              "        [9.94025469e-01],\n",
              "        [3.67993116e-03],\n",
              "        [1.16816875e-04],\n",
              "        [3.66058648e-02],\n",
              "        [8.82159591e-01],\n",
              "        [1.48048699e-02],\n",
              "        [9.91228223e-01],\n",
              "        [9.89530563e-01],\n",
              "        [8.75867128e-01],\n",
              "        [9.88087595e-01],\n",
              "        [9.60973501e-01],\n",
              "        [3.58174145e-02],\n",
              "        [9.52262759e-01],\n",
              "        [5.17842174e-03],\n",
              "        [9.86878157e-01],\n",
              "        [9.45364594e-01],\n",
              "        [1.20389760e-02],\n",
              "        [3.75329852e-02],\n",
              "        [9.71233368e-01],\n",
              "        [8.43123376e-01],\n",
              "        [1.75725222e-02],\n",
              "        [3.23893964e-01],\n",
              "        [9.94746685e-01],\n",
              "        [9.33656573e-01],\n",
              "        [3.54140997e-04],\n",
              "        [8.63072038e-01],\n",
              "        [5.67144752e-02],\n",
              "        [1.33137167e-01],\n",
              "        [9.92009878e-01],\n",
              "        [2.16431618e-02],\n",
              "        [2.30109692e-03],\n",
              "        [9.98730540e-01],\n",
              "        [9.19312239e-04],\n",
              "        [9.97222006e-01],\n",
              "        [6.17533922e-03],\n",
              "        [9.67911720e-01],\n",
              "        [1.69319808e-02],\n",
              "        [9.81200874e-01],\n",
              "        [9.98076200e-01],\n",
              "        [9.74711418e-01],\n",
              "        [3.80471349e-03],\n",
              "        [9.77226257e-01],\n",
              "        [9.89976525e-01],\n",
              "        [9.89516258e-01],\n",
              "        [1.43337250e-03],\n",
              "        [9.98021305e-01],\n",
              "        [9.94138837e-01],\n",
              "        [8.68635654e-01],\n",
              "        [9.96437907e-01],\n",
              "        [2.28759646e-02],\n",
              "        [1.84729695e-03],\n",
              "        [9.93674040e-01],\n",
              "        [4.80736196e-02],\n",
              "        [9.79837537e-01],\n",
              "        [9.98040438e-01],\n",
              "        [1.64052844e-03],\n",
              "        [9.99519825e-01],\n",
              "        [5.71060479e-02],\n",
              "        [4.13894653e-03],\n",
              "        [5.34694195e-01],\n",
              "        [9.95891392e-01],\n",
              "        [9.31823730e-01],\n",
              "        [1.21204853e-02],\n",
              "        [9.95284677e-01],\n",
              "        [4.55090404e-03],\n",
              "        [6.75708055e-04],\n",
              "        [9.93156314e-01],\n",
              "        [6.82512546e-05],\n",
              "        [5.43838441e-02],\n",
              "        [7.57813454e-03],\n",
              "        [1.87191367e-03],\n",
              "        [9.93383288e-01],\n",
              "        [9.90761399e-01],\n",
              "        [1.94582343e-03],\n",
              "        [1.15802884e-03],\n",
              "        [2.11882591e-03],\n",
              "        [4.74239886e-02],\n",
              "        [1.00129247e-02],\n",
              "        [1.18765235e-03],\n",
              "        [2.82226920e-01],\n",
              "        [9.90340710e-01],\n",
              "        [9.28609967e-01],\n",
              "        [3.46541405e-04],\n",
              "        [1.61075592e-03],\n",
              "        [1.13210082e-03],\n",
              "        [9.95427489e-01],\n",
              "        [9.98484731e-01],\n",
              "        [9.98558044e-01],\n",
              "        [9.87656593e-01],\n",
              "        [9.98870492e-01],\n",
              "        [9.85187590e-01],\n",
              "        [9.79732156e-01],\n",
              "        [1.01391673e-02]], dtype=float32), 521    1\n",
              " 737    1\n",
              " 740    1\n",
              " 660    1\n",
              " 411    1\n",
              "       ..\n",
              " 408    1\n",
              " 332    1\n",
              " 208    1\n",
              " 613    1\n",
              " 78     0\n",
              " Name: Label, Length: 200, dtype: int64)"
            ]
          },
          "metadata": {
            "tags": []
          },
          "execution_count": 22
        }
      ]
    },
    {
      "cell_type": "markdown",
      "metadata": {
        "id": "_oFvP8yXX60E"
      },
      "source": [
        "So one is having probability and other is in binary. Cool"
      ]
    },
    {
      "cell_type": "code",
      "metadata": {
        "colab": {
          "base_uri": "https://localhost:8080/"
        },
        "id": "zVdNl8DJYAtD",
        "outputId": "f4e6a29f-a144-4564-d233-7fb16e514c55"
      },
      "source": [
        "y_pred = tf.round(y_pred)\n",
        "y_pred"
      ],
      "execution_count": null,
      "outputs": [
        {
          "output_type": "execute_result",
          "data": {
            "text/plain": [
              "<tf.Tensor: shape=(200, 1), dtype=float32, numpy=\n",
              "array([[1.],\n",
              "       [1.],\n",
              "       [1.],\n",
              "       [1.],\n",
              "       [1.],\n",
              "       [0.],\n",
              "       [0.],\n",
              "       [1.],\n",
              "       [0.],\n",
              "       [1.],\n",
              "       [1.],\n",
              "       [1.],\n",
              "       [1.],\n",
              "       [0.],\n",
              "       [1.],\n",
              "       [0.],\n",
              "       [1.],\n",
              "       [0.],\n",
              "       [1.],\n",
              "       [1.],\n",
              "       [1.],\n",
              "       [0.],\n",
              "       [0.],\n",
              "       [0.],\n",
              "       [1.],\n",
              "       [1.],\n",
              "       [1.],\n",
              "       [0.],\n",
              "       [0.],\n",
              "       [0.],\n",
              "       [1.],\n",
              "       [0.],\n",
              "       [1.],\n",
              "       [1.],\n",
              "       [1.],\n",
              "       [0.],\n",
              "       [0.],\n",
              "       [0.],\n",
              "       [0.],\n",
              "       [0.],\n",
              "       [0.],\n",
              "       [1.],\n",
              "       [1.],\n",
              "       [1.],\n",
              "       [0.],\n",
              "       [0.],\n",
              "       [1.],\n",
              "       [1.],\n",
              "       [1.],\n",
              "       [0.],\n",
              "       [1.],\n",
              "       [0.],\n",
              "       [1.],\n",
              "       [0.],\n",
              "       [0.],\n",
              "       [0.],\n",
              "       [1.],\n",
              "       [0.],\n",
              "       [1.],\n",
              "       [1.],\n",
              "       [1.],\n",
              "       [1.],\n",
              "       [0.],\n",
              "       [0.],\n",
              "       [0.],\n",
              "       [1.],\n",
              "       [0.],\n",
              "       [1.],\n",
              "       [0.],\n",
              "       [0.],\n",
              "       [0.],\n",
              "       [0.],\n",
              "       [0.],\n",
              "       [1.],\n",
              "       [0.],\n",
              "       [0.],\n",
              "       [1.],\n",
              "       [1.],\n",
              "       [1.],\n",
              "       [0.],\n",
              "       [0.],\n",
              "       [1.],\n",
              "       [1.],\n",
              "       [1.],\n",
              "       [0.],\n",
              "       [0.],\n",
              "       [0.],\n",
              "       [1.],\n",
              "       [1.],\n",
              "       [1.],\n",
              "       [0.],\n",
              "       [1.],\n",
              "       [0.],\n",
              "       [1.],\n",
              "       [0.],\n",
              "       [1.],\n",
              "       [0.],\n",
              "       [1.],\n",
              "       [1.],\n",
              "       [0.],\n",
              "       [0.],\n",
              "       [1.],\n",
              "       [1.],\n",
              "       [0.],\n",
              "       [1.],\n",
              "       [1.],\n",
              "       [0.],\n",
              "       [1.],\n",
              "       [0.],\n",
              "       [0.],\n",
              "       [0.],\n",
              "       [1.],\n",
              "       [0.],\n",
              "       [1.],\n",
              "       [1.],\n",
              "       [1.],\n",
              "       [1.],\n",
              "       [1.],\n",
              "       [0.],\n",
              "       [1.],\n",
              "       [0.],\n",
              "       [1.],\n",
              "       [1.],\n",
              "       [0.],\n",
              "       [0.],\n",
              "       [1.],\n",
              "       [1.],\n",
              "       [0.],\n",
              "       [0.],\n",
              "       [1.],\n",
              "       [1.],\n",
              "       [0.],\n",
              "       [1.],\n",
              "       [0.],\n",
              "       [0.],\n",
              "       [1.],\n",
              "       [0.],\n",
              "       [0.],\n",
              "       [1.],\n",
              "       [0.],\n",
              "       [1.],\n",
              "       [0.],\n",
              "       [1.],\n",
              "       [0.],\n",
              "       [1.],\n",
              "       [1.],\n",
              "       [1.],\n",
              "       [0.],\n",
              "       [1.],\n",
              "       [1.],\n",
              "       [1.],\n",
              "       [0.],\n",
              "       [1.],\n",
              "       [1.],\n",
              "       [1.],\n",
              "       [1.],\n",
              "       [0.],\n",
              "       [0.],\n",
              "       [1.],\n",
              "       [0.],\n",
              "       [1.],\n",
              "       [1.],\n",
              "       [0.],\n",
              "       [1.],\n",
              "       [0.],\n",
              "       [0.],\n",
              "       [1.],\n",
              "       [1.],\n",
              "       [1.],\n",
              "       [0.],\n",
              "       [1.],\n",
              "       [0.],\n",
              "       [0.],\n",
              "       [1.],\n",
              "       [0.],\n",
              "       [0.],\n",
              "       [0.],\n",
              "       [0.],\n",
              "       [1.],\n",
              "       [1.],\n",
              "       [0.],\n",
              "       [0.],\n",
              "       [0.],\n",
              "       [0.],\n",
              "       [0.],\n",
              "       [0.],\n",
              "       [0.],\n",
              "       [1.],\n",
              "       [1.],\n",
              "       [0.],\n",
              "       [0.],\n",
              "       [0.],\n",
              "       [1.],\n",
              "       [1.],\n",
              "       [1.],\n",
              "       [1.],\n",
              "       [1.],\n",
              "       [1.],\n",
              "       [1.],\n",
              "       [0.]], dtype=float32)>"
            ]
          },
          "metadata": {
            "tags": []
          },
          "execution_count": 23
        }
      ]
    },
    {
      "cell_type": "code",
      "metadata": {
        "colab": {
          "base_uri": "https://localhost:8080/"
        },
        "id": "764qb3bYYQSN",
        "outputId": "f001c996-5982-4f4e-b35b-5ebec1bcc95f"
      },
      "source": [
        "tf.math.confusion_matrix(y_test, y_pred)"
      ],
      "execution_count": null,
      "outputs": [
        {
          "output_type": "execute_result",
          "data": {
            "text/plain": [
              "<tf.Tensor: shape=(2, 2), dtype=int32, numpy=\n",
              "array([[ 95,   1],\n",
              "       [  0, 104]], dtype=int32)>"
            ]
          },
          "metadata": {
            "tags": []
          },
          "execution_count": 24
        }
      ]
    },
    {
      "cell_type": "markdown",
      "metadata": {
        "id": "JwbBD5leYYkk"
      },
      "source": [
        "Now it make sense"
      ]
    },
    {
      "cell_type": "markdown",
      "metadata": {
        "id": "rog0Y3TNcHnh"
      },
      "source": [
        "#Lets work on larger data sets\n",
        "* work on fashion data set from keras for multiclass classificaiton"
      ]
    },
    {
      "cell_type": "code",
      "metadata": {
        "id": "N7PJAE8TcLiQ",
        "colab": {
          "base_uri": "https://localhost:8080/"
        },
        "outputId": "ede0a920-38b7-4c59-aed7-a072e1521d9e"
      },
      "source": [
        "import tensorflow as tf\n",
        "\n",
        "fashion_data = tf.keras.datasets.fashion_mnist\n",
        "# Data is already split in train and test \n",
        "(X_train,y_train),(X_test ,y_test) = fashion_data.load_data()"
      ],
      "execution_count": null,
      "outputs": [
        {
          "output_type": "stream",
          "text": [
            "Downloading data from https://storage.googleapis.com/tensorflow/tf-keras-datasets/train-labels-idx1-ubyte.gz\n",
            "32768/29515 [=================================] - 0s 0us/step\n",
            "Downloading data from https://storage.googleapis.com/tensorflow/tf-keras-datasets/train-images-idx3-ubyte.gz\n",
            "26427392/26421880 [==============================] - 0s 0us/step\n",
            "Downloading data from https://storage.googleapis.com/tensorflow/tf-keras-datasets/t10k-labels-idx1-ubyte.gz\n",
            "8192/5148 [===============================================] - 0s 0us/step\n",
            "Downloading data from https://storage.googleapis.com/tensorflow/tf-keras-datasets/t10k-images-idx3-ubyte.gz\n",
            "4423680/4422102 [==============================] - 0s 0us/step\n"
          ],
          "name": "stdout"
        }
      ]
    },
    {
      "cell_type": "code",
      "metadata": {
        "colab": {
          "base_uri": "https://localhost:8080/",
          "height": 281
        },
        "id": "yHR7jA_ydiev",
        "outputId": "4c97d9fe-ff7a-46d8-9aeb-5cff454e0c4e"
      },
      "source": [
        "import matplotlib.pyplot as plt\n",
        "\n",
        "plt.imshow(X_train[20])\n",
        "plt.show()\n",
        "\n",
        "print(\"label : {}\".format(y_train[20]))\n",
        "\n"
      ],
      "execution_count": null,
      "outputs": [
        {
          "output_type": "display_data",
          "data": {
            "image/png": "[encoded data removed]",
            "text/plain": [
              "<Figure size 432x288 with 1 Axes>"
            ]
          },
          "metadata": {
            "tags": [],
            "needs_background": "light"
          }
        },
        {
          "output_type": "stream",
          "text": [
            "label : 3\n"
          ],
          "name": "stdout"
        }
      ]
    },
    {
      "cell_type": "code",
      "metadata": {
        "id": "HfEntvctrEHW"
      },
      "source": [
        "class_names = ['T-shirt/top', 'Trouser', 'Pullover', 'Dress', 'Coat',\n",
        "               'Sandal', 'Shirt', 'Sneaker', 'Bag', 'Ankle boot']"
      ],
      "execution_count": null,
      "outputs": []
    }
  ]
}