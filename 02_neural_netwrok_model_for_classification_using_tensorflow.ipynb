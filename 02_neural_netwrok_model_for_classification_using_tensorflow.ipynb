{
  "nbformat": 4,
  "nbformat_minor": 0,
  "metadata": {
    "colab": {
      "name": "02_neural_netwrok_model_for_classification using_tensorflow.ipynb",
      "provenance": [],
      "collapsed_sections": [],
      "authorship_tag": "ABX9TyNBpsAmlPJL62CnijybVY8T",
      "include_colab_link": true
    },
    "kernelspec": {
      "name": "python3",
      "display_name": "Python 3"
    },
    "language_info": {
      "name": "python"
    }
  },
  "cells": [
    {
      "cell_type": "markdown",
      "metadata": {
        "id": "view-in-github",
        "colab_type": "text"
      },
      "source": [
        "<a href=\"https://colab.research.google.com/github/hrushikute/DataAnalytics/blob/master/02_neural_netwrok_model_for_classification_using_tensorflow.ipynb\" target=\"_parent\"><img src=\"https://colab.research.google.com/assets/colab-badge.svg\" alt=\"Open In Colab\"/></a>"
      ]
    },
    {
      "cell_type": "markdown",
      "metadata": {
        "id": "HtPSX7-qvX04"
      },
      "source": [
        "#Usually There type fo classificaiton\n",
        "1. Binary Classification\n",
        "2. Multiclass classification\n",
        "3. Multilabel Classification\n"
      ]
    },
    {
      "cell_type": "code",
      "metadata": {
        "id": "jvMmsBYGv6u6"
      },
      "source": [
        "# Lets get the data for calssisfication\n",
        "\n",
        "from sklearn.datasets import make_circles"
      ],
      "execution_count": 2,
      "outputs": []
    },
    {
      "cell_type": "code",
      "metadata": {
        "id": "W8i22cabwdHM"
      },
      "source": [
        "#samples \n",
        "n_samples=1000\n",
        "\n",
        "#create data \n",
        "X,y = make_circles(n_samples,noise=0.03)\n"
      ],
      "execution_count": 3,
      "outputs": []
    },
    {
      "cell_type": "code",
      "metadata": {
        "colab": {
          "base_uri": "https://localhost:8080/"
        },
        "id": "xxpLPeN8wtaV",
        "outputId": "694d5633-a8f8-434f-dcc2-c02c3b4bed4a"
      },
      "source": [
        "X,y"
      ],
      "execution_count": 4,
      "outputs": [
        {
          "output_type": "execute_result",
          "data": {
            "text/plain": [
              "(array([[ 0.48908746, -0.68181471],\n",
              "        [ 0.51727246, -0.63410993],\n",
              "        [ 0.78425579, -0.19997562],\n",
              "        ...,\n",
              "        [ 1.03041479, -0.02965706],\n",
              "        [-0.6613374 , -0.44951063],\n",
              "        [ 0.2002521 ,  0.95930472]]),\n",
              " array([1, 1, 1, 0, 1, 1, 0, 0, 1, 1, 0, 0, 0, 0, 1, 1, 1, 1, 0, 1, 0, 0,\n",
              "        1, 0, 0, 0, 1, 0, 0, 1, 0, 0, 0, 0, 1, 0, 0, 1, 0, 1, 1, 0, 1, 0,\n",
              "        0, 0, 1, 0, 1, 1, 1, 0, 1, 1, 1, 0, 0, 1, 1, 1, 0, 0, 0, 0, 0, 0,\n",
              "        1, 1, 1, 0, 0, 1, 0, 1, 1, 1, 1, 1, 1, 1, 1, 1, 0, 0, 1, 0, 1, 0,\n",
              "        0, 0, 0, 1, 0, 1, 1, 1, 0, 1, 0, 1, 1, 0, 1, 0, 1, 1, 0, 1, 0, 1,\n",
              "        1, 0, 1, 0, 1, 0, 1, 1, 0, 1, 0, 0, 1, 1, 0, 0, 1, 0, 1, 1, 0, 1,\n",
              "        1, 0, 0, 0, 0, 0, 0, 1, 0, 0, 1, 0, 1, 0, 1, 1, 0, 0, 0, 0, 1, 1,\n",
              "        1, 0, 1, 1, 1, 1, 1, 1, 0, 1, 1, 1, 0, 1, 0, 1, 0, 1, 1, 1, 0, 1,\n",
              "        1, 1, 1, 0, 1, 0, 0, 0, 1, 0, 1, 0, 0, 1, 1, 0, 1, 1, 0, 1, 1, 0,\n",
              "        0, 1, 1, 0, 0, 1, 1, 0, 1, 0, 1, 1, 1, 1, 0, 0, 1, 0, 1, 1, 1, 1,\n",
              "        1, 0, 0, 0, 0, 1, 0, 0, 0, 1, 1, 0, 1, 0, 0, 0, 0, 0, 1, 1, 0, 0,\n",
              "        1, 0, 1, 0, 1, 0, 0, 1, 1, 1, 0, 1, 1, 1, 0, 0, 1, 1, 0, 1, 1, 1,\n",
              "        1, 0, 1, 0, 1, 1, 0, 0, 1, 0, 0, 1, 0, 1, 0, 1, 1, 0, 1, 1, 1, 0,\n",
              "        1, 1, 1, 1, 0, 1, 0, 0, 0, 0, 0, 1, 0, 0, 1, 1, 0, 1, 1, 1, 1, 1,\n",
              "        1, 0, 0, 1, 0, 0, 0, 0, 1, 1, 1, 0, 0, 1, 0, 1, 0, 1, 0, 1, 1, 1,\n",
              "        1, 1, 0, 1, 0, 1, 0, 0, 0, 1, 1, 0, 0, 0, 0, 1, 0, 0, 1, 1, 0, 0,\n",
              "        1, 0, 1, 0, 1, 1, 0, 1, 1, 1, 1, 0, 1, 1, 0, 0, 0, 0, 0, 1, 1, 0,\n",
              "        0, 0, 1, 1, 1, 0, 1, 1, 0, 0, 1, 1, 1, 1, 0, 0, 0, 1, 1, 1, 1, 1,\n",
              "        0, 1, 1, 1, 0, 1, 0, 0, 0, 1, 1, 0, 1, 0, 0, 0, 0, 0, 1, 0, 1, 0,\n",
              "        1, 0, 1, 1, 1, 0, 1, 1, 0, 0, 1, 0, 0, 0, 0, 0, 0, 1, 0, 1, 0, 0,\n",
              "        0, 0, 1, 0, 0, 1, 1, 0, 1, 1, 0, 1, 0, 0, 0, 1, 1, 0, 0, 1, 1, 0,\n",
              "        0, 1, 0, 0, 1, 0, 1, 0, 1, 0, 0, 0, 1, 0, 1, 0, 1, 0, 0, 1, 1, 1,\n",
              "        1, 0, 0, 1, 0, 1, 1, 0, 1, 1, 0, 0, 1, 1, 1, 1, 1, 0, 0, 1, 1, 0,\n",
              "        0, 1, 1, 0, 0, 0, 0, 1, 0, 1, 1, 1, 0, 1, 0, 1, 1, 1, 0, 0, 0, 0,\n",
              "        0, 0, 1, 1, 1, 0, 0, 1, 0, 0, 1, 0, 0, 1, 1, 1, 0, 0, 0, 1, 0, 1,\n",
              "        0, 1, 1, 0, 0, 0, 0, 1, 1, 0, 1, 1, 0, 0, 1, 0, 0, 1, 0, 0, 1, 1,\n",
              "        1, 0, 0, 0, 1, 0, 1, 1, 0, 0, 0, 0, 0, 0, 0, 1, 0, 0, 1, 0, 1, 0,\n",
              "        1, 1, 0, 0, 1, 1, 0, 1, 0, 0, 0, 0, 0, 1, 0, 0, 0, 1, 0, 0, 1, 0,\n",
              "        0, 1, 1, 1, 0, 1, 1, 0, 1, 1, 0, 1, 1, 0, 1, 1, 1, 0, 1, 1, 1, 0,\n",
              "        0, 1, 0, 1, 0, 0, 0, 1, 1, 1, 1, 0, 0, 0, 0, 0, 1, 0, 0, 1, 1, 0,\n",
              "        1, 0, 0, 1, 0, 0, 1, 1, 1, 1, 1, 0, 0, 0, 0, 1, 0, 1, 1, 0, 1, 1,\n",
              "        0, 0, 1, 1, 0, 0, 0, 1, 1, 1, 0, 0, 1, 0, 0, 0, 1, 0, 0, 1, 0, 0,\n",
              "        1, 0, 1, 1, 0, 1, 0, 1, 1, 1, 1, 1, 1, 0, 1, 0, 1, 0, 0, 0, 0, 0,\n",
              "        1, 1, 0, 0, 1, 1, 0, 0, 1, 0, 0, 1, 1, 0, 1, 0, 0, 0, 1, 0, 0, 1,\n",
              "        1, 1, 1, 1, 0, 0, 1, 1, 0, 0, 0, 0, 1, 0, 1, 0, 0, 1, 0, 0, 1, 0,\n",
              "        0, 0, 0, 0, 0, 1, 1, 0, 0, 0, 0, 0, 0, 0, 0, 0, 0, 0, 1, 1, 0, 0,\n",
              "        0, 1, 1, 0, 1, 1, 1, 1, 0, 1, 1, 1, 0, 1, 0, 0, 0, 1, 1, 0, 1, 0,\n",
              "        1, 1, 1, 0, 1, 0, 1, 1, 1, 1, 1, 1, 0, 0, 0, 0, 1, 1, 0, 0, 0, 1,\n",
              "        0, 0, 1, 0, 1, 0, 0, 0, 0, 1, 1, 1, 1, 0, 0, 0, 1, 1, 1, 0, 1, 0,\n",
              "        1, 0, 1, 1, 0, 1, 1, 1, 0, 0, 1, 0, 1, 0, 1, 0, 0, 1, 1, 1, 1, 1,\n",
              "        1, 1, 0, 1, 0, 1, 0, 0, 1, 0, 1, 1, 0, 0, 1, 0, 1, 1, 0, 1, 0, 1,\n",
              "        1, 1, 0, 1, 1, 0, 0, 0, 0, 1, 0, 1, 0, 0, 0, 0, 1, 1, 0, 0, 1, 0,\n",
              "        1, 1, 0, 0, 1, 0, 0, 1, 1, 0, 0, 0, 0, 1, 1, 1, 1, 1, 1, 0, 1, 1,\n",
              "        1, 1, 0, 1, 0, 1, 0, 0, 0, 1, 1, 0, 0, 1, 0, 1, 0, 1, 1, 0, 0, 0,\n",
              "        1, 1, 1, 1, 1, 0, 1, 0, 0, 0, 1, 0, 1, 1, 0, 1, 1, 0, 1, 0, 0, 1,\n",
              "        1, 1, 1, 0, 1, 1, 0, 0, 1, 0]))"
            ]
          },
          "metadata": {
            "tags": []
          },
          "execution_count": 4
        }
      ]
    },
    {
      "cell_type": "code",
      "metadata": {
        "colab": {
          "base_uri": "https://localhost:8080/",
          "height": 202
        },
        "id": "ygPTUBO5wwW1",
        "outputId": "284fd657-5228-40c7-b078-c11c8b5a1de9"
      },
      "source": [
        "import pandas as pd\n",
        "circle_data = pd.DataFrame({\"X0\":X[:,0],\"X1\":X[:,1],\"Label\":y})\n",
        "circle_data.head()"
      ],
      "execution_count": 5,
      "outputs": [
        {
          "output_type": "execute_result",
          "data": {
            "text/html": [
              "<div>\n",
              "<style scoped>\n",
              "    .dataframe tbody tr th:only-of-type {\n",
              "        vertical-align: middle;\n",
              "    }\n",
              "\n",
              "    .dataframe tbody tr th {\n",
              "        vertical-align: top;\n",
              "    }\n",
              "\n",
              "    .dataframe thead th {\n",
              "        text-align: right;\n",
              "    }\n",
              "</style>\n",
              "<table border=\"1\" class=\"dataframe\">\n",
              "  <thead>\n",
              "    <tr style=\"text-align: right;\">\n",
              "      <th></th>\n",
              "      <th>X0</th>\n",
              "      <th>X1</th>\n",
              "      <th>Label</th>\n",
              "    </tr>\n",
              "  </thead>\n",
              "  <tbody>\n",
              "    <tr>\n",
              "      <th>0</th>\n",
              "      <td>0.489087</td>\n",
              "      <td>-0.681815</td>\n",
              "      <td>1</td>\n",
              "    </tr>\n",
              "    <tr>\n",
              "      <th>1</th>\n",
              "      <td>0.517272</td>\n",
              "      <td>-0.634110</td>\n",
              "      <td>1</td>\n",
              "    </tr>\n",
              "    <tr>\n",
              "      <th>2</th>\n",
              "      <td>0.784256</td>\n",
              "      <td>-0.199976</td>\n",
              "      <td>1</td>\n",
              "    </tr>\n",
              "    <tr>\n",
              "      <th>3</th>\n",
              "      <td>0.524402</td>\n",
              "      <td>-0.801876</td>\n",
              "      <td>0</td>\n",
              "    </tr>\n",
              "    <tr>\n",
              "      <th>4</th>\n",
              "      <td>0.681828</td>\n",
              "      <td>0.326342</td>\n",
              "      <td>1</td>\n",
              "    </tr>\n",
              "  </tbody>\n",
              "</table>\n",
              "</div>"
            ],
            "text/plain": [
              "         X0        X1  Label\n",
              "0  0.489087 -0.681815      1\n",
              "1  0.517272 -0.634110      1\n",
              "2  0.784256 -0.199976      1\n",
              "3  0.524402 -0.801876      0\n",
              "4  0.681828  0.326342      1"
            ]
          },
          "metadata": {
            "tags": []
          },
          "execution_count": 5
        }
      ]
    },
    {
      "cell_type": "code",
      "metadata": {
        "colab": {
          "base_uri": "https://localhost:8080/",
          "height": 281
        },
        "id": "rDbcDr6kxep1",
        "outputId": "e61141a3-c8da-4b25-8df3-e9d37410ba32"
      },
      "source": [
        "import matplotlib.pyplot as plt\n",
        "plt.scatter(X[:,0],X[:,1],c=y,cmap=plt.cm.RdYlGn)"
      ],
      "execution_count": 6,
      "outputs": [
        {
          "output_type": "execute_result",
          "data": {
            "text/plain": [
              "<matplotlib.collections.PathCollection at 0x7fe833b1aa10>"
            ]
          },
          "metadata": {
            "tags": []
          },
          "execution_count": 6
        },
        {
          "output_type": "display_data",
          "data": {
            "image/png": "[encoded data removed]",
            "text/plain": [
              "<Figure size 432x288 with 1 Axes>"
            ]
          },
          "metadata": {
            "tags": [],
            "needs_background": "light"
          }
        }
      ]
    },
    {
      "cell_type": "code",
      "metadata": {
        "colab": {
          "base_uri": "https://localhost:8080/"
        },
        "id": "P_bheBZr4gzE",
        "outputId": "e2238794-f7ad-4d0e-ff8d-18305189322b"
      },
      "source": [
        "\n",
        "X_data = circle_data.drop('Label', axis=1)\n",
        "y_data = circle_data[\"Label\"]\n",
        "\n",
        "X_data.head(), y_data.head()"
      ],
      "execution_count": 7,
      "outputs": [
        {
          "output_type": "execute_result",
          "data": {
            "text/plain": [
              "(         X0        X1\n",
              " 0  0.489087 -0.681815\n",
              " 1  0.517272 -0.634110\n",
              " 2  0.784256 -0.199976\n",
              " 3  0.524402 -0.801876\n",
              " 4  0.681828  0.326342, 0    1\n",
              " 1    1\n",
              " 2    1\n",
              " 3    0\n",
              " 4    1\n",
              " Name: Label, dtype: int64)"
            ]
          },
          "metadata": {
            "tags": []
          },
          "execution_count": 7
        }
      ]
    },
    {
      "cell_type": "code",
      "metadata": {
        "colab": {
          "base_uri": "https://localhost:8080/"
        },
        "id": "Ek_lMV_o5fRU",
        "outputId": "45fea3ce-211a-494e-f087-45c11e11ce2b"
      },
      "source": [
        "\n",
        "#Lets split the model for train and test.\n",
        "from sklearn.model_selection import train_test_split\n",
        "\n",
        "X_train, X_test, y_train, y_test = train_test_split(X_data, y_data, test_size=0.2, random_state=42)\n",
        "len(X_train),len(X_test)"
      ],
      "execution_count": 8,
      "outputs": [
        {
          "output_type": "execute_result",
          "data": {
            "text/plain": [
              "(800, 200)"
            ]
          },
          "metadata": {
            "tags": []
          },
          "execution_count": 8
        }
      ]
    },
    {
      "cell_type": "code",
      "metadata": {
        "id": "I1z0Fjmr6r2G"
      },
      "source": [
        "\n",
        "\n",
        "import tensorflow as tf"
      ],
      "execution_count": 9,
      "outputs": []
    },
    {
      "cell_type": "code",
      "metadata": {
        "colab": {
          "base_uri": "https://localhost:8080/"
        },
        "id": "CTMFIj-j68Cg",
        "outputId": "a5b3e529-21f5-40a8-b3ce-c06ea6f6ed72"
      },
      "source": [
        "# Lets create a model.\n",
        "tf.random.set_seed(42)\n",
        "\n",
        "# Create a model with one hidden layer\n",
        "model_1 = tf.keras.Sequential([\n",
        "                               tf.keras.layers.Dense(1)\n",
        "\n",
        "])\n",
        "\n",
        "# Comiple the model\n",
        "model_1.compile(loss=tf.keras.losses.BinaryCrossentropy(),\n",
        "                optimizer=tf.keras.optimizers.Adam(),\n",
        "                metrics=[\"accuracy\"])\n",
        "\n",
        "#fit the model.\n",
        "\n",
        "model_1.fit(X_train, y_train, epochs=100)"
      ],
      "execution_count": 10,
      "outputs": [
        {
          "output_type": "stream",
          "text": [
            "Epoch 1/100\n",
            "25/25 [==============================] - 1s 1ms/step - loss: 4.3156 - accuracy: 0.4725\n",
            "Epoch 2/100\n",
            "25/25 [==============================] - 0s 1ms/step - loss: 4.2508 - accuracy: 0.4437\n",
            "Epoch 3/100\n",
            "25/25 [==============================] - 0s 1ms/step - loss: 4.2093 - accuracy: 0.4350\n",
            "Epoch 4/100\n",
            "25/25 [==============================] - 0s 1ms/step - loss: 4.1903 - accuracy: 0.4325\n",
            "Epoch 5/100\n",
            "25/25 [==============================] - 0s 1ms/step - loss: 4.1716 - accuracy: 0.4275\n",
            "Epoch 6/100\n",
            "25/25 [==============================] - 0s 1ms/step - loss: 4.1657 - accuracy: 0.4263\n",
            "Epoch 7/100\n",
            "25/25 [==============================] - 0s 1ms/step - loss: 4.1346 - accuracy: 0.4225\n",
            "Epoch 8/100\n",
            "25/25 [==============================] - 0s 1ms/step - loss: 4.0986 - accuracy: 0.4175\n",
            "Epoch 9/100\n",
            "25/25 [==============================] - 0s 1ms/step - loss: 4.0789 - accuracy: 0.4175\n",
            "Epoch 10/100\n",
            "25/25 [==============================] - 0s 1ms/step - loss: 4.0718 - accuracy: 0.4162\n",
            "Epoch 11/100\n",
            "25/25 [==============================] - 0s 1ms/step - loss: 4.0671 - accuracy: 0.4137\n",
            "Epoch 12/100\n",
            "25/25 [==============================] - 0s 1ms/step - loss: 4.0389 - accuracy: 0.4137\n",
            "Epoch 13/100\n",
            "25/25 [==============================] - 0s 1ms/step - loss: 3.9959 - accuracy: 0.4087\n",
            "Epoch 14/100\n",
            "25/25 [==============================] - 0s 1ms/step - loss: 3.9670 - accuracy: 0.4087\n",
            "Epoch 15/100\n",
            "25/25 [==============================] - 0s 1ms/step - loss: 3.9101 - accuracy: 0.4137\n",
            "Epoch 16/100\n",
            "25/25 [==============================] - 0s 1ms/step - loss: 3.7823 - accuracy: 0.4150\n",
            "Epoch 17/100\n",
            "25/25 [==============================] - 0s 1ms/step - loss: 3.7010 - accuracy: 0.4125\n",
            "Epoch 18/100\n",
            "25/25 [==============================] - 0s 1ms/step - loss: 3.6722 - accuracy: 0.4175\n",
            "Epoch 19/100\n",
            "25/25 [==============================] - 0s 1ms/step - loss: 3.6629 - accuracy: 0.4225\n",
            "Epoch 20/100\n",
            "25/25 [==============================] - 0s 2ms/step - loss: 3.6252 - accuracy: 0.4300\n",
            "Epoch 21/100\n",
            "25/25 [==============================] - 0s 2ms/step - loss: 3.5862 - accuracy: 0.4338\n",
            "Epoch 22/100\n",
            "25/25 [==============================] - 0s 1ms/step - loss: 3.5586 - accuracy: 0.4338\n",
            "Epoch 23/100\n",
            "25/25 [==============================] - 0s 1ms/step - loss: 3.5472 - accuracy: 0.4363\n",
            "Epoch 24/100\n",
            "25/25 [==============================] - 0s 1ms/step - loss: 3.4980 - accuracy: 0.4363\n",
            "Epoch 25/100\n",
            "25/25 [==============================] - 0s 1ms/step - loss: 3.4240 - accuracy: 0.4387\n",
            "Epoch 26/100\n",
            "25/25 [==============================] - 0s 1ms/step - loss: 3.3837 - accuracy: 0.4363\n",
            "Epoch 27/100\n",
            "25/25 [==============================] - 0s 1ms/step - loss: 3.3654 - accuracy: 0.4387\n",
            "Epoch 28/100\n",
            "25/25 [==============================] - 0s 1ms/step - loss: 3.3595 - accuracy: 0.4387\n",
            "Epoch 29/100\n",
            "25/25 [==============================] - 0s 1ms/step - loss: 3.3326 - accuracy: 0.4387\n",
            "Epoch 30/100\n",
            "25/25 [==============================] - 0s 1ms/step - loss: 3.2852 - accuracy: 0.4412\n",
            "Epoch 31/100\n",
            "25/25 [==============================] - 0s 1ms/step - loss: 3.2506 - accuracy: 0.4412\n",
            "Epoch 32/100\n",
            "25/25 [==============================] - 0s 1ms/step - loss: 3.2136 - accuracy: 0.4400\n",
            "Epoch 33/100\n",
            "25/25 [==============================] - 0s 1ms/step - loss: 3.1741 - accuracy: 0.4412\n",
            "Epoch 34/100\n",
            "25/25 [==============================] - 0s 1ms/step - loss: 3.1586 - accuracy: 0.4437\n",
            "Epoch 35/100\n",
            "25/25 [==============================] - 0s 1ms/step - loss: 3.1021 - accuracy: 0.4450\n",
            "Epoch 36/100\n",
            "25/25 [==============================] - 0s 1ms/step - loss: 3.0654 - accuracy: 0.4462\n",
            "Epoch 37/100\n",
            "25/25 [==============================] - 0s 1ms/step - loss: 3.0014 - accuracy: 0.4487\n",
            "Epoch 38/100\n",
            "25/25 [==============================] - 0s 2ms/step - loss: 2.9563 - accuracy: 0.4512\n",
            "Epoch 39/100\n",
            "25/25 [==============================] - 0s 1ms/step - loss: 2.9076 - accuracy: 0.4538\n",
            "Epoch 40/100\n",
            "25/25 [==============================] - 0s 1ms/step - loss: 2.8126 - accuracy: 0.4538\n",
            "Epoch 41/100\n",
            "25/25 [==============================] - 0s 2ms/step - loss: 2.7492 - accuracy: 0.4525\n",
            "Epoch 42/100\n",
            "25/25 [==============================] - 0s 1ms/step - loss: 2.7110 - accuracy: 0.4538\n",
            "Epoch 43/100\n",
            "25/25 [==============================] - 0s 1ms/step - loss: 2.6649 - accuracy: 0.4512\n",
            "Epoch 44/100\n",
            "25/25 [==============================] - 0s 1ms/step - loss: 2.6018 - accuracy: 0.4500\n",
            "Epoch 45/100\n",
            "25/25 [==============================] - 0s 1ms/step - loss: 2.3684 - accuracy: 0.4538\n",
            "Epoch 46/100\n",
            "25/25 [==============================] - 0s 1ms/step - loss: 1.9841 - accuracy: 0.4563\n",
            "Epoch 47/100\n",
            "25/25 [==============================] - 0s 1ms/step - loss: 1.9054 - accuracy: 0.4563\n",
            "Epoch 48/100\n",
            "25/25 [==============================] - 0s 1ms/step - loss: 1.8340 - accuracy: 0.4563\n",
            "Epoch 49/100\n",
            "25/25 [==============================] - 0s 1ms/step - loss: 1.7361 - accuracy: 0.4550\n",
            "Epoch 50/100\n",
            "25/25 [==============================] - 0s 1ms/step - loss: 1.5796 - accuracy: 0.4550\n",
            "Epoch 51/100\n",
            "25/25 [==============================] - 0s 1ms/step - loss: 1.3935 - accuracy: 0.4550\n",
            "Epoch 52/100\n",
            "25/25 [==============================] - 0s 2ms/step - loss: 1.1568 - accuracy: 0.4538\n",
            "Epoch 53/100\n",
            "25/25 [==============================] - 0s 1ms/step - loss: 1.0341 - accuracy: 0.4525\n",
            "Epoch 54/100\n",
            "25/25 [==============================] - 0s 1ms/step - loss: 1.0154 - accuracy: 0.4538\n",
            "Epoch 55/100\n",
            "25/25 [==============================] - 0s 1ms/step - loss: 1.0047 - accuracy: 0.4512\n",
            "Epoch 56/100\n",
            "25/25 [==============================] - 0s 1ms/step - loss: 0.9963 - accuracy: 0.4512\n",
            "Epoch 57/100\n",
            "25/25 [==============================] - 0s 1ms/step - loss: 0.9891 - accuracy: 0.4512\n",
            "Epoch 58/100\n",
            "25/25 [==============================] - 0s 1ms/step - loss: 0.9822 - accuracy: 0.4525\n",
            "Epoch 59/100\n",
            "25/25 [==============================] - 0s 1ms/step - loss: 0.9764 - accuracy: 0.4525\n",
            "Epoch 60/100\n",
            "25/25 [==============================] - 0s 2ms/step - loss: 0.9708 - accuracy: 0.4538\n",
            "Epoch 61/100\n",
            "25/25 [==============================] - 0s 1ms/step - loss: 0.9656 - accuracy: 0.4538\n",
            "Epoch 62/100\n",
            "25/25 [==============================] - 0s 1ms/step - loss: 0.9607 - accuracy: 0.4538\n",
            "Epoch 63/100\n",
            "25/25 [==============================] - 0s 1ms/step - loss: 0.9562 - accuracy: 0.4538\n",
            "Epoch 64/100\n",
            "25/25 [==============================] - 0s 1ms/step - loss: 0.9518 - accuracy: 0.4538\n",
            "Epoch 65/100\n",
            "25/25 [==============================] - 0s 1ms/step - loss: 0.9476 - accuracy: 0.4538\n",
            "Epoch 66/100\n",
            "25/25 [==============================] - 0s 1ms/step - loss: 0.9438 - accuracy: 0.4538\n",
            "Epoch 67/100\n",
            "25/25 [==============================] - 0s 1ms/step - loss: 0.9400 - accuracy: 0.4525\n",
            "Epoch 68/100\n",
            "25/25 [==============================] - 0s 1ms/step - loss: 0.9364 - accuracy: 0.4525\n",
            "Epoch 69/100\n",
            "25/25 [==============================] - 0s 1ms/step - loss: 0.9329 - accuracy: 0.4500\n",
            "Epoch 70/100\n",
            "25/25 [==============================] - 0s 1ms/step - loss: 0.9295 - accuracy: 0.4500\n",
            "Epoch 71/100\n",
            "25/25 [==============================] - 0s 1ms/step - loss: 0.9263 - accuracy: 0.4500\n",
            "Epoch 72/100\n",
            "25/25 [==============================] - 0s 1ms/step - loss: 0.9232 - accuracy: 0.4487\n",
            "Epoch 73/100\n",
            "25/25 [==============================] - 0s 2ms/step - loss: 0.9202 - accuracy: 0.4487\n",
            "Epoch 74/100\n",
            "25/25 [==============================] - 0s 1ms/step - loss: 0.9172 - accuracy: 0.4487\n",
            "Epoch 75/100\n",
            "25/25 [==============================] - 0s 2ms/step - loss: 0.9144 - accuracy: 0.4500\n",
            "Epoch 76/100\n",
            "25/25 [==============================] - 0s 1ms/step - loss: 0.9116 - accuracy: 0.4500\n",
            "Epoch 77/100\n",
            "25/25 [==============================] - 0s 1ms/step - loss: 0.9089 - accuracy: 0.4500\n",
            "Epoch 78/100\n",
            "25/25 [==============================] - 0s 1ms/step - loss: 0.9063 - accuracy: 0.4487\n",
            "Epoch 79/100\n",
            "25/25 [==============================] - 0s 2ms/step - loss: 0.9037 - accuracy: 0.4512\n",
            "Epoch 80/100\n",
            "25/25 [==============================] - 0s 1ms/step - loss: 0.9012 - accuracy: 0.4512\n",
            "Epoch 81/100\n",
            "25/25 [==============================] - 0s 1ms/step - loss: 0.8988 - accuracy: 0.4512\n",
            "Epoch 82/100\n",
            "25/25 [==============================] - 0s 1ms/step - loss: 0.8964 - accuracy: 0.4500\n",
            "Epoch 83/100\n",
            "25/25 [==============================] - 0s 1ms/step - loss: 0.8940 - accuracy: 0.4500\n",
            "Epoch 84/100\n",
            "25/25 [==============================] - 0s 1ms/step - loss: 0.8917 - accuracy: 0.4487\n",
            "Epoch 85/100\n",
            "25/25 [==============================] - 0s 1ms/step - loss: 0.8895 - accuracy: 0.4487\n",
            "Epoch 86/100\n",
            "25/25 [==============================] - 0s 1ms/step - loss: 0.8872 - accuracy: 0.4487\n",
            "Epoch 87/100\n",
            "25/25 [==============================] - 0s 1ms/step - loss: 0.8851 - accuracy: 0.4487\n",
            "Epoch 88/100\n",
            "25/25 [==============================] - 0s 1ms/step - loss: 0.8829 - accuracy: 0.4487\n",
            "Epoch 89/100\n",
            "25/25 [==============================] - 0s 2ms/step - loss: 0.8808 - accuracy: 0.4500\n",
            "Epoch 90/100\n",
            "25/25 [==============================] - 0s 1ms/step - loss: 0.8788 - accuracy: 0.4487\n",
            "Epoch 91/100\n",
            "25/25 [==============================] - 0s 2ms/step - loss: 0.8767 - accuracy: 0.4487\n",
            "Epoch 92/100\n",
            "25/25 [==============================] - 0s 1ms/step - loss: 0.8747 - accuracy: 0.4487\n",
            "Epoch 93/100\n",
            "25/25 [==============================] - 0s 1ms/step - loss: 0.8726 - accuracy: 0.4487\n",
            "Epoch 94/100\n",
            "25/25 [==============================] - 0s 1ms/step - loss: 0.8707 - accuracy: 0.4487\n",
            "Epoch 95/100\n",
            "25/25 [==============================] - 0s 1ms/step - loss: 0.8688 - accuracy: 0.4475\n",
            "Epoch 96/100\n",
            "25/25 [==============================] - 0s 1ms/step - loss: 0.8668 - accuracy: 0.4475\n",
            "Epoch 97/100\n",
            "25/25 [==============================] - 0s 1ms/step - loss: 0.8650 - accuracy: 0.4475\n",
            "Epoch 98/100\n",
            "25/25 [==============================] - 0s 1ms/step - loss: 0.8631 - accuracy: 0.4475\n",
            "Epoch 99/100\n",
            "25/25 [==============================] - 0s 1ms/step - loss: 0.8613 - accuracy: 0.4475\n",
            "Epoch 100/100\n",
            "25/25 [==============================] - 0s 1ms/step - loss: 0.8594 - accuracy: 0.4475\n"
          ],
          "name": "stdout"
        },
        {
          "output_type": "execute_result",
          "data": {
            "text/plain": [
              "<tensorflow.python.keras.callbacks.History at 0x7fe7f02ee410>"
            ]
          },
          "metadata": {
            "tags": []
          },
          "execution_count": 10
        }
      ]
    },
    {
      "cell_type": "markdown",
      "metadata": {
        "id": "8qhaN_UU-aiV"
      },
      "source": [
        "# what ??? Just 48 % accuracy.\n",
        "  Need to add change hyper parameters"
      ]
    },
    {
      "cell_type": "code",
      "metadata": {
        "colab": {
          "base_uri": "https://localhost:8080/"
        },
        "id": "H-V7wb18-oes",
        "outputId": "f7a7c4d5-bb5c-4448-df17-151e5080e0c4"
      },
      "source": [
        "tf.random.set_seed(42)\n",
        "\n",
        "#create a model\n",
        "model_2 = tf.keras.Sequential([\n",
        "                               tf.keras.layers.Dense(10),\n",
        "                               tf.keras.layers.Dense(1)\n",
        "\n",
        "])\n",
        "\n",
        "#compile a model\n",
        "\n",
        "model_2.compile(loss=tf.keras.losses.BinaryCrossentropy(),\n",
        "                optimizer=tf.keras.optimizers.Adam(),\n",
        "                metrics=[\"accuracy\"])\n",
        "# foit the model\n",
        "\n",
        "model_2.fit(X_train, y_train, epochs=100)"
      ],
      "execution_count": 11,
      "outputs": [
        {
          "output_type": "stream",
          "text": [
            "Epoch 1/100\n",
            "25/25 [==============================] - 0s 1ms/step - loss: 4.4142 - accuracy: 0.4512\n",
            "Epoch 2/100\n",
            "25/25 [==============================] - 0s 1ms/step - loss: 4.2501 - accuracy: 0.4550\n",
            "Epoch 3/100\n",
            "25/25 [==============================] - 0s 1ms/step - loss: 4.1192 - accuracy: 0.4600\n",
            "Epoch 4/100\n",
            "25/25 [==============================] - 0s 1ms/step - loss: 3.9322 - accuracy: 0.4625\n",
            "Epoch 5/100\n",
            "25/25 [==============================] - 0s 1ms/step - loss: 3.5578 - accuracy: 0.4625\n",
            "Epoch 6/100\n",
            "25/25 [==============================] - 0s 1ms/step - loss: 3.1540 - accuracy: 0.4688\n",
            "Epoch 7/100\n",
            "25/25 [==============================] - 0s 1ms/step - loss: 2.2006 - accuracy: 0.4762\n",
            "Epoch 8/100\n",
            "25/25 [==============================] - 0s 1ms/step - loss: 0.8557 - accuracy: 0.4750\n",
            "Epoch 9/100\n",
            "25/25 [==============================] - 0s 1ms/step - loss: 0.7879 - accuracy: 0.4787\n",
            "Epoch 10/100\n",
            "25/25 [==============================] - 0s 1ms/step - loss: 0.7618 - accuracy: 0.4800\n",
            "Epoch 11/100\n",
            "25/25 [==============================] - 0s 1ms/step - loss: 0.7455 - accuracy: 0.4762\n",
            "Epoch 12/100\n",
            "25/25 [==============================] - 0s 1ms/step - loss: 0.7330 - accuracy: 0.4750\n",
            "Epoch 13/100\n",
            "25/25 [==============================] - 0s 1ms/step - loss: 0.7235 - accuracy: 0.4762\n",
            "Epoch 14/100\n",
            "25/25 [==============================] - 0s 1ms/step - loss: 0.7161 - accuracy: 0.4812\n",
            "Epoch 15/100\n",
            "25/25 [==============================] - 0s 1ms/step - loss: 0.7103 - accuracy: 0.4837\n",
            "Epoch 16/100\n",
            "25/25 [==============================] - 0s 1ms/step - loss: 0.7061 - accuracy: 0.4825\n",
            "Epoch 17/100\n",
            "25/25 [==============================] - 0s 1ms/step - loss: 0.7024 - accuracy: 0.4812\n",
            "Epoch 18/100\n",
            "25/25 [==============================] - 0s 2ms/step - loss: 0.7000 - accuracy: 0.4837\n",
            "Epoch 19/100\n",
            "25/25 [==============================] - 0s 1ms/step - loss: 0.6978 - accuracy: 0.4837\n",
            "Epoch 20/100\n",
            "25/25 [==============================] - 0s 1ms/step - loss: 0.6966 - accuracy: 0.4837\n",
            "Epoch 21/100\n",
            "25/25 [==============================] - 0s 1ms/step - loss: 0.6954 - accuracy: 0.4863\n",
            "Epoch 22/100\n",
            "25/25 [==============================] - 0s 1ms/step - loss: 0.6946 - accuracy: 0.4888\n",
            "Epoch 23/100\n",
            "25/25 [==============================] - 0s 1ms/step - loss: 0.6941 - accuracy: 0.4900\n",
            "Epoch 24/100\n",
            "25/25 [==============================] - 0s 1ms/step - loss: 0.6937 - accuracy: 0.4988\n",
            "Epoch 25/100\n",
            "25/25 [==============================] - 0s 1ms/step - loss: 0.6935 - accuracy: 0.5000\n",
            "Epoch 26/100\n",
            "25/25 [==============================] - 0s 1ms/step - loss: 0.6935 - accuracy: 0.5038\n",
            "Epoch 27/100\n",
            "25/25 [==============================] - 0s 1ms/step - loss: 0.6932 - accuracy: 0.5113\n",
            "Epoch 28/100\n",
            "25/25 [==============================] - 0s 1ms/step - loss: 0.6931 - accuracy: 0.5175\n",
            "Epoch 29/100\n",
            "25/25 [==============================] - 0s 1ms/step - loss: 0.6931 - accuracy: 0.5250\n",
            "Epoch 30/100\n",
            "25/25 [==============================] - 0s 1ms/step - loss: 0.6930 - accuracy: 0.5188\n",
            "Epoch 31/100\n",
            "25/25 [==============================] - 0s 1ms/step - loss: 0.6932 - accuracy: 0.5250\n",
            "Epoch 32/100\n",
            "25/25 [==============================] - 0s 2ms/step - loss: 0.6931 - accuracy: 0.5225\n",
            "Epoch 33/100\n",
            "25/25 [==============================] - 0s 2ms/step - loss: 0.6930 - accuracy: 0.5275\n",
            "Epoch 34/100\n",
            "25/25 [==============================] - 0s 1ms/step - loss: 0.6930 - accuracy: 0.5288\n",
            "Epoch 35/100\n",
            "25/25 [==============================] - 0s 1ms/step - loss: 0.6931 - accuracy: 0.5200\n",
            "Epoch 36/100\n",
            "25/25 [==============================] - 0s 1ms/step - loss: 0.6930 - accuracy: 0.5400\n",
            "Epoch 37/100\n",
            "25/25 [==============================] - 0s 1ms/step - loss: 0.6934 - accuracy: 0.5400\n",
            "Epoch 38/100\n",
            "25/25 [==============================] - 0s 2ms/step - loss: 0.6934 - accuracy: 0.5150\n",
            "Epoch 39/100\n",
            "25/25 [==============================] - 0s 1ms/step - loss: 0.6930 - accuracy: 0.5350\n",
            "Epoch 40/100\n",
            "25/25 [==============================] - 0s 1ms/step - loss: 0.6931 - accuracy: 0.5275\n",
            "Epoch 41/100\n",
            "25/25 [==============================] - 0s 1ms/step - loss: 0.6932 - accuracy: 0.5250\n",
            "Epoch 42/100\n",
            "25/25 [==============================] - 0s 1ms/step - loss: 0.6931 - accuracy: 0.5125\n",
            "Epoch 43/100\n",
            "25/25 [==============================] - 0s 1ms/step - loss: 0.6932 - accuracy: 0.5300\n",
            "Epoch 44/100\n",
            "25/25 [==============================] - 0s 1ms/step - loss: 0.6931 - accuracy: 0.5325\n",
            "Epoch 45/100\n",
            "25/25 [==============================] - 0s 1ms/step - loss: 0.6933 - accuracy: 0.5475\n",
            "Epoch 46/100\n",
            "25/25 [==============================] - 0s 1ms/step - loss: 0.6933 - accuracy: 0.5200\n",
            "Epoch 47/100\n",
            "25/25 [==============================] - 0s 1ms/step - loss: 0.6932 - accuracy: 0.5213\n",
            "Epoch 48/100\n",
            "25/25 [==============================] - 0s 1ms/step - loss: 0.6930 - accuracy: 0.5288\n",
            "Epoch 49/100\n",
            "25/25 [==============================] - 0s 1ms/step - loss: 0.6932 - accuracy: 0.5462\n",
            "Epoch 50/100\n",
            "25/25 [==============================] - 0s 1ms/step - loss: 0.6931 - accuracy: 0.5525\n",
            "Epoch 51/100\n",
            "25/25 [==============================] - 0s 1ms/step - loss: 0.6932 - accuracy: 0.5275\n",
            "Epoch 52/100\n",
            "25/25 [==============================] - 0s 1ms/step - loss: 0.6930 - accuracy: 0.5225\n",
            "Epoch 53/100\n",
            "25/25 [==============================] - 0s 1ms/step - loss: 0.6932 - accuracy: 0.5362\n",
            "Epoch 54/100\n",
            "25/25 [==============================] - 0s 1ms/step - loss: 0.6932 - accuracy: 0.5350\n",
            "Epoch 55/100\n",
            "25/25 [==============================] - 0s 1ms/step - loss: 0.6931 - accuracy: 0.5138\n",
            "Epoch 56/100\n",
            "25/25 [==============================] - 0s 1ms/step - loss: 0.6933 - accuracy: 0.5337\n",
            "Epoch 57/100\n",
            "25/25 [==============================] - 0s 1ms/step - loss: 0.6931 - accuracy: 0.5450\n",
            "Epoch 58/100\n",
            "25/25 [==============================] - 0s 1ms/step - loss: 0.6930 - accuracy: 0.5475\n",
            "Epoch 59/100\n",
            "25/25 [==============================] - 0s 1ms/step - loss: 0.6932 - accuracy: 0.5375\n",
            "Epoch 60/100\n",
            "25/25 [==============================] - 0s 1ms/step - loss: 0.6932 - accuracy: 0.5288\n",
            "Epoch 61/100\n",
            "25/25 [==============================] - 0s 1ms/step - loss: 0.6933 - accuracy: 0.5450\n",
            "Epoch 62/100\n",
            "25/25 [==============================] - 0s 1ms/step - loss: 0.6931 - accuracy: 0.5312\n",
            "Epoch 63/100\n",
            "25/25 [==============================] - 0s 2ms/step - loss: 0.6934 - accuracy: 0.5100\n",
            "Epoch 64/100\n",
            "25/25 [==============================] - 0s 1ms/step - loss: 0.6933 - accuracy: 0.5587\n",
            "Epoch 65/100\n",
            "25/25 [==============================] - 0s 1ms/step - loss: 0.6931 - accuracy: 0.5263\n",
            "Epoch 66/100\n",
            "25/25 [==============================] - 0s 2ms/step - loss: 0.6933 - accuracy: 0.5275\n",
            "Epoch 67/100\n",
            "25/25 [==============================] - 0s 1ms/step - loss: 0.6931 - accuracy: 0.5250\n",
            "Epoch 68/100\n",
            "25/25 [==============================] - 0s 1ms/step - loss: 0.6931 - accuracy: 0.5225\n",
            "Epoch 69/100\n",
            "25/25 [==============================] - 0s 2ms/step - loss: 0.6935 - accuracy: 0.5312\n",
            "Epoch 70/100\n",
            "25/25 [==============================] - 0s 1ms/step - loss: 0.6937 - accuracy: 0.5387\n",
            "Epoch 71/100\n",
            "25/25 [==============================] - 0s 1ms/step - loss: 0.6932 - accuracy: 0.5275\n",
            "Epoch 72/100\n",
            "25/25 [==============================] - 0s 1ms/step - loss: 0.6932 - accuracy: 0.5175\n",
            "Epoch 73/100\n",
            "25/25 [==============================] - 0s 1ms/step - loss: 0.6932 - accuracy: 0.5213\n",
            "Epoch 74/100\n",
            "25/25 [==============================] - 0s 1ms/step - loss: 0.6932 - accuracy: 0.5325\n",
            "Epoch 75/100\n",
            "25/25 [==============================] - 0s 1ms/step - loss: 0.6932 - accuracy: 0.5312\n",
            "Epoch 76/100\n",
            "25/25 [==============================] - 0s 1ms/step - loss: 0.6934 - accuracy: 0.5150\n",
            "Epoch 77/100\n",
            "25/25 [==============================] - 0s 2ms/step - loss: 0.6932 - accuracy: 0.5525\n",
            "Epoch 78/100\n",
            "25/25 [==============================] - 0s 1ms/step - loss: 0.6933 - accuracy: 0.5138\n",
            "Epoch 79/100\n",
            "25/25 [==============================] - 0s 1ms/step - loss: 0.6932 - accuracy: 0.5275\n",
            "Epoch 80/100\n",
            "25/25 [==============================] - 0s 1ms/step - loss: 0.6934 - accuracy: 0.5288\n",
            "Epoch 81/100\n",
            "25/25 [==============================] - 0s 1ms/step - loss: 0.6936 - accuracy: 0.5088\n",
            "Epoch 82/100\n",
            "25/25 [==============================] - 0s 1ms/step - loss: 0.6932 - accuracy: 0.5288\n",
            "Epoch 83/100\n",
            "25/25 [==============================] - 0s 1ms/step - loss: 0.6931 - accuracy: 0.5400\n",
            "Epoch 84/100\n",
            "25/25 [==============================] - 0s 1ms/step - loss: 0.6934 - accuracy: 0.5238\n",
            "Epoch 85/100\n",
            "25/25 [==============================] - 0s 1ms/step - loss: 0.6931 - accuracy: 0.5200\n",
            "Epoch 86/100\n",
            "25/25 [==============================] - 0s 1ms/step - loss: 0.6933 - accuracy: 0.5238\n",
            "Epoch 87/100\n",
            "25/25 [==============================] - 0s 1ms/step - loss: 0.6932 - accuracy: 0.5275\n",
            "Epoch 88/100\n",
            "25/25 [==============================] - 0s 1ms/step - loss: 0.6932 - accuracy: 0.5550\n",
            "Epoch 89/100\n",
            "25/25 [==============================] - 0s 1ms/step - loss: 0.6936 - accuracy: 0.5387\n",
            "Epoch 90/100\n",
            "25/25 [==============================] - 0s 1ms/step - loss: 0.6933 - accuracy: 0.5263\n",
            "Epoch 91/100\n",
            "25/25 [==============================] - 0s 1ms/step - loss: 0.6932 - accuracy: 0.5275\n",
            "Epoch 92/100\n",
            "25/25 [==============================] - 0s 1ms/step - loss: 0.6932 - accuracy: 0.5200\n",
            "Epoch 93/100\n",
            "25/25 [==============================] - 0s 2ms/step - loss: 0.6935 - accuracy: 0.5225\n",
            "Epoch 94/100\n",
            "25/25 [==============================] - 0s 1ms/step - loss: 0.6935 - accuracy: 0.5575\n",
            "Epoch 95/100\n",
            "25/25 [==============================] - 0s 2ms/step - loss: 0.6932 - accuracy: 0.5275\n",
            "Epoch 96/100\n",
            "25/25 [==============================] - 0s 1ms/step - loss: 0.6932 - accuracy: 0.5250\n",
            "Epoch 97/100\n",
            "25/25 [==============================] - 0s 1ms/step - loss: 0.6934 - accuracy: 0.5425\n",
            "Epoch 98/100\n",
            "25/25 [==============================] - 0s 1ms/step - loss: 0.6937 - accuracy: 0.5150\n",
            "Epoch 99/100\n",
            "25/25 [==============================] - 0s 1ms/step - loss: 0.6935 - accuracy: 0.5213\n",
            "Epoch 100/100\n",
            "25/25 [==============================] - 0s 1ms/step - loss: 0.6938 - accuracy: 0.5475\n"
          ],
          "name": "stdout"
        },
        {
          "output_type": "execute_result",
          "data": {
            "text/plain": [
              "<tensorflow.python.keras.callbacks.History at 0x7fe7ee04eed0>"
            ]
          },
          "metadata": {
            "tags": []
          },
          "execution_count": 11
        }
      ]
    },
    {
      "cell_type": "code",
      "metadata": {
        "colab": {
          "base_uri": "https://localhost:8080/"
        },
        "id": "Pnc_LQJy_bIb",
        "outputId": "be42162e-332b-4ae8-e319-1adefe672ccf"
      },
      "source": [
        "#Still 50 % lets add one more hidden layer of 100 neurons.\n",
        "tf.random.set_seed(42)\n",
        "\n",
        "model_3 = tf.keras.Sequential([\n",
        "                               tf.keras.layers.Dense(100),\n",
        "                               tf.keras.layers.Dense(10),\n",
        "                               tf.keras.layers.Dense(1),\n",
        "])\n",
        "\n",
        "model_3.compile(loss=tf.keras.losses.BinaryCrossentropy(),\n",
        "                optimizer=tf.keras.optimizers.Adam(),\n",
        "                metrics=[\"accuracy\"])\n",
        "model_3.fit(X_train,y_train,epochs=100)"
      ],
      "execution_count": 12,
      "outputs": [
        {
          "output_type": "stream",
          "text": [
            "Epoch 1/100\n",
            "25/25 [==============================] - 0s 1ms/step - loss: 2.6603 - accuracy: 0.4400\n",
            "Epoch 2/100\n",
            "25/25 [==============================] - 0s 1ms/step - loss: 0.7164 - accuracy: 0.4750\n",
            "Epoch 3/100\n",
            "25/25 [==============================] - 0s 1ms/step - loss: 0.6978 - accuracy: 0.5088\n",
            "Epoch 4/100\n",
            "25/25 [==============================] - 0s 2ms/step - loss: 0.6948 - accuracy: 0.5100\n",
            "Epoch 5/100\n",
            "25/25 [==============================] - 0s 1ms/step - loss: 0.6948 - accuracy: 0.5200\n",
            "Epoch 6/100\n",
            "25/25 [==============================] - 0s 2ms/step - loss: 0.6953 - accuracy: 0.5050\n",
            "Epoch 7/100\n",
            "25/25 [==============================] - 0s 1ms/step - loss: 0.6950 - accuracy: 0.5000\n",
            "Epoch 8/100\n",
            "25/25 [==============================] - 0s 1ms/step - loss: 0.6944 - accuracy: 0.5100\n",
            "Epoch 9/100\n",
            "25/25 [==============================] - 0s 1ms/step - loss: 0.6965 - accuracy: 0.5275\n",
            "Epoch 10/100\n",
            "25/25 [==============================] - 0s 1ms/step - loss: 0.6979 - accuracy: 0.4613\n",
            "Epoch 11/100\n",
            "25/25 [==============================] - 0s 1ms/step - loss: 0.6955 - accuracy: 0.5050\n",
            "Epoch 12/100\n",
            "25/25 [==============================] - 0s 1ms/step - loss: 0.6950 - accuracy: 0.4775\n",
            "Epoch 13/100\n",
            "25/25 [==============================] - 0s 1ms/step - loss: 0.6948 - accuracy: 0.5050\n",
            "Epoch 14/100\n",
            "25/25 [==============================] - 0s 2ms/step - loss: 0.6970 - accuracy: 0.5175\n",
            "Epoch 15/100\n",
            "25/25 [==============================] - 0s 1ms/step - loss: 0.6946 - accuracy: 0.4837\n",
            "Epoch 16/100\n",
            "25/25 [==============================] - 0s 2ms/step - loss: 0.6964 - accuracy: 0.5063\n",
            "Epoch 17/100\n",
            "25/25 [==============================] - 0s 2ms/step - loss: 0.6947 - accuracy: 0.5138\n",
            "Epoch 18/100\n",
            "25/25 [==============================] - 0s 2ms/step - loss: 0.6979 - accuracy: 0.4963\n",
            "Epoch 19/100\n",
            "25/25 [==============================] - 0s 1ms/step - loss: 0.6952 - accuracy: 0.5013\n",
            "Epoch 20/100\n",
            "25/25 [==============================] - 0s 2ms/step - loss: 0.6997 - accuracy: 0.4800\n",
            "Epoch 21/100\n",
            "25/25 [==============================] - 0s 1ms/step - loss: 0.6968 - accuracy: 0.5250\n",
            "Epoch 22/100\n",
            "25/25 [==============================] - 0s 1ms/step - loss: 0.6957 - accuracy: 0.4650\n",
            "Epoch 23/100\n",
            "25/25 [==============================] - 0s 1ms/step - loss: 0.6976 - accuracy: 0.4975\n",
            "Epoch 24/100\n",
            "25/25 [==============================] - 0s 1ms/step - loss: 0.6968 - accuracy: 0.5000\n",
            "Epoch 25/100\n",
            "25/25 [==============================] - 0s 2ms/step - loss: 0.6997 - accuracy: 0.4638\n",
            "Epoch 26/100\n",
            "25/25 [==============================] - 0s 1ms/step - loss: 0.6988 - accuracy: 0.5250\n",
            "Epoch 27/100\n",
            "25/25 [==============================] - 0s 2ms/step - loss: 0.6959 - accuracy: 0.4975\n",
            "Epoch 28/100\n",
            "25/25 [==============================] - 0s 1ms/step - loss: 0.6973 - accuracy: 0.5013\n",
            "Epoch 29/100\n",
            "25/25 [==============================] - 0s 2ms/step - loss: 0.6988 - accuracy: 0.5225\n",
            "Epoch 30/100\n",
            "25/25 [==============================] - 0s 2ms/step - loss: 0.6944 - accuracy: 0.4950\n",
            "Epoch 31/100\n",
            "25/25 [==============================] - 0s 1ms/step - loss: 0.6987 - accuracy: 0.4787\n",
            "Epoch 32/100\n",
            "25/25 [==============================] - 0s 1ms/step - loss: 0.6975 - accuracy: 0.5075\n",
            "Epoch 33/100\n",
            "25/25 [==============================] - 0s 2ms/step - loss: 0.6983 - accuracy: 0.5075\n",
            "Epoch 34/100\n",
            "25/25 [==============================] - 0s 1ms/step - loss: 0.6968 - accuracy: 0.5075\n",
            "Epoch 35/100\n",
            "25/25 [==============================] - 0s 1ms/step - loss: 0.7003 - accuracy: 0.4363\n",
            "Epoch 36/100\n",
            "25/25 [==============================] - 0s 2ms/step - loss: 0.6970 - accuracy: 0.4963\n",
            "Epoch 37/100\n",
            "25/25 [==============================] - 0s 2ms/step - loss: 0.6986 - accuracy: 0.5038\n",
            "Epoch 38/100\n",
            "25/25 [==============================] - 0s 1ms/step - loss: 0.7062 - accuracy: 0.4400\n",
            "Epoch 39/100\n",
            "25/25 [==============================] - 0s 2ms/step - loss: 0.6962 - accuracy: 0.4913\n",
            "Epoch 40/100\n",
            "25/25 [==============================] - 0s 1ms/step - loss: 0.6978 - accuracy: 0.4975\n",
            "Epoch 41/100\n",
            "25/25 [==============================] - 0s 1ms/step - loss: 0.6993 - accuracy: 0.4500\n",
            "Epoch 42/100\n",
            "25/25 [==============================] - 0s 1ms/step - loss: 0.6972 - accuracy: 0.4925\n",
            "Epoch 43/100\n",
            "25/25 [==============================] - 0s 2ms/step - loss: 0.6986 - accuracy: 0.5113\n",
            "Epoch 44/100\n",
            "25/25 [==============================] - 0s 1ms/step - loss: 0.7023 - accuracy: 0.4762\n",
            "Epoch 45/100\n",
            "25/25 [==============================] - 0s 1ms/step - loss: 0.7005 - accuracy: 0.5000\n",
            "Epoch 46/100\n",
            "25/25 [==============================] - 0s 2ms/step - loss: 0.6988 - accuracy: 0.4700\n",
            "Epoch 47/100\n",
            "25/25 [==============================] - 0s 1ms/step - loss: 0.6983 - accuracy: 0.5038\n",
            "Epoch 48/100\n",
            "25/25 [==============================] - 0s 1ms/step - loss: 0.6959 - accuracy: 0.4625\n",
            "Epoch 49/100\n",
            "25/25 [==============================] - 0s 1ms/step - loss: 0.6957 - accuracy: 0.5300\n",
            "Epoch 50/100\n",
            "25/25 [==============================] - 0s 1ms/step - loss: 0.6973 - accuracy: 0.5025\n",
            "Epoch 51/100\n",
            "25/25 [==============================] - 0s 2ms/step - loss: 0.6970 - accuracy: 0.4462\n",
            "Epoch 52/100\n",
            "25/25 [==============================] - 0s 1ms/step - loss: 0.6975 - accuracy: 0.5200\n",
            "Epoch 53/100\n",
            "25/25 [==============================] - 0s 1ms/step - loss: 0.6977 - accuracy: 0.4975\n",
            "Epoch 54/100\n",
            "25/25 [==============================] - 0s 1ms/step - loss: 0.7004 - accuracy: 0.4650\n",
            "Epoch 55/100\n",
            "25/25 [==============================] - 0s 1ms/step - loss: 0.6957 - accuracy: 0.4487\n",
            "Epoch 56/100\n",
            "25/25 [==============================] - 0s 1ms/step - loss: 0.6967 - accuracy: 0.5163\n",
            "Epoch 57/100\n",
            "25/25 [==============================] - 0s 2ms/step - loss: 0.6964 - accuracy: 0.4963\n",
            "Epoch 58/100\n",
            "25/25 [==============================] - 0s 2ms/step - loss: 0.6973 - accuracy: 0.4988\n",
            "Epoch 59/100\n",
            "25/25 [==============================] - 0s 2ms/step - loss: 0.6961 - accuracy: 0.4963\n",
            "Epoch 60/100\n",
            "25/25 [==============================] - 0s 2ms/step - loss: 0.6957 - accuracy: 0.4875\n",
            "Epoch 61/100\n",
            "25/25 [==============================] - 0s 1ms/step - loss: 0.6985 - accuracy: 0.5000\n",
            "Epoch 62/100\n",
            "25/25 [==============================] - 0s 1ms/step - loss: 0.6976 - accuracy: 0.4725\n",
            "Epoch 63/100\n",
            "25/25 [==============================] - 0s 1ms/step - loss: 0.6990 - accuracy: 0.5150\n",
            "Epoch 64/100\n",
            "25/25 [==============================] - 0s 2ms/step - loss: 0.6998 - accuracy: 0.4850\n",
            "Epoch 65/100\n",
            "25/25 [==============================] - 0s 2ms/step - loss: 0.6973 - accuracy: 0.5163\n",
            "Epoch 66/100\n",
            "25/25 [==============================] - 0s 2ms/step - loss: 0.6982 - accuracy: 0.4863\n",
            "Epoch 67/100\n",
            "25/25 [==============================] - 0s 2ms/step - loss: 0.6980 - accuracy: 0.4888\n",
            "Epoch 68/100\n",
            "25/25 [==============================] - 0s 2ms/step - loss: 0.6961 - accuracy: 0.5013\n",
            "Epoch 69/100\n",
            "25/25 [==============================] - 0s 2ms/step - loss: 0.6983 - accuracy: 0.4675\n",
            "Epoch 70/100\n",
            "25/25 [==============================] - 0s 1ms/step - loss: 0.7047 - accuracy: 0.4913\n",
            "Epoch 71/100\n",
            "25/25 [==============================] - 0s 1ms/step - loss: 0.7006 - accuracy: 0.4675\n",
            "Epoch 72/100\n",
            "25/25 [==============================] - 0s 2ms/step - loss: 0.6969 - accuracy: 0.4825\n",
            "Epoch 73/100\n",
            "25/25 [==============================] - 0s 1ms/step - loss: 0.7000 - accuracy: 0.4812\n",
            "Epoch 74/100\n",
            "25/25 [==============================] - 0s 1ms/step - loss: 0.6963 - accuracy: 0.5175\n",
            "Epoch 75/100\n",
            "25/25 [==============================] - 0s 1ms/step - loss: 0.6996 - accuracy: 0.4975\n",
            "Epoch 76/100\n",
            "25/25 [==============================] - 0s 2ms/step - loss: 0.6964 - accuracy: 0.4950\n",
            "Epoch 77/100\n",
            "25/25 [==============================] - 0s 2ms/step - loss: 0.6980 - accuracy: 0.5175\n",
            "Epoch 78/100\n",
            "25/25 [==============================] - 0s 2ms/step - loss: 0.6981 - accuracy: 0.4737\n",
            "Epoch 79/100\n",
            "25/25 [==============================] - 0s 1ms/step - loss: 0.6974 - accuracy: 0.4975\n",
            "Epoch 80/100\n",
            "25/25 [==============================] - 0s 2ms/step - loss: 0.6986 - accuracy: 0.4913\n",
            "Epoch 81/100\n",
            "25/25 [==============================] - 0s 1ms/step - loss: 0.6961 - accuracy: 0.4913\n",
            "Epoch 82/100\n",
            "25/25 [==============================] - 0s 2ms/step - loss: 0.7018 - accuracy: 0.4800\n",
            "Epoch 83/100\n",
            "25/25 [==============================] - 0s 1ms/step - loss: 0.6966 - accuracy: 0.4850\n",
            "Epoch 84/100\n",
            "25/25 [==============================] - 0s 1ms/step - loss: 0.6979 - accuracy: 0.4837\n",
            "Epoch 85/100\n",
            "25/25 [==============================] - 0s 1ms/step - loss: 0.6957 - accuracy: 0.4988\n",
            "Epoch 86/100\n",
            "25/25 [==============================] - 0s 2ms/step - loss: 0.6985 - accuracy: 0.5013\n",
            "Epoch 87/100\n",
            "25/25 [==============================] - 0s 1ms/step - loss: 0.6966 - accuracy: 0.5000\n",
            "Epoch 88/100\n",
            "25/25 [==============================] - 0s 1ms/step - loss: 0.6968 - accuracy: 0.4988\n",
            "Epoch 89/100\n",
            "25/25 [==============================] - 0s 2ms/step - loss: 0.6981 - accuracy: 0.5000\n",
            "Epoch 90/100\n",
            "25/25 [==============================] - 0s 2ms/step - loss: 0.6993 - accuracy: 0.4487\n",
            "Epoch 91/100\n",
            "25/25 [==============================] - 0s 2ms/step - loss: 0.6973 - accuracy: 0.4938\n",
            "Epoch 92/100\n",
            "25/25 [==============================] - 0s 2ms/step - loss: 0.6956 - accuracy: 0.5000\n",
            "Epoch 93/100\n",
            "25/25 [==============================] - 0s 2ms/step - loss: 0.6990 - accuracy: 0.4700\n",
            "Epoch 94/100\n",
            "25/25 [==============================] - 0s 2ms/step - loss: 0.6986 - accuracy: 0.5362\n",
            "Epoch 95/100\n",
            "25/25 [==============================] - 0s 2ms/step - loss: 0.6989 - accuracy: 0.4725\n",
            "Epoch 96/100\n",
            "25/25 [==============================] - 0s 1ms/step - loss: 0.6957 - accuracy: 0.4925\n",
            "Epoch 97/100\n",
            "25/25 [==============================] - 0s 1ms/step - loss: 0.6976 - accuracy: 0.5238\n",
            "Epoch 98/100\n",
            "25/25 [==============================] - 0s 1ms/step - loss: 0.6986 - accuracy: 0.4850\n",
            "Epoch 99/100\n",
            "25/25 [==============================] - 0s 1ms/step - loss: 0.6967 - accuracy: 0.5063\n",
            "Epoch 100/100\n",
            "25/25 [==============================] - 0s 2ms/step - loss: 0.6992 - accuracy: 0.5150\n"
          ],
          "name": "stdout"
        },
        {
          "output_type": "execute_result",
          "data": {
            "text/plain": [
              "<tensorflow.python.keras.callbacks.History at 0x7fe7eda66750>"
            ]
          },
          "metadata": {
            "tags": []
          },
          "execution_count": 12
        }
      ]
    },
    {
      "cell_type": "code",
      "metadata": {
        "colab": {
          "base_uri": "https://localhost:8080/"
        },
        "id": "nxyY6_5KAGtU",
        "outputId": "dab377b1-ae5a-49c2-cdea-4e8955645081"
      },
      "source": [
        "model_3.evaluate(X_test,y_test)"
      ],
      "execution_count": 13,
      "outputs": [
        {
          "output_type": "stream",
          "text": [
            "7/7 [==============================] - 0s 2ms/step - loss: 0.6936 - accuracy: 0.4800\n"
          ],
          "name": "stdout"
        },
        {
          "output_type": "execute_result",
          "data": {
            "text/plain": [
              "[0.6936008930206299, 0.47999998927116394]"
            ]
          },
          "metadata": {
            "tags": []
          },
          "execution_count": 13
        }
      ]
    },
    {
      "cell_type": "code",
      "metadata": {
        "id": "LHcO8_q4jrIr"
      },
      "source": [
        "# Lets add the activation function with 2 hidden layers and learning rate as 0.001"
      ],
      "execution_count": 14,
      "outputs": []
    },
    {
      "cell_type": "code",
      "metadata": {
        "colab": {
          "base_uri": "https://localhost:8080/"
        },
        "id": "ZgDIp_jij8zW",
        "outputId": "15ff8345-ec9d-4d9b-eb46-e59fbc0bfb19"
      },
      "source": [
        "tf.random.set_seed(42)\n",
        "\n",
        "# Create a model\n",
        "\n",
        "model_4 = tf.keras.Sequential([\n",
        "                               tf.keras.layers.Dense(4,activation=tf.keras.activations.relu),\n",
        "                               tf.keras.layers.Dense(4,activation=tf.keras.activations.relu),\n",
        "                               tf.keras.layers.Dense(1,activation=tf.keras.activations.sigmoid)\n",
        "])\n",
        "\n",
        "#Compile the model\n",
        "\n",
        "model_4.compile(loss=tf.keras.losses.BinaryCrossentropy(),\n",
        "                optimizer=tf.keras.optimizers.Adam(lr=0.001),\n",
        "                metrics=[\"accuracy\"])\n",
        "\n",
        "# fit the model\n",
        "\n",
        "history_4 = model_4.fit(X_train,y_train,epochs=200)"
      ],
      "execution_count": 15,
      "outputs": [
        {
          "output_type": "stream",
          "text": [
            "/usr/local/lib/python3.7/dist-packages/tensorflow/python/keras/optimizer_v2/optimizer_v2.py:375: UserWarning: The `lr` argument is deprecated, use `learning_rate` instead.\n",
            "  \"The `lr` argument is deprecated, use `learning_rate` instead.\")\n"
          ],
          "name": "stderr"
        },
        {
          "output_type": "stream",
          "text": [
            "Epoch 1/200\n",
            "25/25 [==============================] - 0s 1ms/step - loss: 0.6922 - accuracy: 0.4900\n",
            "Epoch 2/200\n",
            "25/25 [==============================] - 0s 1ms/step - loss: 0.6880 - accuracy: 0.5100\n",
            "Epoch 3/200\n",
            "25/25 [==============================] - 0s 1ms/step - loss: 0.6850 - accuracy: 0.5175\n",
            "Epoch 4/200\n",
            "25/25 [==============================] - 0s 1ms/step - loss: 0.6834 - accuracy: 0.5275\n",
            "Epoch 5/200\n",
            "25/25 [==============================] - 0s 1ms/step - loss: 0.6825 - accuracy: 0.5225\n",
            "Epoch 6/200\n",
            "25/25 [==============================] - 0s 1ms/step - loss: 0.6818 - accuracy: 0.5325\n",
            "Epoch 7/200\n",
            "25/25 [==============================] - 0s 1ms/step - loss: 0.6812 - accuracy: 0.5350\n",
            "Epoch 8/200\n",
            "25/25 [==============================] - 0s 1ms/step - loss: 0.6807 - accuracy: 0.5425\n",
            "Epoch 9/200\n",
            "25/25 [==============================] - 0s 1ms/step - loss: 0.6804 - accuracy: 0.5387\n",
            "Epoch 10/200\n",
            "25/25 [==============================] - 0s 1ms/step - loss: 0.6798 - accuracy: 0.5437\n",
            "Epoch 11/200\n",
            "25/25 [==============================] - 0s 1ms/step - loss: 0.6794 - accuracy: 0.5512\n",
            "Epoch 12/200\n",
            "25/25 [==============================] - 0s 1ms/step - loss: 0.6788 - accuracy: 0.5512\n",
            "Epoch 13/200\n",
            "25/25 [==============================] - 0s 2ms/step - loss: 0.6783 - accuracy: 0.5537\n",
            "Epoch 14/200\n",
            "25/25 [==============================] - 0s 1ms/step - loss: 0.6778 - accuracy: 0.5575\n",
            "Epoch 15/200\n",
            "25/25 [==============================] - 0s 1ms/step - loss: 0.6772 - accuracy: 0.5612\n",
            "Epoch 16/200\n",
            "25/25 [==============================] - 0s 1ms/step - loss: 0.6768 - accuracy: 0.5587\n",
            "Epoch 17/200\n",
            "25/25 [==============================] - 0s 1ms/step - loss: 0.6762 - accuracy: 0.5600\n",
            "Epoch 18/200\n",
            "25/25 [==============================] - 0s 1ms/step - loss: 0.6758 - accuracy: 0.5575\n",
            "Epoch 19/200\n",
            "25/25 [==============================] - 0s 1ms/step - loss: 0.6754 - accuracy: 0.5612\n",
            "Epoch 20/200\n",
            "25/25 [==============================] - 0s 1ms/step - loss: 0.6747 - accuracy: 0.5600\n",
            "Epoch 21/200\n",
            "25/25 [==============================] - 0s 2ms/step - loss: 0.6742 - accuracy: 0.5663\n",
            "Epoch 22/200\n",
            "25/25 [==============================] - 0s 1ms/step - loss: 0.6737 - accuracy: 0.5612\n",
            "Epoch 23/200\n",
            "25/25 [==============================] - 0s 1ms/step - loss: 0.6730 - accuracy: 0.5650\n",
            "Epoch 24/200\n",
            "25/25 [==============================] - 0s 1ms/step - loss: 0.6725 - accuracy: 0.5638\n",
            "Epoch 25/200\n",
            "25/25 [==============================] - 0s 1ms/step - loss: 0.6722 - accuracy: 0.5625\n",
            "Epoch 26/200\n",
            "25/25 [==============================] - 0s 1ms/step - loss: 0.6718 - accuracy: 0.5663\n",
            "Epoch 27/200\n",
            "25/25 [==============================] - 0s 1ms/step - loss: 0.6711 - accuracy: 0.5700\n",
            "Epoch 28/200\n",
            "25/25 [==============================] - 0s 1ms/step - loss: 0.6706 - accuracy: 0.5650\n",
            "Epoch 29/200\n",
            "25/25 [==============================] - 0s 1ms/step - loss: 0.6701 - accuracy: 0.5663\n",
            "Epoch 30/200\n",
            "25/25 [==============================] - 0s 2ms/step - loss: 0.6696 - accuracy: 0.5688\n",
            "Epoch 31/200\n",
            "25/25 [==============================] - 0s 1ms/step - loss: 0.6691 - accuracy: 0.5688\n",
            "Epoch 32/200\n",
            "25/25 [==============================] - 0s 1ms/step - loss: 0.6685 - accuracy: 0.5750\n",
            "Epoch 33/200\n",
            "25/25 [==============================] - 0s 1ms/step - loss: 0.6680 - accuracy: 0.5763\n",
            "Epoch 34/200\n",
            "25/25 [==============================] - 0s 2ms/step - loss: 0.6675 - accuracy: 0.5763\n",
            "Epoch 35/200\n",
            "25/25 [==============================] - 0s 1ms/step - loss: 0.6671 - accuracy: 0.5700\n",
            "Epoch 36/200\n",
            "25/25 [==============================] - 0s 1ms/step - loss: 0.6665 - accuracy: 0.5713\n",
            "Epoch 37/200\n",
            "25/25 [==============================] - 0s 1ms/step - loss: 0.6665 - accuracy: 0.5713\n",
            "Epoch 38/200\n",
            "25/25 [==============================] - 0s 1ms/step - loss: 0.6659 - accuracy: 0.5700\n",
            "Epoch 39/200\n",
            "25/25 [==============================] - 0s 1ms/step - loss: 0.6649 - accuracy: 0.5738\n",
            "Epoch 40/200\n",
            "25/25 [==============================] - 0s 1ms/step - loss: 0.6646 - accuracy: 0.5763\n",
            "Epoch 41/200\n",
            "25/25 [==============================] - 0s 2ms/step - loss: 0.6641 - accuracy: 0.5713\n",
            "Epoch 42/200\n",
            "25/25 [==============================] - 0s 1ms/step - loss: 0.6636 - accuracy: 0.5750\n",
            "Epoch 43/200\n",
            "25/25 [==============================] - 0s 1ms/step - loss: 0.6632 - accuracy: 0.5775\n",
            "Epoch 44/200\n",
            "25/25 [==============================] - 0s 1ms/step - loss: 0.6625 - accuracy: 0.5750\n",
            "Epoch 45/200\n",
            "25/25 [==============================] - 0s 1ms/step - loss: 0.6621 - accuracy: 0.5788\n",
            "Epoch 46/200\n",
            "25/25 [==============================] - 0s 1ms/step - loss: 0.6617 - accuracy: 0.5700\n",
            "Epoch 47/200\n",
            "25/25 [==============================] - 0s 2ms/step - loss: 0.6611 - accuracy: 0.5825\n",
            "Epoch 48/200\n",
            "25/25 [==============================] - 0s 1ms/step - loss: 0.6604 - accuracy: 0.5800\n",
            "Epoch 49/200\n",
            "25/25 [==============================] - 0s 1ms/step - loss: 0.6599 - accuracy: 0.5800\n",
            "Epoch 50/200\n",
            "25/25 [==============================] - 0s 1ms/step - loss: 0.6593 - accuracy: 0.5825\n",
            "Epoch 51/200\n",
            "25/25 [==============================] - 0s 1ms/step - loss: 0.6588 - accuracy: 0.5788\n",
            "Epoch 52/200\n",
            "25/25 [==============================] - 0s 1ms/step - loss: 0.6579 - accuracy: 0.5813\n",
            "Epoch 53/200\n",
            "25/25 [==============================] - 0s 2ms/step - loss: 0.6575 - accuracy: 0.5863\n",
            "Epoch 54/200\n",
            "25/25 [==============================] - 0s 2ms/step - loss: 0.6568 - accuracy: 0.5875\n",
            "Epoch 55/200\n",
            "25/25 [==============================] - 0s 2ms/step - loss: 0.6562 - accuracy: 0.5800\n",
            "Epoch 56/200\n",
            "25/25 [==============================] - 0s 1ms/step - loss: 0.6557 - accuracy: 0.5850\n",
            "Epoch 57/200\n",
            "25/25 [==============================] - 0s 2ms/step - loss: 0.6550 - accuracy: 0.5875\n",
            "Epoch 58/200\n",
            "25/25 [==============================] - 0s 1ms/step - loss: 0.6545 - accuracy: 0.5875\n",
            "Epoch 59/200\n",
            "25/25 [==============================] - 0s 1ms/step - loss: 0.6539 - accuracy: 0.5900\n",
            "Epoch 60/200\n",
            "25/25 [==============================] - 0s 1ms/step - loss: 0.6533 - accuracy: 0.5875\n",
            "Epoch 61/200\n",
            "25/25 [==============================] - 0s 1ms/step - loss: 0.6528 - accuracy: 0.5900\n",
            "Epoch 62/200\n",
            "25/25 [==============================] - 0s 1ms/step - loss: 0.6520 - accuracy: 0.5888\n",
            "Epoch 63/200\n",
            "25/25 [==============================] - 0s 1ms/step - loss: 0.6515 - accuracy: 0.5950\n",
            "Epoch 64/200\n",
            "25/25 [==============================] - 0s 2ms/step - loss: 0.6508 - accuracy: 0.5913\n",
            "Epoch 65/200\n",
            "25/25 [==============================] - 0s 1ms/step - loss: 0.6499 - accuracy: 0.5938\n",
            "Epoch 66/200\n",
            "25/25 [==============================] - 0s 1ms/step - loss: 0.6492 - accuracy: 0.5962\n",
            "Epoch 67/200\n",
            "25/25 [==============================] - 0s 1ms/step - loss: 0.6486 - accuracy: 0.5913\n",
            "Epoch 68/200\n",
            "25/25 [==============================] - 0s 1ms/step - loss: 0.6478 - accuracy: 0.5925\n",
            "Epoch 69/200\n",
            "25/25 [==============================] - 0s 1ms/step - loss: 0.6472 - accuracy: 0.5950\n",
            "Epoch 70/200\n",
            "25/25 [==============================] - 0s 1ms/step - loss: 0.6474 - accuracy: 0.5925\n",
            "Epoch 71/200\n",
            "25/25 [==============================] - 0s 1ms/step - loss: 0.6458 - accuracy: 0.5975\n",
            "Epoch 72/200\n",
            "25/25 [==============================] - 0s 2ms/step - loss: 0.6451 - accuracy: 0.5975\n",
            "Epoch 73/200\n",
            "25/25 [==============================] - 0s 1ms/step - loss: 0.6442 - accuracy: 0.5987\n",
            "Epoch 74/200\n",
            "25/25 [==============================] - 0s 1ms/step - loss: 0.6433 - accuracy: 0.6000\n",
            "Epoch 75/200\n",
            "25/25 [==============================] - 0s 1ms/step - loss: 0.6425 - accuracy: 0.6000\n",
            "Epoch 76/200\n",
            "25/25 [==============================] - 0s 2ms/step - loss: 0.6413 - accuracy: 0.6087\n",
            "Epoch 77/200\n",
            "25/25 [==============================] - 0s 1ms/step - loss: 0.6404 - accuracy: 0.6087\n",
            "Epoch 78/200\n",
            "25/25 [==============================] - 0s 1ms/step - loss: 0.6396 - accuracy: 0.6100\n",
            "Epoch 79/200\n",
            "25/25 [==============================] - 0s 1ms/step - loss: 0.6383 - accuracy: 0.6175\n",
            "Epoch 80/200\n",
            "25/25 [==============================] - 0s 1ms/step - loss: 0.6374 - accuracy: 0.6162\n",
            "Epoch 81/200\n",
            "25/25 [==============================] - 0s 1ms/step - loss: 0.6363 - accuracy: 0.6150\n",
            "Epoch 82/200\n",
            "25/25 [==============================] - 0s 1ms/step - loss: 0.6348 - accuracy: 0.6200\n",
            "Epoch 83/200\n",
            "25/25 [==============================] - 0s 2ms/step - loss: 0.6335 - accuracy: 0.6187\n",
            "Epoch 84/200\n",
            "25/25 [==============================] - 0s 1ms/step - loss: 0.6324 - accuracy: 0.6187\n",
            "Epoch 85/200\n",
            "25/25 [==============================] - 0s 1ms/step - loss: 0.6308 - accuracy: 0.6187\n",
            "Epoch 86/200\n",
            "25/25 [==============================] - 0s 1ms/step - loss: 0.6299 - accuracy: 0.6225\n",
            "Epoch 87/200\n",
            "25/25 [==============================] - 0s 1ms/step - loss: 0.6285 - accuracy: 0.6237\n",
            "Epoch 88/200\n",
            "25/25 [==============================] - 0s 1ms/step - loss: 0.6270 - accuracy: 0.6250\n",
            "Epoch 89/200\n",
            "25/25 [==============================] - 0s 1ms/step - loss: 0.6260 - accuracy: 0.6300\n",
            "Epoch 90/200\n",
            "25/25 [==============================] - 0s 1ms/step - loss: 0.6240 - accuracy: 0.6275\n",
            "Epoch 91/200\n",
            "25/25 [==============================] - 0s 1ms/step - loss: 0.6221 - accuracy: 0.6275\n",
            "Epoch 92/200\n",
            "25/25 [==============================] - 0s 1ms/step - loss: 0.6201 - accuracy: 0.6338\n",
            "Epoch 93/200\n",
            "25/25 [==============================] - 0s 1ms/step - loss: 0.6177 - accuracy: 0.6438\n",
            "Epoch 94/200\n",
            "25/25 [==============================] - 0s 2ms/step - loss: 0.6150 - accuracy: 0.6425\n",
            "Epoch 95/200\n",
            "25/25 [==============================] - 0s 1ms/step - loss: 0.6120 - accuracy: 0.6550\n",
            "Epoch 96/200\n",
            "25/25 [==============================] - 0s 2ms/step - loss: 0.6094 - accuracy: 0.6475\n",
            "Epoch 97/200\n",
            "25/25 [==============================] - 0s 1ms/step - loss: 0.6061 - accuracy: 0.6800\n",
            "Epoch 98/200\n",
            "25/25 [==============================] - 0s 1ms/step - loss: 0.6026 - accuracy: 0.6737\n",
            "Epoch 99/200\n",
            "25/25 [==============================] - 0s 1ms/step - loss: 0.5967 - accuracy: 0.6963\n",
            "Epoch 100/200\n",
            "25/25 [==============================] - 0s 1ms/step - loss: 0.5897 - accuracy: 0.7125\n",
            "Epoch 101/200\n",
            "25/25 [==============================] - 0s 1ms/step - loss: 0.5825 - accuracy: 0.7225\n",
            "Epoch 102/200\n",
            "25/25 [==============================] - 0s 1ms/step - loss: 0.5774 - accuracy: 0.7462\n",
            "Epoch 103/200\n",
            "25/25 [==============================] - 0s 2ms/step - loss: 0.5718 - accuracy: 0.7487\n",
            "Epoch 104/200\n",
            "25/25 [==============================] - 0s 1ms/step - loss: 0.5673 - accuracy: 0.7675\n",
            "Epoch 105/200\n",
            "25/25 [==============================] - 0s 1ms/step - loss: 0.5628 - accuracy: 0.7800\n",
            "Epoch 106/200\n",
            "25/25 [==============================] - 0s 2ms/step - loss: 0.5576 - accuracy: 0.7700\n",
            "Epoch 107/200\n",
            "25/25 [==============================] - 0s 2ms/step - loss: 0.5531 - accuracy: 0.7800\n",
            "Epoch 108/200\n",
            "25/25 [==============================] - 0s 1ms/step - loss: 0.5482 - accuracy: 0.7837\n",
            "Epoch 109/200\n",
            "25/25 [==============================] - 0s 1ms/step - loss: 0.5442 - accuracy: 0.7763\n",
            "Epoch 110/200\n",
            "25/25 [==============================] - 0s 1ms/step - loss: 0.5401 - accuracy: 0.7788\n",
            "Epoch 111/200\n",
            "25/25 [==============================] - 0s 1ms/step - loss: 0.5360 - accuracy: 0.7987\n",
            "Epoch 112/200\n",
            "25/25 [==============================] - 0s 1ms/step - loss: 0.5311 - accuracy: 0.7962\n",
            "Epoch 113/200\n",
            "25/25 [==============================] - 0s 1ms/step - loss: 0.5267 - accuracy: 0.7937\n",
            "Epoch 114/200\n",
            "25/25 [==============================] - 0s 1ms/step - loss: 0.5223 - accuracy: 0.7975\n",
            "Epoch 115/200\n",
            "25/25 [==============================] - 0s 2ms/step - loss: 0.5178 - accuracy: 0.8175\n",
            "Epoch 116/200\n",
            "25/25 [==============================] - 0s 2ms/step - loss: 0.5130 - accuracy: 0.8238\n",
            "Epoch 117/200\n",
            "25/25 [==============================] - 0s 1ms/step - loss: 0.5084 - accuracy: 0.8050\n",
            "Epoch 118/200\n",
            "25/25 [==============================] - 0s 1ms/step - loss: 0.5037 - accuracy: 0.8300\n",
            "Epoch 119/200\n",
            "25/25 [==============================] - 0s 1ms/step - loss: 0.4980 - accuracy: 0.8363\n",
            "Epoch 120/200\n",
            "25/25 [==============================] - 0s 1ms/step - loss: 0.4925 - accuracy: 0.8350\n",
            "Epoch 121/200\n",
            "25/25 [==============================] - 0s 1ms/step - loss: 0.4875 - accuracy: 0.8413\n",
            "Epoch 122/200\n",
            "25/25 [==============================] - 0s 1ms/step - loss: 0.4816 - accuracy: 0.8450\n",
            "Epoch 123/200\n",
            "25/25 [==============================] - 0s 1ms/step - loss: 0.4744 - accuracy: 0.8425\n",
            "Epoch 124/200\n",
            "25/25 [==============================] - 0s 1ms/step - loss: 0.4654 - accuracy: 0.8413\n",
            "Epoch 125/200\n",
            "25/25 [==============================] - 0s 1ms/step - loss: 0.4526 - accuracy: 0.8250\n",
            "Epoch 126/200\n",
            "25/25 [==============================] - 0s 2ms/step - loss: 0.4398 - accuracy: 0.8388\n",
            "Epoch 127/200\n",
            "25/25 [==============================] - 0s 1ms/step - loss: 0.4274 - accuracy: 0.8637\n",
            "Epoch 128/200\n",
            "25/25 [==============================] - 0s 1ms/step - loss: 0.4150 - accuracy: 0.8863\n",
            "Epoch 129/200\n",
            "25/25 [==============================] - 0s 1ms/step - loss: 0.4049 - accuracy: 0.9025\n",
            "Epoch 130/200\n",
            "25/25 [==============================] - 0s 1ms/step - loss: 0.3946 - accuracy: 0.9250\n",
            "Epoch 131/200\n",
            "25/25 [==============================] - 0s 1ms/step - loss: 0.3848 - accuracy: 0.9287\n",
            "Epoch 132/200\n",
            "25/25 [==============================] - 0s 1ms/step - loss: 0.3752 - accuracy: 0.9337\n",
            "Epoch 133/200\n",
            "25/25 [==============================] - 0s 1ms/step - loss: 0.3663 - accuracy: 0.9438\n",
            "Epoch 134/200\n",
            "25/25 [==============================] - 0s 1ms/step - loss: 0.3576 - accuracy: 0.9538\n",
            "Epoch 135/200\n",
            "25/25 [==============================] - 0s 1ms/step - loss: 0.3497 - accuracy: 0.9563\n",
            "Epoch 136/200\n",
            "25/25 [==============================] - 0s 1ms/step - loss: 0.3412 - accuracy: 0.9663\n",
            "Epoch 137/200\n",
            "25/25 [==============================] - 0s 1ms/step - loss: 0.3338 - accuracy: 0.9663\n",
            "Epoch 138/200\n",
            "25/25 [==============================] - 0s 1ms/step - loss: 0.3253 - accuracy: 0.9750\n",
            "Epoch 139/200\n",
            "25/25 [==============================] - 0s 1ms/step - loss: 0.3183 - accuracy: 0.9725\n",
            "Epoch 140/200\n",
            "25/25 [==============================] - 0s 1ms/step - loss: 0.3107 - accuracy: 0.9825\n",
            "Epoch 141/200\n",
            "25/25 [==============================] - 0s 1ms/step - loss: 0.3037 - accuracy: 0.9837\n",
            "Epoch 142/200\n",
            "25/25 [==============================] - 0s 2ms/step - loss: 0.2971 - accuracy: 0.9887\n",
            "Epoch 143/200\n",
            "25/25 [==============================] - 0s 2ms/step - loss: 0.2905 - accuracy: 0.9875\n",
            "Epoch 144/200\n",
            "25/25 [==============================] - 0s 1ms/step - loss: 0.2835 - accuracy: 0.9900\n",
            "Epoch 145/200\n",
            "25/25 [==============================] - 0s 1ms/step - loss: 0.2775 - accuracy: 0.9887\n",
            "Epoch 146/200\n",
            "25/25 [==============================] - 0s 1ms/step - loss: 0.2710 - accuracy: 0.9937\n",
            "Epoch 147/200\n",
            "25/25 [==============================] - 0s 1ms/step - loss: 0.2651 - accuracy: 0.9900\n",
            "Epoch 148/200\n",
            "25/25 [==============================] - 0s 1ms/step - loss: 0.2594 - accuracy: 0.9900\n",
            "Epoch 149/200\n",
            "25/25 [==============================] - 0s 1ms/step - loss: 0.2537 - accuracy: 0.9912\n",
            "Epoch 150/200\n",
            "25/25 [==============================] - 0s 2ms/step - loss: 0.2483 - accuracy: 0.9925\n",
            "Epoch 151/200\n",
            "25/25 [==============================] - 0s 1ms/step - loss: 0.2427 - accuracy: 0.9925\n",
            "Epoch 152/200\n",
            "25/25 [==============================] - 0s 2ms/step - loss: 0.2376 - accuracy: 0.9912\n",
            "Epoch 153/200\n",
            "25/25 [==============================] - 0s 1ms/step - loss: 0.2325 - accuracy: 0.9937\n",
            "Epoch 154/200\n",
            "25/25 [==============================] - 0s 1ms/step - loss: 0.2271 - accuracy: 0.9912\n",
            "Epoch 155/200\n",
            "25/25 [==============================] - 0s 1ms/step - loss: 0.2223 - accuracy: 0.9937\n",
            "Epoch 156/200\n",
            "25/25 [==============================] - 0s 1ms/step - loss: 0.2178 - accuracy: 0.9925\n",
            "Epoch 157/200\n",
            "25/25 [==============================] - 0s 1ms/step - loss: 0.2135 - accuracy: 0.9937\n",
            "Epoch 158/200\n",
            "25/25 [==============================] - 0s 1ms/step - loss: 0.2094 - accuracy: 0.9950\n",
            "Epoch 159/200\n",
            "25/25 [==============================] - 0s 2ms/step - loss: 0.2048 - accuracy: 0.9937\n",
            "Epoch 160/200\n",
            "25/25 [==============================] - 0s 1ms/step - loss: 0.1999 - accuracy: 0.9937\n",
            "Epoch 161/200\n",
            "25/25 [==============================] - 0s 1ms/step - loss: 0.1965 - accuracy: 0.9937\n",
            "Epoch 162/200\n",
            "25/25 [==============================] - 0s 1ms/step - loss: 0.1916 - accuracy: 0.9925\n",
            "Epoch 163/200\n",
            "25/25 [==============================] - 0s 1ms/step - loss: 0.1873 - accuracy: 0.9937\n",
            "Epoch 164/200\n",
            "25/25 [==============================] - 0s 1ms/step - loss: 0.1836 - accuracy: 0.9950\n",
            "Epoch 165/200\n",
            "25/25 [==============================] - 0s 2ms/step - loss: 0.1789 - accuracy: 0.9937\n",
            "Epoch 166/200\n",
            "25/25 [==============================] - 0s 2ms/step - loss: 0.1751 - accuracy: 0.9937\n",
            "Epoch 167/200\n",
            "25/25 [==============================] - 0s 2ms/step - loss: 0.1710 - accuracy: 0.9937\n",
            "Epoch 168/200\n",
            "25/25 [==============================] - 0s 2ms/step - loss: 0.1670 - accuracy: 0.9937\n",
            "Epoch 169/200\n",
            "25/25 [==============================] - 0s 1ms/step - loss: 0.1634 - accuracy: 0.9937\n",
            "Epoch 170/200\n",
            "25/25 [==============================] - 0s 1ms/step - loss: 0.1598 - accuracy: 0.9937\n",
            "Epoch 171/200\n",
            "25/25 [==============================] - 0s 1ms/step - loss: 0.1563 - accuracy: 0.9937\n",
            "Epoch 172/200\n",
            "25/25 [==============================] - 0s 1ms/step - loss: 0.1534 - accuracy: 0.9937\n",
            "Epoch 173/200\n",
            "25/25 [==============================] - 0s 2ms/step - loss: 0.1496 - accuracy: 0.9937\n",
            "Epoch 174/200\n",
            "25/25 [==============================] - 0s 2ms/step - loss: 0.1470 - accuracy: 0.9937\n",
            "Epoch 175/200\n",
            "25/25 [==============================] - 0s 1ms/step - loss: 0.1438 - accuracy: 0.9950\n",
            "Epoch 176/200\n",
            "25/25 [==============================] - 0s 1ms/step - loss: 0.1407 - accuracy: 0.9950\n",
            "Epoch 177/200\n",
            "25/25 [==============================] - 0s 1ms/step - loss: 0.1377 - accuracy: 0.9950\n",
            "Epoch 178/200\n",
            "25/25 [==============================] - 0s 1ms/step - loss: 0.1349 - accuracy: 0.9937\n",
            "Epoch 179/200\n",
            "25/25 [==============================] - 0s 1ms/step - loss: 0.1322 - accuracy: 0.9937\n",
            "Epoch 180/200\n",
            "25/25 [==============================] - 0s 1ms/step - loss: 0.1298 - accuracy: 0.9937\n",
            "Epoch 181/200\n",
            "25/25 [==============================] - 0s 1ms/step - loss: 0.1271 - accuracy: 0.9950\n",
            "Epoch 182/200\n",
            "25/25 [==============================] - 0s 2ms/step - loss: 0.1251 - accuracy: 0.9937\n",
            "Epoch 183/200\n",
            "25/25 [==============================] - 0s 2ms/step - loss: 0.1227 - accuracy: 0.9950\n",
            "Epoch 184/200\n",
            "25/25 [==============================] - 0s 1ms/step - loss: 0.1204 - accuracy: 0.9937\n",
            "Epoch 185/200\n",
            "25/25 [==============================] - 0s 1ms/step - loss: 0.1183 - accuracy: 0.9937\n",
            "Epoch 186/200\n",
            "25/25 [==============================] - 0s 2ms/step - loss: 0.1162 - accuracy: 0.9937\n",
            "Epoch 187/200\n",
            "25/25 [==============================] - 0s 1ms/step - loss: 0.1138 - accuracy: 0.9950\n",
            "Epoch 188/200\n",
            "25/25 [==============================] - 0s 1ms/step - loss: 0.1120 - accuracy: 0.9950\n",
            "Epoch 189/200\n",
            "25/25 [==============================] - 0s 1ms/step - loss: 0.1102 - accuracy: 0.9950\n",
            "Epoch 190/200\n",
            "25/25 [==============================] - 0s 1ms/step - loss: 0.1083 - accuracy: 0.9937\n",
            "Epoch 191/200\n",
            "25/25 [==============================] - 0s 1ms/step - loss: 0.1062 - accuracy: 0.9937\n",
            "Epoch 192/200\n",
            "25/25 [==============================] - 0s 2ms/step - loss: 0.1045 - accuracy: 0.9937\n",
            "Epoch 193/200\n",
            "25/25 [==============================] - 0s 2ms/step - loss: 0.1026 - accuracy: 0.9937\n",
            "Epoch 194/200\n",
            "25/25 [==============================] - 0s 2ms/step - loss: 0.1010 - accuracy: 0.9937\n",
            "Epoch 195/200\n",
            "25/25 [==============================] - 0s 1ms/step - loss: 0.0995 - accuracy: 0.9950\n",
            "Epoch 196/200\n",
            "25/25 [==============================] - 0s 1ms/step - loss: 0.0978 - accuracy: 0.9950\n",
            "Epoch 197/200\n",
            "25/25 [==============================] - 0s 1ms/step - loss: 0.0964 - accuracy: 0.9937\n",
            "Epoch 198/200\n",
            "25/25 [==============================] - 0s 1ms/step - loss: 0.0949 - accuracy: 0.9950\n",
            "Epoch 199/200\n",
            "25/25 [==============================] - 0s 1ms/step - loss: 0.0932 - accuracy: 0.9937\n",
            "Epoch 200/200\n",
            "25/25 [==============================] - 0s 1ms/step - loss: 0.0919 - accuracy: 0.9937\n"
          ],
          "name": "stdout"
        }
      ]
    },
    {
      "cell_type": "code",
      "metadata": {
        "colab": {
          "base_uri": "https://localhost:8080/"
        },
        "id": "OheLkk5xnAZa",
        "outputId": "a342036c-fac5-4313-9a0b-5e0f5292d1ca"
      },
      "source": [
        "model_4.evaluate(X_train, y_train)"
      ],
      "execution_count": 16,
      "outputs": [
        {
          "output_type": "stream",
          "text": [
            "25/25 [==============================] - 0s 1ms/step - loss: 0.0908 - accuracy: 0.9950\n"
          ],
          "name": "stdout"
        },
        {
          "output_type": "execute_result",
          "data": {
            "text/plain": [
              "[0.09077568352222443, 0.9950000047683716]"
            ]
          },
          "metadata": {
            "tags": []
          },
          "execution_count": 16
        }
      ]
    },
    {
      "cell_type": "code",
      "metadata": {
        "id": "Rr2AB7Vx_LWa"
      },
      "source": [
        "# lets try that model to learn faster."
      ],
      "execution_count": 17,
      "outputs": []
    },
    {
      "cell_type": "code",
      "metadata": {
        "colab": {
          "base_uri": "https://localhost:8080/"
        },
        "id": "zQiX1Ru9_ba2",
        "outputId": "4c92401f-cc9f-4dfa-bba5-5df4e585cf11"
      },
      "source": [
        "tf.random.set_seed(42)\n",
        "# create a model\n",
        "model_5=tf.keras.Sequential([\n",
        "                             tf.keras.layers.Dense(5,activation=tf.keras.activations.relu),\n",
        "                             tf.keras.layers.Dense(5,activation=tf.keras.activations.relu),\n",
        "                             tf.keras.layers.Dense(1,activation=tf.keras.activations.sigmoid)\n",
        "])\n",
        "\n",
        "#compile a model\n",
        "model_5.compile(loss=tf.keras.losses.BinaryCrossentropy(),\n",
        "                optimizer=tf.keras.optimizers.Adam(lr=0.01),\n",
        "                metrics=[\"accuracy\"])\n",
        "\n",
        "#fit the model\n",
        "history_5=model_5.fit(X_train,y_train,epochs=25)\n"
      ],
      "execution_count": 18,
      "outputs": [
        {
          "output_type": "stream",
          "text": [
            "Epoch 1/25\n"
          ],
          "name": "stdout"
        },
        {
          "output_type": "stream",
          "text": [
            "/usr/local/lib/python3.7/dist-packages/tensorflow/python/keras/optimizer_v2/optimizer_v2.py:375: UserWarning: The `lr` argument is deprecated, use `learning_rate` instead.\n",
            "  \"The `lr` argument is deprecated, use `learning_rate` instead.\")\n"
          ],
          "name": "stderr"
        },
        {
          "output_type": "stream",
          "text": [
            "25/25 [==============================] - 0s 1ms/step - loss: 0.6910 - accuracy: 0.5138\n",
            "Epoch 2/25\n",
            "25/25 [==============================] - 0s 1ms/step - loss: 0.6873 - accuracy: 0.5362\n",
            "Epoch 3/25\n",
            "25/25 [==============================] - 0s 1ms/step - loss: 0.6793 - accuracy: 0.5550\n",
            "Epoch 4/25\n",
            "25/25 [==============================] - 0s 1ms/step - loss: 0.6713 - accuracy: 0.5738\n",
            "Epoch 5/25\n",
            "25/25 [==============================] - 0s 1ms/step - loss: 0.6612 - accuracy: 0.6137\n",
            "Epoch 6/25\n",
            "25/25 [==============================] - 0s 2ms/step - loss: 0.6466 - accuracy: 0.7038\n",
            "Epoch 7/25\n",
            "25/25 [==============================] - 0s 1ms/step - loss: 0.6175 - accuracy: 0.7550\n",
            "Epoch 8/25\n",
            "25/25 [==============================] - 0s 1ms/step - loss: 0.5709 - accuracy: 0.8450\n",
            "Epoch 9/25\n",
            "25/25 [==============================] - 0s 1ms/step - loss: 0.4877 - accuracy: 0.9187\n",
            "Epoch 10/25\n",
            "25/25 [==============================] - 0s 1ms/step - loss: 0.3791 - accuracy: 0.9638\n",
            "Epoch 11/25\n",
            "25/25 [==============================] - 0s 1ms/step - loss: 0.2872 - accuracy: 0.9800\n",
            "Epoch 12/25\n",
            "25/25 [==============================] - 0s 1ms/step - loss: 0.2093 - accuracy: 0.9900\n",
            "Epoch 13/25\n",
            "25/25 [==============================] - 0s 2ms/step - loss: 0.1547 - accuracy: 0.9925\n",
            "Epoch 14/25\n",
            "25/25 [==============================] - 0s 1ms/step - loss: 0.1190 - accuracy: 0.9975\n",
            "Epoch 15/25\n",
            "25/25 [==============================] - 0s 1ms/step - loss: 0.0961 - accuracy: 0.9987\n",
            "Epoch 16/25\n",
            "25/25 [==============================] - 0s 1ms/step - loss: 0.0799 - accuracy: 0.9950\n",
            "Epoch 17/25\n",
            "25/25 [==============================] - 0s 1ms/step - loss: 0.0669 - accuracy: 0.9975\n",
            "Epoch 18/25\n",
            "25/25 [==============================] - 0s 1ms/step - loss: 0.0613 - accuracy: 0.9962\n",
            "Epoch 19/25\n",
            "25/25 [==============================] - 0s 1ms/step - loss: 0.0557 - accuracy: 0.9987\n",
            "Epoch 20/25\n",
            "25/25 [==============================] - 0s 1ms/step - loss: 0.0492 - accuracy: 0.9987\n",
            "Epoch 21/25\n",
            "25/25 [==============================] - 0s 1ms/step - loss: 0.0472 - accuracy: 0.9987\n",
            "Epoch 22/25\n",
            "25/25 [==============================] - 0s 1ms/step - loss: 0.0425 - accuracy: 0.9962\n",
            "Epoch 23/25\n",
            "25/25 [==============================] - 0s 1ms/step - loss: 0.0345 - accuracy: 1.0000\n",
            "Epoch 24/25\n",
            "25/25 [==============================] - 0s 2ms/step - loss: 0.0319 - accuracy: 0.9987\n",
            "Epoch 25/25\n",
            "25/25 [==============================] - 0s 1ms/step - loss: 0.0289 - accuracy: 1.0000\n"
          ],
          "name": "stdout"
        }
      ]
    },
    {
      "cell_type": "code",
      "metadata": {
        "colab": {
          "base_uri": "https://localhost:8080/",
          "height": 298
        },
        "id": "BsTf1kgAATB-",
        "outputId": "6079f131-12d5-4851-feb3-ac7bbff9d125"
      },
      "source": [
        "pd.DataFrame(history_5.history).plot()\n",
        "model_5.evaluate(X_test,y_test)\n"
      ],
      "execution_count": 19,
      "outputs": [
        {
          "output_type": "stream",
          "text": [
            "7/7 [==============================] - 0s 2ms/step - loss: 0.0392 - accuracy: 0.9950\n"
          ],
          "name": "stdout"
        },
        {
          "output_type": "execute_result",
          "data": {
            "text/plain": [
              "[0.03915180265903473, 0.9950000047683716]"
            ]
          },
          "metadata": {
            "tags": []
          },
          "execution_count": 19
        },
        {
          "output_type": "display_data",
          "data": {
            "image/png": "[encoded data removed]",
            "text/plain": [
              "<Figure size 432x288 with 1 Axes>"
            ]
          },
          "metadata": {
            "tags": [],
            "needs_background": "light"
          }
        }
      ]
    },
    {
      "cell_type": "markdown",
      "metadata": {
        "id": "kUqCqA6jAhOd"
      },
      "source": [
        "**Learning Rate effect:**\n",
        "\n",
        "So just by increasing the learning rate by 10% we are able to trian the model in 1/10th of epochs. \n",
        "\n"
      ]
    },
    {
      "cell_type": "markdown",
      "metadata": {
        "id": "kl18OTySWFJG"
      },
      "source": [
        "#Confusion matrix"
      ]
    },
    {
      "cell_type": "code",
      "metadata": {
        "colab": {
          "base_uri": "https://localhost:8080/"
        },
        "id": "sh-8bLaBWgeU",
        "outputId": "ee137db8-78d8-4e9c-da79-b3be766982ca"
      },
      "source": [
        "y_pred = model_5.predict(X_test)\n",
        "\n",
        "model_5.evaluate(X_test,y_test)"
      ],
      "execution_count": 20,
      "outputs": [
        {
          "output_type": "stream",
          "text": [
            "7/7 [==============================] - 0s 2ms/step - loss: 0.0392 - accuracy: 0.9950\n"
          ],
          "name": "stdout"
        },
        {
          "output_type": "execute_result",
          "data": {
            "text/plain": [
              "[0.03915180265903473, 0.9950000047683716]"
            ]
          },
          "metadata": {
            "tags": []
          },
          "execution_count": 20
        }
      ]
    },
    {
      "cell_type": "code",
      "metadata": {
        "colab": {
          "base_uri": "https://localhost:8080/"
        },
        "id": "tnzz4OqiW5d1",
        "outputId": "c6ec7064-750b-46a0-aef1-140ca092fc77"
      },
      "source": [
        "tf.math.confusion_matrix(y_test,y_pred)"
      ],
      "execution_count": 21,
      "outputs": [
        {
          "output_type": "execute_result",
          "data": {
            "text/plain": [
              "<tf.Tensor: shape=(2, 2), dtype=int32, numpy=\n",
              "array([[106,   0],\n",
              "       [ 94,   0]], dtype=int32)>"
            ]
          },
          "metadata": {
            "tags": []
          },
          "execution_count": 21
        }
      ]
    },
    {
      "cell_type": "markdown",
      "metadata": {
        "id": "oX7U30G3XLgs"
      },
      "source": [
        "Now this is showing very high false negative case. However accuracy is quite high\n",
        "\n",
        "**Are we missing some thing?**"
      ]
    },
    {
      "cell_type": "code",
      "metadata": {
        "colab": {
          "base_uri": "https://localhost:8080/"
        },
        "id": "Muybr31rXk9k",
        "outputId": "61f01d96-5e91-4ee0-9baa-64ce28c81fe2"
      },
      "source": [
        "y_pred, y_test\n"
      ],
      "execution_count": 22,
      "outputs": [
        {
          "output_type": "execute_result",
          "data": {
            "text/plain": [
              "(array([[9.96610880e-01],\n",
              "        [9.98524129e-01],\n",
              "        [9.99044001e-01],\n",
              "        [9.89244878e-01],\n",
              "        [1.74764901e-01],\n",
              "        [9.95109618e-01],\n",
              "        [1.68004632e-03],\n",
              "        [9.67416465e-01],\n",
              "        [1.24388933e-03],\n",
              "        [1.82901621e-02],\n",
              "        [1.87754631e-03],\n",
              "        [9.95628476e-01],\n",
              "        [9.88482296e-01],\n",
              "        [2.65570879e-02],\n",
              "        [9.97949779e-01],\n",
              "        [9.86610651e-01],\n",
              "        [9.89385724e-01],\n",
              "        [9.92771029e-01],\n",
              "        [4.88653779e-03],\n",
              "        [2.66830623e-02],\n",
              "        [9.99763787e-01],\n",
              "        [7.89673328e-02],\n",
              "        [9.98938918e-01],\n",
              "        [2.86489725e-04],\n",
              "        [9.72360015e-01],\n",
              "        [2.01068103e-01],\n",
              "        [6.52518868e-03],\n",
              "        [9.94592845e-01],\n",
              "        [9.90350783e-01],\n",
              "        [9.84603643e-01],\n",
              "        [1.77073479e-03],\n",
              "        [8.53591084e-01],\n",
              "        [9.89894032e-01],\n",
              "        [9.99123275e-01],\n",
              "        [1.60238147e-03],\n",
              "        [1.13445520e-03],\n",
              "        [2.82407582e-01],\n",
              "        [4.57638502e-03],\n",
              "        [9.92381394e-01],\n",
              "        [9.93392825e-01],\n",
              "        [9.94925082e-01],\n",
              "        [1.68138325e-01],\n",
              "        [4.01526093e-02],\n",
              "        [9.96413291e-01],\n",
              "        [8.33162665e-03],\n",
              "        [9.81240869e-01],\n",
              "        [9.97443259e-01],\n",
              "        [9.95629549e-01],\n",
              "        [3.52710485e-04],\n",
              "        [1.63047612e-02],\n",
              "        [9.98509407e-01],\n",
              "        [9.80356097e-01],\n",
              "        [9.81019735e-01],\n",
              "        [9.57861662e-01],\n",
              "        [7.94082880e-04],\n",
              "        [2.47020423e-02],\n",
              "        [9.87201452e-01],\n",
              "        [1.03379220e-01],\n",
              "        [7.94059038e-03],\n",
              "        [9.38372552e-01],\n",
              "        [1.59683824e-03],\n",
              "        [9.99537945e-01],\n",
              "        [9.94194150e-01],\n",
              "        [9.20930505e-01],\n",
              "        [4.54202294e-03],\n",
              "        [4.47243452e-04],\n",
              "        [3.53250861e-01],\n",
              "        [3.67611647e-04],\n",
              "        [6.08354807e-04],\n",
              "        [9.72974122e-01],\n",
              "        [9.98408079e-01],\n",
              "        [9.89419281e-01],\n",
              "        [7.51035869e-01],\n",
              "        [8.21633935e-02],\n",
              "        [2.20566988e-03],\n",
              "        [9.99038160e-01],\n",
              "        [1.48040056e-03],\n",
              "        [9.87471104e-01],\n",
              "        [1.48768574e-01],\n",
              "        [9.12040591e-01],\n",
              "        [2.15699375e-02],\n",
              "        [8.38217735e-01],\n",
              "        [9.91118848e-01],\n",
              "        [9.97947335e-01],\n",
              "        [9.80516493e-01],\n",
              "        [5.09553254e-02],\n",
              "        [9.93384838e-01],\n",
              "        [9.97665763e-01],\n",
              "        [1.24082863e-02],\n",
              "        [9.22129035e-01],\n",
              "        [2.89979577e-03],\n",
              "        [9.95793104e-01],\n",
              "        [9.05214012e-01],\n",
              "        [9.97267723e-01],\n",
              "        [4.48450446e-03],\n",
              "        [2.64090300e-03],\n",
              "        [2.15047598e-03],\n",
              "        [6.31764531e-03],\n",
              "        [2.12719440e-02],\n",
              "        [3.16216320e-01],\n",
              "        [9.90274787e-01],\n",
              "        [1.29425526e-03],\n",
              "        [3.52251530e-03],\n",
              "        [1.27551973e-01],\n",
              "        [9.93523836e-01],\n",
              "        [4.03645635e-03],\n",
              "        [9.92354155e-02],\n",
              "        [9.11007047e-01],\n",
              "        [3.57061625e-03],\n",
              "        [3.38050723e-03],\n",
              "        [8.14765692e-03],\n",
              "        [9.94056582e-01],\n",
              "        [1.52754784e-03],\n",
              "        [9.56344247e-01],\n",
              "        [9.98782158e-01],\n",
              "        [9.05412436e-02],\n",
              "        [9.89620090e-01],\n",
              "        [9.88498449e-01],\n",
              "        [1.62506104e-03],\n",
              "        [1.33908093e-02],\n",
              "        [7.45594203e-02],\n",
              "        [9.92590308e-01],\n",
              "        [9.91723895e-01],\n",
              "        [3.21969390e-03],\n",
              "        [5.94735146e-04],\n",
              "        [6.66726172e-01],\n",
              "        [1.28959775e-01],\n",
              "        [9.99789238e-01],\n",
              "        [2.48968601e-04],\n",
              "        [2.01418516e-05],\n",
              "        [9.97555435e-01],\n",
              "        [1.07077062e-02],\n",
              "        [7.72804022e-03],\n",
              "        [9.78325367e-01],\n",
              "        [3.97598743e-03],\n",
              "        [1.07793510e-02],\n",
              "        [1.23213530e-02],\n",
              "        [3.07192458e-05],\n",
              "        [4.20928001e-04],\n",
              "        [4.91071343e-02],\n",
              "        [2.09023654e-02],\n",
              "        [3.26271653e-02],\n",
              "        [1.90988779e-02],\n",
              "        [4.39926982e-03],\n",
              "        [2.75772333e-01],\n",
              "        [1.18034184e-02],\n",
              "        [9.81329858e-01],\n",
              "        [9.88678277e-01],\n",
              "        [9.95980024e-01],\n",
              "        [9.12063241e-01],\n",
              "        [2.08258629e-03],\n",
              "        [9.95853841e-01],\n",
              "        [4.15873528e-03],\n",
              "        [1.23478174e-01],\n",
              "        [9.99509335e-01],\n",
              "        [3.13867033e-02],\n",
              "        [5.67266470e-05],\n",
              "        [1.08172894e-02],\n",
              "        [7.11679459e-04],\n",
              "        [7.61038065e-03],\n",
              "        [9.99613345e-01],\n",
              "        [5.19374013e-03],\n",
              "        [6.28417730e-02],\n",
              "        [5.59449196e-04],\n",
              "        [9.93094325e-01],\n",
              "        [9.87593532e-01],\n",
              "        [1.14161491e-01],\n",
              "        [9.82523561e-01],\n",
              "        [3.76315713e-02],\n",
              "        [2.61433125e-02],\n",
              "        [9.90532517e-01],\n",
              "        [2.48435438e-02],\n",
              "        [9.48176265e-01],\n",
              "        [9.93560314e-01],\n",
              "        [8.01086426e-04],\n",
              "        [1.21852756e-03],\n",
              "        [9.41804647e-01],\n",
              "        [9.71194506e-01],\n",
              "        [9.99250889e-01],\n",
              "        [9.78827953e-01],\n",
              "        [7.41228461e-03],\n",
              "        [9.97431755e-01],\n",
              "        [9.94659185e-01],\n",
              "        [5.75303435e-02],\n",
              "        [9.95031714e-01],\n",
              "        [4.32452559e-03],\n",
              "        [7.08276033e-03],\n",
              "        [9.83697295e-01],\n",
              "        [9.93083477e-01],\n",
              "        [9.99204278e-01],\n",
              "        [1.42723322e-04],\n",
              "        [1.54697895e-02],\n",
              "        [1.33976638e-02],\n",
              "        [9.97435212e-01],\n",
              "        [3.18739414e-02],\n",
              "        [9.96317863e-01],\n",
              "        [3.29523265e-01],\n",
              "        [9.97667789e-01],\n",
              "        [5.42303920e-03],\n",
              "        [9.98605609e-01]], dtype=float32), 521    1\n",
              " 737    1\n",
              " 740    1\n",
              " 660    1\n",
              " 411    0\n",
              "       ..\n",
              " 408    1\n",
              " 332    0\n",
              " 208    1\n",
              " 613    0\n",
              " 78     1\n",
              " Name: Label, Length: 200, dtype: int64)"
            ]
          },
          "metadata": {
            "tags": []
          },
          "execution_count": 22
        }
      ]
    },
    {
      "cell_type": "markdown",
      "metadata": {
        "id": "_oFvP8yXX60E"
      },
      "source": [
        "So one is having probability and other is in binary. Cool"
      ]
    },
    {
      "cell_type": "code",
      "metadata": {
        "colab": {
          "base_uri": "https://localhost:8080/"
        },
        "id": "zVdNl8DJYAtD",
        "outputId": "b920fed5-742f-4732-b373-3066c3facb72"
      },
      "source": [
        "y_pred = tf.round(y_pred)\n",
        "y_pred"
      ],
      "execution_count": 23,
      "outputs": [
        {
          "output_type": "execute_result",
          "data": {
            "text/plain": [
              "<tf.Tensor: shape=(200, 1), dtype=float32, numpy=\n",
              "array([[1.],\n",
              "       [1.],\n",
              "       [1.],\n",
              "       [1.],\n",
              "       [0.],\n",
              "       [1.],\n",
              "       [0.],\n",
              "       [1.],\n",
              "       [0.],\n",
              "       [0.],\n",
              "       [0.],\n",
              "       [1.],\n",
              "       [1.],\n",
              "       [0.],\n",
              "       [1.],\n",
              "       [1.],\n",
              "       [1.],\n",
              "       [1.],\n",
              "       [0.],\n",
              "       [0.],\n",
              "       [1.],\n",
              "       [0.],\n",
              "       [1.],\n",
              "       [0.],\n",
              "       [1.],\n",
              "       [0.],\n",
              "       [0.],\n",
              "       [1.],\n",
              "       [1.],\n",
              "       [1.],\n",
              "       [0.],\n",
              "       [1.],\n",
              "       [1.],\n",
              "       [1.],\n",
              "       [0.],\n",
              "       [0.],\n",
              "       [0.],\n",
              "       [0.],\n",
              "       [1.],\n",
              "       [1.],\n",
              "       [1.],\n",
              "       [0.],\n",
              "       [0.],\n",
              "       [1.],\n",
              "       [0.],\n",
              "       [1.],\n",
              "       [1.],\n",
              "       [1.],\n",
              "       [0.],\n",
              "       [0.],\n",
              "       [1.],\n",
              "       [1.],\n",
              "       [1.],\n",
              "       [1.],\n",
              "       [0.],\n",
              "       [0.],\n",
              "       [1.],\n",
              "       [0.],\n",
              "       [0.],\n",
              "       [1.],\n",
              "       [0.],\n",
              "       [1.],\n",
              "       [1.],\n",
              "       [1.],\n",
              "       [0.],\n",
              "       [0.],\n",
              "       [0.],\n",
              "       [0.],\n",
              "       [0.],\n",
              "       [1.],\n",
              "       [1.],\n",
              "       [1.],\n",
              "       [1.],\n",
              "       [0.],\n",
              "       [0.],\n",
              "       [1.],\n",
              "       [0.],\n",
              "       [1.],\n",
              "       [0.],\n",
              "       [1.],\n",
              "       [0.],\n",
              "       [1.],\n",
              "       [1.],\n",
              "       [1.],\n",
              "       [1.],\n",
              "       [0.],\n",
              "       [1.],\n",
              "       [1.],\n",
              "       [0.],\n",
              "       [1.],\n",
              "       [0.],\n",
              "       [1.],\n",
              "       [1.],\n",
              "       [1.],\n",
              "       [0.],\n",
              "       [0.],\n",
              "       [0.],\n",
              "       [0.],\n",
              "       [0.],\n",
              "       [0.],\n",
              "       [1.],\n",
              "       [0.],\n",
              "       [0.],\n",
              "       [0.],\n",
              "       [1.],\n",
              "       [0.],\n",
              "       [0.],\n",
              "       [1.],\n",
              "       [0.],\n",
              "       [0.],\n",
              "       [0.],\n",
              "       [1.],\n",
              "       [0.],\n",
              "       [1.],\n",
              "       [1.],\n",
              "       [0.],\n",
              "       [1.],\n",
              "       [1.],\n",
              "       [0.],\n",
              "       [0.],\n",
              "       [0.],\n",
              "       [1.],\n",
              "       [1.],\n",
              "       [0.],\n",
              "       [0.],\n",
              "       [1.],\n",
              "       [0.],\n",
              "       [1.],\n",
              "       [0.],\n",
              "       [0.],\n",
              "       [1.],\n",
              "       [0.],\n",
              "       [0.],\n",
              "       [1.],\n",
              "       [0.],\n",
              "       [0.],\n",
              "       [0.],\n",
              "       [0.],\n",
              "       [0.],\n",
              "       [0.],\n",
              "       [0.],\n",
              "       [0.],\n",
              "       [0.],\n",
              "       [0.],\n",
              "       [0.],\n",
              "       [0.],\n",
              "       [1.],\n",
              "       [1.],\n",
              "       [1.],\n",
              "       [1.],\n",
              "       [0.],\n",
              "       [1.],\n",
              "       [0.],\n",
              "       [0.],\n",
              "       [1.],\n",
              "       [0.],\n",
              "       [0.],\n",
              "       [0.],\n",
              "       [0.],\n",
              "       [0.],\n",
              "       [1.],\n",
              "       [0.],\n",
              "       [0.],\n",
              "       [0.],\n",
              "       [1.],\n",
              "       [1.],\n",
              "       [0.],\n",
              "       [1.],\n",
              "       [0.],\n",
              "       [0.],\n",
              "       [1.],\n",
              "       [0.],\n",
              "       [1.],\n",
              "       [1.],\n",
              "       [0.],\n",
              "       [0.],\n",
              "       [1.],\n",
              "       [1.],\n",
              "       [1.],\n",
              "       [1.],\n",
              "       [0.],\n",
              "       [1.],\n",
              "       [1.],\n",
              "       [0.],\n",
              "       [1.],\n",
              "       [0.],\n",
              "       [0.],\n",
              "       [1.],\n",
              "       [1.],\n",
              "       [1.],\n",
              "       [0.],\n",
              "       [0.],\n",
              "       [0.],\n",
              "       [1.],\n",
              "       [0.],\n",
              "       [1.],\n",
              "       [0.],\n",
              "       [1.],\n",
              "       [0.],\n",
              "       [1.]], dtype=float32)>"
            ]
          },
          "metadata": {
            "tags": []
          },
          "execution_count": 23
        }
      ]
    },
    {
      "cell_type": "code",
      "metadata": {
        "colab": {
          "base_uri": "https://localhost:8080/"
        },
        "id": "764qb3bYYQSN",
        "outputId": "471b95c2-cf1f-402e-ba58-d920d69e1763"
      },
      "source": [
        "tf.math.confusion_matrix(y_test, y_pred)"
      ],
      "execution_count": 24,
      "outputs": [
        {
          "output_type": "execute_result",
          "data": {
            "text/plain": [
              "<tf.Tensor: shape=(2, 2), dtype=int32, numpy=\n",
              "array([[105,   1],\n",
              "       [  0,  94]], dtype=int32)>"
            ]
          },
          "metadata": {
            "tags": []
          },
          "execution_count": 24
        }
      ]
    },
    {
      "cell_type": "markdown",
      "metadata": {
        "id": "JwbBD5leYYkk"
      },
      "source": [
        "Now it make sense"
      ]
    },
    {
      "cell_type": "markdown",
      "metadata": {
        "id": "rog0Y3TNcHnh"
      },
      "source": [
        "#Lets work on larger data sets\n",
        "* work on fashion data set from keras for multiclass classificaiton"
      ]
    },
    {
      "cell_type": "code",
      "metadata": {
        "id": "N7PJAE8TcLiQ",
        "colab": {
          "base_uri": "https://localhost:8080/"
        },
        "outputId": "3f92474e-6e3d-4efc-cd7e-4bb695bb6436"
      },
      "source": [
        "import tensorflow as tf\n",
        "\n",
        "fashion_data = tf.keras.datasets.fashion_mnist\n",
        "# Data is already split in train and test \n",
        "(X_train,y_train),(X_test ,y_test) = fashion_data.load_data()"
      ],
      "execution_count": 25,
      "outputs": [
        {
          "output_type": "stream",
          "text": [
            "Downloading data from https://storage.googleapis.com/tensorflow/tf-keras-datasets/train-labels-idx1-ubyte.gz\n",
            "32768/29515 [=================================] - 0s 0us/step\n",
            "Downloading data from https://storage.googleapis.com/tensorflow/tf-keras-datasets/train-images-idx3-ubyte.gz\n",
            "26427392/26421880 [==============================] - 0s 0us/step\n",
            "Downloading data from https://storage.googleapis.com/tensorflow/tf-keras-datasets/t10k-labels-idx1-ubyte.gz\n",
            "8192/5148 [===============================================] - 0s 0us/step\n",
            "Downloading data from https://storage.googleapis.com/tensorflow/tf-keras-datasets/t10k-images-idx3-ubyte.gz\n",
            "4423680/4422102 [==============================] - 0s 0us/step\n"
          ],
          "name": "stdout"
        }
      ]
    },
    {
      "cell_type": "code",
      "metadata": {
        "colab": {
          "base_uri": "https://localhost:8080/",
          "height": 281
        },
        "id": "yHR7jA_ydiev",
        "outputId": "479f2112-3e14-45c0-db9f-4a90bdcbe045"
      },
      "source": [
        "import matplotlib.pyplot as plt\n",
        "\n",
        "plt.imshow(X_train[20])\n",
        "plt.show()\n",
        "\n",
        "print(\"label : {}\".format(y_train[20]))\n",
        "\n"
      ],
      "execution_count": 26,
      "outputs": [
        {
          "output_type": "display_data",
          "data": {
            "image/png": "[encoded data removed]",
            "text/plain": [
              "<Figure size 432x288 with 1 Axes>"
            ]
          },
          "metadata": {
            "tags": [],
            "needs_background": "light"
          }
        },
        {
          "output_type": "stream",
          "text": [
            "label : 3\n"
          ],
          "name": "stdout"
        }
      ]
    },
    {
      "cell_type": "code",
      "metadata": {
        "id": "HfEntvctrEHW"
      },
      "source": [
        "class_names = ['T-shirt/top', 'Trouser', 'Pullover', 'Dress', 'Coat',\n",
        "               'Sandal', 'Shirt', 'Sneaker', 'Bag', 'Ankle boot']"
      ],
      "execution_count": 27,
      "outputs": []
    },
    {
      "cell_type": "code",
      "metadata": {
        "colab": {
          "base_uri": "https://localhost:8080/"
        },
        "id": "AcaIOOQ3kjIk",
        "outputId": "9b888c22-2a22-47a3-a64d-5972673b0d3d"
      },
      "source": [
        "# Lets check the shape of training data.\n",
        "\n",
        "X_train[0].shape"
      ],
      "execution_count": 30,
      "outputs": [
        {
          "output_type": "execute_result",
          "data": {
            "text/plain": [
              "(28, 28)"
            ]
          },
          "metadata": {
            "tags": []
          },
          "execution_count": 30
        }
      ]
    },
    {
      "cell_type": "code",
      "metadata": {
        "colab": {
          "base_uri": "https://localhost:8080/"
        },
        "id": "EzSNBSbTjoZW",
        "outputId": "d20dab2d-3113-4c67-d0d8-d3edb3675f93"
      },
      "source": [
        "# Lets buid the model .\n",
        "\n",
        "#set random seed \n",
        "\n",
        "tf.random.set_seed(42)\n",
        "\n",
        "# Crete a model\n",
        "\n",
        "model_6=tf.keras.Sequential([\n",
        "                             tf.keras.layers.Flatten(input_shape=(28,28)),\n",
        "                             tf.keras.layers.Dense(4,activation=tf.keras.activations.relu),\n",
        "                             tf.keras.layers.Dense(4,activation=tf.keras.activations.relu),\n",
        "                             tf.keras.layers.Dense(10,activation=tf.keras.activations.softmax)\n",
        "\n",
        "])\n",
        "\n",
        "model_6.compile(loss=tf.keras.losses.sparse_categorical_crossentropy,\n",
        "                optimizer=tf.keras.optimizers.Adam(),\n",
        "                metrics=[\"accuracy\"])\n",
        "\n",
        "model_6.fit(X_train,y_train,epochs=20)"
      ],
      "execution_count": 39,
      "outputs": [
        {
          "output_type": "stream",
          "text": [
            "Epoch 1/20\n",
            "1875/1875 [==============================] - 3s 1ms/step - loss: 2.1671 - accuracy: 0.1606\n",
            "Epoch 2/20\n",
            "1875/1875 [==============================] - 3s 1ms/step - loss: 1.7066 - accuracy: 0.2509\n",
            "Epoch 3/20\n",
            "1875/1875 [==============================] - 3s 1ms/step - loss: 1.6321 - accuracy: 0.2806\n",
            "Epoch 4/20\n",
            "1875/1875 [==============================] - 3s 1ms/step - loss: 1.6052 - accuracy: 0.2833\n",
            "Epoch 5/20\n",
            "1875/1875 [==============================] - 3s 1ms/step - loss: 1.5975 - accuracy: 0.2862\n",
            "Epoch 6/20\n",
            "1875/1875 [==============================] - 3s 1ms/step - loss: 1.5950 - accuracy: 0.2920\n",
            "Epoch 7/20\n",
            "1875/1875 [==============================] - 3s 1ms/step - loss: 1.5775 - accuracy: 0.3040\n",
            "Epoch 8/20\n",
            "1875/1875 [==============================] - 3s 1ms/step - loss: 1.5708 - accuracy: 0.3175\n",
            "Epoch 9/20\n",
            "1875/1875 [==============================] - 3s 1ms/step - loss: 1.5638 - accuracy: 0.3280\n",
            "Epoch 10/20\n",
            "1875/1875 [==============================] - 3s 1ms/step - loss: 1.5432 - accuracy: 0.3346\n",
            "Epoch 11/20\n",
            "1875/1875 [==============================] - 3s 1ms/step - loss: 1.5160 - accuracy: 0.3519\n",
            "Epoch 12/20\n",
            "1875/1875 [==============================] - 3s 1ms/step - loss: 1.4441 - accuracy: 0.3972\n",
            "Epoch 13/20\n",
            "1875/1875 [==============================] - 3s 1ms/step - loss: 1.3136 - accuracy: 0.4450\n",
            "Epoch 14/20\n",
            "1875/1875 [==============================] - 3s 1ms/step - loss: 1.2738 - accuracy: 0.4535\n",
            "Epoch 15/20\n",
            "1875/1875 [==============================] - 3s 1ms/step - loss: 1.2006 - accuracy: 0.4963\n",
            "Epoch 16/20\n",
            "1875/1875 [==============================] - 3s 1ms/step - loss: 1.0833 - accuracy: 0.5409\n",
            "Epoch 17/20\n",
            "1875/1875 [==============================] - 3s 1ms/step - loss: 1.0464 - accuracy: 0.5583\n",
            "Epoch 18/20\n",
            "1875/1875 [==============================] - 3s 1ms/step - loss: 1.0204 - accuracy: 0.5760\n",
            "Epoch 19/20\n",
            "1875/1875 [==============================] - 3s 1ms/step - loss: 1.0062 - accuracy: 0.5877\n",
            "Epoch 20/20\n",
            "1875/1875 [==============================] - 3s 1ms/step - loss: 0.9883 - accuracy: 0.5966\n"
          ],
          "name": "stdout"
        },
        {
          "output_type": "execute_result",
          "data": {
            "text/plain": [
              "<tensorflow.python.keras.callbacks.History at 0x7fe7ec4cef90>"
            ]
          },
          "metadata": {
            "tags": []
          },
          "execution_count": 39
        }
      ]
    }
  ]
}