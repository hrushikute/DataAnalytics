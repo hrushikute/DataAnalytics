{
  "nbformat": 4,
  "nbformat_minor": 0,
  "metadata": {
    "colab": {
      "name": "02_neural_netwrok_model_for_classification using_tensorflow.ipynb",
      "provenance": [],
      "collapsed_sections": [],
      "authorship_tag": "ABX9TyO/vSs5UJuxwzs93gpUYIXP",
      "include_colab_link": true
    },
    "kernelspec": {
      "name": "python3",
      "display_name": "Python 3"
    },
    "language_info": {
      "name": "python"
    }
  },
  "cells": [
    {
      "cell_type": "markdown",
      "metadata": {
        "id": "view-in-github",
        "colab_type": "text"
      },
      "source": [
        "<a href=\"https://colab.research.google.com/github/hrushikute/DataAnalytics/blob/master/02_neural_netwrok_model_for_classification_using_tensorflow.ipynb\" target=\"_parent\"><img src=\"https://colab.research.google.com/assets/colab-badge.svg\" alt=\"Open In Colab\"/></a>"
      ]
    },
    {
      "cell_type": "markdown",
      "metadata": {
        "id": "HtPSX7-qvX04"
      },
      "source": [
        "#Usually There type fo classificaiton\n",
        "1. Binary Classification\n",
        "2. Multiclass classification\n",
        "3. Multilabel Classification\n"
      ]
    },
    {
      "cell_type": "code",
      "metadata": {
        "id": "jvMmsBYGv6u6"
      },
      "source": [
        "# Lets get the data for calssisfication\n",
        "\n",
        "from sklearn.datasets import make_circles"
      ],
      "execution_count": 1,
      "outputs": []
    },
    {
      "cell_type": "code",
      "metadata": {
        "id": "W8i22cabwdHM"
      },
      "source": [
        "#samples \n",
        "n_samples=1000\n",
        "\n",
        "#create data \n",
        "X,y = make_circles(n_samples,noise=0.03)\n"
      ],
      "execution_count": 2,
      "outputs": []
    },
    {
      "cell_type": "code",
      "metadata": {
        "colab": {
          "base_uri": "https://localhost:8080/"
        },
        "id": "xxpLPeN8wtaV",
        "outputId": "c5102ce1-25df-4bc9-ed0b-5bf5d371463c"
      },
      "source": [
        "X,y"
      ],
      "execution_count": 3,
      "outputs": [
        {
          "output_type": "execute_result",
          "data": {
            "text/plain": [
              "(array([[ 0.44263251, -0.6504767 ],\n",
              "        [ 0.33077673, -0.66603596],\n",
              "        [-0.90087143,  0.49915711],\n",
              "        ...,\n",
              "        [-0.41801304,  0.67072819],\n",
              "        [-0.37166152, -0.90856751],\n",
              "        [ 0.45899206,  0.93702312]]),\n",
              " array([1, 1, 0, 1, 1, 1, 0, 1, 0, 0, 1, 1, 1, 1, 0, 1, 0, 1, 0, 1, 0, 0,\n",
              "        0, 1, 0, 1, 1, 0, 0, 1, 1, 0, 1, 1, 1, 0, 0, 0, 0, 0, 0, 1, 0, 0,\n",
              "        1, 0, 0, 1, 0, 0, 0, 1, 0, 1, 0, 1, 0, 0, 1, 1, 1, 0, 1, 0, 1, 1,\n",
              "        0, 1, 0, 0, 1, 1, 1, 0, 0, 0, 0, 1, 0, 1, 0, 1, 1, 1, 0, 1, 1, 0,\n",
              "        1, 0, 0, 0, 1, 1, 0, 0, 0, 0, 0, 0, 1, 1, 1, 0, 1, 0, 1, 0, 0, 0,\n",
              "        1, 0, 0, 1, 0, 0, 1, 0, 0, 0, 1, 1, 1, 0, 1, 0, 1, 0, 0, 1, 0, 0,\n",
              "        0, 1, 1, 0, 1, 1, 0, 0, 1, 1, 0, 1, 1, 1, 0, 1, 1, 1, 1, 1, 0, 1,\n",
              "        0, 1, 1, 1, 0, 1, 1, 1, 1, 0, 1, 1, 0, 0, 0, 1, 1, 1, 1, 0, 0, 0,\n",
              "        0, 1, 0, 0, 1, 0, 0, 0, 0, 0, 0, 1, 0, 0, 1, 0, 0, 0, 0, 1, 0, 1,\n",
              "        0, 1, 1, 0, 1, 1, 0, 1, 1, 0, 0, 0, 0, 1, 1, 0, 0, 0, 0, 1, 1, 1,\n",
              "        1, 1, 0, 0, 1, 1, 0, 1, 1, 0, 1, 0, 0, 1, 0, 1, 0, 0, 1, 1, 1, 0,\n",
              "        0, 1, 1, 0, 1, 0, 0, 0, 0, 1, 0, 1, 0, 0, 0, 0, 0, 1, 0, 0, 1, 0,\n",
              "        0, 0, 0, 1, 1, 0, 1, 1, 0, 0, 1, 0, 1, 1, 0, 0, 1, 0, 1, 0, 0, 1,\n",
              "        1, 0, 1, 1, 1, 0, 1, 0, 0, 0, 1, 1, 1, 1, 1, 1, 1, 0, 1, 0, 1, 0,\n",
              "        1, 1, 0, 0, 0, 0, 1, 0, 0, 1, 1, 1, 1, 0, 1, 0, 0, 1, 0, 1, 1, 1,\n",
              "        1, 1, 1, 0, 0, 1, 1, 0, 1, 1, 1, 1, 0, 0, 0, 1, 0, 1, 1, 1, 1, 1,\n",
              "        0, 0, 0, 1, 1, 1, 0, 0, 1, 0, 1, 1, 0, 0, 0, 1, 0, 0, 0, 1, 1, 0,\n",
              "        1, 0, 0, 0, 0, 1, 1, 1, 1, 0, 1, 1, 0, 1, 0, 1, 0, 0, 1, 0, 1, 1,\n",
              "        1, 0, 1, 0, 0, 1, 0, 1, 0, 0, 1, 1, 1, 0, 0, 1, 1, 1, 0, 0, 1, 1,\n",
              "        0, 1, 1, 0, 1, 1, 0, 1, 1, 1, 0, 1, 1, 0, 0, 1, 0, 0, 0, 1, 0, 0,\n",
              "        0, 0, 1, 1, 1, 0, 1, 0, 0, 1, 1, 0, 1, 1, 1, 1, 0, 0, 0, 0, 1, 1,\n",
              "        1, 0, 0, 1, 0, 0, 0, 0, 0, 1, 1, 1, 0, 1, 1, 0, 0, 0, 1, 1, 1, 1,\n",
              "        1, 1, 0, 0, 0, 1, 1, 0, 0, 0, 1, 1, 0, 1, 0, 1, 0, 1, 0, 1, 0, 1,\n",
              "        0, 1, 1, 0, 1, 1, 1, 1, 1, 0, 0, 0, 1, 1, 1, 0, 0, 0, 1, 0, 0, 1,\n",
              "        0, 0, 1, 0, 0, 1, 0, 0, 1, 1, 0, 1, 1, 1, 1, 0, 1, 1, 0, 1, 0, 1,\n",
              "        0, 0, 1, 0, 1, 0, 1, 0, 0, 1, 0, 0, 0, 0, 0, 1, 0, 0, 1, 0, 1, 1,\n",
              "        1, 0, 0, 0, 1, 0, 1, 0, 0, 0, 1, 0, 0, 0, 0, 0, 0, 1, 0, 0, 1, 0,\n",
              "        0, 0, 0, 1, 1, 1, 0, 0, 1, 1, 0, 1, 0, 0, 0, 1, 0, 1, 1, 0, 1, 1,\n",
              "        1, 0, 1, 0, 1, 0, 1, 1, 1, 0, 0, 0, 0, 0, 1, 0, 0, 1, 0, 1, 1, 1,\n",
              "        0, 0, 1, 1, 0, 1, 0, 0, 1, 1, 1, 1, 1, 0, 0, 1, 1, 1, 1, 0, 0, 0,\n",
              "        0, 0, 1, 1, 0, 0, 0, 0, 1, 1, 0, 1, 1, 1, 0, 0, 0, 0, 0, 0, 1, 1,\n",
              "        1, 1, 0, 0, 0, 1, 1, 0, 1, 1, 0, 0, 0, 1, 0, 0, 0, 1, 1, 1, 1, 1,\n",
              "        0, 0, 1, 0, 1, 0, 0, 1, 1, 1, 1, 1, 1, 0, 1, 1, 0, 0, 0, 1, 0, 0,\n",
              "        0, 1, 0, 1, 0, 1, 0, 0, 0, 0, 1, 0, 0, 0, 1, 0, 1, 0, 0, 0, 0, 1,\n",
              "        0, 0, 1, 1, 0, 0, 1, 1, 1, 0, 0, 1, 1, 1, 0, 0, 0, 1, 0, 1, 0, 0,\n",
              "        0, 1, 1, 0, 0, 0, 0, 0, 0, 1, 1, 0, 0, 1, 0, 1, 0, 1, 1, 1, 0, 1,\n",
              "        1, 0, 1, 0, 1, 1, 0, 1, 1, 1, 0, 0, 0, 0, 1, 1, 1, 0, 1, 0, 1, 1,\n",
              "        1, 1, 1, 1, 0, 1, 1, 0, 0, 0, 0, 1, 0, 1, 0, 0, 0, 0, 1, 0, 1, 1,\n",
              "        1, 0, 1, 1, 1, 1, 0, 0, 0, 1, 1, 0, 1, 0, 0, 0, 1, 0, 1, 1, 1, 1,\n",
              "        0, 1, 0, 0, 1, 0, 1, 0, 1, 1, 1, 1, 0, 1, 1, 1, 0, 0, 0, 1, 0, 1,\n",
              "        1, 0, 0, 0, 1, 1, 1, 0, 1, 1, 1, 1, 1, 1, 1, 0, 1, 0, 0, 0, 1, 0,\n",
              "        0, 1, 1, 0, 1, 0, 1, 0, 0, 1, 0, 1, 1, 1, 0, 0, 1, 0, 0, 1, 0, 0,\n",
              "        0, 1, 0, 1, 1, 1, 0, 1, 1, 1, 1, 0, 1, 1, 1, 1, 0, 0, 1, 0, 0, 1,\n",
              "        0, 0, 0, 1, 1, 1, 1, 0, 0, 0, 0, 1, 0, 1, 1, 1, 1, 1, 1, 0, 1, 0,\n",
              "        1, 1, 1, 1, 0, 0, 1, 0, 0, 1, 1, 1, 0, 1, 0, 0, 1, 0, 1, 0, 0, 0,\n",
              "        0, 1, 1, 0, 1, 1, 1, 1, 0, 0]))"
            ]
          },
          "metadata": {
            "tags": []
          },
          "execution_count": 3
        }
      ]
    },
    {
      "cell_type": "code",
      "metadata": {
        "colab": {
          "base_uri": "https://localhost:8080/",
          "height": 205
        },
        "id": "ygPTUBO5wwW1",
        "outputId": "ad83a07d-d9e9-44e2-fbc0-eebd738d7873"
      },
      "source": [
        "import pandas as pd\n",
        "circle_data = pd.DataFrame({\"X0\":X[:,0],\"X1\":X[:,1],\"Label\":y})\n",
        "circle_data.head()"
      ],
      "execution_count": 4,
      "outputs": [
        {
          "output_type": "execute_result",
          "data": {
            "text/html": [
              "<div>\n",
              "<style scoped>\n",
              "    .dataframe tbody tr th:only-of-type {\n",
              "        vertical-align: middle;\n",
              "    }\n",
              "\n",
              "    .dataframe tbody tr th {\n",
              "        vertical-align: top;\n",
              "    }\n",
              "\n",
              "    .dataframe thead th {\n",
              "        text-align: right;\n",
              "    }\n",
              "</style>\n",
              "<table border=\"1\" class=\"dataframe\">\n",
              "  <thead>\n",
              "    <tr style=\"text-align: right;\">\n",
              "      <th></th>\n",
              "      <th>X0</th>\n",
              "      <th>X1</th>\n",
              "      <th>Label</th>\n",
              "    </tr>\n",
              "  </thead>\n",
              "  <tbody>\n",
              "    <tr>\n",
              "      <th>0</th>\n",
              "      <td>0.442633</td>\n",
              "      <td>-0.650477</td>\n",
              "      <td>1</td>\n",
              "    </tr>\n",
              "    <tr>\n",
              "      <th>1</th>\n",
              "      <td>0.330777</td>\n",
              "      <td>-0.666036</td>\n",
              "      <td>1</td>\n",
              "    </tr>\n",
              "    <tr>\n",
              "      <th>2</th>\n",
              "      <td>-0.900871</td>\n",
              "      <td>0.499157</td>\n",
              "      <td>0</td>\n",
              "    </tr>\n",
              "    <tr>\n",
              "      <th>3</th>\n",
              "      <td>0.727341</td>\n",
              "      <td>0.070954</td>\n",
              "      <td>1</td>\n",
              "    </tr>\n",
              "    <tr>\n",
              "      <th>4</th>\n",
              "      <td>0.771571</td>\n",
              "      <td>-0.104292</td>\n",
              "      <td>1</td>\n",
              "    </tr>\n",
              "  </tbody>\n",
              "</table>\n",
              "</div>"
            ],
            "text/plain": [
              "         X0        X1  Label\n",
              "0  0.442633 -0.650477      1\n",
              "1  0.330777 -0.666036      1\n",
              "2 -0.900871  0.499157      0\n",
              "3  0.727341  0.070954      1\n",
              "4  0.771571 -0.104292      1"
            ]
          },
          "metadata": {
            "tags": []
          },
          "execution_count": 4
        }
      ]
    },
    {
      "cell_type": "code",
      "metadata": {
        "colab": {
          "base_uri": "https://localhost:8080/",
          "height": 283
        },
        "id": "rDbcDr6kxep1",
        "outputId": "8bf32677-f09a-40f5-cfb7-6f6c1518b2f1"
      },
      "source": [
        "import matplotlib.pyplot as plt\n",
        "plt.scatter(X[:,0],X[:,1],c=y,cmap=plt.cm.RdYlGn)"
      ],
      "execution_count": 5,
      "outputs": [
        {
          "output_type": "execute_result",
          "data": {
            "text/plain": [
              "<matplotlib.collections.PathCollection at 0x7f3479c84890>"
            ]
          },
          "metadata": {
            "tags": []
          },
          "execution_count": 5
        },
        {
          "output_type": "display_data",
          "data": {
            "image/png": "[encoded data removed]",
            "text/plain": [
              "<Figure size 432x288 with 1 Axes>"
            ]
          },
          "metadata": {
            "tags": [],
            "needs_background": "light"
          }
        }
      ]
    },
    {
      "cell_type": "code",
      "metadata": {
        "colab": {
          "base_uri": "https://localhost:8080/"
        },
        "id": "P_bheBZr4gzE",
        "outputId": "a2bef48c-126e-47dc-aaed-b0514e1ad773"
      },
      "source": [
        "\n",
        "X_data = circle_data.drop('Label', axis=1)\n",
        "y_data = circle_data[\"Label\"]\n",
        "\n",
        "X_data.head(), y_data.head()"
      ],
      "execution_count": 6,
      "outputs": [
        {
          "output_type": "execute_result",
          "data": {
            "text/plain": [
              "(         X0        X1\n",
              " 0  0.442633 -0.650477\n",
              " 1  0.330777 -0.666036\n",
              " 2 -0.900871  0.499157\n",
              " 3  0.727341  0.070954\n",
              " 4  0.771571 -0.104292, 0    1\n",
              " 1    1\n",
              " 2    0\n",
              " 3    1\n",
              " 4    1\n",
              " Name: Label, dtype: int64)"
            ]
          },
          "metadata": {
            "tags": []
          },
          "execution_count": 6
        }
      ]
    },
    {
      "cell_type": "code",
      "metadata": {
        "colab": {
          "base_uri": "https://localhost:8080/"
        },
        "id": "Ek_lMV_o5fRU",
        "outputId": "60df510a-fa0d-4f23-80ba-012b918ca469"
      },
      "source": [
        "\n",
        "#Lets split the model for train and test.\n",
        "from sklearn.model_selection import train_test_split\n",
        "\n",
        "X_train, X_test, y_train, y_test = train_test_split(X_data, y_data, test_size=0.2, random_state=42)\n",
        "len(X_train),len(X_test)"
      ],
      "execution_count": 7,
      "outputs": [
        {
          "output_type": "execute_result",
          "data": {
            "text/plain": [
              "(800, 200)"
            ]
          },
          "metadata": {
            "tags": []
          },
          "execution_count": 7
        }
      ]
    },
    {
      "cell_type": "code",
      "metadata": {
        "id": "I1z0Fjmr6r2G"
      },
      "source": [
        "\n",
        "\n",
        "import tensorflow as tf"
      ],
      "execution_count": 8,
      "outputs": []
    },
    {
      "cell_type": "code",
      "metadata": {
        "colab": {
          "base_uri": "https://localhost:8080/"
        },
        "id": "CTMFIj-j68Cg",
        "outputId": "61a30a22-82b7-48d6-ea0d-b6569e02dade"
      },
      "source": [
        "# Lets create a model.\n",
        "tf.random.set_seed(42)\n",
        "\n",
        "# Create a model with one hidden layer\n",
        "model_1 = tf.keras.Sequential([\n",
        "                               tf.keras.layers.Dense(1)\n",
        "\n",
        "])\n",
        "\n",
        "# Comiple the model\n",
        "model_1.compile(loss=tf.keras.losses.BinaryCrossentropy(),\n",
        "                optimizer=tf.keras.optimizers.Adam(),\n",
        "                metrics=[\"accuracy\"])\n",
        "\n",
        "#fit the model.\n",
        "\n",
        "model_1.fit(X_train, y_train, epochs=100)"
      ],
      "execution_count": 9,
      "outputs": [
        {
          "output_type": "stream",
          "text": [
            "Epoch 1/100\n",
            "25/25 [==============================] - 1s 1ms/step - loss: 4.2672 - accuracy: 0.4663\n",
            "Epoch 2/100\n",
            "25/25 [==============================] - 0s 1ms/step - loss: 4.2317 - accuracy: 0.4462\n",
            "Epoch 3/100\n",
            "25/25 [==============================] - 0s 1ms/step - loss: 4.1545 - accuracy: 0.4300\n",
            "Epoch 4/100\n",
            "25/25 [==============================] - 0s 1ms/step - loss: 4.0957 - accuracy: 0.4225\n",
            "Epoch 5/100\n",
            "25/25 [==============================] - 0s 1ms/step - loss: 4.0745 - accuracy: 0.4162\n",
            "Epoch 6/100\n",
            "25/25 [==============================] - 0s 1ms/step - loss: 4.0435 - accuracy: 0.4150\n",
            "Epoch 7/100\n",
            "25/25 [==============================] - 0s 1ms/step - loss: 4.0338 - accuracy: 0.4137\n",
            "Epoch 8/100\n",
            "25/25 [==============================] - 0s 1ms/step - loss: 3.9766 - accuracy: 0.4112\n",
            "Epoch 9/100\n",
            "25/25 [==============================] - 0s 1ms/step - loss: 3.9244 - accuracy: 0.4112\n",
            "Epoch 10/100\n",
            "25/25 [==============================] - 0s 1ms/step - loss: 3.9211 - accuracy: 0.4087\n",
            "Epoch 11/100\n",
            "25/25 [==============================] - 0s 2ms/step - loss: 3.9195 - accuracy: 0.4062\n",
            "Epoch 12/100\n",
            "25/25 [==============================] - 0s 1ms/step - loss: 3.9183 - accuracy: 0.4062\n",
            "Epoch 13/100\n",
            "25/25 [==============================] - 0s 1ms/step - loss: 3.9172 - accuracy: 0.4062\n",
            "Epoch 14/100\n",
            "25/25 [==============================] - 0s 1ms/step - loss: 3.9161 - accuracy: 0.4062\n",
            "Epoch 15/100\n",
            "25/25 [==============================] - 0s 1ms/step - loss: 3.9151 - accuracy: 0.4062\n",
            "Epoch 16/100\n",
            "25/25 [==============================] - 0s 1ms/step - loss: 3.9043 - accuracy: 0.4062\n",
            "Epoch 17/100\n",
            "25/25 [==============================] - 0s 1ms/step - loss: 3.9001 - accuracy: 0.4062\n",
            "Epoch 18/100\n",
            "25/25 [==============================] - 0s 1ms/step - loss: 3.8984 - accuracy: 0.4062\n",
            "Epoch 19/100\n",
            "25/25 [==============================] - 0s 2ms/step - loss: 3.8970 - accuracy: 0.4050\n",
            "Epoch 20/100\n",
            "25/25 [==============================] - 0s 1ms/step - loss: 3.8959 - accuracy: 0.4050\n",
            "Epoch 21/100\n",
            "25/25 [==============================] - 0s 2ms/step - loss: 3.8645 - accuracy: 0.4038\n",
            "Epoch 22/100\n",
            "25/25 [==============================] - 0s 1ms/step - loss: 3.7072 - accuracy: 0.4075\n",
            "Epoch 23/100\n",
            "25/25 [==============================] - 0s 1ms/step - loss: 3.6566 - accuracy: 0.4075\n",
            "Epoch 24/100\n",
            "25/25 [==============================] - 0s 1ms/step - loss: 3.6507 - accuracy: 0.4075\n",
            "Epoch 25/100\n",
            "25/25 [==============================] - 0s 1ms/step - loss: 3.6497 - accuracy: 0.4062\n",
            "Epoch 26/100\n",
            "25/25 [==============================] - 0s 1ms/step - loss: 3.6488 - accuracy: 0.4062\n",
            "Epoch 27/100\n",
            "25/25 [==============================] - 0s 2ms/step - loss: 3.6481 - accuracy: 0.4062\n",
            "Epoch 28/100\n",
            "25/25 [==============================] - 0s 1ms/step - loss: 3.6475 - accuracy: 0.4062\n",
            "Epoch 29/100\n",
            "25/25 [==============================] - 0s 1ms/step - loss: 3.6468 - accuracy: 0.4062\n",
            "Epoch 30/100\n",
            "25/25 [==============================] - 0s 1ms/step - loss: 3.6463 - accuracy: 0.4062\n",
            "Epoch 31/100\n",
            "25/25 [==============================] - 0s 1ms/step - loss: 3.6458 - accuracy: 0.4062\n",
            "Epoch 32/100\n",
            "25/25 [==============================] - 0s 1ms/step - loss: 3.6452 - accuracy: 0.4062\n",
            "Epoch 33/100\n",
            "25/25 [==============================] - 0s 1ms/step - loss: 3.6447 - accuracy: 0.4062\n",
            "Epoch 34/100\n",
            "25/25 [==============================] - 0s 1ms/step - loss: 3.6442 - accuracy: 0.4062\n",
            "Epoch 35/100\n",
            "25/25 [==============================] - 0s 1ms/step - loss: 3.6437 - accuracy: 0.4075\n",
            "Epoch 36/100\n",
            "25/25 [==============================] - 0s 2ms/step - loss: 3.6432 - accuracy: 0.4087\n",
            "Epoch 37/100\n",
            "25/25 [==============================] - 0s 1ms/step - loss: 3.6428 - accuracy: 0.4087\n",
            "Epoch 38/100\n",
            "25/25 [==============================] - 0s 1ms/step - loss: 3.6423 - accuracy: 0.4100\n",
            "Epoch 39/100\n",
            "25/25 [==============================] - 0s 2ms/step - loss: 3.6418 - accuracy: 0.4100\n",
            "Epoch 40/100\n",
            "25/25 [==============================] - 0s 1ms/step - loss: 3.6414 - accuracy: 0.4100\n",
            "Epoch 41/100\n",
            "25/25 [==============================] - 0s 2ms/step - loss: 3.6410 - accuracy: 0.4100\n",
            "Epoch 42/100\n",
            "25/25 [==============================] - 0s 2ms/step - loss: 3.6405 - accuracy: 0.4087\n",
            "Epoch 43/100\n",
            "25/25 [==============================] - 0s 1ms/step - loss: 3.6401 - accuracy: 0.4087\n",
            "Epoch 44/100\n",
            "25/25 [==============================] - 0s 2ms/step - loss: 3.6311 - accuracy: 0.4100\n",
            "Epoch 45/100\n",
            "25/25 [==============================] - 0s 2ms/step - loss: 3.6266 - accuracy: 0.4112\n",
            "Epoch 46/100\n",
            "25/25 [==============================] - 0s 2ms/step - loss: 3.6252 - accuracy: 0.4112\n",
            "Epoch 47/100\n",
            "25/25 [==============================] - 0s 2ms/step - loss: 3.6244 - accuracy: 0.4100\n",
            "Epoch 48/100\n",
            "25/25 [==============================] - 0s 1ms/step - loss: 3.6239 - accuracy: 0.4100\n",
            "Epoch 49/100\n",
            "25/25 [==============================] - 0s 2ms/step - loss: 3.6233 - accuracy: 0.4100\n",
            "Epoch 50/100\n",
            "25/25 [==============================] - 0s 1ms/step - loss: 3.6227 - accuracy: 0.4100\n",
            "Epoch 51/100\n",
            "25/25 [==============================] - 0s 1ms/step - loss: 3.6222 - accuracy: 0.4100\n",
            "Epoch 52/100\n",
            "25/25 [==============================] - 0s 1ms/step - loss: 3.6216 - accuracy: 0.4112\n",
            "Epoch 53/100\n",
            "25/25 [==============================] - 0s 1ms/step - loss: 3.5999 - accuracy: 0.4112\n",
            "Epoch 54/100\n",
            "25/25 [==============================] - 0s 1ms/step - loss: 3.5936 - accuracy: 0.4112\n",
            "Epoch 55/100\n",
            "25/25 [==============================] - 0s 2ms/step - loss: 3.5925 - accuracy: 0.4112\n",
            "Epoch 56/100\n",
            "25/25 [==============================] - 0s 1ms/step - loss: 3.5917 - accuracy: 0.4112\n",
            "Epoch 57/100\n",
            "25/25 [==============================] - 0s 2ms/step - loss: 3.5816 - accuracy: 0.4112\n",
            "Epoch 58/100\n",
            "25/25 [==============================] - 0s 1ms/step - loss: 3.5776 - accuracy: 0.4100\n",
            "Epoch 59/100\n",
            "25/25 [==============================] - 0s 2ms/step - loss: 3.5765 - accuracy: 0.4087\n",
            "Epoch 60/100\n",
            "25/25 [==============================] - 0s 1ms/step - loss: 3.5677 - accuracy: 0.4100\n",
            "Epoch 61/100\n",
            "25/25 [==============================] - 0s 1ms/step - loss: 3.5567 - accuracy: 0.4087\n",
            "Epoch 62/100\n",
            "25/25 [==============================] - 0s 2ms/step - loss: 3.5553 - accuracy: 0.4137\n",
            "Epoch 63/100\n",
            "25/25 [==============================] - 0s 2ms/step - loss: 3.5546 - accuracy: 0.4150\n",
            "Epoch 64/100\n",
            "25/25 [==============================] - 0s 1ms/step - loss: 3.5446 - accuracy: 0.4150\n",
            "Epoch 65/100\n",
            "25/25 [==============================] - 0s 2ms/step - loss: 3.5408 - accuracy: 0.4162\n",
            "Epoch 66/100\n",
            "25/25 [==============================] - 0s 1ms/step - loss: 3.5395 - accuracy: 0.4162\n",
            "Epoch 67/100\n",
            "25/25 [==============================] - 0s 2ms/step - loss: 3.5386 - accuracy: 0.4162\n",
            "Epoch 68/100\n",
            "25/25 [==============================] - 0s 2ms/step - loss: 3.5378 - accuracy: 0.4162\n",
            "Epoch 69/100\n",
            "25/25 [==============================] - 0s 1ms/step - loss: 3.5295 - accuracy: 0.4162\n",
            "Epoch 70/100\n",
            "25/25 [==============================] - 0s 1ms/step - loss: 3.5193 - accuracy: 0.4175\n",
            "Epoch 71/100\n",
            "25/25 [==============================] - 0s 1ms/step - loss: 3.5161 - accuracy: 0.4175\n",
            "Epoch 72/100\n",
            "25/25 [==============================] - 0s 1ms/step - loss: 3.5154 - accuracy: 0.4187\n",
            "Epoch 73/100\n",
            "25/25 [==============================] - 0s 2ms/step - loss: 3.5148 - accuracy: 0.4200\n",
            "Epoch 74/100\n",
            "25/25 [==============================] - 0s 2ms/step - loss: 3.5059 - accuracy: 0.4212\n",
            "Epoch 75/100\n",
            "25/25 [==============================] - 0s 1ms/step - loss: 3.4844 - accuracy: 0.4187\n",
            "Epoch 76/100\n",
            "25/25 [==============================] - 0s 2ms/step - loss: 3.4795 - accuracy: 0.4200\n",
            "Epoch 77/100\n",
            "25/25 [==============================] - 0s 1ms/step - loss: 3.4775 - accuracy: 0.4212\n",
            "Epoch 78/100\n",
            "25/25 [==============================] - 0s 1ms/step - loss: 3.4768 - accuracy: 0.4212\n",
            "Epoch 79/100\n",
            "25/25 [==============================] - 0s 2ms/step - loss: 3.4762 - accuracy: 0.4225\n",
            "Epoch 80/100\n",
            "25/25 [==============================] - 0s 1ms/step - loss: 3.4756 - accuracy: 0.4225\n",
            "Epoch 81/100\n",
            "25/25 [==============================] - 0s 2ms/step - loss: 3.4749 - accuracy: 0.4225\n",
            "Epoch 82/100\n",
            "25/25 [==============================] - 0s 1ms/step - loss: 3.4744 - accuracy: 0.4238\n",
            "Epoch 83/100\n",
            "25/25 [==============================] - 0s 1ms/step - loss: 3.4738 - accuracy: 0.4238\n",
            "Epoch 84/100\n",
            "25/25 [==============================] - 0s 1ms/step - loss: 3.4732 - accuracy: 0.4238\n",
            "Epoch 85/100\n",
            "25/25 [==============================] - 0s 1ms/step - loss: 3.4727 - accuracy: 0.4238\n",
            "Epoch 86/100\n",
            "25/25 [==============================] - 0s 1ms/step - loss: 3.4539 - accuracy: 0.4250\n",
            "Epoch 87/100\n",
            "25/25 [==============================] - 0s 1ms/step - loss: 3.4301 - accuracy: 0.4275\n",
            "Epoch 88/100\n",
            "25/25 [==============================] - 0s 1ms/step - loss: 3.4170 - accuracy: 0.4263\n",
            "Epoch 89/100\n",
            "25/25 [==============================] - 0s 1ms/step - loss: 3.4138 - accuracy: 0.4263\n",
            "Epoch 90/100\n",
            "25/25 [==============================] - 0s 2ms/step - loss: 3.4121 - accuracy: 0.4275\n",
            "Epoch 91/100\n",
            "25/25 [==============================] - 0s 2ms/step - loss: 3.4109 - accuracy: 0.4288\n",
            "Epoch 92/100\n",
            "25/25 [==============================] - 0s 2ms/step - loss: 3.4008 - accuracy: 0.4300\n",
            "Epoch 93/100\n",
            "25/25 [==============================] - 0s 1ms/step - loss: 3.3870 - accuracy: 0.4325\n",
            "Epoch 94/100\n",
            "25/25 [==============================] - 0s 2ms/step - loss: 3.3645 - accuracy: 0.4338\n",
            "Epoch 95/100\n",
            "25/25 [==============================] - 0s 2ms/step - loss: 3.3376 - accuracy: 0.4350\n",
            "Epoch 96/100\n",
            "25/25 [==============================] - 0s 1ms/step - loss: 3.3331 - accuracy: 0.4350\n",
            "Epoch 97/100\n",
            "25/25 [==============================] - 0s 1ms/step - loss: 3.3313 - accuracy: 0.4338\n",
            "Epoch 98/100\n",
            "25/25 [==============================] - 0s 1ms/step - loss: 3.3296 - accuracy: 0.4338\n",
            "Epoch 99/100\n",
            "25/25 [==============================] - 0s 1ms/step - loss: 3.3186 - accuracy: 0.4338\n",
            "Epoch 100/100\n",
            "25/25 [==============================] - 0s 1ms/step - loss: 3.3034 - accuracy: 0.4350\n"
          ],
          "name": "stdout"
        },
        {
          "output_type": "execute_result",
          "data": {
            "text/plain": [
              "<tensorflow.python.keras.callbacks.History at 0x7f3420c992d0>"
            ]
          },
          "metadata": {
            "tags": []
          },
          "execution_count": 9
        }
      ]
    },
    {
      "cell_type": "markdown",
      "metadata": {
        "id": "8qhaN_UU-aiV"
      },
      "source": [
        "# what ??? Just 48 % accuracy.\n",
        "  Need to add change hyper parameters"
      ]
    },
    {
      "cell_type": "code",
      "metadata": {
        "colab": {
          "base_uri": "https://localhost:8080/"
        },
        "id": "H-V7wb18-oes",
        "outputId": "c9b458ea-1935-4f3c-abb7-cfe02f81dfb8"
      },
      "source": [
        "tf.random.set_seed(42)\n",
        "\n",
        "#create a model\n",
        "model_2 = tf.keras.Sequential([\n",
        "                               tf.keras.layers.Dense(10),\n",
        "                               tf.keras.layers.Dense(1)\n",
        "\n",
        "])\n",
        "\n",
        "#compile a model\n",
        "\n",
        "model_2.compile(loss=tf.keras.losses.BinaryCrossentropy(),\n",
        "                optimizer=tf.keras.optimizers.Adam(),\n",
        "                metrics=[\"accuracy\"])\n",
        "# foit the model\n",
        "\n",
        "model_2.fit(X_train, y_train, epochs=100)"
      ],
      "execution_count": 10,
      "outputs": [
        {
          "output_type": "stream",
          "text": [
            "Epoch 1/100\n",
            "25/25 [==============================] - 0s 1ms/step - loss: 4.2577 - accuracy: 0.4575\n",
            "Epoch 2/100\n",
            "25/25 [==============================] - 0s 1ms/step - loss: 4.0005 - accuracy: 0.4663\n",
            "Epoch 3/100\n",
            "25/25 [==============================] - 0s 2ms/step - loss: 3.6994 - accuracy: 0.4725\n",
            "Epoch 4/100\n",
            "25/25 [==============================] - 0s 1ms/step - loss: 3.5152 - accuracy: 0.4787\n",
            "Epoch 5/100\n",
            "25/25 [==============================] - 0s 1ms/step - loss: 3.4735 - accuracy: 0.4800\n",
            "Epoch 6/100\n",
            "25/25 [==============================] - 0s 1ms/step - loss: 3.4019 - accuracy: 0.4812\n",
            "Epoch 7/100\n",
            "25/25 [==============================] - 0s 2ms/step - loss: 3.3172 - accuracy: 0.4812\n",
            "Epoch 8/100\n",
            "25/25 [==============================] - 0s 1ms/step - loss: 3.2444 - accuracy: 0.4825\n",
            "Epoch 9/100\n",
            "25/25 [==============================] - 0s 1ms/step - loss: 3.0376 - accuracy: 0.4863\n",
            "Epoch 10/100\n",
            "25/25 [==============================] - 0s 1ms/step - loss: 2.8866 - accuracy: 0.4837\n",
            "Epoch 11/100\n",
            "25/25 [==============================] - 0s 2ms/step - loss: 2.6384 - accuracy: 0.4825\n",
            "Epoch 12/100\n",
            "25/25 [==============================] - 0s 1ms/step - loss: 1.9185 - accuracy: 0.4812\n",
            "Epoch 13/100\n",
            "25/25 [==============================] - 0s 1ms/step - loss: 0.8787 - accuracy: 0.4825\n",
            "Epoch 14/100\n",
            "25/25 [==============================] - 0s 2ms/step - loss: 0.8208 - accuracy: 0.4812\n",
            "Epoch 15/100\n",
            "25/25 [==============================] - 0s 1ms/step - loss: 0.8066 - accuracy: 0.4825\n",
            "Epoch 16/100\n",
            "25/25 [==============================] - 0s 1ms/step - loss: 0.7961 - accuracy: 0.4837\n",
            "Epoch 17/100\n",
            "25/25 [==============================] - 0s 2ms/step - loss: 0.7866 - accuracy: 0.4837\n",
            "Epoch 18/100\n",
            "25/25 [==============================] - 0s 1ms/step - loss: 0.7779 - accuracy: 0.4850\n",
            "Epoch 19/100\n",
            "25/25 [==============================] - 0s 1ms/step - loss: 0.7704 - accuracy: 0.4850\n",
            "Epoch 20/100\n",
            "25/25 [==============================] - 0s 1ms/step - loss: 0.7638 - accuracy: 0.4863\n",
            "Epoch 21/100\n",
            "25/25 [==============================] - 0s 1ms/step - loss: 0.7572 - accuracy: 0.4863\n",
            "Epoch 22/100\n",
            "25/25 [==============================] - 0s 1ms/step - loss: 0.7515 - accuracy: 0.4863\n",
            "Epoch 23/100\n",
            "25/25 [==============================] - 0s 1ms/step - loss: 0.7464 - accuracy: 0.4850\n",
            "Epoch 24/100\n",
            "25/25 [==============================] - 0s 1ms/step - loss: 0.7416 - accuracy: 0.4850\n",
            "Epoch 25/100\n",
            "25/25 [==============================] - 0s 2ms/step - loss: 0.7372 - accuracy: 0.4863\n",
            "Epoch 26/100\n",
            "25/25 [==============================] - 0s 1ms/step - loss: 0.7329 - accuracy: 0.4850\n",
            "Epoch 27/100\n",
            "25/25 [==============================] - 0s 2ms/step - loss: 0.7293 - accuracy: 0.4837\n",
            "Epoch 28/100\n",
            "25/25 [==============================] - 0s 2ms/step - loss: 0.7259 - accuracy: 0.4850\n",
            "Epoch 29/100\n",
            "25/25 [==============================] - 0s 2ms/step - loss: 0.7227 - accuracy: 0.4850\n",
            "Epoch 30/100\n",
            "25/25 [==============================] - 0s 2ms/step - loss: 0.7199 - accuracy: 0.4837\n",
            "Epoch 31/100\n",
            "25/25 [==============================] - 0s 1ms/step - loss: 0.7172 - accuracy: 0.4837\n",
            "Epoch 32/100\n",
            "25/25 [==============================] - 0s 1ms/step - loss: 0.7147 - accuracy: 0.4825\n",
            "Epoch 33/100\n",
            "25/25 [==============================] - 0s 2ms/step - loss: 0.7126 - accuracy: 0.4837\n",
            "Epoch 34/100\n",
            "25/25 [==============================] - 0s 2ms/step - loss: 0.7104 - accuracy: 0.4850\n",
            "Epoch 35/100\n",
            "25/25 [==============================] - 0s 1ms/step - loss: 0.7086 - accuracy: 0.4825\n",
            "Epoch 36/100\n",
            "25/25 [==============================] - 0s 1ms/step - loss: 0.7068 - accuracy: 0.4812\n",
            "Epoch 37/100\n",
            "25/25 [==============================] - 0s 1ms/step - loss: 0.7053 - accuracy: 0.4812\n",
            "Epoch 38/100\n",
            "25/25 [==============================] - 0s 2ms/step - loss: 0.7040 - accuracy: 0.4863\n",
            "Epoch 39/100\n",
            "25/25 [==============================] - 0s 1ms/step - loss: 0.7027 - accuracy: 0.4900\n",
            "Epoch 40/100\n",
            "25/25 [==============================] - 0s 1ms/step - loss: 0.7016 - accuracy: 0.4888\n",
            "Epoch 41/100\n",
            "25/25 [==============================] - 0s 1ms/step - loss: 0.7005 - accuracy: 0.4875\n",
            "Epoch 42/100\n",
            "25/25 [==============================] - 0s 1ms/step - loss: 0.6995 - accuracy: 0.4888\n",
            "Epoch 43/100\n",
            "25/25 [==============================] - 0s 1ms/step - loss: 0.6989 - accuracy: 0.4900\n",
            "Epoch 44/100\n",
            "25/25 [==============================] - 0s 1ms/step - loss: 0.6980 - accuracy: 0.4900\n",
            "Epoch 45/100\n",
            "25/25 [==============================] - 0s 1ms/step - loss: 0.6974 - accuracy: 0.4888\n",
            "Epoch 46/100\n",
            "25/25 [==============================] - 0s 1ms/step - loss: 0.6968 - accuracy: 0.4888\n",
            "Epoch 47/100\n",
            "25/25 [==============================] - 0s 2ms/step - loss: 0.6962 - accuracy: 0.4938\n",
            "Epoch 48/100\n",
            "25/25 [==============================] - 0s 1ms/step - loss: 0.6959 - accuracy: 0.4900\n",
            "Epoch 49/100\n",
            "25/25 [==============================] - 0s 1ms/step - loss: 0.6954 - accuracy: 0.4938\n",
            "Epoch 50/100\n",
            "25/25 [==============================] - 0s 2ms/step - loss: 0.6951 - accuracy: 0.4950\n",
            "Epoch 51/100\n",
            "25/25 [==============================] - 0s 1ms/step - loss: 0.6948 - accuracy: 0.4913\n",
            "Epoch 52/100\n",
            "25/25 [==============================] - 0s 1ms/step - loss: 0.6945 - accuracy: 0.4925\n",
            "Epoch 53/100\n",
            "25/25 [==============================] - 0s 1ms/step - loss: 0.6943 - accuracy: 0.4938\n",
            "Epoch 54/100\n",
            "25/25 [==============================] - 0s 2ms/step - loss: 0.6941 - accuracy: 0.4913\n",
            "Epoch 55/100\n",
            "25/25 [==============================] - 0s 2ms/step - loss: 0.6939 - accuracy: 0.4900\n",
            "Epoch 56/100\n",
            "25/25 [==============================] - 0s 2ms/step - loss: 0.6937 - accuracy: 0.4888\n",
            "Epoch 57/100\n",
            "25/25 [==============================] - 0s 2ms/step - loss: 0.6936 - accuracy: 0.4913\n",
            "Epoch 58/100\n",
            "25/25 [==============================] - 0s 1ms/step - loss: 0.6935 - accuracy: 0.4913\n",
            "Epoch 59/100\n",
            "25/25 [==============================] - 0s 1ms/step - loss: 0.6934 - accuracy: 0.4900\n",
            "Epoch 60/100\n",
            "25/25 [==============================] - 0s 2ms/step - loss: 0.6934 - accuracy: 0.4938\n",
            "Epoch 61/100\n",
            "25/25 [==============================] - 0s 2ms/step - loss: 0.6933 - accuracy: 0.4938\n",
            "Epoch 62/100\n",
            "25/25 [==============================] - 0s 1ms/step - loss: 0.6933 - accuracy: 0.4975\n",
            "Epoch 63/100\n",
            "25/25 [==============================] - 0s 2ms/step - loss: 0.6933 - accuracy: 0.4913\n",
            "Epoch 64/100\n",
            "25/25 [==============================] - 0s 2ms/step - loss: 0.6933 - accuracy: 0.5000\n",
            "Epoch 65/100\n",
            "25/25 [==============================] - 0s 1ms/step - loss: 0.6932 - accuracy: 0.5088\n",
            "Epoch 66/100\n",
            "25/25 [==============================] - 0s 1ms/step - loss: 0.6932 - accuracy: 0.5063\n",
            "Epoch 67/100\n",
            "25/25 [==============================] - 0s 1ms/step - loss: 0.6931 - accuracy: 0.5013\n",
            "Epoch 68/100\n",
            "25/25 [==============================] - 0s 1ms/step - loss: 0.6931 - accuracy: 0.4988\n",
            "Epoch 69/100\n",
            "25/25 [==============================] - 0s 2ms/step - loss: 0.6930 - accuracy: 0.5050\n",
            "Epoch 70/100\n",
            "25/25 [==============================] - 0s 1ms/step - loss: 0.6931 - accuracy: 0.5025\n",
            "Epoch 71/100\n",
            "25/25 [==============================] - 0s 2ms/step - loss: 0.6931 - accuracy: 0.5050\n",
            "Epoch 72/100\n",
            "25/25 [==============================] - 0s 2ms/step - loss: 0.6932 - accuracy: 0.5163\n",
            "Epoch 73/100\n",
            "25/25 [==============================] - 0s 2ms/step - loss: 0.6931 - accuracy: 0.5125\n",
            "Epoch 74/100\n",
            "25/25 [==============================] - 0s 2ms/step - loss: 0.6930 - accuracy: 0.5125\n",
            "Epoch 75/100\n",
            "25/25 [==============================] - 0s 2ms/step - loss: 0.6930 - accuracy: 0.5125\n",
            "Epoch 76/100\n",
            "25/25 [==============================] - 0s 2ms/step - loss: 0.6931 - accuracy: 0.5125\n",
            "Epoch 77/100\n",
            "25/25 [==============================] - 0s 1ms/step - loss: 0.6930 - accuracy: 0.5113\n",
            "Epoch 78/100\n",
            "25/25 [==============================] - 0s 1ms/step - loss: 0.6931 - accuracy: 0.5125\n",
            "Epoch 79/100\n",
            "25/25 [==============================] - 0s 1ms/step - loss: 0.6930 - accuracy: 0.5113\n",
            "Epoch 80/100\n",
            "25/25 [==============================] - 0s 1ms/step - loss: 0.6931 - accuracy: 0.5113\n",
            "Epoch 81/100\n",
            "25/25 [==============================] - 0s 1ms/step - loss: 0.6930 - accuracy: 0.5125\n",
            "Epoch 82/100\n",
            "25/25 [==============================] - 0s 1ms/step - loss: 0.6931 - accuracy: 0.5163\n",
            "Epoch 83/100\n",
            "25/25 [==============================] - 0s 1ms/step - loss: 0.6930 - accuracy: 0.5213\n",
            "Epoch 84/100\n",
            "25/25 [==============================] - 0s 2ms/step - loss: 0.6931 - accuracy: 0.5213\n",
            "Epoch 85/100\n",
            "25/25 [==============================] - 0s 1ms/step - loss: 0.6931 - accuracy: 0.5150\n",
            "Epoch 86/100\n",
            "25/25 [==============================] - 0s 1ms/step - loss: 0.6930 - accuracy: 0.5188\n",
            "Epoch 87/100\n",
            "25/25 [==============================] - 0s 1ms/step - loss: 0.6931 - accuracy: 0.5163\n",
            "Epoch 88/100\n",
            "25/25 [==============================] - 0s 2ms/step - loss: 0.6931 - accuracy: 0.5150\n",
            "Epoch 89/100\n",
            "25/25 [==============================] - 0s 1ms/step - loss: 0.6931 - accuracy: 0.5113\n",
            "Epoch 90/100\n",
            "25/25 [==============================] - 0s 1ms/step - loss: 0.6931 - accuracy: 0.5075\n",
            "Epoch 91/100\n",
            "25/25 [==============================] - 0s 2ms/step - loss: 0.6931 - accuracy: 0.5113\n",
            "Epoch 92/100\n",
            "25/25 [==============================] - 0s 1ms/step - loss: 0.6931 - accuracy: 0.5150\n",
            "Epoch 93/100\n",
            "25/25 [==============================] - 0s 2ms/step - loss: 0.6931 - accuracy: 0.5138\n",
            "Epoch 94/100\n",
            "25/25 [==============================] - 0s 1ms/step - loss: 0.6932 - accuracy: 0.5213\n",
            "Epoch 95/100\n",
            "25/25 [==============================] - 0s 1ms/step - loss: 0.6931 - accuracy: 0.5163\n",
            "Epoch 96/100\n",
            "25/25 [==============================] - 0s 2ms/step - loss: 0.6931 - accuracy: 0.5188\n",
            "Epoch 97/100\n",
            "25/25 [==============================] - 0s 1ms/step - loss: 0.6931 - accuracy: 0.5213\n",
            "Epoch 98/100\n",
            "25/25 [==============================] - 0s 2ms/step - loss: 0.6931 - accuracy: 0.5175\n",
            "Epoch 99/100\n",
            "25/25 [==============================] - 0s 1ms/step - loss: 0.6931 - accuracy: 0.5163\n",
            "Epoch 100/100\n",
            "25/25 [==============================] - 0s 1ms/step - loss: 0.6932 - accuracy: 0.5113\n"
          ],
          "name": "stdout"
        },
        {
          "output_type": "execute_result",
          "data": {
            "text/plain": [
              "<tensorflow.python.keras.callbacks.History at 0x7f34202aca90>"
            ]
          },
          "metadata": {
            "tags": []
          },
          "execution_count": 10
        }
      ]
    },
    {
      "cell_type": "code",
      "metadata": {
        "colab": {
          "base_uri": "https://localhost:8080/"
        },
        "id": "Pnc_LQJy_bIb",
        "outputId": "dcc3aac8-06bf-4989-b3db-8d77cb9da460"
      },
      "source": [
        "#Still 50 % lets add one more hidden layer of 100 neurons.\n",
        "tf.random.set_seed(42)\n",
        "\n",
        "model_3 = tf.keras.Sequential([\n",
        "                               tf.keras.layers.Dense(100),\n",
        "                               tf.keras.layers.Dense(10),\n",
        "                               tf.keras.layers.Dense(1),\n",
        "])\n",
        "\n",
        "model_3.compile(loss=tf.keras.losses.BinaryCrossentropy(),\n",
        "                optimizer=tf.keras.optimizers.Adam(),\n",
        "                metrics=[\"accuracy\"])\n",
        "model_3.fit(X_train,y_train,epochs=100)"
      ],
      "execution_count": 11,
      "outputs": [
        {
          "output_type": "stream",
          "text": [
            "Epoch 1/100\n",
            "25/25 [==============================] - 0s 1ms/step - loss: 2.7193 - accuracy: 0.4500\n",
            "Epoch 2/100\n",
            "25/25 [==============================] - 0s 2ms/step - loss: 0.7143 - accuracy: 0.4900\n",
            "Epoch 3/100\n",
            "25/25 [==============================] - 0s 1ms/step - loss: 0.7026 - accuracy: 0.5188\n",
            "Epoch 4/100\n",
            "25/25 [==============================] - 0s 1ms/step - loss: 0.6953 - accuracy: 0.5250\n",
            "Epoch 5/100\n",
            "25/25 [==============================] - 0s 1ms/step - loss: 0.6955 - accuracy: 0.4988\n",
            "Epoch 6/100\n",
            "25/25 [==============================] - 0s 1ms/step - loss: 0.6959 - accuracy: 0.4638\n",
            "Epoch 7/100\n",
            "25/25 [==============================] - 0s 2ms/step - loss: 0.6953 - accuracy: 0.4950\n",
            "Epoch 8/100\n",
            "25/25 [==============================] - 0s 1ms/step - loss: 0.6944 - accuracy: 0.5088\n",
            "Epoch 9/100\n",
            "25/25 [==============================] - 0s 1ms/step - loss: 0.6946 - accuracy: 0.5075\n",
            "Epoch 10/100\n",
            "25/25 [==============================] - 0s 1ms/step - loss: 0.6944 - accuracy: 0.4888\n",
            "Epoch 11/100\n",
            "25/25 [==============================] - 0s 2ms/step - loss: 0.6966 - accuracy: 0.4975\n",
            "Epoch 12/100\n",
            "25/25 [==============================] - 0s 2ms/step - loss: 0.6963 - accuracy: 0.4700\n",
            "Epoch 13/100\n",
            "25/25 [==============================] - 0s 1ms/step - loss: 0.6974 - accuracy: 0.4888\n",
            "Epoch 14/100\n",
            "25/25 [==============================] - 0s 2ms/step - loss: 0.6978 - accuracy: 0.4850\n",
            "Epoch 15/100\n",
            "25/25 [==============================] - 0s 1ms/step - loss: 0.6962 - accuracy: 0.4563\n",
            "Epoch 16/100\n",
            "25/25 [==============================] - 0s 2ms/step - loss: 0.6971 - accuracy: 0.4963\n",
            "Epoch 17/100\n",
            "25/25 [==============================] - 0s 1ms/step - loss: 0.6967 - accuracy: 0.4750\n",
            "Epoch 18/100\n",
            "25/25 [==============================] - 0s 2ms/step - loss: 0.6948 - accuracy: 0.5038\n",
            "Epoch 19/100\n",
            "25/25 [==============================] - 0s 2ms/step - loss: 0.6964 - accuracy: 0.4688\n",
            "Epoch 20/100\n",
            "25/25 [==============================] - 0s 2ms/step - loss: 0.6965 - accuracy: 0.5075\n",
            "Epoch 21/100\n",
            "25/25 [==============================] - 0s 2ms/step - loss: 0.6962 - accuracy: 0.4825\n",
            "Epoch 22/100\n",
            "25/25 [==============================] - 0s 2ms/step - loss: 0.6963 - accuracy: 0.5038\n",
            "Epoch 23/100\n",
            "25/25 [==============================] - 0s 2ms/step - loss: 0.6975 - accuracy: 0.4725\n",
            "Epoch 24/100\n",
            "25/25 [==============================] - 0s 2ms/step - loss: 0.6985 - accuracy: 0.4988\n",
            "Epoch 25/100\n",
            "25/25 [==============================] - 0s 2ms/step - loss: 0.6956 - accuracy: 0.4800\n",
            "Epoch 26/100\n",
            "25/25 [==============================] - 0s 2ms/step - loss: 0.6958 - accuracy: 0.4925\n",
            "Epoch 27/100\n",
            "25/25 [==============================] - 0s 4ms/step - loss: 0.6953 - accuracy: 0.4975\n",
            "Epoch 28/100\n",
            "25/25 [==============================] - 0s 2ms/step - loss: 0.6964 - accuracy: 0.4888\n",
            "Epoch 29/100\n",
            "25/25 [==============================] - 0s 2ms/step - loss: 0.6967 - accuracy: 0.4650\n",
            "Epoch 30/100\n",
            "25/25 [==============================] - 0s 2ms/step - loss: 0.6966 - accuracy: 0.5250\n",
            "Epoch 31/100\n",
            "25/25 [==============================] - 0s 2ms/step - loss: 0.6981 - accuracy: 0.4588\n",
            "Epoch 32/100\n",
            "25/25 [==============================] - 0s 2ms/step - loss: 0.6970 - accuracy: 0.5138\n",
            "Epoch 33/100\n",
            "25/25 [==============================] - 0s 2ms/step - loss: 0.6994 - accuracy: 0.5013\n",
            "Epoch 34/100\n",
            "25/25 [==============================] - 0s 2ms/step - loss: 0.6991 - accuracy: 0.4450\n",
            "Epoch 35/100\n",
            "25/25 [==============================] - 0s 2ms/step - loss: 0.6956 - accuracy: 0.5000\n",
            "Epoch 36/100\n",
            "25/25 [==============================] - 0s 2ms/step - loss: 0.6954 - accuracy: 0.4700\n",
            "Epoch 37/100\n",
            "25/25 [==============================] - 0s 2ms/step - loss: 0.6952 - accuracy: 0.4563\n",
            "Epoch 38/100\n",
            "25/25 [==============================] - 0s 1ms/step - loss: 0.6974 - accuracy: 0.5150\n",
            "Epoch 39/100\n",
            "25/25 [==============================] - 0s 2ms/step - loss: 0.7014 - accuracy: 0.4913\n",
            "Epoch 40/100\n",
            "25/25 [==============================] - 0s 2ms/step - loss: 0.7010 - accuracy: 0.4988\n",
            "Epoch 41/100\n",
            "25/25 [==============================] - 0s 2ms/step - loss: 0.6987 - accuracy: 0.5175\n",
            "Epoch 42/100\n",
            "25/25 [==============================] - 0s 2ms/step - loss: 0.6962 - accuracy: 0.4625\n",
            "Epoch 43/100\n",
            "25/25 [==============================] - 0s 2ms/step - loss: 0.7002 - accuracy: 0.4812\n",
            "Epoch 44/100\n",
            "25/25 [==============================] - 0s 2ms/step - loss: 0.6992 - accuracy: 0.5038\n",
            "Epoch 45/100\n",
            "25/25 [==============================] - 0s 2ms/step - loss: 0.7053 - accuracy: 0.4762\n",
            "Epoch 46/100\n",
            "25/25 [==============================] - 0s 2ms/step - loss: 0.7021 - accuracy: 0.4588\n",
            "Epoch 47/100\n",
            "25/25 [==============================] - 0s 2ms/step - loss: 0.6952 - accuracy: 0.5075\n",
            "Epoch 48/100\n",
            "25/25 [==============================] - 0s 2ms/step - loss: 0.6992 - accuracy: 0.4787\n",
            "Epoch 49/100\n",
            "25/25 [==============================] - 0s 2ms/step - loss: 0.7036 - accuracy: 0.5063\n",
            "Epoch 50/100\n",
            "25/25 [==============================] - 0s 2ms/step - loss: 0.6991 - accuracy: 0.4750\n",
            "Epoch 51/100\n",
            "25/25 [==============================] - 0s 1ms/step - loss: 0.6979 - accuracy: 0.4963\n",
            "Epoch 52/100\n",
            "25/25 [==============================] - 0s 2ms/step - loss: 0.6961 - accuracy: 0.4712\n",
            "Epoch 53/100\n",
            "25/25 [==============================] - 0s 2ms/step - loss: 0.6971 - accuracy: 0.4925\n",
            "Epoch 54/100\n",
            "25/25 [==============================] - 0s 2ms/step - loss: 0.6997 - accuracy: 0.4600\n",
            "Epoch 55/100\n",
            "25/25 [==============================] - 0s 2ms/step - loss: 0.6993 - accuracy: 0.4613\n",
            "Epoch 56/100\n",
            "25/25 [==============================] - 0s 2ms/step - loss: 0.6955 - accuracy: 0.5188\n",
            "Epoch 57/100\n",
            "25/25 [==============================] - 0s 1ms/step - loss: 0.6971 - accuracy: 0.4975\n",
            "Epoch 58/100\n",
            "25/25 [==============================] - 0s 1ms/step - loss: 0.6961 - accuracy: 0.4875\n",
            "Epoch 59/100\n",
            "25/25 [==============================] - 0s 2ms/step - loss: 0.6965 - accuracy: 0.4988\n",
            "Epoch 60/100\n",
            "25/25 [==============================] - 0s 2ms/step - loss: 0.6967 - accuracy: 0.4825\n",
            "Epoch 61/100\n",
            "25/25 [==============================] - 0s 2ms/step - loss: 0.6978 - accuracy: 0.4850\n",
            "Epoch 62/100\n",
            "25/25 [==============================] - 0s 2ms/step - loss: 0.6976 - accuracy: 0.4787\n",
            "Epoch 63/100\n",
            "25/25 [==============================] - 0s 3ms/step - loss: 0.6990 - accuracy: 0.4812\n",
            "Epoch 64/100\n",
            "25/25 [==============================] - 0s 2ms/step - loss: 0.7007 - accuracy: 0.4462\n",
            "Epoch 65/100\n",
            "25/25 [==============================] - 0s 1ms/step - loss: 0.7017 - accuracy: 0.5063\n",
            "Epoch 66/100\n",
            "25/25 [==============================] - 0s 2ms/step - loss: 0.6973 - accuracy: 0.4663\n",
            "Epoch 67/100\n",
            "25/25 [==============================] - 0s 2ms/step - loss: 0.6990 - accuracy: 0.5050\n",
            "Epoch 68/100\n",
            "25/25 [==============================] - 0s 3ms/step - loss: 0.6987 - accuracy: 0.4900\n",
            "Epoch 69/100\n",
            "25/25 [==============================] - 0s 2ms/step - loss: 0.6945 - accuracy: 0.4575\n",
            "Epoch 70/100\n",
            "25/25 [==============================] - 0s 2ms/step - loss: 0.6959 - accuracy: 0.4888\n",
            "Epoch 71/100\n",
            "25/25 [==============================] - 0s 2ms/step - loss: 0.6967 - accuracy: 0.5025\n",
            "Epoch 72/100\n",
            "25/25 [==============================] - 0s 1ms/step - loss: 0.7004 - accuracy: 0.4663\n",
            "Epoch 73/100\n",
            "25/25 [==============================] - 0s 2ms/step - loss: 0.7018 - accuracy: 0.4575\n",
            "Epoch 74/100\n",
            "25/25 [==============================] - 0s 2ms/step - loss: 0.6959 - accuracy: 0.5100\n",
            "Epoch 75/100\n",
            "25/25 [==============================] - 0s 2ms/step - loss: 0.6955 - accuracy: 0.4913\n",
            "Epoch 76/100\n",
            "25/25 [==============================] - 0s 2ms/step - loss: 0.6997 - accuracy: 0.4712\n",
            "Epoch 77/100\n",
            "25/25 [==============================] - 0s 2ms/step - loss: 0.6985 - accuracy: 0.4700\n",
            "Epoch 78/100\n",
            "25/25 [==============================] - 0s 3ms/step - loss: 0.6986 - accuracy: 0.4625\n",
            "Epoch 79/100\n",
            "25/25 [==============================] - 0s 2ms/step - loss: 0.6982 - accuracy: 0.4638\n",
            "Epoch 80/100\n",
            "25/25 [==============================] - 0s 2ms/step - loss: 0.6965 - accuracy: 0.4600\n",
            "Epoch 81/100\n",
            "25/25 [==============================] - 0s 3ms/step - loss: 0.6963 - accuracy: 0.5238\n",
            "Epoch 82/100\n",
            "25/25 [==============================] - 0s 2ms/step - loss: 0.6964 - accuracy: 0.5088\n",
            "Epoch 83/100\n",
            "25/25 [==============================] - 0s 2ms/step - loss: 0.6992 - accuracy: 0.4850\n",
            "Epoch 84/100\n",
            "25/25 [==============================] - 0s 2ms/step - loss: 0.6994 - accuracy: 0.4725\n",
            "Epoch 85/100\n",
            "25/25 [==============================] - 0s 2ms/step - loss: 0.6975 - accuracy: 0.4900\n",
            "Epoch 86/100\n",
            "25/25 [==============================] - 0s 2ms/step - loss: 0.6965 - accuracy: 0.4725\n",
            "Epoch 87/100\n",
            "25/25 [==============================] - 0s 2ms/step - loss: 0.6953 - accuracy: 0.5163\n",
            "Epoch 88/100\n",
            "25/25 [==============================] - 0s 2ms/step - loss: 0.6980 - accuracy: 0.4638\n",
            "Epoch 89/100\n",
            "25/25 [==============================] - 0s 2ms/step - loss: 0.6983 - accuracy: 0.4938\n",
            "Epoch 90/100\n",
            "25/25 [==============================] - 0s 2ms/step - loss: 0.6957 - accuracy: 0.5138\n",
            "Epoch 91/100\n",
            "25/25 [==============================] - 0s 2ms/step - loss: 0.6983 - accuracy: 0.4600\n",
            "Epoch 92/100\n",
            "25/25 [==============================] - 0s 2ms/step - loss: 0.6970 - accuracy: 0.4613\n",
            "Epoch 93/100\n",
            "25/25 [==============================] - 0s 2ms/step - loss: 0.6974 - accuracy: 0.4737\n",
            "Epoch 94/100\n",
            "25/25 [==============================] - 0s 3ms/step - loss: 0.6971 - accuracy: 0.5138\n",
            "Epoch 95/100\n",
            "25/25 [==============================] - 0s 2ms/step - loss: 0.6989 - accuracy: 0.4762\n",
            "Epoch 96/100\n",
            "25/25 [==============================] - 0s 2ms/step - loss: 0.6963 - accuracy: 0.5238\n",
            "Epoch 97/100\n",
            "25/25 [==============================] - 0s 2ms/step - loss: 0.6970 - accuracy: 0.5050\n",
            "Epoch 98/100\n",
            "25/25 [==============================] - 0s 2ms/step - loss: 0.6972 - accuracy: 0.4775\n",
            "Epoch 99/100\n",
            "25/25 [==============================] - 0s 2ms/step - loss: 0.6983 - accuracy: 0.4675\n",
            "Epoch 100/100\n",
            "25/25 [==============================] - 0s 2ms/step - loss: 0.7017 - accuracy: 0.4938\n"
          ],
          "name": "stdout"
        },
        {
          "output_type": "execute_result",
          "data": {
            "text/plain": [
              "<tensorflow.python.keras.callbacks.History at 0x7f341e928310>"
            ]
          },
          "metadata": {
            "tags": []
          },
          "execution_count": 11
        }
      ]
    },
    {
      "cell_type": "code",
      "metadata": {
        "colab": {
          "base_uri": "https://localhost:8080/"
        },
        "id": "nxyY6_5KAGtU",
        "outputId": "fc980ddb-7020-411c-91fc-deb639411b2f"
      },
      "source": [
        "model_3.evaluate(X_test,y_test)"
      ],
      "execution_count": 12,
      "outputs": [
        {
          "output_type": "stream",
          "text": [
            "7/7 [==============================] - 0s 2ms/step - loss: 0.7002 - accuracy: 0.4500\n"
          ],
          "name": "stdout"
        },
        {
          "output_type": "execute_result",
          "data": {
            "text/plain": [
              "[0.7002224922180176, 0.44999998807907104]"
            ]
          },
          "metadata": {
            "tags": []
          },
          "execution_count": 12
        }
      ]
    },
    {
      "cell_type": "code",
      "metadata": {
        "id": "LHcO8_q4jrIr"
      },
      "source": [
        "# Lets add the activation function with 2 hidden layers and learning rate as 0.001"
      ],
      "execution_count": 13,
      "outputs": []
    },
    {
      "cell_type": "code",
      "metadata": {
        "colab": {
          "base_uri": "https://localhost:8080/"
        },
        "id": "ZgDIp_jij8zW",
        "outputId": "549826bc-e52e-4171-8649-ca7d4549d7ff"
      },
      "source": [
        "tf.random.set_seed(42)\n",
        "\n",
        "# Create a model\n",
        "\n",
        "model_4 = tf.keras.Sequential([\n",
        "                               tf.keras.layers.Dense(4,activation=tf.keras.activations.relu),\n",
        "                               tf.keras.layers.Dense(4,activation=tf.keras.activations.relu),\n",
        "                               tf.keras.layers.Dense(1,activation=tf.keras.activations.sigmoid)\n",
        "])\n",
        "\n",
        "#Compile the model\n",
        "\n",
        "model_4.compile(loss=tf.keras.losses.BinaryCrossentropy(),\n",
        "                optimizer=tf.keras.optimizers.Adam(lr=0.001),\n",
        "                metrics=[\"accuracy\"])\n",
        "\n",
        "# fit the model\n",
        "\n",
        "history_4 = model_4.fit(X_train,y_train,epochs=200)"
      ],
      "execution_count": 14,
      "outputs": [
        {
          "output_type": "stream",
          "text": [
            "/usr/local/lib/python3.7/dist-packages/tensorflow/python/keras/optimizer_v2/optimizer_v2.py:375: UserWarning: The `lr` argument is deprecated, use `learning_rate` instead.\n",
            "  \"The `lr` argument is deprecated, use `learning_rate` instead.\")\n"
          ],
          "name": "stderr"
        },
        {
          "output_type": "stream",
          "text": [
            "Epoch 1/200\n",
            "25/25 [==============================] - 0s 1ms/step - loss: 0.6901 - accuracy: 0.4975\n",
            "Epoch 2/200\n",
            "25/25 [==============================] - 0s 2ms/step - loss: 0.6856 - accuracy: 0.5188\n",
            "Epoch 3/200\n",
            "25/25 [==============================] - 0s 2ms/step - loss: 0.6832 - accuracy: 0.5275\n",
            "Epoch 4/200\n",
            "25/25 [==============================] - 0s 1ms/step - loss: 0.6819 - accuracy: 0.5325\n",
            "Epoch 5/200\n",
            "25/25 [==============================] - 0s 2ms/step - loss: 0.6810 - accuracy: 0.5325\n",
            "Epoch 6/200\n",
            "25/25 [==============================] - 0s 2ms/step - loss: 0.6799 - accuracy: 0.5362\n",
            "Epoch 7/200\n",
            "25/25 [==============================] - 0s 2ms/step - loss: 0.6793 - accuracy: 0.5412\n",
            "Epoch 8/200\n",
            "25/25 [==============================] - 0s 1ms/step - loss: 0.6787 - accuracy: 0.5425\n",
            "Epoch 9/200\n",
            "25/25 [==============================] - 0s 1ms/step - loss: 0.6781 - accuracy: 0.5400\n",
            "Epoch 10/200\n",
            "25/25 [==============================] - 0s 1ms/step - loss: 0.6775 - accuracy: 0.5425\n",
            "Epoch 11/200\n",
            "25/25 [==============================] - 0s 2ms/step - loss: 0.6770 - accuracy: 0.5537\n",
            "Epoch 12/200\n",
            "25/25 [==============================] - 0s 1ms/step - loss: 0.6765 - accuracy: 0.5512\n",
            "Epoch 13/200\n",
            "25/25 [==============================] - 0s 2ms/step - loss: 0.6761 - accuracy: 0.5575\n",
            "Epoch 14/200\n",
            "25/25 [==============================] - 0s 2ms/step - loss: 0.6754 - accuracy: 0.5575\n",
            "Epoch 15/200\n",
            "25/25 [==============================] - 0s 2ms/step - loss: 0.6749 - accuracy: 0.5575\n",
            "Epoch 16/200\n",
            "25/25 [==============================] - 0s 2ms/step - loss: 0.6743 - accuracy: 0.5537\n",
            "Epoch 17/200\n",
            "25/25 [==============================] - 0s 2ms/step - loss: 0.6738 - accuracy: 0.5575\n",
            "Epoch 18/200\n",
            "25/25 [==============================] - 0s 1ms/step - loss: 0.6731 - accuracy: 0.5562\n",
            "Epoch 19/200\n",
            "25/25 [==============================] - 0s 2ms/step - loss: 0.6726 - accuracy: 0.5575\n",
            "Epoch 20/200\n",
            "25/25 [==============================] - 0s 2ms/step - loss: 0.6721 - accuracy: 0.5562\n",
            "Epoch 21/200\n",
            "25/25 [==============================] - 0s 2ms/step - loss: 0.6714 - accuracy: 0.5575\n",
            "Epoch 22/200\n",
            "25/25 [==============================] - 0s 2ms/step - loss: 0.6710 - accuracy: 0.5575\n",
            "Epoch 23/200\n",
            "25/25 [==============================] - 0s 2ms/step - loss: 0.6704 - accuracy: 0.5562\n",
            "Epoch 24/200\n",
            "25/25 [==============================] - 0s 2ms/step - loss: 0.6699 - accuracy: 0.5650\n",
            "Epoch 25/200\n",
            "25/25 [==============================] - 0s 2ms/step - loss: 0.6691 - accuracy: 0.5587\n",
            "Epoch 26/200\n",
            "25/25 [==============================] - 0s 1ms/step - loss: 0.6684 - accuracy: 0.5625\n",
            "Epoch 27/200\n",
            "25/25 [==============================] - 0s 1ms/step - loss: 0.6678 - accuracy: 0.5675\n",
            "Epoch 28/200\n",
            "25/25 [==============================] - 0s 2ms/step - loss: 0.6671 - accuracy: 0.5625\n",
            "Epoch 29/200\n",
            "25/25 [==============================] - 0s 1ms/step - loss: 0.6664 - accuracy: 0.5650\n",
            "Epoch 30/200\n",
            "25/25 [==============================] - 0s 2ms/step - loss: 0.6660 - accuracy: 0.5675\n",
            "Epoch 31/200\n",
            "25/25 [==============================] - 0s 1ms/step - loss: 0.6650 - accuracy: 0.5700\n",
            "Epoch 32/200\n",
            "25/25 [==============================] - 0s 2ms/step - loss: 0.6644 - accuracy: 0.5675\n",
            "Epoch 33/200\n",
            "25/25 [==============================] - 0s 1ms/step - loss: 0.6637 - accuracy: 0.5663\n",
            "Epoch 34/200\n",
            "25/25 [==============================] - 0s 1ms/step - loss: 0.6629 - accuracy: 0.5688\n",
            "Epoch 35/200\n",
            "25/25 [==============================] - 0s 2ms/step - loss: 0.6622 - accuracy: 0.5663\n",
            "Epoch 36/200\n",
            "25/25 [==============================] - 0s 2ms/step - loss: 0.6614 - accuracy: 0.5713\n",
            "Epoch 37/200\n",
            "25/25 [==============================] - 0s 1ms/step - loss: 0.6606 - accuracy: 0.5700\n",
            "Epoch 38/200\n",
            "25/25 [==============================] - 0s 1ms/step - loss: 0.6599 - accuracy: 0.5713\n",
            "Epoch 39/200\n",
            "25/25 [==============================] - 0s 2ms/step - loss: 0.6592 - accuracy: 0.5713\n",
            "Epoch 40/200\n",
            "25/25 [==============================] - 0s 2ms/step - loss: 0.6584 - accuracy: 0.5725\n",
            "Epoch 41/200\n",
            "25/25 [==============================] - 0s 2ms/step - loss: 0.6574 - accuracy: 0.5750\n",
            "Epoch 42/200\n",
            "25/25 [==============================] - 0s 2ms/step - loss: 0.6564 - accuracy: 0.5750\n",
            "Epoch 43/200\n",
            "25/25 [==============================] - 0s 1ms/step - loss: 0.6559 - accuracy: 0.5788\n",
            "Epoch 44/200\n",
            "25/25 [==============================] - 0s 1ms/step - loss: 0.6548 - accuracy: 0.5763\n",
            "Epoch 45/200\n",
            "25/25 [==============================] - 0s 2ms/step - loss: 0.6537 - accuracy: 0.5763\n",
            "Epoch 46/200\n",
            "25/25 [==============================] - 0s 1ms/step - loss: 0.6518 - accuracy: 0.5813\n",
            "Epoch 47/200\n",
            "25/25 [==============================] - 0s 2ms/step - loss: 0.6497 - accuracy: 0.5825\n",
            "Epoch 48/200\n",
            "25/25 [==============================] - 0s 2ms/step - loss: 0.6492 - accuracy: 0.5913\n",
            "Epoch 49/200\n",
            "25/25 [==============================] - 0s 1ms/step - loss: 0.6474 - accuracy: 0.5888\n",
            "Epoch 50/200\n",
            "25/25 [==============================] - 0s 2ms/step - loss: 0.6461 - accuracy: 0.5938\n",
            "Epoch 51/200\n",
            "25/25 [==============================] - 0s 2ms/step - loss: 0.6446 - accuracy: 0.6012\n",
            "Epoch 52/200\n",
            "25/25 [==============================] - 0s 2ms/step - loss: 0.6430 - accuracy: 0.6062\n",
            "Epoch 53/200\n",
            "25/25 [==============================] - 0s 2ms/step - loss: 0.6415 - accuracy: 0.6112\n",
            "Epoch 54/200\n",
            "25/25 [==============================] - 0s 1ms/step - loss: 0.6400 - accuracy: 0.6087\n",
            "Epoch 55/200\n",
            "25/25 [==============================] - 0s 1ms/step - loss: 0.6386 - accuracy: 0.6175\n",
            "Epoch 56/200\n",
            "25/25 [==============================] - 0s 2ms/step - loss: 0.6366 - accuracy: 0.6187\n",
            "Epoch 57/200\n",
            "25/25 [==============================] - 0s 2ms/step - loss: 0.6351 - accuracy: 0.6250\n",
            "Epoch 58/200\n",
            "25/25 [==============================] - 0s 2ms/step - loss: 0.6330 - accuracy: 0.6300\n",
            "Epoch 59/200\n",
            "25/25 [==============================] - 0s 2ms/step - loss: 0.6309 - accuracy: 0.6363\n",
            "Epoch 60/200\n",
            "25/25 [==============================] - 0s 2ms/step - loss: 0.6287 - accuracy: 0.6375\n",
            "Epoch 61/200\n",
            "25/25 [==============================] - 0s 1ms/step - loss: 0.6269 - accuracy: 0.6413\n",
            "Epoch 62/200\n",
            "25/25 [==============================] - 0s 1ms/step - loss: 0.6242 - accuracy: 0.6450\n",
            "Epoch 63/200\n",
            "25/25 [==============================] - 0s 2ms/step - loss: 0.6217 - accuracy: 0.6550\n",
            "Epoch 64/200\n",
            "25/25 [==============================] - 0s 2ms/step - loss: 0.6193 - accuracy: 0.6712\n",
            "Epoch 65/200\n",
            "25/25 [==============================] - 0s 2ms/step - loss: 0.6163 - accuracy: 0.6787\n",
            "Epoch 66/200\n",
            "25/25 [==============================] - 0s 2ms/step - loss: 0.6128 - accuracy: 0.6938\n",
            "Epoch 67/200\n",
            "25/25 [==============================] - 0s 2ms/step - loss: 0.6096 - accuracy: 0.7425\n",
            "Epoch 68/200\n",
            "25/25 [==============================] - 0s 2ms/step - loss: 0.6041 - accuracy: 0.7325\n",
            "Epoch 69/200\n",
            "25/25 [==============================] - 0s 2ms/step - loss: 0.5992 - accuracy: 0.7638\n",
            "Epoch 70/200\n",
            "25/25 [==============================] - 0s 2ms/step - loss: 0.5948 - accuracy: 0.7825\n",
            "Epoch 71/200\n",
            "25/25 [==============================] - 0s 1ms/step - loss: 0.5910 - accuracy: 0.7850\n",
            "Epoch 72/200\n",
            "25/25 [==============================] - 0s 1ms/step - loss: 0.5867 - accuracy: 0.7900\n",
            "Epoch 73/200\n",
            "25/25 [==============================] - 0s 2ms/step - loss: 0.5822 - accuracy: 0.7962\n",
            "Epoch 74/200\n",
            "25/25 [==============================] - 0s 1ms/step - loss: 0.5771 - accuracy: 0.8087\n",
            "Epoch 75/200\n",
            "25/25 [==============================] - 0s 1ms/step - loss: 0.5727 - accuracy: 0.8112\n",
            "Epoch 76/200\n",
            "25/25 [==============================] - 0s 1ms/step - loss: 0.5681 - accuracy: 0.8163\n",
            "Epoch 77/200\n",
            "25/25 [==============================] - 0s 1ms/step - loss: 0.5631 - accuracy: 0.8238\n",
            "Epoch 78/200\n",
            "25/25 [==============================] - 0s 1ms/step - loss: 0.5582 - accuracy: 0.8325\n",
            "Epoch 79/200\n",
            "25/25 [==============================] - 0s 2ms/step - loss: 0.5538 - accuracy: 0.8200\n",
            "Epoch 80/200\n",
            "25/25 [==============================] - 0s 1ms/step - loss: 0.5484 - accuracy: 0.8325\n",
            "Epoch 81/200\n",
            "25/25 [==============================] - 0s 2ms/step - loss: 0.5433 - accuracy: 0.8487\n",
            "Epoch 82/200\n",
            "25/25 [==============================] - 0s 1ms/step - loss: 0.5381 - accuracy: 0.8525\n",
            "Epoch 83/200\n",
            "25/25 [==============================] - 0s 2ms/step - loss: 0.5334 - accuracy: 0.8462\n",
            "Epoch 84/200\n",
            "25/25 [==============================] - 0s 2ms/step - loss: 0.5281 - accuracy: 0.8550\n",
            "Epoch 85/200\n",
            "25/25 [==============================] - 0s 2ms/step - loss: 0.5226 - accuracy: 0.8587\n",
            "Epoch 86/200\n",
            "25/25 [==============================] - 0s 2ms/step - loss: 0.5174 - accuracy: 0.8587\n",
            "Epoch 87/200\n",
            "25/25 [==============================] - 0s 1ms/step - loss: 0.5120 - accuracy: 0.8625\n",
            "Epoch 88/200\n",
            "25/25 [==============================] - 0s 2ms/step - loss: 0.5065 - accuracy: 0.8637\n",
            "Epoch 89/200\n",
            "25/25 [==============================] - 0s 1ms/step - loss: 0.5014 - accuracy: 0.8637\n",
            "Epoch 90/200\n",
            "25/25 [==============================] - 0s 2ms/step - loss: 0.4957 - accuracy: 0.8700\n",
            "Epoch 91/200\n",
            "25/25 [==============================] - 0s 2ms/step - loss: 0.4904 - accuracy: 0.8763\n",
            "Epoch 92/200\n",
            "25/25 [==============================] - 0s 2ms/step - loss: 0.4847 - accuracy: 0.8813\n",
            "Epoch 93/200\n",
            "25/25 [==============================] - 0s 2ms/step - loss: 0.4791 - accuracy: 0.8825\n",
            "Epoch 94/200\n",
            "25/25 [==============================] - 0s 2ms/step - loss: 0.4740 - accuracy: 0.8888\n",
            "Epoch 95/200\n",
            "25/25 [==============================] - 0s 1ms/step - loss: 0.4680 - accuracy: 0.8900\n",
            "Epoch 96/200\n",
            "25/25 [==============================] - 0s 2ms/step - loss: 0.4615 - accuracy: 0.8950\n",
            "Epoch 97/200\n",
            "25/25 [==============================] - 0s 2ms/step - loss: 0.4558 - accuracy: 0.9013\n",
            "Epoch 98/200\n",
            "25/25 [==============================] - 0s 2ms/step - loss: 0.4497 - accuracy: 0.8988\n",
            "Epoch 99/200\n",
            "25/25 [==============================] - 0s 2ms/step - loss: 0.4435 - accuracy: 0.9025\n",
            "Epoch 100/200\n",
            "25/25 [==============================] - 0s 1ms/step - loss: 0.4364 - accuracy: 0.9212\n",
            "Epoch 101/200\n",
            "25/25 [==============================] - 0s 2ms/step - loss: 0.4281 - accuracy: 0.9337\n",
            "Epoch 102/200\n",
            "25/25 [==============================] - 0s 2ms/step - loss: 0.4195 - accuracy: 0.9375\n",
            "Epoch 103/200\n",
            "25/25 [==============================] - 0s 2ms/step - loss: 0.4113 - accuracy: 0.9475\n",
            "Epoch 104/200\n",
            "25/25 [==============================] - 0s 1ms/step - loss: 0.4030 - accuracy: 0.9488\n",
            "Epoch 105/200\n",
            "25/25 [==============================] - 0s 1ms/step - loss: 0.3929 - accuracy: 0.9550\n",
            "Epoch 106/200\n",
            "25/25 [==============================] - 0s 2ms/step - loss: 0.3816 - accuracy: 0.9663\n",
            "Epoch 107/200\n",
            "25/25 [==============================] - 0s 2ms/step - loss: 0.3720 - accuracy: 0.9688\n",
            "Epoch 108/200\n",
            "25/25 [==============================] - 0s 2ms/step - loss: 0.3647 - accuracy: 0.9700\n",
            "Epoch 109/200\n",
            "25/25 [==============================] - 0s 1ms/step - loss: 0.3580 - accuracy: 0.9725\n",
            "Epoch 110/200\n",
            "25/25 [==============================] - 0s 2ms/step - loss: 0.3519 - accuracy: 0.9737\n",
            "Epoch 111/200\n",
            "25/25 [==============================] - 0s 2ms/step - loss: 0.3463 - accuracy: 0.9712\n",
            "Epoch 112/200\n",
            "25/25 [==============================] - 0s 2ms/step - loss: 0.3393 - accuracy: 0.9787\n",
            "Epoch 113/200\n",
            "25/25 [==============================] - 0s 2ms/step - loss: 0.3336 - accuracy: 0.9712\n",
            "Epoch 114/200\n",
            "25/25 [==============================] - 0s 2ms/step - loss: 0.3268 - accuracy: 0.9787\n",
            "Epoch 115/200\n",
            "25/25 [==============================] - 0s 2ms/step - loss: 0.3211 - accuracy: 0.9787\n",
            "Epoch 116/200\n",
            "25/25 [==============================] - 0s 2ms/step - loss: 0.3151 - accuracy: 0.9800\n",
            "Epoch 117/200\n",
            "25/25 [==============================] - 0s 2ms/step - loss: 0.3093 - accuracy: 0.9800\n",
            "Epoch 118/200\n",
            "25/25 [==============================] - 0s 2ms/step - loss: 0.3043 - accuracy: 0.9825\n",
            "Epoch 119/200\n",
            "25/25 [==============================] - 0s 2ms/step - loss: 0.2999 - accuracy: 0.9775\n",
            "Epoch 120/200\n",
            "25/25 [==============================] - 0s 2ms/step - loss: 0.2930 - accuracy: 0.9837\n",
            "Epoch 121/200\n",
            "25/25 [==============================] - 0s 2ms/step - loss: 0.2887 - accuracy: 0.9837\n",
            "Epoch 122/200\n",
            "25/25 [==============================] - 0s 1ms/step - loss: 0.2830 - accuracy: 0.9850\n",
            "Epoch 123/200\n",
            "25/25 [==============================] - 0s 2ms/step - loss: 0.2781 - accuracy: 0.9837\n",
            "Epoch 124/200\n",
            "25/25 [==============================] - 0s 2ms/step - loss: 0.2728 - accuracy: 0.9850\n",
            "Epoch 125/200\n",
            "25/25 [==============================] - 0s 1ms/step - loss: 0.2683 - accuracy: 0.9837\n",
            "Epoch 126/200\n",
            "25/25 [==============================] - 0s 2ms/step - loss: 0.2634 - accuracy: 0.9862\n",
            "Epoch 127/200\n",
            "25/25 [==============================] - 0s 2ms/step - loss: 0.2585 - accuracy: 0.9850\n",
            "Epoch 128/200\n",
            "25/25 [==============================] - 0s 2ms/step - loss: 0.2548 - accuracy: 0.9912\n",
            "Epoch 129/200\n",
            "25/25 [==============================] - 0s 2ms/step - loss: 0.2495 - accuracy: 0.9862\n",
            "Epoch 130/200\n",
            "25/25 [==============================] - 0s 1ms/step - loss: 0.2460 - accuracy: 0.9812\n",
            "Epoch 131/200\n",
            "25/25 [==============================] - 0s 1ms/step - loss: 0.2412 - accuracy: 0.9887\n",
            "Epoch 132/200\n",
            "25/25 [==============================] - 0s 1ms/step - loss: 0.2372 - accuracy: 0.9825\n",
            "Epoch 133/200\n",
            "25/25 [==============================] - 0s 2ms/step - loss: 0.2329 - accuracy: 0.9887\n",
            "Epoch 134/200\n",
            "25/25 [==============================] - 0s 2ms/step - loss: 0.2288 - accuracy: 0.9887\n",
            "Epoch 135/200\n",
            "25/25 [==============================] - 0s 2ms/step - loss: 0.2248 - accuracy: 0.9875\n",
            "Epoch 136/200\n",
            "25/25 [==============================] - 0s 2ms/step - loss: 0.2212 - accuracy: 0.9862\n",
            "Epoch 137/200\n",
            "25/25 [==============================] - 0s 1ms/step - loss: 0.2179 - accuracy: 0.9862\n",
            "Epoch 138/200\n",
            "25/25 [==============================] - 0s 2ms/step - loss: 0.2143 - accuracy: 0.9825\n",
            "Epoch 139/200\n",
            "25/25 [==============================] - 0s 2ms/step - loss: 0.2110 - accuracy: 0.9925\n",
            "Epoch 140/200\n",
            "25/25 [==============================] - 0s 2ms/step - loss: 0.2070 - accuracy: 0.9887\n",
            "Epoch 141/200\n",
            "25/25 [==============================] - 0s 1ms/step - loss: 0.2046 - accuracy: 0.9887\n",
            "Epoch 142/200\n",
            "25/25 [==============================] - 0s 2ms/step - loss: 0.2007 - accuracy: 0.9912\n",
            "Epoch 143/200\n",
            "25/25 [==============================] - 0s 2ms/step - loss: 0.1978 - accuracy: 0.9875\n",
            "Epoch 144/200\n",
            "25/25 [==============================] - 0s 2ms/step - loss: 0.1944 - accuracy: 0.9900\n",
            "Epoch 145/200\n",
            "25/25 [==============================] - 0s 2ms/step - loss: 0.1911 - accuracy: 0.9875\n",
            "Epoch 146/200\n",
            "25/25 [==============================] - 0s 2ms/step - loss: 0.1882 - accuracy: 0.9912\n",
            "Epoch 147/200\n",
            "25/25 [==============================] - 0s 2ms/step - loss: 0.1854 - accuracy: 0.9900\n",
            "Epoch 148/200\n",
            "25/25 [==============================] - 0s 2ms/step - loss: 0.1826 - accuracy: 0.9900\n",
            "Epoch 149/200\n",
            "25/25 [==============================] - 0s 1ms/step - loss: 0.1800 - accuracy: 0.9925\n",
            "Epoch 150/200\n",
            "25/25 [==============================] - 0s 2ms/step - loss: 0.1773 - accuracy: 0.9912\n",
            "Epoch 151/200\n",
            "25/25 [==============================] - 0s 1ms/step - loss: 0.1745 - accuracy: 0.9912\n",
            "Epoch 152/200\n",
            "25/25 [==============================] - 0s 2ms/step - loss: 0.1720 - accuracy: 0.9937\n",
            "Epoch 153/200\n",
            "25/25 [==============================] - 0s 1ms/step - loss: 0.1693 - accuracy: 0.9925\n",
            "Epoch 154/200\n",
            "25/25 [==============================] - 0s 2ms/step - loss: 0.1673 - accuracy: 0.9900\n",
            "Epoch 155/200\n",
            "25/25 [==============================] - 0s 2ms/step - loss: 0.1643 - accuracy: 0.9925\n",
            "Epoch 156/200\n",
            "25/25 [==============================] - 0s 2ms/step - loss: 0.1624 - accuracy: 0.9887\n",
            "Epoch 157/200\n",
            "25/25 [==============================] - 0s 2ms/step - loss: 0.1599 - accuracy: 0.9925\n",
            "Epoch 158/200\n",
            "25/25 [==============================] - 0s 3ms/step - loss: 0.1572 - accuracy: 0.9925\n",
            "Epoch 159/200\n",
            "25/25 [==============================] - 0s 2ms/step - loss: 0.1555 - accuracy: 0.9937\n",
            "Epoch 160/200\n",
            "25/25 [==============================] - 0s 2ms/step - loss: 0.1538 - accuracy: 0.9925\n",
            "Epoch 161/200\n",
            "25/25 [==============================] - 0s 2ms/step - loss: 0.1513 - accuracy: 0.9937\n",
            "Epoch 162/200\n",
            "25/25 [==============================] - 0s 2ms/step - loss: 0.1492 - accuracy: 0.9925\n",
            "Epoch 163/200\n",
            "25/25 [==============================] - 0s 2ms/step - loss: 0.1471 - accuracy: 0.9925\n",
            "Epoch 164/200\n",
            "25/25 [==============================] - 0s 2ms/step - loss: 0.1451 - accuracy: 0.9925\n",
            "Epoch 165/200\n",
            "25/25 [==============================] - 0s 3ms/step - loss: 0.1428 - accuracy: 0.9912\n",
            "Epoch 166/200\n",
            "25/25 [==============================] - 0s 2ms/step - loss: 0.1414 - accuracy: 0.9925\n",
            "Epoch 167/200\n",
            "25/25 [==============================] - 0s 1ms/step - loss: 0.1395 - accuracy: 0.9925\n",
            "Epoch 168/200\n",
            "25/25 [==============================] - 0s 2ms/step - loss: 0.1373 - accuracy: 0.9925\n",
            "Epoch 169/200\n",
            "25/25 [==============================] - 0s 2ms/step - loss: 0.1353 - accuracy: 0.9925\n",
            "Epoch 170/200\n",
            "25/25 [==============================] - 0s 2ms/step - loss: 0.1341 - accuracy: 0.9937\n",
            "Epoch 171/200\n",
            "25/25 [==============================] - 0s 2ms/step - loss: 0.1320 - accuracy: 0.9925\n",
            "Epoch 172/200\n",
            "25/25 [==============================] - 0s 2ms/step - loss: 0.1307 - accuracy: 0.9925\n",
            "Epoch 173/200\n",
            "25/25 [==============================] - 0s 2ms/step - loss: 0.1287 - accuracy: 0.9937\n",
            "Epoch 174/200\n",
            "25/25 [==============================] - 0s 1ms/step - loss: 0.1281 - accuracy: 0.9925\n",
            "Epoch 175/200\n",
            "25/25 [==============================] - 0s 2ms/step - loss: 0.1250 - accuracy: 0.9937\n",
            "Epoch 176/200\n",
            "25/25 [==============================] - 0s 2ms/step - loss: 0.1237 - accuracy: 0.9937\n",
            "Epoch 177/200\n",
            "25/25 [==============================] - 0s 2ms/step - loss: 0.1223 - accuracy: 0.9937\n",
            "Epoch 178/200\n",
            "25/25 [==============================] - 0s 1ms/step - loss: 0.1204 - accuracy: 0.9925\n",
            "Epoch 179/200\n",
            "25/25 [==============================] - 0s 2ms/step - loss: 0.1190 - accuracy: 0.9937\n",
            "Epoch 180/200\n",
            "25/25 [==============================] - 0s 1ms/step - loss: 0.1173 - accuracy: 0.9937\n",
            "Epoch 181/200\n",
            "25/25 [==============================] - 0s 2ms/step - loss: 0.1157 - accuracy: 0.9950\n",
            "Epoch 182/200\n",
            "25/25 [==============================] - 0s 2ms/step - loss: 0.1143 - accuracy: 0.9937\n",
            "Epoch 183/200\n",
            "25/25 [==============================] - 0s 2ms/step - loss: 0.1126 - accuracy: 0.9937\n",
            "Epoch 184/200\n",
            "25/25 [==============================] - 0s 2ms/step - loss: 0.1115 - accuracy: 0.9937\n",
            "Epoch 185/200\n",
            "25/25 [==============================] - 0s 2ms/step - loss: 0.1099 - accuracy: 0.9937\n",
            "Epoch 186/200\n",
            "25/25 [==============================] - 0s 2ms/step - loss: 0.1083 - accuracy: 0.9950\n",
            "Epoch 187/200\n",
            "25/25 [==============================] - 0s 1ms/step - loss: 0.1072 - accuracy: 0.9937\n",
            "Epoch 188/200\n",
            "25/25 [==============================] - 0s 2ms/step - loss: 0.1055 - accuracy: 0.9937\n",
            "Epoch 189/200\n",
            "25/25 [==============================] - 0s 2ms/step - loss: 0.1047 - accuracy: 0.9937\n",
            "Epoch 190/200\n",
            "25/25 [==============================] - 0s 2ms/step - loss: 0.1031 - accuracy: 0.9937\n",
            "Epoch 191/200\n",
            "25/25 [==============================] - 0s 2ms/step - loss: 0.1020 - accuracy: 0.9937\n",
            "Epoch 192/200\n",
            "25/25 [==============================] - 0s 2ms/step - loss: 0.1012 - accuracy: 0.9925\n",
            "Epoch 193/200\n",
            "25/25 [==============================] - 0s 2ms/step - loss: 0.0997 - accuracy: 0.9975\n",
            "Epoch 194/200\n",
            "25/25 [==============================] - 0s 2ms/step - loss: 0.0979 - accuracy: 0.9937\n",
            "Epoch 195/200\n",
            "25/25 [==============================] - 0s 2ms/step - loss: 0.0969 - accuracy: 0.9937\n",
            "Epoch 196/200\n",
            "25/25 [==============================] - 0s 3ms/step - loss: 0.0957 - accuracy: 0.9937\n",
            "Epoch 197/200\n",
            "25/25 [==============================] - 0s 2ms/step - loss: 0.0949 - accuracy: 0.9937\n",
            "Epoch 198/200\n",
            "25/25 [==============================] - 0s 2ms/step - loss: 0.0939 - accuracy: 0.9950\n",
            "Epoch 199/200\n",
            "25/25 [==============================] - 0s 2ms/step - loss: 0.0928 - accuracy: 0.9950\n",
            "Epoch 200/200\n",
            "25/25 [==============================] - 0s 2ms/step - loss: 0.0916 - accuracy: 0.9937\n"
          ],
          "name": "stdout"
        }
      ]
    },
    {
      "cell_type": "code",
      "metadata": {
        "colab": {
          "base_uri": "https://localhost:8080/"
        },
        "id": "OheLkk5xnAZa",
        "outputId": "8b1df720-9f1d-465c-b421-7ef471792cab"
      },
      "source": [
        "model_4.evaluate(X_train, y_train)"
      ],
      "execution_count": 15,
      "outputs": [
        {
          "output_type": "stream",
          "text": [
            "25/25 [==============================] - 0s 2ms/step - loss: 0.0903 - accuracy: 0.9950\n"
          ],
          "name": "stdout"
        },
        {
          "output_type": "execute_result",
          "data": {
            "text/plain": [
              "[0.09034980088472366, 0.9950000047683716]"
            ]
          },
          "metadata": {
            "tags": []
          },
          "execution_count": 15
        }
      ]
    },
    {
      "cell_type": "code",
      "metadata": {
        "id": "Rr2AB7Vx_LWa"
      },
      "source": [
        "# lets try that model to learn faster."
      ],
      "execution_count": 16,
      "outputs": []
    },
    {
      "cell_type": "code",
      "metadata": {
        "colab": {
          "base_uri": "https://localhost:8080/"
        },
        "id": "zQiX1Ru9_ba2",
        "outputId": "9659ca05-8810-409b-9408-b169e64eff4a"
      },
      "source": [
        "tf.random.set_seed(42)\n",
        "# create a model\n",
        "model_5=tf.keras.Sequential([\n",
        "                             tf.keras.layers.Dense(5,activation=tf.keras.activations.relu),\n",
        "                             tf.keras.layers.Dense(5,activation=tf.keras.activations.relu),\n",
        "                             tf.keras.layers.Dense(1,activation=tf.keras.activations.sigmoid)\n",
        "])\n",
        "\n",
        "#compile a model\n",
        "model_5.compile(loss=tf.keras.losses.BinaryCrossentropy(),\n",
        "                optimizer=tf.keras.optimizers.Adam(lr=0.01),\n",
        "                metrics=[\"accuracy\"])\n",
        "\n",
        "#fit the model\n",
        "history_5=model_5.fit(X_train,y_train,epochs=25)\n"
      ],
      "execution_count": 17,
      "outputs": [
        {
          "output_type": "stream",
          "text": [
            "Epoch 1/25\n"
          ],
          "name": "stdout"
        },
        {
          "output_type": "stream",
          "text": [
            "/usr/local/lib/python3.7/dist-packages/tensorflow/python/keras/optimizer_v2/optimizer_v2.py:375: UserWarning: The `lr` argument is deprecated, use `learning_rate` instead.\n",
            "  \"The `lr` argument is deprecated, use `learning_rate` instead.\")\n"
          ],
          "name": "stderr"
        },
        {
          "output_type": "stream",
          "text": [
            "25/25 [==============================] - 0s 2ms/step - loss: 0.6924 - accuracy: 0.5163\n",
            "Epoch 2/25\n",
            "25/25 [==============================] - 0s 1ms/step - loss: 0.6845 - accuracy: 0.5125\n",
            "Epoch 3/25\n",
            "25/25 [==============================] - 0s 2ms/step - loss: 0.6771 - accuracy: 0.5612\n",
            "Epoch 4/25\n",
            "25/25 [==============================] - 0s 1ms/step - loss: 0.6703 - accuracy: 0.5725\n",
            "Epoch 5/25\n",
            "25/25 [==============================] - 0s 2ms/step - loss: 0.6606 - accuracy: 0.6263\n",
            "Epoch 6/25\n",
            "25/25 [==============================] - 0s 2ms/step - loss: 0.6469 - accuracy: 0.6350\n",
            "Epoch 7/25\n",
            "25/25 [==============================] - 0s 2ms/step - loss: 0.6213 - accuracy: 0.7150\n",
            "Epoch 8/25\n",
            "25/25 [==============================] - 0s 2ms/step - loss: 0.5787 - accuracy: 0.7412\n",
            "Epoch 9/25\n",
            "25/25 [==============================] - 0s 1ms/step - loss: 0.5339 - accuracy: 0.7900\n",
            "Epoch 10/25\n",
            "25/25 [==============================] - 0s 2ms/step - loss: 0.4901 - accuracy: 0.8100\n",
            "Epoch 11/25\n",
            "25/25 [==============================] - 0s 2ms/step - loss: 0.4475 - accuracy: 0.8413\n",
            "Epoch 12/25\n",
            "25/25 [==============================] - 0s 2ms/step - loss: 0.3534 - accuracy: 0.9137\n",
            "Epoch 13/25\n",
            "25/25 [==============================] - 0s 2ms/step - loss: 0.2399 - accuracy: 0.9900\n",
            "Epoch 14/25\n",
            "25/25 [==============================] - 0s 2ms/step - loss: 0.1757 - accuracy: 0.9975\n",
            "Epoch 15/25\n",
            "25/25 [==============================] - 0s 2ms/step - loss: 0.1325 - accuracy: 0.9887\n",
            "Epoch 16/25\n",
            "25/25 [==============================] - 0s 1ms/step - loss: 0.1085 - accuracy: 0.9925\n",
            "Epoch 17/25\n",
            "25/25 [==============================] - 0s 1ms/step - loss: 0.0816 - accuracy: 0.9962\n",
            "Epoch 18/25\n",
            "25/25 [==============================] - 0s 2ms/step - loss: 0.0661 - accuracy: 0.9975\n",
            "Epoch 19/25\n",
            "25/25 [==============================] - 0s 1ms/step - loss: 0.0533 - accuracy: 0.9962\n",
            "Epoch 20/25\n",
            "25/25 [==============================] - 0s 1ms/step - loss: 0.0494 - accuracy: 0.9975\n",
            "Epoch 21/25\n",
            "25/25 [==============================] - 0s 2ms/step - loss: 0.0451 - accuracy: 0.9987\n",
            "Epoch 22/25\n",
            "25/25 [==============================] - 0s 4ms/step - loss: 0.0378 - accuracy: 0.9987\n",
            "Epoch 23/25\n",
            "25/25 [==============================] - 0s 4ms/step - loss: 0.0344 - accuracy: 0.9975\n",
            "Epoch 24/25\n",
            "25/25 [==============================] - 0s 2ms/step - loss: 0.0319 - accuracy: 0.9987\n",
            "Epoch 25/25\n",
            "25/25 [==============================] - 0s 1ms/step - loss: 0.0311 - accuracy: 0.9975\n"
          ],
          "name": "stdout"
        }
      ]
    },
    {
      "cell_type": "code",
      "metadata": {
        "colab": {
          "base_uri": "https://localhost:8080/",
          "height": 301
        },
        "id": "BsTf1kgAATB-",
        "outputId": "ac20ef94-6ca4-4a9e-d70f-91efec2d2f61"
      },
      "source": [
        "pd.DataFrame(history_5.history).plot()\n",
        "model_5.evaluate(X_test,y_test)\n"
      ],
      "execution_count": 18,
      "outputs": [
        {
          "output_type": "stream",
          "text": [
            "7/7 [==============================] - 0s 2ms/step - loss: 0.0400 - accuracy: 0.9950\n"
          ],
          "name": "stdout"
        },
        {
          "output_type": "execute_result",
          "data": {
            "text/plain": [
              "[0.03995377570390701, 0.9950000047683716]"
            ]
          },
          "metadata": {
            "tags": []
          },
          "execution_count": 18
        },
        {
          "output_type": "display_data",
          "data": {
            "image/png": "[encoded data removed]",
            "text/plain": [
              "<Figure size 432x288 with 1 Axes>"
            ]
          },
          "metadata": {
            "tags": [],
            "needs_background": "light"
          }
        }
      ]
    },
    {
      "cell_type": "markdown",
      "metadata": {
        "id": "kUqCqA6jAhOd"
      },
      "source": [
        "**Learning Rate effect:**\n",
        "\n",
        "So just by increasing the learning rate by 10% we are able to trian the model in 1/10th of epochs. \n",
        "\n"
      ]
    },
    {
      "cell_type": "markdown",
      "metadata": {
        "id": "kl18OTySWFJG"
      },
      "source": [
        "#Confusion matrix"
      ]
    },
    {
      "cell_type": "code",
      "metadata": {
        "colab": {
          "base_uri": "https://localhost:8080/"
        },
        "id": "sh-8bLaBWgeU",
        "outputId": "ff5dea9f-d582-4ea2-ff22-2d6a11cbedc2"
      },
      "source": [
        "y_pred = model_5.predict(X_test)\n",
        "\n",
        "model_5.evaluate(X_test,y_test)"
      ],
      "execution_count": 19,
      "outputs": [
        {
          "output_type": "stream",
          "text": [
            "7/7 [==============================] - 0s 2ms/step - loss: 0.0400 - accuracy: 0.9950\n"
          ],
          "name": "stdout"
        },
        {
          "output_type": "execute_result",
          "data": {
            "text/plain": [
              "[0.03995377570390701, 0.9950000047683716]"
            ]
          },
          "metadata": {
            "tags": []
          },
          "execution_count": 19
        }
      ]
    },
    {
      "cell_type": "code",
      "metadata": {
        "colab": {
          "base_uri": "https://localhost:8080/"
        },
        "id": "tnzz4OqiW5d1",
        "outputId": "8d4ddc74-99e8-425d-95b6-fd8e3895f6d4"
      },
      "source": [
        "tf.math.confusion_matrix(y_test,y_pred)"
      ],
      "execution_count": 20,
      "outputs": [
        {
          "output_type": "execute_result",
          "data": {
            "text/plain": [
              "<tf.Tensor: shape=(2, 2), dtype=int32, numpy=\n",
              "array([[102,   0],\n",
              "       [ 98,   0]], dtype=int32)>"
            ]
          },
          "metadata": {
            "tags": []
          },
          "execution_count": 20
        }
      ]
    },
    {
      "cell_type": "markdown",
      "metadata": {
        "id": "oX7U30G3XLgs"
      },
      "source": [
        "Now this is showing very high false negative case. However accuracy is quite high\n",
        "\n",
        "**Are we missing some thing?**"
      ]
    },
    {
      "cell_type": "code",
      "metadata": {
        "colab": {
          "base_uri": "https://localhost:8080/"
        },
        "id": "Muybr31rXk9k",
        "outputId": "ccb79ca9-04b2-49bd-e21e-7fe0515d579d"
      },
      "source": [
        "y_pred, y_test\n"
      ],
      "execution_count": 21,
      "outputs": [
        {
          "output_type": "execute_result",
          "data": {
            "text/plain": [
              "(array([[6.80088997e-04],\n",
              "        [3.20592523e-03],\n",
              "        [9.78380084e-01],\n",
              "        [6.72984123e-03],\n",
              "        [9.60068703e-01],\n",
              "        [9.66967344e-02],\n",
              "        [1.92278624e-03],\n",
              "        [9.48053479e-01],\n",
              "        [9.96348143e-01],\n",
              "        [9.84948099e-01],\n",
              "        [2.77233124e-03],\n",
              "        [1.06672347e-02],\n",
              "        [9.93015409e-01],\n",
              "        [9.89714265e-03],\n",
              "        [9.62647438e-01],\n",
              "        [6.46948814e-04],\n",
              "        [9.46549892e-01],\n",
              "        [4.98447120e-02],\n",
              "        [9.32006359e-01],\n",
              "        [9.00455236e-01],\n",
              "        [8.74790192e-01],\n",
              "        [7.74782896e-03],\n",
              "        [9.81132984e-01],\n",
              "        [9.78798032e-01],\n",
              "        [1.24126673e-04],\n",
              "        [5.80609143e-01],\n",
              "        [7.25113809e-01],\n",
              "        [9.71135020e-01],\n",
              "        [4.01926041e-03],\n",
              "        [2.31817365e-03],\n",
              "        [4.89240885e-03],\n",
              "        [3.73411477e-02],\n",
              "        [6.63276951e-05],\n",
              "        [9.96341348e-01],\n",
              "        [2.72115469e-02],\n",
              "        [1.69605017e-04],\n",
              "        [9.96224642e-01],\n",
              "        [4.80885828e-05],\n",
              "        [5.77530265e-03],\n",
              "        [6.72477841e-01],\n",
              "        [9.86339450e-01],\n",
              "        [9.39548016e-04],\n",
              "        [3.27827036e-02],\n",
              "        [9.97167110e-01],\n",
              "        [9.95658278e-01],\n",
              "        [9.96238768e-01],\n",
              "        [1.45602226e-03],\n",
              "        [1.26379728e-03],\n",
              "        [4.75645065e-04],\n",
              "        [2.85786390e-02],\n",
              "        [9.93988872e-01],\n",
              "        [9.94980097e-01],\n",
              "        [5.99741936e-04],\n",
              "        [9.76489961e-01],\n",
              "        [9.69179749e-01],\n",
              "        [9.99509931e-01],\n",
              "        [1.27810240e-03],\n",
              "        [9.95064139e-01],\n",
              "        [9.28768516e-01],\n",
              "        [9.45773304e-01],\n",
              "        [8.82412314e-01],\n",
              "        [2.33481228e-02],\n",
              "        [9.94714022e-01],\n",
              "        [6.69449568e-04],\n",
              "        [4.24742699e-03],\n",
              "        [4.56362963e-03],\n",
              "        [9.06931877e-01],\n",
              "        [9.46264744e-01],\n",
              "        [9.87393737e-01],\n",
              "        [1.17155910e-03],\n",
              "        [7.39157200e-04],\n",
              "        [4.06265259e-04],\n",
              "        [2.27501988e-03],\n",
              "        [9.16153193e-04],\n",
              "        [9.93070185e-01],\n",
              "        [9.50163960e-01],\n",
              "        [2.45064497e-04],\n",
              "        [1.03478730e-02],\n",
              "        [9.78062272e-01],\n",
              "        [1.00492001e-01],\n",
              "        [8.10885429e-03],\n",
              "        [3.03116441e-03],\n",
              "        [7.23523498e-02],\n",
              "        [9.78307247e-01],\n",
              "        [8.51731181e-01],\n",
              "        [4.28438187e-04],\n",
              "        [2.97185779e-03],\n",
              "        [9.97325003e-01],\n",
              "        [7.27921724e-03],\n",
              "        [9.94254470e-01],\n",
              "        [9.86427665e-01],\n",
              "        [4.21835357e-05],\n",
              "        [2.23183632e-03],\n",
              "        [9.95904744e-01],\n",
              "        [9.69235599e-01],\n",
              "        [1.88183784e-03],\n",
              "        [4.45168018e-02],\n",
              "        [9.39742208e-01],\n",
              "        [8.59370828e-03],\n",
              "        [1.34810805e-02],\n",
              "        [9.98041034e-01],\n",
              "        [9.78916883e-01],\n",
              "        [9.87595975e-01],\n",
              "        [4.61906195e-03],\n",
              "        [9.95428503e-01],\n",
              "        [3.15687060e-03],\n",
              "        [9.96376038e-01],\n",
              "        [9.74055171e-01],\n",
              "        [1.04294986e-01],\n",
              "        [3.06010246e-03],\n",
              "        [7.80460238e-03],\n",
              "        [3.09872627e-02],\n",
              "        [1.41927600e-03],\n",
              "        [9.96073604e-01],\n",
              "        [9.67577696e-01],\n",
              "        [5.02875149e-02],\n",
              "        [2.31841207e-03],\n",
              "        [9.67466414e-01],\n",
              "        [1.18772388e-02],\n",
              "        [2.64948606e-03],\n",
              "        [9.97190952e-01],\n",
              "        [9.49195266e-01],\n",
              "        [9.97021317e-01],\n",
              "        [3.63862514e-03],\n",
              "        [2.57725418e-02],\n",
              "        [8.83978724e-01],\n",
              "        [3.59639525e-03],\n",
              "        [3.01235616e-02],\n",
              "        [6.49438858e-01],\n",
              "        [8.46843243e-01],\n",
              "        [9.24491644e-01],\n",
              "        [9.02891159e-04],\n",
              "        [5.22303581e-03],\n",
              "        [9.59888816e-01],\n",
              "        [1.38909817e-02],\n",
              "        [9.73192334e-01],\n",
              "        [9.85566974e-01],\n",
              "        [1.06379688e-02],\n",
              "        [9.06025529e-01],\n",
              "        [9.96778607e-01],\n",
              "        [9.84805346e-01],\n",
              "        [5.95468283e-03],\n",
              "        [1.29069984e-02],\n",
              "        [5.84453344e-04],\n",
              "        [9.68270779e-01],\n",
              "        [8.05803180e-01],\n",
              "        [9.96070147e-01],\n",
              "        [9.80727315e-01],\n",
              "        [1.87408924e-03],\n",
              "        [1.04514062e-02],\n",
              "        [7.43657231e-01],\n",
              "        [7.56112640e-05],\n",
              "        [9.95349288e-01],\n",
              "        [9.76382494e-01],\n",
              "        [2.33507156e-03],\n",
              "        [9.95191216e-01],\n",
              "        [9.89983141e-01],\n",
              "        [5.22387028e-03],\n",
              "        [9.93740022e-01],\n",
              "        [9.20803666e-01],\n",
              "        [6.17492199e-03],\n",
              "        [8.36964428e-01],\n",
              "        [9.92103934e-01],\n",
              "        [9.78885055e-01],\n",
              "        [9.53158736e-03],\n",
              "        [9.42482710e-01],\n",
              "        [9.95854080e-01],\n",
              "        [2.72005796e-04],\n",
              "        [9.00429428e-01],\n",
              "        [3.70442867e-04],\n",
              "        [7.85016418e-02],\n",
              "        [8.67217779e-04],\n",
              "        [7.58897424e-01],\n",
              "        [1.50930882e-03],\n",
              "        [1.71422958e-04],\n",
              "        [9.50090528e-01],\n",
              "        [6.35155439e-02],\n",
              "        [9.92626905e-01],\n",
              "        [2.14162469e-03],\n",
              "        [1.00026795e-04],\n",
              "        [9.75175023e-01],\n",
              "        [3.70559096e-03],\n",
              "        [3.40553224e-02],\n",
              "        [1.70949399e-02],\n",
              "        [9.72315311e-01],\n",
              "        [9.93424177e-01],\n",
              "        [9.89912629e-01],\n",
              "        [4.60505486e-04],\n",
              "        [9.69623923e-01],\n",
              "        [1.45681798e-02],\n",
              "        [2.56294310e-02],\n",
              "        [5.35296679e-01],\n",
              "        [9.56856310e-01],\n",
              "        [7.44319558e-01],\n",
              "        [6.79693520e-02],\n",
              "        [9.98262942e-01],\n",
              "        [9.96892929e-01],\n",
              "        [8.70376825e-03],\n",
              "        [9.51406982e-05],\n",
              "        [2.55429745e-03]], dtype=float32), 521    0\n",
              " 737    0\n",
              " 740    1\n",
              " 660    0\n",
              " 411    1\n",
              "       ..\n",
              " 408    1\n",
              " 332    1\n",
              " 208    0\n",
              " 613    0\n",
              " 78     0\n",
              " Name: Label, Length: 200, dtype: int64)"
            ]
          },
          "metadata": {
            "tags": []
          },
          "execution_count": 21
        }
      ]
    },
    {
      "cell_type": "markdown",
      "metadata": {
        "id": "_oFvP8yXX60E"
      },
      "source": [
        "So one is having probability and other is in binary. Cool"
      ]
    },
    {
      "cell_type": "code",
      "metadata": {
        "colab": {
          "base_uri": "https://localhost:8080/"
        },
        "id": "zVdNl8DJYAtD",
        "outputId": "4282d282-a73f-4221-82f3-fe5f317a41f8"
      },
      "source": [
        "y_pred = tf.round(y_pred)\n",
        "y_pred"
      ],
      "execution_count": 22,
      "outputs": [
        {
          "output_type": "execute_result",
          "data": {
            "text/plain": [
              "<tf.Tensor: shape=(200, 1), dtype=float32, numpy=\n",
              "array([[0.],\n",
              "       [0.],\n",
              "       [1.],\n",
              "       [0.],\n",
              "       [1.],\n",
              "       [0.],\n",
              "       [0.],\n",
              "       [1.],\n",
              "       [1.],\n",
              "       [1.],\n",
              "       [0.],\n",
              "       [0.],\n",
              "       [1.],\n",
              "       [0.],\n",
              "       [1.],\n",
              "       [0.],\n",
              "       [1.],\n",
              "       [0.],\n",
              "       [1.],\n",
              "       [1.],\n",
              "       [1.],\n",
              "       [0.],\n",
              "       [1.],\n",
              "       [1.],\n",
              "       [0.],\n",
              "       [1.],\n",
              "       [1.],\n",
              "       [1.],\n",
              "       [0.],\n",
              "       [0.],\n",
              "       [0.],\n",
              "       [0.],\n",
              "       [0.],\n",
              "       [1.],\n",
              "       [0.],\n",
              "       [0.],\n",
              "       [1.],\n",
              "       [0.],\n",
              "       [0.],\n",
              "       [1.],\n",
              "       [1.],\n",
              "       [0.],\n",
              "       [0.],\n",
              "       [1.],\n",
              "       [1.],\n",
              "       [1.],\n",
              "       [0.],\n",
              "       [0.],\n",
              "       [0.],\n",
              "       [0.],\n",
              "       [1.],\n",
              "       [1.],\n",
              "       [0.],\n",
              "       [1.],\n",
              "       [1.],\n",
              "       [1.],\n",
              "       [0.],\n",
              "       [1.],\n",
              "       [1.],\n",
              "       [1.],\n",
              "       [1.],\n",
              "       [0.],\n",
              "       [1.],\n",
              "       [0.],\n",
              "       [0.],\n",
              "       [0.],\n",
              "       [1.],\n",
              "       [1.],\n",
              "       [1.],\n",
              "       [0.],\n",
              "       [0.],\n",
              "       [0.],\n",
              "       [0.],\n",
              "       [0.],\n",
              "       [1.],\n",
              "       [1.],\n",
              "       [0.],\n",
              "       [0.],\n",
              "       [1.],\n",
              "       [0.],\n",
              "       [0.],\n",
              "       [0.],\n",
              "       [0.],\n",
              "       [1.],\n",
              "       [1.],\n",
              "       [0.],\n",
              "       [0.],\n",
              "       [1.],\n",
              "       [0.],\n",
              "       [1.],\n",
              "       [1.],\n",
              "       [0.],\n",
              "       [0.],\n",
              "       [1.],\n",
              "       [1.],\n",
              "       [0.],\n",
              "       [0.],\n",
              "       [1.],\n",
              "       [0.],\n",
              "       [0.],\n",
              "       [1.],\n",
              "       [1.],\n",
              "       [1.],\n",
              "       [0.],\n",
              "       [1.],\n",
              "       [0.],\n",
              "       [1.],\n",
              "       [1.],\n",
              "       [0.],\n",
              "       [0.],\n",
              "       [0.],\n",
              "       [0.],\n",
              "       [0.],\n",
              "       [1.],\n",
              "       [1.],\n",
              "       [0.],\n",
              "       [0.],\n",
              "       [1.],\n",
              "       [0.],\n",
              "       [0.],\n",
              "       [1.],\n",
              "       [1.],\n",
              "       [1.],\n",
              "       [0.],\n",
              "       [0.],\n",
              "       [1.],\n",
              "       [0.],\n",
              "       [0.],\n",
              "       [1.],\n",
              "       [1.],\n",
              "       [1.],\n",
              "       [0.],\n",
              "       [0.],\n",
              "       [1.],\n",
              "       [0.],\n",
              "       [1.],\n",
              "       [1.],\n",
              "       [0.],\n",
              "       [1.],\n",
              "       [1.],\n",
              "       [1.],\n",
              "       [0.],\n",
              "       [0.],\n",
              "       [0.],\n",
              "       [1.],\n",
              "       [1.],\n",
              "       [1.],\n",
              "       [1.],\n",
              "       [0.],\n",
              "       [0.],\n",
              "       [1.],\n",
              "       [0.],\n",
              "       [1.],\n",
              "       [1.],\n",
              "       [0.],\n",
              "       [1.],\n",
              "       [1.],\n",
              "       [0.],\n",
              "       [1.],\n",
              "       [1.],\n",
              "       [0.],\n",
              "       [1.],\n",
              "       [1.],\n",
              "       [1.],\n",
              "       [0.],\n",
              "       [1.],\n",
              "       [1.],\n",
              "       [0.],\n",
              "       [1.],\n",
              "       [0.],\n",
              "       [0.],\n",
              "       [0.],\n",
              "       [1.],\n",
              "       [0.],\n",
              "       [0.],\n",
              "       [1.],\n",
              "       [0.],\n",
              "       [1.],\n",
              "       [0.],\n",
              "       [0.],\n",
              "       [1.],\n",
              "       [0.],\n",
              "       [0.],\n",
              "       [0.],\n",
              "       [1.],\n",
              "       [1.],\n",
              "       [1.],\n",
              "       [0.],\n",
              "       [1.],\n",
              "       [0.],\n",
              "       [0.],\n",
              "       [1.],\n",
              "       [1.],\n",
              "       [1.],\n",
              "       [0.],\n",
              "       [1.],\n",
              "       [1.],\n",
              "       [0.],\n",
              "       [0.],\n",
              "       [0.]], dtype=float32)>"
            ]
          },
          "metadata": {
            "tags": []
          },
          "execution_count": 22
        }
      ]
    },
    {
      "cell_type": "code",
      "metadata": {
        "colab": {
          "base_uri": "https://localhost:8080/"
        },
        "id": "764qb3bYYQSN",
        "outputId": "1100b762-cb2f-402e-abc4-b86151b8ff25"
      },
      "source": [
        "tf.math.confusion_matrix(y_test, y_pred)"
      ],
      "execution_count": 23,
      "outputs": [
        {
          "output_type": "execute_result",
          "data": {
            "text/plain": [
              "<tf.Tensor: shape=(2, 2), dtype=int32, numpy=\n",
              "array([[101,   1],\n",
              "       [  0,  98]], dtype=int32)>"
            ]
          },
          "metadata": {
            "tags": []
          },
          "execution_count": 23
        }
      ]
    },
    {
      "cell_type": "markdown",
      "metadata": {
        "id": "JwbBD5leYYkk"
      },
      "source": [
        "Now it make sense"
      ]
    },
    {
      "cell_type": "markdown",
      "metadata": {
        "id": "rog0Y3TNcHnh"
      },
      "source": [
        "#Lets work on larger data sets\n",
        "* work on fashion data set from keras for multiclass classificaiton"
      ]
    },
    {
      "cell_type": "code",
      "metadata": {
        "id": "N7PJAE8TcLiQ",
        "colab": {
          "base_uri": "https://localhost:8080/"
        },
        "outputId": "449b82d4-724e-4ad2-91e2-010ef2c63034"
      },
      "source": [
        "import tensorflow as tf\n",
        "\n",
        "fashion_data = tf.keras.datasets.fashion_mnist\n",
        "# Data is already split in train and test \n",
        "(X_train,y_train),(X_test ,y_test) = fashion_data.load_data()"
      ],
      "execution_count": 24,
      "outputs": [
        {
          "output_type": "stream",
          "text": [
            "Downloading data from https://storage.googleapis.com/tensorflow/tf-keras-datasets/train-labels-idx1-ubyte.gz\n",
            "32768/29515 [=================================] - 0s 0us/step\n",
            "Downloading data from https://storage.googleapis.com/tensorflow/tf-keras-datasets/train-images-idx3-ubyte.gz\n",
            "26427392/26421880 [==============================] - 0s 0us/step\n",
            "Downloading data from https://storage.googleapis.com/tensorflow/tf-keras-datasets/t10k-labels-idx1-ubyte.gz\n",
            "8192/5148 [===============================================] - 0s 0us/step\n",
            "Downloading data from https://storage.googleapis.com/tensorflow/tf-keras-datasets/t10k-images-idx3-ubyte.gz\n",
            "4423680/4422102 [==============================] - 0s 0us/step\n"
          ],
          "name": "stdout"
        }
      ]
    },
    {
      "cell_type": "code",
      "metadata": {
        "colab": {
          "base_uri": "https://localhost:8080/",
          "height": 283
        },
        "id": "yHR7jA_ydiev",
        "outputId": "8d7cc979-6fff-4bf3-f252-644e8646421f"
      },
      "source": [
        "import matplotlib.pyplot as plt\n",
        "\n",
        "plt.imshow(X_train[20])\n",
        "plt.show()\n",
        "\n",
        "print(\"label : {}\".format(y_train[20]))\n",
        "\n"
      ],
      "execution_count": 25,
      "outputs": [
        {
          "output_type": "display_data",
          "data": {
            "image/png": "[encoded data removed]",
            "text/plain": [
              "<Figure size 432x288 with 1 Axes>"
            ]
          },
          "metadata": {
            "tags": [],
            "needs_background": "light"
          }
        },
        {
          "output_type": "stream",
          "text": [
            "label : 3\n"
          ],
          "name": "stdout"
        }
      ]
    },
    {
      "cell_type": "code",
      "metadata": {
        "id": "HfEntvctrEHW"
      },
      "source": [
        "class_names = ['T-shirt/top', 'Trouser', 'Pullover', 'Dress', 'Coat',\n",
        "               'Sandal', 'Shirt', 'Sneaker', 'Bag', 'Ankle boot']"
      ],
      "execution_count": 26,
      "outputs": []
    },
    {
      "cell_type": "code",
      "metadata": {
        "colab": {
          "base_uri": "https://localhost:8080/"
        },
        "id": "AcaIOOQ3kjIk",
        "outputId": "0067068d-edd9-4ad6-cf23-c25163fae495"
      },
      "source": [
        "# Lets check the shape of training data.\n",
        "\n",
        "X_train[0].shape"
      ],
      "execution_count": 27,
      "outputs": [
        {
          "output_type": "execute_result",
          "data": {
            "text/plain": [
              "(28, 28)"
            ]
          },
          "metadata": {
            "tags": []
          },
          "execution_count": 27
        }
      ]
    },
    {
      "cell_type": "code",
      "metadata": {
        "colab": {
          "base_uri": "https://localhost:8080/"
        },
        "id": "EzSNBSbTjoZW",
        "outputId": "34b8122f-7435-4e82-839a-7678864a0e4d"
      },
      "source": [
        "# Lets buid the model .\n",
        "\n",
        "#set random seed \n",
        "\n",
        "tf.random.set_seed(42)\n",
        "\n",
        "# Crete a model\n",
        "\n",
        "model_6=tf.keras.Sequential([\n",
        "                             tf.keras.layers.Flatten(input_shape=(28,28)),\n",
        "                             tf.keras.layers.Dense(4,activation=tf.keras.activations.relu),\n",
        "                             tf.keras.layers.Dense(4,activation=tf.keras.activations.relu),\n",
        "                             tf.keras.layers.Dense(10,activation=tf.keras.activations.softmax)\n",
        "\n",
        "])\n",
        "\n",
        "model_6.compile(loss=tf.keras.losses.sparse_categorical_crossentropy,\n",
        "                optimizer=tf.keras.optimizers.Adam(),\n",
        "                metrics=[\"accuracy\"])\n",
        "\n",
        "model_6.fit(X_train,y_train,epochs=20)"
      ],
      "execution_count": 28,
      "outputs": [
        {
          "output_type": "stream",
          "text": [
            "Epoch 1/20\n",
            "1875/1875 [==============================] - 4s 2ms/step - loss: 2.1671 - accuracy: 0.1606\n",
            "Epoch 2/20\n",
            "1875/1875 [==============================] - 4s 2ms/step - loss: 1.7066 - accuracy: 0.2509\n",
            "Epoch 3/20\n",
            "1875/1875 [==============================] - 4s 2ms/step - loss: 1.6321 - accuracy: 0.2806\n",
            "Epoch 4/20\n",
            "1875/1875 [==============================] - 4s 2ms/step - loss: 1.6052 - accuracy: 0.2833\n",
            "Epoch 5/20\n",
            "1875/1875 [==============================] - 4s 2ms/step - loss: 1.5975 - accuracy: 0.2862\n",
            "Epoch 6/20\n",
            "1875/1875 [==============================] - 4s 2ms/step - loss: 1.5950 - accuracy: 0.2920\n",
            "Epoch 7/20\n",
            "1875/1875 [==============================] - 4s 2ms/step - loss: 1.5775 - accuracy: 0.3040\n",
            "Epoch 8/20\n",
            "1875/1875 [==============================] - 3s 2ms/step - loss: 1.5708 - accuracy: 0.3175\n",
            "Epoch 9/20\n",
            "1875/1875 [==============================] - 3s 2ms/step - loss: 1.5638 - accuracy: 0.3280\n",
            "Epoch 10/20\n",
            "1875/1875 [==============================] - 3s 2ms/step - loss: 1.5432 - accuracy: 0.3346\n",
            "Epoch 11/20\n",
            "1875/1875 [==============================] - 3s 2ms/step - loss: 1.5160 - accuracy: 0.3519\n",
            "Epoch 12/20\n",
            "1875/1875 [==============================] - 3s 2ms/step - loss: 1.4441 - accuracy: 0.3972\n",
            "Epoch 13/20\n",
            "1875/1875 [==============================] - 3s 2ms/step - loss: 1.3136 - accuracy: 0.4450\n",
            "Epoch 14/20\n",
            "1875/1875 [==============================] - 3s 2ms/step - loss: 1.2738 - accuracy: 0.4535\n",
            "Epoch 15/20\n",
            "1875/1875 [==============================] - 4s 2ms/step - loss: 1.2006 - accuracy: 0.4963\n",
            "Epoch 16/20\n",
            "1875/1875 [==============================] - 3s 2ms/step - loss: 1.0833 - accuracy: 0.5409\n",
            "Epoch 17/20\n",
            "1875/1875 [==============================] - 3s 2ms/step - loss: 1.0464 - accuracy: 0.5583\n",
            "Epoch 18/20\n",
            "1875/1875 [==============================] - 3s 2ms/step - loss: 1.0204 - accuracy: 0.5760\n",
            "Epoch 19/20\n",
            "1875/1875 [==============================] - 3s 2ms/step - loss: 1.0062 - accuracy: 0.5877\n",
            "Epoch 20/20\n",
            "1875/1875 [==============================] - 3s 2ms/step - loss: 0.9883 - accuracy: 0.5966\n"
          ],
          "name": "stdout"
        },
        {
          "output_type": "execute_result",
          "data": {
            "text/plain": [
              "<tensorflow.python.keras.callbacks.History at 0x7f341f70ed10>"
            ]
          },
          "metadata": {
            "tags": []
          },
          "execution_count": 28
        }
      ]
    },
    {
      "cell_type": "code",
      "metadata": {
        "colab": {
          "base_uri": "https://localhost:8080/"
        },
        "id": "IsqC8KMPxHa-",
        "outputId": "21f5d80c-fa23-4d8e-da15-ad7346cd8ef5"
      },
      "source": [
        "# very less accuracy . check the input data.\n",
        "\n",
        "X_train.max(),X_train.min()\n",
        "\n"
      ],
      "execution_count": 29,
      "outputs": [
        {
          "output_type": "execute_result",
          "data": {
            "text/plain": [
              "(255, 0)"
            ]
          },
          "metadata": {
            "tags": []
          },
          "execution_count": 29
        }
      ]
    },
    {
      "cell_type": "code",
      "metadata": {
        "colab": {
          "base_uri": "https://localhost:8080/"
        },
        "id": "l2nG1GLRxe19",
        "outputId": "4ea06b56-3132-4f92-fd51-d51a5dd76c8e"
      },
      "source": [
        "#So the inpt data is rangin from 255 to 0. Lets scale or normalize the data.\n",
        "\n",
        "X_train_norm=X_train/255\n",
        "X_test_norm=X_test/255\n",
        "\n",
        "X_train_norm.max() ,X_test_norm.min()"
      ],
      "execution_count": 30,
      "outputs": [
        {
          "output_type": "execute_result",
          "data": {
            "text/plain": [
              "(1.0, 0.0)"
            ]
          },
          "metadata": {
            "tags": []
          },
          "execution_count": 30
        }
      ]
    },
    {
      "cell_type": "code",
      "metadata": {
        "colab": {
          "base_uri": "https://localhost:8080/"
        },
        "id": "zow_TQ3PyCBU",
        "outputId": "48bdbd1f-2e8b-4bf8-84b7-93f7e55a341b"
      },
      "source": [
        "# Great now its between 0 to 1 .\n",
        "\n",
        "# Lets create model\n",
        "tf.random.set_seed(42)\n",
        "\n",
        "#create a model\n",
        "model_7=tf.keras.Sequential([\n",
        "                             tf.keras.layers.Flatten(input_shape=(28,28)),\n",
        "                             tf.keras.layers.Dense(4,activation=tf.keras.activations.relu),\n",
        "                             tf.keras.layers.Dense(4,activation=tf.keras.activations.relu),\n",
        "                             tf.keras.layers.Dense(10,activation=tf.keras.activations.softmax)\n",
        "])\n",
        "\n",
        "#Compile the model\n",
        "\n",
        "model_7.compile(loss=tf.keras.losses.SparseCategoricalCrossentropy(),\n",
        "                optimizer=tf.keras.optimizers.Adam(),\n",
        "                metrics=[\"accuracy\"])\n",
        "\n",
        "#fit the model\n",
        "history_norm = model_7.fit(X_train_norm,y_train, epochs=20, validation_data=(X_test_norm,y_test))\n"
      ],
      "execution_count": 31,
      "outputs": [
        {
          "output_type": "stream",
          "text": [
            "Epoch 1/20\n",
            "1875/1875 [==============================] - 4s 2ms/step - loss: 1.0348 - accuracy: 0.6474 - val_loss: 0.6937 - val_accuracy: 0.7617\n",
            "Epoch 2/20\n",
            "1875/1875 [==============================] - 4s 2ms/step - loss: 0.6376 - accuracy: 0.7757 - val_loss: 0.6400 - val_accuracy: 0.7820\n",
            "Epoch 3/20\n",
            "1875/1875 [==============================] - 3s 2ms/step - loss: 0.5942 - accuracy: 0.7914 - val_loss: 0.6247 - val_accuracy: 0.7783\n",
            "Epoch 4/20\n",
            "1875/1875 [==============================] - 3s 2ms/step - loss: 0.5750 - accuracy: 0.7979 - val_loss: 0.6078 - val_accuracy: 0.7881\n",
            "Epoch 5/20\n",
            "1875/1875 [==============================] - 4s 2ms/step - loss: 0.5641 - accuracy: 0.8006 - val_loss: 0.6169 - val_accuracy: 0.7881\n",
            "Epoch 6/20\n",
            "1875/1875 [==============================] - 4s 2ms/step - loss: 0.5544 - accuracy: 0.8043 - val_loss: 0.5855 - val_accuracy: 0.7951\n",
            "Epoch 7/20\n",
            "1875/1875 [==============================] - 4s 2ms/step - loss: 0.5488 - accuracy: 0.8063 - val_loss: 0.6097 - val_accuracy: 0.7836\n",
            "Epoch 8/20\n",
            "1875/1875 [==============================] - 4s 2ms/step - loss: 0.5428 - accuracy: 0.8077 - val_loss: 0.5787 - val_accuracy: 0.7971\n",
            "Epoch 9/20\n",
            "1875/1875 [==============================] - 4s 2ms/step - loss: 0.5373 - accuracy: 0.8097 - val_loss: 0.5698 - val_accuracy: 0.7977\n",
            "Epoch 10/20\n",
            "1875/1875 [==============================] - 3s 2ms/step - loss: 0.5360 - accuracy: 0.8124 - val_loss: 0.5658 - val_accuracy: 0.8014\n",
            "Epoch 11/20\n",
            "1875/1875 [==============================] - 4s 2ms/step - loss: 0.5311 - accuracy: 0.8130 - val_loss: 0.5714 - val_accuracy: 0.8002\n",
            "Epoch 12/20\n",
            "1875/1875 [==============================] - 3s 2ms/step - loss: 0.5284 - accuracy: 0.8132 - val_loss: 0.5626 - val_accuracy: 0.8027\n",
            "Epoch 13/20\n",
            "1875/1875 [==============================] - 4s 2ms/step - loss: 0.5271 - accuracy: 0.8138 - val_loss: 0.5619 - val_accuracy: 0.8041\n",
            "Epoch 14/20\n",
            "1875/1875 [==============================] - 4s 2ms/step - loss: 0.5249 - accuracy: 0.8143 - val_loss: 0.5718 - val_accuracy: 0.7991\n",
            "Epoch 15/20\n",
            "1875/1875 [==============================] - 3s 2ms/step - loss: 0.5231 - accuracy: 0.8148 - val_loss: 0.5706 - val_accuracy: 0.8024\n",
            "Epoch 16/20\n",
            "1875/1875 [==============================] - 3s 2ms/step - loss: 0.5203 - accuracy: 0.8162 - val_loss: 0.5731 - val_accuracy: 0.8023\n",
            "Epoch 17/20\n",
            "1875/1875 [==============================] - 4s 2ms/step - loss: 0.5191 - accuracy: 0.8176 - val_loss: 0.5594 - val_accuracy: 0.8030\n",
            "Epoch 18/20\n",
            "1875/1875 [==============================] - 4s 2ms/step - loss: 0.5176 - accuracy: 0.8157 - val_loss: 0.5582 - val_accuracy: 0.8053\n",
            "Epoch 19/20\n",
            "1875/1875 [==============================] - 4s 2ms/step - loss: 0.5156 - accuracy: 0.8169 - val_loss: 0.5644 - val_accuracy: 0.8007\n",
            "Epoch 20/20\n",
            "1875/1875 [==============================] - 4s 2ms/step - loss: 0.5146 - accuracy: 0.8177 - val_loss: 0.5660 - val_accuracy: 0.8075\n"
          ],
          "name": "stdout"
        }
      ]
    },
    {
      "cell_type": "code",
      "metadata": {
        "colab": {
          "base_uri": "https://localhost:8080/",
          "height": 533
        },
        "id": "CQHv3-SiwLPi",
        "outputId": "fabde19d-3ebd-4b68-f863-607e75bf8d17"
      },
      "source": [
        "from tensorflow.keras.utils import plot_model\n",
        "plot_model(model_7, show_shapes=True)"
      ],
      "execution_count": 32,
      "outputs": [
        {
          "output_type": "execute_result",
          "data": {
            "image/png": "[encoded data removed]",
            "text/plain": [
              "<IPython.core.display.Image object>"
            ]
          },
          "metadata": {
            "tags": []
          },
          "execution_count": 32
        }
      ]
    }
  ]
}