{
 "cells": [
  {
   "cell_type": "raw",
   "metadata": {},
   "source": [
    "# This Notebook is for Text classification using Neural Network."
   ]
  },
  {
   "cell_type": "code",
   "execution_count": 1,
   "metadata": {},
   "outputs": [
    {
     "data": {
      "text/html": [
       "<div>\n",
       "<style scoped>\n",
       "    .dataframe tbody tr th:only-of-type {\n",
       "        vertical-align: middle;\n",
       "    }\n",
       "\n",
       "    .dataframe tbody tr th {\n",
       "        vertical-align: top;\n",
       "    }\n",
       "\n",
       "    .dataframe thead th {\n",
       "        text-align: right;\n",
       "    }\n",
       "</style>\n",
       "<table border=\"1\" class=\"dataframe\">\n",
       "  <thead>\n",
       "    <tr style=\"text-align: right;\">\n",
       "      <th></th>\n",
       "      <th>text</th>\n",
       "      <th>label</th>\n",
       "    </tr>\n",
       "  </thead>\n",
       "  <tbody>\n",
       "    <tr>\n",
       "      <th>0</th>\n",
       "      <td>Cairn shares slump on oil setback\\n\\nShares in...</td>\n",
       "      <td>business</td>\n",
       "    </tr>\n",
       "    <tr>\n",
       "      <th>1</th>\n",
       "      <td>Egypt to sell off state-owned bank\\n\\nThe Egyp...</td>\n",
       "      <td>business</td>\n",
       "    </tr>\n",
       "    <tr>\n",
       "      <th>2</th>\n",
       "      <td>Cairn shares up on new oil find\\n\\nShares in C...</td>\n",
       "      <td>business</td>\n",
       "    </tr>\n",
       "    <tr>\n",
       "      <th>3</th>\n",
       "      <td>Low-cost airlines hit Eurotunnel\\n\\nChannel Tu...</td>\n",
       "      <td>business</td>\n",
       "    </tr>\n",
       "    <tr>\n",
       "      <th>4</th>\n",
       "      <td>Parmalat to return to stockmarket\\n\\nParmalat,...</td>\n",
       "      <td>business</td>\n",
       "    </tr>\n",
       "  </tbody>\n",
       "</table>\n",
       "</div>"
      ],
      "text/plain": [
       "                                                text     label\n",
       "0  Cairn shares slump on oil setback\\n\\nShares in...  business\n",
       "1  Egypt to sell off state-owned bank\\n\\nThe Egyp...  business\n",
       "2  Cairn shares up on new oil find\\n\\nShares in C...  business\n",
       "3  Low-cost airlines hit Eurotunnel\\n\\nChannel Tu...  business\n",
       "4  Parmalat to return to stockmarket\\n\\nParmalat,...  business"
      ]
     },
     "execution_count": 1,
     "metadata": {},
     "output_type": "execute_result"
    }
   ],
   "source": [
    "#import libs\n",
    "import pandas as pd\n",
    "import numpy as np\n",
    "\n",
    "#load Datasets\n",
    "articles = pd.read_csv('bbc_news_mixed.csv')\n",
    "articles.head()"
   ]
  },
  {
   "cell_type": "raw",
   "metadata": {},
   "source": [
    "# Label encoding the label variable and converting it to categorical data"
   ]
  },
  {
   "cell_type": "code",
   "execution_count": 3,
   "metadata": {},
   "outputs": [
    {
     "name": "stdout",
     "output_type": "stream",
     "text": [
      "[[1. 0. 0. 0. 0.]\n",
      " [1. 0. 0. 0. 0.]\n",
      " [1. 0. 0. 0. 0.]\n",
      " ...\n",
      " [0. 0. 0. 0. 1.]\n",
      " [0. 0. 0. 0. 1.]\n",
      " [0. 0. 0. 0. 1.]]\n"
     ]
    }
   ],
   "source": [
    "from sklearn.preprocessing import LabelEncoder\n",
    "from keras.utils import to_categorical\n",
    "\n",
    "lblencod = LabelEncoder()\n",
    "articles.label = lblencod.fit_transform(articles.label)\n",
    "y = to_categorical(articles.label)\n",
    "\n",
    "print (y)"
   ]
  },
  {
   "cell_type": "raw",
   "metadata": {},
   "source": [
    "# Split the data in train and test \n",
    "# Tokenize the input.\n"
   ]
  },
  {
   "cell_type": "code",
   "execution_count": 6,
   "metadata": {},
   "outputs": [
    {
     "name": "stdout",
     "output_type": "stream",
     "text": [
      "Max length :4432 \n",
      "Vocab size:32360\n"
     ]
    }
   ],
   "source": [
    "from sklearn.model_selection import train_test_split\n",
    "from keras.preprocessing.text import Tokenizer\n",
    "\n",
    "#split the data\n",
    "articles_train, articles_test, label_train, label_test = train_test_split(articles['text'], y, test_size=0.2)\n",
    "articles_all = articles_train.append(articles_test)\n",
    "\n",
    "#tokenize text\n",
    "tokenize = Tokenizer()\n",
    "tokenize.fit_on_texts(articles_all)\n",
    "\n",
    "#convert text to sequence of Tokens\n",
    "\n",
    "articles_train_tokens = tokenize.texts_to_sequences(articles_train)\n",
    "articles_test_tokens = tokenize.texts_to_sequences (articles_test)\n",
    "\n",
    "\n",
    "#calculate the max size of token and vocab size\n",
    "\n",
    "max_len = articles_all.str.split().apply(lambda x : len(x)).max()\n",
    "vocab_size = len(tokenize.word_index) + 1\n",
    "\n",
    "print (\"Max length :{} \\nVocab size:{}\".format(max_len,vocab_size))"
   ]
  },
  {
   "cell_type": "code",
   "execution_count": 8,
   "metadata": {},
   "outputs": [
    {
     "name": "stdout",
     "output_type": "stream",
     "text": [
      "(1780, 4432)\n"
     ]
    }
   ],
   "source": [
    "#Padding sequences to make it max length\n",
    "\n",
    "from keras_preprocessing.sequence import pad_sequences\n",
    "\n",
    "articles_train_pad = pad_sequences(articles_train_tokens, maxlen=max_len, padding='post')\n",
    "articles_test_pad = pad_sequences(articles_test_tokens, maxlen=max_len, padding='post')\n",
    "\n",
    "print(articles_train_pad.shape)"
   ]
  },
  {
   "cell_type": "code",
   "execution_count": 9,
   "metadata": {},
   "outputs": [],
   "source": [
    "# Building a neural network model \n",
    "\n",
    "from keras.models import Sequential\n",
    "from keras.layers import Embedding, Dense, Flatten\n",
    "\n",
    "# Embeding size\n",
    "EMBEDDING_SIZE=100\n",
    "vocab_100 =  int (vocab_size/100)\n",
    "\n",
    "\n",
    "#intialize sequential model\n",
    "\n",
    "model = Sequential()\n",
    "model.add(Embedding(vocab_size, EMBEDDING_SIZE, input_length=max_len))\n",
    "model.add(Dense(500,activation='relu'))\n",
    "model.add(Dense(vocab_100,activation='relu'))\n",
    "model.add(Flatten())\n",
    "\n",
    "# Add final layer that will classify into 5 lables.\n",
    "model.add(Dense(5, activation='softmax'))\n",
    "\n",
    "#compile the model\n",
    "model.compile(loss='categorical_crossentropy', optimizer='adam', metrics=['accuracy'])\n"
   ]
  },
  {
   "cell_type": "code",
   "execution_count": 10,
   "metadata": {},
   "outputs": [
    {
     "name": "stdout",
     "output_type": "stream",
     "text": [
      "Model: \"sequential\"\n",
      "_________________________________________________________________\n",
      "Layer (type)                 Output Shape              Param #   \n",
      "=================================================================\n",
      "embedding (Embedding)        (None, 4432, 100)         3236000   \n",
      "_________________________________________________________________\n",
      "dense (Dense)                (None, 4432, 500)         50500     \n",
      "_________________________________________________________________\n",
      "dense_1 (Dense)              (None, 4432, 323)         161823    \n",
      "_________________________________________________________________\n",
      "flatten (Flatten)            (None, 1431536)           0         \n",
      "_________________________________________________________________\n",
      "dense_2 (Dense)              (None, 5)                 7157685   \n",
      "=================================================================\n",
      "Total params: 10,606,008\n",
      "Trainable params: 10,606,008\n",
      "Non-trainable params: 0\n",
      "_________________________________________________________________\n"
     ]
    }
   ],
   "source": [
    "model.summary()"
   ]
  },
  {
   "cell_type": "code",
   "execution_count": 11,
   "metadata": {},
   "outputs": [
    {
     "name": "stdout",
     "output_type": "stream",
     "text": [
      "Epoch 1/11\n",
      "56/56 [==============================] - 45s 800ms/step - loss: 1.5994 - accuracy: 0.3461 - val_loss: 1.1089 - val_accuracy: 0.5663\n",
      "Epoch 2/11\n",
      "56/56 [==============================] - 46s 829ms/step - loss: 0.4718 - accuracy: 0.8247 - val_loss: 0.2960 - val_accuracy: 0.9034\n",
      "Epoch 3/11\n",
      "56/56 [==============================] - 48s 850ms/step - loss: 0.0232 - accuracy: 0.9961 - val_loss: 0.1943 - val_accuracy: 0.9348\n",
      "Epoch 4/11\n",
      "56/56 [==============================] - 47s 838ms/step - loss: 0.0012 - accuracy: 1.0000 - val_loss: 0.1960 - val_accuracy: 0.9326\n",
      "Epoch 5/11\n",
      "56/56 [==============================] - 47s 848ms/step - loss: 5.7730e-04 - accuracy: 1.0000 - val_loss: 0.2003 - val_accuracy: 0.9281\n",
      "Epoch 6/11\n",
      "56/56 [==============================] - 47s 835ms/step - loss: 3.8109e-04 - accuracy: 1.0000 - val_loss: 0.1976 - val_accuracy: 0.9281\n",
      "Epoch 7/11\n",
      "56/56 [==============================] - 47s 832ms/step - loss: 2.7688e-04 - accuracy: 1.0000 - val_loss: 0.1985 - val_accuracy: 0.9303\n",
      "Epoch 8/11\n",
      "56/56 [==============================] - 47s 834ms/step - loss: 2.1197e-04 - accuracy: 1.0000 - val_loss: 0.1972 - val_accuracy: 0.9281\n",
      "Epoch 9/11\n",
      "56/56 [==============================] - 47s 834ms/step - loss: 1.6581e-04 - accuracy: 1.0000 - val_loss: 0.1995 - val_accuracy: 0.9303\n",
      "Epoch 10/11\n",
      "56/56 [==============================] - 47s 838ms/step - loss: 1.3404e-04 - accuracy: 1.0000 - val_loss: 0.1973 - val_accuracy: 0.9303\n",
      "Epoch 11/11\n",
      "56/56 [==============================] - 47s 837ms/step - loss: 1.0854e-04 - accuracy: 1.0000 - val_loss: 0.2059 - val_accuracy: 0.9303\n"
     ]
    },
    {
     "data": {
      "text/plain": [
       "<tensorflow.python.keras.callbacks.History at 0x29f8621cb08>"
      ]
     },
     "execution_count": 11,
     "metadata": {},
     "output_type": "execute_result"
    }
   ],
   "source": [
    "model.fit(articles_train_pad,label_train,epochs=11, validation_data=(articles_test_pad,label_test))"
   ]
  },
  {
   "cell_type": "raw",
   "metadata": {},
   "source": [
    "As you can see above, the \"val_acc\" is the accuracy of the model on the training set. This value gives us an indication as to how well our model is generalizing on unseen data."
   ]
  }
 ],
 "metadata": {
  "kernelspec": {
   "display_name": "Python 3",
   "language": "python",
   "name": "python3"
  },
  "language_info": {
   "codemirror_mode": {
    "name": "ipython",
    "version": 3
   },
   "file_extension": ".py",
   "mimetype": "text/x-python",
   "name": "python",
   "nbconvert_exporter": "python",
   "pygments_lexer": "ipython3",
   "version": "3.7.6"
  }
 },
 "nbformat": 4,
 "nbformat_minor": 4
}
