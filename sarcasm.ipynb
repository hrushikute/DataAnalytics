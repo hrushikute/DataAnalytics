{
 "cells": [
  {
   "cell_type": "code",
   "execution_count": 1,
   "id": "9912350c",
   "metadata": {
    "_cell_guid": "b1076dfc-b9ad-4769-8c92-a6c4dae69d19",
    "_uuid": "8f2839f25d086af736a60e9eeb907d3b93b6e0e5",
    "execution": {
     "iopub.execute_input": "2022-06-21T14:18:25.501894Z",
     "iopub.status.busy": "2022-06-21T14:18:25.500776Z",
     "iopub.status.idle": "2022-06-21T14:18:25.519996Z",
     "shell.execute_reply": "2022-06-21T14:18:25.519134Z"
    },
    "papermill": {
     "duration": 0.030528,
     "end_time": "2022-06-21T14:18:25.525322",
     "exception": false,
     "start_time": "2022-06-21T14:18:25.494794",
     "status": "completed"
    },
    "tags": []
   },
   "outputs": [
    {
     "name": "stdout",
     "output_type": "stream",
     "text": [
      "/kaggle/input/news-headlines-dataset-for-sarcasm-detection/Sarcasm_Headlines_Dataset_v2.json\n",
      "/kaggle/input/news-headlines-dataset-for-sarcasm-detection/Sarcasm_Headlines_Dataset.json\n"
     ]
    }
   ],
   "source": [
    "# This Python 3 environment comes with many helpful analytics libraries installed\n",
    "# It is defined by the kaggle/python Docker image: https://github.com/kaggle/docker-python\n",
    "# For example, here's several helpful packages to load\n",
    "\n",
    "import numpy as np # linear algebra\n",
    "import pandas as pd # data processing, CSV file I/O (e.g. pd.read_csv)\n",
    "\n",
    "# Input data files are available in the read-only \"../input/\" directory\n",
    "# For example, running this (by clicking run or pressing Shift+Enter) will list all files under the input directory\n",
    "\n",
    "import os\n",
    "for dirname, _, filenames in os.walk('/kaggle/input'):\n",
    "    for filename in filenames:\n",
    "        print(os.path.join(dirname, filename))\n",
    "\n",
    "# You can write up to 20GB to the current directory (/kaggle/working/) that gets preserved as output when you create a version using \"Save & Run All\" \n",
    "# You can also write temporary files to /kaggle/temp/, but they won't be saved outside of the current session"
   ]
  },
  {
   "cell_type": "code",
   "execution_count": 2,
   "id": "dc448958",
   "metadata": {
    "execution": {
     "iopub.execute_input": "2022-06-21T14:18:25.534001Z",
     "iopub.status.busy": "2022-06-21T14:18:25.533122Z",
     "iopub.status.idle": "2022-06-21T14:18:25.537778Z",
     "shell.execute_reply": "2022-06-21T14:18:25.536735Z"
    },
    "papermill": {
     "duration": 0.011307,
     "end_time": "2022-06-21T14:18:25.539993",
     "exception": false,
     "start_time": "2022-06-21T14:18:25.528686",
     "status": "completed"
    },
    "tags": []
   },
   "outputs": [],
   "source": [
    "import json\n",
    "import pandas as pd \n"
   ]
  },
  {
   "cell_type": "markdown",
   "id": "6081691e",
   "metadata": {
    "papermill": {
     "duration": 0.002869,
     "end_time": "2022-06-21T14:18:25.546118",
     "exception": false,
     "start_time": "2022-06-21T14:18:25.543249",
     "status": "completed"
    },
    "tags": []
   },
   "source": [
    "Create DataFrame from the dataset\n",
    "\n",
    "The JSON is not formated Properly\n",
    "\n",
    "Creating a Function to Format JSON\n",
    "\n",
    "The Data Format which will be used is"
   ]
  },
  {
   "cell_type": "code",
   "execution_count": 3,
   "id": "14df6d5a",
   "metadata": {
    "execution": {
     "iopub.execute_input": "2022-06-21T14:18:25.554619Z",
     "iopub.status.busy": "2022-06-21T14:18:25.553712Z",
     "iopub.status.idle": "2022-06-21T14:18:26.223780Z",
     "shell.execute_reply": "2022-06-21T14:18:26.222665Z"
    },
    "papermill": {
     "duration": 0.67748,
     "end_time": "2022-06-21T14:18:26.226637",
     "exception": false,
     "start_time": "2022-06-21T14:18:25.549157",
     "status": "completed"
    },
    "tags": []
   },
   "outputs": [],
   "source": [
    "def format_json(file):\n",
    "    with open(file,\"r\") as f:\n",
    "        text = f.read()\n",
    "    data = text.split(\"\\n\")\n",
    "    \n",
    "    #print(data[-50:])\n",
    "    data = [json.loads(e) for e in data if e != \"\"]\n",
    "    res = {\n",
    "        \"data\": data\n",
    "    }\n",
    "    return res\n",
    "    \n",
    "### Get the data    \n",
    "data_one = format_json(\"../input/news-headlines-dataset-for-sarcasm-detection/Sarcasm_Headlines_Dataset.json\")\n",
    "data_two = format_json(\"../input/news-headlines-dataset-for-sarcasm-detection/Sarcasm_Headlines_Dataset_v2.json\")\n"
   ]
  },
  {
   "cell_type": "code",
   "execution_count": 4,
   "id": "0b7422fb",
   "metadata": {
    "execution": {
     "iopub.execute_input": "2022-06-21T14:18:26.235590Z",
     "iopub.status.busy": "2022-06-21T14:18:26.235162Z",
     "iopub.status.idle": "2022-06-21T14:18:26.303305Z",
     "shell.execute_reply": "2022-06-21T14:18:26.302118Z"
    },
    "papermill": {
     "duration": 0.075439,
     "end_time": "2022-06-21T14:18:26.305633",
     "exception": false,
     "start_time": "2022-06-21T14:18:26.230194",
     "status": "completed"
    },
    "tags": []
   },
   "outputs": [
    {
     "name": "stdout",
     "output_type": "stream",
     "text": [
      "(26709, 3) (28619, 3)\n"
     ]
    }
   ],
   "source": [
    "###  Data Transformed to Data Frame \n",
    "def trainsform_data(data):\n",
    "    data = data['data']\n",
    "    keys = data[0].keys()\n",
    "    \n",
    "    try:\n",
    "        res = {k: [d[k] for d in data] for k in keys}\n",
    "        res = pd.DataFrame(res)\n",
    "    except:\n",
    "        print(\"Error the Dict Keys are inconsistent\")\n",
    "        print(\"Every dict element in the list does not have same number of keys\")\n",
    "        res = None\n",
    "    return res\n",
    "\n",
    "##########################################################################\n",
    "df_one = trainsform_data(data_one)\n",
    "df_two = trainsform_data(data_two)\n",
    "\n",
    "\n",
    "print(df_one.shape,df_two.shape)"
   ]
  },
  {
   "cell_type": "code",
   "execution_count": 5,
   "id": "445edb1f",
   "metadata": {
    "execution": {
     "iopub.execute_input": "2022-06-21T14:18:26.313966Z",
     "iopub.status.busy": "2022-06-21T14:18:26.313500Z",
     "iopub.status.idle": "2022-06-21T14:18:26.353893Z",
     "shell.execute_reply": "2022-06-21T14:18:26.352902Z"
    },
    "papermill": {
     "duration": 0.04724,
     "end_time": "2022-06-21T14:18:26.356211",
     "exception": false,
     "start_time": "2022-06-21T14:18:26.308971",
     "status": "completed"
    },
    "tags": []
   },
   "outputs": [
    {
     "data": {
      "text/html": [
       "<div>\n",
       "<style scoped>\n",
       "    .dataframe tbody tr th:only-of-type {\n",
       "        vertical-align: middle;\n",
       "    }\n",
       "\n",
       "    .dataframe tbody tr th {\n",
       "        vertical-align: top;\n",
       "    }\n",
       "\n",
       "    .dataframe thead th {\n",
       "        text-align: right;\n",
       "    }\n",
       "</style>\n",
       "<table border=\"1\" class=\"dataframe\">\n",
       "  <thead>\n",
       "    <tr style=\"text-align: right;\">\n",
       "      <th></th>\n",
       "      <th>article_link</th>\n",
       "      <th>headline</th>\n",
       "      <th>is_sarcastic</th>\n",
       "    </tr>\n",
       "  </thead>\n",
       "  <tbody>\n",
       "    <tr>\n",
       "      <th>0</th>\n",
       "      <td>https://www.huffingtonpost.com/entry/versace-b...</td>\n",
       "      <td>former versace store clerk sues over secret 'b...</td>\n",
       "      <td>0</td>\n",
       "    </tr>\n",
       "    <tr>\n",
       "      <th>1</th>\n",
       "      <td>https://www.huffingtonpost.com/entry/roseanne-...</td>\n",
       "      <td>the 'roseanne' revival catches up to our thorn...</td>\n",
       "      <td>0</td>\n",
       "    </tr>\n",
       "    <tr>\n",
       "      <th>2</th>\n",
       "      <td>https://local.theonion.com/mom-starting-to-fea...</td>\n",
       "      <td>mom starting to fear son's web series closest ...</td>\n",
       "      <td>1</td>\n",
       "    </tr>\n",
       "    <tr>\n",
       "      <th>3</th>\n",
       "      <td>https://politics.theonion.com/boehner-just-wan...</td>\n",
       "      <td>boehner just wants wife to listen, not come up...</td>\n",
       "      <td>1</td>\n",
       "    </tr>\n",
       "    <tr>\n",
       "      <th>4</th>\n",
       "      <td>https://www.huffingtonpost.com/entry/jk-rowlin...</td>\n",
       "      <td>j.k. rowling wishes snape happy birthday in th...</td>\n",
       "      <td>0</td>\n",
       "    </tr>\n",
       "  </tbody>\n",
       "</table>\n",
       "</div>"
      ],
      "text/plain": [
       "                                        article_link  \\\n",
       "0  https://www.huffingtonpost.com/entry/versace-b...   \n",
       "1  https://www.huffingtonpost.com/entry/roseanne-...   \n",
       "2  https://local.theonion.com/mom-starting-to-fea...   \n",
       "3  https://politics.theonion.com/boehner-just-wan...   \n",
       "4  https://www.huffingtonpost.com/entry/jk-rowlin...   \n",
       "\n",
       "                                            headline  is_sarcastic  \n",
       "0  former versace store clerk sues over secret 'b...             0  \n",
       "1  the 'roseanne' revival catches up to our thorn...             0  \n",
       "2  mom starting to fear son's web series closest ...             1  \n",
       "3  boehner just wants wife to listen, not come up...             1  \n",
       "4  j.k. rowling wishes snape happy birthday in th...             0  "
      ]
     },
     "execution_count": 5,
     "metadata": {},
     "output_type": "execute_result"
    }
   ],
   "source": [
    "df_one.describe()\n",
    "df_one.head()"
   ]
  },
  {
   "cell_type": "markdown",
   "id": "42f64036",
   "metadata": {
    "papermill": {
     "duration": 0.003072,
     "end_time": "2022-06-21T14:18:26.363032",
     "exception": false,
     "start_time": "2022-06-21T14:18:26.359960",
     "status": "completed"
    },
    "tags": []
   },
   "source": [
    "**Preprocessing the headlines**"
   ]
  },
  {
   "cell_type": "code",
   "execution_count": 6,
   "id": "a8409b95",
   "metadata": {
    "execution": {
     "iopub.execute_input": "2022-06-21T14:18:26.371575Z",
     "iopub.status.busy": "2022-06-21T14:18:26.371108Z",
     "iopub.status.idle": "2022-06-21T14:18:34.010640Z",
     "shell.execute_reply": "2022-06-21T14:18:34.009661Z"
    },
    "papermill": {
     "duration": 7.646704,
     "end_time": "2022-06-21T14:18:34.013117",
     "exception": false,
     "start_time": "2022-06-21T14:18:26.366413",
     "status": "completed"
    },
    "tags": []
   },
   "outputs": [],
   "source": [
    "from tensorflow.keras.preprocessing.text import Tokenizer\n",
    "from tensorflow.keras.preprocessing.sequence import pad_sequences\n",
    "\n",
    "tokenize = Tokenizer(oov_token=\"<OOV>\")"
   ]
  },
  {
   "cell_type": "code",
   "execution_count": 7,
   "id": "0e29f021",
   "metadata": {
    "execution": {
     "iopub.execute_input": "2022-06-21T14:18:34.022891Z",
     "iopub.status.busy": "2022-06-21T14:18:34.021699Z",
     "iopub.status.idle": "2022-06-21T14:18:34.529501Z",
     "shell.execute_reply": "2022-06-21T14:18:34.528636Z"
    },
    "papermill": {
     "duration": 0.515276,
     "end_time": "2022-06-21T14:18:34.531967",
     "exception": false,
     "start_time": "2022-06-21T14:18:34.016691",
     "status": "completed"
    },
    "tags": []
   },
   "outputs": [],
   "source": [
    "tokenize.fit_on_texts(df_one['headline'])"
   ]
  },
  {
   "cell_type": "code",
   "execution_count": 8,
   "id": "f39b51ab",
   "metadata": {
    "execution": {
     "iopub.execute_input": "2022-06-21T14:18:34.540877Z",
     "iopub.status.busy": "2022-06-21T14:18:34.540302Z",
     "iopub.status.idle": "2022-06-21T14:18:35.340094Z",
     "shell.execute_reply": "2022-06-21T14:18:35.338855Z"
    },
    "papermill": {
     "duration": 0.806964,
     "end_time": "2022-06-21T14:18:35.342446",
     "exception": false,
     "start_time": "2022-06-21T14:18:34.535482",
     "status": "completed"
    },
    "tags": []
   },
   "outputs": [
    {
     "name": "stdout",
     "output_type": "stream",
     "text": [
      "Toltal number of words in the dataset = 29657\n",
      "j.k. rowling wishes snape happy birthday in the most magical way\n",
      "[    0     0     0     0     0     0     0     0     0     0     0     0\n",
      "     0     0     0     0     0     0     0     0     0     0     0     0\n",
      "     0     0     0     0   767   719  4720   908 10737   623   594     5\n",
      "     4    95  1309    92]\n",
      "(26709, 40)\n"
     ]
    }
   ],
   "source": [
    "word_index = tokenize.word_index\n",
    "print(f\"Toltal number of words in the dataset = {len(word_index)}\")\n",
    "\n",
    "# print(df_one['headline'])\n",
    "\n",
    "sentences = []\n",
    "for i in range(0,len(df_one)):\n",
    "    sentences.append(df_one['headline'][i])\n",
    "# print(sentences)\n",
    "\n",
    "sequence = tokenize.texts_to_sequences(list(df_one['headline']))\n",
    "# print(sequence)\n",
    "padding = pad_sequences(sequence, padding='pre')\n",
    "\n",
    "index=4\n",
    "print(df_one['headline'][index])\n",
    "print(padding[index])\n",
    "print(padding.shape)"
   ]
  },
  {
   "cell_type": "code",
   "execution_count": null,
   "id": "601d37b7",
   "metadata": {
    "papermill": {
     "duration": 0.003148,
     "end_time": "2022-06-21T14:18:35.349215",
     "exception": false,
     "start_time": "2022-06-21T14:18:35.346067",
     "status": "completed"
    },
    "tags": []
   },
   "outputs": [],
   "source": []
  }
 ],
 "metadata": {
  "kernelspec": {
   "display_name": "Python 3",
   "language": "python",
   "name": "python3"
  },
  "language_info": {
   "codemirror_mode": {
    "name": "ipython",
    "version": 3
   },
   "file_extension": ".py",
   "mimetype": "text/x-python",
   "name": "python",
   "nbconvert_exporter": "python",
   "pygments_lexer": "ipython3",
   "version": "3.7.12"
  },
  "papermill": {
   "default_parameters": {},
   "duration": 22.788067,
   "end_time": "2022-06-21T14:18:38.459565",
   "environment_variables": {},
   "exception": null,
   "input_path": "__notebook__.ipynb",
   "output_path": "__notebook__.ipynb",
   "parameters": {},
   "start_time": "2022-06-21T14:18:15.671498",
   "version": "2.3.4"
  }
 },
 "nbformat": 4,
 "nbformat_minor": 5
}
