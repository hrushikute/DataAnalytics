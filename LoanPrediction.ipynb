{
 "cells": [
  {
   "cell_type": "markdown",
   "metadata": {},
   "source": []
  },
  {
   "cell_type": "code",
   "execution_count": 1,
   "metadata": {},
   "outputs": [
    {
     "name": "stdout",
     "output_type": "stream",
     "text": [
      "         Gender Married Dependents Education Self_Employed  ApplicantIncome  \\\n",
      "Loan_ID                                                                       \n",
      "LP001002   Male      No          0  Graduate            No             5849   \n",
      "LP001003   Male     Yes          1  Graduate            No             4583   \n",
      "LP001005   Male     Yes          0  Graduate           Yes             3000   \n",
      "\n",
      "          CoapplicantIncome  LoanAmount  Loan_Amount_Term  Credit_History  \\\n",
      "Loan_ID                                                                     \n",
      "LP001002                0.0         NaN             360.0             1.0   \n",
      "LP001003             1508.0       128.0             360.0             1.0   \n",
      "LP001005                0.0        66.0             360.0             1.0   \n",
      "\n",
      "         Property_Area Loan_Status  \n",
      "Loan_ID                             \n",
      "LP001002         Urban           Y  \n",
      "LP001003         Rural           N  \n",
      "LP001005         Urban           Y  \n",
      "Gender                object\n",
      "Married               object\n",
      "Dependents            object\n",
      "Education             object\n",
      "Self_Employed         object\n",
      "ApplicantIncome        int64\n",
      "CoapplicantIncome    float64\n",
      "LoanAmount           float64\n",
      "Loan_Amount_Term     float64\n",
      "Credit_History       float64\n",
      "Property_Area         object\n",
      "Loan_Status           object\n",
      "dtype: object\n"
     ]
    }
   ],
   "source": [
    "import pandas as pd\n",
    "import numpy as np\n",
    "import scipy\n",
    "#Import Library Pandas\n",
    "\n",
    "df = pd.read_csv(\"U:/DataAnalysis/Loan_Predictionlll/train.csv\", index_col = 'Loan_ID')\n",
    "\n",
    "print(df.head(3))\n",
    "print(df.dtypes)"
   ]
  },
  {
   "cell_type": "code",
   "execution_count": null,
   "metadata": {
    "collapsed": true
   },
   "outputs": [],
   "source": []
  },
  {
   "cell_type": "code",
   "execution_count": 2,
   "metadata": {},
   "outputs": [
    {
     "name": "stdout",
     "output_type": "stream",
     "text": [
      "Gender               13\n",
      "Married               3\n",
      "Dependents           15\n",
      "Education             0\n",
      "Self_Employed        32\n",
      "ApplicantIncome       0\n",
      "CoapplicantIncome     0\n",
      "LoanAmount           22\n",
      "Loan_Amount_Term     14\n",
      "Credit_History       50\n",
      "Property_Area         0\n",
      "Loan_Status           0\n",
      "dtype: int64\n",
      "Loan_ID\n",
      "LP001002    1\n",
      "LP001003    0\n",
      "LP001005    0\n",
      "LP001006    0\n",
      "LP001008    0\n",
      "dtype: int64\n"
     ]
    }
   ],
   "source": [
    "#Apply function\n",
    "\n",
    "def missing_val(x):\n",
    "    return sum(x.isnull())\n",
    "\n",
    "print (df.apply(missing_val, axis = 0)) #axis =0 defines that the function isto be applied on each coloumn\n",
    "\n",
    "print (df.apply(missing_val, axis = 1).head()) #axis =1 defines that the function isto be applied on row"
   ]
  },
  {
   "cell_type": "code",
   "execution_count": 3,
   "metadata": {},
   "outputs": [
    {
     "name": "stdout",
     "output_type": "stream",
     "text": [
      "Male\n",
      "Gender                0\n",
      "Married               0\n",
      "Dependents            0\n",
      "Education             0\n",
      "Self_Employed         0\n",
      "ApplicantIncome       0\n",
      "CoapplicantIncome     0\n",
      "LoanAmount           22\n",
      "Loan_Amount_Term     14\n",
      "Credit_History       50\n",
      "Property_Area         0\n",
      "Loan_Status           0\n",
      "dtype: int64\n"
     ]
    }
   ],
   "source": [
    "#imputing Missing values\n",
    "print(df.mode()['Gender'][0])\n",
    "df['Gender'].fillna(df.mode()['Gender'][0],inplace=True)\n",
    "df['Married'].fillna(df.mode()['Married'][0],inplace=True)\n",
    "df['Self_Employed'].fillna(df.mode()['Self_Employed'][0],inplace=True)\n",
    "df['Dependents'].fillna(df.mode()['Dependents'][0],inplace=True)\n",
    "\n",
    "#Check missing values.\n",
    "print (df.apply(missing_val, axis = 0)) #axis =0 defines that the function isto be applied on each coloumn"
   ]
  },
  {
   "cell_type": "code",
   "execution_count": 4,
   "metadata": {},
   "outputs": [
    {
     "name": "stdout",
     "output_type": "stream",
     "text": [
      "                                         LoanAmount\n",
      "Gender Married Self_Employed Dependents            \n",
      "Female No      No            0           108.851852\n",
      "                             1           105.800000\n",
      "                             2           129.000000\n",
      "                             3+          302.500000\n",
      "               Yes           0           130.750000\n",
      "                             1           106.000000\n",
      "       Yes     No            0           120.722222\n",
      "                             1           219.000000\n",
      "                             2           115.000000\n",
      "               Yes           0           121.500000\n",
      "                             1           443.000000\n",
      "Male   No      No            0           127.642105\n",
      "                             1           126.142857\n",
      "                             2           126.833333\n",
      "                             3+          217.666667\n",
      "               Yes           0           178.769231\n",
      "                             1           151.333333\n",
      "                             3+          292.000000\n",
      "       Yes     No            0           149.042553\n",
      "                             1           159.559322\n",
      "                             2           142.014286\n",
      "                             3+          185.729730\n",
      "               Yes           0           140.625000\n",
      "                             1           160.181818\n",
      "                             2           212.466667\n",
      "                             3+          155.333333\n"
     ]
    }
   ],
   "source": [
    "#Examine the data.\n",
    "\n",
    "examine_data = df.pivot_table(values = ['LoanAmount'], index=['Gender','Married','Self_Employed'])\n",
    "print(examine_data)"
   ]
  },
  {
   "cell_type": "code",
   "execution_count": 5,
   "metadata": {},
   "outputs": [
    {
     "name": "stdout",
     "output_type": "stream",
     "text": [
      "Gender                0\n",
      "Married               0\n",
      "Dependents            0\n",
      "Education             0\n",
      "Self_Employed         0\n",
      "ApplicantIncome       0\n",
      "CoapplicantIncome     0\n",
      "LoanAmount            0\n",
      "Loan_Amount_Term     14\n",
      "Credit_History       50\n",
      "Property_Area         0\n",
      "Loan_Status           0\n",
      "dtype: int64\n"
     ]
    }
   ],
   "source": [
    "#Lets fill up the missing values of loan amount.\n",
    "#iterate only though missing values of Loan Amount.\n",
    "\n",
    "for i, row in df.loc[df['LoanAmount'].isnull(),:].iterrows():\n",
    "    ind = tuple([row['Gender'],row['Married'],row['Self_Employed']])\n",
    "    #print(ind)\n",
    "    #print (i)\n",
    "    #print (examine_data.loc[ind].values[0])\n",
    "    df.loc[i,'LoanAmount'] = examine_data.loc[ind].values[0]\n",
    "\n",
    "print (df.apply(missing_val, axis = 0)) #axis =0 defines that the function isto be applied on each coloumn   "
   ]
  }
 ],
 "metadata": {
  "kernelspec": {
   "display_name": "Python 3",
   "language": "python",
   "name": "python3"
  },
  "language_info": {
   "codemirror_mode": {
    "name": "ipython",
    "version": 3
   },
   "file_extension": ".py",
   "mimetype": "text/x-python",
   "name": "python",
   "nbconvert_exporter": "python",
   "pygments_lexer": "ipython3",
   "version": "3.6.1"
  }
 },
 "nbformat": 4,
 "nbformat_minor": 2
}
