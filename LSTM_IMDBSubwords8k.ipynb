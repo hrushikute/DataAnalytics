{
  "nbformat": 4,
  "nbformat_minor": 0,
  "metadata": {
    "colab": {
      "name": "LSTM-IMDBSubwords8k.ipynb",
      "provenance": [],
      "authorship_tag": "ABX9TyMijdRlBTGASDPm77tVw3BH",
      "include_colab_link": true
    },
    "kernelspec": {
      "name": "python3",
      "display_name": "Python 3"
    },
    "language_info": {
      "name": "python"
    }
  },
  "cells": [
    {
      "cell_type": "markdown",
      "metadata": {
        "id": "view-in-github",
        "colab_type": "text"
      },
      "source": [
        "<a href=\"https://colab.research.google.com/github/hrushikute/DataAnalytics/blob/master/LSTM_IMDBSubwords8k.ipynb\" target=\"_parent\"><img src=\"https://colab.research.google.com/assets/colab-badge.svg\" alt=\"Open In Colab\"/></a>"
      ]
    },
    {
      "cell_type": "markdown",
      "source": [
        "# **LSTM on IMDB dataset**\n"
      ],
      "metadata": {
        "id": "yeTYpg90cCP7"
      }
    },
    {
      "cell_type": "markdown",
      "source": [
        "## Downaload the data"
      ],
      "metadata": {
        "id": "sI1OMDpXcMlx"
      }
    },
    {
      "cell_type": "code",
      "source": [
        "import tensorflow_datasets as tfds\n",
        "# Download the subword encoded pretokenized data set\n",
        "dataset, info = tfds.load(\"imdb_reviews/subwords8k\", with_info=True, as_supervised=True)\n"
      ],
      "metadata": {
        "id": "vKcOHqFlcLmY"
      },
      "execution_count": null,
      "outputs": []
    },
    {
      "cell_type": "code",
      "source": [
        "dataset ,info"
      ],
      "metadata": {
        "id": "Gil8ntO4cvcA"
      },
      "execution_count": null,
      "outputs": []
    },
    {
      "cell_type": "code",
      "source": [
        "# Get the tokenizer\n",
        "tokenizer = info.features['text'].encoder"
      ],
      "metadata": {
        "id": "t0Hs3UW7eLQP"
      },
      "execution_count": null,
      "outputs": []
    },
    {
      "cell_type": "code",
      "source": [
        "BUFFETR_SIZE = 10000\n",
        "BATCH_SIZE = 256\n",
        "\n",
        "# Get traina nd test split\n",
        "train_data, test_data = dataset['train'],dataset['test']\n",
        "print(len(train_data), len(test_data))\n",
        "print(type(train_data))"
      ],
      "metadata": {
        "id": "QpNvrvWleqIH"
      },
      "execution_count": null,
      "outputs": []
    },
    {
      "cell_type": "code",
      "source": [
        "# Shuffle the training data\n",
        "train_dataset = train_data.shuffle(BUFFETR_SIZE)\n",
        "\n",
        "# Batch and Padd the data\n",
        "\n",
        "train_dataset = train_dataset.padded_batch(BATCH_SIZE)\n",
        "test_dataset = test_data.padded_batch(BATCH_SIZE)"
      ],
      "metadata": {
        "id": "J_S-uaFHfL8d"
      },
      "execution_count": null,
      "outputs": []
    },
    {
      "cell_type": "markdown",
      "source": [
        "### Build and Compile the model"
      ],
      "metadata": {
        "id": "CRanAQDjiftZ"
      }
    },
    {
      "cell_type": "code",
      "source": [
        "import tensorflow as tf\n",
        "import numpy as np\n",
        "\n",
        "# Hyper parameters\n",
        "batch_size=1\n",
        "timesteps = 20\n",
        "features = 16\n",
        "lstm_dim = 8\n",
        "\n",
        "# lets have array with random values\n",
        "random_input = np.random.rand(batch_size, timesteps, features)\n",
        "print(f'Shape of array {random_input.shape}')\n",
        "\n",
        "\n",
        "# Define LSTM that return single output.\n",
        "lstm=tf.keras.layers.LSTM(lstm_dim)\n",
        "result = lstm(random_input)\n",
        "print(f'Result : {result}')\n",
        "\n",
        "# Define LSTM that retruns a sequence\n",
        "lstm_rs = tf.keras.layers.LSTM(lstm_dim,return_sequences=True)\n",
        "print(f\"Lstm  retrun sequences :{lstm_rs}\")"
      ],
      "metadata": {
        "id": "4NKpSeLqicxp"
      },
      "execution_count": null,
      "outputs": []
    },
    {
      "cell_type": "code",
      "source": [
        "## Implement LSTM stacked architecture.\n",
        "import tensorflow as tf\n",
        "##Hyperparametes\n",
        "embedding_dim=64\n",
        "lstm_1_dim=64\n",
        "lstm_2_dim=32\n",
        "dense_dim=64\n",
        "\n",
        "# Build the model\n",
        "\n",
        "model = tf.keras.Sequential([\n",
        "  tf.keras.layers.Embedding(tokenizer.vocab_size, embedding_dim),\n",
        "  tf.keras.layers.Bidirectional(tf.keras.layers.LSTM(lstm_1_dim, return_sequences=True)),\n",
        "  tf.keras.layers.Bidirectional(tf.keras.layers.LSTM(lstm_2_dim)),\n",
        "  tf.keras.layers.Dense(dense_dim, activation='relu'),\n",
        "  tf.keras.layers.Dense(1,activation='sigmoid')\n",
        "])\n",
        "model.summary()"
      ],
      "metadata": {
        "id": "-eyejeZGjVwZ"
      },
      "execution_count": null,
      "outputs": []
    },
    {
      "cell_type": "code",
      "source": [
        "model.compile(\n",
        "    loss='binary_crossentropy',\n",
        "    optimizer='adam',\n",
        "    metrics=['accuracy']\n",
        ") "
      ],
      "metadata": {
        "id": "4udIgKEmpiHX"
      },
      "execution_count": null,
      "outputs": []
    },
    {
      "cell_type": "markdown",
      "source": [
        "## Train the Model "
      ],
      "metadata": {
        "id": "1W7IrDYDumnd"
      }
    },
    {
      "cell_type": "code",
      "source": [
        "NUM_OF_EPOCHS = 3\n",
        "\n",
        "histroy = model.fit(\n",
        "    train_dataset,\n",
        "    epochs=NUM_OF_EPOCHS,\n",
        "    validation_data=test_dataset\n",
        ")"
      ],
      "metadata": {
        "colab": {
          "base_uri": "https://localhost:8080/"
        },
        "id": "xNhhvlnwuk38",
        "outputId": "c60c9225-2004-479d-ee88-3fd3abf1f10a"
      },
      "execution_count": null,
      "outputs": [
        {
          "output_type": "stream",
          "name": "stdout",
          "text": [
            "Epoch 1/10\n",
            " 2/98 [..............................] - ETA: 21:38 - loss: 0.6932 - accuracy: 0.5098"
          ]
        }
      ]
    },
    {
      "cell_type": "code",
      "source": [
        ""
      ],
      "metadata": {
        "id": "i_s034rau9xk"
      },
      "execution_count": null,
      "outputs": []
    }
  ]
}