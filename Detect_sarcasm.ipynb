{
  "nbformat": 4,
  "nbformat_minor": 0,
  "metadata": {
    "colab": {
      "name": "Detect_sarcasm.ipynb",
      "provenance": [],
      "authorship_tag": "ABX9TyO5e3tGmEos1zxlJ7Eb4eev",
      "include_colab_link": true
    },
    "kernelspec": {
      "name": "python3",
      "display_name": "Python 3"
    },
    "language_info": {
      "name": "python"
    }
  },
  "cells": [
    {
      "cell_type": "markdown",
      "metadata": {
        "id": "view-in-github",
        "colab_type": "text"
      },
      "source": [
        "<a href=\"https://colab.research.google.com/github/hrushikute/DataAnalytics/blob/master/Detect_sarcasm.ipynb\" target=\"_parent\"><img src=\"https://colab.research.google.com/assets/colab-badge.svg\" alt=\"Open In Colab\"/></a>"
      ]
    },
    {
      "cell_type": "markdown",
      "source": [
        "# Training Binary classifier on sarcasm Dataset\n"
      ],
      "metadata": {
        "id": "y-21oeri8Fcf"
      }
    },
    {
      "cell_type": "markdown",
      "source": [
        "## Download the data "
      ],
      "metadata": {
        "id": "9NNb3oKF8XGG"
      }
    },
    {
      "cell_type": "code",
      "source": [
        "# Download the dataset\n",
        "!wget https://storage.googleapis.com/tensorflow-1-public/course3/sarcasm.json"
      ],
      "metadata": {
        "colab": {
          "base_uri": "https://localhost:8080/"
        },
        "id": "tq2fLEIX8TXe",
        "outputId": "e5e47a00-05eb-4a48-d2ed-f972bcae7c57"
      },
      "execution_count": 1,
      "outputs": [
        {
          "output_type": "stream",
          "name": "stdout",
          "text": [
            "--2022-06-27 14:50:47--  https://storage.googleapis.com/tensorflow-1-public/course3/sarcasm.json\n",
            "Resolving storage.googleapis.com (storage.googleapis.com)... 74.125.143.128, 108.177.119.128, 142.251.18.128, ...\n",
            "Connecting to storage.googleapis.com (storage.googleapis.com)|74.125.143.128|:443... connected.\n",
            "HTTP request sent, awaiting response... 200 OK\n",
            "Length: 5643545 (5.4M) [application/json]\n",
            "Saving to: ‘sarcasm.json’\n",
            "\n",
            "sarcasm.json        100%[===================>]   5.38M  --.-KB/s    in 0.04s   \n",
            "\n",
            "2022-06-27 14:50:47 (137 MB/s) - ‘sarcasm.json’ saved [5643545/5643545]\n",
            "\n"
          ]
        }
      ]
    },
    {
      "cell_type": "code",
      "source": [
        "import json\n",
        "with open('./sarcasm.json','r') as file:\n",
        "  df = json.load(file)\n",
        "\n",
        "# Initalize the sentences and labels\n",
        "sentences =[]\n",
        "labels=[]\n",
        "\n",
        "# Ge the data from data dataframe in to lists\n",
        "for items in df:\n",
        "  sentences.append(items['headline'])\n",
        "  labels.append(items['is_sarcastic'])\n",
        "\n",
        "print(len(sentences))"
      ],
      "metadata": {
        "colab": {
          "base_uri": "https://localhost:8080/"
        },
        "id": "4IznD2N-8b4d",
        "outputId": "1d2ed5ea-24d7-44df-c390-4bd745164d91"
      },
      "execution_count": 2,
      "outputs": [
        {
          "output_type": "stream",
          "name": "stdout",
          "text": [
            "26709\n"
          ]
        }
      ]
    },
    {
      "cell_type": "markdown",
      "source": [
        "## Hyper-parmeters"
      ],
      "metadata": {
        "id": "GiuyGtZb9Z-f"
      }
    },
    {
      "cell_type": "code",
      "source": [
        "# Number of examples in training \n",
        "training_data_size = 20000\n",
        "\n",
        "# Vocabulary size of the tokenizer\n",
        "vocab_size =10000\n",
        "\n",
        "# Maximum  length of padded sequence\n",
        "max_length = 32 \n",
        "\n",
        "#output dimensions of embeding layer\n",
        "embedding_dim = 16"
      ],
      "metadata": {
        "id": "MV7VBhF-9PN3"
      },
      "execution_count": 3,
      "outputs": []
    },
    {
      "cell_type": "markdown",
      "source": [
        "### Split the dataset"
      ],
      "metadata": {
        "id": "mGRgemDm-TCX"
      }
    },
    {
      "cell_type": "code",
      "source": [
        "training_sentences = sentences[0:training_data_size]\n",
        "training_labels = labels[0:training_data_size]\n",
        "\n",
        "testing_sentences = sentences[training_data_size:]\n",
        "testing_labels = labels[training_data_size:]"
      ],
      "metadata": {
        "id": "ILM4q-Yd-SGX"
      },
      "execution_count": 4,
      "outputs": []
    },
    {
      "cell_type": "markdown",
      "source": [
        "## Preprocessing the train and test sets"
      ],
      "metadata": {
        "id": "Ms2BeC_G-wWw"
      }
    },
    {
      "cell_type": "code",
      "source": [
        "import numpy as np\n",
        "from tensorflow.keras.preprocessing.text  import Tokenizer\n",
        "from tensorflow.keras.preprocessing.sequence import pad_sequences\n",
        "\n",
        "#Parmeters for padding OOV tokens\n",
        "\n",
        "trunc_type='post'\n",
        "padding_type='post'\n",
        "oov_tok =\"<OOV>\"\n",
        "\n",
        "# Initalize tokenizer\n",
        "\n",
        "tokenizer = Tokenizer(num_words=vocab_size, oov_token=oov_tok)\n",
        "\n",
        "# Genereate word index dictionary\n",
        "tokenizer.fit_on_texts(training_sentences)\n",
        "word_index = tokenizer.word_index\n",
        "\n",
        "# Genrate and pad the training sequences\n",
        "training_sequences = tokenizer.texts_to_sequences(training_sentences)\n",
        "training_padded = pad_sequences(training_sequences, truncating=trunc_type, padding=padding_type,maxlen=max_length)\n",
        "\n",
        "# Genrate and pad the testing sequences\n",
        "testing_sequences = tokenizer.texts_to_sequences(testing_sentences)\n",
        "testing_padded = pad_sequences(testing_sequences, truncating=trunc_type, padding=padding_type,maxlen=max_length)\n",
        "\n",
        "# Convert labels in numpy array\n",
        "\n",
        "training_labels = np.array(training_labels)\n",
        "testing_labels = np.array(testing_labels)\n",
        "\n"
      ],
      "metadata": {
        "id": "1AIPV1qR-uzI"
      },
      "execution_count": 5,
      "outputs": []
    },
    {
      "cell_type": "markdown",
      "source": [
        "## Build and compile the  model "
      ],
      "metadata": {
        "id": "NZrP195AGJXP"
      }
    },
    {
      "cell_type": "code",
      "source": [
        "import tensorflow as tf\n",
        "\n",
        "# Initalize a GlobalAveragePooling1D GAP1D layer\n",
        "\n",
        "gap1d_layer = tf.keras.layers.GlobalAveragePooling1D()\n",
        "\n",
        "# Want to check how Global average pooliing layer works\n",
        "# Define sample array\n",
        "\n",
        "sample_array = np.array([[[10,2],[1,3],[1,1]]])\n",
        "sample_array = np.array([[[10,2],[1,3],[1,1]]])\n",
        "print(f'shape of sample_array = {sample_array.shape}')\n",
        "print(f'sample array: {sample_array}')\n",
        "\n",
        "# Pass the sample array to the GAP1D layer\n",
        "output = gap1d_layer(sample_array)\n",
        "\n",
        "# Print shape and contents of the GAP1D output array\n",
        "print(f'output shape of gap1d_layer: {output.shape}')\n",
        "print(f'output array of gap1d_layer: {output.numpy()}')"
      ],
      "metadata": {
        "colab": {
          "base_uri": "https://localhost:8080/"
        },
        "id": "j26PrAaF_uCR",
        "outputId": "d6b3697e-e950-4e26-d0b0-fca58f95690a"
      },
      "execution_count": 6,
      "outputs": [
        {
          "output_type": "stream",
          "name": "stdout",
          "text": [
            "shape of sample_array = (1, 3, 2)\n",
            "sample array: [[[10  2]\n",
            "  [ 1  3]\n",
            "  [ 1  1]]]\n",
            "output shape of gap1d_layer: (1, 2)\n",
            "output array of gap1d_layer: [[4 2]]\n"
          ]
        }
      ]
    },
    {
      "cell_type": "code",
      "source": [
        "# Build model\n",
        "\n",
        "model = tf.keras.Sequential([\n",
        "                             tf.keras.layers.Embedding(vocab_size,embedding_dim,input_length=max_length),\n",
        "                             tf.keras.layers.GlobalAveragePooling1D(),\n",
        "                             tf.keras.layers.Dense(24,activation='relu'),\n",
        "                             tf.keras.layers.Dense(1,activation='sigmoid')\n",
        "        \n",
        "])\n",
        "\n",
        "model.summary()"
      ],
      "metadata": {
        "colab": {
          "base_uri": "https://localhost:8080/"
        },
        "id": "xcnvbTfKGiqe",
        "outputId": "bcf9043e-f151-4579-c395-776761fd9029"
      },
      "execution_count": 7,
      "outputs": [
        {
          "output_type": "stream",
          "name": "stdout",
          "text": [
            "Model: \"sequential\"\n",
            "_________________________________________________________________\n",
            " Layer (type)                Output Shape              Param #   \n",
            "=================================================================\n",
            " embedding (Embedding)       (None, 32, 16)            160000    \n",
            "                                                                 \n",
            " global_average_pooling1d_1   (None, 16)               0         \n",
            " (GlobalAveragePooling1D)                                        \n",
            "                                                                 \n",
            " dense (Dense)               (None, 24)                408       \n",
            "                                                                 \n",
            " dense_1 (Dense)             (None, 1)                 25        \n",
            "                                                                 \n",
            "=================================================================\n",
            "Total params: 160,433\n",
            "Trainable params: 160,433\n",
            "Non-trainable params: 0\n",
            "_________________________________________________________________\n"
          ]
        }
      ]
    },
    {
      "cell_type": "code",
      "source": [
        "#Compile the model\n",
        "model.compile(loss='binary_crossentropy',\n",
        "              optimizer='adam',\n",
        "              metrics=['accuracy']\n",
        ")\n"
      ],
      "metadata": {
        "id": "icidEpj3RRXj"
      },
      "execution_count": 8,
      "outputs": []
    },
    {
      "cell_type": "markdown",
      "source": [
        "### Train the model "
      ],
      "metadata": {
        "id": "7tFIeX93pAOz"
      }
    },
    {
      "cell_type": "code",
      "source": [
        "num_epochs=20\n",
        "history=model.fit(\n",
        "  training_padded,\n",
        "  training_labels,\n",
        "  epochs=num_epochs,\n",
        "  validation_data=(testing_padded, testing_labels),\n",
        "  verbose=2\n",
        ")"
      ],
      "metadata": {
        "id": "pdVvJNxKSA4r",
        "colab": {
          "base_uri": "https://localhost:8080/"
        },
        "outputId": "ebcc61b8-3eac-47f6-97dc-8990a4fed8b4"
      },
      "execution_count": 10,
      "outputs": [
        {
          "output_type": "stream",
          "name": "stdout",
          "text": [
            "Epoch 1/20\n",
            "625/625 - 3s - loss: 0.5546 - accuracy: 0.7035 - val_loss: 0.3900 - val_accuracy: 0.8389 - 3s/epoch - 5ms/step\n",
            "Epoch 2/20\n",
            "625/625 - 2s - loss: 0.3063 - accuracy: 0.8774 - val_loss: 0.3408 - val_accuracy: 0.8569 - 2s/epoch - 3ms/step\n",
            "Epoch 3/20\n",
            "625/625 - 2s - loss: 0.2295 - accuracy: 0.9093 - val_loss: 0.3453 - val_accuracy: 0.8550 - 2s/epoch - 4ms/step\n",
            "Epoch 4/20\n",
            "625/625 - 2s - loss: 0.1850 - accuracy: 0.9289 - val_loss: 0.3669 - val_accuracy: 0.8493 - 2s/epoch - 3ms/step\n",
            "Epoch 5/20\n",
            "625/625 - 2s - loss: 0.1530 - accuracy: 0.9433 - val_loss: 0.3926 - val_accuracy: 0.8472 - 2s/epoch - 4ms/step\n",
            "Epoch 6/20\n",
            "625/625 - 2s - loss: 0.1294 - accuracy: 0.9548 - val_loss: 0.4408 - val_accuracy: 0.8371 - 2s/epoch - 3ms/step\n",
            "Epoch 7/20\n",
            "625/625 - 2s - loss: 0.1103 - accuracy: 0.9628 - val_loss: 0.4669 - val_accuracy: 0.8413 - 2s/epoch - 3ms/step\n",
            "Epoch 8/20\n",
            "625/625 - 2s - loss: 0.0950 - accuracy: 0.9672 - val_loss: 0.5097 - val_accuracy: 0.8375 - 2s/epoch - 3ms/step\n",
            "Epoch 9/20\n",
            "625/625 - 2s - loss: 0.0833 - accuracy: 0.9721 - val_loss: 0.5612 - val_accuracy: 0.8331 - 2s/epoch - 3ms/step\n",
            "Epoch 10/20\n",
            "625/625 - 2s - loss: 0.0725 - accuracy: 0.9760 - val_loss: 0.6032 - val_accuracy: 0.8286 - 2s/epoch - 3ms/step\n",
            "Epoch 11/20\n",
            "625/625 - 2s - loss: 0.0614 - accuracy: 0.9811 - val_loss: 0.6614 - val_accuracy: 0.8256 - 2s/epoch - 4ms/step\n",
            "Epoch 12/20\n",
            "625/625 - 2s - loss: 0.0556 - accuracy: 0.9822 - val_loss: 0.7022 - val_accuracy: 0.8252 - 2s/epoch - 3ms/step\n",
            "Epoch 13/20\n",
            "625/625 - 2s - loss: 0.0480 - accuracy: 0.9855 - val_loss: 0.7623 - val_accuracy: 0.8192 - 2s/epoch - 3ms/step\n",
            "Epoch 14/20\n",
            "625/625 - 3s - loss: 0.0422 - accuracy: 0.9869 - val_loss: 0.8260 - val_accuracy: 0.8171 - 3s/epoch - 4ms/step\n",
            "Epoch 15/20\n",
            "625/625 - 2s - loss: 0.0367 - accuracy: 0.9896 - val_loss: 0.8694 - val_accuracy: 0.8174 - 2s/epoch - 3ms/step\n",
            "Epoch 16/20\n",
            "625/625 - 2s - loss: 0.0326 - accuracy: 0.9904 - val_loss: 0.9308 - val_accuracy: 0.8146 - 2s/epoch - 3ms/step\n",
            "Epoch 17/20\n",
            "625/625 - 2s - loss: 0.0277 - accuracy: 0.9924 - val_loss: 0.9950 - val_accuracy: 0.8116 - 2s/epoch - 3ms/step\n",
            "Epoch 18/20\n",
            "625/625 - 2s - loss: 0.0243 - accuracy: 0.9926 - val_loss: 1.0466 - val_accuracy: 0.8109 - 2s/epoch - 3ms/step\n",
            "Epoch 19/20\n",
            "625/625 - 2s - loss: 0.0228 - accuracy: 0.9936 - val_loss: 1.1100 - val_accuracy: 0.8091 - 2s/epoch - 3ms/step\n",
            "Epoch 20/20\n",
            "625/625 - 2s - loss: 0.0209 - accuracy: 0.9945 - val_loss: 1.1540 - val_accuracy: 0.8097 - 2s/epoch - 3ms/step\n"
          ]
        }
      ]
    },
    {
      "cell_type": "code",
      "source": [
        "import matplotlib.pyplot as plt\n",
        "\n",
        "def plot_graphs(history, string):\n",
        "  plt.plot(history.history[string])\n",
        "  plt.plot(history.history['val_'+string])\n",
        "  plt.xlabel(\"Epoch\")\n",
        "  plt.ylabel(string)\n",
        "  plt.legend([string, 'val_'+string])\n",
        "  plt.show()\n",
        "\n",
        "#Plot the accuracy and loss\n",
        "plot_graphs(history,\"accuracy\")\n",
        "plot_graphs(history,\"loss\")"
      ],
      "metadata": {
        "colab": {
          "base_uri": "https://localhost:8080/",
          "height": 543
        },
        "id": "rbXEs2IDqKFf",
        "outputId": "4638609c-e6fa-46bf-ff4d-bbea143f319d"
      },
      "execution_count": 12,
      "outputs": [
        {
          "output_type": "display_data",
          "data": {
            "text/plain": [
              "<Figure size 432x288 with 1 Axes>"
            ],
            "image/png": "[encoded data removed]"
          },
          "metadata": {
            "needs_background": "light"
          }
        },
        {
          "output_type": "display_data",
          "data": {
            "text/plain": [
              "<Figure size 432x288 with 1 Axes>"
            ],
            "image/png": "[encoded data removed]"
          },
          "metadata": {
            "needs_background": "light"
          }
        }
      ]
    },
    {
      "cell_type": "markdown",
      "source": [
        "Visualize word Embeddings\n",
        "[Tesnsor flow enbeddings](https://projector.tensorflow.org/)"
      ],
      "metadata": {
        "id": "lHEFh9EGtbmJ"
      }
    },
    {
      "cell_type": "code",
      "source": [
        "# Get index word dictionary\n",
        "reverse_word_index = tokenizer.index_word\n",
        "\n",
        "# Get the embedding layer from the model\n",
        "embedding_layer = model.layers[0]\n",
        "\n",
        "# Get embedding weights\n",
        "embedding_weights = embedding_layer.get_weights()[0]\n",
        "print (embedding_weights.shape)"
      ],
      "metadata": {
        "colab": {
          "base_uri": "https://localhost:8080/"
        },
        "id": "aXGuVfIYtuyX",
        "outputId": "b10f47a9-e6e1-43b4-9011-0fcc33ed526f"
      },
      "execution_count": 13,
      "outputs": [
        {
          "output_type": "stream",
          "name": "stdout",
          "text": [
            "(10000, 16)\n"
          ]
        }
      ]
    },
    {
      "cell_type": "code",
      "source": [
        "import io\n",
        "\n",
        "out_v = io.open('vecs.tsv','w',encoding='utf-8')\n",
        "out_m = io.open('meta.tsv','w',encoding='utf-8')\n",
        "\n",
        "for word_num in range(1,vocab_size):\n",
        "  word_name = reverse_word_index[word_num]\n",
        "  word_embedding = embedding_weights[word_num]\n",
        "  out_m.write(word_name+\"\\n\")\n",
        "  out_v.write('\\t'.join([str(x) for x in word_embedding])+\"\\n\")\n",
        "\n",
        "out_v.close()\n",
        "out_m.close()\n",
        "\n"
      ],
      "metadata": {
        "id": "y3VU65yIuarP"
      },
      "execution_count": 15,
      "outputs": []
    },
    {
      "cell_type": "code",
      "source": [
        "try:\n",
        "  from google.colab import files\n",
        "except ImportError:\n",
        "  pass\n",
        "else:\n",
        "  files.download('vecs.tsv')\n",
        "  files.download('meta.tsv')"
      ],
      "metadata": {
        "colab": {
          "base_uri": "https://localhost:8080/",
          "height": 17
        },
        "id": "iLbbCLURwobL",
        "outputId": "416a9492-c920-48a4-cfdc-89af5652593f"
      },
      "execution_count": 16,
      "outputs": [
        {
          "output_type": "display_data",
          "data": {
            "text/plain": [
              "<IPython.core.display.Javascript object>"
            ],
            "application/javascript": [
              "\n",
              "    async function download(id, filename, size) {\n",
              "      if (!google.colab.kernel.accessAllowed) {\n",
              "        return;\n",
              "      }\n",
              "      const div = document.createElement('div');\n",
              "      const label = document.createElement('label');\n",
              "      label.textContent = `Downloading \"${filename}\": `;\n",
              "      div.appendChild(label);\n",
              "      const progress = document.createElement('progress');\n",
              "      progress.max = size;\n",
              "      div.appendChild(progress);\n",
              "      document.body.appendChild(div);\n",
              "\n",
              "      const buffers = [];\n",
              "      let downloaded = 0;\n",
              "\n",
              "      const channel = await google.colab.kernel.comms.open(id);\n",
              "      // Send a message to notify the kernel that we're ready.\n",
              "      channel.send({})\n",
              "\n",
              "      for await (const message of channel.messages) {\n",
              "        // Send a message to notify the kernel that we're ready.\n",
              "        channel.send({})\n",
              "        if (message.buffers) {\n",
              "          for (const buffer of message.buffers) {\n",
              "            buffers.push(buffer);\n",
              "            downloaded += buffer.byteLength;\n",
              "            progress.value = downloaded;\n",
              "          }\n",
              "        }\n",
              "      }\n",
              "      const blob = new Blob(buffers, {type: 'application/binary'});\n",
              "      const a = document.createElement('a');\n",
              "      a.href = window.URL.createObjectURL(blob);\n",
              "      a.download = filename;\n",
              "      div.appendChild(a);\n",
              "      a.click();\n",
              "      div.remove();\n",
              "    }\n",
              "  "
            ]
          },
          "metadata": {}
        },
        {
          "output_type": "display_data",
          "data": {
            "text/plain": [
              "<IPython.core.display.Javascript object>"
            ],
            "application/javascript": [
              "download(\"download_584153b7-db62-4d5b-ae93-c429c73448f8\", \"vecs.tsv\", 1852010)"
            ]
          },
          "metadata": {}
        },
        {
          "output_type": "display_data",
          "data": {
            "text/plain": [
              "<IPython.core.display.Javascript object>"
            ],
            "application/javascript": [
              "\n",
              "    async function download(id, filename, size) {\n",
              "      if (!google.colab.kernel.accessAllowed) {\n",
              "        return;\n",
              "      }\n",
              "      const div = document.createElement('div');\n",
              "      const label = document.createElement('label');\n",
              "      label.textContent = `Downloading \"${filename}\": `;\n",
              "      div.appendChild(label);\n",
              "      const progress = document.createElement('progress');\n",
              "      progress.max = size;\n",
              "      div.appendChild(progress);\n",
              "      document.body.appendChild(div);\n",
              "\n",
              "      const buffers = [];\n",
              "      let downloaded = 0;\n",
              "\n",
              "      const channel = await google.colab.kernel.comms.open(id);\n",
              "      // Send a message to notify the kernel that we're ready.\n",
              "      channel.send({})\n",
              "\n",
              "      for await (const message of channel.messages) {\n",
              "        // Send a message to notify the kernel that we're ready.\n",
              "        channel.send({})\n",
              "        if (message.buffers) {\n",
              "          for (const buffer of message.buffers) {\n",
              "            buffers.push(buffer);\n",
              "            downloaded += buffer.byteLength;\n",
              "            progress.value = downloaded;\n",
              "          }\n",
              "        }\n",
              "      }\n",
              "      const blob = new Blob(buffers, {type: 'application/binary'});\n",
              "      const a = document.createElement('a');\n",
              "      a.href = window.URL.createObjectURL(blob);\n",
              "      a.download = filename;\n",
              "      div.appendChild(a);\n",
              "      a.click();\n",
              "      div.remove();\n",
              "    }\n",
              "  "
            ]
          },
          "metadata": {}
        },
        {
          "output_type": "display_data",
          "data": {
            "text/plain": [
              "<IPython.core.display.Javascript object>"
            ],
            "application/javascript": [
              "download(\"download_df287752-c176-487d-b383-82530d2b0878\", \"meta.tsv\", 75974)"
            ]
          },
          "metadata": {}
        }
      ]
    },
    {
      "cell_type": "code",
      "source": [
        ""
      ],
      "metadata": {
        "id": "m33VzudnxHdT"
      },
      "execution_count": null,
      "outputs": []
    }
  ]
}