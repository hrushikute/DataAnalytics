{
 "cells": [
  {
   "cell_type": "code",
   "execution_count": 1,
   "id": "a2b86904",
   "metadata": {
    "_cell_guid": "b1076dfc-b9ad-4769-8c92-a6c4dae69d19",
    "_uuid": "8f2839f25d086af736a60e9eeb907d3b93b6e0e5",
    "execution": {
     "iopub.execute_input": "2022-06-09T17:48:30.388757Z",
     "iopub.status.busy": "2022-06-09T17:48:30.388257Z",
     "iopub.status.idle": "2022-06-09T17:48:30.407794Z",
     "shell.execute_reply": "2022-06-09T17:48:30.406602Z"
    },
    "papermill": {
     "duration": 0.036207,
     "end_time": "2022-06-09T17:48:30.410347",
     "exception": false,
     "start_time": "2022-06-09T17:48:30.374140",
     "status": "completed"
    },
    "tags": []
   },
   "outputs": [
    {
     "name": "stdout",
     "output_type": "stream",
     "text": [
      "/kaggle/input/winequalityred/winequality-red.csv\n"
     ]
    }
   ],
   "source": [
    "# This Python 3 environment comes with many helpful analytics libraries installed\n",
    "# It is defined by the kaggle/python Docker image: https://github.com/kaggle/docker-python\n",
    "# For example, here's several helpful packages to load\n",
    "\n",
    "import numpy as np # linear algebra\n",
    "import pandas as pd # data processing, CSV file I/O (e.g. pd.read_csv)\n",
    "\n",
    "# Input data files are available in the read-only \"../input/\" directory\n",
    "# For example, running this (by clicking run or pressing Shift+Enter) will list all files under the input directory\n",
    "\n",
    "import os\n",
    "for dirname, _, filenames in os.walk('/kaggle/input'):\n",
    "    for filename in filenames:\n",
    "        print(os.path.join(dirname, filename))\n",
    "\n",
    "# You can write up to 20GB to the current directory (/kaggle/working/) that gets preserved as output when you create a version using \"Save & Run All\" \n",
    "# You can also write temporary files to /kaggle/temp/, but they won't be saved outside of the current session"
   ]
  },
  {
   "cell_type": "code",
   "execution_count": 2,
   "id": "5184136e",
   "metadata": {
    "execution": {
     "iopub.execute_input": "2022-06-09T17:48:30.426940Z",
     "iopub.status.busy": "2022-06-09T17:48:30.426627Z",
     "iopub.status.idle": "2022-06-09T17:48:30.491104Z",
     "shell.execute_reply": "2022-06-09T17:48:30.490185Z"
    },
    "papermill": {
     "duration": 0.075267,
     "end_time": "2022-06-09T17:48:30.493334",
     "exception": false,
     "start_time": "2022-06-09T17:48:30.418067",
     "status": "completed"
    },
    "tags": []
   },
   "outputs": [
    {
     "data": {
      "text/html": [
       "<div>\n",
       "<style scoped>\n",
       "    .dataframe tbody tr th:only-of-type {\n",
       "        vertical-align: middle;\n",
       "    }\n",
       "\n",
       "    .dataframe tbody tr th {\n",
       "        vertical-align: top;\n",
       "    }\n",
       "\n",
       "    .dataframe thead th {\n",
       "        text-align: right;\n",
       "    }\n",
       "</style>\n",
       "<table border=\"1\" class=\"dataframe\">\n",
       "  <thead>\n",
       "    <tr style=\"text-align: right;\">\n",
       "      <th></th>\n",
       "      <th>fixed acidity</th>\n",
       "      <th>volatile acidity</th>\n",
       "      <th>citric acid</th>\n",
       "      <th>residual sugar</th>\n",
       "      <th>chlorides</th>\n",
       "      <th>free sulfur dioxide</th>\n",
       "      <th>total sulfur dioxide</th>\n",
       "      <th>density</th>\n",
       "      <th>pH</th>\n",
       "      <th>sulphates</th>\n",
       "      <th>alcohol</th>\n",
       "      <th>quality</th>\n",
       "    </tr>\n",
       "  </thead>\n",
       "  <tbody>\n",
       "    <tr>\n",
       "      <th>0</th>\n",
       "      <td>7.4</td>\n",
       "      <td>0.70</td>\n",
       "      <td>0.00</td>\n",
       "      <td>1.9</td>\n",
       "      <td>0.076</td>\n",
       "      <td>11.0</td>\n",
       "      <td>34.0</td>\n",
       "      <td>0.9978</td>\n",
       "      <td>3.51</td>\n",
       "      <td>0.56</td>\n",
       "      <td>9.4</td>\n",
       "      <td>5</td>\n",
       "    </tr>\n",
       "    <tr>\n",
       "      <th>1</th>\n",
       "      <td>7.8</td>\n",
       "      <td>0.88</td>\n",
       "      <td>0.00</td>\n",
       "      <td>2.6</td>\n",
       "      <td>0.098</td>\n",
       "      <td>25.0</td>\n",
       "      <td>67.0</td>\n",
       "      <td>0.9968</td>\n",
       "      <td>3.20</td>\n",
       "      <td>0.68</td>\n",
       "      <td>9.8</td>\n",
       "      <td>5</td>\n",
       "    </tr>\n",
       "    <tr>\n",
       "      <th>2</th>\n",
       "      <td>7.8</td>\n",
       "      <td>0.76</td>\n",
       "      <td>0.04</td>\n",
       "      <td>2.3</td>\n",
       "      <td>0.092</td>\n",
       "      <td>15.0</td>\n",
       "      <td>54.0</td>\n",
       "      <td>0.9970</td>\n",
       "      <td>3.26</td>\n",
       "      <td>0.65</td>\n",
       "      <td>9.8</td>\n",
       "      <td>5</td>\n",
       "    </tr>\n",
       "    <tr>\n",
       "      <th>3</th>\n",
       "      <td>11.2</td>\n",
       "      <td>0.28</td>\n",
       "      <td>0.56</td>\n",
       "      <td>1.9</td>\n",
       "      <td>0.075</td>\n",
       "      <td>17.0</td>\n",
       "      <td>60.0</td>\n",
       "      <td>0.9980</td>\n",
       "      <td>3.16</td>\n",
       "      <td>0.58</td>\n",
       "      <td>9.8</td>\n",
       "      <td>6</td>\n",
       "    </tr>\n",
       "    <tr>\n",
       "      <th>4</th>\n",
       "      <td>7.4</td>\n",
       "      <td>0.70</td>\n",
       "      <td>0.00</td>\n",
       "      <td>1.9</td>\n",
       "      <td>0.076</td>\n",
       "      <td>11.0</td>\n",
       "      <td>34.0</td>\n",
       "      <td>0.9978</td>\n",
       "      <td>3.51</td>\n",
       "      <td>0.56</td>\n",
       "      <td>9.4</td>\n",
       "      <td>5</td>\n",
       "    </tr>\n",
       "  </tbody>\n",
       "</table>\n",
       "</div>"
      ],
      "text/plain": [
       "   fixed acidity  volatile acidity  citric acid  residual sugar  chlorides  \\\n",
       "0            7.4              0.70         0.00             1.9      0.076   \n",
       "1            7.8              0.88         0.00             2.6      0.098   \n",
       "2            7.8              0.76         0.04             2.3      0.092   \n",
       "3           11.2              0.28         0.56             1.9      0.075   \n",
       "4            7.4              0.70         0.00             1.9      0.076   \n",
       "\n",
       "   free sulfur dioxide  total sulfur dioxide  density    pH  sulphates  \\\n",
       "0                 11.0                  34.0   0.9978  3.51       0.56   \n",
       "1                 25.0                  67.0   0.9968  3.20       0.68   \n",
       "2                 15.0                  54.0   0.9970  3.26       0.65   \n",
       "3                 17.0                  60.0   0.9980  3.16       0.58   \n",
       "4                 11.0                  34.0   0.9978  3.51       0.56   \n",
       "\n",
       "   alcohol  quality  \n",
       "0      9.4        5  \n",
       "1      9.8        5  \n",
       "2      9.8        5  \n",
       "3      9.8        6  \n",
       "4      9.4        5  "
      ]
     },
     "execution_count": 2,
     "metadata": {},
     "output_type": "execute_result"
    }
   ],
   "source": [
    "df = pd.read_csv('../input/winequalityred/winequality-red.csv')\n",
    "df.head()"
   ]
  },
  {
   "cell_type": "markdown",
   "id": "ad9259cd",
   "metadata": {
    "papermill": {
     "duration": 0.00759,
     "end_time": "2022-06-09T17:48:30.508817",
     "exception": false,
     "start_time": "2022-06-09T17:48:30.501227",
     "status": "completed"
    },
    "tags": []
   },
   "source": [
    "# Exploring the Data Set\n",
    "## Get values of quality of wine"
   ]
  },
  {
   "cell_type": "code",
   "execution_count": 3,
   "id": "315dd0da",
   "metadata": {
    "execution": {
     "iopub.execute_input": "2022-06-09T17:48:30.526683Z",
     "iopub.status.busy": "2022-06-09T17:48:30.526237Z",
     "iopub.status.idle": "2022-06-09T17:48:30.539260Z",
     "shell.execute_reply": "2022-06-09T17:48:30.538682Z"
    },
    "papermill": {
     "duration": 0.02437,
     "end_time": "2022-06-09T17:48:30.541503",
     "exception": false,
     "start_time": "2022-06-09T17:48:30.517133",
     "status": "completed"
    },
    "tags": []
   },
   "outputs": [
    {
     "data": {
      "text/plain": [
       "array([5, 6, 7, 4, 8, 3])"
      ]
     },
     "execution_count": 3,
     "metadata": {},
     "output_type": "execute_result"
    }
   ],
   "source": [
    "df.quality.unique()"
   ]
  },
  {
   "cell_type": "code",
   "execution_count": 4,
   "id": "d68ffb5a",
   "metadata": {
    "execution": {
     "iopub.execute_input": "2022-06-09T17:48:30.559645Z",
     "iopub.status.busy": "2022-06-09T17:48:30.559053Z",
     "iopub.status.idle": "2022-06-09T17:48:30.563013Z",
     "shell.execute_reply": "2022-06-09T17:48:30.562425Z"
    },
    "papermill": {
     "duration": 0.016107,
     "end_time": "2022-06-09T17:48:30.565757",
     "exception": false,
     "start_time": "2022-06-09T17:48:30.549650",
     "status": "completed"
    },
    "tags": []
   },
   "outputs": [],
   "source": [
    "quality_mapping = {\n",
    "    3:0,\n",
    "    4:1,\n",
    "    5:2,\n",
    "    6:3,\n",
    "    7:4,\n",
    "    8:5\n",
    "    \n",
    "}"
   ]
  },
  {
   "cell_type": "code",
   "execution_count": 5,
   "id": "bc15d8d1",
   "metadata": {
    "execution": {
     "iopub.execute_input": "2022-06-09T17:48:30.583491Z",
     "iopub.status.busy": "2022-06-09T17:48:30.583131Z",
     "iopub.status.idle": "2022-06-09T17:48:30.588846Z",
     "shell.execute_reply": "2022-06-09T17:48:30.588208Z"
    },
    "papermill": {
     "duration": 0.016331,
     "end_time": "2022-06-09T17:48:30.590420",
     "exception": false,
     "start_time": "2022-06-09T17:48:30.574089",
     "status": "completed"
    },
    "tags": []
   },
   "outputs": [
    {
     "data": {
      "text/plain": [
       "(1596, 12)"
      ]
     },
     "execution_count": 5,
     "metadata": {},
     "output_type": "execute_result"
    }
   ],
   "source": [
    "## Get shape of dataset\n",
    "\n",
    "df.shape"
   ]
  },
  {
   "cell_type": "markdown",
   "id": "7319fd8f",
   "metadata": {
    "_kg_hide-input": true,
    "papermill": {
     "duration": 0.005455,
     "end_time": "2022-06-09T17:48:30.601471",
     "exception": false,
     "start_time": "2022-06-09T17:48:30.596016",
     "status": "completed"
    },
    "tags": []
   },
   "source": [
    " **Mapping the values to dataframe**"
   ]
  },
  {
   "cell_type": "code",
   "execution_count": 6,
   "id": "328d7bc1",
   "metadata": {
    "execution": {
     "iopub.execute_input": "2022-06-09T17:48:30.613724Z",
     "iopub.status.busy": "2022-06-09T17:48:30.613307Z",
     "iopub.status.idle": "2022-06-09T17:48:30.624752Z",
     "shell.execute_reply": "2022-06-09T17:48:30.624012Z"
    },
    "papermill": {
     "duration": 0.01974,
     "end_time": "2022-06-09T17:48:30.626419",
     "exception": false,
     "start_time": "2022-06-09T17:48:30.606679",
     "status": "completed"
    },
    "tags": []
   },
   "outputs": [
    {
     "data": {
      "text/plain": [
       "array([2, 3, 4, 1, 5, 0])"
      ]
     },
     "execution_count": 6,
     "metadata": {},
     "output_type": "execute_result"
    }
   ],
   "source": [
    "df.loc[:,\"quality\"] = df.quality.map(quality_mapping)\n",
    "df.quality.unique()"
   ]
  },
  {
   "cell_type": "markdown",
   "id": "29b3eb5f",
   "metadata": {
    "papermill": {
     "duration": 0.005638,
     "end_time": "2022-06-09T17:48:30.637429",
     "exception": false,
     "start_time": "2022-06-09T17:48:30.631791",
     "status": "completed"
    },
    "tags": []
   },
   "source": [
    "Let split the data set. Use sample with frac=1 o shuffle the dataframe."
   ]
  },
  {
   "cell_type": "code",
   "execution_count": 7,
   "id": "c58644c0",
   "metadata": {
    "execution": {
     "iopub.execute_input": "2022-06-09T17:48:30.651772Z",
     "iopub.status.busy": "2022-06-09T17:48:30.649829Z",
     "iopub.status.idle": "2022-06-09T17:48:30.662377Z",
     "shell.execute_reply": "2022-06-09T17:48:30.661452Z"
    },
    "papermill": {
     "duration": 0.021661,
     "end_time": "2022-06-09T17:48:30.664818",
     "exception": false,
     "start_time": "2022-06-09T17:48:30.643157",
     "status": "completed"
    },
    "tags": []
   },
   "outputs": [],
   "source": [
    "df= df.sample(frac=1).reset_index(drop=True)\n"
   ]
  },
  {
   "cell_type": "markdown",
   "id": "f10d562d",
   "metadata": {
    "papermill": {
     "duration": 0.008224,
     "end_time": "2022-06-09T17:48:30.681664",
     "exception": false,
     "start_time": "2022-06-09T17:48:30.673440",
     "status": "completed"
    },
    "tags": []
   },
   "source": [
    "Top 1000 rows will training and rest will test data set\n",
    "df_train = df.head(1000)\n",
    "df_test =  df.tail(596)"
   ]
  },
  {
   "cell_type": "code",
   "execution_count": 8,
   "id": "94b63549",
   "metadata": {
    "execution": {
     "iopub.execute_input": "2022-06-09T17:48:30.699748Z",
     "iopub.status.busy": "2022-06-09T17:48:30.699180Z",
     "iopub.status.idle": "2022-06-09T17:48:30.702918Z",
     "shell.execute_reply": "2022-06-09T17:48:30.702386Z"
    },
    "papermill": {
     "duration": 0.014866,
     "end_time": "2022-06-09T17:48:30.704808",
     "exception": false,
     "start_time": "2022-06-09T17:48:30.689942",
     "status": "completed"
    },
    "tags": []
   },
   "outputs": [],
   "source": [
    "df_train = df.head(1000)\n",
    "df_test = df.tail(596)"
   ]
  },
  {
   "cell_type": "markdown",
   "id": "c6d934a1",
   "metadata": {
    "papermill": {
     "duration": 0.00792,
     "end_time": "2022-06-09T17:48:30.721033",
     "exception": false,
     "start_time": "2022-06-09T17:48:30.713113",
     "status": "completed"
    },
    "tags": []
   },
   "source": [
    "**We will train a descison tree model**"
   ]
  },
  {
   "cell_type": "code",
   "execution_count": 9,
   "id": "868ea525",
   "metadata": {
    "execution": {
     "iopub.execute_input": "2022-06-09T17:48:30.739358Z",
     "iopub.status.busy": "2022-06-09T17:48:30.738783Z",
     "iopub.status.idle": "2022-06-09T17:48:32.138850Z",
     "shell.execute_reply": "2022-06-09T17:48:32.137523Z"
    },
    "papermill": {
     "duration": 1.411623,
     "end_time": "2022-06-09T17:48:32.141038",
     "exception": false,
     "start_time": "2022-06-09T17:48:30.729415",
     "status": "completed"
    },
    "tags": []
   },
   "outputs": [
    {
     "data": {
      "text/plain": [
       "DecisionTreeClassifier(max_depth=3)"
      ]
     },
     "execution_count": 9,
     "metadata": {},
     "output_type": "execute_result"
    }
   ],
   "source": [
    "from sklearn import tree\n",
    "from sklearn import metrics\n",
    "\n",
    "# initialize the descion tree classifier class will max_depth=3\n",
    "clf = tree.DecisionTreeClassifier(max_depth=3)\n",
    "\n",
    "col = ['fixed acidity',\n",
    "      'volatile acidity',\n",
    "       'citric acid',\n",
    "      'residual sugar',\n",
    "      'chlorides',\n",
    "      'free sulfur dioxide',\n",
    "      'total sulfur dioxide',\n",
    "      'density','pH',\n",
    "      'sulphates',\n",
    "      'alcohol']\n",
    "\n",
    "# Train the model\n",
    "clf.fit(df_train[col],df_train.quality)"
   ]
  },
  {
   "cell_type": "markdown",
   "id": "5dca320b",
   "metadata": {
    "papermill": {
     "duration": 0.005226,
     "end_time": "2022-06-09T17:48:32.152004",
     "exception": false,
     "start_time": "2022-06-09T17:48:32.146778",
     "status": "completed"
    },
    "tags": []
   },
   "source": [
    "**Lets check the prediction and crossverify**"
   ]
  },
  {
   "cell_type": "code",
   "execution_count": 10,
   "id": "cdb97565",
   "metadata": {
    "execution": {
     "iopub.execute_input": "2022-06-09T17:48:32.164561Z",
     "iopub.status.busy": "2022-06-09T17:48:32.163942Z",
     "iopub.status.idle": "2022-06-09T17:48:32.175033Z",
     "shell.execute_reply": "2022-06-09T17:48:32.174367Z"
    },
    "papermill": {
     "duration": 0.021248,
     "end_time": "2022-06-09T17:48:32.178608",
     "exception": false,
     "start_time": "2022-06-09T17:48:32.157360",
     "status": "completed"
    },
    "tags": []
   },
   "outputs": [
    {
     "name": "stdout",
     "output_type": "stream",
     "text": [
      "Training accuracy :0.571\n",
      "Testing accuracy : 0.5251677852348994\n"
     ]
    }
   ],
   "source": [
    "train_predictions = clf.predict(df_train[col])\n",
    "\n",
    "test_predictions = clf.predict(df_test[col])\n",
    "\n",
    "## Evalute the accuracy of prediction\n",
    "\n",
    "train_accuracy = metrics.accuracy_score(df_train.quality, train_predictions)\n",
    "test_accuracy = metrics.accuracy_score(df_test.quality, test_predictions)\n",
    "\n",
    "print(f\"Training accuracy :{train_accuracy}\\nTesting accuracy : {test_accuracy}\")"
   ]
  },
  {
   "cell_type": "code",
   "execution_count": 11,
   "id": "06d3684b",
   "metadata": {
    "execution": {
     "iopub.execute_input": "2022-06-09T17:48:32.198548Z",
     "iopub.status.busy": "2022-06-09T17:48:32.198072Z",
     "iopub.status.idle": "2022-06-09T17:48:32.218304Z",
     "shell.execute_reply": "2022-06-09T17:48:32.217499Z"
    },
    "papermill": {
     "duration": 0.032631,
     "end_time": "2022-06-09T17:48:32.220543",
     "exception": false,
     "start_time": "2022-06-09T17:48:32.187912",
     "status": "completed"
    },
    "tags": []
   },
   "outputs": [
    {
     "name": "stdout",
     "output_type": "stream",
     "text": [
      "Training accuracy :0.769\n",
      "Testing accuracy : 0.5956375838926175\n"
     ]
    }
   ],
   "source": [
    "## If we increase the the max_depth=7\n",
    "clf_itr1 = tree.DecisionTreeClassifier(max_depth=7)\n",
    "clf_itr1.fit(df_train[col],df_train.quality)\n",
    "train_predictions = clf_itr1.predict(df_train[col])\n",
    "\n",
    "test_predictions = clf_itr1.predict(df_test[col])\n",
    "\n",
    "train_accuracy = metrics.accuracy_score(df_train.quality, train_predictions)\n",
    "test_accuracy = metrics.accuracy_score(df_test.quality, test_predictions)\n",
    "\n",
    "print(f\"Training accuracy :{train_accuracy}\\nTesting accuracy : {test_accuracy}\")"
   ]
  },
  {
   "cell_type": "markdown",
   "id": "ffe28fbf",
   "metadata": {
    "papermill": {
     "duration": 0.008253,
     "end_time": "2022-06-09T17:48:32.238048",
     "exception": false,
     "start_time": "2022-06-09T17:48:32.229795",
     "status": "completed"
    },
    "tags": []
   },
   "source": [
    "**Lets plot the graph of increasing the max_depth to change in accuracy**"
   ]
  },
  {
   "cell_type": "code",
   "execution_count": 12,
   "id": "84dcaaca",
   "metadata": {
    "execution": {
     "iopub.execute_input": "2022-06-09T17:48:32.257119Z",
     "iopub.status.busy": "2022-06-09T17:48:32.256531Z",
     "iopub.status.idle": "2022-06-09T17:48:32.472940Z",
     "shell.execute_reply": "2022-06-09T17:48:32.471670Z"
    },
    "papermill": {
     "duration": 0.228885,
     "end_time": "2022-06-09T17:48:32.475703",
     "exception": false,
     "start_time": "2022-06-09T17:48:32.246818",
     "status": "completed"
    },
    "tags": []
   },
   "outputs": [],
   "source": [
    "import matplotlib\n",
    "import matplotlib.pyplot as plt\n",
    "import seaborn as sns\n",
    "\n",
    "#Global size of label text\n",
    "matplotlib.rc('xtick', labelsize=20)\n",
    "matplotlib.rc('ytick', labelsize=20)\n",
    "\n",
    "#Plot to be displayed inside the note book\n",
    "%matplotlib inline"
   ]
  },
  {
   "cell_type": "code",
   "execution_count": 13,
   "id": "2bbeb53b",
   "metadata": {
    "execution": {
     "iopub.execute_input": "2022-06-09T17:48:32.497086Z",
     "iopub.status.busy": "2022-06-09T17:48:32.496702Z",
     "iopub.status.idle": "2022-06-09T17:48:32.777963Z",
     "shell.execute_reply": "2022-06-09T17:48:32.776803Z"
    },
    "papermill": {
     "duration": 0.295548,
     "end_time": "2022-06-09T17:48:32.780339",
     "exception": false,
     "start_time": "2022-06-09T17:48:32.484791",
     "status": "completed"
    },
    "tags": []
   },
   "outputs": [],
   "source": [
    "# Store the accuracies in list, starting with 0.5\n",
    "train_accuracies = [0.5]\n",
    "test_accuracies = [0.5]\n",
    "\n",
    "for i in range(1,25):\n",
    "    clf = tree.DecisionTreeClassifier(max_depth=i)\n",
    "\n",
    "    col = ['fixed acidity',\n",
    "      'volatile acidity',\n",
    "       'citric acid',\n",
    "      'residual sugar',\n",
    "      'chlorides',\n",
    "      'free sulfur dioxide',\n",
    "      'total sulfur dioxide',\n",
    "      'density','pH',\n",
    "      'sulphates',\n",
    "      'alcohol']\n",
    "\n",
    "   # Train the model\n",
    "    clf.fit(df_train[col],df_train.quality)\n",
    "    train_predictions = clf.predict(df_train[col])\n",
    "\n",
    "    test_predictions = clf.predict(df_test[col])\n",
    "\n",
    "## Evalute the accuracy of prediction\n",
    "\n",
    "    train_accuracy = metrics.accuracy_score(df_train.quality, train_predictions)\n",
    "    test_accuracy = metrics.accuracy_score(df_test.quality, test_predictions)\n",
    "    train_accuracies.append(train_accuracy)\n",
    "    test_accuracies.append(test_accuracy)\n",
    "\n"
   ]
  },
  {
   "cell_type": "code",
   "execution_count": 14,
   "id": "df184162",
   "metadata": {
    "execution": {
     "iopub.execute_input": "2022-06-09T17:48:32.792782Z",
     "iopub.status.busy": "2022-06-09T17:48:32.792391Z",
     "iopub.status.idle": "2022-06-09T17:48:32.992093Z",
     "shell.execute_reply": "2022-06-09T17:48:32.991118Z"
    },
    "papermill": {
     "duration": 0.20869,
     "end_time": "2022-06-09T17:48:32.994516",
     "exception": false,
     "start_time": "2022-06-09T17:48:32.785826",
     "status": "completed"
    },
    "tags": []
   },
   "outputs": [
    {
     "data": {
      "image/png": "[encoded data removed]",
      "text/plain": [
       "<Figure size 720x360 with 1 Axes>"
      ]
     },
     "metadata": {
      "needs_background": "light"
     },
     "output_type": "display_data"
    }
   ],
   "source": [
    "plt.figure(figsize=(10, 5))\n",
    "sns.set_style('whitegrid')\n",
    "plt.plot(train_accuracies, label = 'Training accuracy')\n",
    "plt.plot(test_accuracies, label = 'Testing accuracy')\n",
    "plt.legend(loc=\"upper left\", prop={'size':15})\n",
    "plt.xticks(range(0,26,5))\n",
    "plt.xlabel(\"max_depth\",size=20)\n",
    "plt.ylabel(\"accuracy\",size=20)\n",
    "plt.show()"
   ]
  },
  {
   "cell_type": "code",
   "execution_count": 15,
   "id": "81a20526",
   "metadata": {
    "execution": {
     "iopub.execute_input": "2022-06-09T17:48:33.014825Z",
     "iopub.status.busy": "2022-06-09T17:48:33.014401Z",
     "iopub.status.idle": "2022-06-09T17:48:33.168320Z",
     "shell.execute_reply": "2022-06-09T17:48:33.167680Z"
    },
    "papermill": {
     "duration": 0.167277,
     "end_time": "2022-06-09T17:48:33.171200",
     "exception": false,
     "start_time": "2022-06-09T17:48:33.003923",
     "status": "completed"
    },
    "tags": []
   },
   "outputs": [
    {
     "data": {
      "text/plain": [
       "Text(0, 0.5, 'count')"
      ]
     },
     "execution_count": 15,
     "metadata": {},
     "output_type": "execute_result"
    },
    {
     "data": {
      "image/png": "[encoded data removed]",
      "text/plain": [
       "<Figure size 432x288 with 1 Axes>"
      ]
     },
     "metadata": {},
     "output_type": "display_data"
    }
   ],
   "source": [
    "b = sns.countplot(x='quality', data=df)\n",
    "b.set_xlabel(\"quality\",fontsize=20)\n",
    "b.set_ylabel(\"count\", fontsize=20)"
   ]
  }
 ],
 "metadata": {
  "kernelspec": {
   "display_name": "Python 3",
   "language": "python",
   "name": "python3"
  },
  "language_info": {
   "codemirror_mode": {
    "name": "ipython",
    "version": 3
   },
   "file_extension": ".py",
   "mimetype": "text/x-python",
   "name": "python",
   "nbconvert_exporter": "python",
   "pygments_lexer": "ipython3",
   "version": "3.7.12"
  },
  "papermill": {
   "default_parameters": {},
   "duration": 14.904761,
   "end_time": "2022-06-09T17:48:34.004001",
   "environment_variables": {},
   "exception": null,
   "input_path": "__notebook__.ipynb",
   "output_path": "__notebook__.ipynb",
   "parameters": {},
   "start_time": "2022-06-09T17:48:19.099240",
   "version": "2.3.4"
  }
 },
 "nbformat": 4,
 "nbformat_minor": 5
}
