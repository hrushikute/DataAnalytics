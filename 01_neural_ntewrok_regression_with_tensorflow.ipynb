{
  "nbformat": 4,
  "nbformat_minor": 0,
  "metadata": {
    "colab": {
      "name": "01_neural_ntewrok_regression_with_tensorflow.ipynb",
      "provenance": [],
      "collapsed_sections": [],
      "authorship_tag": "ABX9TyOL234ylLmfOBRPoJZY2yFY",
      "include_colab_link": true
    },
    "kernelspec": {
      "name": "python3",
      "display_name": "Python 3"
    },
    "language_info": {
      "name": "python"
    }
  },
  "cells": [
    {
      "cell_type": "markdown",
      "metadata": {
        "id": "view-in-github",
        "colab_type": "text"
      },
      "source": [
        "<a href=\"https://colab.research.google.com/github/hrushikute/DataAnalytics/blob/master/01_neural_ntewrok_regression_with_tensorflow.ipynb\" target=\"_parent\"><img src=\"https://colab.research.google.com/assets/colab-badge.svg\" alt=\"Open In Colab\"/></a>"
      ]
    },
    {
      "cell_type": "markdown",
      "metadata": {
        "id": "zH2rx0NSvKJ8"
      },
      "source": [
        "# Introduction to NN in Tensorflow"
      ]
    },
    {
      "cell_type": "code",
      "metadata": {
        "colab": {
          "base_uri": "https://localhost:8080/"
        },
        "id": "KEmA6N3PwkLp",
        "outputId": "8bbb83f1-737d-47e1-f5cd-a75236e64280"
      },
      "source": [
        "import tensorflow as tf\n",
        "print(tf.__version__)"
      ],
      "execution_count": 2,
      "outputs": [
        {
          "output_type": "stream",
          "text": [
            "2.5.0\n"
          ],
          "name": "stdout"
        }
      ]
    },
    {
      "cell_type": "markdown",
      "metadata": {
        "id": "NJWCVGWww5pm"
      },
      "source": [
        "## Creating  a data to view and fit "
      ]
    },
    {
      "cell_type": "code",
      "metadata": {
        "colab": {
          "base_uri": "https://localhost:8080/",
          "height": 286
        },
        "id": "FzZKr9RBxGk4",
        "outputId": "34321896-79ec-4cbb-af1a-ce1ecaa466af"
      },
      "source": [
        "import numpy as np\n",
        "import matplotlib.pyplot as plt\n",
        "\n",
        "#create features\n",
        "\n",
        "X = np.array([-7.,-4.0,-1,2.0,5.0,8,11,14.0])\n",
        "X\n",
        "#Create labels\n",
        "y = np.array([3,6,9.0,12,15.0,18,21,24])\n",
        "plt.scatter(X,y)"
      ],
      "execution_count": 3,
      "outputs": [
        {
          "output_type": "execute_result",
          "data": {
            "text/plain": [
              "<matplotlib.collections.PathCollection at 0x7f479145b7d0>"
            ]
          },
          "metadata": {
            "tags": []
          },
          "execution_count": 3
        },
        {
          "output_type": "display_data",
          "data": {
            "image/png": "[encoded data removed]",
            "text/plain": [
              "<Figure size 432x288 with 1 Axes>"
            ]
          },
          "metadata": {
            "tags": [],
            "needs_background": "light"
          }
        }
      ]
    },
    {
      "cell_type": "code",
      "metadata": {
        "colab": {
          "base_uri": "https://localhost:8080/"
        },
        "id": "v-7cf1MPyHiI",
        "outputId": "808a586e-c911-4449-fd13-f49f7e8e5958"
      },
      "source": [
        "y ==X+10\n"
      ],
      "execution_count": 4,
      "outputs": [
        {
          "output_type": "execute_result",
          "data": {
            "text/plain": [
              "array([ True,  True,  True,  True,  True,  True,  True,  True])"
            ]
          },
          "metadata": {
            "tags": []
          },
          "execution_count": 4
        }
      ]
    },
    {
      "cell_type": "markdown",
      "metadata": {
        "id": "vAd-et-dyKW6"
      },
      "source": [
        "** Input and output shapes"
      ]
    },
    {
      "cell_type": "code",
      "metadata": {
        "colab": {
          "base_uri": "https://localhost:8080/"
        },
        "id": "LJHe_yRAygHU",
        "outputId": "ce0246d9-969a-464f-bf66-e8f001a2d715"
      },
      "source": [
        "##create a demo tensor for out housing price prediction problme\n",
        "house_info = tf.constant([\"bedroom\",\"bathroom\",\"garage\"])\n",
        "house_price = tf.constant([939700])\n",
        "house_info, house_price"
      ],
      "execution_count": 5,
      "outputs": [
        {
          "output_type": "execute_result",
          "data": {
            "text/plain": [
              "(<tf.Tensor: shape=(3,), dtype=string, numpy=array([b'bedroom', b'bathroom', b'garage'], dtype=object)>,\n",
              " <tf.Tensor: shape=(1,), dtype=int32, numpy=array([939700], dtype=int32)>)"
            ]
          },
          "metadata": {
            "tags": []
          },
          "execution_count": 5
        }
      ]
    },
    {
      "cell_type": "code",
      "metadata": {
        "colab": {
          "base_uri": "https://localhost:8080/"
        },
        "id": "tuiEXvgDy7go",
        "outputId": "5a3000ee-9a73-4e82-b9d6-9cf2ad200273"
      },
      "source": [
        "input_shape = X.shape\n",
        "output_shape = y.shape\n",
        "\n",
        "input_shape, output_shape"
      ],
      "execution_count": 6,
      "outputs": [
        {
          "output_type": "execute_result",
          "data": {
            "text/plain": [
              "((8,), (8,))"
            ]
          },
          "metadata": {
            "tags": []
          },
          "execution_count": 6
        }
      ]
    },
    {
      "cell_type": "code",
      "metadata": {
        "colab": {
          "base_uri": "https://localhost:8080/"
        },
        "id": "RT087ZOSzDdC",
        "outputId": "194f1e59-14c4-4af5-b26e-0f8b6261e81c"
      },
      "source": [
        "# trun numpyt array tensors\n",
        "X=tf.constant(X)\n",
        "y=tf.constant(y)\n",
        "X,y"
      ],
      "execution_count": 7,
      "outputs": [
        {
          "output_type": "execute_result",
          "data": {
            "text/plain": [
              "(<tf.Tensor: shape=(8,), dtype=float64, numpy=array([-7., -4., -1.,  2.,  5.,  8., 11., 14.])>,\n",
              " <tf.Tensor: shape=(8,), dtype=float64, numpy=array([ 3.,  6.,  9., 12., 15., 18., 21., 24.])>)"
            ]
          },
          "metadata": {
            "tags": []
          },
          "execution_count": 7
        }
      ]
    },
    {
      "cell_type": "code",
      "metadata": {
        "colab": {
          "base_uri": "https://localhost:8080/",
          "height": 286
        },
        "id": "cLnreoJu0HLc",
        "outputId": "251e204d-b373-42d3-f381-21dfbccb4756"
      },
      "source": [
        "plt.scatter(X,y)"
      ],
      "execution_count": 8,
      "outputs": [
        {
          "output_type": "execute_result",
          "data": {
            "text/plain": [
              "<matplotlib.collections.PathCollection at 0x7f47913da790>"
            ]
          },
          "metadata": {
            "tags": []
          },
          "execution_count": 8
        },
        {
          "output_type": "display_data",
          "data": {
            "image/png": "[encoded data removed]",
            "text/plain": [
              "<Figure size 432x288 with 1 Axes>"
            ]
          },
          "metadata": {
            "tags": [],
            "needs_background": "light"
          }
        }
      ]
    },
    {
      "cell_type": "markdown",
      "metadata": {
        "id": "G4CUyTUr0J6D"
      },
      "source": [
        "#Steps in modelling with Tensor flow"
      ]
    },
    {
      "cell_type": "code",
      "metadata": {
        "colab": {
          "base_uri": "https://localhost:8080/"
        },
        "id": "XDgyj_1I0OAt",
        "outputId": "ab59da65-0387-447d-8ed7-ba44dd0c5ca3"
      },
      "source": [
        "#set random seed\n",
        "tf.random.set_seed(42)\n",
        "\n",
        "# Create a model using the Sequential\n",
        "model = tf.keras.Sequential([\n",
        "                             tf.keras.layers.Dense(1)\n",
        "                             ])\n",
        "\n",
        "# Compile the model\n",
        "\n",
        "model.compile(loss=tf.keras.losses.mae,\n",
        "              optimizer=tf.keras.optimizers.SGD(),\n",
        "              metrics=['mae']\n",
        "              )\n",
        "\n",
        "#fit the model\n",
        "model.fit(X,y,epochs=5)\n"
      ],
      "execution_count": 9,
      "outputs": [
        {
          "output_type": "stream",
          "text": [
            "Epoch 1/5\n",
            "1/1 [==============================] - 1s 584ms/step - loss: 11.5048 - mae: 11.5048\n",
            "Epoch 2/5\n",
            "1/1 [==============================] - 0s 8ms/step - loss: 11.3723 - mae: 11.3723\n",
            "Epoch 3/5\n",
            "1/1 [==============================] - 0s 3ms/step - loss: 11.2398 - mae: 11.2398\n",
            "Epoch 4/5\n",
            "1/1 [==============================] - 0s 8ms/step - loss: 11.1073 - mae: 11.1073\n",
            "Epoch 5/5\n",
            "1/1 [==============================] - 0s 4ms/step - loss: 10.9748 - mae: 10.9748\n"
          ],
          "name": "stdout"
        },
        {
          "output_type": "execute_result",
          "data": {
            "text/plain": [
              "<tensorflow.python.keras.callbacks.History at 0x7f47913dae10>"
            ]
          },
          "metadata": {
            "tags": []
          },
          "execution_count": 9
        }
      ]
    },
    {
      "cell_type": "code",
      "metadata": {
        "colab": {
          "base_uri": "https://localhost:8080/"
        },
        "id": "gKbgUDPg4Mz5",
        "outputId": "ab08daa6-e3ca-458b-a09f-bf42b2b92b74"
      },
      "source": [
        "model.predict([17.0])"
      ],
      "execution_count": 10,
      "outputs": [
        {
          "output_type": "execute_result",
          "data": {
            "text/plain": [
              "array([[12.716021]], dtype=float32)"
            ]
          },
          "metadata": {
            "tags": []
          },
          "execution_count": 10
        }
      ]
    },
    {
      "cell_type": "markdown",
      "metadata": {
        "id": "0BliqFmp4hRZ"
      },
      "source": [
        "#improving the model"
      ]
    },
    {
      "cell_type": "code",
      "metadata": {
        "colab": {
          "base_uri": "https://localhost:8080/"
        },
        "id": "hFHg5RE6LsAD",
        "outputId": "b820c564-e9ae-41e3-94cb-2d8bdf90acbb"
      },
      "source": [
        "#lets rebuild out model\n",
        "# 1. Create amodel\n",
        "model_imporve = tf.keras.Sequential([\n",
        "                                     tf.keras.layers.Dense(50,activation=None),\n",
        "                                     tf.keras.layers.Dense(1)\n",
        "                                     ])\n",
        "# 2. Comiple the model\n",
        "model_imporve.compile(loss=tf.keras.losses.mae,\n",
        "                      optimizer=tf.keras.optimizers.Adam(learning_rate=0.01),\n",
        "                      metrics=['mae'])\n",
        "#3. Fit the model\n",
        "model_imporve.fit(X,y,epochs=100)"
      ],
      "execution_count": 11,
      "outputs": [
        {
          "output_type": "stream",
          "text": [
            "Epoch 1/100\n",
            "1/1 [==============================] - 0s 335ms/step - loss: 14.6466 - mae: 14.6466\n",
            "Epoch 2/100\n",
            "1/1 [==============================] - 0s 7ms/step - loss: 13.9532 - mae: 13.9532\n",
            "Epoch 3/100\n",
            "1/1 [==============================] - 0s 5ms/step - loss: 13.2603 - mae: 13.2603\n",
            "Epoch 4/100\n",
            "1/1 [==============================] - 0s 2ms/step - loss: 12.5659 - mae: 12.5659\n",
            "Epoch 5/100\n",
            "1/1 [==============================] - 0s 5ms/step - loss: 11.8675 - mae: 11.8675\n",
            "Epoch 6/100\n",
            "1/1 [==============================] - 0s 4ms/step - loss: 11.1621 - mae: 11.1621\n",
            "Epoch 7/100\n",
            "1/1 [==============================] - 0s 4ms/step - loss: 10.4475 - mae: 10.4475\n",
            "Epoch 8/100\n",
            "1/1 [==============================] - 0s 5ms/step - loss: 9.7214 - mae: 9.7214\n",
            "Epoch 9/100\n",
            "1/1 [==============================] - 0s 3ms/step - loss: 8.9817 - mae: 8.9817\n",
            "Epoch 10/100\n",
            "1/1 [==============================] - 0s 5ms/step - loss: 8.2262 - mae: 8.2262\n",
            "Epoch 11/100\n",
            "1/1 [==============================] - 0s 4ms/step - loss: 7.4526 - mae: 7.4526\n",
            "Epoch 12/100\n",
            "1/1 [==============================] - 0s 6ms/step - loss: 6.6585 - mae: 6.6585\n",
            "Epoch 13/100\n",
            "1/1 [==============================] - 0s 4ms/step - loss: 6.6244 - mae: 6.6244\n",
            "Epoch 14/100\n",
            "1/1 [==============================] - 0s 4ms/step - loss: 6.9777 - mae: 6.9777\n",
            "Epoch 15/100\n",
            "1/1 [==============================] - 0s 5ms/step - loss: 7.2653 - mae: 7.2653\n",
            "Epoch 16/100\n",
            "1/1 [==============================] - 0s 4ms/step - loss: 7.4820 - mae: 7.4820\n",
            "Epoch 17/100\n",
            "1/1 [==============================] - 0s 5ms/step - loss: 7.4879 - mae: 7.4879\n",
            "Epoch 18/100\n",
            "1/1 [==============================] - 0s 4ms/step - loss: 7.3301 - mae: 7.3301\n",
            "Epoch 19/100\n",
            "1/1 [==============================] - 0s 6ms/step - loss: 7.0454 - mae: 7.0454\n",
            "Epoch 20/100\n",
            "1/1 [==============================] - 0s 4ms/step - loss: 6.7251 - mae: 6.7251\n",
            "Epoch 21/100\n",
            "1/1 [==============================] - 0s 5ms/step - loss: 6.4643 - mae: 6.4643\n",
            "Epoch 22/100\n",
            "1/1 [==============================] - 0s 6ms/step - loss: 6.1900 - mae: 6.1900\n",
            "Epoch 23/100\n",
            "1/1 [==============================] - 0s 6ms/step - loss: 5.9246 - mae: 5.9246\n",
            "Epoch 24/100\n",
            "1/1 [==============================] - 0s 4ms/step - loss: 5.8782 - mae: 5.8782\n",
            "Epoch 25/100\n",
            "1/1 [==============================] - 0s 6ms/step - loss: 5.8276 - mae: 5.8276\n",
            "Epoch 26/100\n",
            "1/1 [==============================] - 0s 5ms/step - loss: 5.9724 - mae: 5.9724\n",
            "Epoch 27/100\n",
            "1/1 [==============================] - 0s 6ms/step - loss: 6.0130 - mae: 6.0130\n",
            "Epoch 28/100\n",
            "1/1 [==============================] - 0s 4ms/step - loss: 5.9583 - mae: 5.9583\n",
            "Epoch 29/100\n",
            "1/1 [==============================] - 0s 5ms/step - loss: 5.8190 - mae: 5.8190\n",
            "Epoch 30/100\n",
            "1/1 [==============================] - 0s 4ms/step - loss: 5.6030 - mae: 5.6030\n",
            "Epoch 31/100\n",
            "1/1 [==============================] - 0s 7ms/step - loss: 5.3433 - mae: 5.3433\n",
            "Epoch 32/100\n",
            "1/1 [==============================] - 0s 4ms/step - loss: 5.2352 - mae: 5.2352\n",
            "Epoch 33/100\n",
            "1/1 [==============================] - 0s 4ms/step - loss: 5.1239 - mae: 5.1239\n",
            "Epoch 34/100\n",
            "1/1 [==============================] - 0s 7ms/step - loss: 5.0746 - mae: 5.0746\n",
            "Epoch 35/100\n",
            "1/1 [==============================] - 0s 3ms/step - loss: 5.0523 - mae: 5.0523\n",
            "Epoch 36/100\n",
            "1/1 [==============================] - 0s 3ms/step - loss: 4.9871 - mae: 4.9871\n",
            "Epoch 37/100\n",
            "1/1 [==============================] - 0s 3ms/step - loss: 4.8824 - mae: 4.8824\n",
            "Epoch 38/100\n",
            "1/1 [==============================] - 0s 5ms/step - loss: 4.7409 - mae: 4.7409\n",
            "Epoch 39/100\n",
            "1/1 [==============================] - 0s 4ms/step - loss: 4.5658 - mae: 4.5658\n",
            "Epoch 40/100\n",
            "1/1 [==============================] - 0s 5ms/step - loss: 4.4020 - mae: 4.4020\n",
            "Epoch 41/100\n",
            "1/1 [==============================] - 0s 4ms/step - loss: 4.3009 - mae: 4.3009\n",
            "Epoch 42/100\n",
            "1/1 [==============================] - 0s 4ms/step - loss: 4.1923 - mae: 4.1923\n",
            "Epoch 43/100\n",
            "1/1 [==============================] - 0s 6ms/step - loss: 4.0760 - mae: 4.0760\n",
            "Epoch 44/100\n",
            "1/1 [==============================] - 0s 6ms/step - loss: 4.0086 - mae: 4.0086\n",
            "Epoch 45/100\n",
            "1/1 [==============================] - 0s 3ms/step - loss: 3.8364 - mae: 3.8364\n",
            "Epoch 46/100\n",
            "1/1 [==============================] - 0s 4ms/step - loss: 3.6514 - mae: 3.6514\n",
            "Epoch 47/100\n",
            "1/1 [==============================] - 0s 6ms/step - loss: 3.4858 - mae: 3.4858\n",
            "Epoch 48/100\n",
            "1/1 [==============================] - 0s 5ms/step - loss: 3.3568 - mae: 3.3568\n",
            "Epoch 49/100\n",
            "1/1 [==============================] - 0s 4ms/step - loss: 3.2428 - mae: 3.2428\n",
            "Epoch 50/100\n",
            "1/1 [==============================] - 0s 4ms/step - loss: 3.0760 - mae: 3.0760\n",
            "Epoch 51/100\n",
            "1/1 [==============================] - 0s 8ms/step - loss: 2.8591 - mae: 2.8591\n",
            "Epoch 52/100\n",
            "1/1 [==============================] - 0s 3ms/step - loss: 2.6501 - mae: 2.6501\n",
            "Epoch 53/100\n",
            "1/1 [==============================] - 0s 3ms/step - loss: 2.4760 - mae: 2.4760\n",
            "Epoch 54/100\n",
            "1/1 [==============================] - 0s 4ms/step - loss: 2.3457 - mae: 2.3457\n",
            "Epoch 55/100\n",
            "1/1 [==============================] - 0s 7ms/step - loss: 2.1065 - mae: 2.1065\n",
            "Epoch 56/100\n",
            "1/1 [==============================] - 0s 8ms/step - loss: 1.8523 - mae: 1.8523\n",
            "Epoch 57/100\n",
            "1/1 [==============================] - 0s 5ms/step - loss: 1.7208 - mae: 1.7208\n",
            "Epoch 58/100\n",
            "1/1 [==============================] - 0s 4ms/step - loss: 1.5507 - mae: 1.5507\n",
            "Epoch 59/100\n",
            "1/1 [==============================] - 0s 4ms/step - loss: 1.2700 - mae: 1.2700\n",
            "Epoch 60/100\n",
            "1/1 [==============================] - 0s 14ms/step - loss: 0.9323 - mae: 0.9323\n",
            "Epoch 61/100\n",
            "1/1 [==============================] - 0s 4ms/step - loss: 0.8599 - mae: 0.8599\n",
            "Epoch 62/100\n",
            "1/1 [==============================] - 0s 4ms/step - loss: 0.6865 - mae: 0.6865\n",
            "Epoch 63/100\n",
            "1/1 [==============================] - 0s 4ms/step - loss: 0.3405 - mae: 0.3405\n",
            "Epoch 64/100\n",
            "1/1 [==============================] - 0s 4ms/step - loss: 0.1659 - mae: 0.1659\n",
            "Epoch 65/100\n",
            "1/1 [==============================] - 0s 7ms/step - loss: 0.4224 - mae: 0.4224\n",
            "Epoch 66/100\n",
            "1/1 [==============================] - 0s 6ms/step - loss: 0.4802 - mae: 0.4802\n",
            "Epoch 67/100\n",
            "1/1 [==============================] - 0s 6ms/step - loss: 0.6473 - mae: 0.6473\n",
            "Epoch 68/100\n",
            "1/1 [==============================] - 0s 3ms/step - loss: 0.6601 - mae: 0.6601\n",
            "Epoch 69/100\n",
            "1/1 [==============================] - 0s 4ms/step - loss: 0.7372 - mae: 0.7372\n",
            "Epoch 70/100\n",
            "1/1 [==============================] - 0s 29ms/step - loss: 0.7022 - mae: 0.7022\n",
            "Epoch 71/100\n",
            "1/1 [==============================] - 0s 4ms/step - loss: 0.6318 - mae: 0.6318\n",
            "Epoch 72/100\n",
            "1/1 [==============================] - 0s 5ms/step - loss: 0.6151 - mae: 0.6151\n",
            "Epoch 73/100\n",
            "1/1 [==============================] - 0s 9ms/step - loss: 0.4329 - mae: 0.4329\n",
            "Epoch 74/100\n",
            "1/1 [==============================] - 0s 4ms/step - loss: 0.4277 - mae: 0.4277\n",
            "Epoch 75/100\n",
            "1/1 [==============================] - 0s 5ms/step - loss: 0.3097 - mae: 0.3097\n",
            "Epoch 76/100\n",
            "1/1 [==============================] - 0s 4ms/step - loss: 0.0356 - mae: 0.0356\n",
            "Epoch 77/100\n",
            "1/1 [==============================] - 0s 8ms/step - loss: 0.4880 - mae: 0.4880\n",
            "Epoch 78/100\n",
            "1/1 [==============================] - 0s 3ms/step - loss: 0.6479 - mae: 0.6479\n",
            "Epoch 79/100\n",
            "1/1 [==============================] - 0s 4ms/step - loss: 0.6174 - mae: 0.6174\n",
            "Epoch 80/100\n",
            "1/1 [==============================] - 0s 4ms/step - loss: 0.4529 - mae: 0.4529\n",
            "Epoch 81/100\n",
            "1/1 [==============================] - 0s 4ms/step - loss: 0.6294 - mae: 0.6294\n",
            "Epoch 82/100\n",
            "1/1 [==============================] - 0s 7ms/step - loss: 0.7850 - mae: 0.7850\n",
            "Epoch 83/100\n",
            "1/1 [==============================] - 0s 5ms/step - loss: 0.6653 - mae: 0.6653\n",
            "Epoch 84/100\n",
            "1/1 [==============================] - 0s 6ms/step - loss: 0.3935 - mae: 0.3935\n",
            "Epoch 85/100\n",
            "1/1 [==============================] - 0s 14ms/step - loss: 0.5590 - mae: 0.5590\n",
            "Epoch 86/100\n",
            "1/1 [==============================] - 0s 7ms/step - loss: 0.6263 - mae: 0.6263\n",
            "Epoch 87/100\n",
            "1/1 [==============================] - 0s 5ms/step - loss: 0.5316 - mae: 0.5316\n",
            "Epoch 88/100\n",
            "1/1 [==============================] - 0s 6ms/step - loss: 0.2161 - mae: 0.2161\n",
            "Epoch 89/100\n",
            "1/1 [==============================] - 0s 6ms/step - loss: 0.3441 - mae: 0.3441\n",
            "Epoch 90/100\n",
            "1/1 [==============================] - 0s 5ms/step - loss: 0.5325 - mae: 0.5325\n",
            "Epoch 91/100\n",
            "1/1 [==============================] - 0s 11ms/step - loss: 0.4389 - mae: 0.4389\n",
            "Epoch 92/100\n",
            "1/1 [==============================] - 0s 5ms/step - loss: 0.2560 - mae: 0.2560\n",
            "Epoch 93/100\n",
            "1/1 [==============================] - 0s 6ms/step - loss: 0.5795 - mae: 0.5795\n",
            "Epoch 94/100\n",
            "1/1 [==============================] - 0s 10ms/step - loss: 0.7585 - mae: 0.7585\n",
            "Epoch 95/100\n",
            "1/1 [==============================] - 0s 6ms/step - loss: 0.6773 - mae: 0.6773\n",
            "Epoch 96/100\n",
            "1/1 [==============================] - 0s 7ms/step - loss: 0.3691 - mae: 0.3691\n",
            "Epoch 97/100\n",
            "1/1 [==============================] - 0s 5ms/step - loss: 0.3135 - mae: 0.3135\n",
            "Epoch 98/100\n",
            "1/1 [==============================] - 0s 5ms/step - loss: 0.5528 - mae: 0.5528\n",
            "Epoch 99/100\n",
            "1/1 [==============================] - 0s 9ms/step - loss: 0.5451 - mae: 0.5451\n",
            "Epoch 100/100\n",
            "1/1 [==============================] - 0s 5ms/step - loss: 0.2902 - mae: 0.2902\n"
          ],
          "name": "stdout"
        },
        {
          "output_type": "execute_result",
          "data": {
            "text/plain": [
              "<tensorflow.python.keras.callbacks.History at 0x7f478b466590>"
            ]
          },
          "metadata": {
            "tags": []
          },
          "execution_count": 11
        }
      ]
    },
    {
      "cell_type": "code",
      "metadata": {
        "colab": {
          "base_uri": "https://localhost:8080/"
        },
        "id": "NpS7eG91Oub-",
        "outputId": "58cbe403-cd3d-44e0-d4bd-3297bd8ed2f8"
      },
      "source": [
        "model_imporve.predict([17.0])"
      ],
      "execution_count": 12,
      "outputs": [
        {
          "output_type": "execute_result",
          "data": {
            "text/plain": [
              "array([[26.434414]], dtype=float32)"
            ]
          },
          "metadata": {
            "tags": []
          },
          "execution_count": 12
        }
      ]
    },
    {
      "cell_type": "markdown",
      "metadata": {
        "id": "mbEcRU3iegjg"
      },
      "source": [
        "Evaluating a model"
      ]
    },
    {
      "cell_type": "markdown",
      "metadata": {
        "id": "DK-weJyCekqK"
      },
      "source": [
        "1. Creating more data "
      ]
    },
    {
      "cell_type": "code",
      "metadata": {
        "colab": {
          "base_uri": "https://localhost:8080/"
        },
        "id": "sXp3uO9lerzA",
        "outputId": "93a2a82d-a721-41a9-9df6-c793a8938f83"
      },
      "source": [
        "X = tf.range(-100,100,4)\n",
        "X"
      ],
      "execution_count": 13,
      "outputs": [
        {
          "output_type": "execute_result",
          "data": {
            "text/plain": [
              "<tf.Tensor: shape=(50,), dtype=int32, numpy=\n",
              "array([-100,  -96,  -92,  -88,  -84,  -80,  -76,  -72,  -68,  -64,  -60,\n",
              "        -56,  -52,  -48,  -44,  -40,  -36,  -32,  -28,  -24,  -20,  -16,\n",
              "        -12,   -8,   -4,    0,    4,    8,   12,   16,   20,   24,   28,\n",
              "         32,   36,   40,   44,   48,   52,   56,   60,   64,   68,   72,\n",
              "         76,   80,   84,   88,   92,   96], dtype=int32)>"
            ]
          },
          "metadata": {
            "tags": []
          },
          "execution_count": 13
        }
      ]
    },
    {
      "cell_type": "code",
      "metadata": {
        "colab": {
          "base_uri": "https://localhost:8080/"
        },
        "id": "KX-3-hAMe0uE",
        "outputId": "3d49b16d-2645-40ef-9817-7bd8d914d45c"
      },
      "source": [
        "y = X + 10\n",
        "y"
      ],
      "execution_count": 14,
      "outputs": [
        {
          "output_type": "execute_result",
          "data": {
            "text/plain": [
              "<tf.Tensor: shape=(50,), dtype=int32, numpy=\n",
              "array([-90, -86, -82, -78, -74, -70, -66, -62, -58, -54, -50, -46, -42,\n",
              "       -38, -34, -30, -26, -22, -18, -14, -10,  -6,  -2,   2,   6,  10,\n",
              "        14,  18,  22,  26,  30,  34,  38,  42,  46,  50,  54,  58,  62,\n",
              "        66,  70,  74,  78,  82,  86,  90,  94,  98, 102, 106], dtype=int32)>"
            ]
          },
          "metadata": {
            "tags": []
          },
          "execution_count": 14
        }
      ]
    },
    {
      "cell_type": "code",
      "metadata": {
        "colab": {
          "base_uri": "https://localhost:8080/",
          "height": 281
        },
        "id": "BRFB2KPee5as",
        "outputId": "4792e818-3e61-4ba5-823f-d5deb691ad7e"
      },
      "source": [
        "# visualize the data \n",
        "import matplotlib.pyplot as plt\n",
        "plt.scatter(X,y)"
      ],
      "execution_count": 15,
      "outputs": [
        {
          "output_type": "execute_result",
          "data": {
            "text/plain": [
              "<matplotlib.collections.PathCollection at 0x7f4789e107d0>"
            ]
          },
          "metadata": {
            "tags": []
          },
          "execution_count": 15
        },
        {
          "output_type": "display_data",
          "data": {
            "image/png": "[encoded data removed]",
            "text/plain": [
              "<Figure size 432x288 with 1 Axes>"
            ]
          },
          "metadata": {
            "tags": [],
            "needs_background": "light"
          }
        }
      ]
    },
    {
      "cell_type": "markdown",
      "metadata": {
        "id": "EBNxopQ_idZq"
      },
      "source": [
        "#split the data in Training and  Testing format.\n",
        "* Training data is usually 80% of data\n",
        "* Testing data is usually 20% of data for testing the model \n"
      ]
    },
    {
      "cell_type": "code",
      "metadata": {
        "id": "4Ve2-nA7i06X"
      },
      "source": [
        "X_train = X[:40]\n",
        "X_test = X[40:]\n",
        "\n",
        "y_train =y[:40]\n",
        "y_test =y[40:]\n"
      ],
      "execution_count": 16,
      "outputs": []
    },
    {
      "cell_type": "code",
      "metadata": {
        "colab": {
          "base_uri": "https://localhost:8080/",
          "height": 445
        },
        "id": "IU9UcGlQjIfR",
        "outputId": "a7200fcb-e880-4cb7-8d11-c3c7601e99a4"
      },
      "source": [
        "#visualize the training and test data\n",
        "\n",
        "plt.figure(figsize=(10,7))\n",
        "plt.scatter(X_train,y_train,c=\"b\", label=\"Training Data\")\n",
        "plt.scatter(X_test,y_test,c=\"g\", label =\" Testing Data\")\n",
        "plt.legend()"
      ],
      "execution_count": 17,
      "outputs": [
        {
          "output_type": "execute_result",
          "data": {
            "text/plain": [
              "<matplotlib.legend.Legend at 0x7f4789578790>"
            ]
          },
          "metadata": {
            "tags": []
          },
          "execution_count": 17
        },
        {
          "output_type": "display_data",
          "data": {
            "image/png": "[encoded data removed]",
            "text/plain": [
              "<Figure size 720x504 with 1 Axes>"
            ]
          },
          "metadata": {
            "tags": [],
            "needs_background": "light"
          }
        }
      ]
    },
    {
      "cell_type": "code",
      "metadata": {
        "colab": {
          "base_uri": "https://localhost:8080/"
        },
        "id": "Wwd2_0hFkCYr",
        "outputId": "98591c4b-0625-4aef-a8cf-f13a2a1ab43b"
      },
      "source": [
        "# 1. Create a model\n",
        "\n",
        "model_huge = tf.keras.Sequential([\n",
        "                                  tf.keras.layers.Dense(10,name=\"input_layer\"),\n",
        "                                  tf.keras.layers.Dense(1,name=\"output_layer\"),\n",
        "                                \n",
        "],name=\"huge_model\")\n",
        "\n",
        "#2. Compile the model\n",
        "model_huge.compile(loss=tf.keras.losses.mae,\n",
        "                   optimizer = tf.keras.optimizers.Adam(learning_rate=0.01),\n",
        "                   metrics=[\"mae\"]\n",
        ")\n",
        "\n",
        "#3. Fit the model\n",
        "\n",
        "model_huge.fit(X_train,y_train, epochs =100, verbose=0)\n",
        "model_huge.summary()"
      ],
      "execution_count": 18,
      "outputs": [
        {
          "output_type": "stream",
          "text": [
            "Model: \"huge_model\"\n",
            "_________________________________________________________________\n",
            "Layer (type)                 Output Shape              Param #   \n",
            "=================================================================\n",
            "input_layer (Dense)          (None, 10)                20        \n",
            "_________________________________________________________________\n",
            "output_layer (Dense)         (None, 1)                 11        \n",
            "=================================================================\n",
            "Total params: 31\n",
            "Trainable params: 31\n",
            "Non-trainable params: 0\n",
            "_________________________________________________________________\n"
          ],
          "name": "stdout"
        }
      ]
    },
    {
      "cell_type": "code",
      "metadata": {
        "colab": {
          "base_uri": "https://localhost:8080/",
          "height": 312
        },
        "id": "TtC7PU88cq0x",
        "outputId": "28901172-5c0e-422f-a2bc-fe772722ba52"
      },
      "source": [
        "from tensorflow.keras.utils import plot_model\n",
        "plot_model(model=model_huge, show_shapes=True)"
      ],
      "execution_count": 19,
      "outputs": [
        {
          "output_type": "execute_result",
          "data": {
            "image/png": "[encoded data removed]",
            "text/plain": [
              "<IPython.core.display.Image object>"
            ]
          },
          "metadata": {
            "tags": []
          },
          "execution_count": 19
        }
      ]
    },
    {
      "cell_type": "markdown",
      "metadata": {
        "id": "4HnXHZ51Wbbf"
      },
      "source": [
        "## Visualizing our models predictions"
      ]
    },
    {
      "cell_type": "code",
      "metadata": {
        "colab": {
          "base_uri": "https://localhost:8080/"
        },
        "id": "MFnMvPz5Wvqm",
        "outputId": "9ea1a098-8314-446b-a871-508823bd1732"
      },
      "source": [
        "y_pred = model_huge.predict(X_test)\n",
        "y_pred"
      ],
      "execution_count": 20,
      "outputs": [
        {
          "output_type": "execute_result",
          "data": {
            "text/plain": [
              "array([[ 69.868454],\n",
              "       [ 73.85556 ],\n",
              "       [ 77.84266 ],\n",
              "       [ 81.829765],\n",
              "       [ 85.816864],\n",
              "       [ 89.80397 ],\n",
              "       [ 93.79108 ],\n",
              "       [ 97.778175],\n",
              "       [101.76529 ],\n",
              "       [105.752396]], dtype=float32)"
            ]
          },
          "metadata": {
            "tags": []
          },
          "execution_count": 20
        }
      ]
    },
    {
      "cell_type": "code",
      "metadata": {
        "colab": {
          "base_uri": "https://localhost:8080/"
        },
        "id": "Dqxu54_TXHEP",
        "outputId": "5fa29907-2ca8-42e0-cf20-8882dea27924"
      },
      "source": [
        "y_test"
      ],
      "execution_count": 21,
      "outputs": [
        {
          "output_type": "execute_result",
          "data": {
            "text/plain": [
              "<tf.Tensor: shape=(10,), dtype=int32, numpy=array([ 70,  74,  78,  82,  86,  90,  94,  98, 102, 106], dtype=int32)>"
            ]
          },
          "metadata": {
            "tags": []
          },
          "execution_count": 21
        }
      ]
    },
    {
      "cell_type": "code",
      "metadata": {
        "id": "5YE3Cv4jXJKg"
      },
      "source": [
        "# Lets create a plotting function\n",
        "def plot_predictions(train_data = X_train,\n",
        "                     train_labels = y_train,\n",
        "                     test_data = X_test,\n",
        "                     test_labels = y_test,\n",
        "                     predictions = y_pred):\n",
        "  plt.figure(figsize=(10,7))\n",
        "  plt.scatter(train_data,train_labels,c=\"b\", label=\"Training Data\")\n",
        "  plt.scatter(test_data,test_labels,c=\"g\", label=\"Testing Data\")\n",
        "  plt.scatter(test_data,predictions,c=\"r\", label=\"Predictions\")\n",
        "  plt.legend();\n",
        "\n"
      ],
      "execution_count": 22,
      "outputs": []
    },
    {
      "cell_type": "code",
      "metadata": {
        "colab": {
          "base_uri": "https://localhost:8080/",
          "height": 428
        },
        "id": "BlmdTtSDYv_m",
        "outputId": "fcddb132-59ec-439e-d7cc-0116be527851"
      },
      "source": [
        "plot_predictions(train_data = X_train,\n",
        "                     train_labels = y_train,\n",
        "                     test_data = X_test,\n",
        "                     test_labels = y_test,\n",
        "                     predictions = y_pred)"
      ],
      "execution_count": 23,
      "outputs": [
        {
          "output_type": "display_data",
          "data": {
            "image/png": "[encoded data removed]",
            "text/plain": [
              "<Figure size 720x504 with 1 Axes>"
            ]
          },
          "metadata": {
            "tags": [],
            "needs_background": "light"
          }
        }
      ]
    },
    {
      "cell_type": "markdown",
      "metadata": {
        "id": "5yHQ0NEwa1nt"
      },
      "source": [
        "## Evaluating our models prediction with regression evaluation metrics"
      ]
    },
    {
      "cell_type": "code",
      "metadata": {
        "colab": {
          "base_uri": "https://localhost:8080/"
        },
        "id": "c8NwoFhobM2m",
        "outputId": "b40a91de-6e9e-4c61-b19c-0c106c86b774"
      },
      "source": [
        "model_huge.evaluate(X_test,y_test)"
      ],
      "execution_count": 24,
      "outputs": [
        {
          "output_type": "stream",
          "text": [
            "1/1 [==============================] - 0s 112ms/step - loss: 0.1896 - mae: 0.1896\n"
          ],
          "name": "stdout"
        },
        {
          "output_type": "execute_result",
          "data": {
            "text/plain": [
              "[0.18958130478858948, 0.18958130478858948]"
            ]
          },
          "metadata": {
            "tags": []
          },
          "execution_count": 24
        }
      ]
    },
    {
      "cell_type": "code",
      "metadata": {
        "id": "TTnCyHDjnluC"
      },
      "source": [
        "#Convert the y_pred to tensor\n",
        "\n",
        "y_test, y_pred\n",
        "\n",
        "y_pred=tf.squeeze(tf.constant(y_pred))"
      ],
      "execution_count": 25,
      "outputs": []
    },
    {
      "cell_type": "code",
      "metadata": {
        "colab": {
          "base_uri": "https://localhost:8080/"
        },
        "id": "eUoHRQqC-H_X",
        "outputId": "a07964b0-8fb5-40bd-b268-8101052c9153"
      },
      "source": [
        "mae_1 = tf.metrics.mean_absolute_error(y_true=y_test,y_pred=y_pred)\n",
        "mae_1"
      ],
      "execution_count": 26,
      "outputs": [
        {
          "output_type": "execute_result",
          "data": {
            "text/plain": [
              "<tf.Tensor: shape=(), dtype=float32, numpy=0.18957901>"
            ]
          },
          "metadata": {
            "tags": []
          },
          "execution_count": 26
        }
      ]
    },
    {
      "cell_type": "code",
      "metadata": {
        "colab": {
          "base_uri": "https://localhost:8080/"
        },
        "id": "JQMGYNhU-a4R",
        "outputId": "6f5dc5ca-060e-4f83-a0df-7a63dc03bc69"
      },
      "source": [
        "mse_1 = tf.metrics.mean_squared_error(y_true=y_test, y_pred=y_pred)\n",
        "mse_1"
      ],
      "execution_count": 27,
      "outputs": [
        {
          "output_type": "execute_result",
          "data": {
            "text/plain": [
              "<tf.Tensor: shape=(), dtype=float32, numpy=0.03731218>"
            ]
          },
          "metadata": {
            "tags": []
          },
          "execution_count": 27
        }
      ]
    },
    {
      "cell_type": "markdown",
      "metadata": {
        "id": "PRoXxGYR_EYG"
      },
      "source": [
        "#lets make function for mae and mse"
      ]
    },
    {
      "cell_type": "code",
      "metadata": {
        "id": "uQFXiA13_H3V"
      },
      "source": [
        "def mae(y_true, y_pred):\n",
        "  return tf.metrics.mean_absolute_error(y_true=y_true, \n",
        "                                        y_pred=y_pred)\n",
        "def mse(y_true, y_pred):\n",
        "  return tf.metrics.mean_squared_error(y_true=y_true, y_pred=y_pred)\n",
        "  "
      ],
      "execution_count": 28,
      "outputs": []
    },
    {
      "cell_type": "code",
      "metadata": {
        "colab": {
          "base_uri": "https://localhost:8080/"
        },
        "id": "UKYrU8neYNCc",
        "outputId": "fa42dca3-887d-492e-abcc-a822b2a7deb8"
      },
      "source": [
        "# Create a new improvement model with more epochs\n",
        "#1.Create model\n",
        "model_im_1 = tf.keras.Sequential([\n",
        "                                  tf.keras.layers.Dense(50),\n",
        "                                  tf.keras.layers.Dense(1)\n",
        "],name=\"model_improvement_1\")\n",
        "\n",
        "model_im_1.compile(loss=tf.keras.losses.mae,\n",
        "                   optimizer = tf.keras.optimizers.SGD(),\n",
        "                   metrics=[\"mse\"])\n",
        "model_im_1.fit(X_train,y_train, epochs=100)\n",
        "model_im_1.summary()"
      ],
      "execution_count": 29,
      "outputs": [
        {
          "output_type": "stream",
          "text": [
            "Epoch 1/100\n",
            "2/2 [==============================] - 0s 6ms/step - loss: 38.5823 - mse: 2061.5188\n",
            "Epoch 2/100\n",
            "2/2 [==============================] - 0s 7ms/step - loss: 30.0540 - mse: 1181.2529\n",
            "Epoch 3/100\n",
            "2/2 [==============================] - 0s 4ms/step - loss: 34.5847 - mse: 1817.3695\n",
            "Epoch 4/100\n",
            "2/2 [==============================] - 0s 9ms/step - loss: 30.0421 - mse: 1336.4307\n",
            "Epoch 5/100\n",
            "2/2 [==============================] - 0s 5ms/step - loss: 15.3319 - mse: 299.9452\n",
            "Epoch 6/100\n",
            "2/2 [==============================] - 0s 4ms/step - loss: 12.1783 - mse: 183.1089\n",
            "Epoch 7/100\n",
            "2/2 [==============================] - 0s 7ms/step - loss: 11.4819 - mse: 160.4214\n",
            "Epoch 8/100\n",
            "2/2 [==============================] - 0s 4ms/step - loss: 11.2175 - mse: 175.3141\n",
            "Epoch 9/100\n",
            "2/2 [==============================] - 0s 3ms/step - loss: 41.8776 - mse: 2796.3372\n",
            "Epoch 10/100\n",
            "2/2 [==============================] - 0s 6ms/step - loss: 29.0908 - mse: 1196.5226\n",
            "Epoch 11/100\n",
            "2/2 [==============================] - 0s 3ms/step - loss: 8.5590 - mse: 96.3929\n",
            "Epoch 12/100\n",
            "2/2 [==============================] - 0s 4ms/step - loss: 27.4058 - mse: 1032.7471\n",
            "Epoch 13/100\n",
            "2/2 [==============================] - 0s 4ms/step - loss: 12.1490 - mse: 176.7777\n",
            "Epoch 14/100\n",
            "2/2 [==============================] - 0s 5ms/step - loss: 35.0362 - mse: 2020.7500\n",
            "Epoch 15/100\n",
            "2/2 [==============================] - 0s 3ms/step - loss: 22.8252 - mse: 741.0702\n",
            "Epoch 16/100\n",
            "2/2 [==============================] - 0s 3ms/step - loss: 9.9804 - mse: 124.8466\n",
            "Epoch 17/100\n",
            "2/2 [==============================] - 0s 3ms/step - loss: 18.4021 - mse: 451.7806\n",
            "Epoch 18/100\n",
            "2/2 [==============================] - 0s 3ms/step - loss: 11.2963 - mse: 195.0274\n",
            "Epoch 19/100\n",
            "2/2 [==============================] - 0s 6ms/step - loss: 13.8328 - mse: 297.1926\n",
            "Epoch 20/100\n",
            "2/2 [==============================] - 0s 5ms/step - loss: 11.1499 - mse: 145.8904\n",
            "Epoch 21/100\n",
            "2/2 [==============================] - 0s 4ms/step - loss: 17.1443 - mse: 415.1303\n",
            "Epoch 22/100\n",
            "2/2 [==============================] - 0s 4ms/step - loss: 15.3828 - mse: 325.4500\n",
            "Epoch 23/100\n",
            "2/2 [==============================] - 0s 3ms/step - loss: 9.2463 - mse: 118.5424\n",
            "Epoch 24/100\n",
            "2/2 [==============================] - 0s 3ms/step - loss: 17.3148 - mse: 411.5364\n",
            "Epoch 25/100\n",
            "2/2 [==============================] - 0s 8ms/step - loss: 15.9730 - mse: 335.6400\n",
            "Epoch 26/100\n",
            "2/2 [==============================] - 0s 5ms/step - loss: 21.0137 - mse: 653.3446\n",
            "Epoch 27/100\n",
            "2/2 [==============================] - 0s 4ms/step - loss: 25.7774 - mse: 1034.9442\n",
            "Epoch 28/100\n",
            "2/2 [==============================] - 0s 4ms/step - loss: 18.2996 - mse: 529.6815\n",
            "Epoch 29/100\n",
            "2/2 [==============================] - 0s 3ms/step - loss: 9.2350 - mse: 98.4629\n",
            "Epoch 30/100\n",
            "2/2 [==============================] - 0s 4ms/step - loss: 28.9058 - mse: 1487.7366\n",
            "Epoch 31/100\n",
            "2/2 [==============================] - 0s 5ms/step - loss: 52.3335 - mse: 4894.1245\n",
            "Epoch 32/100\n",
            "2/2 [==============================] - 0s 4ms/step - loss: 11.8522 - mse: 202.2743\n",
            "Epoch 33/100\n",
            "2/2 [==============================] - 0s 7ms/step - loss: 15.3991 - mse: 326.3807\n",
            "Epoch 34/100\n",
            "2/2 [==============================] - 0s 9ms/step - loss: 12.5264 - mse: 205.4082\n",
            "Epoch 35/100\n",
            "2/2 [==============================] - 0s 3ms/step - loss: 9.1632 - mse: 90.6474\n",
            "Epoch 36/100\n",
            "2/2 [==============================] - 0s 4ms/step - loss: 16.3594 - mse: 388.5118\n",
            "Epoch 37/100\n",
            "2/2 [==============================] - 0s 6ms/step - loss: 11.1139 - mse: 192.0904\n",
            "Epoch 38/100\n",
            "2/2 [==============================] - 0s 3ms/step - loss: 18.2465 - mse: 439.4378\n",
            "Epoch 39/100\n",
            "2/2 [==============================] - 0s 6ms/step - loss: 19.1744 - mse: 536.6580\n",
            "Epoch 40/100\n",
            "2/2 [==============================] - 0s 4ms/step - loss: 20.5664 - mse: 617.6783\n",
            "Epoch 41/100\n",
            "2/2 [==============================] - 0s 7ms/step - loss: 14.7351 - mse: 270.7925\n",
            "Epoch 42/100\n",
            "2/2 [==============================] - 0s 4ms/step - loss: 12.1485 - mse: 179.2370\n",
            "Epoch 43/100\n",
            "2/2 [==============================] - 0s 4ms/step - loss: 10.6696 - mse: 160.5603\n",
            "Epoch 44/100\n",
            "2/2 [==============================] - 0s 3ms/step - loss: 32.1058 - mse: 1693.6031\n",
            "Epoch 45/100\n",
            "2/2 [==============================] - 0s 5ms/step - loss: 12.4189 - mse: 198.8683\n",
            "Epoch 46/100\n",
            "2/2 [==============================] - 0s 4ms/step - loss: 17.3906 - mse: 452.9273\n",
            "Epoch 47/100\n",
            "2/2 [==============================] - 0s 6ms/step - loss: 15.7990 - mse: 340.9338\n",
            "Epoch 48/100\n",
            "2/2 [==============================] - 0s 4ms/step - loss: 8.3992 - mse: 112.8466\n",
            "Epoch 49/100\n",
            "2/2 [==============================] - 0s 4ms/step - loss: 14.2539 - mse: 284.3045\n",
            "Epoch 50/100\n",
            "2/2 [==============================] - 0s 4ms/step - loss: 15.1856 - mse: 309.6557\n",
            "Epoch 51/100\n",
            "2/2 [==============================] - 0s 7ms/step - loss: 13.6962 - mse: 257.1215\n",
            "Epoch 52/100\n",
            "2/2 [==============================] - 0s 4ms/step - loss: 18.1097 - mse: 462.9853\n",
            "Epoch 53/100\n",
            "2/2 [==============================] - 0s 3ms/step - loss: 22.7778 - mse: 749.5880\n",
            "Epoch 54/100\n",
            "2/2 [==============================] - 0s 4ms/step - loss: 26.7840 - mse: 1104.3385\n",
            "Epoch 55/100\n",
            "2/2 [==============================] - 0s 5ms/step - loss: 26.4149 - mse: 1060.7009\n",
            "Epoch 56/100\n",
            "2/2 [==============================] - 0s 12ms/step - loss: 11.3480 - mse: 171.8195\n",
            "Epoch 57/100\n",
            "2/2 [==============================] - 0s 6ms/step - loss: 13.3695 - mse: 225.7541\n",
            "Epoch 58/100\n",
            "2/2 [==============================] - 0s 7ms/step - loss: 9.9529 - mse: 109.6210\n",
            "Epoch 59/100\n",
            "2/2 [==============================] - 0s 3ms/step - loss: 13.9264 - mse: 276.2485\n",
            "Epoch 60/100\n",
            "2/2 [==============================] - 0s 6ms/step - loss: 9.9953 - mse: 118.8247\n",
            "Epoch 61/100\n",
            "2/2 [==============================] - 0s 3ms/step - loss: 14.9828 - mse: 308.6936\n",
            "Epoch 62/100\n",
            "2/2 [==============================] - 0s 3ms/step - loss: 11.9323 - mse: 197.0167\n",
            "Epoch 63/100\n",
            "2/2 [==============================] - 0s 8ms/step - loss: 10.2905 - mse: 135.2395\n",
            "Epoch 64/100\n",
            "2/2 [==============================] - 0s 3ms/step - loss: 23.9071 - mse: 840.0677\n",
            "Epoch 65/100\n",
            "2/2 [==============================] - 0s 3ms/step - loss: 10.4672 - mse: 130.4158\n",
            "Epoch 66/100\n",
            "2/2 [==============================] - 0s 3ms/step - loss: 20.9506 - mse: 645.6801\n",
            "Epoch 67/100\n",
            "2/2 [==============================] - 0s 8ms/step - loss: 10.4465 - mse: 126.4661\n",
            "Epoch 68/100\n",
            "2/2 [==============================] - 0s 3ms/step - loss: 14.1889 - mse: 303.1395\n",
            "Epoch 69/100\n",
            "2/2 [==============================] - 0s 3ms/step - loss: 10.5190 - mse: 126.1667\n",
            "Epoch 70/100\n",
            "2/2 [==============================] - 0s 4ms/step - loss: 12.5910 - mse: 201.1250\n",
            "Epoch 71/100\n",
            "2/2 [==============================] - 0s 4ms/step - loss: 13.0209 - mse: 226.3963\n",
            "Epoch 72/100\n",
            "2/2 [==============================] - 0s 3ms/step - loss: 19.3776 - mse: 532.8229\n",
            "Epoch 73/100\n",
            "2/2 [==============================] - 0s 4ms/step - loss: 11.1322 - mse: 193.1182\n",
            "Epoch 74/100\n",
            "2/2 [==============================] - 0s 3ms/step - loss: 21.6177 - mse: 726.6817\n",
            "Epoch 75/100\n",
            "2/2 [==============================] - 0s 5ms/step - loss: 7.2258 - mse: 71.5725\n",
            "Epoch 76/100\n",
            "2/2 [==============================] - 0s 6ms/step - loss: 9.4556 - mse: 149.0653\n",
            "Epoch 77/100\n",
            "2/2 [==============================] - 0s 4ms/step - loss: 22.1666 - mse: 733.4213\n",
            "Epoch 78/100\n",
            "2/2 [==============================] - 0s 3ms/step - loss: 17.4724 - mse: 464.0970\n",
            "Epoch 79/100\n",
            "2/2 [==============================] - 0s 3ms/step - loss: 14.7106 - mse: 316.6112\n",
            "Epoch 80/100\n",
            "2/2 [==============================] - 0s 3ms/step - loss: 24.7260 - mse: 935.4324\n",
            "Epoch 81/100\n",
            "2/2 [==============================] - 0s 5ms/step - loss: 11.5585 - mse: 165.4418\n",
            "Epoch 82/100\n",
            "2/2 [==============================] - 0s 9ms/step - loss: 12.3906 - mse: 226.0186\n",
            "Epoch 83/100\n",
            "2/2 [==============================] - 0s 10ms/step - loss: 17.0418 - mse: 377.6872\n",
            "Epoch 84/100\n",
            "2/2 [==============================] - 0s 3ms/step - loss: 7.2483 - mse: 75.3861\n",
            "Epoch 85/100\n",
            "2/2 [==============================] - 0s 5ms/step - loss: 37.3975 - mse: 2252.2263\n",
            "Epoch 86/100\n",
            "2/2 [==============================] - 0s 6ms/step - loss: 21.3566 - mse: 655.0575\n",
            "Epoch 87/100\n",
            "2/2 [==============================] - 0s 3ms/step - loss: 11.0725 - mse: 148.6847\n",
            "Epoch 88/100\n",
            "2/2 [==============================] - 0s 4ms/step - loss: 25.2307 - mse: 906.1785\n",
            "Epoch 89/100\n",
            "2/2 [==============================] - 0s 5ms/step - loss: 9.3982 - mse: 136.1499\n",
            "Epoch 90/100\n",
            "2/2 [==============================] - 0s 5ms/step - loss: 17.4842 - mse: 438.7144\n",
            "Epoch 91/100\n",
            "2/2 [==============================] - 0s 5ms/step - loss: 10.8471 - mse: 160.6373\n",
            "Epoch 92/100\n",
            "2/2 [==============================] - 0s 4ms/step - loss: 19.1721 - mse: 506.8831\n",
            "Epoch 93/100\n",
            "2/2 [==============================] - 0s 5ms/step - loss: 8.3552 - mse: 102.2547\n",
            "Epoch 94/100\n",
            "2/2 [==============================] - 0s 3ms/step - loss: 11.6004 - mse: 180.6667\n",
            "Epoch 95/100\n",
            "2/2 [==============================] - 0s 5ms/step - loss: 26.2157 - mse: 1043.7411\n",
            "Epoch 96/100\n",
            "2/2 [==============================] - 0s 4ms/step - loss: 11.2290 - mse: 170.0418\n",
            "Epoch 97/100\n",
            "2/2 [==============================] - 0s 3ms/step - loss: 16.8560 - mse: 433.7589\n",
            "Epoch 98/100\n",
            "2/2 [==============================] - 0s 5ms/step - loss: 6.6026 - mse: 60.8060\n",
            "Epoch 99/100\n",
            "2/2 [==============================] - 0s 5ms/step - loss: 12.5974 - mse: 229.6364\n",
            "Epoch 100/100\n",
            "2/2 [==============================] - 0s 9ms/step - loss: 19.3961 - mse: 552.4317\n",
            "Model: \"model_improvement_1\"\n",
            "_________________________________________________________________\n",
            "Layer (type)                 Output Shape              Param #   \n",
            "=================================================================\n",
            "dense_3 (Dense)              (None, 50)                100       \n",
            "_________________________________________________________________\n",
            "dense_4 (Dense)              (None, 1)                 51        \n",
            "=================================================================\n",
            "Total params: 151\n",
            "Trainable params: 151\n",
            "Non-trainable params: 0\n",
            "_________________________________________________________________\n"
          ],
          "name": "stdout"
        }
      ]
    },
    {
      "cell_type": "code",
      "metadata": {
        "colab": {
          "base_uri": "https://localhost:8080/",
          "height": 462
        },
        "id": "kDfbW7g7g9ZM",
        "outputId": "5fc629a7-ca20-411b-8dea-d98bedb7e48e"
      },
      "source": [
        "y_pred_model_im_1 = model_im_1.predict(X_test)\n",
        "plot_predictions(predictions=y_pred_model_im_1)\n",
        "mae_im1 = mae(y_test,y_pred=tf.squeeze(y_pred_model_im_1))\n",
        "mse_im1 = mse(y_test,y_pred=tf.squeeze(y_pred_model_im_1))\n",
        "mae_im1,mse_im1 "
      ],
      "execution_count": 30,
      "outputs": [
        {
          "output_type": "execute_result",
          "data": {
            "text/plain": [
              "(<tf.Tensor: shape=(), dtype=float32, numpy=13.30514>,\n",
              " <tf.Tensor: shape=(), dtype=float32, numpy=187.11227>)"
            ]
          },
          "metadata": {
            "tags": []
          },
          "execution_count": 30
        },
        {
          "output_type": "display_data",
          "data": {
            "image/png": "[encoded data removed]",
            "text/plain": [
              "<Figure size 720x504 with 1 Axes>"
            ]
          },
          "metadata": {
            "tags": [],
            "needs_background": "light"
          }
        }
      ]
    },
    {
      "cell_type": "code",
      "metadata": {
        "colab": {
          "base_uri": "https://localhost:8080/"
        },
        "id": "r6Iac0W4tgUg",
        "outputId": "a7384e26-8901-4208-877f-8ad32a444b37"
      },
      "source": [
        "# Create a model with 500 epochs\n",
        "\n",
        "model_im_2 = tf.keras.Sequential([\n",
        "                                  tf.keras.layers.Dense(50),\n",
        "                                  tf.keras.layers.Dense(1)\n",
        "])\n",
        "model_im_2.compile(loss=tf.keras.losses.mae,\n",
        "                   optimizer=tf.keras.optimizers.SGD(),\n",
        "                   metrics=[\"mse\"])\n",
        "model_im_2.fit(X_train,y_train,epochs=500)\n",
        "model.summary()"
      ],
      "execution_count": 31,
      "outputs": [
        {
          "output_type": "stream",
          "text": [
            "Epoch 1/500\n",
            "2/2 [==============================] - 0s 9ms/step - loss: 27.4863 - mse: 1358.1165\n",
            "Epoch 2/500\n",
            "2/2 [==============================] - 0s 5ms/step - loss: 24.9833 - mse: 878.3484\n",
            "Epoch 3/500\n",
            "2/2 [==============================] - 0s 3ms/step - loss: 29.9332 - mse: 1348.0040\n",
            "Epoch 4/500\n",
            "2/2 [==============================] - 0s 4ms/step - loss: 16.3894 - mse: 385.6161\n",
            "Epoch 5/500\n",
            "2/2 [==============================] - 0s 3ms/step - loss: 22.5929 - mse: 747.9679\n",
            "Epoch 6/500\n",
            "2/2 [==============================] - 0s 6ms/step - loss: 10.9811 - mse: 133.4425\n",
            "Epoch 7/500\n",
            "2/2 [==============================] - 0s 4ms/step - loss: 12.0116 - mse: 181.2243\n",
            "Epoch 8/500\n",
            "2/2 [==============================] - 0s 3ms/step - loss: 10.9151 - mse: 132.9997\n",
            "Epoch 9/500\n",
            "2/2 [==============================] - 0s 3ms/step - loss: 37.8055 - mse: 2201.5361\n",
            "Epoch 10/500\n",
            "2/2 [==============================] - 0s 5ms/step - loss: 25.4254 - mse: 907.2096\n",
            "Epoch 11/500\n",
            "2/2 [==============================] - 0s 3ms/step - loss: 10.2573 - mse: 147.6745\n",
            "Epoch 12/500\n",
            "2/2 [==============================] - 0s 4ms/step - loss: 25.3941 - mse: 898.4086\n",
            "Epoch 13/500\n",
            "2/2 [==============================] - 0s 5ms/step - loss: 16.9493 - mse: 397.5302\n",
            "Epoch 14/500\n",
            "2/2 [==============================] - 0s 2ms/step - loss: 25.8481 - mse: 1042.8611\n",
            "Epoch 15/500\n",
            "2/2 [==============================] - 0s 4ms/step - loss: 17.6774 - mse: 432.8918\n",
            "Epoch 16/500\n",
            "2/2 [==============================] - 0s 4ms/step - loss: 10.0803 - mse: 124.1935\n",
            "Epoch 17/500\n",
            "2/2 [==============================] - 0s 4ms/step - loss: 18.6802 - mse: 467.0157\n",
            "Epoch 18/500\n",
            "2/2 [==============================] - 0s 6ms/step - loss: 11.7986 - mse: 214.1149\n",
            "Epoch 19/500\n",
            "2/2 [==============================] - 0s 5ms/step - loss: 16.5210 - mse: 437.7364\n",
            "Epoch 20/500\n",
            "2/2 [==============================] - 0s 3ms/step - loss: 8.2386 - mse: 93.3044\n",
            "Epoch 21/500\n",
            "2/2 [==============================] - 0s 7ms/step - loss: 14.4069 - mse: 288.1172\n",
            "Epoch 22/500\n",
            "2/2 [==============================] - 0s 5ms/step - loss: 12.8194 - mse: 245.3365\n",
            "Epoch 23/500\n",
            "2/2 [==============================] - 0s 9ms/step - loss: 15.4581 - mse: 314.5667\n",
            "Epoch 24/500\n",
            "2/2 [==============================] - 0s 3ms/step - loss: 15.2467 - mse: 315.2796\n",
            "Epoch 25/500\n",
            "2/2 [==============================] - 0s 3ms/step - loss: 14.3271 - mse: 272.5088\n",
            "Epoch 26/500\n",
            "2/2 [==============================] - 0s 3ms/step - loss: 19.3197 - mse: 566.5138\n",
            "Epoch 27/500\n",
            "2/2 [==============================] - 0s 4ms/step - loss: 11.4662 - mse: 170.1912\n",
            "Epoch 28/500\n",
            "2/2 [==============================] - 0s 5ms/step - loss: 29.1811 - mse: 1384.5367\n",
            "Epoch 29/500\n",
            "2/2 [==============================] - 0s 4ms/step - loss: 9.2524 - mse: 94.2803\n",
            "Epoch 30/500\n",
            "2/2 [==============================] - 0s 3ms/step - loss: 29.8984 - mse: 1621.0911\n",
            "Epoch 31/500\n",
            "2/2 [==============================] - 0s 3ms/step - loss: 54.2616 - mse: 5275.6084\n",
            "Epoch 32/500\n",
            "2/2 [==============================] - 0s 4ms/step - loss: 9.5858 - mse: 101.3382\n",
            "Epoch 33/500\n",
            "2/2 [==============================] - 0s 5ms/step - loss: 12.1800 - mse: 182.2806\n",
            "Epoch 34/500\n",
            "2/2 [==============================] - 0s 9ms/step - loss: 23.9702 - mse: 870.8270\n",
            "Epoch 35/500\n",
            "2/2 [==============================] - 0s 5ms/step - loss: 12.6137 - mse: 243.1780\n",
            "Epoch 36/500\n",
            "2/2 [==============================] - 0s 5ms/step - loss: 21.5109 - mse: 659.9909\n",
            "Epoch 37/500\n",
            "2/2 [==============================] - 0s 8ms/step - loss: 11.3955 - mse: 150.4685\n",
            "Epoch 38/500\n",
            "2/2 [==============================] - 0s 3ms/step - loss: 13.4904 - mse: 270.5099\n",
            "Epoch 39/500\n",
            "2/2 [==============================] - 0s 8ms/step - loss: 10.8039 - mse: 139.9079\n",
            "Epoch 40/500\n",
            "2/2 [==============================] - 0s 8ms/step - loss: 16.6375 - mse: 401.5203\n",
            "Epoch 41/500\n",
            "2/2 [==============================] - 0s 4ms/step - loss: 10.9935 - mse: 179.8750\n",
            "Epoch 42/500\n",
            "2/2 [==============================] - 0s 8ms/step - loss: 9.3163 - mse: 114.9502\n",
            "Epoch 43/500\n",
            "2/2 [==============================] - 0s 5ms/step - loss: 9.5983 - mse: 110.7234\n",
            "Epoch 44/500\n",
            "2/2 [==============================] - 0s 3ms/step - loss: 28.0583 - mse: 1263.0792\n",
            "Epoch 45/500\n",
            "2/2 [==============================] - 0s 3ms/step - loss: 11.3027 - mse: 147.5306\n",
            "Epoch 46/500\n",
            "2/2 [==============================] - 0s 6ms/step - loss: 14.1117 - mse: 290.9248\n",
            "Epoch 47/500\n",
            "2/2 [==============================] - 0s 4ms/step - loss: 13.4872 - mse: 256.2499\n",
            "Epoch 48/500\n",
            "2/2 [==============================] - 0s 3ms/step - loss: 17.3164 - mse: 406.7812\n",
            "Epoch 49/500\n",
            "2/2 [==============================] - 0s 3ms/step - loss: 9.5315 - mse: 98.9263\n",
            "Epoch 50/500\n",
            "2/2 [==============================] - 0s 7ms/step - loss: 13.7340 - mse: 255.1312\n",
            "Epoch 51/500\n",
            "2/2 [==============================] - 0s 3ms/step - loss: 11.5710 - mse: 153.4753\n",
            "Epoch 52/500\n",
            "2/2 [==============================] - 0s 6ms/step - loss: 30.2953 - mse: 1583.5582\n",
            "Epoch 53/500\n",
            "2/2 [==============================] - 0s 3ms/step - loss: 14.2465 - mse: 297.3654\n",
            "Epoch 54/500\n",
            "2/2 [==============================] - 0s 3ms/step - loss: 23.5513 - mse: 834.6667\n",
            "Epoch 55/500\n",
            "2/2 [==============================] - 0s 5ms/step - loss: 24.4667 - mse: 903.2463\n",
            "Epoch 56/500\n",
            "2/2 [==============================] - 0s 3ms/step - loss: 11.3054 - mse: 171.6795\n",
            "Epoch 57/500\n",
            "2/2 [==============================] - 0s 3ms/step - loss: 13.3095 - mse: 222.7445\n",
            "Epoch 58/500\n",
            "2/2 [==============================] - 0s 4ms/step - loss: 9.9213 - mse: 108.7643\n",
            "Epoch 59/500\n",
            "2/2 [==============================] - 0s 3ms/step - loss: 13.8467 - mse: 271.9992\n",
            "Epoch 60/500\n",
            "2/2 [==============================] - 0s 7ms/step - loss: 9.9641 - mse: 118.6394\n",
            "Epoch 61/500\n",
            "2/2 [==============================] - 0s 2ms/step - loss: 14.9020 - mse: 304.7240\n",
            "Epoch 62/500\n",
            "2/2 [==============================] - 0s 3ms/step - loss: 11.8839 - mse: 193.9606\n",
            "Epoch 63/500\n",
            "2/2 [==============================] - 0s 3ms/step - loss: 10.2655 - mse: 132.9383\n",
            "Epoch 64/500\n",
            "2/2 [==============================] - 0s 5ms/step - loss: 23.7640 - mse: 829.5200\n",
            "Epoch 65/500\n",
            "2/2 [==============================] - 0s 3ms/step - loss: 10.4408 - mse: 128.8389\n",
            "Epoch 66/500\n",
            "2/2 [==============================] - 0s 2ms/step - loss: 20.8243 - mse: 637.0461\n",
            "Epoch 67/500\n",
            "2/2 [==============================] - 0s 3ms/step - loss: 10.4114 - mse: 125.2976\n",
            "Epoch 68/500\n",
            "2/2 [==============================] - 0s 3ms/step - loss: 14.1002 - mse: 299.1702\n",
            "Epoch 69/500\n",
            "2/2 [==============================] - 0s 3ms/step - loss: 10.4748 - mse: 124.7878\n",
            "Epoch 70/500\n",
            "2/2 [==============================] - 0s 3ms/step - loss: 12.5410 - mse: 199.3353\n",
            "Epoch 71/500\n",
            "2/2 [==============================] - 0s 3ms/step - loss: 12.9708 - mse: 223.5842\n",
            "Epoch 72/500\n",
            "2/2 [==============================] - 0s 3ms/step - loss: 19.2537 - mse: 525.8649\n",
            "Epoch 73/500\n",
            "2/2 [==============================] - 0s 3ms/step - loss: 11.1044 - mse: 194.1559\n",
            "Epoch 74/500\n",
            "2/2 [==============================] - 0s 5ms/step - loss: 21.3273 - mse: 709.3603\n",
            "Epoch 75/500\n",
            "2/2 [==============================] - 0s 3ms/step - loss: 9.4278 - mse: 152.2551\n",
            "Epoch 76/500\n",
            "2/2 [==============================] - 0s 3ms/step - loss: 12.2447 - mse: 181.6834\n",
            "Epoch 77/500\n",
            "2/2 [==============================] - 0s 3ms/step - loss: 16.2339 - mse: 405.3576\n",
            "Epoch 78/500\n",
            "2/2 [==============================] - 0s 9ms/step - loss: 8.9981 - mse: 91.2510\n",
            "Epoch 79/500\n",
            "2/2 [==============================] - 0s 3ms/step - loss: 23.4610 - mse: 823.3646\n",
            "Epoch 80/500\n",
            "2/2 [==============================] - 0s 3ms/step - loss: 26.1355 - mse: 1049.6660\n",
            "Epoch 81/500\n",
            "2/2 [==============================] - 0s 10ms/step - loss: 11.3838 - mse: 158.5367\n",
            "Epoch 82/500\n",
            "2/2 [==============================] - 0s 9ms/step - loss: 12.4781 - mse: 227.1847\n",
            "Epoch 83/500\n",
            "2/2 [==============================] - 0s 3ms/step - loss: 17.1568 - mse: 383.0060\n",
            "Epoch 84/500\n",
            "2/2 [==============================] - 0s 3ms/step - loss: 6.5691 - mse: 63.9650\n",
            "Epoch 85/500\n",
            "2/2 [==============================] - 0s 4ms/step - loss: 20.3404 - mse: 578.7135\n",
            "Epoch 86/500\n",
            "2/2 [==============================] - 0s 3ms/step - loss: 10.1584 - mse: 116.0009\n",
            "Epoch 87/500\n",
            "2/2 [==============================] - 0s 3ms/step - loss: 24.4001 - mse: 833.2502\n",
            "Epoch 88/500\n",
            "2/2 [==============================] - 0s 3ms/step - loss: 19.0642 - mse: 515.9838\n",
            "Epoch 89/500\n",
            "2/2 [==============================] - 0s 19ms/step - loss: 7.1474 - mse: 69.7225\n",
            "Epoch 90/500\n",
            "2/2 [==============================] - 0s 3ms/step - loss: 18.2262 - mse: 492.7418\n",
            "Epoch 91/500\n",
            "2/2 [==============================] - 0s 3ms/step - loss: 13.2739 - mse: 254.8684\n",
            "Epoch 92/500\n",
            "2/2 [==============================] - 0s 3ms/step - loss: 14.8121 - mse: 309.3976\n",
            "Epoch 93/500\n",
            "2/2 [==============================] - 0s 4ms/step - loss: 11.6115 - mse: 250.8391\n",
            "Epoch 94/500\n",
            "2/2 [==============================] - 0s 4ms/step - loss: 16.1671 - mse: 369.1873\n",
            "Epoch 95/500\n",
            "2/2 [==============================] - 0s 6ms/step - loss: 15.5079 - mse: 320.2125\n",
            "Epoch 96/500\n",
            "2/2 [==============================] - 0s 2ms/step - loss: 15.0356 - mse: 322.5044\n",
            "Epoch 97/500\n",
            "2/2 [==============================] - 0s 7ms/step - loss: 10.8661 - mse: 188.0697\n",
            "Epoch 98/500\n",
            "2/2 [==============================] - 0s 2ms/step - loss: 14.3237 - mse: 285.0179\n",
            "Epoch 99/500\n",
            "2/2 [==============================] - 0s 5ms/step - loss: 13.3517 - mse: 250.8332\n",
            "Epoch 100/500\n",
            "2/2 [==============================] - 0s 3ms/step - loss: 19.9445 - mse: 581.8970\n",
            "Epoch 101/500\n",
            "2/2 [==============================] - 0s 5ms/step - loss: 22.6311 - mse: 779.4253\n",
            "Epoch 102/500\n",
            "2/2 [==============================] - 0s 3ms/step - loss: 11.3077 - mse: 165.8173\n",
            "Epoch 103/500\n",
            "2/2 [==============================] - 0s 4ms/step - loss: 9.3614 - mse: 96.4963\n",
            "Epoch 104/500\n",
            "2/2 [==============================] - 0s 4ms/step - loss: 25.2845 - mse: 962.8672\n",
            "Epoch 105/500\n",
            "2/2 [==============================] - 0s 4ms/step - loss: 12.4763 - mse: 234.7338\n",
            "Epoch 106/500\n",
            "2/2 [==============================] - 0s 5ms/step - loss: 9.4031 - mse: 105.9742\n",
            "Epoch 107/500\n",
            "2/2 [==============================] - 0s 10ms/step - loss: 23.3174 - mse: 820.0770\n",
            "Epoch 108/500\n",
            "2/2 [==============================] - 0s 14ms/step - loss: 8.2869 - mse: 87.8829\n",
            "Epoch 109/500\n",
            "2/2 [==============================] - 0s 7ms/step - loss: 14.1046 - mse: 282.2131\n",
            "Epoch 110/500\n",
            "2/2 [==============================] - 0s 3ms/step - loss: 10.5968 - mse: 205.8367\n",
            "Epoch 111/500\n",
            "2/2 [==============================] - 0s 10ms/step - loss: 16.8989 - mse: 406.5286\n",
            "Epoch 112/500\n",
            "2/2 [==============================] - 0s 10ms/step - loss: 8.2745 - mse: 96.0121\n",
            "Epoch 113/500\n",
            "2/2 [==============================] - 0s 7ms/step - loss: 19.7837 - mse: 565.5921\n",
            "Epoch 114/500\n",
            "2/2 [==============================] - 0s 10ms/step - loss: 17.4788 - mse: 458.2217\n",
            "Epoch 115/500\n",
            "2/2 [==============================] - 0s 7ms/step - loss: 11.2504 - mse: 161.0855\n",
            "Epoch 116/500\n",
            "2/2 [==============================] - 0s 4ms/step - loss: 23.6851 - mse: 819.2892\n",
            "Epoch 117/500\n",
            "2/2 [==============================] - 0s 4ms/step - loss: 9.7593 - mse: 126.6341\n",
            "Epoch 118/500\n",
            "2/2 [==============================] - 0s 3ms/step - loss: 10.8486 - mse: 144.5190\n",
            "Epoch 119/500\n",
            "2/2 [==============================] - 0s 3ms/step - loss: 8.0863 - mse: 81.3844\n",
            "Epoch 120/500\n",
            "2/2 [==============================] - 0s 2ms/step - loss: 30.0836 - mse: 1354.2906\n",
            "Epoch 121/500\n",
            "2/2 [==============================] - 0s 3ms/step - loss: 8.1156 - mse: 71.9056\n",
            "Epoch 122/500\n",
            "2/2 [==============================] - 0s 4ms/step - loss: 28.6203 - mse: 1266.1787\n",
            "Epoch 123/500\n",
            "2/2 [==============================] - 0s 4ms/step - loss: 33.2843 - mse: 1633.1396\n",
            "Epoch 124/500\n",
            "2/2 [==============================] - 0s 8ms/step - loss: 19.9259 - mse: 589.6621\n",
            "Epoch 125/500\n",
            "2/2 [==============================] - 0s 3ms/step - loss: 7.6906 - mse: 93.2076\n",
            "Epoch 126/500\n",
            "2/2 [==============================] - 0s 3ms/step - loss: 17.1779 - mse: 405.4731\n",
            "Epoch 127/500\n",
            "2/2 [==============================] - 0s 3ms/step - loss: 7.5251 - mse: 67.9438\n",
            "Epoch 128/500\n",
            "2/2 [==============================] - 0s 4ms/step - loss: 18.1665 - mse: 476.5086\n",
            "Epoch 129/500\n",
            "2/2 [==============================] - 0s 3ms/step - loss: 8.7952 - mse: 100.9657\n",
            "Epoch 130/500\n",
            "2/2 [==============================] - 0s 2ms/step - loss: 22.5776 - mse: 717.4869\n",
            "Epoch 131/500\n",
            "2/2 [==============================] - 0s 3ms/step - loss: 10.2602 - mse: 148.2689\n",
            "Epoch 132/500\n",
            "2/2 [==============================] - 0s 3ms/step - loss: 15.0405 - mse: 339.7747\n",
            "Epoch 133/500\n",
            "2/2 [==============================] - 0s 5ms/step - loss: 7.1028 - mse: 66.1032\n",
            "Epoch 134/500\n",
            "2/2 [==============================] - 0s 3ms/step - loss: 23.8686 - mse: 814.0039\n",
            "Epoch 135/500\n",
            "2/2 [==============================] - 0s 8ms/step - loss: 16.6059 - mse: 386.8807\n",
            "Epoch 136/500\n",
            "2/2 [==============================] - 0s 3ms/step - loss: 14.8301 - mse: 307.7678\n",
            "Epoch 137/500\n",
            "2/2 [==============================] - 0s 4ms/step - loss: 23.0726 - mse: 718.0013\n",
            "Epoch 138/500\n",
            "2/2 [==============================] - 0s 3ms/step - loss: 9.1093 - mse: 139.9906\n",
            "Epoch 139/500\n",
            "2/2 [==============================] - 0s 6ms/step - loss: 8.9046 - mse: 145.5408\n",
            "Epoch 140/500\n",
            "2/2 [==============================] - 0s 3ms/step - loss: 16.4004 - mse: 385.9980\n",
            "Epoch 141/500\n",
            "2/2 [==============================] - 0s 3ms/step - loss: 8.4285 - mse: 90.7797\n",
            "Epoch 142/500\n",
            "2/2 [==============================] - 0s 3ms/step - loss: 36.7944 - mse: 2382.4124\n",
            "Epoch 143/500\n",
            "2/2 [==============================] - 0s 8ms/step - loss: 25.4599 - mse: 917.6418\n",
            "Epoch 144/500\n",
            "2/2 [==============================] - 0s 3ms/step - loss: 9.5537 - mse: 143.6618\n",
            "Epoch 145/500\n",
            "2/2 [==============================] - 0s 4ms/step - loss: 26.6450 - mse: 959.8094\n",
            "Epoch 146/500\n",
            "2/2 [==============================] - 0s 3ms/step - loss: 8.6818 - mse: 108.9444\n",
            "Epoch 147/500\n",
            "2/2 [==============================] - 0s 6ms/step - loss: 15.6584 - mse: 312.0389\n",
            "Epoch 148/500\n",
            "2/2 [==============================] - 0s 3ms/step - loss: 18.3591 - mse: 467.5360\n",
            "Epoch 149/500\n",
            "2/2 [==============================] - 0s 3ms/step - loss: 8.1682 - mse: 107.0774\n",
            "Epoch 150/500\n",
            "2/2 [==============================] - 0s 3ms/step - loss: 7.4920 - mse: 66.9119\n",
            "Epoch 151/500\n",
            "2/2 [==============================] - 0s 3ms/step - loss: 18.2269 - mse: 479.7148\n",
            "Epoch 152/500\n",
            "2/2 [==============================] - 0s 3ms/step - loss: 10.2717 - mse: 129.7254\n",
            "Epoch 153/500\n",
            "2/2 [==============================] - 0s 3ms/step - loss: 29.4632 - mse: 1251.4087\n",
            "Epoch 154/500\n",
            "2/2 [==============================] - 0s 3ms/step - loss: 10.5966 - mse: 200.6070\n",
            "Epoch 155/500\n",
            "2/2 [==============================] - 0s 3ms/step - loss: 15.4909 - mse: 349.6074\n",
            "Epoch 156/500\n",
            "2/2 [==============================] - 0s 3ms/step - loss: 17.0956 - mse: 441.7673\n",
            "Epoch 157/500\n",
            "2/2 [==============================] - 0s 3ms/step - loss: 32.6200 - mse: 1721.8678\n",
            "Epoch 158/500\n",
            "2/2 [==============================] - 0s 5ms/step - loss: 10.6565 - mse: 149.5942\n",
            "Epoch 159/500\n",
            "2/2 [==============================] - 0s 4ms/step - loss: 8.8889 - mse: 97.7572\n",
            "Epoch 160/500\n",
            "2/2 [==============================] - 0s 3ms/step - loss: 21.9836 - mse: 699.1621\n",
            "Epoch 161/500\n",
            "2/2 [==============================] - 0s 3ms/step - loss: 11.6615 - mse: 201.0198\n",
            "Epoch 162/500\n",
            "2/2 [==============================] - 0s 4ms/step - loss: 21.4329 - mse: 661.0748\n",
            "Epoch 163/500\n",
            "2/2 [==============================] - 0s 3ms/step - loss: 18.9068 - mse: 514.8922\n",
            "Epoch 164/500\n",
            "2/2 [==============================] - 0s 3ms/step - loss: 12.7464 - mse: 252.2542\n",
            "Epoch 165/500\n",
            "2/2 [==============================] - 0s 3ms/step - loss: 12.7120 - mse: 235.0299\n",
            "Epoch 166/500\n",
            "2/2 [==============================] - 0s 4ms/step - loss: 18.8713 - mse: 550.4775\n",
            "Epoch 167/500\n",
            "2/2 [==============================] - 0s 3ms/step - loss: 26.8918 - mse: 1101.0768\n",
            "Epoch 168/500\n",
            "2/2 [==============================] - 0s 5ms/step - loss: 9.9909 - mse: 120.6022\n",
            "Epoch 169/500\n",
            "2/2 [==============================] - 0s 3ms/step - loss: 23.1512 - mse: 830.1839\n",
            "Epoch 170/500\n",
            "2/2 [==============================] - 0s 7ms/step - loss: 9.5797 - mse: 170.4507\n",
            "Epoch 171/500\n",
            "2/2 [==============================] - 0s 36ms/step - loss: 15.8465 - mse: 377.5855\n",
            "Epoch 172/500\n",
            "2/2 [==============================] - 0s 3ms/step - loss: 13.8777 - mse: 284.9255\n",
            "Epoch 173/500\n",
            "2/2 [==============================] - 0s 3ms/step - loss: 22.5663 - mse: 720.4739\n",
            "Epoch 174/500\n",
            "2/2 [==============================] - 0s 3ms/step - loss: 11.3559 - mse: 180.1200\n",
            "Epoch 175/500\n",
            "2/2 [==============================] - 0s 14ms/step - loss: 20.1295 - mse: 655.0802\n",
            "Epoch 176/500\n",
            "2/2 [==============================] - 0s 8ms/step - loss: 7.4118 - mse: 68.7223\n",
            "Epoch 177/500\n",
            "2/2 [==============================] - 0s 11ms/step - loss: 8.5964 - mse: 104.8190\n",
            "Epoch 178/500\n",
            "2/2 [==============================] - 0s 16ms/step - loss: 15.5257 - mse: 346.9995\n",
            "Epoch 179/500\n",
            "2/2 [==============================] - 0s 13ms/step - loss: 9.2699 - mse: 119.8857\n",
            "Epoch 180/500\n",
            "2/2 [==============================] - 0s 12ms/step - loss: 8.1308 - mse: 93.4248\n",
            "Epoch 181/500\n",
            "2/2 [==============================] - 0s 4ms/step - loss: 18.7796 - mse: 508.0087\n",
            "Epoch 182/500\n",
            "2/2 [==============================] - 0s 3ms/step - loss: 10.7931 - mse: 151.9539\n",
            "Epoch 183/500\n",
            "2/2 [==============================] - 0s 3ms/step - loss: 11.4992 - mse: 198.0811\n",
            "Epoch 184/500\n",
            "2/2 [==============================] - 0s 3ms/step - loss: 29.7807 - mse: 1327.7777\n",
            "Epoch 185/500\n",
            "2/2 [==============================] - 0s 7ms/step - loss: 7.5407 - mse: 95.6488\n",
            "Epoch 186/500\n",
            "2/2 [==============================] - 0s 3ms/step - loss: 16.4345 - mse: 385.5936\n",
            "Epoch 187/500\n",
            "2/2 [==============================] - 0s 5ms/step - loss: 10.7189 - mse: 220.8837\n",
            "Epoch 188/500\n",
            "2/2 [==============================] - 0s 2ms/step - loss: 22.5336 - mse: 746.6198\n",
            "Epoch 189/500\n",
            "2/2 [==============================] - 0s 3ms/step - loss: 11.6718 - mse: 210.4823\n",
            "Epoch 190/500\n",
            "2/2 [==============================] - 0s 3ms/step - loss: 9.4257 - mse: 105.5409\n",
            "Epoch 191/500\n",
            "2/2 [==============================] - 0s 5ms/step - loss: 15.6125 - mse: 343.4743\n",
            "Epoch 192/500\n",
            "2/2 [==============================] - 0s 3ms/step - loss: 12.8442 - mse: 266.2382\n",
            "Epoch 193/500\n",
            "2/2 [==============================] - 0s 3ms/step - loss: 27.8128 - mse: 1077.1924\n",
            "Epoch 194/500\n",
            "2/2 [==============================] - 0s 4ms/step - loss: 7.1127 - mse: 78.0768\n",
            "Epoch 195/500\n",
            "2/2 [==============================] - 0s 3ms/step - loss: 7.0356 - mse: 75.1431\n",
            "Epoch 196/500\n",
            "2/2 [==============================] - 0s 3ms/step - loss: 21.9260 - mse: 705.2036\n",
            "Epoch 197/500\n",
            "2/2 [==============================] - 0s 3ms/step - loss: 21.0247 - mse: 655.3029\n",
            "Epoch 198/500\n",
            "2/2 [==============================] - 0s 3ms/step - loss: 12.5717 - mse: 239.9570\n",
            "Epoch 199/500\n",
            "2/2 [==============================] - 0s 3ms/step - loss: 18.0675 - mse: 468.1985\n",
            "Epoch 200/500\n",
            "2/2 [==============================] - 0s 2ms/step - loss: 13.8951 - mse: 288.5762\n",
            "Epoch 201/500\n",
            "2/2 [==============================] - 0s 3ms/step - loss: 6.0145 - mse: 50.3209\n",
            "Epoch 202/500\n",
            "2/2 [==============================] - 0s 3ms/step - loss: 22.9616 - mse: 751.2785\n",
            "Epoch 203/500\n",
            "2/2 [==============================] - 0s 2ms/step - loss: 8.9511 - mse: 152.1378\n",
            "Epoch 204/500\n",
            "2/2 [==============================] - 0s 3ms/step - loss: 18.9304 - mse: 537.0966\n",
            "Epoch 205/500\n",
            "2/2 [==============================] - 0s 3ms/step - loss: 9.3742 - mse: 126.8401\n",
            "Epoch 206/500\n",
            "2/2 [==============================] - 0s 3ms/step - loss: 11.0170 - mse: 166.3920\n",
            "Epoch 207/500\n",
            "2/2 [==============================] - 0s 3ms/step - loss: 17.4918 - mse: 462.2386\n",
            "Epoch 208/500\n",
            "2/2 [==============================] - 0s 4ms/step - loss: 14.2330 - mse: 293.2617\n",
            "Epoch 209/500\n",
            "2/2 [==============================] - 0s 3ms/step - loss: 16.5503 - mse: 405.9628\n",
            "Epoch 210/500\n",
            "2/2 [==============================] - 0s 3ms/step - loss: 18.0333 - mse: 474.1646\n",
            "Epoch 211/500\n",
            "2/2 [==============================] - 0s 3ms/step - loss: 9.8598 - mse: 145.4119\n",
            "Epoch 212/500\n",
            "2/2 [==============================] - 0s 3ms/step - loss: 18.5038 - mse: 516.6143\n",
            "Epoch 213/500\n",
            "2/2 [==============================] - 0s 3ms/step - loss: 14.9851 - mse: 306.0069\n",
            "Epoch 214/500\n",
            "2/2 [==============================] - 0s 3ms/step - loss: 14.5520 - mse: 291.7690\n",
            "Epoch 215/500\n",
            "2/2 [==============================] - 0s 3ms/step - loss: 23.2350 - mse: 795.5006\n",
            "Epoch 216/500\n",
            "2/2 [==============================] - 0s 3ms/step - loss: 13.4714 - mse: 281.8638\n",
            "Epoch 217/500\n",
            "2/2 [==============================] - 0s 7ms/step - loss: 9.9307 - mse: 139.3654\n",
            "Epoch 218/500\n",
            "2/2 [==============================] - 0s 4ms/step - loss: 12.4639 - mse: 204.4455\n",
            "Epoch 219/500\n",
            "2/2 [==============================] - 0s 3ms/step - loss: 5.2811 - mse: 40.4028\n",
            "Epoch 220/500\n",
            "2/2 [==============================] - 0s 4ms/step - loss: 12.4032 - mse: 243.2276\n",
            "Epoch 221/500\n",
            "2/2 [==============================] - 0s 3ms/step - loss: 22.4014 - mse: 730.7514\n",
            "Epoch 222/500\n",
            "2/2 [==============================] - 0s 4ms/step - loss: 21.5249 - mse: 723.7643\n",
            "Epoch 223/500\n",
            "2/2 [==============================] - 0s 3ms/step - loss: 11.6537 - mse: 197.2643\n",
            "Epoch 224/500\n",
            "2/2 [==============================] - 0s 3ms/step - loss: 15.1260 - mse: 346.1233\n",
            "Epoch 225/500\n",
            "2/2 [==============================] - 0s 3ms/step - loss: 17.1897 - mse: 385.4998\n",
            "Epoch 226/500\n",
            "2/2 [==============================] - 0s 3ms/step - loss: 16.3596 - mse: 397.5355\n",
            "Epoch 227/500\n",
            "2/2 [==============================] - 0s 4ms/step - loss: 16.7390 - mse: 397.3421\n",
            "Epoch 228/500\n",
            "2/2 [==============================] - 0s 3ms/step - loss: 10.1079 - mse: 181.6798\n",
            "Epoch 229/500\n",
            "2/2 [==============================] - 0s 3ms/step - loss: 18.0411 - mse: 456.8348\n",
            "Epoch 230/500\n",
            "2/2 [==============================] - 0s 2ms/step - loss: 15.6042 - mse: 314.3990\n",
            "Epoch 231/500\n",
            "2/2 [==============================] - 0s 7ms/step - loss: 21.1887 - mse: 670.0052\n",
            "Epoch 232/500\n",
            "2/2 [==============================] - 0s 3ms/step - loss: 25.3121 - mse: 916.5538\n",
            "Epoch 233/500\n",
            "2/2 [==============================] - 0s 3ms/step - loss: 16.3476 - mse: 389.0190\n",
            "Epoch 234/500\n",
            "2/2 [==============================] - 0s 3ms/step - loss: 7.2790 - mse: 66.5747\n",
            "Epoch 235/500\n",
            "2/2 [==============================] - 0s 3ms/step - loss: 17.0004 - mse: 404.6651\n",
            "Epoch 236/500\n",
            "2/2 [==============================] - 0s 3ms/step - loss: 7.1326 - mse: 69.7646\n",
            "Epoch 237/500\n",
            "2/2 [==============================] - 0s 3ms/step - loss: 9.2211 - mse: 119.0965\n",
            "Epoch 238/500\n",
            "2/2 [==============================] - 0s 3ms/step - loss: 8.1040 - mse: 86.7285\n",
            "Epoch 239/500\n",
            "2/2 [==============================] - 0s 3ms/step - loss: 17.0911 - mse: 439.7682\n",
            "Epoch 240/500\n",
            "2/2 [==============================] - 0s 3ms/step - loss: 8.8762 - mse: 107.9040\n",
            "Epoch 241/500\n",
            "2/2 [==============================] - 0s 3ms/step - loss: 13.1989 - mse: 273.9234\n",
            "Epoch 242/500\n",
            "2/2 [==============================] - 0s 3ms/step - loss: 8.7988 - mse: 105.1076\n",
            "Epoch 243/500\n",
            "2/2 [==============================] - 0s 3ms/step - loss: 18.8654 - mse: 544.2623\n",
            "Epoch 244/500\n",
            "2/2 [==============================] - 0s 3ms/step - loss: 14.0376 - mse: 274.9962\n",
            "Epoch 245/500\n",
            "2/2 [==============================] - 0s 6ms/step - loss: 14.6693 - mse: 289.5148\n",
            "Epoch 246/500\n",
            "2/2 [==============================] - 0s 3ms/step - loss: 15.7914 - mse: 369.8629\n",
            "Epoch 247/500\n",
            "2/2 [==============================] - 0s 3ms/step - loss: 17.6634 - mse: 420.5113\n",
            "Epoch 248/500\n",
            "2/2 [==============================] - 0s 8ms/step - loss: 13.2198 - mse: 251.4716\n",
            "Epoch 249/500\n",
            "2/2 [==============================] - 0s 5ms/step - loss: 14.4964 - mse: 288.2391\n",
            "Epoch 250/500\n",
            "2/2 [==============================] - 0s 3ms/step - loss: 23.2124 - mse: 792.0136\n",
            "Epoch 251/500\n",
            "2/2 [==============================] - 0s 2ms/step - loss: 9.3095 - mse: 119.3508\n",
            "Epoch 252/500\n",
            "2/2 [==============================] - 0s 3ms/step - loss: 36.7284 - mse: 2205.3523\n",
            "Epoch 253/500\n",
            "2/2 [==============================] - 0s 4ms/step - loss: 21.8744 - mse: 671.3068\n",
            "Epoch 254/500\n",
            "2/2 [==============================] - 0s 7ms/step - loss: 7.2846 - mse: 77.4820\n",
            "Epoch 255/500\n",
            "2/2 [==============================] - 0s 3ms/step - loss: 24.7694 - mse: 887.5645\n",
            "Epoch 256/500\n",
            "2/2 [==============================] - 0s 7ms/step - loss: 12.4508 - mse: 221.2411\n",
            "Epoch 257/500\n",
            "2/2 [==============================] - 0s 4ms/step - loss: 11.0326 - mse: 184.5107\n",
            "Epoch 258/500\n",
            "2/2 [==============================] - 0s 3ms/step - loss: 10.9036 - mse: 181.7383\n",
            "Epoch 259/500\n",
            "2/2 [==============================] - 0s 4ms/step - loss: 16.1095 - mse: 380.6422\n",
            "Epoch 260/500\n",
            "2/2 [==============================] - 0s 3ms/step - loss: 24.1848 - mse: 867.3953\n",
            "Epoch 261/500\n",
            "2/2 [==============================] - 0s 3ms/step - loss: 8.7634 - mse: 138.2664\n",
            "Epoch 262/500\n",
            "2/2 [==============================] - 0s 3ms/step - loss: 7.9535 - mse: 124.9008\n",
            "Epoch 263/500\n",
            "2/2 [==============================] - 0s 3ms/step - loss: 7.6887 - mse: 107.2831\n",
            "Epoch 264/500\n",
            "2/2 [==============================] - 0s 11ms/step - loss: 16.5848 - mse: 388.1593\n",
            "Epoch 265/500\n",
            "2/2 [==============================] - 0s 5ms/step - loss: 12.6859 - mse: 222.9978\n",
            "Epoch 266/500\n",
            "2/2 [==============================] - 0s 6ms/step - loss: 14.2292 - mse: 282.0894\n",
            "Epoch 267/500\n",
            "2/2 [==============================] - 0s 5ms/step - loss: 11.3444 - mse: 220.6547\n",
            "Epoch 268/500\n",
            "2/2 [==============================] - 0s 3ms/step - loss: 19.8423 - mse: 580.8876\n",
            "Epoch 269/500\n",
            "2/2 [==============================] - 0s 3ms/step - loss: 38.5996 - mse: 2290.9492\n",
            "Epoch 270/500\n",
            "2/2 [==============================] - 0s 3ms/step - loss: 11.4556 - mse: 201.2120\n",
            "Epoch 271/500\n",
            "2/2 [==============================] - 0s 3ms/step - loss: 13.9398 - mse: 271.3275\n",
            "Epoch 272/500\n",
            "2/2 [==============================] - 0s 2ms/step - loss: 27.6319 - mse: 1050.5972\n",
            "Epoch 273/500\n",
            "2/2 [==============================] - 0s 4ms/step - loss: 8.3610 - mse: 92.8526\n",
            "Epoch 274/500\n",
            "2/2 [==============================] - 0s 3ms/step - loss: 6.4338 - mse: 50.7299\n",
            "Epoch 275/500\n",
            "2/2 [==============================] - 0s 3ms/step - loss: 35.5855 - mse: 1927.3496\n",
            "Epoch 276/500\n",
            "2/2 [==============================] - 0s 3ms/step - loss: 8.0932 - mse: 114.2679\n",
            "Epoch 277/500\n",
            "2/2 [==============================] - 0s 3ms/step - loss: 26.6453 - mse: 965.9211\n",
            "Epoch 278/500\n",
            "2/2 [==============================] - 0s 6ms/step - loss: 11.2052 - mse: 228.2330\n",
            "Epoch 279/500\n",
            "2/2 [==============================] - 0s 7ms/step - loss: 16.0103 - mse: 382.5335\n",
            "Epoch 280/500\n",
            "2/2 [==============================] - 0s 11ms/step - loss: 21.0391 - mse: 671.4038\n",
            "Epoch 281/500\n",
            "2/2 [==============================] - 0s 3ms/step - loss: 18.2606 - mse: 506.7453\n",
            "Epoch 282/500\n",
            "2/2 [==============================] - 0s 3ms/step - loss: 6.9147 - mse: 92.9035\n",
            "Epoch 283/500\n",
            "2/2 [==============================] - 0s 2ms/step - loss: 8.0886 - mse: 86.9095\n",
            "Epoch 284/500\n",
            "2/2 [==============================] - 0s 3ms/step - loss: 24.8234 - mse: 926.2285\n",
            "Epoch 285/500\n",
            "2/2 [==============================] - 0s 2ms/step - loss: 13.6028 - mse: 295.4846\n",
            "Epoch 286/500\n",
            "2/2 [==============================] - 0s 3ms/step - loss: 7.7373 - mse: 115.6926\n",
            "Epoch 287/500\n",
            "2/2 [==============================] - 0s 3ms/step - loss: 23.3512 - mse: 791.2018\n",
            "Epoch 288/500\n",
            "2/2 [==============================] - 0s 3ms/step - loss: 23.6666 - mse: 838.5778\n",
            "Epoch 289/500\n",
            "2/2 [==============================] - 0s 4ms/step - loss: 11.9725 - mse: 244.3365\n",
            "Epoch 290/500\n",
            "2/2 [==============================] - 0s 4ms/step - loss: 16.5439 - mse: 367.0996\n",
            "Epoch 291/500\n",
            "2/2 [==============================] - 0s 3ms/step - loss: 16.8084 - mse: 415.5281\n",
            "Epoch 292/500\n",
            "2/2 [==============================] - 0s 7ms/step - loss: 9.4465 - mse: 212.5516\n",
            "Epoch 293/500\n",
            "2/2 [==============================] - 0s 5ms/step - loss: 15.2643 - mse: 318.1121\n",
            "Epoch 294/500\n",
            "2/2 [==============================] - 0s 5ms/step - loss: 22.7191 - mse: 781.2042\n",
            "Epoch 295/500\n",
            "2/2 [==============================] - 0s 3ms/step - loss: 17.9186 - mse: 458.2690\n",
            "Epoch 296/500\n",
            "2/2 [==============================] - 0s 3ms/step - loss: 6.1448 - mse: 58.6731\n",
            "Epoch 297/500\n",
            "2/2 [==============================] - 0s 2ms/step - loss: 10.9289 - mse: 254.3038\n",
            "Epoch 298/500\n",
            "2/2 [==============================] - 0s 4ms/step - loss: 23.1421 - mse: 785.5363\n",
            "Epoch 299/500\n",
            "2/2 [==============================] - 0s 5ms/step - loss: 17.7564 - mse: 471.0047\n",
            "Epoch 300/500\n",
            "2/2 [==============================] - 0s 4ms/step - loss: 6.9577 - mse: 64.9917\n",
            "Epoch 301/500\n",
            "2/2 [==============================] - 0s 5ms/step - loss: 25.2099 - mse: 900.4138\n",
            "Epoch 302/500\n",
            "2/2 [==============================] - 0s 3ms/step - loss: 9.3856 - mse: 133.0042\n",
            "Epoch 303/500\n",
            "2/2 [==============================] - 0s 4ms/step - loss: 14.3481 - mse: 309.1476\n",
            "Epoch 304/500\n",
            "2/2 [==============================] - 0s 3ms/step - loss: 10.7580 - mse: 168.6158\n",
            "Epoch 305/500\n",
            "2/2 [==============================] - 0s 4ms/step - loss: 12.6049 - mse: 263.8780\n",
            "Epoch 306/500\n",
            "2/2 [==============================] - 0s 6ms/step - loss: 8.2238 - mse: 90.9402\n",
            "Epoch 307/500\n",
            "2/2 [==============================] - 0s 20ms/step - loss: 13.0550 - mse: 255.8348\n",
            "Epoch 308/500\n",
            "2/2 [==============================] - 0s 3ms/step - loss: 8.0970 - mse: 90.1978\n",
            "Epoch 309/500\n",
            "2/2 [==============================] - 0s 4ms/step - loss: 11.7298 - mse: 223.0474\n",
            "Epoch 310/500\n",
            "2/2 [==============================] - 0s 6ms/step - loss: 6.3133 - mse: 71.9916\n",
            "Epoch 311/500\n",
            "2/2 [==============================] - 0s 5ms/step - loss: 4.9449 - mse: 31.1254\n",
            "Epoch 312/500\n",
            "2/2 [==============================] - 0s 6ms/step - loss: 29.2725 - mse: 1187.6738\n",
            "Epoch 313/500\n",
            "2/2 [==============================] - 0s 4ms/step - loss: 8.9463 - mse: 118.8086\n",
            "Epoch 314/500\n",
            "2/2 [==============================] - 0s 2ms/step - loss: 5.7571 - mse: 57.3920\n",
            "Epoch 315/500\n",
            "2/2 [==============================] - 0s 5ms/step - loss: 24.9230 - mse: 895.4574\n",
            "Epoch 316/500\n",
            "2/2 [==============================] - 0s 4ms/step - loss: 14.1904 - mse: 318.5062\n",
            "Epoch 317/500\n",
            "2/2 [==============================] - 0s 6ms/step - loss: 19.6349 - mse: 531.1747\n",
            "Epoch 318/500\n",
            "2/2 [==============================] - 0s 3ms/step - loss: 7.8354 - mse: 79.1900\n",
            "Epoch 319/500\n",
            "2/2 [==============================] - 0s 4ms/step - loss: 17.8422 - mse: 473.1246\n",
            "Epoch 320/500\n",
            "2/2 [==============================] - 0s 4ms/step - loss: 10.1253 - mse: 171.5889\n",
            "Epoch 321/500\n",
            "2/2 [==============================] - 0s 11ms/step - loss: 8.2239 - mse: 109.3890\n",
            "Epoch 322/500\n",
            "2/2 [==============================] - 0s 7ms/step - loss: 4.2865 - mse: 26.4492\n",
            "Epoch 323/500\n",
            "2/2 [==============================] - 0s 5ms/step - loss: 23.8106 - mse: 824.0773\n",
            "Epoch 324/500\n",
            "2/2 [==============================] - 0s 4ms/step - loss: 6.8362 - mse: 58.6222\n",
            "Epoch 325/500\n",
            "2/2 [==============================] - 0s 16ms/step - loss: 16.6026 - mse: 393.7849\n",
            "Epoch 326/500\n",
            "2/2 [==============================] - 0s 9ms/step - loss: 7.5170 - mse: 79.5746\n",
            "Epoch 327/500\n",
            "2/2 [==============================] - 0s 8ms/step - loss: 20.4130 - mse: 588.4166\n",
            "Epoch 328/500\n",
            "2/2 [==============================] - 0s 12ms/step - loss: 13.6696 - mse: 262.6473\n",
            "Epoch 329/500\n",
            "2/2 [==============================] - 0s 6ms/step - loss: 16.6760 - mse: 423.8021\n",
            "Epoch 330/500\n",
            "2/2 [==============================] - 0s 10ms/step - loss: 7.0514 - mse: 80.0826\n",
            "Epoch 331/500\n",
            "2/2 [==============================] - 0s 6ms/step - loss: 21.8682 - mse: 730.2635\n",
            "Epoch 332/500\n",
            "2/2 [==============================] - 0s 3ms/step - loss: 12.8088 - mse: 260.0899\n",
            "Epoch 333/500\n",
            "2/2 [==============================] - 0s 8ms/step - loss: 9.3872 - mse: 139.6555\n",
            "Epoch 334/500\n",
            "2/2 [==============================] - 0s 5ms/step - loss: 7.5397 - mse: 90.0241\n",
            "Epoch 335/500\n",
            "2/2 [==============================] - 0s 6ms/step - loss: 6.1072 - mse: 42.9620\n",
            "Epoch 336/500\n",
            "2/2 [==============================] - 0s 5ms/step - loss: 38.4984 - mse: 2475.2705\n",
            "Epoch 337/500\n",
            "2/2 [==============================] - 0s 4ms/step - loss: 29.7782 - mse: 1331.8003\n",
            "Epoch 338/500\n",
            "2/2 [==============================] - 0s 4ms/step - loss: 16.2044 - mse: 383.3085\n",
            "Epoch 339/500\n",
            "2/2 [==============================] - 0s 9ms/step - loss: 9.9895 - mse: 158.3698\n",
            "Epoch 340/500\n",
            "2/2 [==============================] - 0s 3ms/step - loss: 7.5122 - mse: 94.5752\n",
            "Epoch 341/500\n",
            "2/2 [==============================] - 0s 27ms/step - loss: 17.5640 - mse: 437.7246\n",
            "Epoch 342/500\n",
            "2/2 [==============================] - 0s 3ms/step - loss: 14.8368 - mse: 302.1133\n",
            "Epoch 343/500\n",
            "2/2 [==============================] - 0s 3ms/step - loss: 12.5762 - mse: 206.4258\n",
            "Epoch 344/500\n",
            "2/2 [==============================] - 0s 4ms/step - loss: 11.9011 - mse: 290.6371\n",
            "Epoch 345/500\n",
            "2/2 [==============================] - 0s 3ms/step - loss: 30.4153 - mse: 1305.0941\n",
            "Epoch 346/500\n",
            "2/2 [==============================] - 0s 3ms/step - loss: 9.2223 - mse: 219.0154\n",
            "Epoch 347/500\n",
            "2/2 [==============================] - 0s 3ms/step - loss: 25.9139 - mse: 940.2650\n",
            "Epoch 348/500\n",
            "2/2 [==============================] - 0s 2ms/step - loss: 12.2522 - mse: 236.7241\n",
            "Epoch 349/500\n",
            "2/2 [==============================] - 0s 5ms/step - loss: 12.5833 - mse: 250.4810\n",
            "Epoch 350/500\n",
            "2/2 [==============================] - 0s 5ms/step - loss: 15.2152 - mse: 309.4437\n",
            "Epoch 351/500\n",
            "2/2 [==============================] - 0s 3ms/step - loss: 32.6145 - mse: 1495.4919\n",
            "Epoch 352/500\n",
            "2/2 [==============================] - 0s 5ms/step - loss: 13.5629 - mse: 263.7695\n",
            "Epoch 353/500\n",
            "2/2 [==============================] - 0s 3ms/step - loss: 17.4589 - mse: 466.3761\n",
            "Epoch 354/500\n",
            "2/2 [==============================] - 0s 5ms/step - loss: 11.1964 - mse: 244.3083\n",
            "Epoch 355/500\n",
            "2/2 [==============================] - 0s 3ms/step - loss: 26.4720 - mse: 1004.8849\n",
            "Epoch 356/500\n",
            "2/2 [==============================] - 0s 5ms/step - loss: 10.9183 - mse: 204.9914\n",
            "Epoch 357/500\n",
            "2/2 [==============================] - 0s 3ms/step - loss: 13.4399 - mse: 299.8898\n",
            "Epoch 358/500\n",
            "2/2 [==============================] - 0s 6ms/step - loss: 13.0202 - mse: 273.0267\n",
            "Epoch 359/500\n",
            "2/2 [==============================] - 0s 3ms/step - loss: 12.6664 - mse: 285.8386\n",
            "Epoch 360/500\n",
            "2/2 [==============================] - 0s 3ms/step - loss: 20.9963 - mse: 662.2723\n",
            "Epoch 361/500\n",
            "2/2 [==============================] - 0s 2ms/step - loss: 15.9316 - mse: 393.0281\n",
            "Epoch 362/500\n",
            "2/2 [==============================] - 0s 3ms/step - loss: 6.5671 - mse: 95.5688\n",
            "Epoch 363/500\n",
            "2/2 [==============================] - 0s 4ms/step - loss: 23.8819 - mse: 789.3030\n",
            "Epoch 364/500\n",
            "2/2 [==============================] - 0s 3ms/step - loss: 27.6184 - mse: 1096.7214\n",
            "Epoch 365/500\n",
            "2/2 [==============================] - 0s 3ms/step - loss: 7.5136 - mse: 96.5013\n",
            "Epoch 366/500\n",
            "2/2 [==============================] - 0s 4ms/step - loss: 5.9300 - mse: 55.2728\n",
            "Epoch 367/500\n",
            "2/2 [==============================] - 0s 2ms/step - loss: 32.7095 - mse: 1608.1097\n",
            "Epoch 368/500\n",
            "2/2 [==============================] - 0s 3ms/step - loss: 6.7690 - mse: 101.9715\n",
            "Epoch 369/500\n",
            "2/2 [==============================] - 0s 3ms/step - loss: 7.6868 - mse: 81.2054\n",
            "Epoch 370/500\n",
            "2/2 [==============================] - 0s 3ms/step - loss: 16.9888 - mse: 423.5811\n",
            "Epoch 371/500\n",
            "2/2 [==============================] - 0s 3ms/step - loss: 6.5048 - mse: 82.8963\n",
            "Epoch 372/500\n",
            "2/2 [==============================] - 0s 3ms/step - loss: 6.3580 - mse: 79.6903\n",
            "Epoch 373/500\n",
            "2/2 [==============================] - 0s 3ms/step - loss: 23.6756 - mse: 827.5114\n",
            "Epoch 374/500\n",
            "2/2 [==============================] - 0s 3ms/step - loss: 10.3478 - mse: 206.2933\n",
            "Epoch 375/500\n",
            "2/2 [==============================] - 0s 3ms/step - loss: 12.9685 - mse: 236.9613\n",
            "Epoch 376/500\n",
            "2/2 [==============================] - 0s 5ms/step - loss: 14.8602 - mse: 323.2561\n",
            "Epoch 377/500\n",
            "2/2 [==============================] - 0s 7ms/step - loss: 14.7076 - mse: 295.2972\n",
            "Epoch 378/500\n",
            "2/2 [==============================] - 0s 3ms/step - loss: 16.2053 - mse: 415.3347\n",
            "Epoch 379/500\n",
            "2/2 [==============================] - 0s 3ms/step - loss: 20.7340 - mse: 592.4501\n",
            "Epoch 380/500\n",
            "2/2 [==============================] - 0s 3ms/step - loss: 33.8228 - mse: 1715.8962\n",
            "Epoch 381/500\n",
            "2/2 [==============================] - 0s 4ms/step - loss: 8.6261 - mse: 119.1463\n",
            "Epoch 382/500\n",
            "2/2 [==============================] - 0s 4ms/step - loss: 9.4319 - mse: 160.0051\n",
            "Epoch 383/500\n",
            "2/2 [==============================] - 0s 4ms/step - loss: 5.5572 - mse: 48.7718\n",
            "Epoch 384/500\n",
            "2/2 [==============================] - 0s 22ms/step - loss: 8.7654 - mse: 125.4361\n",
            "Epoch 385/500\n",
            "2/2 [==============================] - 0s 3ms/step - loss: 5.6905 - mse: 63.6520\n",
            "Epoch 386/500\n",
            "2/2 [==============================] - 0s 4ms/step - loss: 23.9259 - mse: 832.2921\n",
            "Epoch 387/500\n",
            "2/2 [==============================] - 0s 3ms/step - loss: 17.9923 - mse: 476.2461\n",
            "Epoch 388/500\n",
            "2/2 [==============================] - 0s 3ms/step - loss: 5.9842 - mse: 77.8136\n",
            "Epoch 389/500\n",
            "2/2 [==============================] - 0s 7ms/step - loss: 9.7167 - mse: 157.8651\n",
            "Epoch 390/500\n",
            "2/2 [==============================] - 0s 7ms/step - loss: 6.0068 - mse: 68.4780\n",
            "Epoch 391/500\n",
            "2/2 [==============================] - 0s 6ms/step - loss: 11.3830 - mse: 240.5251\n",
            "Epoch 392/500\n",
            "2/2 [==============================] - 0s 2ms/step - loss: 8.2629 - mse: 177.8657\n",
            "Epoch 393/500\n",
            "2/2 [==============================] - 0s 5ms/step - loss: 19.2814 - mse: 583.6108\n",
            "Epoch 394/500\n",
            "2/2 [==============================] - 0s 4ms/step - loss: 24.8693 - mse: 932.5449\n",
            "Epoch 395/500\n",
            "2/2 [==============================] - 0s 7ms/step - loss: 19.7691 - mse: 556.9648\n",
            "Epoch 396/500\n",
            "2/2 [==============================] - 0s 5ms/step - loss: 8.4711 - mse: 114.8882\n",
            "Epoch 397/500\n",
            "2/2 [==============================] - 0s 4ms/step - loss: 11.3369 - mse: 232.7708\n",
            "Epoch 398/500\n",
            "2/2 [==============================] - 0s 2ms/step - loss: 6.8667 - mse: 77.7125\n",
            "Epoch 399/500\n",
            "2/2 [==============================] - 0s 3ms/step - loss: 14.2420 - mse: 316.7984\n",
            "Epoch 400/500\n",
            "2/2 [==============================] - 0s 5ms/step - loss: 6.6747 - mse: 61.0829\n",
            "Epoch 401/500\n",
            "2/2 [==============================] - 0s 4ms/step - loss: 8.4167 - mse: 133.0698\n",
            "Epoch 402/500\n",
            "2/2 [==============================] - 0s 6ms/step - loss: 14.9558 - mse: 333.9449\n",
            "Epoch 403/500\n",
            "2/2 [==============================] - 0s 8ms/step - loss: 12.2759 - mse: 296.7574\n",
            "Epoch 404/500\n",
            "2/2 [==============================] - 0s 4ms/step - loss: 22.8310 - mse: 733.2965\n",
            "Epoch 405/500\n",
            "2/2 [==============================] - 0s 6ms/step - loss: 18.3030 - mse: 510.1836\n",
            "Epoch 406/500\n",
            "2/2 [==============================] - 0s 5ms/step - loss: 7.0382 - mse: 76.5185\n",
            "Epoch 407/500\n",
            "2/2 [==============================] - 0s 3ms/step - loss: 12.7792 - mse: 273.5864\n",
            "Epoch 408/500\n",
            "2/2 [==============================] - 0s 5ms/step - loss: 5.6040 - mse: 41.9198\n",
            "Epoch 409/500\n",
            "2/2 [==============================] - 0s 5ms/step - loss: 31.6146 - mse: 1548.8711\n",
            "Epoch 410/500\n",
            "2/2 [==============================] - 0s 6ms/step - loss: 9.1272 - mse: 222.4091\n",
            "Epoch 411/500\n",
            "2/2 [==============================] - 0s 10ms/step - loss: 14.7810 - mse: 283.5932\n",
            "Epoch 412/500\n",
            "2/2 [==============================] - 0s 3ms/step - loss: 21.6179 - mse: 716.3934\n",
            "Epoch 413/500\n",
            "2/2 [==============================] - 0s 3ms/step - loss: 12.9748 - mse: 262.3860\n",
            "Epoch 414/500\n",
            "2/2 [==============================] - 0s 3ms/step - loss: 8.2809 - mse: 180.3745\n",
            "Epoch 415/500\n",
            "2/2 [==============================] - 0s 5ms/step - loss: 11.7033 - mse: 240.5079\n",
            "Epoch 416/500\n",
            "2/2 [==============================] - 0s 5ms/step - loss: 25.6648 - mse: 917.3312\n",
            "Epoch 417/500\n",
            "2/2 [==============================] - 0s 5ms/step - loss: 15.6302 - mse: 373.0489\n",
            "Epoch 418/500\n",
            "2/2 [==============================] - 0s 4ms/step - loss: 12.5976 - mse: 232.1197\n",
            "Epoch 419/500\n",
            "2/2 [==============================] - 0s 3ms/step - loss: 15.7161 - mse: 361.9624\n",
            "Epoch 420/500\n",
            "2/2 [==============================] - 0s 2ms/step - loss: 24.4518 - mse: 831.6743\n",
            "Epoch 421/500\n",
            "2/2 [==============================] - 0s 3ms/step - loss: 18.2049 - mse: 482.8632\n",
            "Epoch 422/500\n",
            "2/2 [==============================] - 0s 4ms/step - loss: 8.5847 - mse: 201.1669\n",
            "Epoch 423/500\n",
            "2/2 [==============================] - 0s 4ms/step - loss: 24.6375 - mse: 861.0783\n",
            "Epoch 424/500\n",
            "2/2 [==============================] - 0s 3ms/step - loss: 16.8831 - mse: 438.6650\n",
            "Epoch 425/500\n",
            "2/2 [==============================] - 0s 3ms/step - loss: 7.2461 - mse: 77.3223\n",
            "Epoch 426/500\n",
            "2/2 [==============================] - 0s 3ms/step - loss: 21.0766 - mse: 614.9274\n",
            "Epoch 427/500\n",
            "2/2 [==============================] - 0s 3ms/step - loss: 6.4432 - mse: 81.3365\n",
            "Epoch 428/500\n",
            "2/2 [==============================] - 0s 4ms/step - loss: 13.5406 - mse: 301.5028\n",
            "Epoch 429/500\n",
            "2/2 [==============================] - 0s 5ms/step - loss: 11.5223 - mse: 216.5070\n",
            "Epoch 430/500\n",
            "2/2 [==============================] - 0s 3ms/step - loss: 10.2725 - mse: 215.7764\n",
            "Epoch 431/500\n",
            "2/2 [==============================] - 0s 4ms/step - loss: 11.5636 - mse: 247.5543\n",
            "Epoch 432/500\n",
            "2/2 [==============================] - 0s 3ms/step - loss: 9.9666 - mse: 187.7931\n",
            "Epoch 433/500\n",
            "2/2 [==============================] - 0s 3ms/step - loss: 3.4791 - mse: 16.9056\n",
            "Epoch 434/500\n",
            "2/2 [==============================] - 0s 2ms/step - loss: 37.3350 - mse: 2206.5417\n",
            "Epoch 435/500\n",
            "2/2 [==============================] - 0s 3ms/step - loss: 14.1516 - mse: 323.5082\n",
            "Epoch 436/500\n",
            "2/2 [==============================] - 0s 4ms/step - loss: 12.3636 - mse: 217.7946\n",
            "Epoch 437/500\n",
            "2/2 [==============================] - 0s 7ms/step - loss: 16.2452 - mse: 346.2302\n",
            "Epoch 438/500\n",
            "2/2 [==============================] - 0s 2ms/step - loss: 13.9256 - mse: 283.3562\n",
            "Epoch 439/500\n",
            "2/2 [==============================] - 0s 3ms/step - loss: 31.9835 - mse: 1422.2478\n",
            "Epoch 440/500\n",
            "2/2 [==============================] - 0s 5ms/step - loss: 12.4610 - mse: 257.1582\n",
            "Epoch 441/500\n",
            "2/2 [==============================] - 0s 5ms/step - loss: 15.7539 - mse: 346.1712\n",
            "Epoch 442/500\n",
            "2/2 [==============================] - 0s 6ms/step - loss: 23.6724 - mse: 830.5516\n",
            "Epoch 443/500\n",
            "2/2 [==============================] - 0s 2ms/step - loss: 20.1869 - mse: 571.0022\n",
            "Epoch 444/500\n",
            "2/2 [==============================] - 0s 3ms/step - loss: 8.8075 - mse: 145.0104\n",
            "Epoch 445/500\n",
            "2/2 [==============================] - 0s 5ms/step - loss: 13.9873 - mse: 273.5395\n",
            "Epoch 446/500\n",
            "2/2 [==============================] - 0s 6ms/step - loss: 16.6497 - mse: 439.7879\n",
            "Epoch 447/500\n",
            "2/2 [==============================] - 0s 3ms/step - loss: 6.7724 - mse: 68.0983\n",
            "Epoch 448/500\n",
            "2/2 [==============================] - 0s 3ms/step - loss: 5.9932 - mse: 99.4754\n",
            "Epoch 449/500\n",
            "2/2 [==============================] - 0s 4ms/step - loss: 16.2159 - mse: 379.0424\n",
            "Epoch 450/500\n",
            "2/2 [==============================] - 0s 4ms/step - loss: 15.1382 - mse: 318.0272\n",
            "Epoch 451/500\n",
            "2/2 [==============================] - 0s 4ms/step - loss: 16.7965 - mse: 464.4365\n",
            "Epoch 452/500\n",
            "2/2 [==============================] - 0s 5ms/step - loss: 46.3610 - mse: 3795.6528\n",
            "Epoch 453/500\n",
            "2/2 [==============================] - 0s 4ms/step - loss: 26.7492 - mse: 1038.2166\n",
            "Epoch 454/500\n",
            "2/2 [==============================] - 0s 2ms/step - loss: 23.4255 - mse: 800.7764\n",
            "Epoch 455/500\n",
            "2/2 [==============================] - 0s 3ms/step - loss: 8.8227 - mse: 152.6138\n",
            "Epoch 456/500\n",
            "2/2 [==============================] - 0s 3ms/step - loss: 12.9224 - mse: 265.6943\n",
            "Epoch 457/500\n",
            "2/2 [==============================] - 0s 3ms/step - loss: 16.2042 - mse: 387.0935\n",
            "Epoch 458/500\n",
            "2/2 [==============================] - 0s 3ms/step - loss: 13.1297 - mse: 293.0237\n",
            "Epoch 459/500\n",
            "2/2 [==============================] - 0s 4ms/step - loss: 24.1870 - mse: 859.6810\n",
            "Epoch 460/500\n",
            "2/2 [==============================] - 0s 3ms/step - loss: 19.4875 - mse: 543.3801\n",
            "Epoch 461/500\n",
            "2/2 [==============================] - 0s 3ms/step - loss: 9.6672 - mse: 264.5860\n",
            "Epoch 462/500\n",
            "2/2 [==============================] - 0s 3ms/step - loss: 12.9494 - mse: 240.6241\n",
            "Epoch 463/500\n",
            "2/2 [==============================] - 0s 3ms/step - loss: 28.8185 - mse: 1164.1667\n",
            "Epoch 464/500\n",
            "2/2 [==============================] - 0s 3ms/step - loss: 7.4871 - mse: 113.3609\n",
            "Epoch 465/500\n",
            "2/2 [==============================] - 0s 3ms/step - loss: 15.8110 - mse: 368.2714\n",
            "Epoch 466/500\n",
            "2/2 [==============================] - 0s 4ms/step - loss: 9.3086 - mse: 259.6674\n",
            "Epoch 467/500\n",
            "2/2 [==============================] - 0s 3ms/step - loss: 21.4326 - mse: 713.0658\n",
            "Epoch 468/500\n",
            "2/2 [==============================] - 0s 4ms/step - loss: 24.0424 - mse: 816.1470\n",
            "Epoch 469/500\n",
            "2/2 [==============================] - 0s 7ms/step - loss: 21.4812 - mse: 654.5864\n",
            "Epoch 470/500\n",
            "2/2 [==============================] - 0s 4ms/step - loss: 9.7192 - mse: 182.6497\n",
            "Epoch 471/500\n",
            "2/2 [==============================] - 0s 3ms/step - loss: 16.2748 - mse: 402.7622\n",
            "Epoch 472/500\n",
            "2/2 [==============================] - 0s 5ms/step - loss: 14.8546 - mse: 301.9553\n",
            "Epoch 473/500\n",
            "2/2 [==============================] - 0s 4ms/step - loss: 18.1335 - mse: 515.0904\n",
            "Epoch 474/500\n",
            "2/2 [==============================] - 0s 3ms/step - loss: 42.4419 - mse: 2843.1177\n",
            "Epoch 475/500\n",
            "2/2 [==============================] - 0s 6ms/step - loss: 18.1343 - mse: 468.1024\n",
            "Epoch 476/500\n",
            "2/2 [==============================] - 0s 7ms/step - loss: 13.1620 - mse: 242.4464\n",
            "Epoch 477/500\n",
            "2/2 [==============================] - 0s 5ms/step - loss: 29.2122 - mse: 1194.2977\n",
            "Epoch 478/500\n",
            "2/2 [==============================] - 0s 4ms/step - loss: 5.7929 - mse: 72.8212\n",
            "Epoch 479/500\n",
            "2/2 [==============================] - 0s 4ms/step - loss: 6.3467 - mse: 110.1568\n",
            "Epoch 480/500\n",
            "2/2 [==============================] - 0s 5ms/step - loss: 20.0176 - mse: 621.3151\n",
            "Epoch 481/500\n",
            "2/2 [==============================] - 0s 5ms/step - loss: 25.1343 - mse: 945.9955\n",
            "Epoch 482/500\n",
            "2/2 [==============================] - 0s 4ms/step - loss: 13.7046 - mse: 287.2496\n",
            "Epoch 483/500\n",
            "2/2 [==============================] - 0s 5ms/step - loss: 8.7319 - mse: 206.9406\n",
            "Epoch 484/500\n",
            "2/2 [==============================] - 0s 4ms/step - loss: 27.7787 - mse: 1094.1404\n",
            "Epoch 485/500\n",
            "2/2 [==============================] - 0s 3ms/step - loss: 9.2595 - mse: 181.7203\n",
            "Epoch 486/500\n",
            "2/2 [==============================] - 0s 4ms/step - loss: 4.2764 - mse: 37.3886\n",
            "Epoch 487/500\n",
            "2/2 [==============================] - 0s 6ms/step - loss: 11.3816 - mse: 288.6179\n",
            "Epoch 488/500\n",
            "2/2 [==============================] - 0s 4ms/step - loss: 27.0981 - mse: 1068.7654\n",
            "Epoch 489/500\n",
            "2/2 [==============================] - 0s 5ms/step - loss: 5.2149 - mse: 76.5981\n",
            "Epoch 490/500\n",
            "2/2 [==============================] - 0s 8ms/step - loss: 5.9868 - mse: 94.8564\n",
            "Epoch 491/500\n",
            "2/2 [==============================] - 0s 4ms/step - loss: 18.9389 - mse: 510.9944\n",
            "Epoch 492/500\n",
            "2/2 [==============================] - 0s 15ms/step - loss: 7.4010 - mse: 170.2054\n",
            "Epoch 493/500\n",
            "2/2 [==============================] - 0s 10ms/step - loss: 18.2777 - mse: 488.5852\n",
            "Epoch 494/500\n",
            "2/2 [==============================] - 0s 9ms/step - loss: 18.4784 - mse: 537.6639\n",
            "Epoch 495/500\n",
            "2/2 [==============================] - 0s 5ms/step - loss: 6.2882 - mse: 57.4851\n",
            "Epoch 496/500\n",
            "2/2 [==============================] - 0s 6ms/step - loss: 6.3559 - mse: 86.2533\n",
            "Epoch 497/500\n",
            "2/2 [==============================] - 0s 7ms/step - loss: 13.7619 - mse: 299.9114\n",
            "Epoch 498/500\n",
            "2/2 [==============================] - 0s 9ms/step - loss: 6.7244 - mse: 75.2695\n",
            "Epoch 499/500\n",
            "2/2 [==============================] - 0s 13ms/step - loss: 17.6583 - mse: 449.7725\n",
            "Epoch 500/500\n",
            "2/2 [==============================] - 0s 6ms/step - loss: 14.2464 - mse: 266.7622\n",
            "Model: \"sequential\"\n",
            "_________________________________________________________________\n",
            "Layer (type)                 Output Shape              Param #   \n",
            "=================================================================\n",
            "dense (Dense)                (None, 1)                 2         \n",
            "=================================================================\n",
            "Total params: 2\n",
            "Trainable params: 2\n",
            "Non-trainable params: 0\n",
            "_________________________________________________________________\n"
          ],
          "name": "stdout"
        }
      ]
    },
    {
      "cell_type": "code",
      "metadata": {
        "colab": {
          "base_uri": "https://localhost:8080/",
          "height": 465
        },
        "id": "IUrKEgJpu8a3",
        "outputId": "3f4f7736-9057-4124-cdfd-c4f4067afeca"
      },
      "source": [
        "y_pred_im_2 = model_im_2.predict(X_test)\n",
        "plot_predictions(predictions=y_pred_im_2)\n"
      ],
      "execution_count": 32,
      "outputs": [
        {
          "output_type": "stream",
          "text": [
            "WARNING:tensorflow:5 out of the last 5 calls to <function Model.make_predict_function.<locals>.predict_function at 0x7f47870e7290> triggered tf.function retracing. Tracing is expensive and the excessive number of tracings could be due to (1) creating @tf.function repeatedly in a loop, (2) passing tensors with different shapes, (3) passing Python objects instead of tensors. For (1), please define your @tf.function outside of the loop. For (2), @tf.function has experimental_relax_shapes=True option that relaxes argument shapes that can avoid unnecessary retracing. For (3), please refer to https://www.tensorflow.org/guide/function#controlling_retracing and https://www.tensorflow.org/api_docs/python/tf/function for  more details.\n"
          ],
          "name": "stdout"
        },
        {
          "output_type": "display_data",
          "data": {
            "image/png": "[encoded data removed]",
            "text/plain": [
              "<Figure size 720x504 with 1 Axes>"
            ]
          },
          "metadata": {
            "tags": [],
            "needs_background": "light"
          }
        }
      ]
    },
    {
      "cell_type": "code",
      "metadata": {
        "colab": {
          "base_uri": "https://localhost:8080/"
        },
        "id": "sNGmBe5LoTGD",
        "outputId": "b6995d54-717e-4cf7-de63-412486c160f4"
      },
      "source": [
        "mae_3 = mae(y_true=y_test, y_pred=tf.squeeze(y_pred_im_2))\n",
        "mse_3 = mse(y_true=y_test, y_pred=tf.squeeze(y_pred_im_2))\n",
        "mae_3,mse_3"
      ],
      "execution_count": 33,
      "outputs": [
        {
          "output_type": "execute_result",
          "data": {
            "text/plain": [
              "(<tf.Tensor: shape=(), dtype=float32, numpy=67.42881>,\n",
              " <tf.Tensor: shape=(), dtype=float32, numpy=4630.2188>)"
            ]
          },
          "metadata": {
            "tags": []
          },
          "execution_count": 33
        }
      ]
    },
    {
      "cell_type": "code",
      "metadata": {
        "colab": {
          "base_uri": "https://localhost:8080/",
          "height": 141
        },
        "id": "LYQxlNXrsd1_",
        "outputId": "5483e4d6-ebb6-4889-d66f-9b8539864bf5"
      },
      "source": [
        "import pandas as pd\n",
        "model_results = [[\"model_huge\",mae_1.numpy(),mse_1.numpy()],\n",
        "                 [\"model_im_1\",mae_im1.numpy(), mse_im1.numpy()],\n",
        "                 [\"model_im_2\",mae_3.numpy(),mse_3.numpy()]]\n",
        "all_models=pd.DataFrame(model_results,columns=[\"Model\",\"mae\",\"mse\"])\n",
        "all_models"
      ],
      "execution_count": 34,
      "outputs": [
        {
          "output_type": "execute_result",
          "data": {
            "text/html": [
              "<div>\n",
              "<style scoped>\n",
              "    .dataframe tbody tr th:only-of-type {\n",
              "        vertical-align: middle;\n",
              "    }\n",
              "\n",
              "    .dataframe tbody tr th {\n",
              "        vertical-align: top;\n",
              "    }\n",
              "\n",
              "    .dataframe thead th {\n",
              "        text-align: right;\n",
              "    }\n",
              "</style>\n",
              "<table border=\"1\" class=\"dataframe\">\n",
              "  <thead>\n",
              "    <tr style=\"text-align: right;\">\n",
              "      <th></th>\n",
              "      <th>Model</th>\n",
              "      <th>mae</th>\n",
              "      <th>mse</th>\n",
              "    </tr>\n",
              "  </thead>\n",
              "  <tbody>\n",
              "    <tr>\n",
              "      <th>0</th>\n",
              "      <td>model_huge</td>\n",
              "      <td>0.189579</td>\n",
              "      <td>0.037312</td>\n",
              "    </tr>\n",
              "    <tr>\n",
              "      <th>1</th>\n",
              "      <td>model_im_1</td>\n",
              "      <td>13.305140</td>\n",
              "      <td>187.112274</td>\n",
              "    </tr>\n",
              "    <tr>\n",
              "      <th>2</th>\n",
              "      <td>model_im_2</td>\n",
              "      <td>67.428810</td>\n",
              "      <td>4630.218750</td>\n",
              "    </tr>\n",
              "  </tbody>\n",
              "</table>\n",
              "</div>"
            ],
            "text/plain": [
              "        Model        mae          mse\n",
              "0  model_huge   0.189579     0.037312\n",
              "1  model_im_1  13.305140   187.112274\n",
              "2  model_im_2  67.428810  4630.218750"
            ]
          },
          "metadata": {
            "tags": []
          },
          "execution_count": 34
        }
      ]
    },
    {
      "cell_type": "code",
      "metadata": {
        "colab": {
          "base_uri": "https://localhost:8080/"
        },
        "id": "75iEeUoruQOX",
        "outputId": "d07ffe81-8e99-43e7-9711-55ec80d892bb"
      },
      "source": [
        "model_huge.summary()"
      ],
      "execution_count": 35,
      "outputs": [
        {
          "output_type": "stream",
          "text": [
            "Model: \"huge_model\"\n",
            "_________________________________________________________________\n",
            "Layer (type)                 Output Shape              Param #   \n",
            "=================================================================\n",
            "input_layer (Dense)          (None, 10)                20        \n",
            "_________________________________________________________________\n",
            "output_layer (Dense)         (None, 1)                 11        \n",
            "=================================================================\n",
            "Total params: 31\n",
            "Trainable params: 31\n",
            "Non-trainable params: 0\n",
            "_________________________________________________________________\n"
          ],
          "name": "stdout"
        }
      ]
    },
    {
      "cell_type": "markdown",
      "metadata": {
        "id": "Xu1hHY9muUY4"
      },
      "source": [
        "# Saving our models -- to use them outside colab - eg: in Web apps or mobile apps.\n"
      ]
    },
    {
      "cell_type": "code",
      "metadata": {
        "colab": {
          "base_uri": "https://localhost:8080/"
        },
        "id": "AFDhXpuVuo-7",
        "outputId": "9407a261-7eb9-4dd4-9180-5d2c8e37f4e6"
      },
      "source": [
        "model_huge.save(\"best_model_till_now\")"
      ],
      "execution_count": 36,
      "outputs": [
        {
          "output_type": "stream",
          "text": [
            "INFO:tensorflow:Assets written to: best_model_till_now/assets\n"
          ],
          "name": "stdout"
        }
      ]
    },
    {
      "cell_type": "code",
      "metadata": {
        "id": "PNV_n6GWvhS5"
      },
      "source": [
        "model_huge.save(\"best_model_till_now.h5\")"
      ],
      "execution_count": 37,
      "outputs": []
    },
    {
      "cell_type": "code",
      "metadata": {
        "colab": {
          "base_uri": "https://localhost:8080/"
        },
        "id": "hxIko9ohxD2i",
        "outputId": "ab643557-46a8-4a54-cc91-d1e12e4b4658"
      },
      "source": [
        "#Loading the saved model\n",
        "loaded_SavedModel_format=tf.keras.models.load_model (\"/content/best_model_till_now\")\n",
        "loaded_SavedModel_format.summary()"
      ],
      "execution_count": 38,
      "outputs": [
        {
          "output_type": "stream",
          "text": [
            "Model: \"huge_model\"\n",
            "_________________________________________________________________\n",
            "Layer (type)                 Output Shape              Param #   \n",
            "=================================================================\n",
            "input_layer (Dense)          (None, 10)                20        \n",
            "_________________________________________________________________\n",
            "output_layer (Dense)         (None, 1)                 11        \n",
            "=================================================================\n",
            "Total params: 31\n",
            "Trainable params: 31\n",
            "Non-trainable params: 0\n",
            "_________________________________________________________________\n"
          ],
          "name": "stdout"
        }
      ]
    },
    {
      "cell_type": "markdown",
      "metadata": {
        "id": "9Lekz_2h1-jz"
      },
      "source": [
        "#Lets work on larger models now."
      ]
    },
    {
      "cell_type": "code",
      "metadata": {
        "id": "Q28jPwic2CeR"
      },
      "source": [
        "#import necessary libs\n",
        "\n",
        "import tensorflow as tf\n",
        "import pandas as pd\n",
        "import matplotlib.pyplot as plt\n"
      ],
      "execution_count": 39,
      "outputs": []
    },
    {
      "cell_type": "code",
      "metadata": {
        "colab": {
          "base_uri": "https://localhost:8080/",
          "height": 415
        },
        "id": "sGdQ5T6P2Oz8",
        "outputId": "8c3dc5b9-65e3-4b2b-88f2-dc9dff59e930"
      },
      "source": [
        "insurance = pd.read_csv(\"https://raw.githubusercontent.com/stedy/Machine-Learning-with-R-datasets/master/insurance.csv\")\n",
        "insurance"
      ],
      "execution_count": 40,
      "outputs": [
        {
          "output_type": "execute_result",
          "data": {
            "text/html": [
              "<div>\n",
              "<style scoped>\n",
              "    .dataframe tbody tr th:only-of-type {\n",
              "        vertical-align: middle;\n",
              "    }\n",
              "\n",
              "    .dataframe tbody tr th {\n",
              "        vertical-align: top;\n",
              "    }\n",
              "\n",
              "    .dataframe thead th {\n",
              "        text-align: right;\n",
              "    }\n",
              "</style>\n",
              "<table border=\"1\" class=\"dataframe\">\n",
              "  <thead>\n",
              "    <tr style=\"text-align: right;\">\n",
              "      <th></th>\n",
              "      <th>age</th>\n",
              "      <th>sex</th>\n",
              "      <th>bmi</th>\n",
              "      <th>children</th>\n",
              "      <th>smoker</th>\n",
              "      <th>region</th>\n",
              "      <th>charges</th>\n",
              "    </tr>\n",
              "  </thead>\n",
              "  <tbody>\n",
              "    <tr>\n",
              "      <th>0</th>\n",
              "      <td>19</td>\n",
              "      <td>female</td>\n",
              "      <td>27.900</td>\n",
              "      <td>0</td>\n",
              "      <td>yes</td>\n",
              "      <td>southwest</td>\n",
              "      <td>16884.92400</td>\n",
              "    </tr>\n",
              "    <tr>\n",
              "      <th>1</th>\n",
              "      <td>18</td>\n",
              "      <td>male</td>\n",
              "      <td>33.770</td>\n",
              "      <td>1</td>\n",
              "      <td>no</td>\n",
              "      <td>southeast</td>\n",
              "      <td>1725.55230</td>\n",
              "    </tr>\n",
              "    <tr>\n",
              "      <th>2</th>\n",
              "      <td>28</td>\n",
              "      <td>male</td>\n",
              "      <td>33.000</td>\n",
              "      <td>3</td>\n",
              "      <td>no</td>\n",
              "      <td>southeast</td>\n",
              "      <td>4449.46200</td>\n",
              "    </tr>\n",
              "    <tr>\n",
              "      <th>3</th>\n",
              "      <td>33</td>\n",
              "      <td>male</td>\n",
              "      <td>22.705</td>\n",
              "      <td>0</td>\n",
              "      <td>no</td>\n",
              "      <td>northwest</td>\n",
              "      <td>21984.47061</td>\n",
              "    </tr>\n",
              "    <tr>\n",
              "      <th>4</th>\n",
              "      <td>32</td>\n",
              "      <td>male</td>\n",
              "      <td>28.880</td>\n",
              "      <td>0</td>\n",
              "      <td>no</td>\n",
              "      <td>northwest</td>\n",
              "      <td>3866.85520</td>\n",
              "    </tr>\n",
              "    <tr>\n",
              "      <th>...</th>\n",
              "      <td>...</td>\n",
              "      <td>...</td>\n",
              "      <td>...</td>\n",
              "      <td>...</td>\n",
              "      <td>...</td>\n",
              "      <td>...</td>\n",
              "      <td>...</td>\n",
              "    </tr>\n",
              "    <tr>\n",
              "      <th>1333</th>\n",
              "      <td>50</td>\n",
              "      <td>male</td>\n",
              "      <td>30.970</td>\n",
              "      <td>3</td>\n",
              "      <td>no</td>\n",
              "      <td>northwest</td>\n",
              "      <td>10600.54830</td>\n",
              "    </tr>\n",
              "    <tr>\n",
              "      <th>1334</th>\n",
              "      <td>18</td>\n",
              "      <td>female</td>\n",
              "      <td>31.920</td>\n",
              "      <td>0</td>\n",
              "      <td>no</td>\n",
              "      <td>northeast</td>\n",
              "      <td>2205.98080</td>\n",
              "    </tr>\n",
              "    <tr>\n",
              "      <th>1335</th>\n",
              "      <td>18</td>\n",
              "      <td>female</td>\n",
              "      <td>36.850</td>\n",
              "      <td>0</td>\n",
              "      <td>no</td>\n",
              "      <td>southeast</td>\n",
              "      <td>1629.83350</td>\n",
              "    </tr>\n",
              "    <tr>\n",
              "      <th>1336</th>\n",
              "      <td>21</td>\n",
              "      <td>female</td>\n",
              "      <td>25.800</td>\n",
              "      <td>0</td>\n",
              "      <td>no</td>\n",
              "      <td>southwest</td>\n",
              "      <td>2007.94500</td>\n",
              "    </tr>\n",
              "    <tr>\n",
              "      <th>1337</th>\n",
              "      <td>61</td>\n",
              "      <td>female</td>\n",
              "      <td>29.070</td>\n",
              "      <td>0</td>\n",
              "      <td>yes</td>\n",
              "      <td>northwest</td>\n",
              "      <td>29141.36030</td>\n",
              "    </tr>\n",
              "  </tbody>\n",
              "</table>\n",
              "<p>1338 rows × 7 columns</p>\n",
              "</div>"
            ],
            "text/plain": [
              "      age     sex     bmi  children smoker     region      charges\n",
              "0      19  female  27.900         0    yes  southwest  16884.92400\n",
              "1      18    male  33.770         1     no  southeast   1725.55230\n",
              "2      28    male  33.000         3     no  southeast   4449.46200\n",
              "3      33    male  22.705         0     no  northwest  21984.47061\n",
              "4      32    male  28.880         0     no  northwest   3866.85520\n",
              "...   ...     ...     ...       ...    ...        ...          ...\n",
              "1333   50    male  30.970         3     no  northwest  10600.54830\n",
              "1334   18  female  31.920         0     no  northeast   2205.98080\n",
              "1335   18  female  36.850         0     no  southeast   1629.83350\n",
              "1336   21  female  25.800         0     no  southwest   2007.94500\n",
              "1337   61  female  29.070         0    yes  northwest  29141.36030\n",
              "\n",
              "[1338 rows x 7 columns]"
            ]
          },
          "metadata": {
            "tags": []
          },
          "execution_count": 40
        }
      ]
    },
    {
      "cell_type": "code",
      "metadata": {
        "colab": {
          "base_uri": "https://localhost:8080/",
          "height": 202
        },
        "id": "zqqXysxM2_n5",
        "outputId": "580ab8f5-085f-466f-8c76-a6771c6acea5"
      },
      "source": [
        "#One hot encode the data using pandas dummies function\n",
        "\n",
        "insurance_one_hot=pd.get_dummies(insurance)\n",
        "insurance_one_hot.head()"
      ],
      "execution_count": 41,
      "outputs": [
        {
          "output_type": "execute_result",
          "data": {
            "text/html": [
              "<div>\n",
              "<style scoped>\n",
              "    .dataframe tbody tr th:only-of-type {\n",
              "        vertical-align: middle;\n",
              "    }\n",
              "\n",
              "    .dataframe tbody tr th {\n",
              "        vertical-align: top;\n",
              "    }\n",
              "\n",
              "    .dataframe thead th {\n",
              "        text-align: right;\n",
              "    }\n",
              "</style>\n",
              "<table border=\"1\" class=\"dataframe\">\n",
              "  <thead>\n",
              "    <tr style=\"text-align: right;\">\n",
              "      <th></th>\n",
              "      <th>age</th>\n",
              "      <th>bmi</th>\n",
              "      <th>children</th>\n",
              "      <th>charges</th>\n",
              "      <th>sex_female</th>\n",
              "      <th>sex_male</th>\n",
              "      <th>smoker_no</th>\n",
              "      <th>smoker_yes</th>\n",
              "      <th>region_northeast</th>\n",
              "      <th>region_northwest</th>\n",
              "      <th>region_southeast</th>\n",
              "      <th>region_southwest</th>\n",
              "    </tr>\n",
              "  </thead>\n",
              "  <tbody>\n",
              "    <tr>\n",
              "      <th>0</th>\n",
              "      <td>19</td>\n",
              "      <td>27.900</td>\n",
              "      <td>0</td>\n",
              "      <td>16884.92400</td>\n",
              "      <td>1</td>\n",
              "      <td>0</td>\n",
              "      <td>0</td>\n",
              "      <td>1</td>\n",
              "      <td>0</td>\n",
              "      <td>0</td>\n",
              "      <td>0</td>\n",
              "      <td>1</td>\n",
              "    </tr>\n",
              "    <tr>\n",
              "      <th>1</th>\n",
              "      <td>18</td>\n",
              "      <td>33.770</td>\n",
              "      <td>1</td>\n",
              "      <td>1725.55230</td>\n",
              "      <td>0</td>\n",
              "      <td>1</td>\n",
              "      <td>1</td>\n",
              "      <td>0</td>\n",
              "      <td>0</td>\n",
              "      <td>0</td>\n",
              "      <td>1</td>\n",
              "      <td>0</td>\n",
              "    </tr>\n",
              "    <tr>\n",
              "      <th>2</th>\n",
              "      <td>28</td>\n",
              "      <td>33.000</td>\n",
              "      <td>3</td>\n",
              "      <td>4449.46200</td>\n",
              "      <td>0</td>\n",
              "      <td>1</td>\n",
              "      <td>1</td>\n",
              "      <td>0</td>\n",
              "      <td>0</td>\n",
              "      <td>0</td>\n",
              "      <td>1</td>\n",
              "      <td>0</td>\n",
              "    </tr>\n",
              "    <tr>\n",
              "      <th>3</th>\n",
              "      <td>33</td>\n",
              "      <td>22.705</td>\n",
              "      <td>0</td>\n",
              "      <td>21984.47061</td>\n",
              "      <td>0</td>\n",
              "      <td>1</td>\n",
              "      <td>1</td>\n",
              "      <td>0</td>\n",
              "      <td>0</td>\n",
              "      <td>1</td>\n",
              "      <td>0</td>\n",
              "      <td>0</td>\n",
              "    </tr>\n",
              "    <tr>\n",
              "      <th>4</th>\n",
              "      <td>32</td>\n",
              "      <td>28.880</td>\n",
              "      <td>0</td>\n",
              "      <td>3866.85520</td>\n",
              "      <td>0</td>\n",
              "      <td>1</td>\n",
              "      <td>1</td>\n",
              "      <td>0</td>\n",
              "      <td>0</td>\n",
              "      <td>1</td>\n",
              "      <td>0</td>\n",
              "      <td>0</td>\n",
              "    </tr>\n",
              "  </tbody>\n",
              "</table>\n",
              "</div>"
            ],
            "text/plain": [
              "   age     bmi  children  ...  region_northwest  region_southeast  region_southwest\n",
              "0   19  27.900         0  ...                 0                 0                 1\n",
              "1   18  33.770         1  ...                 0                 1                 0\n",
              "2   28  33.000         3  ...                 0                 1                 0\n",
              "3   33  22.705         0  ...                 1                 0                 0\n",
              "4   32  28.880         0  ...                 1                 0                 0\n",
              "\n",
              "[5 rows x 12 columns]"
            ]
          },
          "metadata": {
            "tags": []
          },
          "execution_count": 41
        }
      ]
    },
    {
      "cell_type": "code",
      "metadata": {
        "colab": {
          "base_uri": "https://localhost:8080/"
        },
        "id": "l3fBXbtW3crz",
        "outputId": "6fe97a1a-4f25-434c-99e5-c328995e6554"
      },
      "source": [
        "#1. Create X and Y features and Lables.\n",
        "X = insurance_one_hot.drop(\"charges\", axis=1)\n",
        "y = insurance[\"charges\"]\n",
        "X.head(),y.head()\n"
      ],
      "execution_count": 42,
      "outputs": [
        {
          "output_type": "execute_result",
          "data": {
            "text/plain": [
              "(   age     bmi  children  ...  region_northwest  region_southeast  region_southwest\n",
              " 0   19  27.900         0  ...                 0                 0                 1\n",
              " 1   18  33.770         1  ...                 0                 1                 0\n",
              " 2   28  33.000         3  ...                 0                 1                 0\n",
              " 3   33  22.705         0  ...                 1                 0                 0\n",
              " 4   32  28.880         0  ...                 1                 0                 0\n",
              " \n",
              " [5 rows x 11 columns], 0    16884.92400\n",
              " 1     1725.55230\n",
              " 2     4449.46200\n",
              " 3    21984.47061\n",
              " 4     3866.85520\n",
              " Name: charges, dtype: float64)"
            ]
          },
          "metadata": {
            "tags": []
          },
          "execution_count": 42
        }
      ]
    },
    {
      "cell_type": "code",
      "metadata": {
        "colab": {
          "base_uri": "https://localhost:8080/"
        },
        "id": "JimIy9Ix4GQt",
        "outputId": "ed107962-1f1c-4e47-86f3-21f2a76a2c39"
      },
      "source": [
        "#2. Create training and test data \n",
        "from sklearn.model_selection import train_test_split\n",
        "X_train,X_test,y_train,y_test=train_test_split(X, y, test_size=0.2, random_state=42)\n",
        "len(X),len(X_train),len(X_test),"
      ],
      "execution_count": 43,
      "outputs": [
        {
          "output_type": "execute_result",
          "data": {
            "text/plain": [
              "(1338, 1070, 268)"
            ]
          },
          "metadata": {
            "tags": []
          },
          "execution_count": 43
        }
      ]
    },
    {
      "cell_type": "code",
      "metadata": {
        "colab": {
          "base_uri": "https://localhost:8080/",
          "height": 415
        },
        "id": "JB_vQ2zR4iOA",
        "outputId": "aa50d02f-c691-4e10-bd66-4184cf3125b8"
      },
      "source": [
        "X_train\n"
      ],
      "execution_count": 44,
      "outputs": [
        {
          "output_type": "execute_result",
          "data": {
            "text/html": [
              "<div>\n",
              "<style scoped>\n",
              "    .dataframe tbody tr th:only-of-type {\n",
              "        vertical-align: middle;\n",
              "    }\n",
              "\n",
              "    .dataframe tbody tr th {\n",
              "        vertical-align: top;\n",
              "    }\n",
              "\n",
              "    .dataframe thead th {\n",
              "        text-align: right;\n",
              "    }\n",
              "</style>\n",
              "<table border=\"1\" class=\"dataframe\">\n",
              "  <thead>\n",
              "    <tr style=\"text-align: right;\">\n",
              "      <th></th>\n",
              "      <th>age</th>\n",
              "      <th>bmi</th>\n",
              "      <th>children</th>\n",
              "      <th>sex_female</th>\n",
              "      <th>sex_male</th>\n",
              "      <th>smoker_no</th>\n",
              "      <th>smoker_yes</th>\n",
              "      <th>region_northeast</th>\n",
              "      <th>region_northwest</th>\n",
              "      <th>region_southeast</th>\n",
              "      <th>region_southwest</th>\n",
              "    </tr>\n",
              "  </thead>\n",
              "  <tbody>\n",
              "    <tr>\n",
              "      <th>560</th>\n",
              "      <td>46</td>\n",
              "      <td>19.950</td>\n",
              "      <td>2</td>\n",
              "      <td>1</td>\n",
              "      <td>0</td>\n",
              "      <td>1</td>\n",
              "      <td>0</td>\n",
              "      <td>0</td>\n",
              "      <td>1</td>\n",
              "      <td>0</td>\n",
              "      <td>0</td>\n",
              "    </tr>\n",
              "    <tr>\n",
              "      <th>1285</th>\n",
              "      <td>47</td>\n",
              "      <td>24.320</td>\n",
              "      <td>0</td>\n",
              "      <td>1</td>\n",
              "      <td>0</td>\n",
              "      <td>1</td>\n",
              "      <td>0</td>\n",
              "      <td>1</td>\n",
              "      <td>0</td>\n",
              "      <td>0</td>\n",
              "      <td>0</td>\n",
              "    </tr>\n",
              "    <tr>\n",
              "      <th>1142</th>\n",
              "      <td>52</td>\n",
              "      <td>24.860</td>\n",
              "      <td>0</td>\n",
              "      <td>1</td>\n",
              "      <td>0</td>\n",
              "      <td>1</td>\n",
              "      <td>0</td>\n",
              "      <td>0</td>\n",
              "      <td>0</td>\n",
              "      <td>1</td>\n",
              "      <td>0</td>\n",
              "    </tr>\n",
              "    <tr>\n",
              "      <th>969</th>\n",
              "      <td>39</td>\n",
              "      <td>34.320</td>\n",
              "      <td>5</td>\n",
              "      <td>1</td>\n",
              "      <td>0</td>\n",
              "      <td>1</td>\n",
              "      <td>0</td>\n",
              "      <td>0</td>\n",
              "      <td>0</td>\n",
              "      <td>1</td>\n",
              "      <td>0</td>\n",
              "    </tr>\n",
              "    <tr>\n",
              "      <th>486</th>\n",
              "      <td>54</td>\n",
              "      <td>21.470</td>\n",
              "      <td>3</td>\n",
              "      <td>1</td>\n",
              "      <td>0</td>\n",
              "      <td>1</td>\n",
              "      <td>0</td>\n",
              "      <td>0</td>\n",
              "      <td>1</td>\n",
              "      <td>0</td>\n",
              "      <td>0</td>\n",
              "    </tr>\n",
              "    <tr>\n",
              "      <th>...</th>\n",
              "      <td>...</td>\n",
              "      <td>...</td>\n",
              "      <td>...</td>\n",
              "      <td>...</td>\n",
              "      <td>...</td>\n",
              "      <td>...</td>\n",
              "      <td>...</td>\n",
              "      <td>...</td>\n",
              "      <td>...</td>\n",
              "      <td>...</td>\n",
              "      <td>...</td>\n",
              "    </tr>\n",
              "    <tr>\n",
              "      <th>1095</th>\n",
              "      <td>18</td>\n",
              "      <td>31.350</td>\n",
              "      <td>4</td>\n",
              "      <td>1</td>\n",
              "      <td>0</td>\n",
              "      <td>1</td>\n",
              "      <td>0</td>\n",
              "      <td>1</td>\n",
              "      <td>0</td>\n",
              "      <td>0</td>\n",
              "      <td>0</td>\n",
              "    </tr>\n",
              "    <tr>\n",
              "      <th>1130</th>\n",
              "      <td>39</td>\n",
              "      <td>23.870</td>\n",
              "      <td>5</td>\n",
              "      <td>1</td>\n",
              "      <td>0</td>\n",
              "      <td>1</td>\n",
              "      <td>0</td>\n",
              "      <td>0</td>\n",
              "      <td>0</td>\n",
              "      <td>1</td>\n",
              "      <td>0</td>\n",
              "    </tr>\n",
              "    <tr>\n",
              "      <th>1294</th>\n",
              "      <td>58</td>\n",
              "      <td>25.175</td>\n",
              "      <td>0</td>\n",
              "      <td>0</td>\n",
              "      <td>1</td>\n",
              "      <td>1</td>\n",
              "      <td>0</td>\n",
              "      <td>1</td>\n",
              "      <td>0</td>\n",
              "      <td>0</td>\n",
              "      <td>0</td>\n",
              "    </tr>\n",
              "    <tr>\n",
              "      <th>860</th>\n",
              "      <td>37</td>\n",
              "      <td>47.600</td>\n",
              "      <td>2</td>\n",
              "      <td>1</td>\n",
              "      <td>0</td>\n",
              "      <td>0</td>\n",
              "      <td>1</td>\n",
              "      <td>0</td>\n",
              "      <td>0</td>\n",
              "      <td>0</td>\n",
              "      <td>1</td>\n",
              "    </tr>\n",
              "    <tr>\n",
              "      <th>1126</th>\n",
              "      <td>55</td>\n",
              "      <td>29.900</td>\n",
              "      <td>0</td>\n",
              "      <td>0</td>\n",
              "      <td>1</td>\n",
              "      <td>1</td>\n",
              "      <td>0</td>\n",
              "      <td>0</td>\n",
              "      <td>0</td>\n",
              "      <td>0</td>\n",
              "      <td>1</td>\n",
              "    </tr>\n",
              "  </tbody>\n",
              "</table>\n",
              "<p>1070 rows × 11 columns</p>\n",
              "</div>"
            ],
            "text/plain": [
              "      age     bmi  ...  region_southeast  region_southwest\n",
              "560    46  19.950  ...                 0                 0\n",
              "1285   47  24.320  ...                 0                 0\n",
              "1142   52  24.860  ...                 1                 0\n",
              "969    39  34.320  ...                 1                 0\n",
              "486    54  21.470  ...                 0                 0\n",
              "...   ...     ...  ...               ...               ...\n",
              "1095   18  31.350  ...                 0                 0\n",
              "1130   39  23.870  ...                 1                 0\n",
              "1294   58  25.175  ...                 0                 0\n",
              "860    37  47.600  ...                 0                 1\n",
              "1126   55  29.900  ...                 0                 1\n",
              "\n",
              "[1070 rows x 11 columns]"
            ]
          },
          "metadata": {
            "tags": []
          },
          "execution_count": 44
        }
      ]
    },
    {
      "cell_type": "code",
      "metadata": {
        "colab": {
          "base_uri": "https://localhost:8080/"
        },
        "id": "BSBs2Ul05iMJ",
        "outputId": "ea3889e7-b0e1-4ce6-80a6-89a975dff82a"
      },
      "source": [
        "# Build neural network model\n",
        "tf.random.set_seed(42)\n",
        "\n",
        "#1. Create a model\n",
        "insurance_model = tf.keras.Sequential([\n",
        "                                       tf.keras.layers.Dense(10),\n",
        "                                       tf.keras.layers.Dense(1)\n",
        "],name = \"insuarance_model\")\n",
        "\n",
        "#2. Compile a model\n",
        "insurance_model.compile(loss=tf.keras.losses.mae,\n",
        "                         optimizer=tf.keras.optimizers.SGD(),\n",
        "                         metrics=[\"mae\"])\n",
        "#fit the model\n",
        "insurance_model.fit(X_train,y_train,epochs=100)"
      ],
      "execution_count": 45,
      "outputs": [
        {
          "output_type": "stream",
          "text": [
            "Epoch 1/100\n",
            "34/34 [==============================] - 0s 1ms/step - loss: 8637.1006 - mae: 8637.1006\n",
            "Epoch 2/100\n",
            "34/34 [==============================] - 0s 1ms/step - loss: 7886.7759 - mae: 7886.7759\n",
            "Epoch 3/100\n",
            "34/34 [==============================] - 0s 1ms/step - loss: 7558.1470 - mae: 7558.1470\n",
            "Epoch 4/100\n",
            "34/34 [==============================] - 0s 1ms/step - loss: 7792.0225 - mae: 7792.0225\n",
            "Epoch 5/100\n",
            "34/34 [==============================] - 0s 1ms/step - loss: 7748.3887 - mae: 7748.3887\n",
            "Epoch 6/100\n",
            "34/34 [==============================] - 0s 1ms/step - loss: 7595.3940 - mae: 7595.3940\n",
            "Epoch 7/100\n",
            "34/34 [==============================] - 0s 1ms/step - loss: 7589.9849 - mae: 7589.9849\n",
            "Epoch 8/100\n",
            "34/34 [==============================] - 0s 1ms/step - loss: 7698.5591 - mae: 7698.5591\n",
            "Epoch 9/100\n",
            "34/34 [==============================] - 0s 1ms/step - loss: 7496.7783 - mae: 7496.7783\n",
            "Epoch 10/100\n",
            "34/34 [==============================] - 0s 1ms/step - loss: 7493.1743 - mae: 7493.1743\n",
            "Epoch 11/100\n",
            "34/34 [==============================] - 0s 1ms/step - loss: 7769.7310 - mae: 7769.7310\n",
            "Epoch 12/100\n",
            "34/34 [==============================] - 0s 1ms/step - loss: 7706.9048 - mae: 7706.9048\n",
            "Epoch 13/100\n",
            "34/34 [==============================] - 0s 1ms/step - loss: 7687.7227 - mae: 7687.7227\n",
            "Epoch 14/100\n",
            "34/34 [==============================] - 0s 1ms/step - loss: 7689.8999 - mae: 7689.8999\n",
            "Epoch 15/100\n",
            "34/34 [==============================] - 0s 1ms/step - loss: 7393.5332 - mae: 7393.5332\n",
            "Epoch 16/100\n",
            "34/34 [==============================] - 0s 1ms/step - loss: 7780.6982 - mae: 7780.6982\n",
            "Epoch 17/100\n",
            "34/34 [==============================] - 0s 1ms/step - loss: 7578.5112 - mae: 7578.5112\n",
            "Epoch 18/100\n",
            "34/34 [==============================] - 0s 1ms/step - loss: 7750.8354 - mae: 7750.8354\n",
            "Epoch 19/100\n",
            "34/34 [==============================] - 0s 1ms/step - loss: 7739.2148 - mae: 7739.2148\n",
            "Epoch 20/100\n",
            "34/34 [==============================] - 0s 1ms/step - loss: 7875.0654 - mae: 7875.0654\n",
            "Epoch 21/100\n",
            "34/34 [==============================] - 0s 1ms/step - loss: 7466.6772 - mae: 7466.6772\n",
            "Epoch 22/100\n",
            "34/34 [==============================] - 0s 1ms/step - loss: 7941.2319 - mae: 7941.2319\n",
            "Epoch 23/100\n",
            "34/34 [==============================] - 0s 1ms/step - loss: 7640.2725 - mae: 7640.2725\n",
            "Epoch 24/100\n",
            "34/34 [==============================] - 0s 1ms/step - loss: 7539.2666 - mae: 7539.2666\n",
            "Epoch 25/100\n",
            "34/34 [==============================] - 0s 1ms/step - loss: 7619.9663 - mae: 7619.9663\n",
            "Epoch 26/100\n",
            "34/34 [==============================] - 0s 1ms/step - loss: 7644.1719 - mae: 7644.1719\n",
            "Epoch 27/100\n",
            "34/34 [==============================] - 0s 1ms/step - loss: 7709.0376 - mae: 7709.0376\n",
            "Epoch 28/100\n",
            "34/34 [==============================] - 0s 1ms/step - loss: 7366.8662 - mae: 7366.8662\n",
            "Epoch 29/100\n",
            "34/34 [==============================] - 0s 1ms/step - loss: 7444.3159 - mae: 7444.3159\n",
            "Epoch 30/100\n",
            "34/34 [==============================] - 0s 1ms/step - loss: 7616.4097 - mae: 7616.4097\n",
            "Epoch 31/100\n",
            "34/34 [==============================] - 0s 1ms/step - loss: 7686.3853 - mae: 7686.3853\n",
            "Epoch 32/100\n",
            "34/34 [==============================] - 0s 1ms/step - loss: 7548.0991 - mae: 7548.0991\n",
            "Epoch 33/100\n",
            "34/34 [==============================] - 0s 1ms/step - loss: 7501.5537 - mae: 7501.5537\n",
            "Epoch 34/100\n",
            "34/34 [==============================] - 0s 1ms/step - loss: 7363.4155 - mae: 7363.4155\n",
            "Epoch 35/100\n",
            "34/34 [==============================] - 0s 1ms/step - loss: 7295.4473 - mae: 7295.4473\n",
            "Epoch 36/100\n",
            "34/34 [==============================] - 0s 1ms/step - loss: 7569.8818 - mae: 7569.8818\n",
            "Epoch 37/100\n",
            "34/34 [==============================] - 0s 1ms/step - loss: 7548.1997 - mae: 7548.1997\n",
            "Epoch 38/100\n",
            "34/34 [==============================] - 0s 1ms/step - loss: 7424.3979 - mae: 7424.3979\n",
            "Epoch 39/100\n",
            "34/34 [==============================] - 0s 1ms/step - loss: 7529.7734 - mae: 7529.7734\n",
            "Epoch 40/100\n",
            "34/34 [==============================] - 0s 1ms/step - loss: 7467.3237 - mae: 7467.3237\n",
            "Epoch 41/100\n",
            "34/34 [==============================] - 0s 1ms/step - loss: 7635.9292 - mae: 7635.9292\n",
            "Epoch 42/100\n",
            "34/34 [==============================] - 0s 1ms/step - loss: 7536.8394 - mae: 7536.8394\n",
            "Epoch 43/100\n",
            "34/34 [==============================] - 0s 1ms/step - loss: 7616.5854 - mae: 7616.5854\n",
            "Epoch 44/100\n",
            "34/34 [==============================] - 0s 1ms/step - loss: 7439.4941 - mae: 7439.4941\n",
            "Epoch 45/100\n",
            "34/34 [==============================] - 0s 1ms/step - loss: 7538.0161 - mae: 7538.0161\n",
            "Epoch 46/100\n",
            "34/34 [==============================] - 0s 1ms/step - loss: 7415.1465 - mae: 7415.1465\n",
            "Epoch 47/100\n",
            "34/34 [==============================] - 0s 1ms/step - loss: 7420.6938 - mae: 7420.6938\n",
            "Epoch 48/100\n",
            "34/34 [==============================] - 0s 1ms/step - loss: 7509.9844 - mae: 7509.9844\n",
            "Epoch 49/100\n",
            "34/34 [==============================] - 0s 1ms/step - loss: 7541.1128 - mae: 7541.1128\n",
            "Epoch 50/100\n",
            "34/34 [==============================] - 0s 1ms/step - loss: 7467.8638 - mae: 7467.8638\n",
            "Epoch 51/100\n",
            "34/34 [==============================] - 0s 1ms/step - loss: 7389.3550 - mae: 7389.3550\n",
            "Epoch 52/100\n",
            "34/34 [==============================] - 0s 1ms/step - loss: 7499.7754 - mae: 7499.7754\n",
            "Epoch 53/100\n",
            "34/34 [==============================] - 0s 1ms/step - loss: 7523.9282 - mae: 7523.9282\n",
            "Epoch 54/100\n",
            "34/34 [==============================] - 0s 1ms/step - loss: 7243.3120 - mae: 7243.3120\n",
            "Epoch 55/100\n",
            "34/34 [==============================] - 0s 1ms/step - loss: 7429.5859 - mae: 7429.5859\n",
            "Epoch 56/100\n",
            "34/34 [==============================] - 0s 1ms/step - loss: 7313.4004 - mae: 7313.4004\n",
            "Epoch 57/100\n",
            "34/34 [==============================] - 0s 1ms/step - loss: 7526.3887 - mae: 7526.3887\n",
            "Epoch 58/100\n",
            "34/34 [==============================] - 0s 1ms/step - loss: 7542.2666 - mae: 7542.2666\n",
            "Epoch 59/100\n",
            "34/34 [==============================] - 0s 1ms/step - loss: 7576.9282 - mae: 7576.9282\n",
            "Epoch 60/100\n",
            "34/34 [==============================] - 0s 1ms/step - loss: 7546.4058 - mae: 7546.4058\n",
            "Epoch 61/100\n",
            "34/34 [==============================] - 0s 1ms/step - loss: 7351.2275 - mae: 7351.2275\n",
            "Epoch 62/100\n",
            "34/34 [==============================] - 0s 1ms/step - loss: 7302.1440 - mae: 7302.1440\n",
            "Epoch 63/100\n",
            "34/34 [==============================] - 0s 1ms/step - loss: 7393.0884 - mae: 7393.0884\n",
            "Epoch 64/100\n",
            "34/34 [==============================] - 0s 1ms/step - loss: 7442.2886 - mae: 7442.2886\n",
            "Epoch 65/100\n",
            "34/34 [==============================] - 0s 1ms/step - loss: 7492.6792 - mae: 7492.6792\n",
            "Epoch 66/100\n",
            "34/34 [==============================] - 0s 1ms/step - loss: 7561.9170 - mae: 7561.9170\n",
            "Epoch 67/100\n",
            "34/34 [==============================] - 0s 1ms/step - loss: 7340.5142 - mae: 7340.5142\n",
            "Epoch 68/100\n",
            "34/34 [==============================] - 0s 1ms/step - loss: 7496.0859 - mae: 7496.0859\n",
            "Epoch 69/100\n",
            "34/34 [==============================] - 0s 1ms/step - loss: 7617.0322 - mae: 7617.0322\n",
            "Epoch 70/100\n",
            "34/34 [==============================] - 0s 1ms/step - loss: 7641.1953 - mae: 7641.1953\n",
            "Epoch 71/100\n",
            "34/34 [==============================] - 0s 1ms/step - loss: 7084.2749 - mae: 7084.2749\n",
            "Epoch 72/100\n",
            "34/34 [==============================] - 0s 1ms/step - loss: 7240.4907 - mae: 7240.4907\n",
            "Epoch 73/100\n",
            "34/34 [==============================] - 0s 1ms/step - loss: 7283.4888 - mae: 7283.4888\n",
            "Epoch 74/100\n",
            "34/34 [==============================] - 0s 1ms/step - loss: 7335.5078 - mae: 7335.5078\n",
            "Epoch 75/100\n",
            "34/34 [==============================] - 0s 1ms/step - loss: 7275.6396 - mae: 7275.6396\n",
            "Epoch 76/100\n",
            "34/34 [==============================] - 0s 2ms/step - loss: 7313.1855 - mae: 7313.1855\n",
            "Epoch 77/100\n",
            "34/34 [==============================] - 0s 1ms/step - loss: 7485.7598 - mae: 7485.7598\n",
            "Epoch 78/100\n",
            "34/34 [==============================] - 0s 1ms/step - loss: 7352.2798 - mae: 7352.2798\n",
            "Epoch 79/100\n",
            "34/34 [==============================] - 0s 1ms/step - loss: 7520.5708 - mae: 7520.5708\n",
            "Epoch 80/100\n",
            "34/34 [==============================] - 0s 1ms/step - loss: 7279.3779 - mae: 7279.3779\n",
            "Epoch 81/100\n",
            "34/34 [==============================] - 0s 1ms/step - loss: 7273.8472 - mae: 7273.8472\n",
            "Epoch 82/100\n",
            "34/34 [==============================] - 0s 1ms/step - loss: 7176.5215 - mae: 7176.5215\n",
            "Epoch 83/100\n",
            "34/34 [==============================] - 0s 1ms/step - loss: 7425.6304 - mae: 7425.6304\n",
            "Epoch 84/100\n",
            "34/34 [==============================] - 0s 1ms/step - loss: 7403.1294 - mae: 7403.1294\n",
            "Epoch 85/100\n",
            "34/34 [==============================] - 0s 1ms/step - loss: 7356.0078 - mae: 7356.0078\n",
            "Epoch 86/100\n",
            "34/34 [==============================] - 0s 1ms/step - loss: 7484.7271 - mae: 7484.7271\n",
            "Epoch 87/100\n",
            "34/34 [==============================] - 0s 1ms/step - loss: 7217.6079 - mae: 7217.6079\n",
            "Epoch 88/100\n",
            "34/34 [==============================] - 0s 1ms/step - loss: 7261.0000 - mae: 7261.0000\n",
            "Epoch 89/100\n",
            "34/34 [==============================] - 0s 1ms/step - loss: 7134.1562 - mae: 7134.1562\n",
            "Epoch 90/100\n",
            "34/34 [==============================] - 0s 1ms/step - loss: 7083.4360 - mae: 7083.4360\n",
            "Epoch 91/100\n",
            "34/34 [==============================] - 0s 1ms/step - loss: 7254.1782 - mae: 7254.1782\n",
            "Epoch 92/100\n",
            "34/34 [==============================] - 0s 1ms/step - loss: 7268.7456 - mae: 7268.7456\n",
            "Epoch 93/100\n",
            "34/34 [==============================] - 0s 1ms/step - loss: 7470.5215 - mae: 7470.5215\n",
            "Epoch 94/100\n",
            "34/34 [==============================] - 0s 1ms/step - loss: 7210.9536 - mae: 7210.9536\n",
            "Epoch 95/100\n",
            "34/34 [==============================] - 0s 1ms/step - loss: 7395.6816 - mae: 7395.6816\n",
            "Epoch 96/100\n",
            "34/34 [==============================] - 0s 1ms/step - loss: 7328.0874 - mae: 7328.0874\n",
            "Epoch 97/100\n",
            "34/34 [==============================] - 0s 1ms/step - loss: 7230.4395 - mae: 7230.4395\n",
            "Epoch 98/100\n",
            "34/34 [==============================] - 0s 1ms/step - loss: 7261.3940 - mae: 7261.3940\n",
            "Epoch 99/100\n",
            "34/34 [==============================] - 0s 1ms/step - loss: 7342.5679 - mae: 7342.5679\n",
            "Epoch 100/100\n",
            "34/34 [==============================] - 0s 1ms/step - loss: 7106.1714 - mae: 7106.1714\n"
          ],
          "name": "stdout"
        },
        {
          "output_type": "execute_result",
          "data": {
            "text/plain": [
              "<tensorflow.python.keras.callbacks.History at 0x7f47d7c3d310>"
            ]
          },
          "metadata": {
            "tags": []
          },
          "execution_count": 45
        }
      ]
    },
    {
      "cell_type": "code",
      "metadata": {
        "colab": {
          "base_uri": "https://localhost:8080/"
        },
        "id": "1k9qX3Kna8gr",
        "outputId": "47ea1301-4720-4a39-f9b8-d930d4e83efe"
      },
      "source": [
        "insurance_model.summary()"
      ],
      "execution_count": 46,
      "outputs": [
        {
          "output_type": "stream",
          "text": [
            "Model: \"insuarance_model\"\n",
            "_________________________________________________________________\n",
            "Layer (type)                 Output Shape              Param #   \n",
            "=================================================================\n",
            "dense_7 (Dense)              (None, 10)                120       \n",
            "_________________________________________________________________\n",
            "dense_8 (Dense)              (None, 1)                 11        \n",
            "=================================================================\n",
            "Total params: 131\n",
            "Trainable params: 131\n",
            "Non-trainable params: 0\n",
            "_________________________________________________________________\n"
          ],
          "name": "stdout"
        }
      ]
    },
    {
      "cell_type": "code",
      "metadata": {
        "colab": {
          "base_uri": "https://localhost:8080/"
        },
        "id": "QaMl3g_1bXb2",
        "outputId": "ca11506d-fccd-4089-9abf-e631a1e76b1a"
      },
      "source": [
        "#Check the against test data\n",
        "insurance_model.evaluate(X_test,y_test)"
      ],
      "execution_count": 47,
      "outputs": [
        {
          "output_type": "stream",
          "text": [
            "9/9 [==============================] - 0s 2ms/step - loss: 7023.3291 - mae: 7023.3291\n"
          ],
          "name": "stdout"
        },
        {
          "output_type": "execute_result",
          "data": {
            "text/plain": [
              "[7023.3291015625, 7023.3291015625]"
            ]
          },
          "metadata": {
            "tags": []
          },
          "execution_count": 47
        }
      ]
    },
    {
      "cell_type": "markdown",
      "metadata": {
        "id": "yXyTJYkRbyQq"
      },
      "source": [
        "#Right  now model is not performing well\n",
        "  1. Try changin optimizer \n",
        "  2. Train for longer epochs\n",
        "  \n"
      ]
    },
    {
      "cell_type": "code",
      "metadata": {
        "colab": {
          "base_uri": "https://localhost:8080/"
        },
        "id": "AE_fwmFAkm9j",
        "outputId": "1e01c09e-2d12-42ad-8a6e-547b2cb752c0"
      },
      "source": [
        "tf.random.set_seed(42)\n",
        "# Create a model\n",
        "insurance_model_2 = tf.keras.Sequential([\n",
        "                                         tf.keras.layers.Dense(100),\n",
        "                                         tf.keras.layers.Dense(10),\n",
        "                                         tf.keras.layers.Dense(1)\n",
        "])\n",
        "\n",
        "# Compile the model\n",
        "insurance_model_2.compile(loss=tf.keras.losses.mae,\n",
        "                          optimizer=tf.keras.optimizers.Adam(),\n",
        "                          metrics=[\"mae\"])\n",
        "\n",
        "#fit the model\n",
        "history_2=insurance_model_2.fit(X_train,y_train,epochs=100)"
      ],
      "execution_count": 48,
      "outputs": [
        {
          "output_type": "stream",
          "text": [
            "Epoch 1/100\n",
            "34/34 [==============================] - 0s 1ms/step - loss: 13273.1602 - mae: 13273.1602\n",
            "Epoch 2/100\n",
            "34/34 [==============================] - 0s 1ms/step - loss: 13104.4297 - mae: 13104.4297\n",
            "Epoch 3/100\n",
            "34/34 [==============================] - 0s 1ms/step - loss: 12749.5420 - mae: 12749.5420\n",
            "Epoch 4/100\n",
            "34/34 [==============================] - 0s 1ms/step - loss: 12055.7510 - mae: 12055.7510\n",
            "Epoch 5/100\n",
            "34/34 [==============================] - 0s 2ms/step - loss: 10905.8154 - mae: 10905.8154\n",
            "Epoch 6/100\n",
            "34/34 [==============================] - 0s 2ms/step - loss: 9457.7217 - mae: 9457.7217\n",
            "Epoch 7/100\n",
            "34/34 [==============================] - 0s 2ms/step - loss: 8147.6543 - mae: 8147.6543\n",
            "Epoch 8/100\n",
            "34/34 [==============================] - 0s 2ms/step - loss: 7528.8408 - mae: 7528.8408\n",
            "Epoch 9/100\n",
            "34/34 [==============================] - 0s 2ms/step - loss: 7429.1528 - mae: 7429.1528\n",
            "Epoch 10/100\n",
            "34/34 [==============================] - 0s 1ms/step - loss: 7409.0811 - mae: 7409.0811\n",
            "Epoch 11/100\n",
            "34/34 [==============================] - 0s 2ms/step - loss: 7390.8042 - mae: 7390.8042\n",
            "Epoch 12/100\n",
            "34/34 [==============================] - 0s 2ms/step - loss: 7368.9180 - mae: 7368.9180\n",
            "Epoch 13/100\n",
            "34/34 [==============================] - 0s 1ms/step - loss: 7348.5190 - mae: 7348.5190\n",
            "Epoch 14/100\n",
            "34/34 [==============================] - 0s 1ms/step - loss: 7326.4893 - mae: 7326.4893\n",
            "Epoch 15/100\n",
            "34/34 [==============================] - 0s 1ms/step - loss: 7307.5815 - mae: 7307.5815\n",
            "Epoch 16/100\n",
            "34/34 [==============================] - 0s 2ms/step - loss: 7285.7734 - mae: 7285.7734\n",
            "Epoch 17/100\n",
            "34/34 [==============================] - 0s 1ms/step - loss: 7265.7100 - mae: 7265.7100\n",
            "Epoch 18/100\n",
            "34/34 [==============================] - 0s 2ms/step - loss: 7242.5488 - mae: 7242.5488\n",
            "Epoch 19/100\n",
            "34/34 [==============================] - 0s 2ms/step - loss: 7220.5068 - mae: 7220.5068\n",
            "Epoch 20/100\n",
            "34/34 [==============================] - 0s 2ms/step - loss: 7197.1978 - mae: 7197.1978\n",
            "Epoch 21/100\n",
            "34/34 [==============================] - 0s 2ms/step - loss: 7179.0195 - mae: 7179.0195\n",
            "Epoch 22/100\n",
            "34/34 [==============================] - 0s 1ms/step - loss: 7151.2104 - mae: 7151.2104\n",
            "Epoch 23/100\n",
            "34/34 [==============================] - 0s 1ms/step - loss: 7126.4639 - mae: 7126.4639\n",
            "Epoch 24/100\n",
            "34/34 [==============================] - 0s 1ms/step - loss: 7101.9189 - mae: 7101.9189\n",
            "Epoch 25/100\n",
            "34/34 [==============================] - 0s 1ms/step - loss: 7084.3379 - mae: 7084.3379\n",
            "Epoch 26/100\n",
            "34/34 [==============================] - 0s 1ms/step - loss: 7052.3291 - mae: 7052.3291\n",
            "Epoch 27/100\n",
            "34/34 [==============================] - 0s 1ms/step - loss: 7024.3506 - mae: 7024.3506\n",
            "Epoch 28/100\n",
            "34/34 [==============================] - 0s 2ms/step - loss: 6996.6963 - mae: 6996.6963\n",
            "Epoch 29/100\n",
            "34/34 [==============================] - 0s 1ms/step - loss: 6969.0112 - mae: 6969.0112\n",
            "Epoch 30/100\n",
            "34/34 [==============================] - 0s 1ms/step - loss: 6942.1899 - mae: 6942.1899\n",
            "Epoch 31/100\n",
            "34/34 [==============================] - 0s 1ms/step - loss: 6911.7275 - mae: 6911.7275\n",
            "Epoch 32/100\n",
            "34/34 [==============================] - 0s 1ms/step - loss: 6884.0205 - mae: 6884.0205\n",
            "Epoch 33/100\n",
            "34/34 [==============================] - 0s 1ms/step - loss: 6853.4648 - mae: 6853.4648\n",
            "Epoch 34/100\n",
            "34/34 [==============================] - 0s 1ms/step - loss: 6823.0674 - mae: 6823.0674\n",
            "Epoch 35/100\n",
            "34/34 [==============================] - 0s 2ms/step - loss: 6789.6855 - mae: 6789.6855\n",
            "Epoch 36/100\n",
            "34/34 [==============================] - 0s 2ms/step - loss: 6755.7646 - mae: 6755.7646\n",
            "Epoch 37/100\n",
            "34/34 [==============================] - 0s 2ms/step - loss: 6720.2026 - mae: 6720.2026\n",
            "Epoch 38/100\n",
            "34/34 [==============================] - 0s 2ms/step - loss: 6689.7158 - mae: 6689.7158\n",
            "Epoch 39/100\n",
            "34/34 [==============================] - 0s 2ms/step - loss: 6652.4614 - mae: 6652.4614\n",
            "Epoch 40/100\n",
            "34/34 [==============================] - 0s 2ms/step - loss: 6618.1016 - mae: 6618.1016\n",
            "Epoch 41/100\n",
            "34/34 [==============================] - 0s 1ms/step - loss: 6585.8643 - mae: 6585.8643\n",
            "Epoch 42/100\n",
            "34/34 [==============================] - 0s 1ms/step - loss: 6559.4956 - mae: 6559.4956\n",
            "Epoch 43/100\n",
            "34/34 [==============================] - 0s 2ms/step - loss: 6530.0444 - mae: 6530.0444\n",
            "Epoch 44/100\n",
            "34/34 [==============================] - 0s 1ms/step - loss: 6506.8071 - mae: 6506.8071\n",
            "Epoch 45/100\n",
            "34/34 [==============================] - 0s 1ms/step - loss: 6493.5718 - mae: 6493.5718\n",
            "Epoch 46/100\n",
            "34/34 [==============================] - 0s 1ms/step - loss: 6475.9258 - mae: 6475.9258\n",
            "Epoch 47/100\n",
            "34/34 [==============================] - 0s 2ms/step - loss: 6458.8979 - mae: 6458.8979\n",
            "Epoch 48/100\n",
            "34/34 [==============================] - 0s 2ms/step - loss: 6445.1494 - mae: 6445.1494\n",
            "Epoch 49/100\n",
            "34/34 [==============================] - 0s 1ms/step - loss: 6430.9634 - mae: 6430.9634\n",
            "Epoch 50/100\n",
            "34/34 [==============================] - 0s 1ms/step - loss: 6417.7510 - mae: 6417.7510\n",
            "Epoch 51/100\n",
            "34/34 [==============================] - 0s 1ms/step - loss: 6403.2759 - mae: 6403.2759\n",
            "Epoch 52/100\n",
            "34/34 [==============================] - 0s 1ms/step - loss: 6392.4141 - mae: 6392.4141\n",
            "Epoch 53/100\n",
            "34/34 [==============================] - 0s 1ms/step - loss: 6378.7451 - mae: 6378.7451\n",
            "Epoch 54/100\n",
            "34/34 [==============================] - 0s 2ms/step - loss: 6364.9131 - mae: 6364.9131\n",
            "Epoch 55/100\n",
            "34/34 [==============================] - 0s 2ms/step - loss: 6351.5273 - mae: 6351.5273\n",
            "Epoch 56/100\n",
            "34/34 [==============================] - 0s 1ms/step - loss: 6337.6602 - mae: 6337.6602\n",
            "Epoch 57/100\n",
            "34/34 [==============================] - 0s 1ms/step - loss: 6324.8374 - mae: 6324.8374\n",
            "Epoch 58/100\n",
            "34/34 [==============================] - 0s 1ms/step - loss: 6310.1943 - mae: 6310.1943\n",
            "Epoch 59/100\n",
            "34/34 [==============================] - 0s 1ms/step - loss: 6295.6035 - mae: 6295.6035\n",
            "Epoch 60/100\n",
            "34/34 [==============================] - 0s 2ms/step - loss: 6284.8696 - mae: 6284.8696\n",
            "Epoch 61/100\n",
            "34/34 [==============================] - 0s 1ms/step - loss: 6265.6411 - mae: 6265.6411\n",
            "Epoch 62/100\n",
            "34/34 [==============================] - 0s 1ms/step - loss: 6253.0103 - mae: 6253.0103\n",
            "Epoch 63/100\n",
            "34/34 [==============================] - 0s 1ms/step - loss: 6234.9292 - mae: 6234.9292\n",
            "Epoch 64/100\n",
            "34/34 [==============================] - 0s 1ms/step - loss: 6218.0430 - mae: 6218.0430\n",
            "Epoch 65/100\n",
            "34/34 [==============================] - 0s 1ms/step - loss: 6201.1899 - mae: 6201.1899\n",
            "Epoch 66/100\n",
            "34/34 [==============================] - 0s 1ms/step - loss: 6183.9595 - mae: 6183.9595\n",
            "Epoch 67/100\n",
            "34/34 [==============================] - 0s 1ms/step - loss: 6171.2993 - mae: 6171.2993\n",
            "Epoch 68/100\n",
            "34/34 [==============================] - 0s 1ms/step - loss: 6148.8398 - mae: 6148.8398\n",
            "Epoch 69/100\n",
            "34/34 [==============================] - 0s 1ms/step - loss: 6132.5981 - mae: 6132.5981\n",
            "Epoch 70/100\n",
            "34/34 [==============================] - 0s 1ms/step - loss: 6112.3848 - mae: 6112.3848\n",
            "Epoch 71/100\n",
            "34/34 [==============================] - 0s 2ms/step - loss: 6092.7202 - mae: 6092.7202\n",
            "Epoch 72/100\n",
            "34/34 [==============================] - 0s 2ms/step - loss: 6073.7422 - mae: 6073.7422\n",
            "Epoch 73/100\n",
            "34/34 [==============================] - 0s 2ms/step - loss: 6059.4873 - mae: 6059.4873\n",
            "Epoch 74/100\n",
            "34/34 [==============================] - 0s 2ms/step - loss: 6031.3848 - mae: 6031.3848\n",
            "Epoch 75/100\n",
            "34/34 [==============================] - 0s 1ms/step - loss: 6010.3350 - mae: 6010.3350\n",
            "Epoch 76/100\n",
            "34/34 [==============================] - 0s 1ms/step - loss: 5995.2178 - mae: 5995.2178\n",
            "Epoch 77/100\n",
            "34/34 [==============================] - 0s 1ms/step - loss: 5963.0718 - mae: 5963.0718\n",
            "Epoch 78/100\n",
            "34/34 [==============================] - 0s 2ms/step - loss: 5940.0605 - mae: 5940.0605\n",
            "Epoch 79/100\n",
            "34/34 [==============================] - 0s 1ms/step - loss: 5915.1064 - mae: 5915.1064\n",
            "Epoch 80/100\n",
            "34/34 [==============================] - 0s 1ms/step - loss: 5887.9990 - mae: 5887.9990\n",
            "Epoch 81/100\n",
            "34/34 [==============================] - 0s 1ms/step - loss: 5861.6987 - mae: 5861.6987\n",
            "Epoch 82/100\n",
            "34/34 [==============================] - 0s 1ms/step - loss: 5834.3071 - mae: 5834.3071\n",
            "Epoch 83/100\n",
            "34/34 [==============================] - 0s 2ms/step - loss: 5805.8242 - mae: 5805.8242\n",
            "Epoch 84/100\n",
            "34/34 [==============================] - 0s 1ms/step - loss: 5772.3232 - mae: 5772.3232\n",
            "Epoch 85/100\n",
            "34/34 [==============================] - 0s 2ms/step - loss: 5745.1514 - mae: 5745.1514\n",
            "Epoch 86/100\n",
            "34/34 [==============================] - 0s 1ms/step - loss: 5711.3481 - mae: 5711.3481\n",
            "Epoch 87/100\n",
            "34/34 [==============================] - 0s 1ms/step - loss: 5674.5215 - mae: 5674.5215\n",
            "Epoch 88/100\n",
            "34/34 [==============================] - 0s 1ms/step - loss: 5639.4927 - mae: 5639.4927\n",
            "Epoch 89/100\n",
            "34/34 [==============================] - 0s 1ms/step - loss: 5600.6650 - mae: 5600.6650\n",
            "Epoch 90/100\n",
            "34/34 [==============================] - 0s 2ms/step - loss: 5559.4326 - mae: 5559.4326\n",
            "Epoch 91/100\n",
            "34/34 [==============================] - 0s 2ms/step - loss: 5523.6187 - mae: 5523.6187\n",
            "Epoch 92/100\n",
            "34/34 [==============================] - 0s 2ms/step - loss: 5474.1250 - mae: 5474.1250\n",
            "Epoch 93/100\n",
            "34/34 [==============================] - 0s 2ms/step - loss: 5432.2656 - mae: 5432.2656\n",
            "Epoch 94/100\n",
            "34/34 [==============================] - 0s 2ms/step - loss: 5386.0527 - mae: 5386.0527\n",
            "Epoch 95/100\n",
            "34/34 [==============================] - 0s 1ms/step - loss: 5333.1812 - mae: 5333.1812\n",
            "Epoch 96/100\n",
            "34/34 [==============================] - 0s 1ms/step - loss: 5288.8159 - mae: 5288.8159\n",
            "Epoch 97/100\n",
            "34/34 [==============================] - 0s 1ms/step - loss: 5234.6792 - mae: 5234.6792\n",
            "Epoch 98/100\n",
            "34/34 [==============================] - 0s 1ms/step - loss: 5170.9351 - mae: 5170.9351\n",
            "Epoch 99/100\n",
            "34/34 [==============================] - 0s 1ms/step - loss: 5112.9438 - mae: 5112.9438\n",
            "Epoch 100/100\n",
            "34/34 [==============================] - 0s 1ms/step - loss: 5059.8447 - mae: 5059.8447\n"
          ],
          "name": "stdout"
        }
      ]
    },
    {
      "cell_type": "code",
      "metadata": {
        "colab": {
          "base_uri": "https://localhost:8080/"
        },
        "id": "NQPAzU-Wl6c5",
        "outputId": "c7581b1a-523a-461a-ff1d-5d0aaf2dc34f"
      },
      "source": [
        "insurance_model_2.evaluate(X_test,y_test)"
      ],
      "execution_count": 49,
      "outputs": [
        {
          "output_type": "stream",
          "text": [
            "9/9 [==============================] - 0s 2ms/step - loss: 4924.4961 - mae: 4924.4961\n"
          ],
          "name": "stdout"
        },
        {
          "output_type": "execute_result",
          "data": {
            "text/plain": [
              "[4924.49609375, 4924.49609375]"
            ]
          },
          "metadata": {
            "tags": []
          },
          "execution_count": 49
        }
      ]
    },
    {
      "cell_type": "code",
      "metadata": {
        "colab": {
          "base_uri": "https://localhost:8080/",
          "height": 296
        },
        "id": "jMdWIRA0mDhj",
        "outputId": "2c10aa18-22f3-4c0b-a9cc-f46d80eaa67c"
      },
      "source": [
        "pd.DataFrame(history_2.history).plot()\n",
        "plt.xlabel(\"epochs\")\n",
        "plt.ylabel(\"loss\")\n"
      ],
      "execution_count": 50,
      "outputs": [
        {
          "output_type": "execute_result",
          "data": {
            "text/plain": [
              "Text(0, 0.5, 'loss')"
            ]
          },
          "metadata": {
            "tags": []
          },
          "execution_count": 50
        },
        {
          "output_type": "display_data",
          "data": {
            "image/png": "[encoded data removed]",
            "text/plain": [
              "<Figure size 432x288 with 1 Axes>"
            ]
          },
          "metadata": {
            "tags": [],
            "needs_background": "light"
          }
        }
      ]
    },
    {
      "cell_type": "code",
      "metadata": {
        "colab": {
          "base_uri": "https://localhost:8080/"
        },
        "id": "qLwmmtEAmZVc",
        "outputId": "d123b548-fb02-4d8a-d68e-329345108ada"
      },
      "source": [
        "#Now since the loss is decreasing lets train the model for larger epochs.\n",
        "tf.random.set_seed(42)\n",
        "\n",
        "#Create a model\n",
        "insurance_model_3 = tf.keras.Sequential([\n",
        "                                         tf.keras.layers.Dense(100),\n",
        "                                         tf.keras.layers.Dense(10),\n",
        "                                         tf.keras.layers.Dense(1)\n",
        "], name=\"insurance_model_3\")\n",
        "\n",
        "#compile the model\n",
        "\n",
        "insurance_model_3.compile(loss=tf.keras.losses.mae,\n",
        "                          optimizer=tf.keras.optimizers.Adam(),\n",
        "                          metrics=[\"mae\"])\n",
        "#fit the model\n",
        "history_3=insurance_model_3.fit(X_train,y_train,epochs=200)"
      ],
      "execution_count": 51,
      "outputs": [
        {
          "output_type": "stream",
          "text": [
            "Epoch 1/200\n",
            "34/34 [==============================] - 0s 2ms/step - loss: 13273.1602 - mae: 13273.1602\n",
            "Epoch 2/200\n",
            "34/34 [==============================] - 0s 1ms/step - loss: 13104.4297 - mae: 13104.4297\n",
            "Epoch 3/200\n",
            "34/34 [==============================] - 0s 2ms/step - loss: 12749.5420 - mae: 12749.5420\n",
            "Epoch 4/200\n",
            "34/34 [==============================] - 0s 1ms/step - loss: 12055.7510 - mae: 12055.7510\n",
            "Epoch 5/200\n",
            "34/34 [==============================] - 0s 1ms/step - loss: 10905.8154 - mae: 10905.8154\n",
            "Epoch 6/200\n",
            "34/34 [==============================] - 0s 1ms/step - loss: 9457.7217 - mae: 9457.7217\n",
            "Epoch 7/200\n",
            "34/34 [==============================] - 0s 1ms/step - loss: 8147.6543 - mae: 8147.6543\n",
            "Epoch 8/200\n",
            "34/34 [==============================] - 0s 2ms/step - loss: 7528.8408 - mae: 7528.8408\n",
            "Epoch 9/200\n",
            "34/34 [==============================] - 0s 1ms/step - loss: 7429.1528 - mae: 7429.1528\n",
            "Epoch 10/200\n",
            "34/34 [==============================] - 0s 1ms/step - loss: 7409.0811 - mae: 7409.0811\n",
            "Epoch 11/200\n",
            "34/34 [==============================] - 0s 2ms/step - loss: 7390.8042 - mae: 7390.8042\n",
            "Epoch 12/200\n",
            "34/34 [==============================] - 0s 1ms/step - loss: 7368.9180 - mae: 7368.9180\n",
            "Epoch 13/200\n",
            "34/34 [==============================] - 0s 1ms/step - loss: 7348.5190 - mae: 7348.5190\n",
            "Epoch 14/200\n",
            "34/34 [==============================] - 0s 1ms/step - loss: 7326.4893 - mae: 7326.4893\n",
            "Epoch 15/200\n",
            "34/34 [==============================] - 0s 2ms/step - loss: 7307.5815 - mae: 7307.5815\n",
            "Epoch 16/200\n",
            "34/34 [==============================] - 0s 1ms/step - loss: 7285.7734 - mae: 7285.7734\n",
            "Epoch 17/200\n",
            "34/34 [==============================] - 0s 1ms/step - loss: 7265.7100 - mae: 7265.7100\n",
            "Epoch 18/200\n",
            "34/34 [==============================] - 0s 2ms/step - loss: 7242.5488 - mae: 7242.5488\n",
            "Epoch 19/200\n",
            "34/34 [==============================] - 0s 2ms/step - loss: 7220.5068 - mae: 7220.5068\n",
            "Epoch 20/200\n",
            "34/34 [==============================] - 0s 1ms/step - loss: 7197.1978 - mae: 7197.1978\n",
            "Epoch 21/200\n",
            "34/34 [==============================] - 0s 2ms/step - loss: 7179.0195 - mae: 7179.0195\n",
            "Epoch 22/200\n",
            "34/34 [==============================] - 0s 1ms/step - loss: 7151.2104 - mae: 7151.2104\n",
            "Epoch 23/200\n",
            "34/34 [==============================] - 0s 1ms/step - loss: 7126.4639 - mae: 7126.4639\n",
            "Epoch 24/200\n",
            "34/34 [==============================] - 0s 1ms/step - loss: 7101.9189 - mae: 7101.9189\n",
            "Epoch 25/200\n",
            "34/34 [==============================] - 0s 1ms/step - loss: 7084.3379 - mae: 7084.3379\n",
            "Epoch 26/200\n",
            "34/34 [==============================] - 0s 1ms/step - loss: 7052.3291 - mae: 7052.3291\n",
            "Epoch 27/200\n",
            "34/34 [==============================] - 0s 2ms/step - loss: 7024.3506 - mae: 7024.3506\n",
            "Epoch 28/200\n",
            "34/34 [==============================] - 0s 2ms/step - loss: 6996.6963 - mae: 6996.6963\n",
            "Epoch 29/200\n",
            "34/34 [==============================] - 0s 2ms/step - loss: 6969.0112 - mae: 6969.0112\n",
            "Epoch 30/200\n",
            "34/34 [==============================] - 0s 1ms/step - loss: 6942.1899 - mae: 6942.1899\n",
            "Epoch 31/200\n",
            "34/34 [==============================] - 0s 1ms/step - loss: 6911.7275 - mae: 6911.7275\n",
            "Epoch 32/200\n",
            "34/34 [==============================] - 0s 2ms/step - loss: 6884.0205 - mae: 6884.0205\n",
            "Epoch 33/200\n",
            "34/34 [==============================] - 0s 2ms/step - loss: 6853.4648 - mae: 6853.4648\n",
            "Epoch 34/200\n",
            "34/34 [==============================] - 0s 2ms/step - loss: 6823.0674 - mae: 6823.0674\n",
            "Epoch 35/200\n",
            "34/34 [==============================] - 0s 2ms/step - loss: 6789.6855 - mae: 6789.6855\n",
            "Epoch 36/200\n",
            "34/34 [==============================] - 0s 1ms/step - loss: 6755.7646 - mae: 6755.7646\n",
            "Epoch 37/200\n",
            "34/34 [==============================] - 0s 2ms/step - loss: 6720.2026 - mae: 6720.2026\n",
            "Epoch 38/200\n",
            "34/34 [==============================] - 0s 2ms/step - loss: 6689.7158 - mae: 6689.7158\n",
            "Epoch 39/200\n",
            "34/34 [==============================] - 0s 1ms/step - loss: 6652.4614 - mae: 6652.4614\n",
            "Epoch 40/200\n",
            "34/34 [==============================] - 0s 2ms/step - loss: 6618.1016 - mae: 6618.1016\n",
            "Epoch 41/200\n",
            "34/34 [==============================] - 0s 1ms/step - loss: 6585.8643 - mae: 6585.8643\n",
            "Epoch 42/200\n",
            "34/34 [==============================] - 0s 1ms/step - loss: 6559.4956 - mae: 6559.4956\n",
            "Epoch 43/200\n",
            "34/34 [==============================] - 0s 1ms/step - loss: 6530.0444 - mae: 6530.0444\n",
            "Epoch 44/200\n",
            "34/34 [==============================] - 0s 2ms/step - loss: 6506.8071 - mae: 6506.8071\n",
            "Epoch 45/200\n",
            "34/34 [==============================] - 0s 1ms/step - loss: 6493.5718 - mae: 6493.5718\n",
            "Epoch 46/200\n",
            "34/34 [==============================] - 0s 1ms/step - loss: 6475.9258 - mae: 6475.9258\n",
            "Epoch 47/200\n",
            "34/34 [==============================] - 0s 1ms/step - loss: 6458.8979 - mae: 6458.8979\n",
            "Epoch 48/200\n",
            "34/34 [==============================] - 0s 1ms/step - loss: 6445.1494 - mae: 6445.1494\n",
            "Epoch 49/200\n",
            "34/34 [==============================] - 0s 1ms/step - loss: 6430.9634 - mae: 6430.9634\n",
            "Epoch 50/200\n",
            "34/34 [==============================] - 0s 1ms/step - loss: 6417.7510 - mae: 6417.7510\n",
            "Epoch 51/200\n",
            "34/34 [==============================] - 0s 1ms/step - loss: 6403.2759 - mae: 6403.2759\n",
            "Epoch 52/200\n",
            "34/34 [==============================] - 0s 2ms/step - loss: 6392.4141 - mae: 6392.4141\n",
            "Epoch 53/200\n",
            "34/34 [==============================] - 0s 2ms/step - loss: 6378.7451 - mae: 6378.7451\n",
            "Epoch 54/200\n",
            "34/34 [==============================] - 0s 2ms/step - loss: 6364.9131 - mae: 6364.9131\n",
            "Epoch 55/200\n",
            "34/34 [==============================] - 0s 1ms/step - loss: 6351.5273 - mae: 6351.5273\n",
            "Epoch 56/200\n",
            "34/34 [==============================] - 0s 1ms/step - loss: 6337.6602 - mae: 6337.6602\n",
            "Epoch 57/200\n",
            "34/34 [==============================] - 0s 2ms/step - loss: 6324.8374 - mae: 6324.8374\n",
            "Epoch 58/200\n",
            "34/34 [==============================] - 0s 2ms/step - loss: 6310.1943 - mae: 6310.1943\n",
            "Epoch 59/200\n",
            "34/34 [==============================] - 0s 2ms/step - loss: 6295.6035 - mae: 6295.6035\n",
            "Epoch 60/200\n",
            "34/34 [==============================] - 0s 1ms/step - loss: 6284.8696 - mae: 6284.8696\n",
            "Epoch 61/200\n",
            "34/34 [==============================] - 0s 2ms/step - loss: 6265.6411 - mae: 6265.6411\n",
            "Epoch 62/200\n",
            "34/34 [==============================] - 0s 1ms/step - loss: 6253.0103 - mae: 6253.0103\n",
            "Epoch 63/200\n",
            "34/34 [==============================] - 0s 1ms/step - loss: 6234.9292 - mae: 6234.9292\n",
            "Epoch 64/200\n",
            "34/34 [==============================] - 0s 1ms/step - loss: 6218.0430 - mae: 6218.0430\n",
            "Epoch 65/200\n",
            "34/34 [==============================] - 0s 2ms/step - loss: 6201.1899 - mae: 6201.1899\n",
            "Epoch 66/200\n",
            "34/34 [==============================] - 0s 1ms/step - loss: 6183.9595 - mae: 6183.9595\n",
            "Epoch 67/200\n",
            "34/34 [==============================] - 0s 2ms/step - loss: 6171.2993 - mae: 6171.2993\n",
            "Epoch 68/200\n",
            "34/34 [==============================] - 0s 2ms/step - loss: 6148.8398 - mae: 6148.8398\n",
            "Epoch 69/200\n",
            "34/34 [==============================] - 0s 2ms/step - loss: 6132.5981 - mae: 6132.5981\n",
            "Epoch 70/200\n",
            "34/34 [==============================] - 0s 2ms/step - loss: 6112.3848 - mae: 6112.3848\n",
            "Epoch 71/200\n",
            "34/34 [==============================] - 0s 2ms/step - loss: 6092.7202 - mae: 6092.7202\n",
            "Epoch 72/200\n",
            "34/34 [==============================] - 0s 1ms/step - loss: 6073.7422 - mae: 6073.7422\n",
            "Epoch 73/200\n",
            "34/34 [==============================] - 0s 2ms/step - loss: 6059.4873 - mae: 6059.4873\n",
            "Epoch 74/200\n",
            "34/34 [==============================] - 0s 2ms/step - loss: 6031.3848 - mae: 6031.3848\n",
            "Epoch 75/200\n",
            "34/34 [==============================] - 0s 1ms/step - loss: 6010.3350 - mae: 6010.3350\n",
            "Epoch 76/200\n",
            "34/34 [==============================] - 0s 1ms/step - loss: 5995.2178 - mae: 5995.2178\n",
            "Epoch 77/200\n",
            "34/34 [==============================] - 0s 2ms/step - loss: 5963.0718 - mae: 5963.0718\n",
            "Epoch 78/200\n",
            "34/34 [==============================] - 0s 1ms/step - loss: 5940.0605 - mae: 5940.0605\n",
            "Epoch 79/200\n",
            "34/34 [==============================] - 0s 2ms/step - loss: 5915.1064 - mae: 5915.1064\n",
            "Epoch 80/200\n",
            "34/34 [==============================] - 0s 2ms/step - loss: 5887.9990 - mae: 5887.9990\n",
            "Epoch 81/200\n",
            "34/34 [==============================] - 0s 2ms/step - loss: 5861.6987 - mae: 5861.6987\n",
            "Epoch 82/200\n",
            "34/34 [==============================] - 0s 1ms/step - loss: 5834.3071 - mae: 5834.3071\n",
            "Epoch 83/200\n",
            "34/34 [==============================] - 0s 2ms/step - loss: 5805.8242 - mae: 5805.8242\n",
            "Epoch 84/200\n",
            "34/34 [==============================] - 0s 2ms/step - loss: 5772.3232 - mae: 5772.3232\n",
            "Epoch 85/200\n",
            "34/34 [==============================] - 0s 2ms/step - loss: 5745.1514 - mae: 5745.1514\n",
            "Epoch 86/200\n",
            "34/34 [==============================] - 0s 1ms/step - loss: 5711.3481 - mae: 5711.3481\n",
            "Epoch 87/200\n",
            "34/34 [==============================] - 0s 2ms/step - loss: 5674.5215 - mae: 5674.5215\n",
            "Epoch 88/200\n",
            "34/34 [==============================] - 0s 2ms/step - loss: 5639.4927 - mae: 5639.4927\n",
            "Epoch 89/200\n",
            "34/34 [==============================] - 0s 1ms/step - loss: 5600.6650 - mae: 5600.6650\n",
            "Epoch 90/200\n",
            "34/34 [==============================] - 0s 1ms/step - loss: 5559.4326 - mae: 5559.4326\n",
            "Epoch 91/200\n",
            "34/34 [==============================] - 0s 1ms/step - loss: 5523.6187 - mae: 5523.6187\n",
            "Epoch 92/200\n",
            "34/34 [==============================] - 0s 2ms/step - loss: 5474.1250 - mae: 5474.1250\n",
            "Epoch 93/200\n",
            "34/34 [==============================] - 0s 1ms/step - loss: 5432.2656 - mae: 5432.2656\n",
            "Epoch 94/200\n",
            "34/34 [==============================] - 0s 1ms/step - loss: 5386.0527 - mae: 5386.0527\n",
            "Epoch 95/200\n",
            "34/34 [==============================] - 0s 2ms/step - loss: 5333.1812 - mae: 5333.1812\n",
            "Epoch 96/200\n",
            "34/34 [==============================] - 0s 2ms/step - loss: 5288.8159 - mae: 5288.8159\n",
            "Epoch 97/200\n",
            "34/34 [==============================] - 0s 2ms/step - loss: 5234.6792 - mae: 5234.6792\n",
            "Epoch 98/200\n",
            "34/34 [==============================] - 0s 2ms/step - loss: 5170.9351 - mae: 5170.9351\n",
            "Epoch 99/200\n",
            "34/34 [==============================] - 0s 1ms/step - loss: 5112.9438 - mae: 5112.9438\n",
            "Epoch 100/200\n",
            "34/34 [==============================] - 0s 1ms/step - loss: 5059.8447 - mae: 5059.8447\n",
            "Epoch 101/200\n",
            "34/34 [==============================] - 0s 1ms/step - loss: 4987.7090 - mae: 4987.7090\n",
            "Epoch 102/200\n",
            "34/34 [==============================] - 0s 1ms/step - loss: 4915.4390 - mae: 4915.4390\n",
            "Epoch 103/200\n",
            "34/34 [==============================] - 0s 1ms/step - loss: 4847.4639 - mae: 4847.4639\n",
            "Epoch 104/200\n",
            "34/34 [==============================] - 0s 1ms/step - loss: 4768.1533 - mae: 4768.1533\n",
            "Epoch 105/200\n",
            "34/34 [==============================] - 0s 2ms/step - loss: 4683.4321 - mae: 4683.4321\n",
            "Epoch 106/200\n",
            "34/34 [==============================] - 0s 1ms/step - loss: 4601.1826 - mae: 4601.1826\n",
            "Epoch 107/200\n",
            "34/34 [==============================] - 0s 1ms/step - loss: 4513.4478 - mae: 4513.4478\n",
            "Epoch 108/200\n",
            "34/34 [==============================] - 0s 2ms/step - loss: 4423.2485 - mae: 4423.2485\n",
            "Epoch 109/200\n",
            "34/34 [==============================] - 0s 1ms/step - loss: 4339.1401 - mae: 4339.1401\n",
            "Epoch 110/200\n",
            "34/34 [==============================] - 0s 1ms/step - loss: 4255.4292 - mae: 4255.4292\n",
            "Epoch 111/200\n",
            "34/34 [==============================] - 0s 2ms/step - loss: 4173.2402 - mae: 4173.2402\n",
            "Epoch 112/200\n",
            "34/34 [==============================] - 0s 1ms/step - loss: 4102.3027 - mae: 4102.3027\n",
            "Epoch 113/200\n",
            "34/34 [==============================] - 0s 1ms/step - loss: 4028.0874 - mae: 4028.0874\n",
            "Epoch 114/200\n",
            "34/34 [==============================] - 0s 1ms/step - loss: 3987.8621 - mae: 3987.8621\n",
            "Epoch 115/200\n",
            "34/34 [==============================] - 0s 2ms/step - loss: 3945.6599 - mae: 3945.6599\n",
            "Epoch 116/200\n",
            "34/34 [==============================] - 0s 2ms/step - loss: 3918.2407 - mae: 3918.2407\n",
            "Epoch 117/200\n",
            "34/34 [==============================] - 0s 2ms/step - loss: 3897.1462 - mae: 3897.1462\n",
            "Epoch 118/200\n",
            "34/34 [==============================] - 0s 1ms/step - loss: 3871.5635 - mae: 3871.5635\n",
            "Epoch 119/200\n",
            "34/34 [==============================] - 0s 1ms/step - loss: 3852.5769 - mae: 3852.5769\n",
            "Epoch 120/200\n",
            "34/34 [==============================] - 0s 1ms/step - loss: 3835.2859 - mae: 3835.2859\n",
            "Epoch 121/200\n",
            "34/34 [==============================] - 0s 1ms/step - loss: 3829.0356 - mae: 3829.0356\n",
            "Epoch 122/200\n",
            "34/34 [==============================] - 0s 2ms/step - loss: 3823.3438 - mae: 3823.3438\n",
            "Epoch 123/200\n",
            "34/34 [==============================] - 0s 2ms/step - loss: 3814.8372 - mae: 3814.8372\n",
            "Epoch 124/200\n",
            "34/34 [==============================] - 0s 2ms/step - loss: 3806.4583 - mae: 3806.4583\n",
            "Epoch 125/200\n",
            "34/34 [==============================] - 0s 1ms/step - loss: 3795.8459 - mae: 3795.8459\n",
            "Epoch 126/200\n",
            "34/34 [==============================] - 0s 1ms/step - loss: 3805.0994 - mae: 3805.0994\n",
            "Epoch 127/200\n",
            "34/34 [==============================] - 0s 2ms/step - loss: 3797.2932 - mae: 3797.2932\n",
            "Epoch 128/200\n",
            "34/34 [==============================] - 0s 2ms/step - loss: 3791.3442 - mae: 3791.3442\n",
            "Epoch 129/200\n",
            "34/34 [==============================] - 0s 2ms/step - loss: 3801.2891 - mae: 3801.2891\n",
            "Epoch 130/200\n",
            "34/34 [==============================] - 0s 2ms/step - loss: 3790.9077 - mae: 3790.9077\n",
            "Epoch 131/200\n",
            "34/34 [==============================] - 0s 1ms/step - loss: 3781.4387 - mae: 3781.4387\n",
            "Epoch 132/200\n",
            "34/34 [==============================] - 0s 1ms/step - loss: 3775.3513 - mae: 3775.3513\n",
            "Epoch 133/200\n",
            "34/34 [==============================] - 0s 1ms/step - loss: 3770.3950 - mae: 3770.3950\n",
            "Epoch 134/200\n",
            "34/34 [==============================] - 0s 1ms/step - loss: 3771.6885 - mae: 3771.6885\n",
            "Epoch 135/200\n",
            "34/34 [==============================] - 0s 1ms/step - loss: 3767.4382 - mae: 3767.4382\n",
            "Epoch 136/200\n",
            "34/34 [==============================] - 0s 2ms/step - loss: 3766.6714 - mae: 3766.6714\n",
            "Epoch 137/200\n",
            "34/34 [==============================] - 0s 2ms/step - loss: 3775.2361 - mae: 3775.2361\n",
            "Epoch 138/200\n",
            "34/34 [==============================] - 0s 1ms/step - loss: 3784.4844 - mae: 3784.4844\n",
            "Epoch 139/200\n",
            "34/34 [==============================] - 0s 1ms/step - loss: 3761.7341 - mae: 3761.7341\n",
            "Epoch 140/200\n",
            "34/34 [==============================] - 0s 1ms/step - loss: 3762.1360 - mae: 3762.1360\n",
            "Epoch 141/200\n",
            "34/34 [==============================] - 0s 2ms/step - loss: 3763.4082 - mae: 3763.4082\n",
            "Epoch 142/200\n",
            "34/34 [==============================] - 0s 1ms/step - loss: 3763.5349 - mae: 3763.5349\n",
            "Epoch 143/200\n",
            "34/34 [==============================] - 0s 2ms/step - loss: 3754.6104 - mae: 3754.6104\n",
            "Epoch 144/200\n",
            "34/34 [==============================] - 0s 1ms/step - loss: 3750.8074 - mae: 3750.8074\n",
            "Epoch 145/200\n",
            "34/34 [==============================] - 0s 2ms/step - loss: 3751.2629 - mae: 3751.2629\n",
            "Epoch 146/200\n",
            "34/34 [==============================] - 0s 1ms/step - loss: 3754.6194 - mae: 3754.6194\n",
            "Epoch 147/200\n",
            "34/34 [==============================] - 0s 2ms/step - loss: 3751.5327 - mae: 3751.5327\n",
            "Epoch 148/200\n",
            "34/34 [==============================] - 0s 2ms/step - loss: 3755.4761 - mae: 3755.4761\n",
            "Epoch 149/200\n",
            "34/34 [==============================] - 0s 2ms/step - loss: 3743.7812 - mae: 3743.7812\n",
            "Epoch 150/200\n",
            "34/34 [==============================] - 0s 2ms/step - loss: 3738.6592 - mae: 3738.6592\n",
            "Epoch 151/200\n",
            "34/34 [==============================] - 0s 2ms/step - loss: 3741.3875 - mae: 3741.3875\n",
            "Epoch 152/200\n",
            "34/34 [==============================] - 0s 2ms/step - loss: 3742.3992 - mae: 3742.3992\n",
            "Epoch 153/200\n",
            "34/34 [==============================] - 0s 1ms/step - loss: 3742.1941 - mae: 3742.1941\n",
            "Epoch 154/200\n",
            "34/34 [==============================] - 0s 2ms/step - loss: 3737.1804 - mae: 3737.1804\n",
            "Epoch 155/200\n",
            "34/34 [==============================] - 0s 1ms/step - loss: 3738.9937 - mae: 3738.9937\n",
            "Epoch 156/200\n",
            "34/34 [==============================] - 0s 2ms/step - loss: 3736.1040 - mae: 3736.1040\n",
            "Epoch 157/200\n",
            "34/34 [==============================] - 0s 1ms/step - loss: 3732.9736 - mae: 3732.9736\n",
            "Epoch 158/200\n",
            "34/34 [==============================] - 0s 1ms/step - loss: 3729.8025 - mae: 3729.8025\n",
            "Epoch 159/200\n",
            "34/34 [==============================] - 0s 1ms/step - loss: 3726.4563 - mae: 3726.4563\n",
            "Epoch 160/200\n",
            "34/34 [==============================] - 0s 1ms/step - loss: 3733.5447 - mae: 3733.5447\n",
            "Epoch 161/200\n",
            "34/34 [==============================] - 0s 2ms/step - loss: 3728.0251 - mae: 3728.0251\n",
            "Epoch 162/200\n",
            "34/34 [==============================] - 0s 2ms/step - loss: 3725.0784 - mae: 3725.0784\n",
            "Epoch 163/200\n",
            "34/34 [==============================] - 0s 2ms/step - loss: 3722.1680 - mae: 3722.1680\n",
            "Epoch 164/200\n",
            "34/34 [==============================] - 0s 1ms/step - loss: 3726.4907 - mae: 3726.4907\n",
            "Epoch 165/200\n",
            "34/34 [==============================] - 0s 1ms/step - loss: 3717.1104 - mae: 3717.1104\n",
            "Epoch 166/200\n",
            "34/34 [==============================] - 0s 2ms/step - loss: 3721.8940 - mae: 3721.8940\n",
            "Epoch 167/200\n",
            "34/34 [==============================] - 0s 2ms/step - loss: 3720.7314 - mae: 3720.7314\n",
            "Epoch 168/200\n",
            "34/34 [==============================] - 0s 2ms/step - loss: 3715.3093 - mae: 3715.3093\n",
            "Epoch 169/200\n",
            "34/34 [==============================] - 0s 2ms/step - loss: 3714.2400 - mae: 3714.2400\n",
            "Epoch 170/200\n",
            "34/34 [==============================] - 0s 2ms/step - loss: 3708.1538 - mae: 3708.1538\n",
            "Epoch 171/200\n",
            "34/34 [==============================] - 0s 2ms/step - loss: 3707.5679 - mae: 3707.5679\n",
            "Epoch 172/200\n",
            "34/34 [==============================] - 0s 2ms/step - loss: 3709.5635 - mae: 3709.5635\n",
            "Epoch 173/200\n",
            "34/34 [==============================] - 0s 2ms/step - loss: 3705.6372 - mae: 3705.6372\n",
            "Epoch 174/200\n",
            "34/34 [==============================] - 0s 2ms/step - loss: 3709.1023 - mae: 3709.1023\n",
            "Epoch 175/200\n",
            "34/34 [==============================] - 0s 2ms/step - loss: 3712.1279 - mae: 3712.1279\n",
            "Epoch 176/200\n",
            "34/34 [==============================] - 0s 1ms/step - loss: 3705.9382 - mae: 3705.9382\n",
            "Epoch 177/200\n",
            "34/34 [==============================] - 0s 1ms/step - loss: 3700.1218 - mae: 3700.1218\n",
            "Epoch 178/200\n",
            "34/34 [==============================] - 0s 2ms/step - loss: 3696.2854 - mae: 3696.2854\n",
            "Epoch 179/200\n",
            "34/34 [==============================] - 0s 1ms/step - loss: 3704.3586 - mae: 3704.3586\n",
            "Epoch 180/200\n",
            "34/34 [==============================] - 0s 2ms/step - loss: 3709.2505 - mae: 3709.2505\n",
            "Epoch 181/200\n",
            "34/34 [==============================] - 0s 1ms/step - loss: 3695.9170 - mae: 3695.9170\n",
            "Epoch 182/200\n",
            "34/34 [==============================] - 0s 1ms/step - loss: 3693.5237 - mae: 3693.5237\n",
            "Epoch 183/200\n",
            "34/34 [==============================] - 0s 1ms/step - loss: 3692.0999 - mae: 3692.0999\n",
            "Epoch 184/200\n",
            "34/34 [==============================] - 0s 2ms/step - loss: 3698.8430 - mae: 3698.8430\n",
            "Epoch 185/200\n",
            "34/34 [==============================] - 0s 2ms/step - loss: 3694.2781 - mae: 3694.2781\n",
            "Epoch 186/200\n",
            "34/34 [==============================] - 0s 2ms/step - loss: 3696.6104 - mae: 3696.6104\n",
            "Epoch 187/200\n",
            "34/34 [==============================] - 0s 1ms/step - loss: 3689.0247 - mae: 3689.0247\n",
            "Epoch 188/200\n",
            "34/34 [==============================] - 0s 1ms/step - loss: 3694.2283 - mae: 3694.2283\n",
            "Epoch 189/200\n",
            "34/34 [==============================] - 0s 2ms/step - loss: 3683.9485 - mae: 3683.9485\n",
            "Epoch 190/200\n",
            "34/34 [==============================] - 0s 2ms/step - loss: 3682.8477 - mae: 3682.8477\n",
            "Epoch 191/200\n",
            "34/34 [==============================] - 0s 2ms/step - loss: 3699.1458 - mae: 3699.1458\n",
            "Epoch 192/200\n",
            "34/34 [==============================] - 0s 1ms/step - loss: 3684.8535 - mae: 3684.8535\n",
            "Epoch 193/200\n",
            "34/34 [==============================] - 0s 2ms/step - loss: 3675.5303 - mae: 3675.5303\n",
            "Epoch 194/200\n",
            "34/34 [==============================] - 0s 2ms/step - loss: 3675.5764 - mae: 3675.5764\n",
            "Epoch 195/200\n",
            "34/34 [==============================] - 0s 2ms/step - loss: 3673.1931 - mae: 3673.1931\n",
            "Epoch 196/200\n",
            "34/34 [==============================] - 0s 1ms/step - loss: 3682.2253 - mae: 3682.2253\n",
            "Epoch 197/200\n",
            "34/34 [==============================] - 0s 2ms/step - loss: 3666.2061 - mae: 3666.2061\n",
            "Epoch 198/200\n",
            "34/34 [==============================] - 0s 2ms/step - loss: 3671.8359 - mae: 3671.8359\n",
            "Epoch 199/200\n",
            "34/34 [==============================] - 0s 2ms/step - loss: 3680.2205 - mae: 3680.2205\n",
            "Epoch 200/200\n",
            "34/34 [==============================] - 0s 1ms/step - loss: 3666.9414 - mae: 3666.9414\n"
          ],
          "name": "stdout"
        }
      ]
    },
    {
      "cell_type": "code",
      "metadata": {
        "colab": {
          "base_uri": "https://localhost:8080/",
          "height": 296
        },
        "id": "68Af9LO95b3W",
        "outputId": "0b16a6b6-9b37-441d-8230-c5330473bd26"
      },
      "source": [
        "pd.DataFrame(history_3.history).plot()\n",
        "plt.xlabel(\"epochs\")\n",
        "plt.ylabel(\"loss\")\n"
      ],
      "execution_count": 52,
      "outputs": [
        {
          "output_type": "execute_result",
          "data": {
            "text/plain": [
              "Text(0, 0.5, 'loss')"
            ]
          },
          "metadata": {
            "tags": []
          },
          "execution_count": 52
        },
        {
          "output_type": "display_data",
          "data": {
            "image/png": "[encoded data removed]",
            "text/plain": [
              "<Figure size 432x288 with 1 Axes>"
            ]
          },
          "metadata": {
            "tags": [],
            "needs_background": "light"
          }
        }
      ]
    },
    {
      "cell_type": "markdown",
      "metadata": {
        "id": "Q6A2I_OAYh7-"
      },
      "source": [
        "# Lets pre process the data \n",
        "--> Normalizing it or Standardising it "
      ]
    },
    {
      "cell_type": "code",
      "metadata": {
        "id": "ss_tsHbNYyv0"
      },
      "source": [
        "import tensorflow as tf\n",
        "import pandas as pd\n",
        "import matplotlib.pyplot as plt\n"
      ],
      "execution_count": 53,
      "outputs": []
    },
    {
      "cell_type": "code",
      "metadata": {
        "colab": {
          "base_uri": "https://localhost:8080/",
          "height": 415
        },
        "id": "npMrs0eYY6sq",
        "outputId": "8051adfd-79f9-4981-a262-6613dfc060f8"
      },
      "source": [
        "insurance_data = pd.read_csv(\"https://raw.githubusercontent.com/stedy/Machine-Learning-with-R-datasets/master/insurance.csv\")\n",
        "insurance_data"
      ],
      "execution_count": 55,
      "outputs": [
        {
          "output_type": "execute_result",
          "data": {
            "text/html": [
              "<div>\n",
              "<style scoped>\n",
              "    .dataframe tbody tr th:only-of-type {\n",
              "        vertical-align: middle;\n",
              "    }\n",
              "\n",
              "    .dataframe tbody tr th {\n",
              "        vertical-align: top;\n",
              "    }\n",
              "\n",
              "    .dataframe thead th {\n",
              "        text-align: right;\n",
              "    }\n",
              "</style>\n",
              "<table border=\"1\" class=\"dataframe\">\n",
              "  <thead>\n",
              "    <tr style=\"text-align: right;\">\n",
              "      <th></th>\n",
              "      <th>age</th>\n",
              "      <th>sex</th>\n",
              "      <th>bmi</th>\n",
              "      <th>children</th>\n",
              "      <th>smoker</th>\n",
              "      <th>region</th>\n",
              "      <th>charges</th>\n",
              "    </tr>\n",
              "  </thead>\n",
              "  <tbody>\n",
              "    <tr>\n",
              "      <th>0</th>\n",
              "      <td>19</td>\n",
              "      <td>female</td>\n",
              "      <td>27.900</td>\n",
              "      <td>0</td>\n",
              "      <td>yes</td>\n",
              "      <td>southwest</td>\n",
              "      <td>16884.92400</td>\n",
              "    </tr>\n",
              "    <tr>\n",
              "      <th>1</th>\n",
              "      <td>18</td>\n",
              "      <td>male</td>\n",
              "      <td>33.770</td>\n",
              "      <td>1</td>\n",
              "      <td>no</td>\n",
              "      <td>southeast</td>\n",
              "      <td>1725.55230</td>\n",
              "    </tr>\n",
              "    <tr>\n",
              "      <th>2</th>\n",
              "      <td>28</td>\n",
              "      <td>male</td>\n",
              "      <td>33.000</td>\n",
              "      <td>3</td>\n",
              "      <td>no</td>\n",
              "      <td>southeast</td>\n",
              "      <td>4449.46200</td>\n",
              "    </tr>\n",
              "    <tr>\n",
              "      <th>3</th>\n",
              "      <td>33</td>\n",
              "      <td>male</td>\n",
              "      <td>22.705</td>\n",
              "      <td>0</td>\n",
              "      <td>no</td>\n",
              "      <td>northwest</td>\n",
              "      <td>21984.47061</td>\n",
              "    </tr>\n",
              "    <tr>\n",
              "      <th>4</th>\n",
              "      <td>32</td>\n",
              "      <td>male</td>\n",
              "      <td>28.880</td>\n",
              "      <td>0</td>\n",
              "      <td>no</td>\n",
              "      <td>northwest</td>\n",
              "      <td>3866.85520</td>\n",
              "    </tr>\n",
              "    <tr>\n",
              "      <th>...</th>\n",
              "      <td>...</td>\n",
              "      <td>...</td>\n",
              "      <td>...</td>\n",
              "      <td>...</td>\n",
              "      <td>...</td>\n",
              "      <td>...</td>\n",
              "      <td>...</td>\n",
              "    </tr>\n",
              "    <tr>\n",
              "      <th>1333</th>\n",
              "      <td>50</td>\n",
              "      <td>male</td>\n",
              "      <td>30.970</td>\n",
              "      <td>3</td>\n",
              "      <td>no</td>\n",
              "      <td>northwest</td>\n",
              "      <td>10600.54830</td>\n",
              "    </tr>\n",
              "    <tr>\n",
              "      <th>1334</th>\n",
              "      <td>18</td>\n",
              "      <td>female</td>\n",
              "      <td>31.920</td>\n",
              "      <td>0</td>\n",
              "      <td>no</td>\n",
              "      <td>northeast</td>\n",
              "      <td>2205.98080</td>\n",
              "    </tr>\n",
              "    <tr>\n",
              "      <th>1335</th>\n",
              "      <td>18</td>\n",
              "      <td>female</td>\n",
              "      <td>36.850</td>\n",
              "      <td>0</td>\n",
              "      <td>no</td>\n",
              "      <td>southeast</td>\n",
              "      <td>1629.83350</td>\n",
              "    </tr>\n",
              "    <tr>\n",
              "      <th>1336</th>\n",
              "      <td>21</td>\n",
              "      <td>female</td>\n",
              "      <td>25.800</td>\n",
              "      <td>0</td>\n",
              "      <td>no</td>\n",
              "      <td>southwest</td>\n",
              "      <td>2007.94500</td>\n",
              "    </tr>\n",
              "    <tr>\n",
              "      <th>1337</th>\n",
              "      <td>61</td>\n",
              "      <td>female</td>\n",
              "      <td>29.070</td>\n",
              "      <td>0</td>\n",
              "      <td>yes</td>\n",
              "      <td>northwest</td>\n",
              "      <td>29141.36030</td>\n",
              "    </tr>\n",
              "  </tbody>\n",
              "</table>\n",
              "<p>1338 rows × 7 columns</p>\n",
              "</div>"
            ],
            "text/plain": [
              "      age     sex     bmi  children smoker     region      charges\n",
              "0      19  female  27.900         0    yes  southwest  16884.92400\n",
              "1      18    male  33.770         1     no  southeast   1725.55230\n",
              "2      28    male  33.000         3     no  southeast   4449.46200\n",
              "3      33    male  22.705         0     no  northwest  21984.47061\n",
              "4      32    male  28.880         0     no  northwest   3866.85520\n",
              "...   ...     ...     ...       ...    ...        ...          ...\n",
              "1333   50    male  30.970         3     no  northwest  10600.54830\n",
              "1334   18  female  31.920         0     no  northeast   2205.98080\n",
              "1335   18  female  36.850         0     no  southeast   1629.83350\n",
              "1336   21  female  25.800         0     no  southwest   2007.94500\n",
              "1337   61  female  29.070         0    yes  northwest  29141.36030\n",
              "\n",
              "[1338 rows x 7 columns]"
            ]
          },
          "metadata": {
            "tags": []
          },
          "execution_count": 55
        }
      ]
    },
    {
      "cell_type": "code",
      "metadata": {
        "id": "X4822VLQZQB5"
      },
      "source": [
        "from sklearn.compose import make_column_transformer\n",
        "from sklearn.preprocessing import MinMaxScaler, OneHotEncoder\n",
        "from sklearn.model_selection import train_test_split"
      ],
      "execution_count": 63,
      "outputs": []
    },
    {
      "cell_type": "code",
      "metadata": {
        "id": "Mu7yJqtOaNHd"
      },
      "source": [
        "column_transformer = make_column_transformer(\n",
        "    (MinMaxScaler(),[\"age\",\"bmi\",\"children\"]),\n",
        "    (OneHotEncoder(handle_unknown=\"ignore\"),[\"sex\",\"smoker\",\"region\"])\n",
        ")"
      ],
      "execution_count": 61,
      "outputs": []
    },
    {
      "cell_type": "code",
      "metadata": {
        "id": "PTU9tWombCl4"
      },
      "source": [
        "#Create X and y (features and lables.)\n",
        "X=insurance_data.drop(\"charges\",axis=1)\n",
        "y=insurance_data[\"charges\"]\n"
      ],
      "execution_count": 62,
      "outputs": []
    },
    {
      "cell_type": "code",
      "metadata": {
        "id": "0VcxnGkObVIG"
      },
      "source": [
        "#Create testing and trianing data"
      ],
      "execution_count": 64,
      "outputs": []
    },
    {
      "cell_type": "code",
      "metadata": {
        "id": "B4xQu8pibzzU"
      },
      "source": [
        "X_train, X_test, y_train, y_test = train_test_split(X, y, test_size=0.2, random_state=42)\n",
        "\n"
      ],
      "execution_count": 66,
      "outputs": []
    },
    {
      "cell_type": "code",
      "metadata": {
        "colab": {
          "base_uri": "https://localhost:8080/"
        },
        "id": "Hhd2aIEfcQhp",
        "outputId": "5109affc-83c4-42e7-f0f8-c84916f5c732"
      },
      "source": [
        "# # Fit column transformer on the training data only (doing so on test data would result in data leakage)\n",
        "column_transformer.fit(X_train)"
      ],
      "execution_count": 69,
      "outputs": [
        {
          "output_type": "execute_result",
          "data": {
            "text/plain": [
              "ColumnTransformer(n_jobs=None, remainder='drop', sparse_threshold=0.3,\n",
              "                  transformer_weights=None,\n",
              "                  transformers=[('minmaxscaler',\n",
              "                                 MinMaxScaler(copy=True, feature_range=(0, 1)),\n",
              "                                 ['age', 'bmi', 'children']),\n",
              "                                ('onehotencoder',\n",
              "                                 OneHotEncoder(categories='auto', drop=None,\n",
              "                                               dtype=<class 'numpy.float64'>,\n",
              "                                               handle_unknown='ignore',\n",
              "                                               sparse=True),\n",
              "                                 ['sex', 'smoker', 'region'])],\n",
              "                  verbose=False)"
            ]
          },
          "metadata": {
            "tags": []
          },
          "execution_count": 69
        }
      ]
    },
    {
      "cell_type": "code",
      "metadata": {
        "id": "EMxRmxXUcYT4"
      },
      "source": [
        "X_train_normal = column_transformer.transform(X_train)\n",
        "X_test_normal = column_transformer.transform(X_test)"
      ],
      "execution_count": 71,
      "outputs": []
    },
    {
      "cell_type": "code",
      "metadata": {
        "colab": {
          "base_uri": "https://localhost:8080/",
          "height": 281
        },
        "id": "DvGzOjRics2G",
        "outputId": "c9854661-3572-482d-8cf7-79133cf3a0b1"
      },
      "source": [
        "X_train[\"age\"].plot(kind=\"hist\")\n"
      ],
      "execution_count": 84,
      "outputs": [
        {
          "output_type": "execute_result",
          "data": {
            "text/plain": [
              "<matplotlib.axes._subplots.AxesSubplot at 0x7f4786630110>"
            ]
          },
          "metadata": {
            "tags": []
          },
          "execution_count": 84
        },
        {
          "output_type": "display_data",
          "data": {
            "image/png": "[encoded data removed]",
            "text/plain": [
              "<Figure size 432x288 with 1 Axes>"
            ]
          },
          "metadata": {
            "tags": [],
            "needs_background": "light"
          }
        }
      ]
    },
    {
      "cell_type": "code",
      "metadata": {
        "id": "9oZNrz_ydAml"
      },
      "source": [
        "# Build the tensor flow model ob pre process data\n",
        "tf.random.set_seed(42)\n",
        "\n",
        "#Create a model\n",
        "insurance_model_4 = tf.keras.Sequential([\n",
        "                                         tf.keras.layers.Dense(100),\n",
        "                                         tf.keras.layers.Dense(10),\n",
        "                                         tf.keras.layers.Dense(1)\n",
        "], name=\"Insurance_pre_processed_model\")\n",
        "\n",
        "#Compile the model\n",
        "insurance_model_4.compile(loss=tf.keras.losses.mae,\n",
        "                          optimizer=tf.keras.optimizers.Adam(),\n",
        "                          metrics=[\"mae\"])\n",
        "#fit the model\n",
        "\n",
        "history_4=insurance_model_4.fit(X_train_normal,y_train,epochs=200,verbose=0)"
      ],
      "execution_count": 76,
      "outputs": []
    },
    {
      "cell_type": "code",
      "metadata": {
        "colab": {
          "base_uri": "https://localhost:8080/"
        },
        "id": "7ZR2wcAYdHF0",
        "outputId": "1b745201-edbd-4222-9803-746d5bafce38"
      },
      "source": [
        "insurance_model_4.evaluate(X_test_normal,y_test)"
      ],
      "execution_count": 78,
      "outputs": [
        {
          "output_type": "stream",
          "text": [
            "9/9 [==============================] - 0s 1ms/step - loss: 3171.5776 - mae: 3171.5776\n"
          ],
          "name": "stdout"
        },
        {
          "output_type": "execute_result",
          "data": {
            "text/plain": [
              "[3171.57763671875, 3171.57763671875]"
            ]
          },
          "metadata": {
            "tags": []
          },
          "execution_count": 78
        }
      ]
    },
    {
      "cell_type": "code",
      "metadata": {
        "colab": {
          "base_uri": "https://localhost:8080/",
          "height": 296
        },
        "id": "s3UhlaRUeZ-r",
        "outputId": "50c62b3b-7d56-4089-d898-df7c6fefad1b"
      },
      "source": [
        "pd.DataFrame(history_4.history).plot()\n",
        "plt.xlabel(\"epochs\")\n",
        "plt.ylabel(\"loss\")"
      ],
      "execution_count": 79,
      "outputs": [
        {
          "output_type": "execute_result",
          "data": {
            "text/plain": [
              "Text(0, 0.5, 'loss')"
            ]
          },
          "metadata": {
            "tags": []
          },
          "execution_count": 79
        },
        {
          "output_type": "display_data",
          "data": {
            "image/png": "[encoded data removed]",
            "text/plain": [
              "<Figure size 432x288 with 1 Axes>"
            ]
          },
          "metadata": {
            "tags": [],
            "needs_background": "light"
          }
        }
      ]
    }
  ]
}