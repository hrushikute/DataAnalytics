{
  "nbformat": 4,
  "nbformat_minor": 0,
  "metadata": {
    "colab": {
      "name": "01_neural_ntewrok_regression_with_tensorflow.ipynb",
      "provenance": [],
      "collapsed_sections": [],
      "authorship_tag": "ABX9TyOqgAnUCXtsv7SgcRyJxESV",
      "include_colab_link": true
    },
    "kernelspec": {
      "name": "python3",
      "display_name": "Python 3"
    },
    "language_info": {
      "name": "python"
    }
  },
  "cells": [
    {
      "cell_type": "markdown",
      "metadata": {
        "id": "view-in-github",
        "colab_type": "text"
      },
      "source": [
        "<a href=\"https://colab.research.google.com/github/hrushikute/DataAnalytics/blob/master/01_neural_ntewrok_regression_with_tensorflow.ipynb\" target=\"_parent\"><img src=\"https://colab.research.google.com/assets/colab-badge.svg\" alt=\"Open In Colab\"/></a>"
      ]
    },
    {
      "cell_type": "markdown",
      "metadata": {
        "id": "zH2rx0NSvKJ8"
      },
      "source": [
        "# Introduction to NN in Tensorflow"
      ]
    },
    {
      "cell_type": "code",
      "metadata": {
        "colab": {
          "base_uri": "https://localhost:8080/"
        },
        "id": "KEmA6N3PwkLp",
        "outputId": "e665a9bb-99c7-43c9-ab44-19a96601adc7"
      },
      "source": [
        "import tensorflow as tf\n",
        "print(tf.__version__)"
      ],
      "execution_count": null,
      "outputs": [
        {
          "output_type": "stream",
          "text": [
            "2.5.0\n"
          ],
          "name": "stdout"
        }
      ]
    },
    {
      "cell_type": "markdown",
      "metadata": {
        "id": "NJWCVGWww5pm"
      },
      "source": [
        "## Creating  a data to view and fit "
      ]
    },
    {
      "cell_type": "code",
      "metadata": {
        "colab": {
          "base_uri": "https://localhost:8080/",
          "height": 286
        },
        "id": "FzZKr9RBxGk4",
        "outputId": "07428301-cfc4-4790-caa4-d3fc53783347"
      },
      "source": [
        "import numpy as np\n",
        "import matplotlib.pyplot as plt\n",
        "\n",
        "#create features\n",
        "\n",
        "X = np.array([-7.,-4.0,-1,2.0,5.0,8,11,14.0])\n",
        "X\n",
        "#Create labels\n",
        "y = np.array([3,6,9.0,12,15.0,18,21,24])\n",
        "plt.scatter(X,y)"
      ],
      "execution_count": null,
      "outputs": [
        {
          "output_type": "execute_result",
          "data": {
            "text/plain": [
              "<matplotlib.collections.PathCollection at 0x7f927591f2d0>"
            ]
          },
          "metadata": {
            "tags": []
          },
          "execution_count": 3
        },
        {
          "output_type": "display_data",
          "data": {
            "image/png": "[encoded data removed]",
            "text/plain": [
              "<Figure size 432x288 with 1 Axes>"
            ]
          },
          "metadata": {
            "tags": [],
            "needs_background": "light"
          }
        }
      ]
    },
    {
      "cell_type": "code",
      "metadata": {
        "colab": {
          "base_uri": "https://localhost:8080/"
        },
        "id": "v-7cf1MPyHiI",
        "outputId": "396197e6-998b-4898-9226-6c5d28800f33"
      },
      "source": [
        "y ==X+10\n"
      ],
      "execution_count": null,
      "outputs": [
        {
          "output_type": "execute_result",
          "data": {
            "text/plain": [
              "array([ True,  True,  True,  True,  True,  True,  True,  True])"
            ]
          },
          "metadata": {
            "tags": []
          },
          "execution_count": 4
        }
      ]
    },
    {
      "cell_type": "markdown",
      "metadata": {
        "id": "vAd-et-dyKW6"
      },
      "source": [
        "** Input and output shapes"
      ]
    },
    {
      "cell_type": "code",
      "metadata": {
        "colab": {
          "base_uri": "https://localhost:8080/"
        },
        "id": "LJHe_yRAygHU",
        "outputId": "d0fcc62c-d10f-456e-d142-0d070871552b"
      },
      "source": [
        "##create a demo tensor for out housing price prediction problme\n",
        "house_info = tf.constant([\"bedroom\",\"bathroom\",\"garage\"])\n",
        "house_price = tf.constant([939700])\n",
        "house_info, house_price"
      ],
      "execution_count": null,
      "outputs": [
        {
          "output_type": "execute_result",
          "data": {
            "text/plain": [
              "(<tf.Tensor: shape=(3,), dtype=string, numpy=array([b'bedroom', b'bathroom', b'garage'], dtype=object)>,\n",
              " <tf.Tensor: shape=(1,), dtype=int32, numpy=array([939700], dtype=int32)>)"
            ]
          },
          "metadata": {
            "tags": []
          },
          "execution_count": 5
        }
      ]
    },
    {
      "cell_type": "code",
      "metadata": {
        "colab": {
          "base_uri": "https://localhost:8080/"
        },
        "id": "tuiEXvgDy7go",
        "outputId": "de0fae01-b0c6-48e3-ff67-1ca9abd05db6"
      },
      "source": [
        "input_shape = X.shape\n",
        "output_shape = y.shape\n",
        "\n",
        "input_shape, output_shape"
      ],
      "execution_count": null,
      "outputs": [
        {
          "output_type": "execute_result",
          "data": {
            "text/plain": [
              "((8,), (8,))"
            ]
          },
          "metadata": {
            "tags": []
          },
          "execution_count": 6
        }
      ]
    },
    {
      "cell_type": "code",
      "metadata": {
        "colab": {
          "base_uri": "https://localhost:8080/"
        },
        "id": "RT087ZOSzDdC",
        "outputId": "2bc1d54f-9c85-4eed-8d63-be8d4558134b"
      },
      "source": [
        "# trun numpyt array tensors\n",
        "X=tf.constant(X)\n",
        "y=tf.constant(y)\n",
        "X,y"
      ],
      "execution_count": null,
      "outputs": [
        {
          "output_type": "execute_result",
          "data": {
            "text/plain": [
              "(<tf.Tensor: shape=(8,), dtype=float64, numpy=array([-7., -4., -1.,  2.,  5.,  8., 11., 14.])>,\n",
              " <tf.Tensor: shape=(8,), dtype=float64, numpy=array([ 3.,  6.,  9., 12., 15., 18., 21., 24.])>)"
            ]
          },
          "metadata": {
            "tags": []
          },
          "execution_count": 7
        }
      ]
    },
    {
      "cell_type": "code",
      "metadata": {
        "colab": {
          "base_uri": "https://localhost:8080/",
          "height": 286
        },
        "id": "cLnreoJu0HLc",
        "outputId": "7a39f8a9-e802-4acd-baf4-617bedbe5b6e"
      },
      "source": [
        "plt.scatter(X,y)"
      ],
      "execution_count": null,
      "outputs": [
        {
          "output_type": "execute_result",
          "data": {
            "text/plain": [
              "<matplotlib.collections.PathCollection at 0x7f9276193110>"
            ]
          },
          "metadata": {
            "tags": []
          },
          "execution_count": 8
        },
        {
          "output_type": "display_data",
          "data": {
            "image/png": "[encoded data removed]",
            "text/plain": [
              "<Figure size 432x288 with 1 Axes>"
            ]
          },
          "metadata": {
            "tags": [],
            "needs_background": "light"
          }
        }
      ]
    },
    {
      "cell_type": "markdown",
      "metadata": {
        "id": "G4CUyTUr0J6D"
      },
      "source": [
        "#Steps in modelling with Tensor flow"
      ]
    },
    {
      "cell_type": "code",
      "metadata": {
        "colab": {
          "base_uri": "https://localhost:8080/"
        },
        "id": "XDgyj_1I0OAt",
        "outputId": "c22b3cf9-fc84-45be-9d31-29093a397cec"
      },
      "source": [
        "#set random seed\n",
        "tf.random.set_seed(42)\n",
        "\n",
        "# Create a model using the Sequential\n",
        "model = tf.keras.Sequential([\n",
        "                             tf.keras.layers.Dense(1)\n",
        "                             ])\n",
        "\n",
        "# Compile the model\n",
        "\n",
        "model.compile(loss=tf.keras.losses.mae,\n",
        "              optimizer=tf.keras.optimizers.SGD(),\n",
        "              metrics=['mae']\n",
        "              )\n",
        "\n",
        "#fit the model\n",
        "model.fit(X,y,epochs=5)\n"
      ],
      "execution_count": null,
      "outputs": [
        {
          "output_type": "stream",
          "text": [
            "Epoch 1/5\n",
            "1/1 [==============================] - 1s 540ms/step - loss: 11.5048 - mae: 11.5048\n",
            "Epoch 2/5\n",
            "1/1 [==============================] - 0s 7ms/step - loss: 11.3723 - mae: 11.3723\n",
            "Epoch 3/5\n",
            "1/1 [==============================] - 0s 3ms/step - loss: 11.2398 - mae: 11.2398\n",
            "Epoch 4/5\n",
            "1/1 [==============================] - 0s 3ms/step - loss: 11.1073 - mae: 11.1073\n",
            "Epoch 5/5\n",
            "1/1 [==============================] - 0s 4ms/step - loss: 10.9748 - mae: 10.9748\n"
          ],
          "name": "stdout"
        },
        {
          "output_type": "execute_result",
          "data": {
            "text/plain": [
              "<tensorflow.python.keras.callbacks.History at 0x7f9271bda250>"
            ]
          },
          "metadata": {
            "tags": []
          },
          "execution_count": 9
        }
      ]
    },
    {
      "cell_type": "code",
      "metadata": {
        "colab": {
          "base_uri": "https://localhost:8080/"
        },
        "id": "gKbgUDPg4Mz5",
        "outputId": "dfff75dd-8d78-49af-9b8b-3f2ad4132f30"
      },
      "source": [
        "model.predict([17.0])"
      ],
      "execution_count": null,
      "outputs": [
        {
          "output_type": "execute_result",
          "data": {
            "text/plain": [
              "array([[12.716021]], dtype=float32)"
            ]
          },
          "metadata": {
            "tags": []
          },
          "execution_count": 10
        }
      ]
    },
    {
      "cell_type": "markdown",
      "metadata": {
        "id": "0BliqFmp4hRZ"
      },
      "source": [
        "#improving the model"
      ]
    },
    {
      "cell_type": "code",
      "metadata": {
        "colab": {
          "base_uri": "https://localhost:8080/"
        },
        "id": "hFHg5RE6LsAD",
        "outputId": "54f34aba-225e-4d5f-d21e-9d170a318917"
      },
      "source": [
        "#lets rebuild out model\n",
        "# 1. Create amodel\n",
        "model_imporve = tf.keras.Sequential([\n",
        "                                     tf.keras.layers.Dense(50,activation=None),\n",
        "                                     tf.keras.layers.Dense(1)\n",
        "                                     ])\n",
        "# 2. Comiple the model\n",
        "model_imporve.compile(loss=tf.keras.losses.mae,\n",
        "                      optimizer=tf.keras.optimizers.Adam(learning_rate=0.01),\n",
        "                      metrics=['mae'])\n",
        "#3. Fit the model\n",
        "model_imporve.fit(X,y,epochs=100)"
      ],
      "execution_count": null,
      "outputs": [
        {
          "output_type": "stream",
          "text": [
            "Epoch 1/100\n",
            "1/1 [==============================] - 0s 353ms/step - loss: 14.6466 - mae: 14.6466\n",
            "Epoch 2/100\n",
            "1/1 [==============================] - 0s 8ms/step - loss: 13.9532 - mae: 13.9532\n",
            "Epoch 3/100\n",
            "1/1 [==============================] - 0s 3ms/step - loss: 13.2603 - mae: 13.2603\n",
            "Epoch 4/100\n",
            "1/1 [==============================] - 0s 4ms/step - loss: 12.5659 - mae: 12.5659\n",
            "Epoch 5/100\n",
            "1/1 [==============================] - 0s 4ms/step - loss: 11.8675 - mae: 11.8675\n",
            "Epoch 6/100\n",
            "1/1 [==============================] - 0s 11ms/step - loss: 11.1621 - mae: 11.1621\n",
            "Epoch 7/100\n",
            "1/1 [==============================] - 0s 5ms/step - loss: 10.4475 - mae: 10.4475\n",
            "Epoch 8/100\n",
            "1/1 [==============================] - 0s 4ms/step - loss: 9.7214 - mae: 9.7214\n",
            "Epoch 9/100\n",
            "1/1 [==============================] - 0s 5ms/step - loss: 8.9817 - mae: 8.9817\n",
            "Epoch 10/100\n",
            "1/1 [==============================] - 0s 7ms/step - loss: 8.2262 - mae: 8.2262\n",
            "Epoch 11/100\n",
            "1/1 [==============================] - 0s 5ms/step - loss: 7.4526 - mae: 7.4526\n",
            "Epoch 12/100\n",
            "1/1 [==============================] - 0s 3ms/step - loss: 6.6585 - mae: 6.6585\n",
            "Epoch 13/100\n",
            "1/1 [==============================] - 0s 6ms/step - loss: 6.6244 - mae: 6.6244\n",
            "Epoch 14/100\n",
            "1/1 [==============================] - 0s 18ms/step - loss: 6.9777 - mae: 6.9777\n",
            "Epoch 15/100\n",
            "1/1 [==============================] - 0s 6ms/step - loss: 7.2653 - mae: 7.2653\n",
            "Epoch 16/100\n",
            "1/1 [==============================] - 0s 5ms/step - loss: 7.4820 - mae: 7.4820\n",
            "Epoch 17/100\n",
            "1/1 [==============================] - 0s 5ms/step - loss: 7.4879 - mae: 7.4879\n",
            "Epoch 18/100\n",
            "1/1 [==============================] - 0s 4ms/step - loss: 7.3301 - mae: 7.3301\n",
            "Epoch 19/100\n",
            "1/1 [==============================] - 0s 7ms/step - loss: 7.0454 - mae: 7.0454\n",
            "Epoch 20/100\n",
            "1/1 [==============================] - 0s 9ms/step - loss: 6.7251 - mae: 6.7251\n",
            "Epoch 21/100\n",
            "1/1 [==============================] - 0s 4ms/step - loss: 6.4643 - mae: 6.4643\n",
            "Epoch 22/100\n",
            "1/1 [==============================] - 0s 4ms/step - loss: 6.1900 - mae: 6.1900\n",
            "Epoch 23/100\n",
            "1/1 [==============================] - 0s 5ms/step - loss: 5.9246 - mae: 5.9246\n",
            "Epoch 24/100\n",
            "1/1 [==============================] - 0s 5ms/step - loss: 5.8782 - mae: 5.8782\n",
            "Epoch 25/100\n",
            "1/1 [==============================] - 0s 4ms/step - loss: 5.8276 - mae: 5.8276\n",
            "Epoch 26/100\n",
            "1/1 [==============================] - 0s 5ms/step - loss: 5.9724 - mae: 5.9724\n",
            "Epoch 27/100\n",
            "1/1 [==============================] - 0s 8ms/step - loss: 6.0130 - mae: 6.0130\n",
            "Epoch 28/100\n",
            "1/1 [==============================] - 0s 4ms/step - loss: 5.9583 - mae: 5.9583\n",
            "Epoch 29/100\n",
            "1/1 [==============================] - 0s 4ms/step - loss: 5.8190 - mae: 5.8190\n",
            "Epoch 30/100\n",
            "1/1 [==============================] - 0s 4ms/step - loss: 5.6030 - mae: 5.6030\n",
            "Epoch 31/100\n",
            "1/1 [==============================] - 0s 4ms/step - loss: 5.3433 - mae: 5.3433\n",
            "Epoch 32/100\n",
            "1/1 [==============================] - 0s 4ms/step - loss: 5.2352 - mae: 5.2352\n",
            "Epoch 33/100\n",
            "1/1 [==============================] - 0s 13ms/step - loss: 5.1239 - mae: 5.1239\n",
            "Epoch 34/100\n",
            "1/1 [==============================] - 0s 8ms/step - loss: 5.0746 - mae: 5.0746\n",
            "Epoch 35/100\n",
            "1/1 [==============================] - 0s 9ms/step - loss: 5.0523 - mae: 5.0523\n",
            "Epoch 36/100\n",
            "1/1 [==============================] - 0s 7ms/step - loss: 4.9871 - mae: 4.9871\n",
            "Epoch 37/100\n",
            "1/1 [==============================] - 0s 4ms/step - loss: 4.8824 - mae: 4.8824\n",
            "Epoch 38/100\n",
            "1/1 [==============================] - 0s 3ms/step - loss: 4.7409 - mae: 4.7409\n",
            "Epoch 39/100\n",
            "1/1 [==============================] - 0s 6ms/step - loss: 4.5658 - mae: 4.5658\n",
            "Epoch 40/100\n",
            "1/1 [==============================] - 0s 4ms/step - loss: 4.4020 - mae: 4.4020\n",
            "Epoch 41/100\n",
            "1/1 [==============================] - 0s 6ms/step - loss: 4.3009 - mae: 4.3009\n",
            "Epoch 42/100\n",
            "1/1 [==============================] - 0s 4ms/step - loss: 4.1923 - mae: 4.1923\n",
            "Epoch 43/100\n",
            "1/1 [==============================] - 0s 6ms/step - loss: 4.0760 - mae: 4.0760\n",
            "Epoch 44/100\n",
            "1/1 [==============================] - 0s 6ms/step - loss: 4.0086 - mae: 4.0086\n",
            "Epoch 45/100\n",
            "1/1 [==============================] - 0s 4ms/step - loss: 3.8364 - mae: 3.8364\n",
            "Epoch 46/100\n",
            "1/1 [==============================] - 0s 5ms/step - loss: 3.6514 - mae: 3.6514\n",
            "Epoch 47/100\n",
            "1/1 [==============================] - 0s 4ms/step - loss: 3.4858 - mae: 3.4858\n",
            "Epoch 48/100\n",
            "1/1 [==============================] - 0s 5ms/step - loss: 3.3568 - mae: 3.3568\n",
            "Epoch 49/100\n",
            "1/1 [==============================] - 0s 8ms/step - loss: 3.2428 - mae: 3.2428\n",
            "Epoch 50/100\n",
            "1/1 [==============================] - 0s 9ms/step - loss: 3.0760 - mae: 3.0760\n",
            "Epoch 51/100\n",
            "1/1 [==============================] - 0s 4ms/step - loss: 2.8591 - mae: 2.8591\n",
            "Epoch 52/100\n",
            "1/1 [==============================] - 0s 4ms/step - loss: 2.6501 - mae: 2.6501\n",
            "Epoch 53/100\n",
            "1/1 [==============================] - 0s 4ms/step - loss: 2.4760 - mae: 2.4760\n",
            "Epoch 54/100\n",
            "1/1 [==============================] - 0s 6ms/step - loss: 2.3457 - mae: 2.3457\n",
            "Epoch 55/100\n",
            "1/1 [==============================] - 0s 4ms/step - loss: 2.1065 - mae: 2.1065\n",
            "Epoch 56/100\n",
            "1/1 [==============================] - 0s 7ms/step - loss: 1.8523 - mae: 1.8523\n",
            "Epoch 57/100\n",
            "1/1 [==============================] - 0s 4ms/step - loss: 1.7208 - mae: 1.7208\n",
            "Epoch 58/100\n",
            "1/1 [==============================] - 0s 4ms/step - loss: 1.5507 - mae: 1.5507\n",
            "Epoch 59/100\n",
            "1/1 [==============================] - 0s 5ms/step - loss: 1.2700 - mae: 1.2700\n",
            "Epoch 60/100\n",
            "1/1 [==============================] - 0s 5ms/step - loss: 0.9323 - mae: 0.9323\n",
            "Epoch 61/100\n",
            "1/1 [==============================] - 0s 5ms/step - loss: 0.8599 - mae: 0.8599\n",
            "Epoch 62/100\n",
            "1/1 [==============================] - 0s 7ms/step - loss: 0.6865 - mae: 0.6865\n",
            "Epoch 63/100\n",
            "1/1 [==============================] - 0s 4ms/step - loss: 0.3405 - mae: 0.3405\n",
            "Epoch 64/100\n",
            "1/1 [==============================] - 0s 3ms/step - loss: 0.1659 - mae: 0.1659\n",
            "Epoch 65/100\n",
            "1/1 [==============================] - 0s 7ms/step - loss: 0.4224 - mae: 0.4224\n",
            "Epoch 66/100\n",
            "1/1 [==============================] - 0s 4ms/step - loss: 0.4802 - mae: 0.4802\n",
            "Epoch 67/100\n",
            "1/1 [==============================] - 0s 6ms/step - loss: 0.6473 - mae: 0.6473\n",
            "Epoch 68/100\n",
            "1/1 [==============================] - 0s 5ms/step - loss: 0.6601 - mae: 0.6601\n",
            "Epoch 69/100\n",
            "1/1 [==============================] - 0s 7ms/step - loss: 0.7372 - mae: 0.7372\n",
            "Epoch 70/100\n",
            "1/1 [==============================] - 0s 4ms/step - loss: 0.7022 - mae: 0.7022\n",
            "Epoch 71/100\n",
            "1/1 [==============================] - 0s 6ms/step - loss: 0.6318 - mae: 0.6318\n",
            "Epoch 72/100\n",
            "1/1 [==============================] - 0s 4ms/step - loss: 0.6151 - mae: 0.6151\n",
            "Epoch 73/100\n",
            "1/1 [==============================] - 0s 6ms/step - loss: 0.4329 - mae: 0.4329\n",
            "Epoch 74/100\n",
            "1/1 [==============================] - 0s 5ms/step - loss: 0.4277 - mae: 0.4277\n",
            "Epoch 75/100\n",
            "1/1 [==============================] - 0s 6ms/step - loss: 0.3097 - mae: 0.3097\n",
            "Epoch 76/100\n",
            "1/1 [==============================] - 0s 5ms/step - loss: 0.0356 - mae: 0.0356\n",
            "Epoch 77/100\n",
            "1/1 [==============================] - 0s 7ms/step - loss: 0.4880 - mae: 0.4880\n",
            "Epoch 78/100\n",
            "1/1 [==============================] - 0s 6ms/step - loss: 0.6479 - mae: 0.6479\n",
            "Epoch 79/100\n",
            "1/1 [==============================] - 0s 4ms/step - loss: 0.6174 - mae: 0.6174\n",
            "Epoch 80/100\n",
            "1/1 [==============================] - 0s 6ms/step - loss: 0.4529 - mae: 0.4529\n",
            "Epoch 81/100\n",
            "1/1 [==============================] - 0s 4ms/step - loss: 0.6294 - mae: 0.6294\n",
            "Epoch 82/100\n",
            "1/1 [==============================] - 0s 5ms/step - loss: 0.7850 - mae: 0.7850\n",
            "Epoch 83/100\n",
            "1/1 [==============================] - 0s 6ms/step - loss: 0.6653 - mae: 0.6653\n",
            "Epoch 84/100\n",
            "1/1 [==============================] - 0s 19ms/step - loss: 0.3935 - mae: 0.3935\n",
            "Epoch 85/100\n",
            "1/1 [==============================] - 0s 4ms/step - loss: 0.5590 - mae: 0.5590\n",
            "Epoch 86/100\n",
            "1/1 [==============================] - 0s 6ms/step - loss: 0.6263 - mae: 0.6263\n",
            "Epoch 87/100\n",
            "1/1 [==============================] - 0s 5ms/step - loss: 0.5316 - mae: 0.5316\n",
            "Epoch 88/100\n",
            "1/1 [==============================] - 0s 4ms/step - loss: 0.2161 - mae: 0.2161\n",
            "Epoch 89/100\n",
            "1/1 [==============================] - 0s 5ms/step - loss: 0.3441 - mae: 0.3441\n",
            "Epoch 90/100\n",
            "1/1 [==============================] - 0s 6ms/step - loss: 0.5325 - mae: 0.5325\n",
            "Epoch 91/100\n",
            "1/1 [==============================] - 0s 7ms/step - loss: 0.4389 - mae: 0.4389\n",
            "Epoch 92/100\n",
            "1/1 [==============================] - 0s 4ms/step - loss: 0.2560 - mae: 0.2560\n",
            "Epoch 93/100\n",
            "1/1 [==============================] - 0s 23ms/step - loss: 0.5795 - mae: 0.5795\n",
            "Epoch 94/100\n",
            "1/1 [==============================] - 0s 4ms/step - loss: 0.7585 - mae: 0.7585\n",
            "Epoch 95/100\n",
            "1/1 [==============================] - 0s 4ms/step - loss: 0.6773 - mae: 0.6773\n",
            "Epoch 96/100\n",
            "1/1 [==============================] - 0s 4ms/step - loss: 0.3691 - mae: 0.3691\n",
            "Epoch 97/100\n",
            "1/1 [==============================] - 0s 4ms/step - loss: 0.3135 - mae: 0.3135\n",
            "Epoch 98/100\n",
            "1/1 [==============================] - 0s 5ms/step - loss: 0.5528 - mae: 0.5528\n",
            "Epoch 99/100\n",
            "1/1 [==============================] - 0s 6ms/step - loss: 0.5451 - mae: 0.5451\n",
            "Epoch 100/100\n",
            "1/1 [==============================] - 0s 3ms/step - loss: 0.2902 - mae: 0.2902\n"
          ],
          "name": "stdout"
        },
        {
          "output_type": "execute_result",
          "data": {
            "text/plain": [
              "<tensorflow.python.keras.callbacks.History at 0x7f926f93a910>"
            ]
          },
          "metadata": {
            "tags": []
          },
          "execution_count": 11
        }
      ]
    },
    {
      "cell_type": "code",
      "metadata": {
        "colab": {
          "base_uri": "https://localhost:8080/"
        },
        "id": "NpS7eG91Oub-",
        "outputId": "a0c1a6e7-3c49-4dbe-bd3a-f9178b73dc0e"
      },
      "source": [
        "model_imporve.predict([17.0])"
      ],
      "execution_count": null,
      "outputs": [
        {
          "output_type": "execute_result",
          "data": {
            "text/plain": [
              "array([[26.434414]], dtype=float32)"
            ]
          },
          "metadata": {
            "tags": []
          },
          "execution_count": 12
        }
      ]
    },
    {
      "cell_type": "markdown",
      "metadata": {
        "id": "mbEcRU3iegjg"
      },
      "source": [
        "Evaluating a model"
      ]
    },
    {
      "cell_type": "markdown",
      "metadata": {
        "id": "DK-weJyCekqK"
      },
      "source": [
        "1. Creating more data "
      ]
    },
    {
      "cell_type": "code",
      "metadata": {
        "colab": {
          "base_uri": "https://localhost:8080/"
        },
        "id": "sXp3uO9lerzA",
        "outputId": "ee61c00b-6268-4335-be1e-a8d024edafe6"
      },
      "source": [
        "X = tf.range(-100,100,4)\n",
        "X"
      ],
      "execution_count": null,
      "outputs": [
        {
          "output_type": "execute_result",
          "data": {
            "text/plain": [
              "<tf.Tensor: shape=(50,), dtype=int32, numpy=\n",
              "array([-100,  -96,  -92,  -88,  -84,  -80,  -76,  -72,  -68,  -64,  -60,\n",
              "        -56,  -52,  -48,  -44,  -40,  -36,  -32,  -28,  -24,  -20,  -16,\n",
              "        -12,   -8,   -4,    0,    4,    8,   12,   16,   20,   24,   28,\n",
              "         32,   36,   40,   44,   48,   52,   56,   60,   64,   68,   72,\n",
              "         76,   80,   84,   88,   92,   96], dtype=int32)>"
            ]
          },
          "metadata": {
            "tags": []
          },
          "execution_count": 13
        }
      ]
    },
    {
      "cell_type": "code",
      "metadata": {
        "colab": {
          "base_uri": "https://localhost:8080/"
        },
        "id": "KX-3-hAMe0uE",
        "outputId": "f68cac5d-e950-482f-e731-2a2c3ef7d9ea"
      },
      "source": [
        "y = X + 10\n",
        "y"
      ],
      "execution_count": null,
      "outputs": [
        {
          "output_type": "execute_result",
          "data": {
            "text/plain": [
              "<tf.Tensor: shape=(50,), dtype=int32, numpy=\n",
              "array([-90, -86, -82, -78, -74, -70, -66, -62, -58, -54, -50, -46, -42,\n",
              "       -38, -34, -30, -26, -22, -18, -14, -10,  -6,  -2,   2,   6,  10,\n",
              "        14,  18,  22,  26,  30,  34,  38,  42,  46,  50,  54,  58,  62,\n",
              "        66,  70,  74,  78,  82,  86,  90,  94,  98, 102, 106], dtype=int32)>"
            ]
          },
          "metadata": {
            "tags": []
          },
          "execution_count": 14
        }
      ]
    },
    {
      "cell_type": "code",
      "metadata": {
        "colab": {
          "base_uri": "https://localhost:8080/",
          "height": 281
        },
        "id": "BRFB2KPee5as",
        "outputId": "0661841f-10e4-4060-ba30-f5482e955829"
      },
      "source": [
        "# visualize the data \n",
        "import matplotlib.pyplot as plt\n",
        "plt.scatter(X,y)"
      ],
      "execution_count": null,
      "outputs": [
        {
          "output_type": "execute_result",
          "data": {
            "text/plain": [
              "<matplotlib.collections.PathCollection at 0x7f926e35b090>"
            ]
          },
          "metadata": {
            "tags": []
          },
          "execution_count": 15
        },
        {
          "output_type": "display_data",
          "data": {
            "image/png": "[encoded data removed]",
            "text/plain": [
              "<Figure size 432x288 with 1 Axes>"
            ]
          },
          "metadata": {
            "tags": [],
            "needs_background": "light"
          }
        }
      ]
    },
    {
      "cell_type": "markdown",
      "metadata": {
        "id": "EBNxopQ_idZq"
      },
      "source": [
        "#split the data in Training and  Testing format.\n",
        "* Training data is usually 80% of data\n",
        "* Testing data is usually 20% of data for testing the model \n"
      ]
    },
    {
      "cell_type": "code",
      "metadata": {
        "id": "4Ve2-nA7i06X"
      },
      "source": [
        "X_train = X[:40]\n",
        "X_test = X[40:]\n",
        "\n",
        "y_train =y[:40]\n",
        "y_test =y[40:]\n"
      ],
      "execution_count": null,
      "outputs": []
    },
    {
      "cell_type": "code",
      "metadata": {
        "colab": {
          "base_uri": "https://localhost:8080/",
          "height": 445
        },
        "id": "IU9UcGlQjIfR",
        "outputId": "40d45fa9-011c-4500-c3b8-a4c472d6d3c7"
      },
      "source": [
        "#visualize the training and test data\n",
        "\n",
        "plt.figure(figsize=(10,7))\n",
        "plt.scatter(X_train,y_train,c=\"b\", label=\"Training Data\")\n",
        "plt.scatter(X_test,y_test,c=\"g\", label =\" Testing Data\")\n",
        "plt.legend()"
      ],
      "execution_count": null,
      "outputs": [
        {
          "output_type": "execute_result",
          "data": {
            "text/plain": [
              "<matplotlib.legend.Legend at 0x7f926dae0950>"
            ]
          },
          "metadata": {
            "tags": []
          },
          "execution_count": 17
        },
        {
          "output_type": "display_data",
          "data": {
            "image/png": "[encoded data removed]",
            "text/plain": [
              "<Figure size 720x504 with 1 Axes>"
            ]
          },
          "metadata": {
            "tags": [],
            "needs_background": "light"
          }
        }
      ]
    },
    {
      "cell_type": "code",
      "metadata": {
        "colab": {
          "base_uri": "https://localhost:8080/"
        },
        "id": "Wwd2_0hFkCYr",
        "outputId": "763ea7da-0776-436e-e31f-c860de64344d"
      },
      "source": [
        "# 1. Create a model\n",
        "\n",
        "model_huge = tf.keras.Sequential([\n",
        "                                  tf.keras.layers.Dense(10,name=\"input_layer\"),\n",
        "                                  tf.keras.layers.Dense(1,name=\"output_layer\"),\n",
        "                                \n",
        "],name=\"huge_model\")\n",
        "\n",
        "#2. Compile the model\n",
        "model_huge.compile(loss=tf.keras.losses.mae,\n",
        "                   optimizer = tf.keras.optimizers.SGD(),\n",
        "                   metrics=[\"mae\"]\n",
        ")\n",
        "\n",
        "#3. Fit the model\n",
        "\n",
        "model_huge.fit(X_train,y_train, epochs =100, verbose=0)\n",
        "model_huge.summary()"
      ],
      "execution_count": null,
      "outputs": [
        {
          "output_type": "stream",
          "text": [
            "Model: \"huge_model\"\n",
            "_________________________________________________________________\n",
            "Layer (type)                 Output Shape              Param #   \n",
            "=================================================================\n",
            "input_layer (Dense)          (None, 10)                20        \n",
            "_________________________________________________________________\n",
            "output_layer (Dense)         (None, 1)                 11        \n",
            "=================================================================\n",
            "Total params: 31\n",
            "Trainable params: 31\n",
            "Non-trainable params: 0\n",
            "_________________________________________________________________\n"
          ],
          "name": "stdout"
        }
      ]
    },
    {
      "cell_type": "code",
      "metadata": {
        "colab": {
          "base_uri": "https://localhost:8080/",
          "height": 312
        },
        "id": "TtC7PU88cq0x",
        "outputId": "8066425a-439a-49d3-8ff2-68638115a679"
      },
      "source": [
        "from tensorflow.keras.utils import plot_model\n",
        "plot_model(model=model_huge, show_shapes=True)"
      ],
      "execution_count": null,
      "outputs": [
        {
          "output_type": "execute_result",
          "data": {
            "image/png": "[encoded data removed]",
            "text/plain": [
              "<IPython.core.display.Image object>"
            ]
          },
          "metadata": {
            "tags": []
          },
          "execution_count": 26
        }
      ]
    }
  ]
}