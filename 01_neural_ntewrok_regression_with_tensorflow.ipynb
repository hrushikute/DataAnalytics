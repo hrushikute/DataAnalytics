{
  "nbformat": 4,
  "nbformat_minor": 0,
  "metadata": {
    "colab": {
      "name": "01_neural_ntewrok_regression_with_tensorflow.ipynb",
      "provenance": [],
      "collapsed_sections": [],
      "authorship_tag": "ABX9TyNa19vp7uYvJ/fbTY74Ms+m",
      "include_colab_link": true
    },
    "kernelspec": {
      "name": "python3",
      "display_name": "Python 3"
    },
    "language_info": {
      "name": "python"
    }
  },
  "cells": [
    {
      "cell_type": "markdown",
      "metadata": {
        "id": "view-in-github",
        "colab_type": "text"
      },
      "source": [
        "<a href=\"https://colab.research.google.com/github/hrushikute/DataAnalytics/blob/master/01_neural_ntewrok_regression_with_tensorflow.ipynb\" target=\"_parent\"><img src=\"https://colab.research.google.com/assets/colab-badge.svg\" alt=\"Open In Colab\"/></a>"
      ]
    },
    {
      "cell_type": "markdown",
      "metadata": {
        "id": "zH2rx0NSvKJ8"
      },
      "source": [
        "# Introduction to NN in Tensorflow"
      ]
    },
    {
      "cell_type": "code",
      "metadata": {
        "colab": {
          "base_uri": "https://localhost:8080/"
        },
        "id": "KEmA6N3PwkLp",
        "outputId": "2d951fbc-1249-4cf2-d581-b139df015280"
      },
      "source": [
        "import tensorflow as tf\n",
        "print(tf.__version__)"
      ],
      "execution_count": 1,
      "outputs": [
        {
          "output_type": "stream",
          "text": [
            "2.5.0\n"
          ],
          "name": "stdout"
        }
      ]
    },
    {
      "cell_type": "markdown",
      "metadata": {
        "id": "NJWCVGWww5pm"
      },
      "source": [
        "## Creating  a data to view and fit "
      ]
    },
    {
      "cell_type": "code",
      "metadata": {
        "colab": {
          "base_uri": "https://localhost:8080/",
          "height": 286
        },
        "id": "FzZKr9RBxGk4",
        "outputId": "c26c15e6-90ac-47d0-d920-ac47811b01d6"
      },
      "source": [
        "import numpy as np\n",
        "import matplotlib.pyplot as plt\n",
        "\n",
        "#create features\n",
        "\n",
        "X = np.array([-7.,-4.0,-1,2.0,5.0,8,11,14.0])\n",
        "X\n",
        "#Create labels\n",
        "y = np.array([3,6,9.0,12,15.0,18,21,24])\n",
        "plt.scatter(X,y)"
      ],
      "execution_count": 2,
      "outputs": [
        {
          "output_type": "execute_result",
          "data": {
            "text/plain": [
              "<matplotlib.collections.PathCollection at 0x7f8ece67e950>"
            ]
          },
          "metadata": {
            "tags": []
          },
          "execution_count": 2
        },
        {
          "output_type": "display_data",
          "data": {
            "image/png": "[encoded data removed]",
            "text/plain": [
              "<Figure size 432x288 with 1 Axes>"
            ]
          },
          "metadata": {
            "tags": [],
            "needs_background": "light"
          }
        }
      ]
    },
    {
      "cell_type": "code",
      "metadata": {
        "colab": {
          "base_uri": "https://localhost:8080/"
        },
        "id": "v-7cf1MPyHiI",
        "outputId": "defe90fe-1ed1-4064-d3cf-0694d8a34219"
      },
      "source": [
        "y ==X+10\n"
      ],
      "execution_count": 3,
      "outputs": [
        {
          "output_type": "execute_result",
          "data": {
            "text/plain": [
              "array([ True,  True,  True,  True,  True,  True,  True,  True])"
            ]
          },
          "metadata": {
            "tags": []
          },
          "execution_count": 3
        }
      ]
    },
    {
      "cell_type": "markdown",
      "metadata": {
        "id": "vAd-et-dyKW6"
      },
      "source": [
        "** Input and output shapes"
      ]
    },
    {
      "cell_type": "code",
      "metadata": {
        "colab": {
          "base_uri": "https://localhost:8080/"
        },
        "id": "LJHe_yRAygHU",
        "outputId": "2b01ee1e-fa01-47a7-d52f-1adb469e7123"
      },
      "source": [
        "##create a demo tensor for out housing price prediction problme\n",
        "house_info = tf.constant([\"bedroom\",\"bathroom\",\"garage\"])\n",
        "house_price = tf.constant([939700])\n",
        "house_info, house_price"
      ],
      "execution_count": 4,
      "outputs": [
        {
          "output_type": "execute_result",
          "data": {
            "text/plain": [
              "(<tf.Tensor: shape=(3,), dtype=string, numpy=array([b'bedroom', b'bathroom', b'garage'], dtype=object)>,\n",
              " <tf.Tensor: shape=(1,), dtype=int32, numpy=array([939700], dtype=int32)>)"
            ]
          },
          "metadata": {
            "tags": []
          },
          "execution_count": 4
        }
      ]
    },
    {
      "cell_type": "code",
      "metadata": {
        "colab": {
          "base_uri": "https://localhost:8080/"
        },
        "id": "tuiEXvgDy7go",
        "outputId": "09051713-dbe5-49dc-d457-b6b590f4a60d"
      },
      "source": [
        "input_shape = X.shape\n",
        "output_shape = y.shape\n",
        "\n",
        "input_shape, output_shape"
      ],
      "execution_count": 5,
      "outputs": [
        {
          "output_type": "execute_result",
          "data": {
            "text/plain": [
              "((8,), (8,))"
            ]
          },
          "metadata": {
            "tags": []
          },
          "execution_count": 5
        }
      ]
    },
    {
      "cell_type": "code",
      "metadata": {
        "colab": {
          "base_uri": "https://localhost:8080/"
        },
        "id": "RT087ZOSzDdC",
        "outputId": "664d1f09-69c4-4c51-9499-a0a97d04f75f"
      },
      "source": [
        "# trun numpyt array tensors\n",
        "X=tf.constant(X)\n",
        "y=tf.constant(y)\n",
        "X,y"
      ],
      "execution_count": 6,
      "outputs": [
        {
          "output_type": "execute_result",
          "data": {
            "text/plain": [
              "(<tf.Tensor: shape=(8,), dtype=float64, numpy=array([-7., -4., -1.,  2.,  5.,  8., 11., 14.])>,\n",
              " <tf.Tensor: shape=(8,), dtype=float64, numpy=array([ 3.,  6.,  9., 12., 15., 18., 21., 24.])>)"
            ]
          },
          "metadata": {
            "tags": []
          },
          "execution_count": 6
        }
      ]
    },
    {
      "cell_type": "code",
      "metadata": {
        "colab": {
          "base_uri": "https://localhost:8080/",
          "height": 286
        },
        "id": "cLnreoJu0HLc",
        "outputId": "29adc13a-2cb0-4f32-e8bb-b9b94ee1d8ca"
      },
      "source": [
        "plt.scatter(X,y)"
      ],
      "execution_count": 7,
      "outputs": [
        {
          "output_type": "execute_result",
          "data": {
            "text/plain": [
              "<matplotlib.collections.PathCollection at 0x7f8ecee78390>"
            ]
          },
          "metadata": {
            "tags": []
          },
          "execution_count": 7
        },
        {
          "output_type": "display_data",
          "data": {
            "image/png": "[encoded data removed]",
            "text/plain": [
              "<Figure size 432x288 with 1 Axes>"
            ]
          },
          "metadata": {
            "tags": [],
            "needs_background": "light"
          }
        }
      ]
    },
    {
      "cell_type": "markdown",
      "metadata": {
        "id": "G4CUyTUr0J6D"
      },
      "source": [
        "#Steps in modelling with Tensor flow"
      ]
    },
    {
      "cell_type": "code",
      "metadata": {
        "colab": {
          "base_uri": "https://localhost:8080/"
        },
        "id": "XDgyj_1I0OAt",
        "outputId": "43d8a431-987e-4a4e-cb89-3713750e1c63"
      },
      "source": [
        "#set random seed\n",
        "tf.random.set_seed(42)\n",
        "\n",
        "# Create a model using the Sequential\n",
        "model = tf.keras.Sequential([\n",
        "                             tf.keras.layers.Dense(1)\n",
        "                             ])\n",
        "\n",
        "# Compile the model\n",
        "\n",
        "model.compile(loss=tf.keras.losses.mae,\n",
        "              optimizer=tf.keras.optimizers.SGD(),\n",
        "              metrics=['mae']\n",
        "              )\n",
        "\n",
        "#fit the model\n",
        "model.fit(X,y,epochs=5)\n"
      ],
      "execution_count": 8,
      "outputs": [
        {
          "output_type": "stream",
          "text": [
            "Epoch 1/5\n",
            "1/1 [==============================] - 0s 488ms/step - loss: 11.5048 - mae: 11.5048\n",
            "Epoch 2/5\n",
            "1/1 [==============================] - 0s 5ms/step - loss: 11.3723 - mae: 11.3723\n",
            "Epoch 3/5\n",
            "1/1 [==============================] - 0s 4ms/step - loss: 11.2398 - mae: 11.2398\n",
            "Epoch 4/5\n",
            "1/1 [==============================] - 0s 3ms/step - loss: 11.1073 - mae: 11.1073\n",
            "Epoch 5/5\n",
            "1/1 [==============================] - 0s 2ms/step - loss: 10.9748 - mae: 10.9748\n"
          ],
          "name": "stdout"
        },
        {
          "output_type": "execute_result",
          "data": {
            "text/plain": [
              "<tensorflow.python.keras.callbacks.History at 0x7f8ecb0a3c90>"
            ]
          },
          "metadata": {
            "tags": []
          },
          "execution_count": 8
        }
      ]
    },
    {
      "cell_type": "code",
      "metadata": {
        "colab": {
          "base_uri": "https://localhost:8080/"
        },
        "id": "gKbgUDPg4Mz5",
        "outputId": "f64d4159-62a6-49bc-cb92-babd926f5f2f"
      },
      "source": [
        "model.predict([17.0])"
      ],
      "execution_count": 9,
      "outputs": [
        {
          "output_type": "execute_result",
          "data": {
            "text/plain": [
              "array([[12.716021]], dtype=float32)"
            ]
          },
          "metadata": {
            "tags": []
          },
          "execution_count": 9
        }
      ]
    },
    {
      "cell_type": "markdown",
      "metadata": {
        "id": "0BliqFmp4hRZ"
      },
      "source": [
        "#improving the model"
      ]
    },
    {
      "cell_type": "code",
      "metadata": {
        "colab": {
          "base_uri": "https://localhost:8080/"
        },
        "id": "hFHg5RE6LsAD",
        "outputId": "9232f0ef-5927-445c-f40e-7cdde5027c3f"
      },
      "source": [
        "#lets rebuild out model\n",
        "# 1. Create amodel\n",
        "model_imporve = tf.keras.Sequential([\n",
        "                                     tf.keras.layers.Dense(50,activation=None),\n",
        "                                     tf.keras.layers.Dense(1)\n",
        "                                     ])\n",
        "# 2. Comiple the model\n",
        "model_imporve.compile(loss=tf.keras.losses.mae,\n",
        "                      optimizer=tf.keras.optimizers.Adam(learning_rate=0.01),\n",
        "                      metrics=['mae'])\n",
        "#3. Fit the model\n",
        "model_imporve.fit(X,y,epochs=100)"
      ],
      "execution_count": 10,
      "outputs": [
        {
          "output_type": "stream",
          "text": [
            "Epoch 1/100\n",
            "1/1 [==============================] - 0s 292ms/step - loss: 14.6466 - mae: 14.6466\n",
            "Epoch 2/100\n",
            "1/1 [==============================] - 0s 6ms/step - loss: 13.9532 - mae: 13.9532\n",
            "Epoch 3/100\n",
            "1/1 [==============================] - 0s 6ms/step - loss: 13.2603 - mae: 13.2603\n",
            "Epoch 4/100\n",
            "1/1 [==============================] - 0s 4ms/step - loss: 12.5659 - mae: 12.5659\n",
            "Epoch 5/100\n",
            "1/1 [==============================] - 0s 5ms/step - loss: 11.8675 - mae: 11.8675\n",
            "Epoch 6/100\n",
            "1/1 [==============================] - 0s 5ms/step - loss: 11.1621 - mae: 11.1621\n",
            "Epoch 7/100\n",
            "1/1 [==============================] - 0s 5ms/step - loss: 10.4475 - mae: 10.4475\n",
            "Epoch 8/100\n",
            "1/1 [==============================] - 0s 4ms/step - loss: 9.7214 - mae: 9.7214\n",
            "Epoch 9/100\n",
            "1/1 [==============================] - 0s 3ms/step - loss: 8.9817 - mae: 8.9817\n",
            "Epoch 10/100\n",
            "1/1 [==============================] - 0s 3ms/step - loss: 8.2262 - mae: 8.2262\n",
            "Epoch 11/100\n",
            "1/1 [==============================] - 0s 4ms/step - loss: 7.4526 - mae: 7.4526\n",
            "Epoch 12/100\n",
            "1/1 [==============================] - 0s 3ms/step - loss: 6.6585 - mae: 6.6585\n",
            "Epoch 13/100\n",
            "1/1 [==============================] - 0s 4ms/step - loss: 6.6244 - mae: 6.6244\n",
            "Epoch 14/100\n",
            "1/1 [==============================] - 0s 3ms/step - loss: 6.9777 - mae: 6.9777\n",
            "Epoch 15/100\n",
            "1/1 [==============================] - 0s 6ms/step - loss: 7.2653 - mae: 7.2653\n",
            "Epoch 16/100\n",
            "1/1 [==============================] - 0s 4ms/step - loss: 7.4820 - mae: 7.4820\n",
            "Epoch 17/100\n",
            "1/1 [==============================] - 0s 3ms/step - loss: 7.4879 - mae: 7.4879\n",
            "Epoch 18/100\n",
            "1/1 [==============================] - 0s 8ms/step - loss: 7.3301 - mae: 7.3301\n",
            "Epoch 19/100\n",
            "1/1 [==============================] - 0s 3ms/step - loss: 7.0454 - mae: 7.0454\n",
            "Epoch 20/100\n",
            "1/1 [==============================] - 0s 3ms/step - loss: 6.7251 - mae: 6.7251\n",
            "Epoch 21/100\n",
            "1/1 [==============================] - 0s 5ms/step - loss: 6.4643 - mae: 6.4643\n",
            "Epoch 22/100\n",
            "1/1 [==============================] - 0s 4ms/step - loss: 6.1900 - mae: 6.1900\n",
            "Epoch 23/100\n",
            "1/1 [==============================] - 0s 4ms/step - loss: 5.9246 - mae: 5.9246\n",
            "Epoch 24/100\n",
            "1/1 [==============================] - 0s 4ms/step - loss: 5.8782 - mae: 5.8782\n",
            "Epoch 25/100\n",
            "1/1 [==============================] - 0s 4ms/step - loss: 5.8276 - mae: 5.8276\n",
            "Epoch 26/100\n",
            "1/1 [==============================] - 0s 14ms/step - loss: 5.9724 - mae: 5.9724\n",
            "Epoch 27/100\n",
            "1/1 [==============================] - 0s 3ms/step - loss: 6.0130 - mae: 6.0130\n",
            "Epoch 28/100\n",
            "1/1 [==============================] - 0s 4ms/step - loss: 5.9583 - mae: 5.9583\n",
            "Epoch 29/100\n",
            "1/1 [==============================] - 0s 4ms/step - loss: 5.8190 - mae: 5.8190\n",
            "Epoch 30/100\n",
            "1/1 [==============================] - 0s 4ms/step - loss: 5.6030 - mae: 5.6030\n",
            "Epoch 31/100\n",
            "1/1 [==============================] - 0s 4ms/step - loss: 5.3433 - mae: 5.3433\n",
            "Epoch 32/100\n",
            "1/1 [==============================] - 0s 6ms/step - loss: 5.2352 - mae: 5.2352\n",
            "Epoch 33/100\n",
            "1/1 [==============================] - 0s 4ms/step - loss: 5.1239 - mae: 5.1239\n",
            "Epoch 34/100\n",
            "1/1 [==============================] - 0s 4ms/step - loss: 5.0746 - mae: 5.0746\n",
            "Epoch 35/100\n",
            "1/1 [==============================] - 0s 5ms/step - loss: 5.0523 - mae: 5.0523\n",
            "Epoch 36/100\n",
            "1/1 [==============================] - 0s 4ms/step - loss: 4.9871 - mae: 4.9871\n",
            "Epoch 37/100\n",
            "1/1 [==============================] - 0s 4ms/step - loss: 4.8824 - mae: 4.8824\n",
            "Epoch 38/100\n",
            "1/1 [==============================] - 0s 5ms/step - loss: 4.7409 - mae: 4.7409\n",
            "Epoch 39/100\n",
            "1/1 [==============================] - 0s 4ms/step - loss: 4.5658 - mae: 4.5658\n",
            "Epoch 40/100\n",
            "1/1 [==============================] - 0s 4ms/step - loss: 4.4020 - mae: 4.4020\n",
            "Epoch 41/100\n",
            "1/1 [==============================] - 0s 4ms/step - loss: 4.3009 - mae: 4.3009\n",
            "Epoch 42/100\n",
            "1/1 [==============================] - 0s 4ms/step - loss: 4.1923 - mae: 4.1923\n",
            "Epoch 43/100\n",
            "1/1 [==============================] - 0s 5ms/step - loss: 4.0760 - mae: 4.0760\n",
            "Epoch 44/100\n",
            "1/1 [==============================] - 0s 7ms/step - loss: 4.0086 - mae: 4.0086\n",
            "Epoch 45/100\n",
            "1/1 [==============================] - 0s 7ms/step - loss: 3.8364 - mae: 3.8364\n",
            "Epoch 46/100\n",
            "1/1 [==============================] - 0s 6ms/step - loss: 3.6514 - mae: 3.6514\n",
            "Epoch 47/100\n",
            "1/1 [==============================] - 0s 5ms/step - loss: 3.4858 - mae: 3.4858\n",
            "Epoch 48/100\n",
            "1/1 [==============================] - 0s 3ms/step - loss: 3.3568 - mae: 3.3568\n",
            "Epoch 49/100\n",
            "1/1 [==============================] - 0s 5ms/step - loss: 3.2428 - mae: 3.2428\n",
            "Epoch 50/100\n",
            "1/1 [==============================] - 0s 4ms/step - loss: 3.0760 - mae: 3.0760\n",
            "Epoch 51/100\n",
            "1/1 [==============================] - 0s 4ms/step - loss: 2.8591 - mae: 2.8591\n",
            "Epoch 52/100\n",
            "1/1 [==============================] - 0s 5ms/step - loss: 2.6501 - mae: 2.6501\n",
            "Epoch 53/100\n",
            "1/1 [==============================] - 0s 5ms/step - loss: 2.4760 - mae: 2.4760\n",
            "Epoch 54/100\n",
            "1/1 [==============================] - 0s 4ms/step - loss: 2.3457 - mae: 2.3457\n",
            "Epoch 55/100\n",
            "1/1 [==============================] - 0s 6ms/step - loss: 2.1065 - mae: 2.1065\n",
            "Epoch 56/100\n",
            "1/1 [==============================] - 0s 7ms/step - loss: 1.8523 - mae: 1.8523\n",
            "Epoch 57/100\n",
            "1/1 [==============================] - 0s 4ms/step - loss: 1.7208 - mae: 1.7208\n",
            "Epoch 58/100\n",
            "1/1 [==============================] - 0s 6ms/step - loss: 1.5507 - mae: 1.5507\n",
            "Epoch 59/100\n",
            "1/1 [==============================] - 0s 4ms/step - loss: 1.2700 - mae: 1.2700\n",
            "Epoch 60/100\n",
            "1/1 [==============================] - 0s 6ms/step - loss: 0.9323 - mae: 0.9323\n",
            "Epoch 61/100\n",
            "1/1 [==============================] - 0s 4ms/step - loss: 0.8599 - mae: 0.8599\n",
            "Epoch 62/100\n",
            "1/1 [==============================] - 0s 13ms/step - loss: 0.6865 - mae: 0.6865\n",
            "Epoch 63/100\n",
            "1/1 [==============================] - 0s 4ms/step - loss: 0.3405 - mae: 0.3405\n",
            "Epoch 64/100\n",
            "1/1 [==============================] - 0s 3ms/step - loss: 0.1659 - mae: 0.1659\n",
            "Epoch 65/100\n",
            "1/1 [==============================] - 0s 5ms/step - loss: 0.4224 - mae: 0.4224\n",
            "Epoch 66/100\n",
            "1/1 [==============================] - 0s 4ms/step - loss: 0.4802 - mae: 0.4802\n",
            "Epoch 67/100\n",
            "1/1 [==============================] - 0s 6ms/step - loss: 0.6473 - mae: 0.6473\n",
            "Epoch 68/100\n",
            "1/1 [==============================] - 0s 4ms/step - loss: 0.6601 - mae: 0.6601\n",
            "Epoch 69/100\n",
            "1/1 [==============================] - 0s 6ms/step - loss: 0.7372 - mae: 0.7372\n",
            "Epoch 70/100\n",
            "1/1 [==============================] - 0s 3ms/step - loss: 0.7022 - mae: 0.7022\n",
            "Epoch 71/100\n",
            "1/1 [==============================] - 0s 6ms/step - loss: 0.6318 - mae: 0.6318\n",
            "Epoch 72/100\n",
            "1/1 [==============================] - 0s 3ms/step - loss: 0.6151 - mae: 0.6151\n",
            "Epoch 73/100\n",
            "1/1 [==============================] - 0s 3ms/step - loss: 0.4328 - mae: 0.4328\n",
            "Epoch 74/100\n",
            "1/1 [==============================] - 0s 5ms/step - loss: 0.4277 - mae: 0.4277\n",
            "Epoch 75/100\n",
            "1/1 [==============================] - 0s 3ms/step - loss: 0.3097 - mae: 0.3097\n",
            "Epoch 76/100\n",
            "1/1 [==============================] - 0s 3ms/step - loss: 0.0356 - mae: 0.0356\n",
            "Epoch 77/100\n",
            "1/1 [==============================] - 0s 6ms/step - loss: 0.4880 - mae: 0.4880\n",
            "Epoch 78/100\n",
            "1/1 [==============================] - 0s 3ms/step - loss: 0.6479 - mae: 0.6479\n",
            "Epoch 79/100\n",
            "1/1 [==============================] - 0s 4ms/step - loss: 0.6174 - mae: 0.6174\n",
            "Epoch 80/100\n",
            "1/1 [==============================] - 0s 6ms/step - loss: 0.4529 - mae: 0.4529\n",
            "Epoch 81/100\n",
            "1/1 [==============================] - 0s 4ms/step - loss: 0.6294 - mae: 0.6294\n",
            "Epoch 82/100\n",
            "1/1 [==============================] - 0s 6ms/step - loss: 0.7850 - mae: 0.7850\n",
            "Epoch 83/100\n",
            "1/1 [==============================] - 0s 3ms/step - loss: 0.6653 - mae: 0.6653\n",
            "Epoch 84/100\n",
            "1/1 [==============================] - 0s 4ms/step - loss: 0.3935 - mae: 0.3935\n",
            "Epoch 85/100\n",
            "1/1 [==============================] - 0s 6ms/step - loss: 0.5590 - mae: 0.5590\n",
            "Epoch 86/100\n",
            "1/1 [==============================] - 0s 3ms/step - loss: 0.6263 - mae: 0.6263\n",
            "Epoch 87/100\n",
            "1/1 [==============================] - 0s 3ms/step - loss: 0.5316 - mae: 0.5316\n",
            "Epoch 88/100\n",
            "1/1 [==============================] - 0s 6ms/step - loss: 0.2161 - mae: 0.2161\n",
            "Epoch 89/100\n",
            "1/1 [==============================] - 0s 4ms/step - loss: 0.3441 - mae: 0.3441\n",
            "Epoch 90/100\n",
            "1/1 [==============================] - 0s 3ms/step - loss: 0.5325 - mae: 0.5325\n",
            "Epoch 91/100\n",
            "1/1 [==============================] - 0s 6ms/step - loss: 0.4389 - mae: 0.4389\n",
            "Epoch 92/100\n",
            "1/1 [==============================] - 0s 3ms/step - loss: 0.2560 - mae: 0.2560\n",
            "Epoch 93/100\n",
            "1/1 [==============================] - 0s 7ms/step - loss: 0.5795 - mae: 0.5795\n",
            "Epoch 94/100\n",
            "1/1 [==============================] - 0s 3ms/step - loss: 0.7585 - mae: 0.7585\n",
            "Epoch 95/100\n",
            "1/1 [==============================] - 0s 4ms/step - loss: 0.6773 - mae: 0.6773\n",
            "Epoch 96/100\n",
            "1/1 [==============================] - 0s 7ms/step - loss: 0.3691 - mae: 0.3691\n",
            "Epoch 97/100\n",
            "1/1 [==============================] - 0s 4ms/step - loss: 0.3135 - mae: 0.3135\n",
            "Epoch 98/100\n",
            "1/1 [==============================] - 0s 4ms/step - loss: 0.5528 - mae: 0.5528\n",
            "Epoch 99/100\n",
            "1/1 [==============================] - 0s 5ms/step - loss: 0.5451 - mae: 0.5451\n",
            "Epoch 100/100\n",
            "1/1 [==============================] - 0s 5ms/step - loss: 0.2902 - mae: 0.2902\n"
          ],
          "name": "stdout"
        },
        {
          "output_type": "execute_result",
          "data": {
            "text/plain": [
              "<tensorflow.python.keras.callbacks.History at 0x7f8ec8e1acd0>"
            ]
          },
          "metadata": {
            "tags": []
          },
          "execution_count": 10
        }
      ]
    },
    {
      "cell_type": "code",
      "metadata": {
        "colab": {
          "base_uri": "https://localhost:8080/"
        },
        "id": "NpS7eG91Oub-",
        "outputId": "a5c26448-cd6c-4b64-c7ec-ec274d12dc65"
      },
      "source": [
        "model_imporve.predict([17.0])"
      ],
      "execution_count": 11,
      "outputs": [
        {
          "output_type": "execute_result",
          "data": {
            "text/plain": [
              "array([[26.434412]], dtype=float32)"
            ]
          },
          "metadata": {
            "tags": []
          },
          "execution_count": 11
        }
      ]
    },
    {
      "cell_type": "markdown",
      "metadata": {
        "id": "mbEcRU3iegjg"
      },
      "source": [
        "Evaluating a model"
      ]
    },
    {
      "cell_type": "markdown",
      "metadata": {
        "id": "DK-weJyCekqK"
      },
      "source": [
        "1. Creating more data "
      ]
    },
    {
      "cell_type": "code",
      "metadata": {
        "colab": {
          "base_uri": "https://localhost:8080/"
        },
        "id": "sXp3uO9lerzA",
        "outputId": "4188e4a6-f277-4f0c-a59f-7267b45d569f"
      },
      "source": [
        "X = tf.range(-100,100,4)\n",
        "X"
      ],
      "execution_count": 12,
      "outputs": [
        {
          "output_type": "execute_result",
          "data": {
            "text/plain": [
              "<tf.Tensor: shape=(50,), dtype=int32, numpy=\n",
              "array([-100,  -96,  -92,  -88,  -84,  -80,  -76,  -72,  -68,  -64,  -60,\n",
              "        -56,  -52,  -48,  -44,  -40,  -36,  -32,  -28,  -24,  -20,  -16,\n",
              "        -12,   -8,   -4,    0,    4,    8,   12,   16,   20,   24,   28,\n",
              "         32,   36,   40,   44,   48,   52,   56,   60,   64,   68,   72,\n",
              "         76,   80,   84,   88,   92,   96], dtype=int32)>"
            ]
          },
          "metadata": {
            "tags": []
          },
          "execution_count": 12
        }
      ]
    },
    {
      "cell_type": "code",
      "metadata": {
        "colab": {
          "base_uri": "https://localhost:8080/"
        },
        "id": "KX-3-hAMe0uE",
        "outputId": "22016a75-c59b-40e5-9773-8788b22323ef"
      },
      "source": [
        "y = X + 10\n",
        "y"
      ],
      "execution_count": 13,
      "outputs": [
        {
          "output_type": "execute_result",
          "data": {
            "text/plain": [
              "<tf.Tensor: shape=(50,), dtype=int32, numpy=\n",
              "array([-90, -86, -82, -78, -74, -70, -66, -62, -58, -54, -50, -46, -42,\n",
              "       -38, -34, -30, -26, -22, -18, -14, -10,  -6,  -2,   2,   6,  10,\n",
              "        14,  18,  22,  26,  30,  34,  38,  42,  46,  50,  54,  58,  62,\n",
              "        66,  70,  74,  78,  82,  86,  90,  94,  98, 102, 106], dtype=int32)>"
            ]
          },
          "metadata": {
            "tags": []
          },
          "execution_count": 13
        }
      ]
    },
    {
      "cell_type": "code",
      "metadata": {
        "colab": {
          "base_uri": "https://localhost:8080/",
          "height": 281
        },
        "id": "BRFB2KPee5as",
        "outputId": "9f3e82af-0ee5-4f2a-9f52-36be2cf15786"
      },
      "source": [
        "# visualize the data \n",
        "import matplotlib.pyplot as plt\n",
        "plt.scatter(X,y)"
      ],
      "execution_count": 14,
      "outputs": [
        {
          "output_type": "execute_result",
          "data": {
            "text/plain": [
              "<matplotlib.collections.PathCollection at 0x7f8ec7838890>"
            ]
          },
          "metadata": {
            "tags": []
          },
          "execution_count": 14
        },
        {
          "output_type": "display_data",
          "data": {
            "image/png": "[encoded data removed]",
            "text/plain": [
              "<Figure size 432x288 with 1 Axes>"
            ]
          },
          "metadata": {
            "tags": [],
            "needs_background": "light"
          }
        }
      ]
    },
    {
      "cell_type": "markdown",
      "metadata": {
        "id": "EBNxopQ_idZq"
      },
      "source": [
        "#split the data in Training and  Testing format.\n",
        "* Training data is usually 80% of data\n",
        "* Testing data is usually 20% of data for testing the model \n"
      ]
    },
    {
      "cell_type": "code",
      "metadata": {
        "id": "4Ve2-nA7i06X"
      },
      "source": [
        "X_train = X[:40]\n",
        "X_test = X[40:]\n",
        "\n",
        "y_train =y[:40]\n",
        "y_test =y[40:]\n"
      ],
      "execution_count": 15,
      "outputs": []
    },
    {
      "cell_type": "code",
      "metadata": {
        "colab": {
          "base_uri": "https://localhost:8080/",
          "height": 445
        },
        "id": "IU9UcGlQjIfR",
        "outputId": "ec112b51-eef7-4e14-a74a-7a5c6a3db199"
      },
      "source": [
        "#visualize the training and test data\n",
        "\n",
        "plt.figure(figsize=(10,7))\n",
        "plt.scatter(X_train,y_train,c=\"b\", label=\"Training Data\")\n",
        "plt.scatter(X_test,y_test,c=\"g\", label =\" Testing Data\")\n",
        "plt.legend()"
      ],
      "execution_count": 16,
      "outputs": [
        {
          "output_type": "execute_result",
          "data": {
            "text/plain": [
              "<matplotlib.legend.Legend at 0x7f8ec6fa0e50>"
            ]
          },
          "metadata": {
            "tags": []
          },
          "execution_count": 16
        },
        {
          "output_type": "display_data",
          "data": {
            "image/png": "[encoded data removed]",
            "text/plain": [
              "<Figure size 720x504 with 1 Axes>"
            ]
          },
          "metadata": {
            "tags": [],
            "needs_background": "light"
          }
        }
      ]
    },
    {
      "cell_type": "code",
      "metadata": {
        "colab": {
          "base_uri": "https://localhost:8080/"
        },
        "id": "Wwd2_0hFkCYr",
        "outputId": "24aacbf1-c7c7-4fc4-8a29-ad44299ca37d"
      },
      "source": [
        "# 1. Create a model\n",
        "\n",
        "model_huge = tf.keras.Sequential([\n",
        "                                  tf.keras.layers.Dense(10,name=\"input_layer\"),\n",
        "                                  tf.keras.layers.Dense(1,name=\"output_layer\"),\n",
        "                                \n",
        "],name=\"huge_model\")\n",
        "\n",
        "#2. Compile the model\n",
        "model_huge.compile(loss=tf.keras.losses.mae,\n",
        "                   optimizer = tf.keras.optimizers.Adam(learning_rate=0.01),\n",
        "                   metrics=[\"mae\"]\n",
        ")\n",
        "\n",
        "#3. Fit the model\n",
        "\n",
        "model_huge.fit(X_train,y_train, epochs =100, verbose=0)\n",
        "model_huge.summary()"
      ],
      "execution_count": 17,
      "outputs": [
        {
          "output_type": "stream",
          "text": [
            "Model: \"huge_model\"\n",
            "_________________________________________________________________\n",
            "Layer (type)                 Output Shape              Param #   \n",
            "=================================================================\n",
            "input_layer (Dense)          (None, 10)                20        \n",
            "_________________________________________________________________\n",
            "output_layer (Dense)         (None, 1)                 11        \n",
            "=================================================================\n",
            "Total params: 31\n",
            "Trainable params: 31\n",
            "Non-trainable params: 0\n",
            "_________________________________________________________________\n"
          ],
          "name": "stdout"
        }
      ]
    },
    {
      "cell_type": "code",
      "metadata": {
        "colab": {
          "base_uri": "https://localhost:8080/",
          "height": 312
        },
        "id": "TtC7PU88cq0x",
        "outputId": "5561e2ac-c0fb-4b47-9cee-3199cf123d12"
      },
      "source": [
        "from tensorflow.keras.utils import plot_model\n",
        "plot_model(model=model_huge, show_shapes=True)"
      ],
      "execution_count": 18,
      "outputs": [
        {
          "output_type": "execute_result",
          "data": {
            "image/png": "[encoded data removed]",
            "text/plain": [
              "<IPython.core.display.Image object>"
            ]
          },
          "metadata": {
            "tags": []
          },
          "execution_count": 18
        }
      ]
    },
    {
      "cell_type": "markdown",
      "metadata": {
        "id": "4HnXHZ51Wbbf"
      },
      "source": [
        "## Visualizing our models predictions"
      ]
    },
    {
      "cell_type": "code",
      "metadata": {
        "colab": {
          "base_uri": "https://localhost:8080/"
        },
        "id": "MFnMvPz5Wvqm",
        "outputId": "5d3b5ce3-caae-463f-f165-499696045ffb"
      },
      "source": [
        "y_pred = model_huge.predict(X_test)\n",
        "y_pred"
      ],
      "execution_count": 19,
      "outputs": [
        {
          "output_type": "execute_result",
          "data": {
            "text/plain": [
              "array([[ 69.868454],\n",
              "       [ 73.85556 ],\n",
              "       [ 77.84266 ],\n",
              "       [ 81.82976 ],\n",
              "       [ 85.816864],\n",
              "       [ 89.80397 ],\n",
              "       [ 93.79108 ],\n",
              "       [ 97.778175],\n",
              "       [101.76528 ],\n",
              "       [105.75239 ]], dtype=float32)"
            ]
          },
          "metadata": {
            "tags": []
          },
          "execution_count": 19
        }
      ]
    },
    {
      "cell_type": "code",
      "metadata": {
        "colab": {
          "base_uri": "https://localhost:8080/"
        },
        "id": "Dqxu54_TXHEP",
        "outputId": "e869557a-754a-461d-ad34-e0c8a2046b87"
      },
      "source": [
        "y_test"
      ],
      "execution_count": 20,
      "outputs": [
        {
          "output_type": "execute_result",
          "data": {
            "text/plain": [
              "<tf.Tensor: shape=(10,), dtype=int32, numpy=array([ 70,  74,  78,  82,  86,  90,  94,  98, 102, 106], dtype=int32)>"
            ]
          },
          "metadata": {
            "tags": []
          },
          "execution_count": 20
        }
      ]
    },
    {
      "cell_type": "code",
      "metadata": {
        "id": "5YE3Cv4jXJKg"
      },
      "source": [
        "# Lets create a plotting function\n",
        "def plot_predictions(train_data = X_train,\n",
        "                     train_labels = y_train,\n",
        "                     test_data = X_test,\n",
        "                     test_labels = y_test,\n",
        "                     predictions = y_pred):\n",
        "  plt.figure(figsize=(10,7))\n",
        "  plt.scatter(train_data,train_labels,c=\"b\", label=\"Training Data\")\n",
        "  plt.scatter(test_data,test_labels,c=\"g\", label=\"Testing Data\")\n",
        "  plt.scatter(test_data,predictions,c=\"r\", label=\"Predictions\")\n",
        "  plt.legend();\n",
        "\n"
      ],
      "execution_count": 21,
      "outputs": []
    },
    {
      "cell_type": "code",
      "metadata": {
        "colab": {
          "base_uri": "https://localhost:8080/",
          "height": 428
        },
        "id": "BlmdTtSDYv_m",
        "outputId": "70ea9a6a-b8eb-4e82-940c-9dbb4c34c058"
      },
      "source": [
        "plot_predictions(train_data = X_train,\n",
        "                     train_labels = y_train,\n",
        "                     test_data = X_test,\n",
        "                     test_labels = y_test,\n",
        "                     predictions = y_pred)"
      ],
      "execution_count": 22,
      "outputs": [
        {
          "output_type": "display_data",
          "data": {
            "image/png": "[encoded data removed]",
            "text/plain": [
              "<Figure size 720x504 with 1 Axes>"
            ]
          },
          "metadata": {
            "tags": [],
            "needs_background": "light"
          }
        }
      ]
    },
    {
      "cell_type": "markdown",
      "metadata": {
        "id": "5yHQ0NEwa1nt"
      },
      "source": [
        "## Evaluating our models prediction with regression evaluation metrics"
      ]
    },
    {
      "cell_type": "code",
      "metadata": {
        "colab": {
          "base_uri": "https://localhost:8080/"
        },
        "id": "c8NwoFhobM2m",
        "outputId": "f9315702-ea02-4c49-ca99-5ec259d37db0"
      },
      "source": [
        "model_huge.evaluate(X_test,y_test)"
      ],
      "execution_count": 23,
      "outputs": [
        {
          "output_type": "stream",
          "text": [
            "1/1 [==============================] - 0s 100ms/step - loss: 0.1896 - mae: 0.1896\n"
          ],
          "name": "stdout"
        },
        {
          "output_type": "execute_result",
          "data": {
            "text/plain": [
              "[0.18958434462547302, 0.18958434462547302]"
            ]
          },
          "metadata": {
            "tags": []
          },
          "execution_count": 23
        }
      ]
    },
    {
      "cell_type": "code",
      "metadata": {
        "id": "TTnCyHDjnluC"
      },
      "source": [
        "#Convert the y_pred to tensor\n",
        "\n",
        "y_test, y_pred\n",
        "\n",
        "y_pred=tf.squeeze(tf.constant(y_pred))"
      ],
      "execution_count": 24,
      "outputs": []
    },
    {
      "cell_type": "code",
      "metadata": {
        "colab": {
          "base_uri": "https://localhost:8080/"
        },
        "id": "eUoHRQqC-H_X",
        "outputId": "b7809edb-34f2-4702-dc5c-28df34b4a90d"
      },
      "source": [
        "mae = tf.metrics.mean_absolute_error(y_true=y_test,y_pred=y_pred)\n",
        "mae"
      ],
      "execution_count": 25,
      "outputs": [
        {
          "output_type": "execute_result",
          "data": {
            "text/plain": [
              "<tf.Tensor: shape=(), dtype=float32, numpy=0.1895813>"
            ]
          },
          "metadata": {
            "tags": []
          },
          "execution_count": 25
        }
      ]
    },
    {
      "cell_type": "code",
      "metadata": {
        "colab": {
          "base_uri": "https://localhost:8080/"
        },
        "id": "JQMGYNhU-a4R",
        "outputId": "5627dfc5-2e18-489c-b55c-2beee609c777"
      },
      "source": [
        "mse = tf.metrics.mean_squared_error(y_true=y_test, y_pred=y_pred)\n",
        "mse"
      ],
      "execution_count": 26,
      "outputs": [
        {
          "output_type": "execute_result",
          "data": {
            "text/plain": [
              "<tf.Tensor: shape=(), dtype=float32, numpy=0.037313174>"
            ]
          },
          "metadata": {
            "tags": []
          },
          "execution_count": 26
        }
      ]
    },
    {
      "cell_type": "markdown",
      "metadata": {
        "id": "PRoXxGYR_EYG"
      },
      "source": [
        "#lets make function for mae and mse"
      ]
    },
    {
      "cell_type": "code",
      "metadata": {
        "id": "uQFXiA13_H3V"
      },
      "source": [
        "def mae(y_true, y_pred):\n",
        "  return tf.metrics.mean_absolute_error(y_true=y_true, \n",
        "                                        y_pred=y_pred)\n",
        "def mse(y_true, y_pred):\n",
        "  return tf.metrics.mean_squared_error(y_true=y_true, y_pred=y_pred)\n",
        "  "
      ],
      "execution_count": 27,
      "outputs": []
    },
    {
      "cell_type": "code",
      "metadata": {
        "colab": {
          "base_uri": "https://localhost:8080/"
        },
        "id": "UKYrU8neYNCc",
        "outputId": "b1f50f82-1aea-4829-efeb-8a5b2d2c7328"
      },
      "source": [
        "# Create a new improvement model with more epochs\n",
        "#1.Create model\n",
        "model_im_1 = tf.keras.Sequential([\n",
        "                                  tf.keras.layers.Dense(50),\n",
        "                                  tf.keras.layers.Dense(1)\n",
        "],name=\"model_improvement_1\")\n",
        "\n",
        "model_im_1.compile(loss=tf.keras.losses.mae,\n",
        "                   optimizer = tf.keras.optimizers.SGD(),\n",
        "                   metrics=[\"mse\"])\n",
        "model_im_1.fit(X_train,y_train, epochs=100)\n",
        "model_im_1.summary()"
      ],
      "execution_count": 28,
      "outputs": [
        {
          "output_type": "stream",
          "text": [
            "Epoch 1/100\n",
            "2/2 [==============================] - 0s 5ms/step - loss: 38.5823 - mse: 2061.5188\n",
            "Epoch 2/100\n",
            "2/2 [==============================] - 0s 3ms/step - loss: 30.0540 - mse: 1181.2529\n",
            "Epoch 3/100\n",
            "2/2 [==============================] - 0s 4ms/step - loss: 34.5847 - mse: 1817.3695\n",
            "Epoch 4/100\n",
            "2/2 [==============================] - 0s 3ms/step - loss: 30.0421 - mse: 1336.4307\n",
            "Epoch 5/100\n",
            "2/2 [==============================] - 0s 5ms/step - loss: 15.3319 - mse: 299.9452\n",
            "Epoch 6/100\n",
            "2/2 [==============================] - 0s 5ms/step - loss: 12.1783 - mse: 183.1089\n",
            "Epoch 7/100\n",
            "2/2 [==============================] - 0s 4ms/step - loss: 11.4819 - mse: 160.4214\n",
            "Epoch 8/100\n",
            "2/2 [==============================] - 0s 4ms/step - loss: 11.2175 - mse: 175.3141\n",
            "Epoch 9/100\n",
            "2/2 [==============================] - 0s 3ms/step - loss: 41.8776 - mse: 2796.3372\n",
            "Epoch 10/100\n",
            "2/2 [==============================] - 0s 2ms/step - loss: 29.0908 - mse: 1196.5226\n",
            "Epoch 11/100\n",
            "2/2 [==============================] - 0s 4ms/step - loss: 8.5590 - mse: 96.3929\n",
            "Epoch 12/100\n",
            "2/2 [==============================] - 0s 3ms/step - loss: 27.4058 - mse: 1032.7471\n",
            "Epoch 13/100\n",
            "2/2 [==============================] - 0s 5ms/step - loss: 12.1490 - mse: 176.7777\n",
            "Epoch 14/100\n",
            "2/2 [==============================] - 0s 5ms/step - loss: 35.0362 - mse: 2020.7500\n",
            "Epoch 15/100\n",
            "2/2 [==============================] - 0s 4ms/step - loss: 22.8252 - mse: 741.0702\n",
            "Epoch 16/100\n",
            "2/2 [==============================] - 0s 4ms/step - loss: 9.9804 - mse: 124.8466\n",
            "Epoch 17/100\n",
            "2/2 [==============================] - 0s 2ms/step - loss: 18.4021 - mse: 451.7806\n",
            "Epoch 18/100\n",
            "2/2 [==============================] - 0s 3ms/step - loss: 11.2963 - mse: 195.0274\n",
            "Epoch 19/100\n",
            "2/2 [==============================] - 0s 3ms/step - loss: 13.8328 - mse: 297.1926\n",
            "Epoch 20/100\n",
            "2/2 [==============================] - 0s 3ms/step - loss: 11.1499 - mse: 145.8904\n",
            "Epoch 21/100\n",
            "2/2 [==============================] - 0s 16ms/step - loss: 17.1443 - mse: 415.1303\n",
            "Epoch 22/100\n",
            "2/2 [==============================] - 0s 15ms/step - loss: 15.3828 - mse: 325.4500\n",
            "Epoch 23/100\n",
            "2/2 [==============================] - 0s 10ms/step - loss: 9.2463 - mse: 118.5424\n",
            "Epoch 24/100\n",
            "2/2 [==============================] - 0s 8ms/step - loss: 17.3148 - mse: 411.5364\n",
            "Epoch 25/100\n",
            "2/2 [==============================] - 0s 5ms/step - loss: 15.9730 - mse: 335.6400\n",
            "Epoch 26/100\n",
            "2/2 [==============================] - 0s 2ms/step - loss: 21.0137 - mse: 653.3446\n",
            "Epoch 27/100\n",
            "2/2 [==============================] - 0s 6ms/step - loss: 25.7774 - mse: 1034.9442\n",
            "Epoch 28/100\n",
            "2/2 [==============================] - 0s 6ms/step - loss: 18.2996 - mse: 529.6815\n",
            "Epoch 29/100\n",
            "2/2 [==============================] - 0s 7ms/step - loss: 9.2350 - mse: 98.4629\n",
            "Epoch 30/100\n",
            "2/2 [==============================] - 0s 8ms/step - loss: 28.9058 - mse: 1487.7366\n",
            "Epoch 31/100\n",
            "2/2 [==============================] - 0s 6ms/step - loss: 52.3335 - mse: 4894.1245\n",
            "Epoch 32/100\n",
            "2/2 [==============================] - 0s 5ms/step - loss: 11.8522 - mse: 202.2743\n",
            "Epoch 33/100\n",
            "2/2 [==============================] - 0s 5ms/step - loss: 15.3991 - mse: 326.3807\n",
            "Epoch 34/100\n",
            "2/2 [==============================] - 0s 3ms/step - loss: 12.5264 - mse: 205.4082\n",
            "Epoch 35/100\n",
            "2/2 [==============================] - 0s 4ms/step - loss: 9.1632 - mse: 90.6474\n",
            "Epoch 36/100\n",
            "2/2 [==============================] - 0s 5ms/step - loss: 16.3594 - mse: 388.5118\n",
            "Epoch 37/100\n",
            "2/2 [==============================] - 0s 3ms/step - loss: 11.1139 - mse: 192.0904\n",
            "Epoch 38/100\n",
            "2/2 [==============================] - 0s 4ms/step - loss: 18.2465 - mse: 439.4378\n",
            "Epoch 39/100\n",
            "2/2 [==============================] - 0s 7ms/step - loss: 19.1744 - mse: 536.6580\n",
            "Epoch 40/100\n",
            "2/2 [==============================] - 0s 11ms/step - loss: 20.5664 - mse: 617.6783\n",
            "Epoch 41/100\n",
            "2/2 [==============================] - 0s 3ms/step - loss: 14.7351 - mse: 270.7925\n",
            "Epoch 42/100\n",
            "2/2 [==============================] - 0s 7ms/step - loss: 12.1485 - mse: 179.2370\n",
            "Epoch 43/100\n",
            "2/2 [==============================] - 0s 3ms/step - loss: 10.6696 - mse: 160.5603\n",
            "Epoch 44/100\n",
            "2/2 [==============================] - 0s 5ms/step - loss: 32.1058 - mse: 1693.6031\n",
            "Epoch 45/100\n",
            "2/2 [==============================] - 0s 4ms/step - loss: 12.4189 - mse: 198.8683\n",
            "Epoch 46/100\n",
            "2/2 [==============================] - 0s 3ms/step - loss: 17.3906 - mse: 452.9273\n",
            "Epoch 47/100\n",
            "2/2 [==============================] - 0s 3ms/step - loss: 15.7990 - mse: 340.9338\n",
            "Epoch 48/100\n",
            "2/2 [==============================] - 0s 8ms/step - loss: 8.3992 - mse: 112.8466\n",
            "Epoch 49/100\n",
            "2/2 [==============================] - 0s 4ms/step - loss: 14.2539 - mse: 284.3045\n",
            "Epoch 50/100\n",
            "2/2 [==============================] - 0s 5ms/step - loss: 15.1856 - mse: 309.6557\n",
            "Epoch 51/100\n",
            "2/2 [==============================] - 0s 3ms/step - loss: 13.6962 - mse: 257.1215\n",
            "Epoch 52/100\n",
            "2/2 [==============================] - 0s 3ms/step - loss: 18.1097 - mse: 462.9853\n",
            "Epoch 53/100\n",
            "2/2 [==============================] - 0s 5ms/step - loss: 22.7778 - mse: 749.5880\n",
            "Epoch 54/100\n",
            "2/2 [==============================] - 0s 4ms/step - loss: 26.7840 - mse: 1104.3385\n",
            "Epoch 55/100\n",
            "2/2 [==============================] - 0s 3ms/step - loss: 26.4149 - mse: 1060.7009\n",
            "Epoch 56/100\n",
            "2/2 [==============================] - 0s 3ms/step - loss: 11.3480 - mse: 171.8195\n",
            "Epoch 57/100\n",
            "2/2 [==============================] - 0s 3ms/step - loss: 13.3695 - mse: 225.7541\n",
            "Epoch 58/100\n",
            "2/2 [==============================] - 0s 3ms/step - loss: 9.9529 - mse: 109.6210\n",
            "Epoch 59/100\n",
            "2/2 [==============================] - 0s 3ms/step - loss: 13.9264 - mse: 276.2485\n",
            "Epoch 60/100\n",
            "2/2 [==============================] - 0s 8ms/step - loss: 9.9953 - mse: 118.8247\n",
            "Epoch 61/100\n",
            "2/2 [==============================] - 0s 3ms/step - loss: 14.9828 - mse: 308.6936\n",
            "Epoch 62/100\n",
            "2/2 [==============================] - 0s 3ms/step - loss: 11.9323 - mse: 197.0167\n",
            "Epoch 63/100\n",
            "2/2 [==============================] - 0s 3ms/step - loss: 10.2905 - mse: 135.2395\n",
            "Epoch 64/100\n",
            "2/2 [==============================] - 0s 3ms/step - loss: 23.9071 - mse: 840.0677\n",
            "Epoch 65/100\n",
            "2/2 [==============================] - 0s 4ms/step - loss: 10.4672 - mse: 130.4158\n",
            "Epoch 66/100\n",
            "2/2 [==============================] - 0s 3ms/step - loss: 20.9506 - mse: 645.6801\n",
            "Epoch 67/100\n",
            "2/2 [==============================] - 0s 5ms/step - loss: 10.4465 - mse: 126.4661\n",
            "Epoch 68/100\n",
            "2/2 [==============================] - 0s 8ms/step - loss: 14.1889 - mse: 303.1395\n",
            "Epoch 69/100\n",
            "2/2 [==============================] - 0s 7ms/step - loss: 10.5190 - mse: 126.1667\n",
            "Epoch 70/100\n",
            "2/2 [==============================] - 0s 3ms/step - loss: 12.5910 - mse: 201.1250\n",
            "Epoch 71/100\n",
            "2/2 [==============================] - 0s 18ms/step - loss: 13.0209 - mse: 226.3963\n",
            "Epoch 72/100\n",
            "2/2 [==============================] - 0s 3ms/step - loss: 19.3776 - mse: 532.8229\n",
            "Epoch 73/100\n",
            "2/2 [==============================] - 0s 5ms/step - loss: 11.1322 - mse: 193.1182\n",
            "Epoch 74/100\n",
            "2/2 [==============================] - 0s 8ms/step - loss: 21.6177 - mse: 726.6817\n",
            "Epoch 75/100\n",
            "2/2 [==============================] - 0s 5ms/step - loss: 7.2258 - mse: 71.5725\n",
            "Epoch 76/100\n",
            "2/2 [==============================] - 0s 3ms/step - loss: 9.4556 - mse: 149.0653\n",
            "Epoch 77/100\n",
            "2/2 [==============================] - 0s 2ms/step - loss: 22.1666 - mse: 733.4213\n",
            "Epoch 78/100\n",
            "2/2 [==============================] - 0s 3ms/step - loss: 17.4724 - mse: 464.0970\n",
            "Epoch 79/100\n",
            "2/2 [==============================] - 0s 3ms/step - loss: 14.7106 - mse: 316.6112\n",
            "Epoch 80/100\n",
            "2/2 [==============================] - 0s 4ms/step - loss: 24.7260 - mse: 935.4324\n",
            "Epoch 81/100\n",
            "2/2 [==============================] - 0s 6ms/step - loss: 11.5585 - mse: 165.4418\n",
            "Epoch 82/100\n",
            "2/2 [==============================] - 0s 3ms/step - loss: 12.3906 - mse: 226.0186\n",
            "Epoch 83/100\n",
            "2/2 [==============================] - 0s 4ms/step - loss: 17.0418 - mse: 377.6872\n",
            "Epoch 84/100\n",
            "2/2 [==============================] - 0s 4ms/step - loss: 7.2483 - mse: 75.3861\n",
            "Epoch 85/100\n",
            "2/2 [==============================] - 0s 5ms/step - loss: 37.3975 - mse: 2252.2263\n",
            "Epoch 86/100\n",
            "2/2 [==============================] - 0s 4ms/step - loss: 21.3566 - mse: 655.0575\n",
            "Epoch 87/100\n",
            "2/2 [==============================] - 0s 9ms/step - loss: 11.0725 - mse: 148.6847\n",
            "Epoch 88/100\n",
            "2/2 [==============================] - 0s 6ms/step - loss: 25.2307 - mse: 906.1785\n",
            "Epoch 89/100\n",
            "2/2 [==============================] - 0s 4ms/step - loss: 9.3982 - mse: 136.1499\n",
            "Epoch 90/100\n",
            "2/2 [==============================] - 0s 4ms/step - loss: 17.4842 - mse: 438.7144\n",
            "Epoch 91/100\n",
            "2/2 [==============================] - 0s 4ms/step - loss: 10.8471 - mse: 160.6373\n",
            "Epoch 92/100\n",
            "2/2 [==============================] - 0s 4ms/step - loss: 19.1721 - mse: 506.8831\n",
            "Epoch 93/100\n",
            "2/2 [==============================] - 0s 6ms/step - loss: 8.3552 - mse: 102.2547\n",
            "Epoch 94/100\n",
            "2/2 [==============================] - 0s 5ms/step - loss: 11.6004 - mse: 180.6667\n",
            "Epoch 95/100\n",
            "2/2 [==============================] - 0s 3ms/step - loss: 26.2157 - mse: 1043.7411\n",
            "Epoch 96/100\n",
            "2/2 [==============================] - 0s 8ms/step - loss: 11.2290 - mse: 170.0418\n",
            "Epoch 97/100\n",
            "2/2 [==============================] - 0s 7ms/step - loss: 16.8560 - mse: 433.7589\n",
            "Epoch 98/100\n",
            "2/2 [==============================] - 0s 10ms/step - loss: 6.6026 - mse: 60.8060\n",
            "Epoch 99/100\n",
            "2/2 [==============================] - 0s 8ms/step - loss: 12.5974 - mse: 229.6364\n",
            "Epoch 100/100\n",
            "2/2 [==============================] - 0s 4ms/step - loss: 19.3961 - mse: 552.4317\n",
            "Model: \"model_improvement_1\"\n",
            "_________________________________________________________________\n",
            "Layer (type)                 Output Shape              Param #   \n",
            "=================================================================\n",
            "dense_3 (Dense)              (None, 50)                100       \n",
            "_________________________________________________________________\n",
            "dense_4 (Dense)              (None, 1)                 51        \n",
            "=================================================================\n",
            "Total params: 151\n",
            "Trainable params: 151\n",
            "Non-trainable params: 0\n",
            "_________________________________________________________________\n"
          ],
          "name": "stdout"
        }
      ]
    },
    {
      "cell_type": "code",
      "metadata": {
        "colab": {
          "base_uri": "https://localhost:8080/",
          "height": 462
        },
        "id": "kDfbW7g7g9ZM",
        "outputId": "cb65a51e-1c31-44a1-8bfc-dbed8501d6cb"
      },
      "source": [
        "y_pred_model_im_1 = model_im_1.predict(X_test)\n",
        "plot_predictions(predictions=y_pred_model_im_1)\n",
        "mae_im1 = mae(y_test,y_pred=tf.squeeze(y_pred_model_im_1))\n",
        "mse_im1 = mse(y_test,y_pred=tf.squeeze(y_pred_model_im_1))\n",
        "mae_im1,mse_im1 "
      ],
      "execution_count": 29,
      "outputs": [
        {
          "output_type": "execute_result",
          "data": {
            "text/plain": [
              "(<tf.Tensor: shape=(), dtype=float32, numpy=13.30514>,\n",
              " <tf.Tensor: shape=(), dtype=float32, numpy=187.11227>)"
            ]
          },
          "metadata": {
            "tags": []
          },
          "execution_count": 29
        },
        {
          "output_type": "display_data",
          "data": {
            "image/png": "[encoded data removed]",
            "text/plain": [
              "<Figure size 720x504 with 1 Axes>"
            ]
          },
          "metadata": {
            "tags": [],
            "needs_background": "light"
          }
        }
      ]
    },
    {
      "cell_type": "code",
      "metadata": {
        "colab": {
          "base_uri": "https://localhost:8080/"
        },
        "id": "r6Iac0W4tgUg",
        "outputId": "1d8209be-a2f0-4341-b1c9-a20735736708"
      },
      "source": [
        "# Create a model with 500 epochs\n",
        "\n",
        "model_im_2 = tf.keras.Sequential([\n",
        "                                  tf.keras.layers.Dense(50),\n",
        "                                  tf.keras.layers.Dense(1)\n",
        "])\n",
        "model_im_2.compile(loss=tf.keras.losses.mae,\n",
        "                   optimizer=tf.keras.optimizers.SGD(),\n",
        "                   metrics=[\"mse\"])\n",
        "model_im_2.fit(X_train,y_train,epochs=500)\n",
        "model.summary()"
      ],
      "execution_count": 33,
      "outputs": [
        {
          "output_type": "stream",
          "text": [
            "Epoch 1/500\n",
            "2/2 [==============================] - 0s 5ms/step - loss: 27.4863 - mse: 1358.1165\n",
            "Epoch 2/500\n",
            "2/2 [==============================] - 0s 3ms/step - loss: 24.9833 - mse: 878.3484\n",
            "Epoch 3/500\n",
            "2/2 [==============================] - 0s 3ms/step - loss: 29.9332 - mse: 1348.0040\n",
            "Epoch 4/500\n",
            "2/2 [==============================] - 0s 5ms/step - loss: 16.3894 - mse: 385.6161\n",
            "Epoch 5/500\n",
            "2/2 [==============================] - 0s 8ms/step - loss: 22.5929 - mse: 747.9679\n",
            "Epoch 6/500\n",
            "2/2 [==============================] - 0s 9ms/step - loss: 10.9811 - mse: 133.4425\n",
            "Epoch 7/500\n",
            "2/2 [==============================] - 0s 10ms/step - loss: 12.0116 - mse: 181.2243\n",
            "Epoch 8/500\n",
            "2/2 [==============================] - 0s 8ms/step - loss: 10.9151 - mse: 132.9997\n",
            "Epoch 9/500\n",
            "2/2 [==============================] - 0s 7ms/step - loss: 37.8055 - mse: 2201.5361\n",
            "Epoch 10/500\n",
            "2/2 [==============================] - 0s 6ms/step - loss: 25.4254 - mse: 907.2096\n",
            "Epoch 11/500\n",
            "2/2 [==============================] - 0s 5ms/step - loss: 10.2573 - mse: 147.6745\n",
            "Epoch 12/500\n",
            "2/2 [==============================] - 0s 5ms/step - loss: 25.3941 - mse: 898.4086\n",
            "Epoch 13/500\n",
            "2/2 [==============================] - 0s 5ms/step - loss: 16.9493 - mse: 397.5302\n",
            "Epoch 14/500\n",
            "2/2 [==============================] - 0s 3ms/step - loss: 25.8481 - mse: 1042.8611\n",
            "Epoch 15/500\n",
            "2/2 [==============================] - 0s 4ms/step - loss: 17.6774 - mse: 432.8918\n",
            "Epoch 16/500\n",
            "2/2 [==============================] - 0s 2ms/step - loss: 10.0803 - mse: 124.1935\n",
            "Epoch 17/500\n",
            "2/2 [==============================] - 0s 4ms/step - loss: 18.6802 - mse: 467.0157\n",
            "Epoch 18/500\n",
            "2/2 [==============================] - 0s 2ms/step - loss: 11.7986 - mse: 214.1149\n",
            "Epoch 19/500\n",
            "2/2 [==============================] - 0s 2ms/step - loss: 16.5210 - mse: 437.7364\n",
            "Epoch 20/500\n",
            "2/2 [==============================] - 0s 3ms/step - loss: 8.2386 - mse: 93.3044\n",
            "Epoch 21/500\n",
            "2/2 [==============================] - 0s 3ms/step - loss: 14.4069 - mse: 288.1172\n",
            "Epoch 22/500\n",
            "2/2 [==============================] - 0s 9ms/step - loss: 12.8194 - mse: 245.3365\n",
            "Epoch 23/500\n",
            "2/2 [==============================] - 0s 3ms/step - loss: 15.4581 - mse: 314.5667\n",
            "Epoch 24/500\n",
            "2/2 [==============================] - 0s 3ms/step - loss: 15.2467 - mse: 315.2796\n",
            "Epoch 25/500\n",
            "2/2 [==============================] - 0s 8ms/step - loss: 14.3271 - mse: 272.5088\n",
            "Epoch 26/500\n",
            "2/2 [==============================] - 0s 3ms/step - loss: 19.3197 - mse: 566.5138\n",
            "Epoch 27/500\n",
            "2/2 [==============================] - 0s 2ms/step - loss: 11.4662 - mse: 170.1912\n",
            "Epoch 28/500\n",
            "2/2 [==============================] - 0s 8ms/step - loss: 29.1811 - mse: 1384.5367\n",
            "Epoch 29/500\n",
            "2/2 [==============================] - 0s 3ms/step - loss: 9.2524 - mse: 94.2803\n",
            "Epoch 30/500\n",
            "2/2 [==============================] - 0s 3ms/step - loss: 29.8984 - mse: 1621.0911\n",
            "Epoch 31/500\n",
            "2/2 [==============================] - 0s 8ms/step - loss: 54.2616 - mse: 5275.6084\n",
            "Epoch 32/500\n",
            "2/2 [==============================] - 0s 3ms/step - loss: 9.5858 - mse: 101.3382\n",
            "Epoch 33/500\n",
            "2/2 [==============================] - 0s 3ms/step - loss: 12.1800 - mse: 182.2806\n",
            "Epoch 34/500\n",
            "2/2 [==============================] - 0s 8ms/step - loss: 23.9702 - mse: 870.8270\n",
            "Epoch 35/500\n",
            "2/2 [==============================] - 0s 3ms/step - loss: 12.6137 - mse: 243.1780\n",
            "Epoch 36/500\n",
            "2/2 [==============================] - 0s 3ms/step - loss: 21.5109 - mse: 659.9909\n",
            "Epoch 37/500\n",
            "2/2 [==============================] - 0s 5ms/step - loss: 11.3955 - mse: 150.4685\n",
            "Epoch 38/500\n",
            "2/2 [==============================] - 0s 5ms/step - loss: 13.4904 - mse: 270.5099\n",
            "Epoch 39/500\n",
            "2/2 [==============================] - 0s 6ms/step - loss: 10.8039 - mse: 139.9079\n",
            "Epoch 40/500\n",
            "2/2 [==============================] - 0s 3ms/step - loss: 16.6375 - mse: 401.5203\n",
            "Epoch 41/500\n",
            "2/2 [==============================] - 0s 4ms/step - loss: 10.9935 - mse: 179.8750\n",
            "Epoch 42/500\n",
            "2/2 [==============================] - 0s 5ms/step - loss: 9.3163 - mse: 114.9502\n",
            "Epoch 43/500\n",
            "2/2 [==============================] - 0s 3ms/step - loss: 9.5983 - mse: 110.7234\n",
            "Epoch 44/500\n",
            "2/2 [==============================] - 0s 4ms/step - loss: 28.0583 - mse: 1263.0792\n",
            "Epoch 45/500\n",
            "2/2 [==============================] - 0s 6ms/step - loss: 11.3027 - mse: 147.5306\n",
            "Epoch 46/500\n",
            "2/2 [==============================] - 0s 5ms/step - loss: 14.1117 - mse: 290.9248\n",
            "Epoch 47/500\n",
            "2/2 [==============================] - 0s 4ms/step - loss: 13.4872 - mse: 256.2499\n",
            "Epoch 48/500\n",
            "2/2 [==============================] - 0s 6ms/step - loss: 17.3164 - mse: 406.7812\n",
            "Epoch 49/500\n",
            "2/2 [==============================] - 0s 3ms/step - loss: 9.5315 - mse: 98.9263\n",
            "Epoch 50/500\n",
            "2/2 [==============================] - 0s 5ms/step - loss: 13.7340 - mse: 255.1312\n",
            "Epoch 51/500\n",
            "2/2 [==============================] - 0s 4ms/step - loss: 11.5710 - mse: 153.4753\n",
            "Epoch 52/500\n",
            "2/2 [==============================] - 0s 5ms/step - loss: 30.2953 - mse: 1583.5582\n",
            "Epoch 53/500\n",
            "2/2 [==============================] - 0s 4ms/step - loss: 14.2465 - mse: 297.3654\n",
            "Epoch 54/500\n",
            "2/2 [==============================] - 0s 4ms/step - loss: 23.5513 - mse: 834.6667\n",
            "Epoch 55/500\n",
            "2/2 [==============================] - 0s 4ms/step - loss: 24.4667 - mse: 903.2463\n",
            "Epoch 56/500\n",
            "2/2 [==============================] - 0s 7ms/step - loss: 11.3054 - mse: 171.6795\n",
            "Epoch 57/500\n",
            "2/2 [==============================] - 0s 4ms/step - loss: 13.3095 - mse: 222.7445\n",
            "Epoch 58/500\n",
            "2/2 [==============================] - 0s 4ms/step - loss: 9.9213 - mse: 108.7643\n",
            "Epoch 59/500\n",
            "2/2 [==============================] - 0s 5ms/step - loss: 13.8467 - mse: 271.9992\n",
            "Epoch 60/500\n",
            "2/2 [==============================] - 0s 4ms/step - loss: 9.9641 - mse: 118.6394\n",
            "Epoch 61/500\n",
            "2/2 [==============================] - 0s 4ms/step - loss: 14.9020 - mse: 304.7240\n",
            "Epoch 62/500\n",
            "2/2 [==============================] - 0s 3ms/step - loss: 11.8839 - mse: 193.9606\n",
            "Epoch 63/500\n",
            "2/2 [==============================] - 0s 5ms/step - loss: 10.2655 - mse: 132.9383\n",
            "Epoch 64/500\n",
            "2/2 [==============================] - 0s 2ms/step - loss: 23.7640 - mse: 829.5200\n",
            "Epoch 65/500\n",
            "2/2 [==============================] - 0s 5ms/step - loss: 10.4408 - mse: 128.8389\n",
            "Epoch 66/500\n",
            "2/2 [==============================] - 0s 4ms/step - loss: 20.8243 - mse: 637.0461\n",
            "Epoch 67/500\n",
            "2/2 [==============================] - 0s 3ms/step - loss: 10.4114 - mse: 125.2976\n",
            "Epoch 68/500\n",
            "2/2 [==============================] - 0s 2ms/step - loss: 14.1002 - mse: 299.1702\n",
            "Epoch 69/500\n",
            "2/2 [==============================] - 0s 2ms/step - loss: 10.4748 - mse: 124.7878\n",
            "Epoch 70/500\n",
            "2/2 [==============================] - 0s 5ms/step - loss: 12.5410 - mse: 199.3353\n",
            "Epoch 71/500\n",
            "2/2 [==============================] - 0s 3ms/step - loss: 12.9708 - mse: 223.5842\n",
            "Epoch 72/500\n",
            "2/2 [==============================] - 0s 5ms/step - loss: 19.2537 - mse: 525.8649\n",
            "Epoch 73/500\n",
            "2/2 [==============================] - 0s 4ms/step - loss: 11.1044 - mse: 194.1559\n",
            "Epoch 74/500\n",
            "2/2 [==============================] - 0s 4ms/step - loss: 21.3273 - mse: 709.3603\n",
            "Epoch 75/500\n",
            "2/2 [==============================] - 0s 5ms/step - loss: 9.4278 - mse: 152.2551\n",
            "Epoch 76/500\n",
            "2/2 [==============================] - 0s 6ms/step - loss: 12.2447 - mse: 181.6834\n",
            "Epoch 77/500\n",
            "2/2 [==============================] - 0s 7ms/step - loss: 16.2339 - mse: 405.3576\n",
            "Epoch 78/500\n",
            "2/2 [==============================] - 0s 4ms/step - loss: 8.9981 - mse: 91.2510\n",
            "Epoch 79/500\n",
            "2/2 [==============================] - 0s 4ms/step - loss: 23.4610 - mse: 823.3646\n",
            "Epoch 80/500\n",
            "2/2 [==============================] - 0s 5ms/step - loss: 26.1355 - mse: 1049.6660\n",
            "Epoch 81/500\n",
            "2/2 [==============================] - 0s 4ms/step - loss: 11.3838 - mse: 158.5367\n",
            "Epoch 82/500\n",
            "2/2 [==============================] - 0s 2ms/step - loss: 12.4781 - mse: 227.1847\n",
            "Epoch 83/500\n",
            "2/2 [==============================] - 0s 6ms/step - loss: 17.1568 - mse: 383.0060\n",
            "Epoch 84/500\n",
            "2/2 [==============================] - 0s 4ms/step - loss: 6.5691 - mse: 63.9650\n",
            "Epoch 85/500\n",
            "2/2 [==============================] - 0s 4ms/step - loss: 20.3404 - mse: 578.7135\n",
            "Epoch 86/500\n",
            "2/2 [==============================] - 0s 4ms/step - loss: 10.1584 - mse: 116.0009\n",
            "Epoch 87/500\n",
            "2/2 [==============================] - 0s 4ms/step - loss: 24.4001 - mse: 833.2502\n",
            "Epoch 88/500\n",
            "2/2 [==============================] - 0s 4ms/step - loss: 19.0642 - mse: 515.9838\n",
            "Epoch 89/500\n",
            "2/2 [==============================] - 0s 5ms/step - loss: 7.1474 - mse: 69.7225\n",
            "Epoch 90/500\n",
            "2/2 [==============================] - 0s 4ms/step - loss: 18.2262 - mse: 492.7418\n",
            "Epoch 91/500\n",
            "2/2 [==============================] - 0s 5ms/step - loss: 13.2739 - mse: 254.8684\n",
            "Epoch 92/500\n",
            "2/2 [==============================] - 0s 5ms/step - loss: 14.8121 - mse: 309.3976\n",
            "Epoch 93/500\n",
            "2/2 [==============================] - 0s 7ms/step - loss: 11.6115 - mse: 250.8391\n",
            "Epoch 94/500\n",
            "2/2 [==============================] - 0s 3ms/step - loss: 16.1671 - mse: 369.1873\n",
            "Epoch 95/500\n",
            "2/2 [==============================] - 0s 3ms/step - loss: 15.5079 - mse: 320.2125\n",
            "Epoch 96/500\n",
            "2/2 [==============================] - 0s 3ms/step - loss: 15.0356 - mse: 322.5044\n",
            "Epoch 97/500\n",
            "2/2 [==============================] - 0s 5ms/step - loss: 10.8661 - mse: 188.0697\n",
            "Epoch 98/500\n",
            "2/2 [==============================] - 0s 5ms/step - loss: 14.3237 - mse: 285.0179\n",
            "Epoch 99/500\n",
            "2/2 [==============================] - 0s 5ms/step - loss: 13.3517 - mse: 250.8332\n",
            "Epoch 100/500\n",
            "2/2 [==============================] - 0s 4ms/step - loss: 19.9445 - mse: 581.8970\n",
            "Epoch 101/500\n",
            "2/2 [==============================] - 0s 5ms/step - loss: 22.6311 - mse: 779.4253\n",
            "Epoch 102/500\n",
            "2/2 [==============================] - 0s 3ms/step - loss: 11.3077 - mse: 165.8173\n",
            "Epoch 103/500\n",
            "2/2 [==============================] - 0s 4ms/step - loss: 9.3614 - mse: 96.4963\n",
            "Epoch 104/500\n",
            "2/2 [==============================] - 0s 3ms/step - loss: 25.2845 - mse: 962.8672\n",
            "Epoch 105/500\n",
            "2/2 [==============================] - 0s 3ms/step - loss: 12.4763 - mse: 234.7338\n",
            "Epoch 106/500\n",
            "2/2 [==============================] - 0s 2ms/step - loss: 9.4031 - mse: 105.9742\n",
            "Epoch 107/500\n",
            "2/2 [==============================] - 0s 3ms/step - loss: 23.3174 - mse: 820.0770\n",
            "Epoch 108/500\n",
            "2/2 [==============================] - 0s 4ms/step - loss: 8.2869 - mse: 87.8829\n",
            "Epoch 109/500\n",
            "2/2 [==============================] - 0s 6ms/step - loss: 14.1046 - mse: 282.2131\n",
            "Epoch 110/500\n",
            "2/2 [==============================] - 0s 5ms/step - loss: 10.5968 - mse: 205.8367\n",
            "Epoch 111/500\n",
            "2/2 [==============================] - 0s 8ms/step - loss: 16.8989 - mse: 406.5286\n",
            "Epoch 112/500\n",
            "2/2 [==============================] - 0s 7ms/step - loss: 8.2745 - mse: 96.0121\n",
            "Epoch 113/500\n",
            "2/2 [==============================] - 0s 8ms/step - loss: 19.7837 - mse: 565.5921\n",
            "Epoch 114/500\n",
            "2/2 [==============================] - 0s 5ms/step - loss: 17.4788 - mse: 458.2217\n",
            "Epoch 115/500\n",
            "2/2 [==============================] - 0s 4ms/step - loss: 11.2504 - mse: 161.0855\n",
            "Epoch 116/500\n",
            "2/2 [==============================] - 0s 3ms/step - loss: 23.6851 - mse: 819.2892\n",
            "Epoch 117/500\n",
            "2/2 [==============================] - 0s 5ms/step - loss: 9.7593 - mse: 126.6341\n",
            "Epoch 118/500\n",
            "2/2 [==============================] - 0s 3ms/step - loss: 10.8486 - mse: 144.5190\n",
            "Epoch 119/500\n",
            "2/2 [==============================] - 0s 6ms/step - loss: 8.0863 - mse: 81.3844\n",
            "Epoch 120/500\n",
            "2/2 [==============================] - 0s 4ms/step - loss: 30.0836 - mse: 1354.2906\n",
            "Epoch 121/500\n",
            "2/2 [==============================] - 0s 6ms/step - loss: 8.1156 - mse: 71.9056\n",
            "Epoch 122/500\n",
            "2/2 [==============================] - 0s 7ms/step - loss: 28.6203 - mse: 1266.1787\n",
            "Epoch 123/500\n",
            "2/2 [==============================] - 0s 13ms/step - loss: 33.2843 - mse: 1633.1396\n",
            "Epoch 124/500\n",
            "2/2 [==============================] - 0s 10ms/step - loss: 19.9259 - mse: 589.6621\n",
            "Epoch 125/500\n",
            "2/2 [==============================] - 0s 5ms/step - loss: 7.6906 - mse: 93.2076\n",
            "Epoch 126/500\n",
            "2/2 [==============================] - 0s 11ms/step - loss: 17.1779 - mse: 405.4731\n",
            "Epoch 127/500\n",
            "2/2 [==============================] - 0s 5ms/step - loss: 7.5251 - mse: 67.9438\n",
            "Epoch 128/500\n",
            "2/2 [==============================] - 0s 2ms/step - loss: 18.1665 - mse: 476.5086\n",
            "Epoch 129/500\n",
            "2/2 [==============================] - 0s 3ms/step - loss: 8.7952 - mse: 100.9657\n",
            "Epoch 130/500\n",
            "2/2 [==============================] - 0s 8ms/step - loss: 22.5776 - mse: 717.4869\n",
            "Epoch 131/500\n",
            "2/2 [==============================] - 0s 16ms/step - loss: 10.2602 - mse: 148.2689\n",
            "Epoch 132/500\n",
            "2/2 [==============================] - 0s 6ms/step - loss: 15.0405 - mse: 339.7747\n",
            "Epoch 133/500\n",
            "2/2 [==============================] - 0s 16ms/step - loss: 7.1028 - mse: 66.1032\n",
            "Epoch 134/500\n",
            "2/2 [==============================] - 0s 3ms/step - loss: 23.8686 - mse: 814.0039\n",
            "Epoch 135/500\n",
            "2/2 [==============================] - 0s 3ms/step - loss: 16.6059 - mse: 386.8807\n",
            "Epoch 136/500\n",
            "2/2 [==============================] - 0s 6ms/step - loss: 14.8301 - mse: 307.7678\n",
            "Epoch 137/500\n",
            "2/2 [==============================] - 0s 3ms/step - loss: 23.0726 - mse: 718.0013\n",
            "Epoch 138/500\n",
            "2/2 [==============================] - 0s 8ms/step - loss: 9.1093 - mse: 139.9906\n",
            "Epoch 139/500\n",
            "2/2 [==============================] - 0s 14ms/step - loss: 8.9046 - mse: 145.5408\n",
            "Epoch 140/500\n",
            "2/2 [==============================] - 0s 4ms/step - loss: 16.4004 - mse: 385.9980\n",
            "Epoch 141/500\n",
            "2/2 [==============================] - 0s 9ms/step - loss: 8.4285 - mse: 90.7797\n",
            "Epoch 142/500\n",
            "2/2 [==============================] - 0s 7ms/step - loss: 36.7944 - mse: 2382.4124\n",
            "Epoch 143/500\n",
            "2/2 [==============================] - 0s 7ms/step - loss: 25.4599 - mse: 917.6418\n",
            "Epoch 144/500\n",
            "2/2 [==============================] - 0s 2ms/step - loss: 9.5537 - mse: 143.6618\n",
            "Epoch 145/500\n",
            "2/2 [==============================] - 0s 2ms/step - loss: 26.6450 - mse: 959.8094\n",
            "Epoch 146/500\n",
            "2/2 [==============================] - 0s 2ms/step - loss: 8.6818 - mse: 108.9444\n",
            "Epoch 147/500\n",
            "2/2 [==============================] - 0s 11ms/step - loss: 15.6584 - mse: 312.0389\n",
            "Epoch 148/500\n",
            "2/2 [==============================] - 0s 4ms/step - loss: 18.3591 - mse: 467.5360\n",
            "Epoch 149/500\n",
            "2/2 [==============================] - 0s 4ms/step - loss: 8.1682 - mse: 107.0774\n",
            "Epoch 150/500\n",
            "2/2 [==============================] - 0s 6ms/step - loss: 7.4920 - mse: 66.9119\n",
            "Epoch 151/500\n",
            "2/2 [==============================] - 0s 3ms/step - loss: 18.2269 - mse: 479.7148\n",
            "Epoch 152/500\n",
            "2/2 [==============================] - 0s 3ms/step - loss: 10.2717 - mse: 129.7254\n",
            "Epoch 153/500\n",
            "2/2 [==============================] - 0s 3ms/step - loss: 29.4632 - mse: 1251.4087\n",
            "Epoch 154/500\n",
            "2/2 [==============================] - 0s 4ms/step - loss: 10.5966 - mse: 200.6070\n",
            "Epoch 155/500\n",
            "2/2 [==============================] - 0s 3ms/step - loss: 15.4909 - mse: 349.6074\n",
            "Epoch 156/500\n",
            "2/2 [==============================] - 0s 7ms/step - loss: 17.0956 - mse: 441.7673\n",
            "Epoch 157/500\n",
            "2/2 [==============================] - 0s 3ms/step - loss: 32.6200 - mse: 1721.8678\n",
            "Epoch 158/500\n",
            "2/2 [==============================] - 0s 4ms/step - loss: 10.6565 - mse: 149.5942\n",
            "Epoch 159/500\n",
            "2/2 [==============================] - 0s 3ms/step - loss: 8.8889 - mse: 97.7572\n",
            "Epoch 160/500\n",
            "2/2 [==============================] - 0s 4ms/step - loss: 21.9836 - mse: 699.1621\n",
            "Epoch 161/500\n",
            "2/2 [==============================] - 0s 4ms/step - loss: 11.6615 - mse: 201.0198\n",
            "Epoch 162/500\n",
            "2/2 [==============================] - 0s 8ms/step - loss: 21.4329 - mse: 661.0748\n",
            "Epoch 163/500\n",
            "2/2 [==============================] - 0s 2ms/step - loss: 18.9068 - mse: 514.8922\n",
            "Epoch 164/500\n",
            "2/2 [==============================] - 0s 3ms/step - loss: 12.7464 - mse: 252.2542\n",
            "Epoch 165/500\n",
            "2/2 [==============================] - 0s 5ms/step - loss: 12.7120 - mse: 235.0299\n",
            "Epoch 166/500\n",
            "2/2 [==============================] - 0s 5ms/step - loss: 18.8713 - mse: 550.4775\n",
            "Epoch 167/500\n",
            "2/2 [==============================] - 0s 10ms/step - loss: 26.8918 - mse: 1101.0768\n",
            "Epoch 168/500\n",
            "2/2 [==============================] - 0s 3ms/step - loss: 9.9909 - mse: 120.6022\n",
            "Epoch 169/500\n",
            "2/2 [==============================] - 0s 12ms/step - loss: 23.1512 - mse: 830.1839\n",
            "Epoch 170/500\n",
            "2/2 [==============================] - 0s 3ms/step - loss: 9.5797 - mse: 170.4507\n",
            "Epoch 171/500\n",
            "2/2 [==============================] - 0s 3ms/step - loss: 15.8465 - mse: 377.5855\n",
            "Epoch 172/500\n",
            "2/2 [==============================] - 0s 5ms/step - loss: 13.8777 - mse: 284.9255\n",
            "Epoch 173/500\n",
            "2/2 [==============================] - 0s 5ms/step - loss: 22.5663 - mse: 720.4739\n",
            "Epoch 174/500\n",
            "2/2 [==============================] - 0s 5ms/step - loss: 11.3559 - mse: 180.1200\n",
            "Epoch 175/500\n",
            "2/2 [==============================] - 0s 4ms/step - loss: 20.1295 - mse: 655.0802\n",
            "Epoch 176/500\n",
            "2/2 [==============================] - 0s 4ms/step - loss: 7.4118 - mse: 68.7223\n",
            "Epoch 177/500\n",
            "2/2 [==============================] - 0s 4ms/step - loss: 8.5964 - mse: 104.8190\n",
            "Epoch 178/500\n",
            "2/2 [==============================] - 0s 4ms/step - loss: 15.5257 - mse: 346.9995\n",
            "Epoch 179/500\n",
            "2/2 [==============================] - 0s 5ms/step - loss: 9.2699 - mse: 119.8857\n",
            "Epoch 180/500\n",
            "2/2 [==============================] - 0s 3ms/step - loss: 8.1308 - mse: 93.4248\n",
            "Epoch 181/500\n",
            "2/2 [==============================] - 0s 2ms/step - loss: 18.7796 - mse: 508.0087\n",
            "Epoch 182/500\n",
            "2/2 [==============================] - 0s 2ms/step - loss: 10.7931 - mse: 151.9539\n",
            "Epoch 183/500\n",
            "2/2 [==============================] - 0s 3ms/step - loss: 11.4992 - mse: 198.0811\n",
            "Epoch 184/500\n",
            "2/2 [==============================] - 0s 6ms/step - loss: 29.7807 - mse: 1327.7777\n",
            "Epoch 185/500\n",
            "2/2 [==============================] - 0s 3ms/step - loss: 7.5407 - mse: 95.6488\n",
            "Epoch 186/500\n",
            "2/2 [==============================] - 0s 3ms/step - loss: 16.4345 - mse: 385.5936\n",
            "Epoch 187/500\n",
            "2/2 [==============================] - 0s 7ms/step - loss: 10.7189 - mse: 220.8837\n",
            "Epoch 188/500\n",
            "2/2 [==============================] - 0s 3ms/step - loss: 22.5336 - mse: 746.6198\n",
            "Epoch 189/500\n",
            "2/2 [==============================] - 0s 2ms/step - loss: 11.6718 - mse: 210.4823\n",
            "Epoch 190/500\n",
            "2/2 [==============================] - 0s 3ms/step - loss: 9.4257 - mse: 105.5409\n",
            "Epoch 191/500\n",
            "2/2 [==============================] - 0s 2ms/step - loss: 15.6125 - mse: 343.4743\n",
            "Epoch 192/500\n",
            "2/2 [==============================] - 0s 2ms/step - loss: 12.8442 - mse: 266.2382\n",
            "Epoch 193/500\n",
            "2/2 [==============================] - 0s 2ms/step - loss: 27.8128 - mse: 1077.1924\n",
            "Epoch 194/500\n",
            "2/2 [==============================] - 0s 7ms/step - loss: 7.1127 - mse: 78.0768\n",
            "Epoch 195/500\n",
            "2/2 [==============================] - 0s 3ms/step - loss: 7.0356 - mse: 75.1431\n",
            "Epoch 196/500\n",
            "2/2 [==============================] - 0s 2ms/step - loss: 21.9260 - mse: 705.2036\n",
            "Epoch 197/500\n",
            "2/2 [==============================] - 0s 3ms/step - loss: 21.0247 - mse: 655.3029\n",
            "Epoch 198/500\n",
            "2/2 [==============================] - 0s 5ms/step - loss: 12.5717 - mse: 239.9570\n",
            "Epoch 199/500\n",
            "2/2 [==============================] - 0s 6ms/step - loss: 18.0675 - mse: 468.1985\n",
            "Epoch 200/500\n",
            "2/2 [==============================] - 0s 2ms/step - loss: 13.8951 - mse: 288.5762\n",
            "Epoch 201/500\n",
            "2/2 [==============================] - 0s 7ms/step - loss: 6.0145 - mse: 50.3209\n",
            "Epoch 202/500\n",
            "2/2 [==============================] - 0s 8ms/step - loss: 22.9616 - mse: 751.2785\n",
            "Epoch 203/500\n",
            "2/2 [==============================] - 0s 7ms/step - loss: 8.9511 - mse: 152.1378\n",
            "Epoch 204/500\n",
            "2/2 [==============================] - 0s 3ms/step - loss: 18.9304 - mse: 537.0966\n",
            "Epoch 205/500\n",
            "2/2 [==============================] - 0s 3ms/step - loss: 9.3742 - mse: 126.8401\n",
            "Epoch 206/500\n",
            "2/2 [==============================] - 0s 5ms/step - loss: 11.0170 - mse: 166.3920\n",
            "Epoch 207/500\n",
            "2/2 [==============================] - 0s 2ms/step - loss: 17.4918 - mse: 462.2386\n",
            "Epoch 208/500\n",
            "2/2 [==============================] - 0s 6ms/step - loss: 14.2330 - mse: 293.2617\n",
            "Epoch 209/500\n",
            "2/2 [==============================] - 0s 4ms/step - loss: 16.5503 - mse: 405.9628\n",
            "Epoch 210/500\n",
            "2/2 [==============================] - 0s 3ms/step - loss: 18.0333 - mse: 474.1646\n",
            "Epoch 211/500\n",
            "2/2 [==============================] - 0s 3ms/step - loss: 9.8598 - mse: 145.4119\n",
            "Epoch 212/500\n",
            "2/2 [==============================] - 0s 3ms/step - loss: 18.5038 - mse: 516.6143\n",
            "Epoch 213/500\n",
            "2/2 [==============================] - 0s 9ms/step - loss: 14.9851 - mse: 306.0069\n",
            "Epoch 214/500\n",
            "2/2 [==============================] - 0s 5ms/step - loss: 14.5520 - mse: 291.7690\n",
            "Epoch 215/500\n",
            "2/2 [==============================] - 0s 6ms/step - loss: 23.2350 - mse: 795.5006\n",
            "Epoch 216/500\n",
            "2/2 [==============================] - 0s 8ms/step - loss: 13.4714 - mse: 281.8638\n",
            "Epoch 217/500\n",
            "2/2 [==============================] - 0s 11ms/step - loss: 9.9307 - mse: 139.3654\n",
            "Epoch 218/500\n",
            "2/2 [==============================] - 0s 6ms/step - loss: 12.4639 - mse: 204.4455\n",
            "Epoch 219/500\n",
            "2/2 [==============================] - 0s 3ms/step - loss: 5.2811 - mse: 40.4028\n",
            "Epoch 220/500\n",
            "2/2 [==============================] - 0s 2ms/step - loss: 12.4032 - mse: 243.2276\n",
            "Epoch 221/500\n",
            "2/2 [==============================] - 0s 3ms/step - loss: 22.4014 - mse: 730.7514\n",
            "Epoch 222/500\n",
            "2/2 [==============================] - 0s 11ms/step - loss: 21.5249 - mse: 723.7643\n",
            "Epoch 223/500\n",
            "2/2 [==============================] - 0s 5ms/step - loss: 11.6537 - mse: 197.2643\n",
            "Epoch 224/500\n",
            "2/2 [==============================] - 0s 2ms/step - loss: 15.1260 - mse: 346.1233\n",
            "Epoch 225/500\n",
            "2/2 [==============================] - 0s 5ms/step - loss: 17.1897 - mse: 385.4998\n",
            "Epoch 226/500\n",
            "2/2 [==============================] - 0s 7ms/step - loss: 16.3596 - mse: 397.5355\n",
            "Epoch 227/500\n",
            "2/2 [==============================] - 0s 3ms/step - loss: 16.7390 - mse: 397.3421\n",
            "Epoch 228/500\n",
            "2/2 [==============================] - 0s 3ms/step - loss: 10.1079 - mse: 181.6798\n",
            "Epoch 229/500\n",
            "2/2 [==============================] - 0s 3ms/step - loss: 18.0411 - mse: 456.8348\n",
            "Epoch 230/500\n",
            "2/2 [==============================] - 0s 3ms/step - loss: 15.6042 - mse: 314.3990\n",
            "Epoch 231/500\n",
            "2/2 [==============================] - 0s 2ms/step - loss: 21.1887 - mse: 670.0052\n",
            "Epoch 232/500\n",
            "2/2 [==============================] - 0s 3ms/step - loss: 25.3121 - mse: 916.5538\n",
            "Epoch 233/500\n",
            "2/2 [==============================] - 0s 3ms/step - loss: 16.3476 - mse: 389.0190\n",
            "Epoch 234/500\n",
            "2/2 [==============================] - 0s 5ms/step - loss: 7.2790 - mse: 66.5747\n",
            "Epoch 235/500\n",
            "2/2 [==============================] - 0s 3ms/step - loss: 17.0004 - mse: 404.6651\n",
            "Epoch 236/500\n",
            "2/2 [==============================] - 0s 3ms/step - loss: 7.1326 - mse: 69.7646\n",
            "Epoch 237/500\n",
            "2/2 [==============================] - 0s 2ms/step - loss: 9.2211 - mse: 119.0965\n",
            "Epoch 238/500\n",
            "2/2 [==============================] - 0s 3ms/step - loss: 8.1040 - mse: 86.7285\n",
            "Epoch 239/500\n",
            "2/2 [==============================] - 0s 3ms/step - loss: 17.0911 - mse: 439.7682\n",
            "Epoch 240/500\n",
            "2/2 [==============================] - 0s 3ms/step - loss: 8.8762 - mse: 107.9040\n",
            "Epoch 241/500\n",
            "2/2 [==============================] - 0s 3ms/step - loss: 13.1989 - mse: 273.9234\n",
            "Epoch 242/500\n",
            "2/2 [==============================] - 0s 4ms/step - loss: 8.7988 - mse: 105.1076\n",
            "Epoch 243/500\n",
            "2/2 [==============================] - 0s 3ms/step - loss: 18.8654 - mse: 544.2623\n",
            "Epoch 244/500\n",
            "2/2 [==============================] - 0s 2ms/step - loss: 14.0376 - mse: 274.9962\n",
            "Epoch 245/500\n",
            "2/2 [==============================] - 0s 2ms/step - loss: 14.6693 - mse: 289.5148\n",
            "Epoch 246/500\n",
            "2/2 [==============================] - 0s 3ms/step - loss: 15.7914 - mse: 369.8629\n",
            "Epoch 247/500\n",
            "2/2 [==============================] - 0s 2ms/step - loss: 17.6634 - mse: 420.5113\n",
            "Epoch 248/500\n",
            "2/2 [==============================] - 0s 3ms/step - loss: 13.2198 - mse: 251.4716\n",
            "Epoch 249/500\n",
            "2/2 [==============================] - 0s 4ms/step - loss: 14.4964 - mse: 288.2391\n",
            "Epoch 250/500\n",
            "2/2 [==============================] - 0s 2ms/step - loss: 23.2124 - mse: 792.0136\n",
            "Epoch 251/500\n",
            "2/2 [==============================] - 0s 2ms/step - loss: 9.3095 - mse: 119.3508\n",
            "Epoch 252/500\n",
            "2/2 [==============================] - 0s 5ms/step - loss: 36.7284 - mse: 2205.3523\n",
            "Epoch 253/500\n",
            "2/2 [==============================] - 0s 3ms/step - loss: 21.8744 - mse: 671.3068\n",
            "Epoch 254/500\n",
            "2/2 [==============================] - 0s 2ms/step - loss: 7.2846 - mse: 77.4820\n",
            "Epoch 255/500\n",
            "2/2 [==============================] - 0s 3ms/step - loss: 24.7694 - mse: 887.5645\n",
            "Epoch 256/500\n",
            "2/2 [==============================] - 0s 3ms/step - loss: 12.4508 - mse: 221.2411\n",
            "Epoch 257/500\n",
            "2/2 [==============================] - 0s 2ms/step - loss: 11.0326 - mse: 184.5107\n",
            "Epoch 258/500\n",
            "2/2 [==============================] - 0s 2ms/step - loss: 10.9036 - mse: 181.7383\n",
            "Epoch 259/500\n",
            "2/2 [==============================] - 0s 2ms/step - loss: 16.1095 - mse: 380.6422\n",
            "Epoch 260/500\n",
            "2/2 [==============================] - 0s 3ms/step - loss: 24.1848 - mse: 867.3953\n",
            "Epoch 261/500\n",
            "2/2 [==============================] - 0s 7ms/step - loss: 8.7634 - mse: 138.2664\n",
            "Epoch 262/500\n",
            "2/2 [==============================] - 0s 3ms/step - loss: 7.9535 - mse: 124.9008\n",
            "Epoch 263/500\n",
            "2/2 [==============================] - 0s 3ms/step - loss: 7.6887 - mse: 107.2831\n",
            "Epoch 264/500\n",
            "2/2 [==============================] - 0s 4ms/step - loss: 16.5848 - mse: 388.1593\n",
            "Epoch 265/500\n",
            "2/2 [==============================] - 0s 3ms/step - loss: 12.6859 - mse: 222.9978\n",
            "Epoch 266/500\n",
            "2/2 [==============================] - 0s 3ms/step - loss: 14.2292 - mse: 282.0894\n",
            "Epoch 267/500\n",
            "2/2 [==============================] - 0s 3ms/step - loss: 11.3444 - mse: 220.6547\n",
            "Epoch 268/500\n",
            "2/2 [==============================] - 0s 3ms/step - loss: 19.8423 - mse: 580.8876\n",
            "Epoch 269/500\n",
            "2/2 [==============================] - 0s 3ms/step - loss: 38.5996 - mse: 2290.9492\n",
            "Epoch 270/500\n",
            "2/2 [==============================] - 0s 3ms/step - loss: 11.4556 - mse: 201.2120\n",
            "Epoch 271/500\n",
            "2/2 [==============================] - 0s 5ms/step - loss: 13.9398 - mse: 271.3275\n",
            "Epoch 272/500\n",
            "2/2 [==============================] - 0s 4ms/step - loss: 27.6319 - mse: 1050.5972\n",
            "Epoch 273/500\n",
            "2/2 [==============================] - 0s 3ms/step - loss: 8.3610 - mse: 92.8526\n",
            "Epoch 274/500\n",
            "2/2 [==============================] - 0s 3ms/step - loss: 6.4338 - mse: 50.7299\n",
            "Epoch 275/500\n",
            "2/2 [==============================] - 0s 3ms/step - loss: 35.5855 - mse: 1927.3496\n",
            "Epoch 276/500\n",
            "2/2 [==============================] - 0s 3ms/step - loss: 8.0932 - mse: 114.2679\n",
            "Epoch 277/500\n",
            "2/2 [==============================] - 0s 3ms/step - loss: 26.6453 - mse: 965.9211\n",
            "Epoch 278/500\n",
            "2/2 [==============================] - 0s 3ms/step - loss: 11.2052 - mse: 228.2330\n",
            "Epoch 279/500\n",
            "2/2 [==============================] - 0s 3ms/step - loss: 16.0103 - mse: 382.5335\n",
            "Epoch 280/500\n",
            "2/2 [==============================] - 0s 4ms/step - loss: 21.0391 - mse: 671.4038\n",
            "Epoch 281/500\n",
            "2/2 [==============================] - 0s 5ms/step - loss: 18.2606 - mse: 506.7453\n",
            "Epoch 282/500\n",
            "2/2 [==============================] - 0s 2ms/step - loss: 6.9147 - mse: 92.9035\n",
            "Epoch 283/500\n",
            "2/2 [==============================] - 0s 3ms/step - loss: 8.0886 - mse: 86.9095\n",
            "Epoch 284/500\n",
            "2/2 [==============================] - 0s 4ms/step - loss: 24.8234 - mse: 926.2285\n",
            "Epoch 285/500\n",
            "2/2 [==============================] - 0s 3ms/step - loss: 13.6028 - mse: 295.4846\n",
            "Epoch 286/500\n",
            "2/2 [==============================] - 0s 3ms/step - loss: 7.7373 - mse: 115.6926\n",
            "Epoch 287/500\n",
            "2/2 [==============================] - 0s 3ms/step - loss: 23.3512 - mse: 791.2018\n",
            "Epoch 288/500\n",
            "2/2 [==============================] - 0s 3ms/step - loss: 23.6666 - mse: 838.5778\n",
            "Epoch 289/500\n",
            "2/2 [==============================] - 0s 3ms/step - loss: 11.9725 - mse: 244.3365\n",
            "Epoch 290/500\n",
            "2/2 [==============================] - 0s 6ms/step - loss: 16.5439 - mse: 367.0996\n",
            "Epoch 291/500\n",
            "2/2 [==============================] - 0s 10ms/step - loss: 16.8084 - mse: 415.5281\n",
            "Epoch 292/500\n",
            "2/2 [==============================] - 0s 3ms/step - loss: 9.4465 - mse: 212.5516\n",
            "Epoch 293/500\n",
            "2/2 [==============================] - 0s 3ms/step - loss: 15.2643 - mse: 318.1121\n",
            "Epoch 294/500\n",
            "2/2 [==============================] - 0s 3ms/step - loss: 22.7191 - mse: 781.2042\n",
            "Epoch 295/500\n",
            "2/2 [==============================] - 0s 3ms/step - loss: 17.9186 - mse: 458.2690\n",
            "Epoch 296/500\n",
            "2/2 [==============================] - 0s 3ms/step - loss: 6.1448 - mse: 58.6731\n",
            "Epoch 297/500\n",
            "2/2 [==============================] - 0s 5ms/step - loss: 10.9289 - mse: 254.3038\n",
            "Epoch 298/500\n",
            "2/2 [==============================] - 0s 3ms/step - loss: 23.1421 - mse: 785.5363\n",
            "Epoch 299/500\n",
            "2/2 [==============================] - 0s 3ms/step - loss: 17.7564 - mse: 471.0047\n",
            "Epoch 300/500\n",
            "2/2 [==============================] - 0s 4ms/step - loss: 6.9577 - mse: 64.9917\n",
            "Epoch 301/500\n",
            "2/2 [==============================] - 0s 3ms/step - loss: 25.2099 - mse: 900.4138\n",
            "Epoch 302/500\n",
            "2/2 [==============================] - 0s 3ms/step - loss: 9.3856 - mse: 133.0042\n",
            "Epoch 303/500\n",
            "2/2 [==============================] - 0s 4ms/step - loss: 14.3481 - mse: 309.1476\n",
            "Epoch 304/500\n",
            "2/2 [==============================] - 0s 6ms/step - loss: 10.7580 - mse: 168.6158\n",
            "Epoch 305/500\n",
            "2/2 [==============================] - 0s 8ms/step - loss: 12.6049 - mse: 263.8780\n",
            "Epoch 306/500\n",
            "2/2 [==============================] - 0s 4ms/step - loss: 8.2238 - mse: 90.9402\n",
            "Epoch 307/500\n",
            "2/2 [==============================] - 0s 3ms/step - loss: 13.0550 - mse: 255.8348\n",
            "Epoch 308/500\n",
            "2/2 [==============================] - 0s 4ms/step - loss: 8.0970 - mse: 90.1978\n",
            "Epoch 309/500\n",
            "2/2 [==============================] - 0s 3ms/step - loss: 11.7298 - mse: 223.0474\n",
            "Epoch 310/500\n",
            "2/2 [==============================] - 0s 11ms/step - loss: 6.3133 - mse: 71.9916\n",
            "Epoch 311/500\n",
            "2/2 [==============================] - 0s 3ms/step - loss: 4.9449 - mse: 31.1254\n",
            "Epoch 312/500\n",
            "2/2 [==============================] - 0s 3ms/step - loss: 29.2725 - mse: 1187.6738\n",
            "Epoch 313/500\n",
            "2/2 [==============================] - 0s 2ms/step - loss: 8.9463 - mse: 118.8086\n",
            "Epoch 314/500\n",
            "2/2 [==============================] - 0s 2ms/step - loss: 5.7571 - mse: 57.3920\n",
            "Epoch 315/500\n",
            "2/2 [==============================] - 0s 3ms/step - loss: 24.9230 - mse: 895.4574\n",
            "Epoch 316/500\n",
            "2/2 [==============================] - 0s 3ms/step - loss: 14.1904 - mse: 318.5062\n",
            "Epoch 317/500\n",
            "2/2 [==============================] - 0s 3ms/step - loss: 19.6349 - mse: 531.1747\n",
            "Epoch 318/500\n",
            "2/2 [==============================] - 0s 3ms/step - loss: 7.8354 - mse: 79.1900\n",
            "Epoch 319/500\n",
            "2/2 [==============================] - 0s 2ms/step - loss: 17.8422 - mse: 473.1246\n",
            "Epoch 320/500\n",
            "2/2 [==============================] - 0s 3ms/step - loss: 10.1253 - mse: 171.5889\n",
            "Epoch 321/500\n",
            "2/2 [==============================] - 0s 3ms/step - loss: 8.2239 - mse: 109.3890\n",
            "Epoch 322/500\n",
            "2/2 [==============================] - 0s 3ms/step - loss: 4.2865 - mse: 26.4492\n",
            "Epoch 323/500\n",
            "2/2 [==============================] - 0s 3ms/step - loss: 23.8106 - mse: 824.0773\n",
            "Epoch 324/500\n",
            "2/2 [==============================] - 0s 3ms/step - loss: 6.8362 - mse: 58.6222\n",
            "Epoch 325/500\n",
            "2/2 [==============================] - 0s 4ms/step - loss: 16.6026 - mse: 393.7849\n",
            "Epoch 326/500\n",
            "2/2 [==============================] - 0s 3ms/step - loss: 7.5170 - mse: 79.5746\n",
            "Epoch 327/500\n",
            "2/2 [==============================] - 0s 3ms/step - loss: 20.4130 - mse: 588.4166\n",
            "Epoch 328/500\n",
            "2/2 [==============================] - 0s 8ms/step - loss: 13.6696 - mse: 262.6473\n",
            "Epoch 329/500\n",
            "2/2 [==============================] - 0s 3ms/step - loss: 16.6760 - mse: 423.8021\n",
            "Epoch 330/500\n",
            "2/2 [==============================] - 0s 3ms/step - loss: 7.0514 - mse: 80.0826\n",
            "Epoch 331/500\n",
            "2/2 [==============================] - 0s 3ms/step - loss: 21.8682 - mse: 730.2635\n",
            "Epoch 332/500\n",
            "2/2 [==============================] - 0s 3ms/step - loss: 12.8088 - mse: 260.0899\n",
            "Epoch 333/500\n",
            "2/2 [==============================] - 0s 3ms/step - loss: 9.3872 - mse: 139.6555\n",
            "Epoch 334/500\n",
            "2/2 [==============================] - 0s 3ms/step - loss: 7.5397 - mse: 90.0241\n",
            "Epoch 335/500\n",
            "2/2 [==============================] - 0s 3ms/step - loss: 6.1072 - mse: 42.9620\n",
            "Epoch 336/500\n",
            "2/2 [==============================] - 0s 4ms/step - loss: 38.4984 - mse: 2475.2705\n",
            "Epoch 337/500\n",
            "2/2 [==============================] - 0s 3ms/step - loss: 29.7782 - mse: 1331.8003\n",
            "Epoch 338/500\n",
            "2/2 [==============================] - 0s 16ms/step - loss: 16.2044 - mse: 383.3085\n",
            "Epoch 339/500\n",
            "2/2 [==============================] - 0s 3ms/step - loss: 9.9895 - mse: 158.3698\n",
            "Epoch 340/500\n",
            "2/2 [==============================] - 0s 3ms/step - loss: 7.5122 - mse: 94.5752\n",
            "Epoch 341/500\n",
            "2/2 [==============================] - 0s 2ms/step - loss: 17.5640 - mse: 437.7246\n",
            "Epoch 342/500\n",
            "2/2 [==============================] - 0s 6ms/step - loss: 14.8368 - mse: 302.1133\n",
            "Epoch 343/500\n",
            "2/2 [==============================] - 0s 4ms/step - loss: 12.5762 - mse: 206.4258\n",
            "Epoch 344/500\n",
            "2/2 [==============================] - 0s 3ms/step - loss: 11.9011 - mse: 290.6371\n",
            "Epoch 345/500\n",
            "2/2 [==============================] - 0s 8ms/step - loss: 30.4153 - mse: 1305.0941\n",
            "Epoch 346/500\n",
            "2/2 [==============================] - 0s 2ms/step - loss: 9.2223 - mse: 219.0154\n",
            "Epoch 347/500\n",
            "2/2 [==============================] - 0s 4ms/step - loss: 25.9139 - mse: 940.2650\n",
            "Epoch 348/500\n",
            "2/2 [==============================] - 0s 10ms/step - loss: 12.2522 - mse: 236.7241\n",
            "Epoch 349/500\n",
            "2/2 [==============================] - 0s 11ms/step - loss: 12.5833 - mse: 250.4810\n",
            "Epoch 350/500\n",
            "2/2 [==============================] - 0s 15ms/step - loss: 15.2152 - mse: 309.4437\n",
            "Epoch 351/500\n",
            "2/2 [==============================] - 0s 18ms/step - loss: 32.6145 - mse: 1495.4919\n",
            "Epoch 352/500\n",
            "2/2 [==============================] - 0s 4ms/step - loss: 13.5629 - mse: 263.7695\n",
            "Epoch 353/500\n",
            "2/2 [==============================] - 0s 2ms/step - loss: 17.4589 - mse: 466.3761\n",
            "Epoch 354/500\n",
            "2/2 [==============================] - 0s 4ms/step - loss: 11.1964 - mse: 244.3083\n",
            "Epoch 355/500\n",
            "2/2 [==============================] - 0s 17ms/step - loss: 26.4720 - mse: 1004.8849\n",
            "Epoch 356/500\n",
            "2/2 [==============================] - 0s 13ms/step - loss: 10.9183 - mse: 204.9914\n",
            "Epoch 357/500\n",
            "2/2 [==============================] - 0s 7ms/step - loss: 13.4399 - mse: 299.8898\n",
            "Epoch 358/500\n",
            "2/2 [==============================] - 0s 6ms/step - loss: 13.0202 - mse: 273.0267\n",
            "Epoch 359/500\n",
            "2/2 [==============================] - 0s 4ms/step - loss: 12.6664 - mse: 285.8386\n",
            "Epoch 360/500\n",
            "2/2 [==============================] - 0s 3ms/step - loss: 20.9963 - mse: 662.2723\n",
            "Epoch 361/500\n",
            "2/2 [==============================] - 0s 3ms/step - loss: 15.9316 - mse: 393.0281\n",
            "Epoch 362/500\n",
            "2/2 [==============================] - 0s 3ms/step - loss: 6.5671 - mse: 95.5688\n",
            "Epoch 363/500\n",
            "2/2 [==============================] - 0s 7ms/step - loss: 23.8819 - mse: 789.3030\n",
            "Epoch 364/500\n",
            "2/2 [==============================] - 0s 6ms/step - loss: 27.6184 - mse: 1096.7214\n",
            "Epoch 365/500\n",
            "2/2 [==============================] - 0s 15ms/step - loss: 7.5136 - mse: 96.5013\n",
            "Epoch 366/500\n",
            "2/2 [==============================] - 0s 15ms/step - loss: 5.9300 - mse: 55.2728\n",
            "Epoch 367/500\n",
            "2/2 [==============================] - 0s 18ms/step - loss: 32.7095 - mse: 1608.1097\n",
            "Epoch 368/500\n",
            "2/2 [==============================] - 0s 5ms/step - loss: 6.7690 - mse: 101.9715\n",
            "Epoch 369/500\n",
            "2/2 [==============================] - 0s 3ms/step - loss: 7.6868 - mse: 81.2054\n",
            "Epoch 370/500\n",
            "2/2 [==============================] - 0s 20ms/step - loss: 16.9888 - mse: 423.5811\n",
            "Epoch 371/500\n",
            "2/2 [==============================] - 0s 15ms/step - loss: 6.5048 - mse: 82.8963\n",
            "Epoch 372/500\n",
            "2/2 [==============================] - 0s 6ms/step - loss: 6.3580 - mse: 79.6903\n",
            "Epoch 373/500\n",
            "2/2 [==============================] - 0s 5ms/step - loss: 23.6756 - mse: 827.5114\n",
            "Epoch 374/500\n",
            "2/2 [==============================] - 0s 5ms/step - loss: 10.3478 - mse: 206.2933\n",
            "Epoch 375/500\n",
            "2/2 [==============================] - 0s 5ms/step - loss: 12.9685 - mse: 236.9613\n",
            "Epoch 376/500\n",
            "2/2 [==============================] - 0s 5ms/step - loss: 14.8602 - mse: 323.2561\n",
            "Epoch 377/500\n",
            "2/2 [==============================] - 0s 17ms/step - loss: 14.7076 - mse: 295.2972\n",
            "Epoch 378/500\n",
            "2/2 [==============================] - 0s 8ms/step - loss: 16.2053 - mse: 415.3347\n",
            "Epoch 379/500\n",
            "2/2 [==============================] - 0s 3ms/step - loss: 20.7340 - mse: 592.4501\n",
            "Epoch 380/500\n",
            "2/2 [==============================] - 0s 7ms/step - loss: 33.8228 - mse: 1715.8962\n",
            "Epoch 381/500\n",
            "2/2 [==============================] - 0s 6ms/step - loss: 8.6261 - mse: 119.1463\n",
            "Epoch 382/500\n",
            "2/2 [==============================] - 0s 6ms/step - loss: 9.4319 - mse: 160.0051\n",
            "Epoch 383/500\n",
            "2/2 [==============================] - 0s 6ms/step - loss: 5.5572 - mse: 48.7718\n",
            "Epoch 384/500\n",
            "2/2 [==============================] - 0s 2ms/step - loss: 8.7654 - mse: 125.4361\n",
            "Epoch 385/500\n",
            "2/2 [==============================] - 0s 6ms/step - loss: 5.6905 - mse: 63.6520\n",
            "Epoch 386/500\n",
            "2/2 [==============================] - 0s 3ms/step - loss: 23.9259 - mse: 832.2921\n",
            "Epoch 387/500\n",
            "2/2 [==============================] - 0s 7ms/step - loss: 17.9923 - mse: 476.2461\n",
            "Epoch 388/500\n",
            "2/2 [==============================] - 0s 6ms/step - loss: 5.9842 - mse: 77.8136\n",
            "Epoch 389/500\n",
            "2/2 [==============================] - 0s 2ms/step - loss: 9.7167 - mse: 157.8651\n",
            "Epoch 390/500\n",
            "2/2 [==============================] - 0s 4ms/step - loss: 6.0068 - mse: 68.4780\n",
            "Epoch 391/500\n",
            "2/2 [==============================] - 0s 4ms/step - loss: 11.3830 - mse: 240.5251\n",
            "Epoch 392/500\n",
            "2/2 [==============================] - 0s 5ms/step - loss: 8.2629 - mse: 177.8657\n",
            "Epoch 393/500\n",
            "2/2 [==============================] - 0s 6ms/step - loss: 19.2814 - mse: 583.6108\n",
            "Epoch 394/500\n",
            "2/2 [==============================] - 0s 4ms/step - loss: 24.8693 - mse: 932.5449\n",
            "Epoch 395/500\n",
            "2/2 [==============================] - 0s 3ms/step - loss: 19.7691 - mse: 556.9648\n",
            "Epoch 396/500\n",
            "2/2 [==============================] - 0s 6ms/step - loss: 8.4711 - mse: 114.8882\n",
            "Epoch 397/500\n",
            "2/2 [==============================] - 0s 3ms/step - loss: 11.3369 - mse: 232.7708\n",
            "Epoch 398/500\n",
            "2/2 [==============================] - 0s 3ms/step - loss: 6.8667 - mse: 77.7125\n",
            "Epoch 399/500\n",
            "2/2 [==============================] - 0s 3ms/step - loss: 14.2420 - mse: 316.7984\n",
            "Epoch 400/500\n",
            "2/2 [==============================] - 0s 3ms/step - loss: 6.6747 - mse: 61.0829\n",
            "Epoch 401/500\n",
            "2/2 [==============================] - 0s 3ms/step - loss: 8.4167 - mse: 133.0698\n",
            "Epoch 402/500\n",
            "2/2 [==============================] - 0s 3ms/step - loss: 14.9558 - mse: 333.9449\n",
            "Epoch 403/500\n",
            "2/2 [==============================] - 0s 3ms/step - loss: 12.2759 - mse: 296.7574\n",
            "Epoch 404/500\n",
            "2/2 [==============================] - 0s 3ms/step - loss: 22.8310 - mse: 733.2965\n",
            "Epoch 405/500\n",
            "2/2 [==============================] - 0s 21ms/step - loss: 18.3030 - mse: 510.1836\n",
            "Epoch 406/500\n",
            "2/2 [==============================] - 0s 12ms/step - loss: 7.0382 - mse: 76.5185\n",
            "Epoch 407/500\n",
            "2/2 [==============================] - 0s 7ms/step - loss: 12.7792 - mse: 273.5864\n",
            "Epoch 408/500\n",
            "2/2 [==============================] - 0s 7ms/step - loss: 5.6040 - mse: 41.9198\n",
            "Epoch 409/500\n",
            "2/2 [==============================] - 0s 8ms/step - loss: 31.6146 - mse: 1548.8711\n",
            "Epoch 410/500\n",
            "2/2 [==============================] - 0s 5ms/step - loss: 9.1272 - mse: 222.4091\n",
            "Epoch 411/500\n",
            "2/2 [==============================] - 0s 6ms/step - loss: 14.7810 - mse: 283.5932\n",
            "Epoch 412/500\n",
            "2/2 [==============================] - 0s 4ms/step - loss: 21.6179 - mse: 716.3934\n",
            "Epoch 413/500\n",
            "2/2 [==============================] - 0s 9ms/step - loss: 12.9748 - mse: 262.3860\n",
            "Epoch 414/500\n",
            "2/2 [==============================] - 0s 6ms/step - loss: 8.2809 - mse: 180.3745\n",
            "Epoch 415/500\n",
            "2/2 [==============================] - 0s 7ms/step - loss: 11.7033 - mse: 240.5079\n",
            "Epoch 416/500\n",
            "2/2 [==============================] - 0s 7ms/step - loss: 25.6648 - mse: 917.3312\n",
            "Epoch 417/500\n",
            "2/2 [==============================] - 0s 9ms/step - loss: 15.6302 - mse: 373.0489\n",
            "Epoch 418/500\n",
            "2/2 [==============================] - 0s 4ms/step - loss: 12.5976 - mse: 232.1197\n",
            "Epoch 419/500\n",
            "2/2 [==============================] - 0s 3ms/step - loss: 15.7161 - mse: 361.9624\n",
            "Epoch 420/500\n",
            "2/2 [==============================] - 0s 6ms/step - loss: 24.4518 - mse: 831.6743\n",
            "Epoch 421/500\n",
            "2/2 [==============================] - 0s 5ms/step - loss: 18.2049 - mse: 482.8632\n",
            "Epoch 422/500\n",
            "2/2 [==============================] - 0s 3ms/step - loss: 8.5847 - mse: 201.1669\n",
            "Epoch 423/500\n",
            "2/2 [==============================] - 0s 11ms/step - loss: 24.6375 - mse: 861.0783\n",
            "Epoch 424/500\n",
            "2/2 [==============================] - 0s 5ms/step - loss: 16.8831 - mse: 438.6650\n",
            "Epoch 425/500\n",
            "2/2 [==============================] - 0s 3ms/step - loss: 7.2461 - mse: 77.3223\n",
            "Epoch 426/500\n",
            "2/2 [==============================] - 0s 3ms/step - loss: 21.0766 - mse: 614.9274\n",
            "Epoch 427/500\n",
            "2/2 [==============================] - 0s 11ms/step - loss: 6.4432 - mse: 81.3365\n",
            "Epoch 428/500\n",
            "2/2 [==============================] - 0s 5ms/step - loss: 13.5406 - mse: 301.5028\n",
            "Epoch 429/500\n",
            "2/2 [==============================] - 0s 5ms/step - loss: 11.5223 - mse: 216.5070\n",
            "Epoch 430/500\n",
            "2/2 [==============================] - 0s 6ms/step - loss: 10.2725 - mse: 215.7764\n",
            "Epoch 431/500\n",
            "2/2 [==============================] - 0s 5ms/step - loss: 11.5636 - mse: 247.5543\n",
            "Epoch 432/500\n",
            "2/2 [==============================] - 0s 4ms/step - loss: 9.9666 - mse: 187.7931\n",
            "Epoch 433/500\n",
            "2/2 [==============================] - 0s 8ms/step - loss: 3.4791 - mse: 16.9056\n",
            "Epoch 434/500\n",
            "2/2 [==============================] - 0s 6ms/step - loss: 37.3350 - mse: 2206.5417\n",
            "Epoch 435/500\n",
            "2/2 [==============================] - 0s 4ms/step - loss: 14.1516 - mse: 323.5082\n",
            "Epoch 436/500\n",
            "2/2 [==============================] - 0s 6ms/step - loss: 12.3636 - mse: 217.7946\n",
            "Epoch 437/500\n",
            "2/2 [==============================] - 0s 4ms/step - loss: 16.2452 - mse: 346.2302\n",
            "Epoch 438/500\n",
            "2/2 [==============================] - 0s 5ms/step - loss: 13.9256 - mse: 283.3562\n",
            "Epoch 439/500\n",
            "2/2 [==============================] - 0s 16ms/step - loss: 31.9835 - mse: 1422.2478\n",
            "Epoch 440/500\n",
            "2/2 [==============================] - 0s 5ms/step - loss: 12.4610 - mse: 257.1582\n",
            "Epoch 441/500\n",
            "2/2 [==============================] - 0s 5ms/step - loss: 15.7539 - mse: 346.1712\n",
            "Epoch 442/500\n",
            "2/2 [==============================] - 0s 7ms/step - loss: 23.6724 - mse: 830.5516\n",
            "Epoch 443/500\n",
            "2/2 [==============================] - 0s 4ms/step - loss: 20.1869 - mse: 571.0022\n",
            "Epoch 444/500\n",
            "2/2 [==============================] - 0s 5ms/step - loss: 8.8075 - mse: 145.0104\n",
            "Epoch 445/500\n",
            "2/2 [==============================] - 0s 5ms/step - loss: 13.9873 - mse: 273.5395\n",
            "Epoch 446/500\n",
            "2/2 [==============================] - 0s 4ms/step - loss: 16.6497 - mse: 439.7879\n",
            "Epoch 447/500\n",
            "2/2 [==============================] - 0s 5ms/step - loss: 6.7724 - mse: 68.0983\n",
            "Epoch 448/500\n",
            "2/2 [==============================] - 0s 7ms/step - loss: 5.9932 - mse: 99.4754\n",
            "Epoch 449/500\n",
            "2/2 [==============================] - 0s 10ms/step - loss: 16.2159 - mse: 379.0424\n",
            "Epoch 450/500\n",
            "2/2 [==============================] - 0s 8ms/step - loss: 15.1382 - mse: 318.0272\n",
            "Epoch 451/500\n",
            "2/2 [==============================] - 0s 5ms/step - loss: 16.7965 - mse: 464.4365\n",
            "Epoch 452/500\n",
            "2/2 [==============================] - 0s 3ms/step - loss: 46.3610 - mse: 3795.6528\n",
            "Epoch 453/500\n",
            "2/2 [==============================] - 0s 6ms/step - loss: 26.7492 - mse: 1038.2166\n",
            "Epoch 454/500\n",
            "2/2 [==============================] - 0s 8ms/step - loss: 23.4255 - mse: 800.7764\n",
            "Epoch 455/500\n",
            "2/2 [==============================] - 0s 5ms/step - loss: 8.8227 - mse: 152.6138\n",
            "Epoch 456/500\n",
            "2/2 [==============================] - 0s 6ms/step - loss: 12.9224 - mse: 265.6943\n",
            "Epoch 457/500\n",
            "2/2 [==============================] - 0s 7ms/step - loss: 16.2042 - mse: 387.0935\n",
            "Epoch 458/500\n",
            "2/2 [==============================] - 0s 6ms/step - loss: 13.1297 - mse: 293.0237\n",
            "Epoch 459/500\n",
            "2/2 [==============================] - 0s 7ms/step - loss: 24.1870 - mse: 859.6810\n",
            "Epoch 460/500\n",
            "2/2 [==============================] - 0s 10ms/step - loss: 19.4875 - mse: 543.3801\n",
            "Epoch 461/500\n",
            "2/2 [==============================] - 0s 3ms/step - loss: 9.6672 - mse: 264.5860\n",
            "Epoch 462/500\n",
            "2/2 [==============================] - 0s 4ms/step - loss: 12.9494 - mse: 240.6241\n",
            "Epoch 463/500\n",
            "2/2 [==============================] - 0s 6ms/step - loss: 28.8185 - mse: 1164.1667\n",
            "Epoch 464/500\n",
            "2/2 [==============================] - 0s 3ms/step - loss: 7.4871 - mse: 113.3609\n",
            "Epoch 465/500\n",
            "2/2 [==============================] - 0s 14ms/step - loss: 15.8110 - mse: 368.2714\n",
            "Epoch 466/500\n",
            "2/2 [==============================] - 0s 5ms/step - loss: 9.3086 - mse: 259.6674\n",
            "Epoch 467/500\n",
            "2/2 [==============================] - 0s 33ms/step - loss: 21.4326 - mse: 713.0658\n",
            "Epoch 468/500\n",
            "2/2 [==============================] - 0s 8ms/step - loss: 24.0424 - mse: 816.1470\n",
            "Epoch 469/500\n",
            "2/2 [==============================] - 0s 4ms/step - loss: 21.4812 - mse: 654.5864\n",
            "Epoch 470/500\n",
            "2/2 [==============================] - 0s 4ms/step - loss: 9.7192 - mse: 182.6497\n",
            "Epoch 471/500\n",
            "2/2 [==============================] - 0s 8ms/step - loss: 16.2748 - mse: 402.7622\n",
            "Epoch 472/500\n",
            "2/2 [==============================] - 0s 3ms/step - loss: 14.8546 - mse: 301.9553\n",
            "Epoch 473/500\n",
            "2/2 [==============================] - 0s 7ms/step - loss: 18.1335 - mse: 515.0904\n",
            "Epoch 474/500\n",
            "2/2 [==============================] - 0s 5ms/step - loss: 42.4419 - mse: 2843.1177\n",
            "Epoch 475/500\n",
            "2/2 [==============================] - 0s 3ms/step - loss: 18.1343 - mse: 468.1024\n",
            "Epoch 476/500\n",
            "2/2 [==============================] - 0s 7ms/step - loss: 13.1620 - mse: 242.4464\n",
            "Epoch 477/500\n",
            "2/2 [==============================] - 0s 6ms/step - loss: 29.2122 - mse: 1194.2977\n",
            "Epoch 478/500\n",
            "2/2 [==============================] - 0s 8ms/step - loss: 5.7929 - mse: 72.8212\n",
            "Epoch 479/500\n",
            "2/2 [==============================] - 0s 12ms/step - loss: 6.3467 - mse: 110.1568\n",
            "Epoch 480/500\n",
            "2/2 [==============================] - 0s 11ms/step - loss: 20.0176 - mse: 621.3151\n",
            "Epoch 481/500\n",
            "2/2 [==============================] - 0s 5ms/step - loss: 25.1343 - mse: 945.9955\n",
            "Epoch 482/500\n",
            "2/2 [==============================] - 0s 10ms/step - loss: 13.7046 - mse: 287.2496\n",
            "Epoch 483/500\n",
            "2/2 [==============================] - 0s 5ms/step - loss: 8.7319 - mse: 206.9406\n",
            "Epoch 484/500\n",
            "2/2 [==============================] - 0s 5ms/step - loss: 27.7787 - mse: 1094.1404\n",
            "Epoch 485/500\n",
            "2/2 [==============================] - 0s 11ms/step - loss: 9.2595 - mse: 181.7203\n",
            "Epoch 486/500\n",
            "2/2 [==============================] - 0s 6ms/step - loss: 4.2764 - mse: 37.3886\n",
            "Epoch 487/500\n",
            "2/2 [==============================] - 0s 7ms/step - loss: 11.3816 - mse: 288.6179\n",
            "Epoch 488/500\n",
            "2/2 [==============================] - 0s 7ms/step - loss: 27.0981 - mse: 1068.7654\n",
            "Epoch 489/500\n",
            "2/2 [==============================] - 0s 6ms/step - loss: 5.2149 - mse: 76.5981\n",
            "Epoch 490/500\n",
            "2/2 [==============================] - 0s 3ms/step - loss: 5.9868 - mse: 94.8564\n",
            "Epoch 491/500\n",
            "2/2 [==============================] - 0s 8ms/step - loss: 18.9389 - mse: 510.9944\n",
            "Epoch 492/500\n",
            "2/2 [==============================] - 0s 10ms/step - loss: 7.4010 - mse: 170.2054\n",
            "Epoch 493/500\n",
            "2/2 [==============================] - 0s 6ms/step - loss: 18.2777 - mse: 488.5852\n",
            "Epoch 494/500\n",
            "2/2 [==============================] - 0s 5ms/step - loss: 18.4784 - mse: 537.6639\n",
            "Epoch 495/500\n",
            "2/2 [==============================] - 0s 4ms/step - loss: 6.2882 - mse: 57.4851\n",
            "Epoch 496/500\n",
            "2/2 [==============================] - 0s 7ms/step - loss: 6.3559 - mse: 86.2533\n",
            "Epoch 497/500\n",
            "2/2 [==============================] - 0s 5ms/step - loss: 13.7619 - mse: 299.9114\n",
            "Epoch 498/500\n",
            "2/2 [==============================] - 0s 6ms/step - loss: 6.7244 - mse: 75.2695\n",
            "Epoch 499/500\n",
            "2/2 [==============================] - 0s 10ms/step - loss: 17.6583 - mse: 449.7725\n",
            "Epoch 500/500\n",
            "2/2 [==============================] - 0s 13ms/step - loss: 14.2464 - mse: 266.7622\n",
            "Model: \"sequential\"\n",
            "_________________________________________________________________\n",
            "Layer (type)                 Output Shape              Param #   \n",
            "=================================================================\n",
            "dense (Dense)                (None, 1)                 2         \n",
            "=================================================================\n",
            "Total params: 2\n",
            "Trainable params: 2\n",
            "Non-trainable params: 0\n",
            "_________________________________________________________________\n"
          ],
          "name": "stdout"
        }
      ]
    },
    {
      "cell_type": "code",
      "metadata": {
        "colab": {
          "base_uri": "https://localhost:8080/",
          "height": 465
        },
        "id": "IUrKEgJpu8a3",
        "outputId": "4680c11c-dc9d-440c-8ac1-583b43394a60"
      },
      "source": [
        "y_pred_im_2 = model_im_2.predict(X_test)\n",
        "plot_predictions(predictions=y_pred_im_2)\n"
      ],
      "execution_count": 34,
      "outputs": [
        {
          "output_type": "stream",
          "text": [
            "WARNING:tensorflow:5 out of the last 5 calls to <function Model.make_predict_function.<locals>.predict_function at 0x7f8ec6632830> triggered tf.function retracing. Tracing is expensive and the excessive number of tracings could be due to (1) creating @tf.function repeatedly in a loop, (2) passing tensors with different shapes, (3) passing Python objects instead of tensors. For (1), please define your @tf.function outside of the loop. For (2), @tf.function has experimental_relax_shapes=True option that relaxes argument shapes that can avoid unnecessary retracing. For (3), please refer to https://www.tensorflow.org/guide/function#controlling_retracing and https://www.tensorflow.org/api_docs/python/tf/function for  more details.\n"
          ],
          "name": "stdout"
        },
        {
          "output_type": "display_data",
          "data": {
            "image/png": "[encoded data removed]",
            "text/plain": [
              "<Figure size 720x504 with 1 Axes>"
            ]
          },
          "metadata": {
            "tags": [],
            "needs_background": "light"
          }
        }
      ]
    },
    {
      "cell_type": "code",
      "metadata": {
        "colab": {
          "base_uri": "https://localhost:8080/"
        },
        "id": "sNGmBe5LoTGD",
        "outputId": "85dab69c-29ed-4678-f157-c75c367b074b"
      },
      "source": [
        "mae_3 = mae(y_true=y_test, y_pred=tf.squeeze(y_pred_im_2))\n",
        "mse_3 = mse(y_true=y_test, y_pred=tf.squeeze(y_pred_im_2))\n",
        "mae_3,mse_3"
      ],
      "execution_count": 37,
      "outputs": [
        {
          "output_type": "execute_result",
          "data": {
            "text/plain": [
              "(<tf.Tensor: shape=(), dtype=float32, numpy=67.42881>,\n",
              " <tf.Tensor: shape=(), dtype=float32, numpy=4630.2188>)"
            ]
          },
          "metadata": {
            "tags": []
          },
          "execution_count": 37
        }
      ]
    }
  ]
}