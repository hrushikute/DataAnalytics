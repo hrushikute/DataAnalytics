{
  "nbformat": 4,
  "nbformat_minor": 0,
  "metadata": {
    "colab": {
      "name": "01_neural_ntewrok_regression_with_tensorflow.ipynb",
      "provenance": [],
      "collapsed_sections": [],
      "authorship_tag": "ABX9TyPPj/LvTddcBVCmJW8RJ8go",
      "include_colab_link": true
    },
    "kernelspec": {
      "name": "python3",
      "display_name": "Python 3"
    },
    "language_info": {
      "name": "python"
    }
  },
  "cells": [
    {
      "cell_type": "markdown",
      "metadata": {
        "id": "view-in-github",
        "colab_type": "text"
      },
      "source": [
        "<a href=\"https://colab.research.google.com/github/hrushikute/DataAnalytics/blob/master/01_neural_ntewrok_regression_with_tensorflow.ipynb\" target=\"_parent\"><img src=\"https://colab.research.google.com/assets/colab-badge.svg\" alt=\"Open In Colab\"/></a>"
      ]
    },
    {
      "cell_type": "markdown",
      "metadata": {
        "id": "zH2rx0NSvKJ8"
      },
      "source": [
        "# Introduction to NN in Tensorflow"
      ]
    },
    {
      "cell_type": "code",
      "metadata": {
        "colab": {
          "base_uri": "https://localhost:8080/"
        },
        "id": "KEmA6N3PwkLp",
        "outputId": "edc7a6aa-7fae-46a1-b86b-6d6bacdfe4f6"
      },
      "source": [
        "import tensorflow as tf\n",
        "print(tf.__version__)"
      ],
      "execution_count": 59,
      "outputs": [
        {
          "output_type": "stream",
          "text": [
            "2.5.0\n"
          ],
          "name": "stdout"
        }
      ]
    },
    {
      "cell_type": "markdown",
      "metadata": {
        "id": "NJWCVGWww5pm"
      },
      "source": [
        "## Creating  a data to view and fit "
      ]
    },
    {
      "cell_type": "code",
      "metadata": {
        "colab": {
          "base_uri": "https://localhost:8080/",
          "height": 286
        },
        "id": "FzZKr9RBxGk4",
        "outputId": "5802f8e1-6186-4c8d-eb91-d94d327d7ccf"
      },
      "source": [
        "import numpy as np\n",
        "import matplotlib.pyplot as plt\n",
        "\n",
        "#create features\n",
        "\n",
        "X = np.array([-7.,-4.0,-1,2.0,5.0,8,11,14.0])\n",
        "X\n",
        "#Create labels\n",
        "y = np.array([3,6,9.0,12,15.0,18,21,24])\n",
        "plt.scatter(X,y)"
      ],
      "execution_count": 60,
      "outputs": [
        {
          "output_type": "execute_result",
          "data": {
            "text/plain": [
              "<matplotlib.collections.PathCollection at 0x7fc939bf0490>"
            ]
          },
          "metadata": {
            "tags": []
          },
          "execution_count": 60
        },
        {
          "output_type": "display_data",
          "data": {
            "image/png": "[encoded data removed]",
            "text/plain": [
              "<Figure size 432x288 with 1 Axes>"
            ]
          },
          "metadata": {
            "tags": [],
            "needs_background": "light"
          }
        }
      ]
    },
    {
      "cell_type": "code",
      "metadata": {
        "colab": {
          "base_uri": "https://localhost:8080/"
        },
        "id": "v-7cf1MPyHiI",
        "outputId": "3bdb0dfd-32b2-475c-c45d-3ed65ff6fef5"
      },
      "source": [
        "y ==X+10\n"
      ],
      "execution_count": 61,
      "outputs": [
        {
          "output_type": "execute_result",
          "data": {
            "text/plain": [
              "array([ True,  True,  True,  True,  True,  True,  True,  True])"
            ]
          },
          "metadata": {
            "tags": []
          },
          "execution_count": 61
        }
      ]
    },
    {
      "cell_type": "markdown",
      "metadata": {
        "id": "vAd-et-dyKW6"
      },
      "source": [
        "** Input and output shapes"
      ]
    },
    {
      "cell_type": "code",
      "metadata": {
        "colab": {
          "base_uri": "https://localhost:8080/"
        },
        "id": "LJHe_yRAygHU",
        "outputId": "b22afeb7-d48a-4167-f2b9-a5a6d51f0ea6"
      },
      "source": [
        "##create a demo tensor for out housing price prediction problme\n",
        "house_info = tf.constant([\"bedroom\",\"bathroom\",\"garage\"])\n",
        "house_price = tf.constant([939700])\n",
        "house_info, house_price"
      ],
      "execution_count": 62,
      "outputs": [
        {
          "output_type": "execute_result",
          "data": {
            "text/plain": [
              "(<tf.Tensor: shape=(3,), dtype=string, numpy=array([b'bedroom', b'bathroom', b'garage'], dtype=object)>,\n",
              " <tf.Tensor: shape=(1,), dtype=int32, numpy=array([939700], dtype=int32)>)"
            ]
          },
          "metadata": {
            "tags": []
          },
          "execution_count": 62
        }
      ]
    },
    {
      "cell_type": "code",
      "metadata": {
        "colab": {
          "base_uri": "https://localhost:8080/"
        },
        "id": "tuiEXvgDy7go",
        "outputId": "6ba0969b-3052-4222-f633-227ce3849de5"
      },
      "source": [
        "input_shape = X.shape\n",
        "output_shape = y.shape\n",
        "\n",
        "input_shape, output_shape"
      ],
      "execution_count": 63,
      "outputs": [
        {
          "output_type": "execute_result",
          "data": {
            "text/plain": [
              "((8,), (8,))"
            ]
          },
          "metadata": {
            "tags": []
          },
          "execution_count": 63
        }
      ]
    },
    {
      "cell_type": "code",
      "metadata": {
        "colab": {
          "base_uri": "https://localhost:8080/"
        },
        "id": "RT087ZOSzDdC",
        "outputId": "fe3aca3f-e64c-443e-9041-981a5e8c7c4c"
      },
      "source": [
        "# trun numpyt array tensors\n",
        "X=tf.constant(X)\n",
        "y=tf.constant(y)\n",
        "X,y"
      ],
      "execution_count": 64,
      "outputs": [
        {
          "output_type": "execute_result",
          "data": {
            "text/plain": [
              "(<tf.Tensor: shape=(8,), dtype=float64, numpy=array([-7., -4., -1.,  2.,  5.,  8., 11., 14.])>,\n",
              " <tf.Tensor: shape=(8,), dtype=float64, numpy=array([ 3.,  6.,  9., 12., 15., 18., 21., 24.])>)"
            ]
          },
          "metadata": {
            "tags": []
          },
          "execution_count": 64
        }
      ]
    },
    {
      "cell_type": "code",
      "metadata": {
        "colab": {
          "base_uri": "https://localhost:8080/",
          "height": 286
        },
        "id": "cLnreoJu0HLc",
        "outputId": "269c1f37-ffe3-438e-bea0-83b8506aff8e"
      },
      "source": [
        "plt.scatter(X,y)"
      ],
      "execution_count": 65,
      "outputs": [
        {
          "output_type": "execute_result",
          "data": {
            "text/plain": [
              "<matplotlib.collections.PathCollection at 0x7fc930648d50>"
            ]
          },
          "metadata": {
            "tags": []
          },
          "execution_count": 65
        },
        {
          "output_type": "display_data",
          "data": {
            "image/png": "[encoded data removed]",
            "text/plain": [
              "<Figure size 432x288 with 1 Axes>"
            ]
          },
          "metadata": {
            "tags": [],
            "needs_background": "light"
          }
        }
      ]
    },
    {
      "cell_type": "markdown",
      "metadata": {
        "id": "G4CUyTUr0J6D"
      },
      "source": [
        "#Steps in modelling with Tensor flow"
      ]
    },
    {
      "cell_type": "code",
      "metadata": {
        "colab": {
          "base_uri": "https://localhost:8080/"
        },
        "id": "XDgyj_1I0OAt",
        "outputId": "efe96dba-3029-4274-bffc-4ddc84622127"
      },
      "source": [
        "#set random seed\n",
        "tf.random.set_seed(42)\n",
        "\n",
        "# Create a model using the Sequential\n",
        "model = tf.keras.Sequential([\n",
        "                             tf.keras.layers.Dense(1)\n",
        "                             ])\n",
        "\n",
        "# Compile the model\n",
        "\n",
        "model.compile(loss=tf.keras.losses.mae,\n",
        "              optimizer=tf.keras.optimizers.SGD(),\n",
        "              metrics=['mae']\n",
        "              )\n",
        "\n",
        "#fit the model\n",
        "model.fit(X,y,epochs=5)\n"
      ],
      "execution_count": 66,
      "outputs": [
        {
          "output_type": "stream",
          "text": [
            "Epoch 1/5\n",
            "1/1 [==============================] - 0s 225ms/step - loss: 11.5048 - mae: 11.5048\n",
            "Epoch 2/5\n",
            "1/1 [==============================] - 0s 6ms/step - loss: 11.3723 - mae: 11.3723\n",
            "Epoch 3/5\n",
            "1/1 [==============================] - 0s 4ms/step - loss: 11.2398 - mae: 11.2398\n",
            "Epoch 4/5\n",
            "1/1 [==============================] - 0s 4ms/step - loss: 11.1073 - mae: 11.1073\n",
            "Epoch 5/5\n",
            "1/1 [==============================] - 0s 3ms/step - loss: 10.9748 - mae: 10.9748\n"
          ],
          "name": "stdout"
        },
        {
          "output_type": "execute_result",
          "data": {
            "text/plain": [
              "<tensorflow.python.keras.callbacks.History at 0x7fc9391fb710>"
            ]
          },
          "metadata": {
            "tags": []
          },
          "execution_count": 66
        }
      ]
    },
    {
      "cell_type": "code",
      "metadata": {
        "colab": {
          "base_uri": "https://localhost:8080/"
        },
        "id": "gKbgUDPg4Mz5",
        "outputId": "02b8a9a9-533c-4b90-f225-16a52aba0826"
      },
      "source": [
        "model.predict([17.0])"
      ],
      "execution_count": 67,
      "outputs": [
        {
          "output_type": "stream",
          "text": [
            "WARNING:tensorflow:5 out of the last 6 calls to <function Model.make_predict_function.<locals>.predict_function at 0x7fc9840baf80> triggered tf.function retracing. Tracing is expensive and the excessive number of tracings could be due to (1) creating @tf.function repeatedly in a loop, (2) passing tensors with different shapes, (3) passing Python objects instead of tensors. For (1), please define your @tf.function outside of the loop. For (2), @tf.function has experimental_relax_shapes=True option that relaxes argument shapes that can avoid unnecessary retracing. For (3), please refer to https://www.tensorflow.org/guide/function#controlling_retracing and https://www.tensorflow.org/api_docs/python/tf/function for  more details.\n"
          ],
          "name": "stdout"
        },
        {
          "output_type": "execute_result",
          "data": {
            "text/plain": [
              "array([[12.716021]], dtype=float32)"
            ]
          },
          "metadata": {
            "tags": []
          },
          "execution_count": 67
        }
      ]
    },
    {
      "cell_type": "markdown",
      "metadata": {
        "id": "0BliqFmp4hRZ"
      },
      "source": [
        "#improving the model"
      ]
    },
    {
      "cell_type": "code",
      "metadata": {
        "colab": {
          "base_uri": "https://localhost:8080/"
        },
        "id": "hFHg5RE6LsAD",
        "outputId": "27297863-5749-4a87-9ed9-5951bbea057f"
      },
      "source": [
        "#lets rebuild out model\n",
        "# 1. Create amodel\n",
        "model_imporve = tf.keras.Sequential([\n",
        "                                     tf.keras.layers.Dense(50,activation=None),\n",
        "                                     tf.keras.layers.Dense(1)\n",
        "                                     ])\n",
        "# 2. Comiple the model\n",
        "model_imporve.compile(loss=tf.keras.losses.mae,\n",
        "                      optimizer=tf.keras.optimizers.Adam(learning_rate=0.01),\n",
        "                      metrics=['mae'])\n",
        "#3. Fit the model\n",
        "model_imporve.fit(X,y,epochs=100)"
      ],
      "execution_count": 68,
      "outputs": [
        {
          "output_type": "stream",
          "text": [
            "Epoch 1/100\n",
            "1/1 [==============================] - 0s 301ms/step - loss: 14.6466 - mae: 14.6466\n",
            "Epoch 2/100\n",
            "1/1 [==============================] - 0s 7ms/step - loss: 13.9532 - mae: 13.9532\n",
            "Epoch 3/100\n",
            "1/1 [==============================] - 0s 4ms/step - loss: 13.2603 - mae: 13.2603\n",
            "Epoch 4/100\n",
            "1/1 [==============================] - 0s 3ms/step - loss: 12.5659 - mae: 12.5659\n",
            "Epoch 5/100\n",
            "1/1 [==============================] - 0s 4ms/step - loss: 11.8675 - mae: 11.8675\n",
            "Epoch 6/100\n",
            "1/1 [==============================] - 0s 4ms/step - loss: 11.1621 - mae: 11.1621\n",
            "Epoch 7/100\n",
            "1/1 [==============================] - 0s 5ms/step - loss: 10.4475 - mae: 10.4475\n",
            "Epoch 8/100\n",
            "1/1 [==============================] - 0s 3ms/step - loss: 9.7214 - mae: 9.7214\n",
            "Epoch 9/100\n",
            "1/1 [==============================] - 0s 8ms/step - loss: 8.9817 - mae: 8.9817\n",
            "Epoch 10/100\n",
            "1/1 [==============================] - 0s 4ms/step - loss: 8.2262 - mae: 8.2262\n",
            "Epoch 11/100\n",
            "1/1 [==============================] - 0s 4ms/step - loss: 7.4526 - mae: 7.4526\n",
            "Epoch 12/100\n",
            "1/1 [==============================] - 0s 3ms/step - loss: 6.6585 - mae: 6.6585\n",
            "Epoch 13/100\n",
            "1/1 [==============================] - 0s 4ms/step - loss: 6.6244 - mae: 6.6244\n",
            "Epoch 14/100\n",
            "1/1 [==============================] - 0s 7ms/step - loss: 6.9777 - mae: 6.9777\n",
            "Epoch 15/100\n",
            "1/1 [==============================] - 0s 4ms/step - loss: 7.2653 - mae: 7.2653\n",
            "Epoch 16/100\n",
            "1/1 [==============================] - 0s 7ms/step - loss: 7.4820 - mae: 7.4820\n",
            "Epoch 17/100\n",
            "1/1 [==============================] - 0s 3ms/step - loss: 7.4879 - mae: 7.4879\n",
            "Epoch 18/100\n",
            "1/1 [==============================] - 0s 4ms/step - loss: 7.3301 - mae: 7.3301\n",
            "Epoch 19/100\n",
            "1/1 [==============================] - 0s 7ms/step - loss: 7.0454 - mae: 7.0454\n",
            "Epoch 20/100\n",
            "1/1 [==============================] - 0s 13ms/step - loss: 6.7251 - mae: 6.7251\n",
            "Epoch 21/100\n",
            "1/1 [==============================] - 0s 6ms/step - loss: 6.4643 - mae: 6.4643\n",
            "Epoch 22/100\n",
            "1/1 [==============================] - 0s 4ms/step - loss: 6.1900 - mae: 6.1900\n",
            "Epoch 23/100\n",
            "1/1 [==============================] - 0s 7ms/step - loss: 5.9246 - mae: 5.9246\n",
            "Epoch 24/100\n",
            "1/1 [==============================] - 0s 6ms/step - loss: 5.8782 - mae: 5.8782\n",
            "Epoch 25/100\n",
            "1/1 [==============================] - 0s 5ms/step - loss: 5.8276 - mae: 5.8276\n",
            "Epoch 26/100\n",
            "1/1 [==============================] - 0s 5ms/step - loss: 5.9724 - mae: 5.9724\n",
            "Epoch 27/100\n",
            "1/1 [==============================] - 0s 6ms/step - loss: 6.0130 - mae: 6.0130\n",
            "Epoch 28/100\n",
            "1/1 [==============================] - 0s 6ms/step - loss: 5.9583 - mae: 5.9583\n",
            "Epoch 29/100\n",
            "1/1 [==============================] - 0s 4ms/step - loss: 5.8190 - mae: 5.8190\n",
            "Epoch 30/100\n",
            "1/1 [==============================] - 0s 4ms/step - loss: 5.6030 - mae: 5.6030\n",
            "Epoch 31/100\n",
            "1/1 [==============================] - 0s 7ms/step - loss: 5.3433 - mae: 5.3433\n",
            "Epoch 32/100\n",
            "1/1 [==============================] - 0s 4ms/step - loss: 5.2352 - mae: 5.2352\n",
            "Epoch 33/100\n",
            "1/1 [==============================] - 0s 3ms/step - loss: 5.1239 - mae: 5.1239\n",
            "Epoch 34/100\n",
            "1/1 [==============================] - 0s 19ms/step - loss: 5.0746 - mae: 5.0746\n",
            "Epoch 35/100\n",
            "1/1 [==============================] - 0s 4ms/step - loss: 5.0523 - mae: 5.0523\n",
            "Epoch 36/100\n",
            "1/1 [==============================] - 0s 7ms/step - loss: 4.9871 - mae: 4.9871\n",
            "Epoch 37/100\n",
            "1/1 [==============================] - 0s 3ms/step - loss: 4.8824 - mae: 4.8824\n",
            "Epoch 38/100\n",
            "1/1 [==============================] - 0s 3ms/step - loss: 4.7409 - mae: 4.7409\n",
            "Epoch 39/100\n",
            "1/1 [==============================] - 0s 5ms/step - loss: 4.5658 - mae: 4.5658\n",
            "Epoch 40/100\n",
            "1/1 [==============================] - 0s 3ms/step - loss: 4.4020 - mae: 4.4020\n",
            "Epoch 41/100\n",
            "1/1 [==============================] - 0s 5ms/step - loss: 4.3009 - mae: 4.3009\n",
            "Epoch 42/100\n",
            "1/1 [==============================] - 0s 11ms/step - loss: 4.1923 - mae: 4.1923\n",
            "Epoch 43/100\n",
            "1/1 [==============================] - 0s 5ms/step - loss: 4.0760 - mae: 4.0760\n",
            "Epoch 44/100\n",
            "1/1 [==============================] - 0s 4ms/step - loss: 4.0086 - mae: 4.0086\n",
            "Epoch 45/100\n",
            "1/1 [==============================] - 0s 5ms/step - loss: 3.8364 - mae: 3.8364\n",
            "Epoch 46/100\n",
            "1/1 [==============================] - 0s 3ms/step - loss: 3.6514 - mae: 3.6514\n",
            "Epoch 47/100\n",
            "1/1 [==============================] - 0s 3ms/step - loss: 3.4858 - mae: 3.4858\n",
            "Epoch 48/100\n",
            "1/1 [==============================] - 0s 4ms/step - loss: 3.3568 - mae: 3.3568\n",
            "Epoch 49/100\n",
            "1/1 [==============================] - 0s 6ms/step - loss: 3.2428 - mae: 3.2428\n",
            "Epoch 50/100\n",
            "1/1 [==============================] - 0s 3ms/step - loss: 3.0760 - mae: 3.0760\n",
            "Epoch 51/100\n",
            "1/1 [==============================] - 0s 3ms/step - loss: 2.8591 - mae: 2.8591\n",
            "Epoch 52/100\n",
            "1/1 [==============================] - 0s 4ms/step - loss: 2.6501 - mae: 2.6501\n",
            "Epoch 53/100\n",
            "1/1 [==============================] - 0s 3ms/step - loss: 2.4760 - mae: 2.4760\n",
            "Epoch 54/100\n",
            "1/1 [==============================] - 0s 3ms/step - loss: 2.3457 - mae: 2.3457\n",
            "Epoch 55/100\n",
            "1/1 [==============================] - 0s 3ms/step - loss: 2.1065 - mae: 2.1065\n",
            "Epoch 56/100\n",
            "1/1 [==============================] - 0s 3ms/step - loss: 1.8523 - mae: 1.8523\n",
            "Epoch 57/100\n",
            "1/1 [==============================] - 0s 5ms/step - loss: 1.7208 - mae: 1.7208\n",
            "Epoch 58/100\n",
            "1/1 [==============================] - 0s 9ms/step - loss: 1.5507 - mae: 1.5507\n",
            "Epoch 59/100\n",
            "1/1 [==============================] - 0s 4ms/step - loss: 1.2700 - mae: 1.2700\n",
            "Epoch 60/100\n",
            "1/1 [==============================] - 0s 9ms/step - loss: 0.9323 - mae: 0.9323\n",
            "Epoch 61/100\n",
            "1/1 [==============================] - 0s 7ms/step - loss: 0.8599 - mae: 0.8599\n",
            "Epoch 62/100\n",
            "1/1 [==============================] - 0s 7ms/step - loss: 0.6865 - mae: 0.6865\n",
            "Epoch 63/100\n",
            "1/1 [==============================] - 0s 7ms/step - loss: 0.3405 - mae: 0.3405\n",
            "Epoch 64/100\n",
            "1/1 [==============================] - 0s 8ms/step - loss: 0.1659 - mae: 0.1659\n",
            "Epoch 65/100\n",
            "1/1 [==============================] - 0s 4ms/step - loss: 0.4224 - mae: 0.4224\n",
            "Epoch 66/100\n",
            "1/1 [==============================] - 0s 4ms/step - loss: 0.4802 - mae: 0.4802\n",
            "Epoch 67/100\n",
            "1/1 [==============================] - 0s 4ms/step - loss: 0.6473 - mae: 0.6473\n",
            "Epoch 68/100\n",
            "1/1 [==============================] - 0s 9ms/step - loss: 0.6601 - mae: 0.6601\n",
            "Epoch 69/100\n",
            "1/1 [==============================] - 0s 4ms/step - loss: 0.7372 - mae: 0.7372\n",
            "Epoch 70/100\n",
            "1/1 [==============================] - 0s 3ms/step - loss: 0.7022 - mae: 0.7022\n",
            "Epoch 71/100\n",
            "1/1 [==============================] - 0s 4ms/step - loss: 0.6318 - mae: 0.6318\n",
            "Epoch 72/100\n",
            "1/1 [==============================] - 0s 3ms/step - loss: 0.6151 - mae: 0.6151\n",
            "Epoch 73/100\n",
            "1/1 [==============================] - 0s 5ms/step - loss: 0.4329 - mae: 0.4329\n",
            "Epoch 74/100\n",
            "1/1 [==============================] - 0s 3ms/step - loss: 0.4277 - mae: 0.4277\n",
            "Epoch 75/100\n",
            "1/1 [==============================] - 0s 5ms/step - loss: 0.3097 - mae: 0.3097\n",
            "Epoch 76/100\n",
            "1/1 [==============================] - 0s 3ms/step - loss: 0.0356 - mae: 0.0356\n",
            "Epoch 77/100\n",
            "1/1 [==============================] - 0s 3ms/step - loss: 0.4880 - mae: 0.4880\n",
            "Epoch 78/100\n",
            "1/1 [==============================] - 0s 3ms/step - loss: 0.6479 - mae: 0.6479\n",
            "Epoch 79/100\n",
            "1/1 [==============================] - 0s 4ms/step - loss: 0.6174 - mae: 0.6174\n",
            "Epoch 80/100\n",
            "1/1 [==============================] - 0s 5ms/step - loss: 0.4529 - mae: 0.4529\n",
            "Epoch 81/100\n",
            "1/1 [==============================] - 0s 3ms/step - loss: 0.6294 - mae: 0.6294\n",
            "Epoch 82/100\n",
            "1/1 [==============================] - 0s 4ms/step - loss: 0.7850 - mae: 0.7850\n",
            "Epoch 83/100\n",
            "1/1 [==============================] - 0s 8ms/step - loss: 0.6653 - mae: 0.6653\n",
            "Epoch 84/100\n",
            "1/1 [==============================] - 0s 7ms/step - loss: 0.3935 - mae: 0.3935\n",
            "Epoch 85/100\n",
            "1/1 [==============================] - 0s 4ms/step - loss: 0.5590 - mae: 0.5590\n",
            "Epoch 86/100\n",
            "1/1 [==============================] - 0s 2ms/step - loss: 0.6263 - mae: 0.6263\n",
            "Epoch 87/100\n",
            "1/1 [==============================] - 0s 20ms/step - loss: 0.5316 - mae: 0.5316\n",
            "Epoch 88/100\n",
            "1/1 [==============================] - 0s 3ms/step - loss: 0.2161 - mae: 0.2161\n",
            "Epoch 89/100\n",
            "1/1 [==============================] - 0s 3ms/step - loss: 0.3441 - mae: 0.3441\n",
            "Epoch 90/100\n",
            "1/1 [==============================] - 0s 5ms/step - loss: 0.5325 - mae: 0.5325\n",
            "Epoch 91/100\n",
            "1/1 [==============================] - 0s 5ms/step - loss: 0.4389 - mae: 0.4389\n",
            "Epoch 92/100\n",
            "1/1 [==============================] - 0s 4ms/step - loss: 0.2560 - mae: 0.2560\n",
            "Epoch 93/100\n",
            "1/1 [==============================] - 0s 3ms/step - loss: 0.5795 - mae: 0.5795\n",
            "Epoch 94/100\n",
            "1/1 [==============================] - 0s 3ms/step - loss: 0.7585 - mae: 0.7585\n",
            "Epoch 95/100\n",
            "1/1 [==============================] - 0s 5ms/step - loss: 0.6773 - mae: 0.6773\n",
            "Epoch 96/100\n",
            "1/1 [==============================] - 0s 2ms/step - loss: 0.3691 - mae: 0.3691\n",
            "Epoch 97/100\n",
            "1/1 [==============================] - 0s 4ms/step - loss: 0.3135 - mae: 0.3135\n",
            "Epoch 98/100\n",
            "1/1 [==============================] - 0s 7ms/step - loss: 0.5528 - mae: 0.5528\n",
            "Epoch 99/100\n",
            "1/1 [==============================] - 0s 3ms/step - loss: 0.5451 - mae: 0.5451\n",
            "Epoch 100/100\n",
            "1/1 [==============================] - 0s 3ms/step - loss: 0.2902 - mae: 0.2902\n"
          ],
          "name": "stdout"
        },
        {
          "output_type": "execute_result",
          "data": {
            "text/plain": [
              "<tensorflow.python.keras.callbacks.History at 0x7fc98406c6d0>"
            ]
          },
          "metadata": {
            "tags": []
          },
          "execution_count": 68
        }
      ]
    },
    {
      "cell_type": "code",
      "metadata": {
        "colab": {
          "base_uri": "https://localhost:8080/"
        },
        "id": "NpS7eG91Oub-",
        "outputId": "6af8ec70-d5ca-4b80-d064-94c72c17f52d"
      },
      "source": [
        "model_imporve.predict([17.0])"
      ],
      "execution_count": 69,
      "outputs": [
        {
          "output_type": "stream",
          "text": [
            "WARNING:tensorflow:6 out of the last 7 calls to <function Model.make_predict_function.<locals>.predict_function at 0x7fc983fc6170> triggered tf.function retracing. Tracing is expensive and the excessive number of tracings could be due to (1) creating @tf.function repeatedly in a loop, (2) passing tensors with different shapes, (3) passing Python objects instead of tensors. For (1), please define your @tf.function outside of the loop. For (2), @tf.function has experimental_relax_shapes=True option that relaxes argument shapes that can avoid unnecessary retracing. For (3), please refer to https://www.tensorflow.org/guide/function#controlling_retracing and https://www.tensorflow.org/api_docs/python/tf/function for  more details.\n"
          ],
          "name": "stdout"
        },
        {
          "output_type": "execute_result",
          "data": {
            "text/plain": [
              "array([[26.434414]], dtype=float32)"
            ]
          },
          "metadata": {
            "tags": []
          },
          "execution_count": 69
        }
      ]
    },
    {
      "cell_type": "markdown",
      "metadata": {
        "id": "mbEcRU3iegjg"
      },
      "source": [
        "Evaluating a model"
      ]
    },
    {
      "cell_type": "markdown",
      "metadata": {
        "id": "DK-weJyCekqK"
      },
      "source": [
        "1. Creating more data "
      ]
    },
    {
      "cell_type": "code",
      "metadata": {
        "colab": {
          "base_uri": "https://localhost:8080/"
        },
        "id": "sXp3uO9lerzA",
        "outputId": "0ceced40-00aa-46cb-9fe6-b2190e775b47"
      },
      "source": [
        "X = tf.range(-100,100,4)\n",
        "X"
      ],
      "execution_count": 70,
      "outputs": [
        {
          "output_type": "execute_result",
          "data": {
            "text/plain": [
              "<tf.Tensor: shape=(50,), dtype=int32, numpy=\n",
              "array([-100,  -96,  -92,  -88,  -84,  -80,  -76,  -72,  -68,  -64,  -60,\n",
              "        -56,  -52,  -48,  -44,  -40,  -36,  -32,  -28,  -24,  -20,  -16,\n",
              "        -12,   -8,   -4,    0,    4,    8,   12,   16,   20,   24,   28,\n",
              "         32,   36,   40,   44,   48,   52,   56,   60,   64,   68,   72,\n",
              "         76,   80,   84,   88,   92,   96], dtype=int32)>"
            ]
          },
          "metadata": {
            "tags": []
          },
          "execution_count": 70
        }
      ]
    },
    {
      "cell_type": "code",
      "metadata": {
        "colab": {
          "base_uri": "https://localhost:8080/"
        },
        "id": "KX-3-hAMe0uE",
        "outputId": "04078b02-185a-4342-eadf-506e61f19899"
      },
      "source": [
        "y = X + 10\n",
        "y"
      ],
      "execution_count": 71,
      "outputs": [
        {
          "output_type": "execute_result",
          "data": {
            "text/plain": [
              "<tf.Tensor: shape=(50,), dtype=int32, numpy=\n",
              "array([-90, -86, -82, -78, -74, -70, -66, -62, -58, -54, -50, -46, -42,\n",
              "       -38, -34, -30, -26, -22, -18, -14, -10,  -6,  -2,   2,   6,  10,\n",
              "        14,  18,  22,  26,  30,  34,  38,  42,  46,  50,  54,  58,  62,\n",
              "        66,  70,  74,  78,  82,  86,  90,  94,  98, 102, 106], dtype=int32)>"
            ]
          },
          "metadata": {
            "tags": []
          },
          "execution_count": 71
        }
      ]
    },
    {
      "cell_type": "code",
      "metadata": {
        "colab": {
          "base_uri": "https://localhost:8080/",
          "height": 281
        },
        "id": "BRFB2KPee5as",
        "outputId": "e74d1df9-dfa4-4505-d7d3-390799fe3c04"
      },
      "source": [
        "# visualize the data \n",
        "import matplotlib.pyplot as plt\n",
        "plt.scatter(X,y)"
      ],
      "execution_count": 72,
      "outputs": [
        {
          "output_type": "execute_result",
          "data": {
            "text/plain": [
              "<matplotlib.collections.PathCollection at 0x7fc983f1b350>"
            ]
          },
          "metadata": {
            "tags": []
          },
          "execution_count": 72
        },
        {
          "output_type": "display_data",
          "data": {
            "image/png": "[encoded data removed]",
            "text/plain": [
              "<Figure size 432x288 with 1 Axes>"
            ]
          },
          "metadata": {
            "tags": [],
            "needs_background": "light"
          }
        }
      ]
    },
    {
      "cell_type": "markdown",
      "metadata": {
        "id": "EBNxopQ_idZq"
      },
      "source": [
        "#split the data in Training and  Testing format.\n",
        "* Training data is usually 80% of data\n",
        "* Testing data is usually 20% of data for testing the model \n"
      ]
    },
    {
      "cell_type": "code",
      "metadata": {
        "id": "4Ve2-nA7i06X"
      },
      "source": [
        "X_train = X[:40]\n",
        "X_test = X[40:]\n",
        "\n",
        "y_train =y[:40]\n",
        "y_test =y[40:]\n"
      ],
      "execution_count": 73,
      "outputs": []
    },
    {
      "cell_type": "code",
      "metadata": {
        "colab": {
          "base_uri": "https://localhost:8080/",
          "height": 445
        },
        "id": "IU9UcGlQjIfR",
        "outputId": "f6b26c37-fb21-4311-9357-d7a3769cffb2"
      },
      "source": [
        "#visualize the training and test data\n",
        "\n",
        "plt.figure(figsize=(10,7))\n",
        "plt.scatter(X_train,y_train,c=\"b\", label=\"Training Data\")\n",
        "plt.scatter(X_test,y_test,c=\"g\", label =\" Testing Data\")\n",
        "plt.legend()"
      ],
      "execution_count": 74,
      "outputs": [
        {
          "output_type": "execute_result",
          "data": {
            "text/plain": [
              "<matplotlib.legend.Legend at 0x7fc983ef87d0>"
            ]
          },
          "metadata": {
            "tags": []
          },
          "execution_count": 74
        },
        {
          "output_type": "display_data",
          "data": {
            "image/png": "[encoded data removed]",
            "text/plain": [
              "<Figure size 720x504 with 1 Axes>"
            ]
          },
          "metadata": {
            "tags": [],
            "needs_background": "light"
          }
        }
      ]
    },
    {
      "cell_type": "code",
      "metadata": {
        "colab": {
          "base_uri": "https://localhost:8080/"
        },
        "id": "Wwd2_0hFkCYr",
        "outputId": "b1fe8059-6f04-4872-ae0a-e55f28f9663f"
      },
      "source": [
        "# 1. Create a model\n",
        "\n",
        "model_huge = tf.keras.Sequential([\n",
        "                                  tf.keras.layers.Dense(10,name=\"input_layer\"),\n",
        "                                  tf.keras.layers.Dense(1,name=\"output_layer\"),\n",
        "                                \n",
        "],name=\"huge_model\")\n",
        "\n",
        "#2. Compile the model\n",
        "model_huge.compile(loss=tf.keras.losses.mae,\n",
        "                   optimizer = tf.keras.optimizers.Adam(learning_rate=0.01),\n",
        "                   metrics=[\"mae\"]\n",
        ")\n",
        "\n",
        "#3. Fit the model\n",
        "\n",
        "model_huge.fit(X_train,y_train, epochs =100, verbose=0)\n",
        "model_huge.summary()"
      ],
      "execution_count": 75,
      "outputs": [
        {
          "output_type": "stream",
          "text": [
            "Model: \"huge_model\"\n",
            "_________________________________________________________________\n",
            "Layer (type)                 Output Shape              Param #   \n",
            "=================================================================\n",
            "input_layer (Dense)          (None, 10)                20        \n",
            "_________________________________________________________________\n",
            "output_layer (Dense)         (None, 1)                 11        \n",
            "=================================================================\n",
            "Total params: 31\n",
            "Trainable params: 31\n",
            "Non-trainable params: 0\n",
            "_________________________________________________________________\n"
          ],
          "name": "stdout"
        }
      ]
    },
    {
      "cell_type": "code",
      "metadata": {
        "colab": {
          "base_uri": "https://localhost:8080/",
          "height": 312
        },
        "id": "TtC7PU88cq0x",
        "outputId": "138d663e-623d-4157-d09d-6d2406941ccd"
      },
      "source": [
        "from tensorflow.keras.utils import plot_model\n",
        "plot_model(model=model_huge, show_shapes=True)"
      ],
      "execution_count": 76,
      "outputs": [
        {
          "output_type": "execute_result",
          "data": {
            "image/png": "[encoded data removed]",
            "text/plain": [
              "<IPython.core.display.Image object>"
            ]
          },
          "metadata": {
            "tags": []
          },
          "execution_count": 76
        }
      ]
    },
    {
      "cell_type": "markdown",
      "metadata": {
        "id": "4HnXHZ51Wbbf"
      },
      "source": [
        "## Visualizing our models predictions"
      ]
    },
    {
      "cell_type": "code",
      "metadata": {
        "colab": {
          "base_uri": "https://localhost:8080/"
        },
        "id": "MFnMvPz5Wvqm",
        "outputId": "2f9c616e-8f43-49ec-878a-f087491c2361"
      },
      "source": [
        "y_pred = model_huge.predict(X_test)\n",
        "y_pred"
      ],
      "execution_count": 77,
      "outputs": [
        {
          "output_type": "execute_result",
          "data": {
            "text/plain": [
              "array([[ 69.868454],\n",
              "       [ 73.85556 ],\n",
              "       [ 77.84266 ],\n",
              "       [ 81.829765],\n",
              "       [ 85.816864],\n",
              "       [ 89.80397 ],\n",
              "       [ 93.79108 ],\n",
              "       [ 97.778175],\n",
              "       [101.76529 ],\n",
              "       [105.752396]], dtype=float32)"
            ]
          },
          "metadata": {
            "tags": []
          },
          "execution_count": 77
        }
      ]
    },
    {
      "cell_type": "code",
      "metadata": {
        "colab": {
          "base_uri": "https://localhost:8080/"
        },
        "id": "Dqxu54_TXHEP",
        "outputId": "b363d98b-3403-4790-934c-b179182abdce"
      },
      "source": [
        "y_test"
      ],
      "execution_count": 78,
      "outputs": [
        {
          "output_type": "execute_result",
          "data": {
            "text/plain": [
              "<tf.Tensor: shape=(10,), dtype=int32, numpy=array([ 70,  74,  78,  82,  86,  90,  94,  98, 102, 106], dtype=int32)>"
            ]
          },
          "metadata": {
            "tags": []
          },
          "execution_count": 78
        }
      ]
    },
    {
      "cell_type": "code",
      "metadata": {
        "id": "5YE3Cv4jXJKg"
      },
      "source": [
        "# Lets create a plotting function\n",
        "def plot_predictions(train_data = X_train,\n",
        "                     train_labels = y_train,\n",
        "                     test_data = X_test,\n",
        "                     test_labels = y_test,\n",
        "                     predictions = y_pred):\n",
        "  plt.figure(figsize=(10,7))\n",
        "  plt.scatter(train_data,train_labels,c=\"b\", label=\"Training Data\")\n",
        "  plt.scatter(test_data,test_labels,c=\"g\", label=\"Testing Data\")\n",
        "  plt.scatter(test_data,predictions,c=\"r\", label=\"Predictions\")\n",
        "  plt.legend();\n",
        "\n"
      ],
      "execution_count": 79,
      "outputs": []
    },
    {
      "cell_type": "code",
      "metadata": {
        "colab": {
          "base_uri": "https://localhost:8080/",
          "height": 428
        },
        "id": "BlmdTtSDYv_m",
        "outputId": "e608c0dd-4a32-45e9-ad83-55574dd9c88e"
      },
      "source": [
        "plot_predictions(train_data = X_train,\n",
        "                     train_labels = y_train,\n",
        "                     test_data = X_test,\n",
        "                     test_labels = y_test,\n",
        "                     predictions = y_pred)"
      ],
      "execution_count": 80,
      "outputs": [
        {
          "output_type": "display_data",
          "data": {
            "image/png": "[encoded data removed]",
            "text/plain": [
              "<Figure size 720x504 with 1 Axes>"
            ]
          },
          "metadata": {
            "tags": [],
            "needs_background": "light"
          }
        }
      ]
    },
    {
      "cell_type": "markdown",
      "metadata": {
        "id": "5yHQ0NEwa1nt"
      },
      "source": [
        "## Evaluating our models prediction with regression evaluation metrics"
      ]
    },
    {
      "cell_type": "code",
      "metadata": {
        "colab": {
          "base_uri": "https://localhost:8080/"
        },
        "id": "c8NwoFhobM2m",
        "outputId": "b31f4d53-b052-4f64-9eb0-34dbda7c8cc1"
      },
      "source": [
        "model_huge.evaluate(X_test,y_test)"
      ],
      "execution_count": 81,
      "outputs": [
        {
          "output_type": "stream",
          "text": [
            "1/1 [==============================] - 0s 76ms/step - loss: 0.1896 - mae: 0.1896\n"
          ],
          "name": "stdout"
        },
        {
          "output_type": "execute_result",
          "data": {
            "text/plain": [
              "[0.18958130478858948, 0.18958130478858948]"
            ]
          },
          "metadata": {
            "tags": []
          },
          "execution_count": 81
        }
      ]
    },
    {
      "cell_type": "code",
      "metadata": {
        "id": "TTnCyHDjnluC"
      },
      "source": [
        "#Convert the y_pred to tensor\n",
        "\n",
        "y_test, y_pred\n",
        "\n",
        "y_pred=tf.squeeze(tf.constant(y_pred))"
      ],
      "execution_count": 82,
      "outputs": []
    },
    {
      "cell_type": "code",
      "metadata": {
        "colab": {
          "base_uri": "https://localhost:8080/"
        },
        "id": "eUoHRQqC-H_X",
        "outputId": "97d29bad-e586-40c2-cb61-9250a60895d5"
      },
      "source": [
        "mae = tf.metrics.mean_absolute_error(y_true=y_test,y_pred=y_pred)\n",
        "mae"
      ],
      "execution_count": 103,
      "outputs": [
        {
          "output_type": "execute_result",
          "data": {
            "text/plain": [
              "<tf.Tensor: shape=(), dtype=float32, numpy=0.18957901>"
            ]
          },
          "metadata": {
            "tags": []
          },
          "execution_count": 103
        }
      ]
    },
    {
      "cell_type": "code",
      "metadata": {
        "colab": {
          "base_uri": "https://localhost:8080/"
        },
        "id": "JQMGYNhU-a4R",
        "outputId": "fc10ae4f-f204-41c5-c0fb-5445b3896bea"
      },
      "source": [
        "mse = tf.metrics.mean_squared_error(y_true=y_test, y_pred=y_pred)\n",
        "mse"
      ],
      "execution_count": 84,
      "outputs": [
        {
          "output_type": "execute_result",
          "data": {
            "text/plain": [
              "<tf.Tensor: shape=(), dtype=float32, numpy=0.03731218>"
            ]
          },
          "metadata": {
            "tags": []
          },
          "execution_count": 84
        }
      ]
    },
    {
      "cell_type": "markdown",
      "metadata": {
        "id": "PRoXxGYR_EYG"
      },
      "source": [
        "#lets make function for mae and mse"
      ]
    },
    {
      "cell_type": "code",
      "metadata": {
        "id": "uQFXiA13_H3V"
      },
      "source": [
        "def mae(y_true, y_pred):\n",
        "  return tf.metrics.mean_absolute_error(y_true=y_true, \n",
        "                                        y_pred=y_pred)\n",
        "def mse(y_true, y_pred):\n",
        "  return tf.metrics.mean_squared_error(y_true=y_true, y_pred=y_pred)\n",
        "  "
      ],
      "execution_count": 104,
      "outputs": []
    },
    {
      "cell_type": "code",
      "metadata": {
        "colab": {
          "base_uri": "https://localhost:8080/"
        },
        "id": "UKYrU8neYNCc",
        "outputId": "4fcef9f2-2945-4616-e169-13d7b2318f4d"
      },
      "source": [
        "# Create a new improvement model with more epochs\n",
        "#1.Create model\n",
        "model_im_1 = tf.keras.Sequential([\n",
        "                                  tf.keras.layers.Dense(50),\n",
        "                                  tf.keras.layers.Dense(1)\n",
        "],name=\"model_improvement_1\")\n",
        "\n",
        "model_im_1.compile(loss=tf.keras.losses.mae,\n",
        "                   optimizer = tf.keras.optimizers.SGD(),\n",
        "                   metrics=[\"mse\"])\n",
        "model_im_1.fit(X_train,y_train, epochs=100)\n",
        "model_im_1.summary()"
      ],
      "execution_count": 97,
      "outputs": [
        {
          "output_type": "stream",
          "text": [
            "Epoch 1/100\n",
            "2/2 [==============================] - 0s 5ms/step - loss: 30.2098 - mse: 1669.6696\n",
            "Epoch 2/100\n",
            "2/2 [==============================] - 0s 7ms/step - loss: 26.9856 - mse: 1088.6732\n",
            "Epoch 3/100\n",
            "2/2 [==============================] - 0s 5ms/step - loss: 30.3038 - mse: 1361.1416\n",
            "Epoch 4/100\n",
            "2/2 [==============================] - 0s 3ms/step - loss: 15.5134 - mse: 377.3369\n",
            "Epoch 5/100\n",
            "2/2 [==============================] - 0s 3ms/step - loss: 22.1704 - mse: 719.8784\n",
            "Epoch 6/100\n",
            "2/2 [==============================] - 0s 3ms/step - loss: 12.0489 - mse: 174.0573\n",
            "Epoch 7/100\n",
            "2/2 [==============================] - 0s 2ms/step - loss: 13.2074 - mse: 248.3095\n",
            "Epoch 8/100\n",
            "2/2 [==============================] - 0s 4ms/step - loss: 11.2723 - mse: 172.7201\n",
            "Epoch 9/100\n",
            "2/2 [==============================] - 0s 6ms/step - loss: 42.1501 - mse: 2832.8555\n",
            "Epoch 10/100\n",
            "2/2 [==============================] - 0s 3ms/step - loss: 29.3297 - mse: 1216.7894\n",
            "Epoch 11/100\n",
            "2/2 [==============================] - 0s 2ms/step - loss: 7.6912 - mse: 84.2739\n",
            "Epoch 12/100\n",
            "2/2 [==============================] - 0s 3ms/step - loss: 28.7047 - mse: 1127.7898\n",
            "Epoch 13/100\n",
            "2/2 [==============================] - 0s 4ms/step - loss: 11.4958 - mse: 145.1613\n",
            "Epoch 14/100\n",
            "2/2 [==============================] - 0s 4ms/step - loss: 30.1552 - mse: 1455.6847\n",
            "Epoch 15/100\n",
            "2/2 [==============================] - 0s 4ms/step - loss: 19.9429 - mse: 557.4315\n",
            "Epoch 16/100\n",
            "2/2 [==============================] - 0s 3ms/step - loss: 9.9029 - mse: 125.6455\n",
            "Epoch 17/100\n",
            "2/2 [==============================] - 0s 3ms/step - loss: 17.8048 - mse: 419.9174\n",
            "Epoch 18/100\n",
            "2/2 [==============================] - 0s 4ms/step - loss: 14.2788 - mse: 322.7321\n",
            "Epoch 19/100\n",
            "2/2 [==============================] - 0s 3ms/step - loss: 14.3754 - mse: 325.1763\n",
            "Epoch 20/100\n",
            "2/2 [==============================] - 0s 3ms/step - loss: 10.4445 - mse: 149.1068\n",
            "Epoch 21/100\n",
            "2/2 [==============================] - 0s 3ms/step - loss: 15.1661 - mse: 311.7244\n",
            "Epoch 22/100\n",
            "2/2 [==============================] - 0s 3ms/step - loss: 15.4967 - mse: 330.6749\n",
            "Epoch 23/100\n",
            "2/2 [==============================] - 0s 3ms/step - loss: 9.2453 - mse: 118.7172\n",
            "Epoch 24/100\n",
            "2/2 [==============================] - 0s 2ms/step - loss: 17.2759 - mse: 409.1288\n",
            "Epoch 25/100\n",
            "2/2 [==============================] - 0s 3ms/step - loss: 15.9480 - mse: 334.2477\n",
            "Epoch 26/100\n",
            "2/2 [==============================] - 0s 3ms/step - loss: 20.9488 - mse: 650.2188\n",
            "Epoch 27/100\n",
            "2/2 [==============================] - 0s 3ms/step - loss: 25.9240 - mse: 1048.1967\n",
            "Epoch 28/100\n",
            "2/2 [==============================] - 0s 2ms/step - loss: 18.4276 - mse: 537.3967\n",
            "Epoch 29/100\n",
            "2/2 [==============================] - 0s 3ms/step - loss: 9.2457 - mse: 97.9308\n",
            "Epoch 30/100\n",
            "2/2 [==============================] - 0s 3ms/step - loss: 29.0375 - mse: 1505.2084\n",
            "Epoch 31/100\n",
            "2/2 [==============================] - 0s 4ms/step - loss: 52.5877 - mse: 4944.2339\n",
            "Epoch 32/100\n",
            "2/2 [==============================] - 0s 7ms/step - loss: 11.9115 - mse: 205.8316\n",
            "Epoch 33/100\n",
            "2/2 [==============================] - 0s 3ms/step - loss: 15.4896 - mse: 330.4664\n",
            "Epoch 34/100\n",
            "2/2 [==============================] - 0s 3ms/step - loss: 12.5934 - mse: 208.7797\n",
            "Epoch 35/100\n",
            "2/2 [==============================] - 0s 3ms/step - loss: 9.1972 - mse: 91.5368\n",
            "Epoch 36/100\n",
            "2/2 [==============================] - 0s 3ms/step - loss: 16.4654 - mse: 393.8924\n",
            "Epoch 37/100\n",
            "2/2 [==============================] - 0s 3ms/step - loss: 11.0915 - mse: 192.2782\n",
            "Epoch 38/100\n",
            "2/2 [==============================] - 0s 3ms/step - loss: 18.2211 - mse: 437.5700\n",
            "Epoch 39/100\n",
            "2/2 [==============================] - 0s 3ms/step - loss: 19.1528 - mse: 534.4025\n",
            "Epoch 40/100\n",
            "2/2 [==============================] - 0s 3ms/step - loss: 20.5248 - mse: 615.2817\n",
            "Epoch 41/100\n",
            "2/2 [==============================] - 0s 3ms/step - loss: 14.7990 - mse: 273.7714\n",
            "Epoch 42/100\n",
            "2/2 [==============================] - 0s 4ms/step - loss: 12.1974 - mse: 181.6487\n",
            "Epoch 43/100\n",
            "2/2 [==============================] - 0s 3ms/step - loss: 10.6948 - mse: 162.6557\n",
            "Epoch 44/100\n",
            "2/2 [==============================] - 0s 3ms/step - loss: 32.2359 - mse: 1708.7859\n",
            "Epoch 45/100\n",
            "2/2 [==============================] - 0s 3ms/step - loss: 12.4635 - mse: 201.2330\n",
            "Epoch 46/100\n",
            "2/2 [==============================] - 0s 3ms/step - loss: 17.4918 - mse: 458.3988\n",
            "Epoch 47/100\n",
            "2/2 [==============================] - 0s 4ms/step - loss: 15.7672 - mse: 339.7195\n",
            "Epoch 48/100\n",
            "2/2 [==============================] - 0s 3ms/step - loss: 8.3840 - mse: 112.8422\n",
            "Epoch 49/100\n",
            "2/2 [==============================] - 0s 4ms/step - loss: 13.9973 - mse: 269.0666\n",
            "Epoch 50/100\n",
            "2/2 [==============================] - 0s 4ms/step - loss: 12.8363 - mse: 215.7241\n",
            "Epoch 51/100\n",
            "2/2 [==============================] - 0s 3ms/step - loss: 14.8454 - mse: 309.9625\n",
            "Epoch 52/100\n",
            "2/2 [==============================] - 0s 3ms/step - loss: 18.7301 - mse: 530.3564\n",
            "Epoch 53/100\n",
            "2/2 [==============================] - 0s 4ms/step - loss: 24.1846 - mse: 829.3838\n",
            "Epoch 54/100\n",
            "2/2 [==============================] - 0s 4ms/step - loss: 23.1422 - mse: 801.8519\n",
            "Epoch 55/100\n",
            "2/2 [==============================] - 0s 8ms/step - loss: 23.9882 - mse: 865.6276\n",
            "Epoch 56/100\n",
            "2/2 [==============================] - 0s 3ms/step - loss: 11.1503 - mse: 171.1257\n",
            "Epoch 57/100\n",
            "2/2 [==============================] - 0s 3ms/step - loss: 13.0992 - mse: 213.1807\n",
            "Epoch 58/100\n",
            "2/2 [==============================] - 0s 28ms/step - loss: 9.8024 - mse: 106.0551\n",
            "Epoch 59/100\n",
            "2/2 [==============================] - 0s 4ms/step - loss: 13.2811 - mse: 247.8520\n",
            "Epoch 60/100\n",
            "2/2 [==============================] - 0s 3ms/step - loss: 10.8582 - mse: 138.7755\n",
            "Epoch 61/100\n",
            "2/2 [==============================] - 0s 3ms/step - loss: 13.4509 - mse: 240.2871\n",
            "Epoch 62/100\n",
            "2/2 [==============================] - 0s 9ms/step - loss: 17.4521 - mse: 464.6156\n",
            "Epoch 63/100\n",
            "2/2 [==============================] - 0s 9ms/step - loss: 9.1525 - mse: 87.7149\n",
            "Epoch 64/100\n",
            "2/2 [==============================] - 0s 15ms/step - loss: 18.3233 - mse: 488.0618\n",
            "Epoch 65/100\n",
            "2/2 [==============================] - 0s 8ms/step - loss: 10.1074 - mse: 114.4633\n",
            "Epoch 66/100\n",
            "2/2 [==============================] - 0s 5ms/step - loss: 24.1701 - mse: 880.9183\n",
            "Epoch 67/100\n",
            "2/2 [==============================] - 0s 3ms/step - loss: 10.8665 - mse: 141.7080\n",
            "Epoch 68/100\n",
            "2/2 [==============================] - 0s 6ms/step - loss: 10.7552 - mse: 157.4877\n",
            "Epoch 69/100\n",
            "2/2 [==============================] - 0s 3ms/step - loss: 23.1442 - mse: 773.8461\n",
            "Epoch 70/100\n",
            "2/2 [==============================] - 0s 3ms/step - loss: 8.8352 - mse: 143.1311\n",
            "Epoch 71/100\n",
            "2/2 [==============================] - 0s 3ms/step - loss: 16.0560 - mse: 351.5720\n",
            "Epoch 72/100\n",
            "2/2 [==============================] - 0s 3ms/step - loss: 7.7538 - mse: 91.4125\n",
            "Epoch 73/100\n",
            "2/2 [==============================] - 0s 5ms/step - loss: 10.1579 - mse: 165.3987\n",
            "Epoch 74/100\n",
            "2/2 [==============================] - 0s 3ms/step - loss: 28.3315 - mse: 1123.3629\n",
            "Epoch 75/100\n",
            "2/2 [==============================] - 0s 3ms/step - loss: 10.0137 - mse: 146.2236\n",
            "Epoch 76/100\n",
            "2/2 [==============================] - 0s 4ms/step - loss: 12.9295 - mse: 207.9661\n",
            "Epoch 77/100\n",
            "2/2 [==============================] - 0s 6ms/step - loss: 17.8909 - mse: 498.8073\n",
            "Epoch 78/100\n",
            "2/2 [==============================] - 0s 6ms/step - loss: 8.9664 - mse: 87.8793\n",
            "Epoch 79/100\n",
            "2/2 [==============================] - 0s 4ms/step - loss: 28.7150 - mse: 1302.1798\n",
            "Epoch 80/100\n",
            "2/2 [==============================] - 0s 6ms/step - loss: 31.0524 - mse: 1531.1389\n",
            "Epoch 81/100\n",
            "2/2 [==============================] - 0s 5ms/step - loss: 13.4168 - mse: 251.7617\n",
            "Epoch 82/100\n",
            "2/2 [==============================] - 0s 6ms/step - loss: 14.3250 - mse: 284.5667\n",
            "Epoch 83/100\n",
            "2/2 [==============================] - 0s 3ms/step - loss: 18.8630 - mse: 472.1210\n",
            "Epoch 84/100\n",
            "2/2 [==============================] - 0s 3ms/step - loss: 9.4624 - mse: 149.0828\n",
            "Epoch 85/100\n",
            "2/2 [==============================] - 0s 7ms/step - loss: 25.2574 - mse: 892.9901\n",
            "Epoch 86/100\n",
            "2/2 [==============================] - 0s 3ms/step - loss: 16.4146 - mse: 396.3427\n",
            "Epoch 87/100\n",
            "2/2 [==============================] - 0s 5ms/step - loss: 11.4680 - mse: 156.2898\n",
            "Epoch 88/100\n",
            "2/2 [==============================] - 0s 6ms/step - loss: 27.0086 - mse: 1043.3273\n",
            "Epoch 89/100\n",
            "2/2 [==============================] - 0s 6ms/step - loss: 9.7400 - mse: 128.4617\n",
            "Epoch 90/100\n",
            "2/2 [==============================] - 0s 5ms/step - loss: 19.0557 - mse: 520.7122\n",
            "Epoch 91/100\n",
            "2/2 [==============================] - 0s 7ms/step - loss: 10.5951 - mse: 163.5454\n",
            "Epoch 92/100\n",
            "2/2 [==============================] - 0s 3ms/step - loss: 18.2685 - mse: 457.1111\n",
            "Epoch 93/100\n",
            "2/2 [==============================] - 0s 5ms/step - loss: 6.8648 - mse: 68.0932\n",
            "Epoch 94/100\n",
            "2/2 [==============================] - 0s 4ms/step - loss: 13.0562 - mse: 231.3926\n",
            "Epoch 95/100\n",
            "2/2 [==============================] - 0s 7ms/step - loss: 18.4106 - mse: 500.0580\n",
            "Epoch 96/100\n",
            "2/2 [==============================] - 0s 4ms/step - loss: 10.4013 - mse: 179.6286\n",
            "Epoch 97/100\n",
            "2/2 [==============================] - 0s 5ms/step - loss: 14.1594 - mse: 300.9121\n",
            "Epoch 98/100\n",
            "2/2 [==============================] - 0s 3ms/step - loss: 9.6396 - mse: 137.2799\n",
            "Epoch 99/100\n",
            "2/2 [==============================] - 0s 4ms/step - loss: 11.3354 - mse: 163.9039\n",
            "Epoch 100/100\n",
            "2/2 [==============================] - 0s 5ms/step - loss: 29.2469 - mse: 1316.7153\n",
            "Model: \"model_improvement_1\"\n",
            "_________________________________________________________________\n",
            "Layer (type)                 Output Shape              Param #   \n",
            "=================================================================\n",
            "dense_11 (Dense)             (None, 50)                100       \n",
            "_________________________________________________________________\n",
            "dense_12 (Dense)             (None, 1)                 51        \n",
            "=================================================================\n",
            "Total params: 151\n",
            "Trainable params: 151\n",
            "Non-trainable params: 0\n",
            "_________________________________________________________________\n"
          ],
          "name": "stdout"
        }
      ]
    },
    {
      "cell_type": "code",
      "metadata": {
        "colab": {
          "base_uri": "https://localhost:8080/",
          "height": 462
        },
        "id": "kDfbW7g7g9ZM",
        "outputId": "353cc13b-295b-4395-f1a0-07617f8ea814"
      },
      "source": [
        "y_pred_model_im_1 = model_im_1.predict(X_test)\n",
        "plot_predictions(predictions=y_pred_model_im_1)\n",
        "mae_im1 = mae(y_test,y_pred=tf.squeeze(y_pred_model_im_1))\n",
        "mse_im1 = mse(y_test,y_pred=tf.squeeze(y_pred_model_im_1))\n",
        "mae_im1,mse_im1 "
      ],
      "execution_count": 106,
      "outputs": [
        {
          "output_type": "execute_result",
          "data": {
            "text/plain": [
              "(<tf.Tensor: shape=(), dtype=float32, numpy=11.465083>,\n",
              " <tf.Tensor: shape=(), dtype=float32, numpy=139.93967>)"
            ]
          },
          "metadata": {
            "tags": []
          },
          "execution_count": 106
        },
        {
          "output_type": "display_data",
          "data": {
            "image/png": "[encoded data removed]",
            "text/plain": [
              "<Figure size 720x504 with 1 Axes>"
            ]
          },
          "metadata": {
            "tags": [],
            "needs_background": "light"
          }
        }
      ]
    },
    {
      "cell_type": "code",
      "metadata": {
        "colab": {
          "base_uri": "https://localhost:8080/"
        },
        "id": "r6Iac0W4tgUg",
        "outputId": "8926860c-e128-4677-8bf6-fa3f19fa1e54"
      },
      "source": [
        "# Create a model with 500 epochs\n",
        "\n",
        "model_im_2 = tf.keras.Sequential([\n",
        "                                  tf.keras.layers.Dense(50),\n",
        "                                  tf.keras.layers.Dense(1)\n",
        "])\n",
        "model_im_2.compile(loss=tf.keras.losses.mae,\n",
        "                   optimizer=tf.keras.optimizers.SGD(),\n",
        "                   metrics=[\"mse\"])\n",
        "model_im_2.fit(X_train,y_train,epochs=500)\n",
        "model.summary()"
      ],
      "execution_count": 108,
      "outputs": [
        {
          "output_type": "stream",
          "text": [
            "Epoch 1/500\n",
            "2/2 [==============================] - 0s 5ms/step - loss: 36.7251 - mse: 1891.0576\n",
            "Epoch 2/500\n",
            "2/2 [==============================] - 0s 4ms/step - loss: 29.3226 - mse: 1185.8676\n",
            "Epoch 3/500\n",
            "2/2 [==============================] - 0s 4ms/step - loss: 27.4685 - mse: 1117.5717\n",
            "Epoch 4/500\n",
            "2/2 [==============================] - 0s 8ms/step - loss: 15.6522 - mse: 358.0483\n",
            "Epoch 5/500\n",
            "2/2 [==============================] - 0s 5ms/step - loss: 21.9980 - mse: 705.9108\n",
            "Epoch 6/500\n",
            "2/2 [==============================] - 0s 6ms/step - loss: 10.7482 - mse: 127.8616\n",
            "Epoch 7/500\n",
            "2/2 [==============================] - 0s 3ms/step - loss: 11.7527 - mse: 170.2785\n",
            "Epoch 8/500\n",
            "2/2 [==============================] - 0s 5ms/step - loss: 12.1259 - mse: 203.0398\n",
            "Epoch 9/500\n",
            "2/2 [==============================] - 0s 4ms/step - loss: 38.0730 - mse: 2239.9031\n",
            "Epoch 10/500\n",
            "2/2 [==============================] - 0s 6ms/step - loss: 25.6491 - mse: 923.9206\n",
            "Epoch 11/500\n",
            "2/2 [==============================] - 0s 5ms/step - loss: 10.2581 - mse: 148.6223\n",
            "Epoch 12/500\n",
            "2/2 [==============================] - 0s 6ms/step - loss: 25.2914 - mse: 891.5400\n",
            "Epoch 13/500\n",
            "2/2 [==============================] - 0s 8ms/step - loss: 17.0531 - mse: 403.5940\n",
            "Epoch 14/500\n",
            "2/2 [==============================] - 0s 7ms/step - loss: 26.0309 - mse: 1059.4382\n",
            "Epoch 15/500\n",
            "2/2 [==============================] - 0s 6ms/step - loss: 18.0848 - mse: 454.7179\n",
            "Epoch 16/500\n",
            "2/2 [==============================] - 0s 6ms/step - loss: 7.8659 - mse: 90.0496\n",
            "Epoch 17/500\n",
            "2/2 [==============================] - 0s 6ms/step - loss: 22.1945 - mse: 682.2946\n",
            "Epoch 18/500\n",
            "2/2 [==============================] - 0s 3ms/step - loss: 10.8229 - mse: 171.0100\n",
            "Epoch 19/500\n",
            "2/2 [==============================] - 0s 3ms/step - loss: 10.7095 - mse: 138.7573\n",
            "Epoch 20/500\n",
            "2/2 [==============================] - 0s 3ms/step - loss: 12.0307 - mse: 164.8476\n",
            "Epoch 21/500\n",
            "2/2 [==============================] - 0s 3ms/step - loss: 20.1027 - mse: 586.3729\n",
            "Epoch 22/500\n",
            "2/2 [==============================] - 0s 3ms/step - loss: 13.7649 - mse: 241.8665\n",
            "Epoch 23/500\n",
            "2/2 [==============================] - 0s 3ms/step - loss: 9.5257 - mse: 94.7411\n",
            "Epoch 24/500\n",
            "2/2 [==============================] - 0s 3ms/step - loss: 11.8804 - mse: 163.4965\n",
            "Epoch 25/500\n",
            "2/2 [==============================] - 0s 3ms/step - loss: 16.1597 - mse: 382.4305\n",
            "Epoch 26/500\n",
            "2/2 [==============================] - 0s 3ms/step - loss: 16.3547 - mse: 372.0113\n",
            "Epoch 27/500\n",
            "2/2 [==============================] - 0s 3ms/step - loss: 11.5769 - mse: 180.0922\n",
            "Epoch 28/500\n",
            "2/2 [==============================] - 0s 3ms/step - loss: 29.8837 - mse: 1455.6492\n",
            "Epoch 29/500\n",
            "2/2 [==============================] - 0s 3ms/step - loss: 9.2564 - mse: 92.8237\n",
            "Epoch 30/500\n",
            "2/2 [==============================] - 0s 3ms/step - loss: 30.4497 - mse: 1698.0862\n",
            "Epoch 31/500\n",
            "2/2 [==============================] - 0s 3ms/step - loss: 55.3422 - mse: 5493.6899\n",
            "Epoch 32/500\n",
            "2/2 [==============================] - 0s 4ms/step - loss: 9.7149 - mse: 103.1165\n",
            "Epoch 33/500\n",
            "2/2 [==============================] - 0s 4ms/step - loss: 12.3300 - mse: 193.0307\n",
            "Epoch 34/500\n",
            "2/2 [==============================] - 0s 3ms/step - loss: 24.6025 - mse: 920.1134\n",
            "Epoch 35/500\n",
            "2/2 [==============================] - 0s 4ms/step - loss: 11.9348 - mse: 211.0426\n",
            "Epoch 36/500\n",
            "2/2 [==============================] - 0s 5ms/step - loss: 22.1414 - mse: 697.8553\n",
            "Epoch 37/500\n",
            "2/2 [==============================] - 0s 6ms/step - loss: 17.4980 - mse: 436.9540\n",
            "Epoch 38/500\n",
            "2/2 [==============================] - 0s 5ms/step - loss: 10.7091 - mse: 132.6344\n",
            "Epoch 39/500\n",
            "2/2 [==============================] - 0s 5ms/step - loss: 11.2259 - mse: 165.2152\n",
            "Epoch 40/500\n",
            "2/2 [==============================] - 0s 7ms/step - loss: 18.1446 - mse: 475.7307\n",
            "Epoch 41/500\n",
            "2/2 [==============================] - 0s 4ms/step - loss: 10.4649 - mse: 182.3000\n",
            "Epoch 42/500\n",
            "2/2 [==============================] - 0s 4ms/step - loss: 7.8419 - mse: 83.8884\n",
            "Epoch 43/500\n",
            "2/2 [==============================] - 0s 4ms/step - loss: 14.1689 - mse: 288.8882\n",
            "Epoch 44/500\n",
            "2/2 [==============================] - 0s 4ms/step - loss: 24.8669 - mse: 980.5944\n",
            "Epoch 45/500\n",
            "2/2 [==============================] - 0s 5ms/step - loss: 10.9314 - mse: 137.4463\n",
            "Epoch 46/500\n",
            "2/2 [==============================] - 0s 10ms/step - loss: 13.0014 - mse: 241.0720\n",
            "Epoch 47/500\n",
            "2/2 [==============================] - 0s 12ms/step - loss: 10.4567 - mse: 172.1294\n",
            "Epoch 48/500\n",
            "2/2 [==============================] - 0s 15ms/step - loss: 17.1904 - mse: 400.6696\n",
            "Epoch 49/500\n",
            "2/2 [==============================] - 0s 9ms/step - loss: 9.6079 - mse: 100.6119\n",
            "Epoch 50/500\n",
            "2/2 [==============================] - 0s 4ms/step - loss: 13.8760 - mse: 263.4971\n",
            "Epoch 51/500\n",
            "2/2 [==============================] - 0s 3ms/step - loss: 11.6210 - mse: 155.7760\n",
            "Epoch 52/500\n",
            "2/2 [==============================] - 0s 8ms/step - loss: 30.6781 - mse: 1627.6879\n",
            "Epoch 53/500\n",
            "2/2 [==============================] - 0s 5ms/step - loss: 14.4110 - mse: 305.2764\n",
            "Epoch 54/500\n",
            "2/2 [==============================] - 0s 3ms/step - loss: 24.0676 - mse: 867.1334\n",
            "Epoch 55/500\n",
            "2/2 [==============================] - 0s 3ms/step - loss: 23.3000 - mse: 813.4161\n",
            "Epoch 56/500\n",
            "2/2 [==============================] - 0s 5ms/step - loss: 10.9230 - mse: 171.0145\n",
            "Epoch 57/500\n",
            "2/2 [==============================] - 0s 3ms/step - loss: 12.7951 - mse: 200.5945\n",
            "Epoch 58/500\n",
            "2/2 [==============================] - 0s 5ms/step - loss: 9.6298 - mse: 103.0325\n",
            "Epoch 59/500\n",
            "2/2 [==============================] - 0s 3ms/step - loss: 12.5624 - mse: 218.9483\n",
            "Epoch 60/500\n",
            "2/2 [==============================] - 0s 3ms/step - loss: 12.3635 - mse: 210.7646\n",
            "Epoch 61/500\n",
            "2/2 [==============================] - 0s 4ms/step - loss: 13.2626 - mse: 230.2870\n",
            "Epoch 62/500\n",
            "2/2 [==============================] - 0s 4ms/step - loss: 17.1069 - mse: 445.6746\n",
            "Epoch 63/500\n",
            "2/2 [==============================] - 0s 4ms/step - loss: 9.0680 - mse: 87.5202\n",
            "Epoch 64/500\n",
            "2/2 [==============================] - 0s 4ms/step - loss: 17.7487 - mse: 456.5278\n",
            "Epoch 65/500\n",
            "2/2 [==============================] - 0s 4ms/step - loss: 10.5420 - mse: 134.4149\n",
            "Epoch 66/500\n",
            "2/2 [==============================] - 0s 4ms/step - loss: 21.2349 - mse: 665.3380\n",
            "Epoch 67/500\n",
            "2/2 [==============================] - 0s 5ms/step - loss: 10.5392 - mse: 129.5230\n",
            "Epoch 68/500\n",
            "2/2 [==============================] - 0s 3ms/step - loss: 14.3908 - mse: 312.2681\n",
            "Epoch 69/500\n",
            "2/2 [==============================] - 0s 8ms/step - loss: 10.6300 - mse: 129.6643\n",
            "Epoch 70/500\n",
            "2/2 [==============================] - 0s 5ms/step - loss: 12.7158 - mse: 205.5449\n",
            "Epoch 71/500\n",
            "2/2 [==============================] - 0s 3ms/step - loss: 13.1429 - mse: 232.9962\n",
            "Epoch 72/500\n",
            "2/2 [==============================] - 0s 3ms/step - loss: 19.6486 - mse: 548.2219\n",
            "Epoch 73/500\n",
            "2/2 [==============================] - 0s 3ms/step - loss: 11.2063 - mse: 191.3451\n",
            "Epoch 74/500\n",
            "2/2 [==============================] - 0s 3ms/step - loss: 21.9287 - mse: 748.5532\n",
            "Epoch 75/500\n",
            "2/2 [==============================] - 0s 3ms/step - loss: 7.1991 - mse: 71.5688\n",
            "Epoch 76/500\n",
            "2/2 [==============================] - 0s 5ms/step - loss: 9.4202 - mse: 149.9126\n",
            "Epoch 77/500\n",
            "2/2 [==============================] - 0s 3ms/step - loss: 22.0444 - mse: 726.4929\n",
            "Epoch 78/500\n",
            "2/2 [==============================] - 0s 3ms/step - loss: 17.7095 - mse: 476.4096\n",
            "Epoch 79/500\n",
            "2/2 [==============================] - 0s 3ms/step - loss: 14.8716 - mse: 323.8060\n",
            "Epoch 80/500\n",
            "2/2 [==============================] - 0s 3ms/step - loss: 25.1955 - mse: 968.9700\n",
            "Epoch 81/500\n",
            "2/2 [==============================] - 0s 8ms/step - loss: 10.9424 - mse: 141.8084\n",
            "Epoch 82/500\n",
            "2/2 [==============================] - 0s 3ms/step - loss: 12.7411 - mse: 232.1118\n",
            "Epoch 83/500\n",
            "2/2 [==============================] - 0s 3ms/step - loss: 17.5114 - mse: 399.7469\n",
            "Epoch 84/500\n",
            "2/2 [==============================] - 0s 4ms/step - loss: 7.2917 - mse: 73.2898\n",
            "Epoch 85/500\n",
            "2/2 [==============================] - 0s 3ms/step - loss: 15.0364 - mse: 315.5896\n",
            "Epoch 86/500\n",
            "2/2 [==============================] - 0s 4ms/step - loss: 15.3448 - mse: 316.9404\n",
            "Epoch 87/500\n",
            "2/2 [==============================] - 0s 4ms/step - loss: 19.2211 - mse: 526.3718\n",
            "Epoch 88/500\n",
            "2/2 [==============================] - 0s 4ms/step - loss: 29.5323 - mse: 1260.4703\n",
            "Epoch 89/500\n",
            "2/2 [==============================] - 0s 5ms/step - loss: 10.1444 - mse: 124.2984\n",
            "Epoch 90/500\n",
            "2/2 [==============================] - 0s 3ms/step - loss: 21.2813 - mse: 648.6579\n",
            "Epoch 91/500\n",
            "2/2 [==============================] - 0s 5ms/step - loss: 10.5249 - mse: 163.0296\n",
            "Epoch 92/500\n",
            "2/2 [==============================] - 0s 7ms/step - loss: 18.1773 - mse: 452.4434\n",
            "Epoch 93/500\n",
            "2/2 [==============================] - 0s 5ms/step - loss: 6.5495 - mse: 60.6395\n",
            "Epoch 94/500\n",
            "2/2 [==============================] - 0s 5ms/step - loss: 11.1822 - mse: 155.9778\n",
            "Epoch 95/500\n",
            "2/2 [==============================] - 0s 8ms/step - loss: 24.6206 - mse: 910.6324\n",
            "Epoch 96/500\n",
            "2/2 [==============================] - 0s 5ms/step - loss: 10.7920 - mse: 171.7889\n",
            "Epoch 97/500\n",
            "2/2 [==============================] - 0s 14ms/step - loss: 15.5244 - mse: 365.7710\n",
            "Epoch 98/500\n",
            "2/2 [==============================] - 0s 6ms/step - loss: 9.0599 - mse: 143.6115\n",
            "Epoch 99/500\n",
            "2/2 [==============================] - 0s 15ms/step - loss: 10.8755 - mse: 139.1741\n",
            "Epoch 100/500\n",
            "2/2 [==============================] - 0s 11ms/step - loss: 27.1318 - mse: 1122.9153\n",
            "Epoch 101/500\n",
            "2/2 [==============================] - 0s 4ms/step - loss: 15.0886 - mse: 341.6982\n",
            "Epoch 102/500\n",
            "2/2 [==============================] - 0s 7ms/step - loss: 10.6516 - mse: 158.3120\n",
            "Epoch 103/500\n",
            "2/2 [==============================] - 0s 4ms/step - loss: 9.1333 - mse: 96.5762\n",
            "Epoch 104/500\n",
            "2/2 [==============================] - 0s 3ms/step - loss: 23.5652 - mse: 831.5558\n",
            "Epoch 105/500\n",
            "2/2 [==============================] - 0s 3ms/step - loss: 10.7519 - mse: 156.2308\n",
            "Epoch 106/500\n",
            "2/2 [==============================] - 0s 6ms/step - loss: 11.2144 - mse: 173.4106\n",
            "Epoch 107/500\n",
            "2/2 [==============================] - 0s 7ms/step - loss: 21.1285 - mse: 664.9753\n",
            "Epoch 108/500\n",
            "2/2 [==============================] - 0s 4ms/step - loss: 6.3176 - mse: 57.3124\n",
            "Epoch 109/500\n",
            "2/2 [==============================] - 0s 8ms/step - loss: 10.5369 - mse: 131.9118\n",
            "Epoch 110/500\n",
            "2/2 [==============================] - 0s 9ms/step - loss: 10.4898 - mse: 134.2944\n",
            "Epoch 111/500\n",
            "2/2 [==============================] - 0s 6ms/step - loss: 16.6157 - mse: 389.5304\n",
            "Epoch 112/500\n",
            "2/2 [==============================] - 0s 9ms/step - loss: 9.4829 - mse: 118.2184\n",
            "Epoch 113/500\n",
            "2/2 [==============================] - 0s 12ms/step - loss: 17.4997 - mse: 445.5739\n",
            "Epoch 114/500\n",
            "2/2 [==============================] - 0s 4ms/step - loss: 16.8684 - mse: 424.1242\n",
            "Epoch 115/500\n",
            "2/2 [==============================] - 0s 6ms/step - loss: 11.0152 - mse: 149.7708\n",
            "Epoch 116/500\n",
            "2/2 [==============================] - 0s 9ms/step - loss: 22.8933 - mse: 762.2451\n",
            "Epoch 117/500\n",
            "2/2 [==============================] - 0s 5ms/step - loss: 9.4896 - mse: 126.8265\n",
            "Epoch 118/500\n",
            "2/2 [==============================] - 0s 5ms/step - loss: 10.5429 - mse: 136.4851\n",
            "Epoch 119/500\n",
            "2/2 [==============================] - 0s 5ms/step - loss: 8.0185 - mse: 75.6707\n",
            "Epoch 120/500\n",
            "2/2 [==============================] - 0s 5ms/step - loss: 29.1744 - mse: 1267.6838\n",
            "Epoch 121/500\n",
            "2/2 [==============================] - 0s 5ms/step - loss: 8.0587 - mse: 70.1377\n",
            "Epoch 122/500\n",
            "2/2 [==============================] - 0s 6ms/step - loss: 27.8882 - mse: 1190.4379\n",
            "Epoch 123/500\n",
            "2/2 [==============================] - 0s 4ms/step - loss: 32.3816 - mse: 1537.6526\n",
            "Epoch 124/500\n",
            "2/2 [==============================] - 0s 3ms/step - loss: 19.2417 - mse: 548.7529\n",
            "Epoch 125/500\n",
            "2/2 [==============================] - 0s 7ms/step - loss: 9.4708 - mse: 152.4556\n",
            "Epoch 126/500\n",
            "2/2 [==============================] - 0s 6ms/step - loss: 9.5541 - mse: 112.8727\n",
            "Epoch 127/500\n",
            "2/2 [==============================] - 0s 4ms/step - loss: 12.6444 - mse: 249.7121\n",
            "Epoch 128/500\n",
            "2/2 [==============================] - 0s 6ms/step - loss: 12.7535 - mse: 224.6610\n",
            "Epoch 129/500\n",
            "2/2 [==============================] - 0s 10ms/step - loss: 13.8673 - mse: 308.8521\n",
            "Epoch 130/500\n",
            "2/2 [==============================] - 0s 4ms/step - loss: 10.2020 - mse: 120.9803\n",
            "Epoch 131/500\n",
            "2/2 [==============================] - 0s 13ms/step - loss: 21.6014 - mse: 706.7401\n",
            "Epoch 132/500\n",
            "2/2 [==============================] - 0s 9ms/step - loss: 8.2458 - mse: 95.8140\n",
            "Epoch 133/500\n",
            "2/2 [==============================] - 0s 8ms/step - loss: 9.0283 - mse: 111.4668\n",
            "Epoch 134/500\n",
            "2/2 [==============================] - 0s 6ms/step - loss: 16.8274 - mse: 412.7134\n",
            "Epoch 135/500\n",
            "2/2 [==============================] - 0s 6ms/step - loss: 10.6189 - mse: 149.3356\n",
            "Epoch 136/500\n",
            "2/2 [==============================] - 0s 4ms/step - loss: 18.4477 - mse: 482.1894\n",
            "Epoch 137/500\n",
            "2/2 [==============================] - 0s 4ms/step - loss: 23.4136 - mse: 740.1120\n",
            "Epoch 138/500\n",
            "2/2 [==============================] - 0s 5ms/step - loss: 9.2393 - mse: 139.4200\n",
            "Epoch 139/500\n",
            "2/2 [==============================] - 0s 5ms/step - loss: 8.9849 - mse: 143.4366\n",
            "Epoch 140/500\n",
            "2/2 [==============================] - 0s 7ms/step - loss: 16.9081 - mse: 412.3231\n",
            "Epoch 141/500\n",
            "2/2 [==============================] - 0s 6ms/step - loss: 8.3071 - mse: 75.1390\n",
            "Epoch 142/500\n",
            "2/2 [==============================] - 0s 3ms/step - loss: 33.9558 - mse: 1994.2754\n",
            "Epoch 143/500\n",
            "2/2 [==============================] - 0s 9ms/step - loss: 23.0235 - mse: 741.4842\n",
            "Epoch 144/500\n",
            "2/2 [==============================] - 0s 7ms/step - loss: 11.3346 - mse: 227.7107\n",
            "Epoch 145/500\n",
            "2/2 [==============================] - 0s 5ms/step - loss: 25.0533 - mse: 850.7482\n",
            "Epoch 146/500\n",
            "2/2 [==============================] - 0s 5ms/step - loss: 11.1126 - mse: 167.3336\n",
            "Epoch 147/500\n",
            "2/2 [==============================] - 0s 3ms/step - loss: 14.0929 - mse: 293.3399\n",
            "Epoch 148/500\n",
            "2/2 [==============================] - 0s 8ms/step - loss: 16.9487 - mse: 394.3424\n",
            "Epoch 149/500\n",
            "2/2 [==============================] - 0s 4ms/step - loss: 9.2268 - mse: 108.4471\n",
            "Epoch 150/500\n",
            "2/2 [==============================] - 0s 6ms/step - loss: 7.9216 - mse: 71.2591\n",
            "Epoch 151/500\n",
            "2/2 [==============================] - 0s 6ms/step - loss: 16.4654 - mse: 390.0293\n",
            "Epoch 152/500\n",
            "2/2 [==============================] - 0s 8ms/step - loss: 9.7807 - mse: 119.3583\n",
            "Epoch 153/500\n",
            "2/2 [==============================] - 0s 3ms/step - loss: 26.7915 - mse: 1014.2755\n",
            "Epoch 154/500\n",
            "2/2 [==============================] - 0s 4ms/step - loss: 11.9270 - mse: 238.5644\n",
            "Epoch 155/500\n",
            "2/2 [==============================] - 0s 5ms/step - loss: 15.2907 - mse: 335.9858\n",
            "Epoch 156/500\n",
            "2/2 [==============================] - 0s 7ms/step - loss: 16.6694 - mse: 425.2472\n",
            "Epoch 157/500\n",
            "2/2 [==============================] - 0s 3ms/step - loss: 19.2421 - mse: 571.4991\n",
            "Epoch 158/500\n",
            "2/2 [==============================] - 0s 4ms/step - loss: 8.2371 - mse: 129.7877\n",
            "Epoch 159/500\n",
            "2/2 [==============================] - 0s 8ms/step - loss: 7.9811 - mse: 109.1034\n",
            "Epoch 160/500\n",
            "2/2 [==============================] - 0s 3ms/step - loss: 20.9728 - mse: 660.6472\n",
            "Epoch 161/500\n",
            "2/2 [==============================] - 0s 4ms/step - loss: 23.7515 - mse: 855.3322\n",
            "Epoch 162/500\n",
            "2/2 [==============================] - 0s 7ms/step - loss: 18.6767 - mse: 498.0742\n",
            "Epoch 163/500\n",
            "2/2 [==============================] - 0s 3ms/step - loss: 17.6298 - mse: 445.8694\n",
            "Epoch 164/500\n",
            "2/2 [==============================] - 0s 4ms/step - loss: 11.0513 - mse: 178.9428\n",
            "Epoch 165/500\n",
            "2/2 [==============================] - 0s 7ms/step - loss: 9.6147 - mse: 180.3876\n",
            "Epoch 166/500\n",
            "2/2 [==============================] - 0s 9ms/step - loss: 21.5714 - mse: 680.9863\n",
            "Epoch 167/500\n",
            "2/2 [==============================] - 0s 3ms/step - loss: 26.3390 - mse: 1053.4603\n",
            "Epoch 168/500\n",
            "2/2 [==============================] - 0s 4ms/step - loss: 9.8712 - mse: 118.5776\n",
            "Epoch 169/500\n",
            "2/2 [==============================] - 0s 3ms/step - loss: 22.6105 - mse: 790.5702\n",
            "Epoch 170/500\n",
            "2/2 [==============================] - 0s 7ms/step - loss: 10.1467 - mse: 196.3439\n",
            "Epoch 171/500\n",
            "2/2 [==============================] - 0s 3ms/step - loss: 18.0286 - mse: 502.6177\n",
            "Epoch 172/500\n",
            "2/2 [==============================] - 0s 8ms/step - loss: 28.8818 - mse: 1310.3560\n",
            "Epoch 173/500\n",
            "2/2 [==============================] - 0s 4ms/step - loss: 16.5655 - mse: 433.9728\n",
            "Epoch 174/500\n",
            "2/2 [==============================] - 0s 5ms/step - loss: 11.2116 - mse: 200.3459\n",
            "Epoch 175/500\n",
            "2/2 [==============================] - 0s 10ms/step - loss: 27.5734 - mse: 1097.0190\n",
            "Epoch 176/500\n",
            "2/2 [==============================] - 0s 3ms/step - loss: 8.2876 - mse: 77.9050\n",
            "Epoch 177/500\n",
            "2/2 [==============================] - 0s 3ms/step - loss: 9.2750 - mse: 109.1984\n",
            "Epoch 178/500\n",
            "2/2 [==============================] - 0s 20ms/step - loss: 18.1760 - mse: 467.5941\n",
            "Epoch 179/500\n",
            "2/2 [==============================] - 0s 8ms/step - loss: 10.5876 - mse: 147.6024\n",
            "Epoch 180/500\n",
            "2/2 [==============================] - 0s 6ms/step - loss: 7.9122 - mse: 100.6307\n",
            "Epoch 181/500\n",
            "2/2 [==============================] - 0s 4ms/step - loss: 17.4245 - mse: 439.7120\n",
            "Epoch 182/500\n",
            "2/2 [==============================] - 0s 10ms/step - loss: 11.0268 - mse: 157.5765\n",
            "Epoch 183/500\n",
            "2/2 [==============================] - 0s 4ms/step - loss: 11.7149 - mse: 204.3445\n",
            "Epoch 184/500\n",
            "2/2 [==============================] - 0s 3ms/step - loss: 30.4327 - mse: 1389.9681\n",
            "Epoch 185/500\n",
            "2/2 [==============================] - 0s 13ms/step - loss: 7.5611 - mse: 98.8912\n",
            "Epoch 186/500\n",
            "2/2 [==============================] - 0s 5ms/step - loss: 15.9869 - mse: 369.1425\n",
            "Epoch 187/500\n",
            "2/2 [==============================] - 0s 5ms/step - loss: 8.5678 - mse: 85.6021\n",
            "Epoch 188/500\n",
            "2/2 [==============================] - 0s 5ms/step - loss: 28.7484 - mse: 1176.9503\n",
            "Epoch 189/500\n",
            "2/2 [==============================] - 0s 4ms/step - loss: 13.1691 - mse: 271.4662\n",
            "Epoch 190/500\n",
            "2/2 [==============================] - 0s 5ms/step - loss: 18.3106 - mse: 512.4684\n",
            "Epoch 191/500\n",
            "2/2 [==============================] - 0s 3ms/step - loss: 13.7384 - mse: 264.9893\n",
            "Epoch 192/500\n",
            "2/2 [==============================] - 0s 3ms/step - loss: 13.7137 - mse: 261.1891\n",
            "Epoch 193/500\n",
            "2/2 [==============================] - 0s 3ms/step - loss: 28.5843 - mse: 1135.0930\n",
            "Epoch 194/500\n",
            "2/2 [==============================] - 0s 3ms/step - loss: 7.0776 - mse: 78.8061\n",
            "Epoch 195/500\n",
            "2/2 [==============================] - 0s 3ms/step - loss: 7.0618 - mse: 75.0500\n",
            "Epoch 196/500\n",
            "2/2 [==============================] - 0s 4ms/step - loss: 22.0108 - mse: 709.6056\n",
            "Epoch 197/500\n",
            "2/2 [==============================] - 0s 4ms/step - loss: 20.8373 - mse: 643.1922\n",
            "Epoch 198/500\n",
            "2/2 [==============================] - 0s 3ms/step - loss: 12.4695 - mse: 236.4622\n",
            "Epoch 199/500\n",
            "2/2 [==============================] - 0s 4ms/step - loss: 17.9033 - mse: 460.0333\n",
            "Epoch 200/500\n",
            "2/2 [==============================] - 0s 3ms/step - loss: 13.7437 - mse: 281.9900\n",
            "Epoch 201/500\n",
            "2/2 [==============================] - 0s 3ms/step - loss: 5.4772 - mse: 41.2540\n",
            "Epoch 202/500\n",
            "2/2 [==============================] - 0s 3ms/step - loss: 13.6940 - mse: 293.5986\n",
            "Epoch 203/500\n",
            "2/2 [==============================] - 0s 3ms/step - loss: 9.4181 - mse: 140.1249\n",
            "Epoch 204/500\n",
            "2/2 [==============================] - 0s 4ms/step - loss: 20.9594 - mse: 655.0630\n",
            "Epoch 205/500\n",
            "2/2 [==============================] - 0s 3ms/step - loss: 9.5472 - mse: 128.0031\n",
            "Epoch 206/500\n",
            "2/2 [==============================] - 0s 4ms/step - loss: 11.7202 - mse: 195.4032\n",
            "Epoch 207/500\n",
            "2/2 [==============================] - 0s 4ms/step - loss: 14.3601 - mse: 316.4786\n",
            "Epoch 208/500\n",
            "2/2 [==============================] - 0s 18ms/step - loss: 14.8452 - mse: 322.7036\n",
            "Epoch 209/500\n",
            "2/2 [==============================] - 0s 7ms/step - loss: 14.9496 - mse: 345.0823\n",
            "Epoch 210/500\n",
            "2/2 [==============================] - 0s 4ms/step - loss: 17.8739 - mse: 466.1878\n",
            "Epoch 211/500\n",
            "2/2 [==============================] - 0s 4ms/step - loss: 9.8326 - mse: 146.0581\n",
            "Epoch 212/500\n",
            "2/2 [==============================] - 0s 3ms/step - loss: 18.2992 - mse: 505.9178\n",
            "Epoch 213/500\n",
            "2/2 [==============================] - 0s 30ms/step - loss: 15.0525 - mse: 308.0816\n",
            "Epoch 214/500\n",
            "2/2 [==============================] - 0s 4ms/step - loss: 14.5973 - mse: 294.0444\n",
            "Epoch 215/500\n",
            "2/2 [==============================] - 0s 4ms/step - loss: 23.3183 - mse: 800.3779\n",
            "Epoch 216/500\n",
            "2/2 [==============================] - 0s 5ms/step - loss: 13.3361 - mse: 277.2468\n",
            "Epoch 217/500\n",
            "2/2 [==============================] - 0s 3ms/step - loss: 9.8375 - mse: 135.6650\n",
            "Epoch 218/500\n",
            "2/2 [==============================] - 0s 3ms/step - loss: 12.5675 - mse: 207.1895\n",
            "Epoch 219/500\n",
            "2/2 [==============================] - 0s 3ms/step - loss: 4.9538 - mse: 37.6554\n",
            "Epoch 220/500\n",
            "2/2 [==============================] - 0s 4ms/step - loss: 7.1224 - mse: 57.9182\n",
            "Epoch 221/500\n",
            "2/2 [==============================] - 0s 7ms/step - loss: 35.3938 - mse: 2099.2917\n",
            "Epoch 222/500\n",
            "2/2 [==============================] - 0s 4ms/step - loss: 34.7853 - mse: 1957.9554\n",
            "Epoch 223/500\n",
            "2/2 [==============================] - 0s 3ms/step - loss: 7.9977 - mse: 119.5868\n",
            "Epoch 224/500\n",
            "2/2 [==============================] - 0s 3ms/step - loss: 14.7162 - mse: 319.3473\n",
            "Epoch 225/500\n",
            "2/2 [==============================] - 0s 3ms/step - loss: 16.7384 - mse: 361.4995\n",
            "Epoch 226/500\n",
            "2/2 [==============================] - 0s 4ms/step - loss: 15.9504 - mse: 370.8591\n",
            "Epoch 227/500\n",
            "2/2 [==============================] - 0s 7ms/step - loss: 16.1872 - mse: 370.5796\n",
            "Epoch 228/500\n",
            "2/2 [==============================] - 0s 10ms/step - loss: 9.3372 - mse: 168.5451\n",
            "Epoch 229/500\n",
            "2/2 [==============================] - 0s 4ms/step - loss: 18.0053 - mse: 454.4126\n",
            "Epoch 230/500\n",
            "2/2 [==============================] - 0s 4ms/step - loss: 15.5790 - mse: 313.7226\n",
            "Epoch 231/500\n",
            "2/2 [==============================] - 0s 3ms/step - loss: 21.1337 - mse: 667.2722\n",
            "Epoch 232/500\n",
            "2/2 [==============================] - 0s 6ms/step - loss: 25.4470 - mse: 926.9612\n",
            "Epoch 233/500\n",
            "2/2 [==============================] - 0s 3ms/step - loss: 16.4529 - mse: 393.5856\n",
            "Epoch 234/500\n",
            "2/2 [==============================] - 0s 3ms/step - loss: 7.3105 - mse: 66.9705\n",
            "Epoch 235/500\n",
            "2/2 [==============================] - 0s 3ms/step - loss: 17.1029 - mse: 409.6219\n",
            "Epoch 236/500\n",
            "2/2 [==============================] - 0s 3ms/step - loss: 7.1732 - mse: 69.9809\n",
            "Epoch 237/500\n",
            "2/2 [==============================] - 0s 3ms/step - loss: 9.2740 - mse: 119.8307\n",
            "Epoch 238/500\n",
            "2/2 [==============================] - 0s 3ms/step - loss: 8.1354 - mse: 86.9521\n",
            "Epoch 239/500\n",
            "2/2 [==============================] - 0s 3ms/step - loss: 17.1815 - mse: 444.0605\n",
            "Epoch 240/500\n",
            "2/2 [==============================] - 0s 3ms/step - loss: 8.9175 - mse: 108.2924\n",
            "Epoch 241/500\n",
            "2/2 [==============================] - 0s 6ms/step - loss: 13.2649 - mse: 275.5980\n",
            "Epoch 242/500\n",
            "2/2 [==============================] - 0s 4ms/step - loss: 8.8299 - mse: 105.8346\n",
            "Epoch 243/500\n",
            "2/2 [==============================] - 0s 4ms/step - loss: 19.0476 - mse: 554.4379\n",
            "Epoch 244/500\n",
            "2/2 [==============================] - 0s 3ms/step - loss: 13.9591 - mse: 273.1216\n",
            "Epoch 245/500\n",
            "2/2 [==============================] - 0s 10ms/step - loss: 14.5999 - mse: 286.1113\n",
            "Epoch 246/500\n",
            "2/2 [==============================] - 0s 5ms/step - loss: 15.7322 - mse: 365.6820\n",
            "Epoch 247/500\n",
            "2/2 [==============================] - 0s 4ms/step - loss: 17.5854 - mse: 415.9406\n",
            "Epoch 248/500\n",
            "2/2 [==============================] - 0s 6ms/step - loss: 13.1480 - mse: 250.5866\n",
            "Epoch 249/500\n",
            "2/2 [==============================] - 0s 6ms/step - loss: 14.4554 - mse: 286.1089\n",
            "Epoch 250/500\n",
            "2/2 [==============================] - 0s 5ms/step - loss: 23.1314 - mse: 786.7753\n",
            "Epoch 251/500\n",
            "2/2 [==============================] - 0s 6ms/step - loss: 10.0766 - mse: 146.3985\n",
            "Epoch 252/500\n",
            "2/2 [==============================] - 0s 22ms/step - loss: 32.5553 - mse: 1677.3627\n",
            "Epoch 253/500\n",
            "2/2 [==============================] - 0s 18ms/step - loss: 18.6114 - mse: 489.0351\n",
            "Epoch 254/500\n",
            "2/2 [==============================] - 0s 8ms/step - loss: 6.3377 - mse: 60.6791\n",
            "Epoch 255/500\n",
            "2/2 [==============================] - 0s 7ms/step - loss: 19.4555 - mse: 606.2157\n",
            "Epoch 256/500\n",
            "2/2 [==============================] - 0s 17ms/step - loss: 33.4748 - mse: 1682.9404\n",
            "Epoch 257/500\n",
            "2/2 [==============================] - 0s 12ms/step - loss: 16.5367 - mse: 398.4005\n",
            "Epoch 258/500\n",
            "2/2 [==============================] - 0s 6ms/step - loss: 5.8041 - mse: 48.9496\n",
            "Epoch 259/500\n",
            "2/2 [==============================] - 0s 4ms/step - loss: 14.8250 - mse: 357.9933\n",
            "Epoch 260/500\n",
            "2/2 [==============================] - 0s 5ms/step - loss: 14.9604 - mse: 303.4442\n",
            "Epoch 261/500\n",
            "2/2 [==============================] - 0s 11ms/step - loss: 17.4439 - mse: 457.3228\n",
            "Epoch 262/500\n",
            "2/2 [==============================] - 0s 7ms/step - loss: 15.7504 - mse: 359.7751\n",
            "Epoch 263/500\n",
            "2/2 [==============================] - 0s 10ms/step - loss: 10.9352 - mse: 219.2682\n",
            "Epoch 264/500\n",
            "2/2 [==============================] - 0s 8ms/step - loss: 18.5237 - mse: 511.4229\n",
            "Epoch 265/500\n",
            "2/2 [==============================] - 0s 4ms/step - loss: 13.4918 - mse: 273.6636\n",
            "Epoch 266/500\n",
            "2/2 [==============================] - 0s 8ms/step - loss: 10.0360 - mse: 222.5634\n",
            "Epoch 267/500\n",
            "2/2 [==============================] - 0s 13ms/step - loss: 4.9031 - mse: 31.6854\n",
            "Epoch 268/500\n",
            "2/2 [==============================] - 0s 4ms/step - loss: 14.9978 - mse: 348.3919\n",
            "Epoch 269/500\n",
            "2/2 [==============================] - 0s 9ms/step - loss: 24.1703 - mse: 832.9049\n",
            "Epoch 270/500\n",
            "2/2 [==============================] - 0s 5ms/step - loss: 16.6155 - mse: 395.0759\n",
            "Epoch 271/500\n",
            "2/2 [==============================] - 0s 5ms/step - loss: 15.0978 - mse: 290.2459\n",
            "Epoch 272/500\n",
            "2/2 [==============================] - 0s 5ms/step - loss: 29.1857 - mse: 1169.7312\n",
            "Epoch 273/500\n",
            "2/2 [==============================] - 0s 7ms/step - loss: 4.8575 - mse: 35.3042\n",
            "Epoch 274/500\n",
            "2/2 [==============================] - 0s 5ms/step - loss: 18.3269 - mse: 504.7594\n",
            "Epoch 275/500\n",
            "2/2 [==============================] - 0s 5ms/step - loss: 18.9319 - mse: 502.9089\n",
            "Epoch 276/500\n",
            "2/2 [==============================] - 0s 5ms/step - loss: 12.5900 - mse: 260.2858\n",
            "Epoch 277/500\n",
            "2/2 [==============================] - 0s 6ms/step - loss: 29.9433 - mse: 1264.8357\n",
            "Epoch 278/500\n",
            "2/2 [==============================] - 0s 11ms/step - loss: 10.4399 - mse: 218.8771\n",
            "Epoch 279/500\n",
            "2/2 [==============================] - 0s 3ms/step - loss: 15.9049 - mse: 374.6281\n",
            "Epoch 280/500\n",
            "2/2 [==============================] - 0s 3ms/step - loss: 20.8323 - mse: 660.0287\n",
            "Epoch 281/500\n",
            "2/2 [==============================] - 0s 10ms/step - loss: 18.6710 - mse: 528.9095\n",
            "Epoch 282/500\n",
            "2/2 [==============================] - 0s 4ms/step - loss: 7.0310 - mse: 91.1698\n",
            "Epoch 283/500\n",
            "2/2 [==============================] - 0s 5ms/step - loss: 8.1557 - mse: 88.9592\n",
            "Epoch 284/500\n",
            "2/2 [==============================] - 0s 4ms/step - loss: 25.2786 - mse: 963.5889\n",
            "Epoch 285/500\n",
            "2/2 [==============================] - 0s 5ms/step - loss: 13.9512 - mse: 309.6589\n",
            "Epoch 286/500\n",
            "2/2 [==============================] - 0s 4ms/step - loss: 6.8590 - mse: 82.6313\n",
            "Epoch 287/500\n",
            "2/2 [==============================] - 0s 5ms/step - loss: 24.4060 - mse: 854.4973\n",
            "Epoch 288/500\n",
            "2/2 [==============================] - 0s 3ms/step - loss: 20.5326 - mse: 627.5299\n",
            "Epoch 289/500\n",
            "2/2 [==============================] - 0s 5ms/step - loss: 11.8506 - mse: 246.2896\n",
            "Epoch 290/500\n",
            "2/2 [==============================] - 0s 3ms/step - loss: 16.4298 - mse: 360.6713\n",
            "Epoch 291/500\n",
            "2/2 [==============================] - 0s 5ms/step - loss: 16.6570 - mse: 407.8033\n",
            "Epoch 292/500\n",
            "2/2 [==============================] - 0s 4ms/step - loss: 8.7504 - mse: 174.4032\n",
            "Epoch 293/500\n",
            "2/2 [==============================] - 0s 5ms/step - loss: 15.6312 - mse: 341.7377\n",
            "Epoch 294/500\n",
            "2/2 [==============================] - 0s 3ms/step - loss: 23.4722 - mse: 826.4276\n",
            "Epoch 295/500\n",
            "2/2 [==============================] - 0s 3ms/step - loss: 16.2444 - mse: 378.6774\n",
            "Epoch 296/500\n",
            "2/2 [==============================] - 0s 3ms/step - loss: 4.8678 - mse: 39.5051\n",
            "Epoch 297/500\n",
            "2/2 [==============================] - 0s 4ms/step - loss: 13.3494 - mse: 251.1346\n",
            "Epoch 298/500\n",
            "2/2 [==============================] - 0s 3ms/step - loss: 25.2139 - mse: 911.6633\n",
            "Epoch 299/500\n",
            "2/2 [==============================] - 0s 13ms/step - loss: 15.5035 - mse: 364.9173\n",
            "Epoch 300/500\n",
            "2/2 [==============================] - 0s 3ms/step - loss: 6.8010 - mse: 57.1880\n",
            "Epoch 301/500\n",
            "2/2 [==============================] - 0s 3ms/step - loss: 24.2515 - mse: 827.1609\n",
            "Epoch 302/500\n",
            "2/2 [==============================] - 0s 4ms/step - loss: 8.0720 - mse: 90.5719\n",
            "Epoch 303/500\n",
            "2/2 [==============================] - 0s 4ms/step - loss: 20.7506 - mse: 633.0447\n",
            "Epoch 304/500\n",
            "2/2 [==============================] - 0s 3ms/step - loss: 13.3975 - mse: 270.8667\n",
            "Epoch 305/500\n",
            "2/2 [==============================] - 0s 5ms/step - loss: 6.9668 - mse: 94.1587\n",
            "Epoch 306/500\n",
            "2/2 [==============================] - 0s 5ms/step - loss: 18.9046 - mse: 499.6995\n",
            "Epoch 307/500\n",
            "2/2 [==============================] - 0s 6ms/step - loss: 9.5648 - mse: 189.5023\n",
            "Epoch 308/500\n",
            "2/2 [==============================] - 0s 4ms/step - loss: 20.0752 - mse: 622.4451\n",
            "Epoch 309/500\n",
            "2/2 [==============================] - 0s 5ms/step - loss: 14.5538 - mse: 320.5679\n",
            "Epoch 310/500\n",
            "2/2 [==============================] - 0s 5ms/step - loss: 4.4025 - mse: 27.3316\n",
            "Epoch 311/500\n",
            "2/2 [==============================] - 0s 4ms/step - loss: 11.9853 - mse: 255.2880\n",
            "Epoch 312/500\n",
            "2/2 [==============================] - 0s 5ms/step - loss: 29.2541 - mse: 1185.5442\n",
            "Epoch 313/500\n",
            "2/2 [==============================] - 0s 6ms/step - loss: 8.9031 - mse: 117.9093\n",
            "Epoch 314/500\n",
            "2/2 [==============================] - 0s 7ms/step - loss: 6.4899 - mse: 84.2638\n",
            "Epoch 315/500\n",
            "2/2 [==============================] - 0s 5ms/step - loss: 23.9050 - mse: 830.3148\n",
            "Epoch 316/500\n",
            "2/2 [==============================] - 0s 12ms/step - loss: 16.2247 - mse: 397.2140\n",
            "Epoch 317/500\n",
            "2/2 [==============================] - 0s 4ms/step - loss: 20.8451 - mse: 594.3234\n",
            "Epoch 318/500\n",
            "2/2 [==============================] - 0s 4ms/step - loss: 7.8404 - mse: 78.8780\n",
            "Epoch 319/500\n",
            "2/2 [==============================] - 0s 3ms/step - loss: 17.7886 - mse: 470.6812\n",
            "Epoch 320/500\n",
            "2/2 [==============================] - 0s 3ms/step - loss: 10.1026 - mse: 170.9185\n",
            "Epoch 321/500\n",
            "2/2 [==============================] - 0s 6ms/step - loss: 8.2143 - mse: 109.4006\n",
            "Epoch 322/500\n",
            "2/2 [==============================] - 0s 4ms/step - loss: 4.2352 - mse: 23.9836\n",
            "Epoch 323/500\n",
            "2/2 [==============================] - 0s 6ms/step - loss: 14.6589 - mse: 294.0338\n",
            "Epoch 324/500\n",
            "2/2 [==============================] - 0s 4ms/step - loss: 18.8435 - mse: 550.5340\n",
            "Epoch 325/500\n",
            "2/2 [==============================] - 0s 7ms/step - loss: 17.5990 - mse: 495.2275\n",
            "Epoch 326/500\n",
            "2/2 [==============================] - 0s 9ms/step - loss: 24.1179 - mse: 878.9764\n",
            "Epoch 327/500\n",
            "2/2 [==============================] - 0s 10ms/step - loss: 9.3258 - mse: 137.6517\n",
            "Epoch 328/500\n",
            "2/2 [==============================] - 0s 8ms/step - loss: 10.3371 - mse: 209.2248\n",
            "Epoch 329/500\n",
            "2/2 [==============================] - 0s 3ms/step - loss: 16.0252 - mse: 387.5695\n",
            "Epoch 330/500\n",
            "2/2 [==============================] - 0s 13ms/step - loss: 14.3445 - mse: 282.1801\n",
            "Epoch 331/500\n",
            "2/2 [==============================] - 0s 4ms/step - loss: 25.8087 - mse: 952.6489\n",
            "Epoch 332/500\n",
            "2/2 [==============================] - 0s 3ms/step - loss: 17.0596 - mse: 417.4260\n",
            "Epoch 333/500\n",
            "2/2 [==============================] - 0s 5ms/step - loss: 8.4034 - mse: 102.7744\n",
            "Epoch 334/500\n",
            "2/2 [==============================] - 0s 7ms/step - loss: 13.2844 - mse: 270.8492\n",
            "Epoch 335/500\n",
            "2/2 [==============================] - 0s 6ms/step - loss: 13.0617 - mse: 262.5518\n",
            "Epoch 336/500\n",
            "2/2 [==============================] - 0s 8ms/step - loss: 32.5815 - mse: 1448.6481\n",
            "Epoch 337/500\n",
            "2/2 [==============================] - 0s 3ms/step - loss: 11.1129 - mse: 189.4945\n",
            "Epoch 338/500\n",
            "2/2 [==============================] - 0s 6ms/step - loss: 20.1126 - mse: 594.1544\n",
            "Epoch 339/500\n",
            "2/2 [==============================] - 0s 6ms/step - loss: 33.8644 - mse: 1711.9342\n",
            "Epoch 340/500\n",
            "2/2 [==============================] - 0s 3ms/step - loss: 8.5667 - mse: 104.6362\n",
            "Epoch 341/500\n",
            "2/2 [==============================] - 0s 14ms/step - loss: 21.6146 - mse: 652.5071\n",
            "Epoch 342/500\n",
            "2/2 [==============================] - 0s 3ms/step - loss: 14.0404 - mse: 263.4301\n",
            "Epoch 343/500\n",
            "2/2 [==============================] - 0s 5ms/step - loss: 11.5653 - mse: 178.5656\n",
            "Epoch 344/500\n",
            "2/2 [==============================] - 0s 7ms/step - loss: 10.6336 - mse: 232.2054\n",
            "Epoch 345/500\n",
            "2/2 [==============================] - 0s 6ms/step - loss: 30.8331 - mse: 1338.0316\n",
            "Epoch 346/500\n",
            "2/2 [==============================] - 0s 9ms/step - loss: 10.5768 - mse: 266.2568\n",
            "Epoch 347/500\n",
            "2/2 [==============================] - 0s 7ms/step - loss: 25.4494 - mse: 908.4055\n",
            "Epoch 348/500\n",
            "2/2 [==============================] - 0s 9ms/step - loss: 13.5353 - mse: 282.2300\n",
            "Epoch 349/500\n",
            "2/2 [==============================] - 0s 10ms/step - loss: 12.9161 - mse: 249.0093\n",
            "Epoch 350/500\n",
            "2/2 [==============================] - 0s 7ms/step - loss: 15.3445 - mse: 322.3564\n",
            "Epoch 351/500\n",
            "2/2 [==============================] - 0s 5ms/step - loss: 32.8107 - mse: 1511.8971\n",
            "Epoch 352/500\n",
            "2/2 [==============================] - 0s 15ms/step - loss: 13.9803 - mse: 276.9870\n",
            "Epoch 353/500\n",
            "2/2 [==============================] - 0s 8ms/step - loss: 17.6427 - mse: 476.9469\n",
            "Epoch 354/500\n",
            "2/2 [==============================] - 0s 6ms/step - loss: 11.2805 - mse: 237.5330\n",
            "Epoch 355/500\n",
            "2/2 [==============================] - 0s 10ms/step - loss: 26.6439 - mse: 1016.0594\n",
            "Epoch 356/500\n",
            "2/2 [==============================] - 0s 7ms/step - loss: 10.3154 - mse: 181.8655\n",
            "Epoch 357/500\n",
            "2/2 [==============================] - 0s 7ms/step - loss: 15.1836 - mse: 361.7880\n",
            "Epoch 358/500\n",
            "2/2 [==============================] - 0s 8ms/step - loss: 13.5969 - mse: 290.4306\n",
            "Epoch 359/500\n",
            "2/2 [==============================] - 0s 13ms/step - loss: 12.5656 - mse: 294.7335\n",
            "Epoch 360/500\n",
            "2/2 [==============================] - 0s 4ms/step - loss: 20.7676 - mse: 648.0394\n",
            "Epoch 361/500\n",
            "2/2 [==============================] - 0s 5ms/step - loss: 9.9220 - mse: 187.3880\n",
            "Epoch 362/500\n",
            "2/2 [==============================] - 0s 3ms/step - loss: 7.0076 - mse: 69.1308\n",
            "Epoch 363/500\n",
            "2/2 [==============================] - 0s 7ms/step - loss: 25.7589 - mse: 989.6170\n",
            "Epoch 364/500\n",
            "2/2 [==============================] - 0s 8ms/step - loss: 32.1472 - mse: 1519.6160\n",
            "Epoch 365/500\n",
            "2/2 [==============================] - 0s 5ms/step - loss: 9.9609 - mse: 160.3536\n",
            "Epoch 366/500\n",
            "2/2 [==============================] - 0s 9ms/step - loss: 9.6492 - mse: 226.2366\n",
            "Epoch 367/500\n",
            "2/2 [==============================] - 0s 7ms/step - loss: 30.4298 - mse: 1295.9438\n",
            "Epoch 368/500\n",
            "2/2 [==============================] - 0s 16ms/step - loss: 10.5032 - mse: 235.9196\n",
            "Epoch 369/500\n",
            "2/2 [==============================] - 0s 13ms/step - loss: 14.9906 - mse: 331.1003\n",
            "Epoch 370/500\n",
            "2/2 [==============================] - 0s 8ms/step - loss: 14.6578 - mse: 308.1911\n",
            "Epoch 371/500\n",
            "2/2 [==============================] - 0s 3ms/step - loss: 23.3675 - mse: 789.5594\n",
            "Epoch 372/500\n",
            "2/2 [==============================] - 0s 3ms/step - loss: 13.0890 - mse: 289.8889\n",
            "Epoch 373/500\n",
            "2/2 [==============================] - 0s 6ms/step - loss: 9.2358 - mse: 140.3514\n",
            "Epoch 374/500\n",
            "2/2 [==============================] - 0s 6ms/step - loss: 9.6529 - mse: 194.0322\n",
            "Epoch 375/500\n",
            "2/2 [==============================] - 0s 12ms/step - loss: 12.9985 - mse: 237.7915\n",
            "Epoch 376/500\n",
            "2/2 [==============================] - 0s 10ms/step - loss: 14.8837 - mse: 324.5980\n",
            "Epoch 377/500\n",
            "2/2 [==============================] - 0s 11ms/step - loss: 14.7759 - mse: 296.7557\n",
            "Epoch 378/500\n",
            "2/2 [==============================] - 0s 10ms/step - loss: 16.2604 - mse: 418.0211\n",
            "Epoch 379/500\n",
            "2/2 [==============================] - 0s 3ms/step - loss: 20.8138 - mse: 596.0635\n",
            "Epoch 380/500\n",
            "2/2 [==============================] - 0s 11ms/step - loss: 33.5810 - mse: 1690.0549\n",
            "Epoch 381/500\n",
            "2/2 [==============================] - 0s 11ms/step - loss: 8.1951 - mse: 100.5079\n",
            "Epoch 382/500\n",
            "2/2 [==============================] - 0s 4ms/step - loss: 13.1339 - mse: 283.1773\n",
            "Epoch 383/500\n",
            "2/2 [==============================] - 0s 3ms/step - loss: 8.3695 - mse: 125.8085\n",
            "Epoch 384/500\n",
            "2/2 [==============================] - 0s 3ms/step - loss: 7.1143 - mse: 72.2284\n",
            "Epoch 385/500\n",
            "2/2 [==============================] - 0s 4ms/step - loss: 10.9123 - mse: 250.1918\n",
            "Epoch 386/500\n",
            "2/2 [==============================] - 0s 4ms/step - loss: 19.7291 - mse: 600.0681\n",
            "Epoch 387/500\n",
            "2/2 [==============================] - 0s 3ms/step - loss: 24.9463 - mse: 902.3174\n",
            "Epoch 388/500\n",
            "2/2 [==============================] - 0s 3ms/step - loss: 8.7508 - mse: 128.4265\n",
            "Epoch 389/500\n",
            "2/2 [==============================] - 0s 5ms/step - loss: 5.9301 - mse: 48.5766\n",
            "Epoch 390/500\n",
            "2/2 [==============================] - 0s 4ms/step - loss: 24.5418 - mse: 888.4564\n",
            "Epoch 391/500\n",
            "2/2 [==============================] - 0s 3ms/step - loss: 5.9611 - mse: 72.5135\n",
            "Epoch 392/500\n",
            "2/2 [==============================] - 0s 3ms/step - loss: 16.3911 - mse: 381.7124\n",
            "Epoch 393/500\n",
            "2/2 [==============================] - 0s 3ms/step - loss: 6.0824 - mse: 75.9374\n",
            "Epoch 394/500\n",
            "2/2 [==============================] - 0s 9ms/step - loss: 11.1405 - mse: 205.7966\n",
            "Epoch 395/500\n",
            "2/2 [==============================] - 0s 4ms/step - loss: 15.0374 - mse: 338.9741\n",
            "Epoch 396/500\n",
            "2/2 [==============================] - 0s 4ms/step - loss: 7.6535 - mse: 103.1093\n",
            "Epoch 397/500\n",
            "2/2 [==============================] - 0s 4ms/step - loss: 8.7964 - mse: 137.2735\n",
            "Epoch 398/500\n",
            "2/2 [==============================] - 0s 4ms/step - loss: 14.7086 - mse: 323.8785\n",
            "Epoch 399/500\n",
            "2/2 [==============================] - 0s 2ms/step - loss: 11.2730 - mse: 282.8248\n",
            "Epoch 400/500\n",
            "2/2 [==============================] - 0s 38ms/step - loss: 21.8442 - mse: 737.9344\n",
            "Epoch 401/500\n",
            "2/2 [==============================] - 0s 7ms/step - loss: 14.9950 - mse: 353.6129\n",
            "Epoch 402/500\n",
            "2/2 [==============================] - 0s 3ms/step - loss: 8.5140 - mse: 115.9316\n",
            "Epoch 403/500\n",
            "2/2 [==============================] - 0s 5ms/step - loss: 10.4808 - mse: 192.7355\n",
            "Epoch 404/500\n",
            "2/2 [==============================] - 0s 4ms/step - loss: 10.3338 - mse: 208.8716\n",
            "Epoch 405/500\n",
            "2/2 [==============================] - 0s 14ms/step - loss: 6.3345 - mse: 67.7150\n",
            "Epoch 406/500\n",
            "2/2 [==============================] - 0s 4ms/step - loss: 17.6278 - mse: 468.3852\n",
            "Epoch 407/500\n",
            "2/2 [==============================] - 0s 3ms/step - loss: 11.0453 - mse: 259.2378\n",
            "Epoch 408/500\n",
            "2/2 [==============================] - 0s 5ms/step - loss: 21.1405 - mse: 682.7211\n",
            "Epoch 409/500\n",
            "2/2 [==============================] - 0s 3ms/step - loss: 30.1214 - mse: 1398.7831\n",
            "Epoch 410/500\n",
            "2/2 [==============================] - 0s 6ms/step - loss: 9.8664 - mse: 239.6774\n",
            "Epoch 411/500\n",
            "2/2 [==============================] - 0s 5ms/step - loss: 14.7341 - mse: 281.9210\n",
            "Epoch 412/500\n",
            "2/2 [==============================] - 0s 7ms/step - loss: 21.5053 - mse: 708.7814\n",
            "Epoch 413/500\n",
            "2/2 [==============================] - 0s 9ms/step - loss: 13.2164 - mse: 269.7840\n",
            "Epoch 414/500\n",
            "2/2 [==============================] - 0s 3ms/step - loss: 8.2320 - mse: 183.7898\n",
            "Epoch 415/500\n",
            "2/2 [==============================] - 0s 8ms/step - loss: 11.6741 - mse: 243.4201\n",
            "Epoch 416/500\n",
            "2/2 [==============================] - 0s 3ms/step - loss: 25.5757 - mse: 910.7958\n",
            "Epoch 417/500\n",
            "2/2 [==============================] - 0s 8ms/step - loss: 15.8632 - mse: 382.9764\n",
            "Epoch 418/500\n",
            "2/2 [==============================] - 0s 3ms/step - loss: 12.5430 - mse: 231.5979\n",
            "Epoch 419/500\n",
            "2/2 [==============================] - 0s 7ms/step - loss: 15.7013 - mse: 358.9492\n",
            "Epoch 420/500\n",
            "2/2 [==============================] - 0s 6ms/step - loss: 24.3816 - mse: 826.6442\n",
            "Epoch 421/500\n",
            "2/2 [==============================] - 0s 4ms/step - loss: 18.3878 - mse: 492.0558\n",
            "Epoch 422/500\n",
            "2/2 [==============================] - 0s 6ms/step - loss: 8.6306 - mse: 205.1710\n",
            "Epoch 423/500\n",
            "2/2 [==============================] - 0s 7ms/step - loss: 24.5894 - mse: 857.5133\n",
            "Epoch 424/500\n",
            "2/2 [==============================] - 0s 3ms/step - loss: 16.9869 - mse: 443.2191\n",
            "Epoch 425/500\n",
            "2/2 [==============================] - 0s 5ms/step - loss: 7.3615 - mse: 78.8528\n",
            "Epoch 426/500\n",
            "2/2 [==============================] - 0s 7ms/step - loss: 21.1903 - mse: 621.6400\n",
            "Epoch 427/500\n",
            "2/2 [==============================] - 0s 5ms/step - loss: 6.5448 - mse: 82.1297\n",
            "Epoch 428/500\n",
            "2/2 [==============================] - 0s 5ms/step - loss: 13.5843 - mse: 302.6566\n",
            "Epoch 429/500\n",
            "2/2 [==============================] - 0s 8ms/step - loss: 11.5558 - mse: 217.1869\n",
            "Epoch 430/500\n",
            "2/2 [==============================] - 0s 4ms/step - loss: 10.3228 - mse: 216.5345\n",
            "Epoch 431/500\n",
            "2/2 [==============================] - 0s 4ms/step - loss: 11.6010 - mse: 248.2882\n",
            "Epoch 432/500\n",
            "2/2 [==============================] - 0s 5ms/step - loss: 10.0319 - mse: 188.8461\n",
            "Epoch 433/500\n",
            "2/2 [==============================] - 0s 5ms/step - loss: 3.5679 - mse: 17.7791\n",
            "Epoch 434/500\n",
            "2/2 [==============================] - 0s 6ms/step - loss: 37.2589 - mse: 2198.4890\n",
            "Epoch 435/500\n",
            "2/2 [==============================] - 0s 4ms/step - loss: 14.1094 - mse: 322.4874\n",
            "Epoch 436/500\n",
            "2/2 [==============================] - 0s 5ms/step - loss: 12.3312 - mse: 217.0340\n",
            "Epoch 437/500\n",
            "2/2 [==============================] - 0s 6ms/step - loss: 16.2793 - mse: 347.3316\n",
            "Epoch 438/500\n",
            "2/2 [==============================] - 0s 4ms/step - loss: 13.9595 - mse: 284.8445\n",
            "Epoch 439/500\n",
            "2/2 [==============================] - 0s 5ms/step - loss: 31.9986 - mse: 1423.2028\n",
            "Epoch 440/500\n",
            "2/2 [==============================] - 0s 6ms/step - loss: 12.5344 - mse: 257.7317\n",
            "Epoch 441/500\n",
            "2/2 [==============================] - 0s 6ms/step - loss: 15.7998 - mse: 348.5556\n",
            "Epoch 442/500\n",
            "2/2 [==============================] - 0s 5ms/step - loss: 23.7339 - mse: 833.5866\n",
            "Epoch 443/500\n",
            "2/2 [==============================] - 0s 3ms/step - loss: 20.0578 - mse: 563.5342\n",
            "Epoch 444/500\n",
            "2/2 [==============================] - 0s 4ms/step - loss: 8.7435 - mse: 143.9814\n",
            "Epoch 445/500\n",
            "2/2 [==============================] - 0s 12ms/step - loss: 14.0577 - mse: 276.0739\n",
            "Epoch 446/500\n",
            "2/2 [==============================] - 0s 4ms/step - loss: 16.7505 - mse: 443.7619\n",
            "Epoch 447/500\n",
            "2/2 [==============================] - 0s 6ms/step - loss: 6.7599 - mse: 66.9232\n",
            "Epoch 448/500\n",
            "2/2 [==============================] - 0s 4ms/step - loss: 6.7231 - mse: 131.2383\n",
            "Epoch 449/500\n",
            "2/2 [==============================] - 0s 5ms/step - loss: 15.6021 - mse: 342.8967\n",
            "Epoch 450/500\n",
            "2/2 [==============================] - 0s 13ms/step - loss: 16.5601 - mse: 409.7599\n",
            "Epoch 451/500\n",
            "2/2 [==============================] - 0s 15ms/step - loss: 14.2009 - mse: 294.0728\n",
            "Epoch 452/500\n",
            "2/2 [==============================] - 0s 13ms/step - loss: 30.4469 - mse: 1316.7848\n",
            "Epoch 453/500\n",
            "2/2 [==============================] - 0s 4ms/step - loss: 5.1596 - mse: 53.8573\n",
            "Epoch 454/500\n",
            "2/2 [==============================] - 0s 5ms/step - loss: 30.0490 - mse: 1251.7937\n",
            "Epoch 455/500\n",
            "2/2 [==============================] - 0s 6ms/step - loss: 4.3391 - mse: 44.8073\n",
            "Epoch 456/500\n",
            "2/2 [==============================] - 0s 6ms/step - loss: 14.6253 - mse: 289.8653\n",
            "Epoch 457/500\n",
            "2/2 [==============================] - 0s 13ms/step - loss: 17.7926 - mse: 483.9011\n",
            "Epoch 458/500\n",
            "2/2 [==============================] - 0s 10ms/step - loss: 14.0534 - mse: 269.9162\n",
            "Epoch 459/500\n",
            "2/2 [==============================] - 0s 5ms/step - loss: 26.0041 - mse: 976.0260\n",
            "Epoch 460/500\n",
            "2/2 [==============================] - 0s 3ms/step - loss: 14.8388 - mse: 328.7535\n",
            "Epoch 461/500\n",
            "2/2 [==============================] - 0s 10ms/step - loss: 11.9892 - mse: 263.2530\n",
            "Epoch 462/500\n",
            "2/2 [==============================] - 0s 7ms/step - loss: 13.2978 - mse: 244.5591\n",
            "Epoch 463/500\n",
            "2/2 [==============================] - 0s 6ms/step - loss: 29.5155 - mse: 1217.2180\n",
            "Epoch 464/500\n",
            "2/2 [==============================] - 0s 6ms/step - loss: 3.4432 - mse: 22.1234\n",
            "Epoch 465/500\n",
            "2/2 [==============================] - 0s 5ms/step - loss: 15.1809 - mse: 350.1846\n",
            "Epoch 466/500\n",
            "2/2 [==============================] - 0s 5ms/step - loss: 20.7545 - mse: 647.3770\n",
            "Epoch 467/500\n",
            "2/2 [==============================] - 0s 5ms/step - loss: 30.7299 - mse: 1443.2198\n",
            "Epoch 468/500\n",
            "2/2 [==============================] - 0s 6ms/step - loss: 11.1451 - mse: 237.0504\n",
            "Epoch 469/500\n",
            "2/2 [==============================] - 0s 5ms/step - loss: 12.9623 - mse: 281.2482\n",
            "Epoch 470/500\n",
            "2/2 [==============================] - 0s 4ms/step - loss: 3.5298 - mse: 18.0719\n",
            "Epoch 471/500\n",
            "2/2 [==============================] - 0s 6ms/step - loss: 42.2271 - mse: 2726.5896\n",
            "Epoch 472/500\n",
            "2/2 [==============================] - 0s 7ms/step - loss: 3.8705 - mse: 27.9197\n",
            "Epoch 473/500\n",
            "2/2 [==============================] - 0s 5ms/step - loss: 16.1028 - mse: 436.3398\n",
            "Epoch 474/500\n",
            "2/2 [==============================] - 0s 3ms/step - loss: 39.0245 - mse: 2365.8193\n",
            "Epoch 475/500\n",
            "2/2 [==============================] - 0s 6ms/step - loss: 15.8435 - mse: 364.3896\n",
            "Epoch 476/500\n",
            "2/2 [==============================] - 0s 3ms/step - loss: 13.4667 - mse: 248.5025\n",
            "Epoch 477/500\n",
            "2/2 [==============================] - 0s 6ms/step - loss: 29.8252 - mse: 1241.8223\n",
            "Epoch 478/500\n",
            "2/2 [==============================] - 0s 3ms/step - loss: 4.3166 - mse: 46.0308\n",
            "Epoch 479/500\n",
            "2/2 [==============================] - 0s 6ms/step - loss: 13.6124 - mse: 264.3802\n",
            "Epoch 480/500\n",
            "2/2 [==============================] - 0s 3ms/step - loss: 20.2783 - mse: 632.7159\n",
            "Epoch 481/500\n",
            "2/2 [==============================] - 0s 7ms/step - loss: 24.4530 - mse: 892.4920\n",
            "Epoch 482/500\n",
            "2/2 [==============================] - 0s 6ms/step - loss: 13.2438 - mse: 274.4316\n",
            "Epoch 483/500\n",
            "2/2 [==============================] - 0s 5ms/step - loss: 8.8206 - mse: 195.8282\n",
            "Epoch 484/500\n",
            "2/2 [==============================] - 0s 6ms/step - loss: 27.9590 - mse: 1106.4900\n",
            "Epoch 485/500\n",
            "2/2 [==============================] - 0s 5ms/step - loss: 8.6305 - mse: 159.5545\n",
            "Epoch 486/500\n",
            "2/2 [==============================] - 0s 3ms/step - loss: 5.3914 - mse: 54.3132\n",
            "Epoch 487/500\n",
            "2/2 [==============================] - 0s 4ms/step - loss: 11.9805 - mse: 276.1910\n",
            "Epoch 488/500\n",
            "2/2 [==============================] - 0s 4ms/step - loss: 27.5139 - mse: 1099.0322\n",
            "Epoch 489/500\n",
            "2/2 [==============================] - 0s 4ms/step - loss: 3.2110 - mse: 17.3904\n",
            "Epoch 490/500\n",
            "2/2 [==============================] - 0s 4ms/step - loss: 15.1762 - mse: 345.1269\n",
            "Epoch 491/500\n",
            "2/2 [==============================] - 0s 5ms/step - loss: 18.7091 - mse: 576.9916\n",
            "Epoch 492/500\n",
            "2/2 [==============================] - 0s 6ms/step - loss: 21.5626 - mse: 651.7164\n",
            "Epoch 493/500\n",
            "2/2 [==============================] - 0s 5ms/step - loss: 5.1350 - mse: 47.1088\n",
            "Epoch 494/500\n",
            "2/2 [==============================] - 0s 13ms/step - loss: 13.7514 - mse: 280.7774\n",
            "Epoch 495/500\n",
            "2/2 [==============================] - 0s 6ms/step - loss: 13.3064 - mse: 236.2843\n",
            "Epoch 496/500\n",
            "2/2 [==============================] - 0s 14ms/step - loss: 12.6145 - mse: 241.7817\n",
            "Epoch 497/500\n",
            "2/2 [==============================] - 0s 5ms/step - loss: 17.4994 - mse: 510.3631\n",
            "Epoch 498/500\n",
            "2/2 [==============================] - 0s 5ms/step - loss: 23.8306 - mse: 836.9046\n",
            "Epoch 499/500\n",
            "2/2 [==============================] - 0s 10ms/step - loss: 9.5966 - mse: 141.3062\n",
            "Epoch 500/500\n",
            "2/2 [==============================] - 0s 8ms/step - loss: 14.5916 - mse: 292.1584\n",
            "Model: \"sequential_2\"\n",
            "_________________________________________________________________\n",
            "Layer (type)                 Output Shape              Param #   \n",
            "=================================================================\n",
            "dense_3 (Dense)              (None, 1)                 2         \n",
            "=================================================================\n",
            "Total params: 2\n",
            "Trainable params: 2\n",
            "Non-trainable params: 0\n",
            "_________________________________________________________________\n"
          ],
          "name": "stdout"
        }
      ]
    },
    {
      "cell_type": "code",
      "metadata": {
        "colab": {
          "base_uri": "https://localhost:8080/",
          "height": 428
        },
        "id": "IUrKEgJpu8a3",
        "outputId": "b0f5165f-11fd-4d7f-de24-69ebecf16357"
      },
      "source": [
        "y_pred_im_2 = model_im_2.predict(X_test)\n",
        "plot_predictions(predictions=y_pred_im_2)\n"
      ],
      "execution_count": 112,
      "outputs": [
        {
          "output_type": "display_data",
          "data": {
            "image/png": "[encoded data removed]",
            "text/plain": [
              "<Figure size 720x504 with 1 Axes>"
            ]
          },
          "metadata": {
            "tags": [],
            "needs_background": "light"
          }
        }
      ]
    }
  ]
}