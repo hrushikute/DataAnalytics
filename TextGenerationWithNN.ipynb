{
  "nbformat": 4,
  "nbformat_minor": 0,
  "metadata": {
    "colab": {
      "name": "TextGenerationWithNN.ipynb",
      "provenance": [],
      "authorship_tag": "ABX9TyOgRWFXd0/g+9v7U44VkmJc",
      "include_colab_link": true
    },
    "kernelspec": {
      "name": "python3",
      "display_name": "Python 3"
    },
    "language_info": {
      "name": "python"
    }
  },
  "cells": [
    {
      "cell_type": "markdown",
      "metadata": {
        "id": "view-in-github",
        "colab_type": "text"
      },
      "source": [
        "<a href=\"https://colab.research.google.com/github/hrushikute/DataAnalytics/blob/master/TextGenerationWithNN.ipynb\" target=\"_parent\"><img src=\"https://colab.research.google.com/assets/colab-badge.svg\" alt=\"Open In Colab\"/></a>"
      ]
    },
    {
      "cell_type": "markdown",
      "source": [
        "# **Generate the Text Using Neural Network**"
      ],
      "metadata": {
        "id": "ZpyOHrpEn5mm"
      }
    },
    {
      "cell_type": "markdown",
      "source": [
        "### Imports"
      ],
      "metadata": {
        "id": "oMzcWisooEir"
      }
    },
    {
      "cell_type": "code",
      "source": [
        "import tensorflow as tf\n",
        "import numpy as np\n",
        "from tensorflow.keras.preprocessing.text import Tokenizer\n",
        "from tensorflow.keras.preprocessing.sequence import pad_sequences\n",
        "from tensorflow.keras.layers import Embedding, LSTM, Dense, Bidirectional\n",
        "from tensorflow.keras.models import Sequential"
      ],
      "metadata": {
        "id": "2pEfNWdqoDcO"
      },
      "execution_count": 4,
      "outputs": []
    },
    {
      "cell_type": "markdown",
      "source": [
        "## Build the word Vocabulary"
      ],
      "metadata": {
        "id": "O9lKlWO2oy_8"
      }
    },
    {
      "cell_type": "code",
      "source": [
        "data="
      ],
      "metadata": {
        "id": "xJUrJajZoxX1"
      },
      "execution_count": null,
      "outputs": []
    }
  ]
}