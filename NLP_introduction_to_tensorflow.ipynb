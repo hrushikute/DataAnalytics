{
  "nbformat": 4,
  "nbformat_minor": 0,
  "metadata": {
    "colab": {
      "name": "NLP_introduction_to_tensorflow.ipynb",
      "provenance": [],
      "collapsed_sections": [],
      "toc_visible": true,
      "authorship_tag": "ABX9TyN6SIC8+4p6nJfcxL/umvIN",
      "include_colab_link": true
    },
    "kernelspec": {
      "name": "python3",
      "display_name": "Python 3"
    },
    "language_info": {
      "name": "python"
    },
    "accelerator": "GPU"
  },
  "cells": [
    {
      "cell_type": "markdown",
      "metadata": {
        "id": "view-in-github",
        "colab_type": "text"
      },
      "source": [
        "<a href=\"https://colab.research.google.com/github/hrushikute/DataAnalytics/blob/master/NLP_introduction_to_tensorflow.ipynb\" target=\"_parent\"><img src=\"https://colab.research.google.com/assets/colab-badge.svg\" alt=\"Open In Colab\"/></a>"
      ]
    },
    {
      "cell_type": "markdown",
      "metadata": {
        "id": "wePXeGN3-YOP"
      },
      "source": [
        "# Introduction to NLP fundamentals in TensorFlow\n",
        "\n",
        "NLP has the goal of deriving information out of natural language (could be sequence of text  or speech)\n",
        "Another common term for NLP problems is sequence to sequence problems (seq2seq)."
      ]
    },
    {
      "cell_type": "markdown",
      "metadata": {
        "id": "JLjEvxMU-t6i"
      },
      "source": [
        "## Check for GPU"
      ]
    },
    {
      "cell_type": "code",
      "metadata": {
        "colab": {
          "base_uri": "https://localhost:8080/"
        },
        "id": "5X22x1VK-x5C",
        "outputId": "091832e6-19ce-402f-9a5e-a0372250e3e2"
      },
      "source": [
        "!nvidia-smi -L"
      ],
      "execution_count": 1,
      "outputs": [
        {
          "output_type": "stream",
          "name": "stdout",
          "text": [
            "GPU 0: Tesla K80 (UUID: GPU-0d313d1f-5de9-16ed-18e3-4af7e8eb84a0)\n"
          ]
        }
      ]
    },
    {
      "cell_type": "markdown",
      "metadata": {
        "id": "xZKD7Xxb_P07"
      },
      "source": [
        "## Get Helper functions"
      ]
    },
    {
      "cell_type": "code",
      "metadata": {
        "colab": {
          "base_uri": "https://localhost:8080/"
        },
        "id": "2mB6tYJO-42a",
        "outputId": "da5b84fb-9866-47cc-cb1a-1e13c8887d1d"
      },
      "source": [
        "! wget https://raw.githubusercontent.com/mrdbourke/tensorflow-deep-learning/main/extras/helper_functions.py\n",
        "# Import Series of helper functions for the notebook\n",
        "from helper_functions import unzip_data, create_tensorboard_callback, plot_loss_curves, compare_historys"
      ],
      "execution_count": 2,
      "outputs": [
        {
          "output_type": "stream",
          "name": "stdout",
          "text": [
            "--2021-10-26 07:11:16--  https://raw.githubusercontent.com/mrdbourke/tensorflow-deep-learning/main/extras/helper_functions.py\n",
            "Resolving raw.githubusercontent.com (raw.githubusercontent.com)... 185.199.111.133, 185.199.108.133, 185.199.109.133, ...\n",
            "Connecting to raw.githubusercontent.com (raw.githubusercontent.com)|185.199.111.133|:443... connected.\n",
            "HTTP request sent, awaiting response... 200 OK\n",
            "Length: 10246 (10K) [text/plain]\n",
            "Saving to: ‘helper_functions.py’\n",
            "\n",
            "helper_functions.py 100%[===================>]  10.01K  --.-KB/s    in 0s      \n",
            "\n",
            "2021-10-26 07:11:16 (79.8 MB/s) - ‘helper_functions.py’ saved [10246/10246]\n",
            "\n"
          ]
        }
      ]
    },
    {
      "cell_type": "markdown",
      "metadata": {
        "id": "Wg9XN4wKAuaf"
      },
      "source": [
        "## Get text dataset\n",
        "\n",
        "The dataset we are going to use is Kaggles introduction to NLP dataset (test samples of Tweets labelled a disaster or not disaster).\n",
        "\n",
        "See orginal source : https://www.kaggle.com/c/nlp-getting-started/overview"
      ]
    },
    {
      "cell_type": "code",
      "metadata": {
        "colab": {
          "base_uri": "https://localhost:8080/"
        },
        "id": "XbKIdGUy_tXO",
        "outputId": "43e92276-d817-4154-d17f-2911bc52ebf2"
      },
      "source": [
        "! wget https://storage.googleapis.com/ztm_tf_course/nlp_getting_started.zip"
      ],
      "execution_count": 3,
      "outputs": [
        {
          "output_type": "stream",
          "name": "stdout",
          "text": [
            "--2021-10-26 07:11:18--  https://storage.googleapis.com/ztm_tf_course/nlp_getting_started.zip\n",
            "Resolving storage.googleapis.com (storage.googleapis.com)... 142.250.128.128, 142.251.6.128, 142.250.159.128, ...\n",
            "Connecting to storage.googleapis.com (storage.googleapis.com)|142.250.128.128|:443... connected.\n",
            "HTTP request sent, awaiting response... 200 OK\n",
            "Length: 607343 (593K) [application/zip]\n",
            "Saving to: ‘nlp_getting_started.zip’\n",
            "\n",
            "\rnlp_getting_started   0%[                    ]       0  --.-KB/s               \rnlp_getting_started 100%[===================>] 593.11K  --.-KB/s    in 0.007s  \n",
            "\n",
            "2021-10-26 07:11:18 (89.0 MB/s) - ‘nlp_getting_started.zip’ saved [607343/607343]\n",
            "\n"
          ]
        }
      ]
    },
    {
      "cell_type": "code",
      "metadata": {
        "id": "xmyAVC9JBnBm"
      },
      "source": [
        "# Unzip the data\n",
        "\n",
        "unzip_data('nlp_getting_started.zip')"
      ],
      "execution_count": 4,
      "outputs": []
    },
    {
      "cell_type": "markdown",
      "metadata": {
        "id": "Dsn1_GH6DOk9"
      },
      "source": [
        "## Visualize a text dataset "
      ]
    },
    {
      "cell_type": "code",
      "metadata": {
        "colab": {
          "base_uri": "https://localhost:8080/",
          "height": 362
        },
        "id": "MnFSFfkKE9FE",
        "outputId": "ac37a968-b0c8-4098-ba4f-115520d82f50"
      },
      "source": [
        "import pandas as pd\n",
        "\n",
        "train_df = pd.read_csv(\"train.csv\")\n",
        "test_df = pd.read_csv(\"test.csv\")\n",
        "\n",
        "train_df.head(10)"
      ],
      "execution_count": 5,
      "outputs": [
        {
          "output_type": "execute_result",
          "data": {
            "text/html": [
              "<div>\n",
              "<style scoped>\n",
              "    .dataframe tbody tr th:only-of-type {\n",
              "        vertical-align: middle;\n",
              "    }\n",
              "\n",
              "    .dataframe tbody tr th {\n",
              "        vertical-align: top;\n",
              "    }\n",
              "\n",
              "    .dataframe thead th {\n",
              "        text-align: right;\n",
              "    }\n",
              "</style>\n",
              "<table border=\"1\" class=\"dataframe\">\n",
              "  <thead>\n",
              "    <tr style=\"text-align: right;\">\n",
              "      <th></th>\n",
              "      <th>id</th>\n",
              "      <th>keyword</th>\n",
              "      <th>location</th>\n",
              "      <th>text</th>\n",
              "      <th>target</th>\n",
              "    </tr>\n",
              "  </thead>\n",
              "  <tbody>\n",
              "    <tr>\n",
              "      <th>0</th>\n",
              "      <td>1</td>\n",
              "      <td>NaN</td>\n",
              "      <td>NaN</td>\n",
              "      <td>Our Deeds are the Reason of this #earthquake M...</td>\n",
              "      <td>1</td>\n",
              "    </tr>\n",
              "    <tr>\n",
              "      <th>1</th>\n",
              "      <td>4</td>\n",
              "      <td>NaN</td>\n",
              "      <td>NaN</td>\n",
              "      <td>Forest fire near La Ronge Sask. Canada</td>\n",
              "      <td>1</td>\n",
              "    </tr>\n",
              "    <tr>\n",
              "      <th>2</th>\n",
              "      <td>5</td>\n",
              "      <td>NaN</td>\n",
              "      <td>NaN</td>\n",
              "      <td>All residents asked to 'shelter in place' are ...</td>\n",
              "      <td>1</td>\n",
              "    </tr>\n",
              "    <tr>\n",
              "      <th>3</th>\n",
              "      <td>6</td>\n",
              "      <td>NaN</td>\n",
              "      <td>NaN</td>\n",
              "      <td>13,000 people receive #wildfires evacuation or...</td>\n",
              "      <td>1</td>\n",
              "    </tr>\n",
              "    <tr>\n",
              "      <th>4</th>\n",
              "      <td>7</td>\n",
              "      <td>NaN</td>\n",
              "      <td>NaN</td>\n",
              "      <td>Just got sent this photo from Ruby #Alaska as ...</td>\n",
              "      <td>1</td>\n",
              "    </tr>\n",
              "    <tr>\n",
              "      <th>5</th>\n",
              "      <td>8</td>\n",
              "      <td>NaN</td>\n",
              "      <td>NaN</td>\n",
              "      <td>#RockyFire Update =&gt; California Hwy. 20 closed...</td>\n",
              "      <td>1</td>\n",
              "    </tr>\n",
              "    <tr>\n",
              "      <th>6</th>\n",
              "      <td>10</td>\n",
              "      <td>NaN</td>\n",
              "      <td>NaN</td>\n",
              "      <td>#flood #disaster Heavy rain causes flash flood...</td>\n",
              "      <td>1</td>\n",
              "    </tr>\n",
              "    <tr>\n",
              "      <th>7</th>\n",
              "      <td>13</td>\n",
              "      <td>NaN</td>\n",
              "      <td>NaN</td>\n",
              "      <td>I'm on top of the hill and I can see a fire in...</td>\n",
              "      <td>1</td>\n",
              "    </tr>\n",
              "    <tr>\n",
              "      <th>8</th>\n",
              "      <td>14</td>\n",
              "      <td>NaN</td>\n",
              "      <td>NaN</td>\n",
              "      <td>There's an emergency evacuation happening now ...</td>\n",
              "      <td>1</td>\n",
              "    </tr>\n",
              "    <tr>\n",
              "      <th>9</th>\n",
              "      <td>15</td>\n",
              "      <td>NaN</td>\n",
              "      <td>NaN</td>\n",
              "      <td>I'm afraid that the tornado is coming to our a...</td>\n",
              "      <td>1</td>\n",
              "    </tr>\n",
              "  </tbody>\n",
              "</table>\n",
              "</div>"
            ],
            "text/plain": [
              "   id keyword  ...                                               text target\n",
              "0   1     NaN  ...  Our Deeds are the Reason of this #earthquake M...      1\n",
              "1   4     NaN  ...             Forest fire near La Ronge Sask. Canada      1\n",
              "2   5     NaN  ...  All residents asked to 'shelter in place' are ...      1\n",
              "3   6     NaN  ...  13,000 people receive #wildfires evacuation or...      1\n",
              "4   7     NaN  ...  Just got sent this photo from Ruby #Alaska as ...      1\n",
              "5   8     NaN  ...  #RockyFire Update => California Hwy. 20 closed...      1\n",
              "6  10     NaN  ...  #flood #disaster Heavy rain causes flash flood...      1\n",
              "7  13     NaN  ...  I'm on top of the hill and I can see a fire in...      1\n",
              "8  14     NaN  ...  There's an emergency evacuation happening now ...      1\n",
              "9  15     NaN  ...  I'm afraid that the tornado is coming to our a...      1\n",
              "\n",
              "[10 rows x 5 columns]"
            ]
          },
          "metadata": {},
          "execution_count": 5
        }
      ]
    },
    {
      "cell_type": "code",
      "metadata": {
        "colab": {
          "base_uri": "https://localhost:8080/",
          "height": 205
        },
        "id": "g0kA7ElbGZRb",
        "outputId": "da1f4b24-01de-49e5-b4c0-5d8f4ae50648"
      },
      "source": [
        "## Shuffle the training data.\n",
        "train_df_shuffled = train_df.sample(frac=1, random_state=42)\n",
        "train_df_shuffled.head()"
      ],
      "execution_count": 6,
      "outputs": [
        {
          "output_type": "execute_result",
          "data": {
            "text/html": [
              "<div>\n",
              "<style scoped>\n",
              "    .dataframe tbody tr th:only-of-type {\n",
              "        vertical-align: middle;\n",
              "    }\n",
              "\n",
              "    .dataframe tbody tr th {\n",
              "        vertical-align: top;\n",
              "    }\n",
              "\n",
              "    .dataframe thead th {\n",
              "        text-align: right;\n",
              "    }\n",
              "</style>\n",
              "<table border=\"1\" class=\"dataframe\">\n",
              "  <thead>\n",
              "    <tr style=\"text-align: right;\">\n",
              "      <th></th>\n",
              "      <th>id</th>\n",
              "      <th>keyword</th>\n",
              "      <th>location</th>\n",
              "      <th>text</th>\n",
              "      <th>target</th>\n",
              "    </tr>\n",
              "  </thead>\n",
              "  <tbody>\n",
              "    <tr>\n",
              "      <th>2644</th>\n",
              "      <td>3796</td>\n",
              "      <td>destruction</td>\n",
              "      <td>NaN</td>\n",
              "      <td>So you have a new weapon that can cause un-ima...</td>\n",
              "      <td>1</td>\n",
              "    </tr>\n",
              "    <tr>\n",
              "      <th>2227</th>\n",
              "      <td>3185</td>\n",
              "      <td>deluge</td>\n",
              "      <td>NaN</td>\n",
              "      <td>The f$&amp;amp;@ing things I do for #GISHWHES Just...</td>\n",
              "      <td>0</td>\n",
              "    </tr>\n",
              "    <tr>\n",
              "      <th>5448</th>\n",
              "      <td>7769</td>\n",
              "      <td>police</td>\n",
              "      <td>UK</td>\n",
              "      <td>DT @georgegalloway: RT @Galloway4Mayor: ÛÏThe...</td>\n",
              "      <td>1</td>\n",
              "    </tr>\n",
              "    <tr>\n",
              "      <th>132</th>\n",
              "      <td>191</td>\n",
              "      <td>aftershock</td>\n",
              "      <td>NaN</td>\n",
              "      <td>Aftershock back to school kick off was great. ...</td>\n",
              "      <td>0</td>\n",
              "    </tr>\n",
              "    <tr>\n",
              "      <th>6845</th>\n",
              "      <td>9810</td>\n",
              "      <td>trauma</td>\n",
              "      <td>Montgomery County, MD</td>\n",
              "      <td>in response to trauma Children of Addicts deve...</td>\n",
              "      <td>0</td>\n",
              "    </tr>\n",
              "  </tbody>\n",
              "</table>\n",
              "</div>"
            ],
            "text/plain": [
              "        id  ... target\n",
              "2644  3796  ...      1\n",
              "2227  3185  ...      0\n",
              "5448  7769  ...      1\n",
              "132    191  ...      0\n",
              "6845  9810  ...      0\n",
              "\n",
              "[5 rows x 5 columns]"
            ]
          },
          "metadata": {},
          "execution_count": 6
        }
      ]
    },
    {
      "cell_type": "code",
      "metadata": {
        "colab": {
          "base_uri": "https://localhost:8080/",
          "height": 205
        },
        "id": "1UYNWsqdGvSb",
        "outputId": "a06f4110-f87c-4a90-b44e-3af8e9d4103b"
      },
      "source": [
        "test_df.head()"
      ],
      "execution_count": 7,
      "outputs": [
        {
          "output_type": "execute_result",
          "data": {
            "text/html": [
              "<div>\n",
              "<style scoped>\n",
              "    .dataframe tbody tr th:only-of-type {\n",
              "        vertical-align: middle;\n",
              "    }\n",
              "\n",
              "    .dataframe tbody tr th {\n",
              "        vertical-align: top;\n",
              "    }\n",
              "\n",
              "    .dataframe thead th {\n",
              "        text-align: right;\n",
              "    }\n",
              "</style>\n",
              "<table border=\"1\" class=\"dataframe\">\n",
              "  <thead>\n",
              "    <tr style=\"text-align: right;\">\n",
              "      <th></th>\n",
              "      <th>id</th>\n",
              "      <th>keyword</th>\n",
              "      <th>location</th>\n",
              "      <th>text</th>\n",
              "    </tr>\n",
              "  </thead>\n",
              "  <tbody>\n",
              "    <tr>\n",
              "      <th>0</th>\n",
              "      <td>0</td>\n",
              "      <td>NaN</td>\n",
              "      <td>NaN</td>\n",
              "      <td>Just happened a terrible car crash</td>\n",
              "    </tr>\n",
              "    <tr>\n",
              "      <th>1</th>\n",
              "      <td>2</td>\n",
              "      <td>NaN</td>\n",
              "      <td>NaN</td>\n",
              "      <td>Heard about #earthquake is different cities, s...</td>\n",
              "    </tr>\n",
              "    <tr>\n",
              "      <th>2</th>\n",
              "      <td>3</td>\n",
              "      <td>NaN</td>\n",
              "      <td>NaN</td>\n",
              "      <td>there is a forest fire at spot pond, geese are...</td>\n",
              "    </tr>\n",
              "    <tr>\n",
              "      <th>3</th>\n",
              "      <td>9</td>\n",
              "      <td>NaN</td>\n",
              "      <td>NaN</td>\n",
              "      <td>Apocalypse lighting. #Spokane #wildfires</td>\n",
              "    </tr>\n",
              "    <tr>\n",
              "      <th>4</th>\n",
              "      <td>11</td>\n",
              "      <td>NaN</td>\n",
              "      <td>NaN</td>\n",
              "      <td>Typhoon Soudelor kills 28 in China and Taiwan</td>\n",
              "    </tr>\n",
              "  </tbody>\n",
              "</table>\n",
              "</div>"
            ],
            "text/plain": [
              "   id keyword location                                               text\n",
              "0   0     NaN      NaN                 Just happened a terrible car crash\n",
              "1   2     NaN      NaN  Heard about #earthquake is different cities, s...\n",
              "2   3     NaN      NaN  there is a forest fire at spot pond, geese are...\n",
              "3   9     NaN      NaN           Apocalypse lighting. #Spokane #wildfires\n",
              "4  11     NaN      NaN      Typhoon Soudelor kills 28 in China and Taiwan"
            ]
          },
          "metadata": {},
          "execution_count": 7
        }
      ]
    },
    {
      "cell_type": "code",
      "metadata": {
        "colab": {
          "base_uri": "https://localhost:8080/"
        },
        "id": "ezjcubhdG1a9",
        "outputId": "e2c9efcc-d9d4-4905-c4bc-ae8478c60fd6"
      },
      "source": [
        "#How many examples of each class\n",
        "train_df.target.value_counts()"
      ],
      "execution_count": 8,
      "outputs": [
        {
          "output_type": "execute_result",
          "data": {
            "text/plain": [
              "0    4342\n",
              "1    3271\n",
              "Name: target, dtype: int64"
            ]
          },
          "metadata": {},
          "execution_count": 8
        }
      ]
    },
    {
      "cell_type": "code",
      "metadata": {
        "colab": {
          "base_uri": "https://localhost:8080/"
        },
        "id": "Kx4f0zupIV3b",
        "outputId": "87dddf72-0242-4bad-af5c-fea005549c69"
      },
      "source": [
        "# How many total samples?\n",
        "len(train_df), len(test_df)"
      ],
      "execution_count": 9,
      "outputs": [
        {
          "output_type": "execute_result",
          "data": {
            "text/plain": [
              "(7613, 3263)"
            ]
          },
          "metadata": {},
          "execution_count": 9
        }
      ]
    },
    {
      "cell_type": "code",
      "metadata": {
        "colab": {
          "base_uri": "https://localhost:8080/"
        },
        "id": "1P-4iGmaKRoH",
        "outputId": "549c1cf3-03fe-4f37-eaa2-a14241807e88"
      },
      "source": [
        "# Visualising the random data samples\n",
        "import random\n",
        "\n",
        "random_index = random.randint(0,len(train_df)-5)\n",
        "\n",
        "for row in train_df_shuffled[[\"text\",\"target\"]][random_index:random_index+5].itertuples():\n",
        "  _, text, target = row\n",
        "  print(f\"Target : {target} \",\"(read disaster)\" if target> 0 else \"(not a real disastee)\")\n",
        "  print (f\"Text : \\n{text}\\n\")\n",
        "  print (f\"------\\n\")\n"
      ],
      "execution_count": 10,
      "outputs": [
        {
          "output_type": "stream",
          "name": "stdout",
          "text": [
            "Target : 1  (read disaster)\n",
            "Text : \n",
            "More homes razed by Northern Calif. wildfire http://t.co/u52RW9Ji2r #sandiego http://t.co/GX75w3q9Ye\n",
            "\n",
            "------\n",
            "\n",
            "Target : 0  (not a real disastee)\n",
            "Text : \n",
            "Louis Vuitton CultSierre Monogram Shoulder Bag Cross Body Bag  http://t.co/mUf5cZQjrL http://t.co/SsLT8ESMhY\n",
            "\n",
            "------\n",
            "\n",
            "Target : 1  (read disaster)\n",
            "Text : \n",
            "#breaking #news Global precipitation measurement satellite captures 3-D image of Typhoon Soudelor - @NASAHurricane http://t.co/20DNcthr4D\n",
            "\n",
            "------\n",
            "\n",
            "Target : 1  (read disaster)\n",
            "Text : \n",
            "I was taught at school in the 1970s that piracy slavery and suicide-bombing were purely historical. No one then expected them to re-occur\n",
            "\n",
            "------\n",
            "\n",
            "Target : 1  (read disaster)\n",
            "Text : \n",
            "Petition/No Medals for 1890 Massacre Justice for Wounded Knee Killings of Native Americans! http://t.co/UilPg8i1ev http://t.co/m9pXTo2kwW\n",
            "\n",
            "------\n",
            "\n"
          ]
        }
      ]
    },
    {
      "cell_type": "markdown",
      "metadata": {
        "id": "NBrcdhcdKnC0"
      },
      "source": [
        "# Split the data into trainig and validation sets"
      ]
    },
    {
      "cell_type": "code",
      "metadata": {
        "id": "op2cY5dCgQVO"
      },
      "source": [
        "from sklearn.model_selection import train_test_split\n"
      ],
      "execution_count": 11,
      "outputs": []
    },
    {
      "cell_type": "code",
      "metadata": {
        "colab": {
          "base_uri": "https://localhost:8080/"
        },
        "id": "a589cZ9jgXbz",
        "outputId": "81472eec-5c72-492e-ca7d-a3eef138c02a"
      },
      "source": [
        "# Use train_test_split to split training data into training and validation sets\n",
        "\n",
        "\n",
        "train_sentences, val_sentences, train_label, val_label = train_test_split(train_df_shuffled[\"text\"].to_numpy(),\n",
        "                                                                          train_df_shuffled[\"target\"].to_numpy(),\n",
        "                                                                          test_size = 0.1, # use 10% of training data as validation data\n",
        "                                                                          random_state = 42)\n",
        "len(train_sentences), len(val_sentences),len(train_label),len(val_label)"
      ],
      "execution_count": 12,
      "outputs": [
        {
          "output_type": "execute_result",
          "data": {
            "text/plain": [
              "(6851, 762, 6851, 762)"
            ]
          },
          "metadata": {},
          "execution_count": 12
        }
      ]
    },
    {
      "cell_type": "code",
      "metadata": {
        "colab": {
          "base_uri": "https://localhost:8080/"
        },
        "id": "zYJjOL1Fhsu6",
        "outputId": "3f3ae24e-1846-4a1e-bb6f-69e42f409143"
      },
      "source": [
        "len(train_df_shuffled)"
      ],
      "execution_count": 13,
      "outputs": [
        {
          "output_type": "execute_result",
          "data": {
            "text/plain": [
              "7613"
            ]
          },
          "metadata": {},
          "execution_count": 13
        }
      ]
    },
    {
      "cell_type": "code",
      "metadata": {
        "colab": {
          "base_uri": "https://localhost:8080/"
        },
        "id": "sHbeekutiLjb",
        "outputId": "77dbf9b7-f545-4cf6-d757-7d0ff96b0e06"
      },
      "source": [
        "# check first few samples from training  samples\n",
        "\n",
        "train_sentences[:10] , train_label[:10]"
      ],
      "execution_count": 14,
      "outputs": [
        {
          "output_type": "execute_result",
          "data": {
            "text/plain": [
              "(array(['@mogacola @zamtriossu i screamed after hitting tweet',\n",
              "        'Imagine getting flattened by Kurt Zouma',\n",
              "        '@Gurmeetramrahim #MSGDoing111WelfareWorks Green S welfare force ke appx 65000 members har time disaster victim ki help ke liye tyar hai....',\n",
              "        \"@shakjn @C7 @Magnums im shaking in fear he's gonna hack the planet\",\n",
              "        'Somehow find you and I collide http://t.co/Ee8RpOahPk',\n",
              "        '@EvaHanderek @MarleyKnysh great times until the bus driver held us hostage in the mall parking lot lmfao',\n",
              "        'destroy the free fandom honestly',\n",
              "        'Weapons stolen from National Guard Armory in New Albany still missing #Gunsense http://t.co/lKNU8902JE',\n",
              "        '@wfaaweather Pete when will the heat wave pass? Is it really going to be mid month? Frisco Boy Scouts have a canoe trip in Okla.',\n",
              "        'Patient-reported outcomes in long-term survivors of metastatic colorectal cancer - British Journal of Surgery http://t.co/5Yl4DC1Tqt'],\n",
              "       dtype=object), array([0, 0, 1, 0, 0, 1, 1, 0, 1, 1]))"
            ]
          },
          "metadata": {},
          "execution_count": 14
        }
      ]
    },
    {
      "cell_type": "markdown",
      "metadata": {
        "id": "teEelqjSia7s"
      },
      "source": [
        "# We need to convert the the text data into numbers\n",
        "\n",
        "When dealing with a text problem , one of the first things we will have to do before we can build a model is to convert our test to numbers.\n",
        "\n",
        "There are few ways to do this , namely :\n",
        "\n",
        "* Tokenization - direct mapping of token (a token could be a word or a character ) to number.\n",
        "\n",
        "* Embedding - Create a matix  of feature vector for each token (the size of the feature vector can be defined and this embedding  can be learned )"
      ]
    },
    {
      "cell_type": "markdown",
      "metadata": {
        "id": "GcLcaX0SNp5-"
      },
      "source": [
        "## Text vectorization  (tokenization)\n",
        "\n"
      ]
    },
    {
      "cell_type": "code",
      "metadata": {
        "id": "iwZvENd5NvwE"
      },
      "source": [
        "import tensorflow as tf\n",
        "\n",
        "from tensorflow.keras.layers.experimental.preprocessing import TextVectorization\n",
        "\n",
        "# Use deafult text vectorization Parameter\n",
        "\n",
        "text_vectorizer = TextVectorization(max_tokens= 1000,# How many words in vocabulary (automatically add <OOV> out of vocabulary)\n",
        "                                    standardize = 'lower_and_strip_punctuation',\n",
        "                                    split='whitespace',\n",
        "                                    ngrams=None,# create a group of n-words?\n",
        "                                    output_mode='int', # this is how to map text to numbers\n",
        "                                    output_sequence_length=None,# Automatically pads each squence to longest sequnce\n",
        "                                    pad_to_max_tokens=True)\n"
      ],
      "execution_count": 15,
      "outputs": []
    },
    {
      "cell_type": "code",
      "metadata": {
        "colab": {
          "base_uri": "https://localhost:8080/"
        },
        "id": "8itan9TrODS9",
        "outputId": "9c43260e-1ad4-443f-f4f8-a67d14281442"
      },
      "source": [
        "# Find the average number of tokens (words) in the training tweets.\n",
        "round(sum([len(i.split()) for i in train_sentences])/len(train_sentences))"
      ],
      "execution_count": 16,
      "outputs": [
        {
          "output_type": "execute_result",
          "data": {
            "text/plain": [
              "15"
            ]
          },
          "metadata": {},
          "execution_count": 16
        }
      ]
    },
    {
      "cell_type": "code",
      "metadata": {
        "id": "hshojHznR46k"
      },
      "source": [
        "# Set up text Vectorization variables.\n",
        "\n",
        "max_vocab_length = 10000 #max number of words to have in put vocabulary\n",
        "max_length = 15 # max length of our sequnces(Eg: How many words from a Tweet does a model see?)\n",
        "\n",
        "text_vectorizer = TextVectorization(max_tokens=max_vocab_length,\n",
        "                                    output_mode='int',\n",
        "                                    output_sequence_length=max_length)"
      ],
      "execution_count": 17,
      "outputs": []
    },
    {
      "cell_type": "code",
      "metadata": {
        "id": "-xf_6rbOSPED"
      },
      "source": [
        "# Fit the text vectorizer to training dataset\n",
        "\n",
        "text_vectorizer.adapt(train_sentences)"
      ],
      "execution_count": 18,
      "outputs": []
    },
    {
      "cell_type": "code",
      "metadata": {
        "colab": {
          "base_uri": "https://localhost:8080/"
        },
        "id": "HjUZmtdtUK-v",
        "outputId": "cf7c3d64-6c86-44f4-fee1-3d98b9715ac8"
      },
      "source": [
        "# Create a sample sentence and tokensize it.\n",
        "\n",
        "sample_sentence = \"There is a cloud burst on my street\"\n",
        "text_vectorizer([sample_sentence])"
      ],
      "execution_count": 19,
      "outputs": [
        {
          "output_type": "execute_result",
          "data": {
            "text/plain": [
              "<tf.Tensor: shape=(1, 15), dtype=int64, numpy=\n",
              "array([[  74,    9,    3, 3100, 2174,   11,   13,  698,    0,    0,    0,\n",
              "           0,    0,    0,    0]])>"
            ]
          },
          "metadata": {},
          "execution_count": 19
        }
      ]
    },
    {
      "cell_type": "code",
      "metadata": {
        "colab": {
          "base_uri": "https://localhost:8080/"
        },
        "id": "oPSG7OqlU7ab",
        "outputId": "4c41a737-87b3-43bc-839c-809dc0d4236e"
      },
      "source": [
        "# Choose a random sentence from a training dataset and tokenize it\n",
        "\n",
        "random_sentence = random.choice(train_sentences)\n",
        "print(f\"Original Text : \\n{random_sentence}\\\n",
        "\\n\\nVectorized version : \\n {text_vectorizer([random_sentence])}\")"
      ],
      "execution_count": 20,
      "outputs": [
        {
          "output_type": "stream",
          "name": "stdout",
          "text": [
            "Original Text : \n",
            "Pakistan Supreme Court OKs Military Courts to Try Civilians: The Supreme Court ruling would empower the milita... http://t.co/v0nf1Uc1OW\n",
            "\n",
            "Vectorized version : \n",
            " [[ 811 2666 1310 4999  223 5903    5  831 1699    2 2666 1310 8924   78\n",
            "     1]]\n"
          ]
        }
      ]
    },
    {
      "cell_type": "code",
      "metadata": {
        "colab": {
          "base_uri": "https://localhost:8080/"
        },
        "id": "OBe-WiOZVwvA",
        "outputId": "e3d9ace7-5e0c-4367-b641-d823dcb497a5"
      },
      "source": [
        "# Ge tthe unique words in vocabulary\n",
        "\n",
        "words_in_vocab = text_vectorizer.get_vocabulary() # get all of the unique words from traing data sets\n",
        "\n",
        "top_5_words = words_in_vocab[:5] # get most common words from vocabulary of training data set.\n",
        "\n",
        "bottom_5_words = words_in_vocab[-5:] #get least common words\n",
        "\n",
        "print(f\"Total number of words :{len(words_in_vocab)}\")\n",
        "print(f\"\\nTop 5 words : {top_5_words}\\\n",
        "        \\nBottom 5 words: {bottom_5_words}\\n\")"
      ],
      "execution_count": 21,
      "outputs": [
        {
          "output_type": "stream",
          "name": "stdout",
          "text": [
            "Total number of words :10000\n",
            "\n",
            "Top 5 words : ['', '[UNK]', 'the', 'a', 'in']        \n",
            "Bottom 5 words: ['pages', 'paeds', 'pads', 'padres', 'paddytomlinson1']\n",
            "\n"
          ]
        }
      ]
    },
    {
      "cell_type": "markdown",
      "metadata": {
        "id": "k5ls98XEWWTv"
      },
      "source": [
        "# Creating an Embedding using Embedding layer\n",
        "\n",
        "To make out embedding we are going to use TensorFlow Embedding layer\n",
        "\n",
        "src : https://www.tensorflow.org/api_docs/python/tf/keras/layers/Embedding\n",
        "\n",
        "\n",
        "The parameters we care most in our mebedding layer:\n",
        "* `input_dim` = the size of our vocabulary\n",
        "* `output_dim` = size of the output embedding vector, Eg: A value of 100 would mean each token gets represented by a vector 100 long\n",
        "* `input_lenght` = length of the sequences being passed to embedding layer"
      ]
    },
    {
      "cell_type": "code",
      "metadata": {
        "id": "XNkgeD1Jbqsr"
      },
      "source": [
        "from tensorflow.keras import layers\n",
        "embedding = layers.Embedding(input_dim = max_vocab_length, #set input shape\n",
        "                             output_dim=128,\n",
        "                             input_length=max_length # how long is each input\n",
        "                             )"
      ],
      "execution_count": 22,
      "outputs": []
    },
    {
      "cell_type": "code",
      "metadata": {
        "colab": {
          "base_uri": "https://localhost:8080/"
        },
        "id": "H3ycBabldNa2",
        "outputId": "b0644f65-4136-4c98-c6b8-50d598fa952f"
      },
      "source": [
        "embedding #Turns positive integers (indexes) into dense vectors of fixed size"
      ],
      "execution_count": 23,
      "outputs": [
        {
          "output_type": "execute_result",
          "data": {
            "text/plain": [
              "<keras.layers.embeddings.Embedding at 0x7f0bd0669c10>"
            ]
          },
          "metadata": {},
          "execution_count": 23
        }
      ]
    },
    {
      "cell_type": "code",
      "metadata": {
        "colab": {
          "base_uri": "https://localhost:8080/"
        },
        "id": "CQEsav1ydQ99",
        "outputId": "8e391f6c-a718-40f9-ed83-6fc51a0769a0"
      },
      "source": [
        "random_sentence=random.choice(train_sentences)\n",
        "sample_embed = embedding(text_vectorizer([random_sentence]))\n",
        "print(f\"Original Text : {random_sentence}\\\n",
        "      \\n\\n Embedded version :{sample_embed}\")\n",
        "\n",
        "#"
      ],
      "execution_count": 24,
      "outputs": [
        {
          "output_type": "stream",
          "name": "stdout",
          "text": [
            "Original Text : The MF Life is a vocal and lyrical bomb. Saw her live this summer. AMAZING vocalist. RT @THEmale_madonna: Melanie Fiona is so slept on ??      \n",
            "\n",
            " Embedded version :[[[-0.01408533  0.02390658  0.04191667 ...  0.04425095 -0.04011301\n",
            "   -0.03638389]\n",
            "  [-0.0438265   0.02014929  0.02085842 ...  0.03074259 -0.01577631\n",
            "    0.02843796]\n",
            "  [ 0.01386497  0.01252634  0.01338248 ... -0.03201381  0.03366183\n",
            "    0.04447067]\n",
            "  ...\n",
            "  [-0.0061443   0.00511656  0.04932019 ...  0.02530751 -0.00238049\n",
            "   -0.04319514]\n",
            "  [ 0.03819169  0.00037203 -0.04821325 ...  0.03864701  0.02041365\n",
            "    0.01883342]\n",
            "  [-0.00338168 -0.00024106  0.04721243 ... -0.04091935 -0.01934208\n",
            "    0.0211602 ]]]\n"
          ]
        }
      ]
    },
    {
      "cell_type": "code",
      "metadata": {
        "colab": {
          "base_uri": "https://localhost:8080/"
        },
        "id": "jWLF7VHtemGS",
        "outputId": "f812b0ad-6956-471e-adfe-f3c68aa2b4eb"
      },
      "source": [
        "# check out single token's embeding\n",
        "\n",
        "sample_embed[0][0], sample_embed[0][0].shape, random_sentence"
      ],
      "execution_count": 25,
      "outputs": [
        {
          "output_type": "execute_result",
          "data": {
            "text/plain": [
              "(<tf.Tensor: shape=(128,), dtype=float32, numpy=\n",
              " array([-0.01408533,  0.02390658,  0.04191667, -0.01826144, -0.03595863,\n",
              "        -0.00538269,  0.04793188,  0.02273002,  0.00541326,  0.02716768,\n",
              "        -0.02664664,  0.02596308, -0.00637597,  0.00173723, -0.00748213,\n",
              "         0.04368026, -0.01567693, -0.01209415,  0.00674624,  0.01868064,\n",
              "         0.00215076, -0.03314023,  0.03184709, -0.0333452 , -0.02435501,\n",
              "         0.03831042, -0.01694755,  0.04933849, -0.02450408, -0.0160719 ,\n",
              "         0.00158236, -0.01150789,  0.0040152 , -0.00033044, -0.00885342,\n",
              "         0.00119586, -0.0013374 , -0.00984311,  0.03788567,  0.00017434,\n",
              "        -0.04412526,  0.0249381 , -0.03212609, -0.0058884 ,  0.0222454 ,\n",
              "         0.01082582, -0.04540547,  0.03764273, -0.03687175,  0.02862133,\n",
              "        -0.0188391 ,  0.02428491,  0.00754404,  0.0456803 ,  0.03902197,\n",
              "        -0.03215355,  0.01926166, -0.03230929,  0.02768058,  0.00589984,\n",
              "         0.04162102, -0.03962003,  0.00048512, -0.03862906,  0.02891859,\n",
              "         0.04370368, -0.02735817, -0.01465796,  0.0329945 , -0.03309786,\n",
              "         0.04296413, -0.04295436, -0.04086245, -0.02784389,  0.00992608,\n",
              "        -0.04731091, -0.03095237, -0.040443  ,  0.03717697,  0.03021407,\n",
              "         0.04447004,  0.01465449,  0.03467008,  0.01157368,  0.04988809,\n",
              "         0.01390431,  0.01699993,  0.04281955,  0.04535631, -0.01327014,\n",
              "         0.0217935 , -0.03303261,  0.0394598 , -0.04991911, -0.04864388,\n",
              "         0.0074497 ,  0.01006307, -0.04248941,  0.02609892, -0.0426035 ,\n",
              "        -0.04451606,  0.03530282, -0.01246696,  0.02983563, -0.02636101,\n",
              "        -0.03246737,  0.04473415,  0.00155144, -0.04928438, -0.01933092,\n",
              "        -0.02227153,  0.03172797,  0.03679797, -0.00017666,  0.00033878,\n",
              "        -0.02064439, -0.03901659,  0.01651526, -0.03401716, -0.02246401,\n",
              "         0.04920642, -0.03806685,  0.0123907 , -0.00063722, -0.01651864,\n",
              "         0.04425095, -0.04011301, -0.03638389], dtype=float32)>,\n",
              " TensorShape([128]),\n",
              " 'The MF Life is a vocal and lyrical bomb. Saw her live this summer. AMAZING vocalist. RT @THEmale_madonna: Melanie Fiona is so slept on ??')"
            ]
          },
          "metadata": {},
          "execution_count": 25
        }
      ]
    },
    {
      "cell_type": "markdown",
      "metadata": {
        "id": "-iuE90yvevFr"
      },
      "source": [
        "## Modelling a text dataset and running experiments through it.\n",
        "\n",
        "---\n",
        "Experiment# -- >   Model\n",
        "\n",
        "0   -- > Navie Bayes with TF-IDF encoder(baseline)\n",
        "\n",
        "1   -- > Feed Forward neural network (dense model)\n",
        "\n",
        "2   -- > LSTM(RNN)\n",
        "\n",
        "3   -- > GRU(RNN)\n",
        "\n",
        "4   -- > Bi-Directional-LSTM(RNN)\n",
        "\n",
        "5   -- > 1D Convolututional Newral Network\n",
        "\n",
        "6   -- > TensorFlow Hub Pretrained Feature Extractor\n",
        "\n",
        "7   -- > TensorFlow Hub Pretrained Freture Extractor (10% of data)\n",
        "\n",
        "\n",
        "\n"
      ]
    },
    {
      "cell_type": "markdown",
      "metadata": {
        "id": "Z1LZ5ZsPl8Ds"
      },
      "source": [
        "\n",
        "\n",
        "##Steps in Modelling\n",
        "![Steps in modelling.png](data:image/png;base64,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)\n"
      ]
    },
    {
      "cell_type": "markdown",
      "metadata": {
        "id": "1hL7tukTskZT"
      },
      "source": [
        "## Model 0 --> Navie Bayes with TF-IDF encoder(baseline) \n",
        "src : https://scikit-learn.org/stable/tutorial/machine_learning_map/index.html\n",
        "\n",
        "As with all machine learining modelling experiments, it's important to create a baseline model so we get a benchmark for future experiments. "
      ]
    },
    {
      "cell_type": "code",
      "metadata": {
        "colab": {
          "base_uri": "https://localhost:8080/"
        },
        "id": "60ORlSpms_fg",
        "outputId": "7698bb4f-e34a-44df-fee6-347c59acae2c"
      },
      "source": [
        "from sklearn.feature_extraction.text import TfidfVectorizer\n",
        "from sklearn.naive_bayes import MultinomialNB\n",
        "from sklearn.pipeline import Pipeline\n",
        "\n",
        "# Build a model\n",
        "model_0 = Pipeline([\n",
        "   ( \"tfidf\", TfidfVectorizer()),\n",
        "   ( \"classifier\",MultinomialNB() )\n",
        "])\n",
        "\n",
        "# Fit the model\n",
        "\n",
        "model_0.fit(train_sentences,train_label)"
      ],
      "execution_count": 26,
      "outputs": [
        {
          "output_type": "execute_result",
          "data": {
            "text/plain": [
              "Pipeline(memory=None,\n",
              "         steps=[('tfidf',\n",
              "                 TfidfVectorizer(analyzer='word', binary=False,\n",
              "                                 decode_error='strict',\n",
              "                                 dtype=<class 'numpy.float64'>,\n",
              "                                 encoding='utf-8', input='content',\n",
              "                                 lowercase=True, max_df=1.0, max_features=None,\n",
              "                                 min_df=1, ngram_range=(1, 1), norm='l2',\n",
              "                                 preprocessor=None, smooth_idf=True,\n",
              "                                 stop_words=None, strip_accents=None,\n",
              "                                 sublinear_tf=False,\n",
              "                                 token_pattern='(?u)\\\\b\\\\w\\\\w+\\\\b',\n",
              "                                 tokenizer=None, use_idf=True,\n",
              "                                 vocabulary=None)),\n",
              "                ('classifier',\n",
              "                 MultinomialNB(alpha=1.0, class_prior=None, fit_prior=True))],\n",
              "         verbose=False)"
            ]
          },
          "metadata": {},
          "execution_count": 26
        }
      ]
    },
    {
      "cell_type": "code",
      "metadata": {
        "colab": {
          "base_uri": "https://localhost:8080/"
        },
        "id": "B0Pyp_COyqlE",
        "outputId": "fbcc97ba-957c-4e45-fc07-c8deaef354be"
      },
      "source": [
        "# Evaluate the model_0 or a baseline model\n",
        "\n",
        "model_0_score = model_0.score(val_sentences, val_label)\n",
        "\n",
        "print(f\"Accuracy of baseline model is : {model_0_score *100:.2f}%\")\n"
      ],
      "execution_count": 27,
      "outputs": [
        {
          "output_type": "stream",
          "name": "stdout",
          "text": [
            "Accuracy of baseline model is : 79.27%\n"
          ]
        }
      ]
    },
    {
      "cell_type": "code",
      "metadata": {
        "id": "DnhQdr53zrpP"
      },
      "source": [
        "#Predict the data and create a csv out of it\n",
        "prediction = model_0.predict(test_df['text'])\n",
        "\n",
        "import pandas as pd\n",
        "def create_csv_output(X,y):\n",
        "    output=pd.DataFrame(data={\"id\":X,\"target\":y})\n",
        "    output.to_csv(\"results.csv\",index=False,quoting=3)\n",
        "\n",
        "create_csv_output(test_df['id'],prediction)"
      ],
      "execution_count": 28,
      "outputs": []
    },
    {
      "cell_type": "markdown",
      "metadata": {
        "id": "QqQ6GBvNOK8q"
      },
      "source": [
        "## Create an evaluation function for our model experiments\n",
        "\n",
        "Lets create function to compare out model's prediction with the truth labels using following metrics\n",
        "\n",
        "* Accuracy\n",
        "* Precision\n",
        "* Recall\n",
        "* F1 Score"
      ]
    },
    {
      "cell_type": "code",
      "metadata": {
        "colab": {
          "base_uri": "https://localhost:8080/"
        },
        "id": "KtKF2h6vO6JF",
        "outputId": "bfde864e-7034-465d-dcf8-97c2ac9d150f"
      },
      "source": [
        "from sklearn.metrics import accuracy_score, precision_recall_fscore_support\n",
        "\n",
        "def calculate_results(y_true, y_pred):\n",
        "  '''\n",
        "\n",
        "  Calcuates model accuracy, precision, recall, and f1 score of a binary classification model.\n",
        "\n",
        "  '''\n",
        "  # Calculate model accuracy\n",
        "\n",
        "  model_accuracy = accuracy_score(y_true, y_pred)*100\n",
        "\n",
        "  # Calculate model Precision recall  & f1 scores\n",
        "  model_precision, model_recall, model_f1, _ = precision_recall_fscore_support(y_true, y_pred, average=\"weighted\")\n",
        "  model_results = {\n",
        "                  \"accuracy\":model_accuracy,\n",
        "                   \"precision\": model_precision,\n",
        "                   \"recall\":model_recall,\n",
        "                   \"f1_score\": model_f1\n",
        "  }\n",
        "\n",
        "  return model_results\n",
        "\n",
        "baseline_predict = model_0.predict(val_sentences)\n",
        "baseline_results = calculate_results(val_label, baseline_predict)\n",
        "\n",
        "print(baseline_results)"
      ],
      "execution_count": 29,
      "outputs": [
        {
          "output_type": "stream",
          "name": "stdout",
          "text": [
            "{'accuracy': 79.26509186351706, 'precision': 0.8111390004213173, 'recall': 0.7926509186351706, 'f1_score': 0.7862189758049549}\n"
          ]
        }
      ]
    },
    {
      "cell_type": "markdown",
      "metadata": {
        "id": "A1UBkkJxSRZk"
      },
      "source": [
        "## Building Model 1 : Simple Dense Model"
      ]
    },
    {
      "cell_type": "code",
      "metadata": {
        "id": "PBq0qeoVSXgS"
      },
      "source": [
        "# Create a tensorboard CallBack(need to create a new one for each model)\n",
        "\n",
        "from helper_functions import create_tensorboard_callback\n",
        "\n",
        "# Create a directory to save TensorBoard logs\n",
        "\n",
        "SAVE_DIR = \"model_logs\"\n",
        "\n",
        "from tensorflow.keras import layers\n",
        "inputs = layers.Input(shape=(1,),dtype=tf.string) # inputs are 1 dimensional strings\n",
        "x = text_vectorizer(inputs) # trun input text into numbers\n",
        "x = embedding(x) # create an embedding of numberised inputs\n",
        "x = layers.GlobalAveragePooling1D()(x) # Condense the feature vector for each token to one vector\n",
        "outputs = layers.Dense(1, activation=\"sigmoid\")(x) # Create a output layer, want binary classification hence sigmoid fucntion\n",
        "\n",
        "model_1 = tf.keras.Model(inputs,outputs, name = \"model_1_dense\")"
      ],
      "execution_count": 30,
      "outputs": []
    },
    {
      "cell_type": "code",
      "metadata": {
        "colab": {
          "base_uri": "https://localhost:8080/"
        },
        "id": "kkgNo1LgUOCJ",
        "outputId": "0b92a91b-c2ce-4ed2-ea62-f7bc6597cedd"
      },
      "source": [
        "model_1.summary()"
      ],
      "execution_count": 31,
      "outputs": [
        {
          "output_type": "stream",
          "name": "stdout",
          "text": [
            "Model: \"model_1_dense\"\n",
            "_________________________________________________________________\n",
            "Layer (type)                 Output Shape              Param #   \n",
            "=================================================================\n",
            "input_1 (InputLayer)         [(None, 1)]               0         \n",
            "_________________________________________________________________\n",
            "text_vectorization_1 (TextVe (None, 15)                0         \n",
            "_________________________________________________________________\n",
            "embedding (Embedding)        (None, 15, 128)           1280000   \n",
            "_________________________________________________________________\n",
            "global_average_pooling1d (Gl (None, 128)               0         \n",
            "_________________________________________________________________\n",
            "dense (Dense)                (None, 1)                 129       \n",
            "=================================================================\n",
            "Total params: 1,280,129\n",
            "Trainable params: 1,280,129\n",
            "Non-trainable params: 0\n",
            "_________________________________________________________________\n"
          ]
        }
      ]
    },
    {
      "cell_type": "code",
      "metadata": {
        "id": "uVziArnBUogE"
      },
      "source": [
        "# Compile the model \n",
        "\n",
        "model_1.compile (loss=\"binary_crossentropy\",\n",
        "                 optimizer=tf.keras.optimizers.Adam(),\n",
        "                 metrics=[\"accuracy\"])"
      ],
      "execution_count": 32,
      "outputs": []
    },
    {
      "cell_type": "code",
      "metadata": {
        "colab": {
          "base_uri": "https://localhost:8080/"
        },
        "id": "k1kWOETAV4Q6",
        "outputId": "3780bcc7-65d1-4393-9f4e-16593d0e07b3"
      },
      "source": [
        "# Fit the model\n",
        "\n",
        "model_1_history = model_1.fit(x=train_sentences,\n",
        "                              y=train_label,\n",
        "                              epochs=10,\n",
        "                              validation_data= (val_sentences,val_label),\n",
        "                              callbacks=[create_tensorboard_callback(dir_name=SAVE_DIR,experiment_name=\"model_1_dense\")]\n",
        "                              )"
      ],
      "execution_count": 33,
      "outputs": [
        {
          "output_type": "stream",
          "name": "stdout",
          "text": [
            "Saving TensorBoard log files to: model_logs/model_1_dense/20211026-071126\n",
            "Epoch 1/10\n",
            "215/215 [==============================] - 5s 9ms/step - loss: 0.6133 - accuracy: 0.6885 - val_loss: 0.5389 - val_accuracy: 0.7441\n",
            "Epoch 2/10\n",
            "215/215 [==============================] - 1s 7ms/step - loss: 0.4419 - accuracy: 0.8202 - val_loss: 0.4694 - val_accuracy: 0.7861\n",
            "Epoch 3/10\n",
            "215/215 [==============================] - 1s 7ms/step - loss: 0.3470 - accuracy: 0.8622 - val_loss: 0.4579 - val_accuracy: 0.7848\n",
            "Epoch 4/10\n",
            "215/215 [==============================] - 1s 7ms/step - loss: 0.2835 - accuracy: 0.8913 - val_loss: 0.4645 - val_accuracy: 0.7848\n",
            "Epoch 5/10\n",
            "215/215 [==============================] - 1s 7ms/step - loss: 0.2370 - accuracy: 0.9126 - val_loss: 0.4810 - val_accuracy: 0.7782\n",
            "Epoch 6/10\n",
            "215/215 [==============================] - 1s 7ms/step - loss: 0.2018 - accuracy: 0.9299 - val_loss: 0.5056 - val_accuracy: 0.7822\n",
            "Epoch 7/10\n",
            "215/215 [==============================] - 1s 7ms/step - loss: 0.1728 - accuracy: 0.9396 - val_loss: 0.5290 - val_accuracy: 0.7822\n",
            "Epoch 8/10\n",
            "215/215 [==============================] - 1s 7ms/step - loss: 0.1494 - accuracy: 0.9501 - val_loss: 0.5548 - val_accuracy: 0.7756\n",
            "Epoch 9/10\n",
            "215/215 [==============================] - 1s 7ms/step - loss: 0.1302 - accuracy: 0.9559 - val_loss: 0.5821 - val_accuracy: 0.7743\n",
            "Epoch 10/10\n",
            "215/215 [==============================] - 1s 7ms/step - loss: 0.1161 - accuracy: 0.9607 - val_loss: 0.6137 - val_accuracy: 0.7690\n"
          ]
        }
      ]
    },
    {
      "cell_type": "code",
      "metadata": {
        "colab": {
          "base_uri": "https://localhost:8080/"
        },
        "id": "5jZLxDAeeQV9",
        "outputId": "de7a58ca-6920-4c8c-fbb3-19fbaa4a080f"
      },
      "source": [
        "pred_val_probab = model_1.predict(val_sentences)\n",
        "pred_val_probab\n",
        "pred_val_probab.shape\n",
        "\n",
        "# create_csv_output(test_df['id'],prediction)"
      ],
      "execution_count": 34,
      "outputs": [
        {
          "output_type": "execute_result",
          "data": {
            "text/plain": [
              "(762, 1)"
            ]
          },
          "metadata": {},
          "execution_count": 34
        }
      ]
    },
    {
      "cell_type": "code",
      "metadata": {
        "colab": {
          "base_uri": "https://localhost:8080/"
        },
        "id": "Ja3qbQOKfO5D",
        "outputId": "7056edfc-cb9f-43e9-cfe8-57b5eed53dcd"
      },
      "source": [
        "# convert model prediction probabilites to label format\n",
        "val_prediction = tf.squeeze(tf.round(pred_val_probab))\n",
        "val_prediction[:20]\n",
        "\n"
      ],
      "execution_count": 35,
      "outputs": [
        {
          "output_type": "execute_result",
          "data": {
            "text/plain": [
              "<tf.Tensor: shape=(20,), dtype=float32, numpy=\n",
              "array([0., 1., 1., 0., 0., 1., 1., 1., 1., 0., 0., 1., 0., 0., 0., 0., 0.,\n",
              "       0., 0., 1.], dtype=float32)>"
            ]
          },
          "metadata": {},
          "execution_count": 35
        }
      ]
    },
    {
      "cell_type": "code",
      "metadata": {
        "colab": {
          "base_uri": "https://localhost:8080/"
        },
        "id": "FB78aqHygjvC",
        "outputId": "3db8188c-4ccb-4072-a561-5c1c37d0528b"
      },
      "source": [
        "# calculate the result\n",
        "\n",
        "model_1_results =calculate_results(val_label,val_prediction)\n",
        "model_1_results\n"
      ],
      "execution_count": 36,
      "outputs": [
        {
          "output_type": "execute_result",
          "data": {
            "text/plain": [
              "{'accuracy': 76.9028871391076,\n",
              " 'f1_score': 0.7671875324347506,\n",
              " 'precision': 0.7701356893081864,\n",
              " 'recall': 0.7690288713910761}"
            ]
          },
          "metadata": {},
          "execution_count": 36
        }
      ]
    },
    {
      "cell_type": "code",
      "metadata": {
        "colab": {
          "base_uri": "https://localhost:8080/"
        },
        "id": "cUdemC8jhGCr",
        "outputId": "4bda2a5f-26e0-47ef-ff0a-333ed582d1d9"
      },
      "source": [
        "baseline_results"
      ],
      "execution_count": 37,
      "outputs": [
        {
          "output_type": "execute_result",
          "data": {
            "text/plain": [
              "{'accuracy': 79.26509186351706,\n",
              " 'f1_score': 0.7862189758049549,\n",
              " 'precision': 0.8111390004213173,\n",
              " 'recall': 0.7926509186351706}"
            ]
          },
          "metadata": {},
          "execution_count": 37
        }
      ]
    },
    {
      "cell_type": "code",
      "metadata": {
        "colab": {
          "base_uri": "https://localhost:8080/"
        },
        "id": "3PlmLP6wE5Fg",
        "outputId": "460a20df-e460-4fd5-f432-f5a77b577985"
      },
      "source": [
        "# Lets check did we improved compared to baseline model\n",
        "import numpy as np\n",
        "\n",
        "np.array(list(model_1_results.values())) > np.array(list(baseline_results.values()))"
      ],
      "execution_count": 38,
      "outputs": [
        {
          "output_type": "execute_result",
          "data": {
            "text/plain": [
              "array([False, False, False, False])"
            ]
          },
          "metadata": {},
          "execution_count": 38
        }
      ]
    },
    {
      "cell_type": "code",
      "metadata": {
        "id": "Bi3IxY3mFXtB"
      },
      "source": [
        "# That means our experiment with simple dense layer was not better than baseline."
      ],
      "execution_count": 39,
      "outputs": []
    },
    {
      "cell_type": "markdown",
      "metadata": {
        "id": "aoqafTLVFjoM"
      },
      "source": [
        "##Visualising learned  embeddings "
      ]
    },
    {
      "cell_type": "code",
      "metadata": {
        "colab": {
          "base_uri": "https://localhost:8080/"
        },
        "id": "NMJbzy5TF2qV",
        "outputId": "493c9fd4-79b1-4341-ba9c-9276e0c9fabb"
      },
      "source": [
        "# Get the vocalbulary from the text vectorization layer\n",
        "words_in_vocab = text_vectorizer.get_vocabulary()\n",
        "len(words_in_vocab), words_in_vocab[:10]"
      ],
      "execution_count": 40,
      "outputs": [
        {
          "output_type": "execute_result",
          "data": {
            "text/plain": [
              "(10000, ['', '[UNK]', 'the', 'a', 'in', 'to', 'of', 'and', 'i', 'is'])"
            ]
          },
          "metadata": {},
          "execution_count": 40
        }
      ]
    },
    {
      "cell_type": "code",
      "metadata": {
        "colab": {
          "base_uri": "https://localhost:8080/"
        },
        "id": "fZQzS6jyGHpj",
        "outputId": "10b6c31f-65e4-4187-b8b9-42511193c6b3"
      },
      "source": [
        "# Model 1 summary\n",
        "model_1.summary()"
      ],
      "execution_count": 41,
      "outputs": [
        {
          "output_type": "stream",
          "name": "stdout",
          "text": [
            "Model: \"model_1_dense\"\n",
            "_________________________________________________________________\n",
            "Layer (type)                 Output Shape              Param #   \n",
            "=================================================================\n",
            "input_1 (InputLayer)         [(None, 1)]               0         \n",
            "_________________________________________________________________\n",
            "text_vectorization_1 (TextVe (None, 15)                0         \n",
            "_________________________________________________________________\n",
            "embedding (Embedding)        (None, 15, 128)           1280000   \n",
            "_________________________________________________________________\n",
            "global_average_pooling1d (Gl (None, 128)               0         \n",
            "_________________________________________________________________\n",
            "dense (Dense)                (None, 1)                 129       \n",
            "=================================================================\n",
            "Total params: 1,280,129\n",
            "Trainable params: 1,280,129\n",
            "Non-trainable params: 0\n",
            "_________________________________________________________________\n"
          ]
        }
      ]
    },
    {
      "cell_type": "code",
      "metadata": {
        "colab": {
          "base_uri": "https://localhost:8080/"
        },
        "id": "Ex8LIaBLGO5-",
        "outputId": "1cc8a6e8-9d31-4c38-c624-0199d463ca00"
      },
      "source": [
        "# Get the weight matrix of embedding layer\n",
        "# these are the numberical representation of each token in our training data\n",
        "\n",
        "embed_weights = model_1.get_layer(\"embedding\").get_weights()[0]\n",
        "embed_weights\n",
        "\n",
        "print(embed_weights.shape)"
      ],
      "execution_count": 42,
      "outputs": [
        {
          "output_type": "stream",
          "name": "stdout",
          "text": [
            "(10000, 128)\n"
          ]
        }
      ]
    },
    {
      "cell_type": "markdown",
      "metadata": {
        "id": "UrLIAqGFLaQI"
      },
      "source": [
        "Now we  have got the embedding matrix our model has learned to represent our tokens, lets see \n",
        "how we can visualise it.\n",
        "\n",
        "To do so TensorFlow has handy tool called projector : https://projector.tensorflow.org/ \n",
        "\n",
        "And tensorflow has great guide on word embeddings : https://www.tensorflow.org/text/guide/word_embeddings\n"
      ]
    },
    {
      "cell_type": "code",
      "metadata": {
        "id": "ox21Jh5ORIOu"
      },
      "source": [
        "import io\n",
        "out_v = io.open('vectors.tsv', 'w', encoding='utf-8')\n",
        "out_m = io.open('metadata.tsv', 'w', encoding='utf-8')\n",
        "\n",
        "for index, word in enumerate(words_in_vocab):\n",
        "  if index == 0:\n",
        "    continue  # skip 0, it's padding.\n",
        "  vec = embed_weights[index]\n",
        "  out_v.write('\\t'.join([str(x) for x in vec]) + \"\\n\")\n",
        "  out_m.write(word + \"\\n\")\n",
        "out_v.close()\n",
        "out_m.close()"
      ],
      "execution_count": 43,
      "outputs": []
    },
    {
      "cell_type": "code",
      "metadata": {
        "id": "ovWqJNaFTnDT"
      },
      "source": [
        "## Download the files in order to upload it to projector.\n",
        "\n",
        "# try:\n",
        "#   from google.colab import files\n",
        "#   files.download('vectors.tsv')\n",
        "#   files.download('metadata.tsv')\n",
        "# except Exception:\n",
        "#   pass"
      ],
      "execution_count": 44,
      "outputs": []
    },
    {
      "cell_type": "markdown",
      "metadata": {
        "id": "77CGPd4y83Uz"
      },
      "source": [
        "## Recurrent neural network\n",
        "\n",
        "RNNs are useful for sequence data\n",
        "\n",
        "The premise of recurrent neural Netwoek is to use the representation of\n",
        "previous input to aid the representation of a later input.\n",
        "\n"
      ]
    },
    {
      "cell_type": "markdown",
      "metadata": {
        "id": "mbN8iJiBuOTq"
      },
      "source": [
        "## Model 2 : LSTM \n",
        "\n",
        "LSTM  = Long short term Memory (one of the most ppopular LSTM cells)\n",
        "\n",
        "Our RNN structure will typically look like\n",
        "\n",
        "```\n",
        "Input text --> Tokenize --> Embedding --> layers (RNNs / dense) --> Output (label probailities)\n",
        "\n",
        "```"
      ]
    },
    {
      "cell_type": "code",
      "metadata": {
        "id": "wzMNetdHd8iy"
      },
      "source": [
        "# Create an LSTM model\n",
        "\n",
        "from tensorflow.keras import layers\n",
        "\n",
        "inputs = layers.Input(shape=(1,), dtype=\"string\")\n",
        "x=text_vectorizer(inputs)\n",
        "x=embedding(x)\n",
        "\n",
        "#x=layers.LSTM(units=64, return_sequences=True) # When you are stacking RNN cells together, you need to retrun_sequences=True\n",
        "x = layers.LSTM(64)(x)\n",
        "x = layers.Dense(64, activation=\"relu\")(x)\n",
        "outputs=layers.Dense(1,activation=\"sigmoid\")(x)\n",
        "\n",
        "model_2 = tf.keras.Model(inputs,outputs, name=\"model_2_LSTM\")\n"
      ],
      "execution_count": 45,
      "outputs": []
    },
    {
      "cell_type": "code",
      "metadata": {
        "colab": {
          "base_uri": "https://localhost:8080/"
        },
        "id": "Mu0bRaIFfbB-",
        "outputId": "be76de74-939d-46ae-f95d-ad03fec99884"
      },
      "source": [
        "#Get summary \n",
        "\n",
        "model_2.summary()"
      ],
      "execution_count": 46,
      "outputs": [
        {
          "output_type": "stream",
          "name": "stdout",
          "text": [
            "Model: \"model_2_LSTM\"\n",
            "_________________________________________________________________\n",
            "Layer (type)                 Output Shape              Param #   \n",
            "=================================================================\n",
            "input_2 (InputLayer)         [(None, 1)]               0         \n",
            "_________________________________________________________________\n",
            "text_vectorization_1 (TextVe (None, 15)                0         \n",
            "_________________________________________________________________\n",
            "embedding (Embedding)        (None, 15, 128)           1280000   \n",
            "_________________________________________________________________\n",
            "lstm (LSTM)                  (None, 64)                49408     \n",
            "_________________________________________________________________\n",
            "dense_1 (Dense)              (None, 64)                4160      \n",
            "_________________________________________________________________\n",
            "dense_2 (Dense)              (None, 1)                 65        \n",
            "=================================================================\n",
            "Total params: 1,333,633\n",
            "Trainable params: 1,333,633\n",
            "Non-trainable params: 0\n",
            "_________________________________________________________________\n"
          ]
        }
      ]
    },
    {
      "cell_type": "code",
      "metadata": {
        "id": "yfrANskXkmi5"
      },
      "source": [
        "# Compile the model \n",
        "\n",
        "model_2.compile(loss=tf.keras.losses.BinaryCrossentropy(),\n",
        "                optimizer=tf.keras.optimizers.Adam(),\n",
        "                metrics=[\"accuracy\"])\n"
      ],
      "execution_count": 47,
      "outputs": []
    },
    {
      "cell_type": "code",
      "metadata": {
        "colab": {
          "base_uri": "https://localhost:8080/"
        },
        "id": "uv6tsQurlAhY",
        "outputId": "16be6a3f-0938-4753-9c1e-19cb46ab8366"
      },
      "source": [
        "#Fit a model\n",
        "\n",
        "model_2_history = model_2.fit(train_sentences, train_label,epochs=10,\n",
        "                              validation_data=(val_sentences,val_label),\n",
        "                              callbacks=[create_tensorboard_callback(SAVE_DIR,\"model_2_LSTM\")])"
      ],
      "execution_count": 48,
      "outputs": [
        {
          "output_type": "stream",
          "name": "stdout",
          "text": [
            "Saving TensorBoard log files to: model_logs/model_2_LSTM/20211026-071150\n",
            "Epoch 1/10\n",
            "215/215 [==============================] - 8s 14ms/step - loss: 0.1477 - accuracy: 0.9550 - val_loss: 0.7328 - val_accuracy: 0.7690\n",
            "Epoch 2/10\n",
            "215/215 [==============================] - 2s 10ms/step - loss: 0.0862 - accuracy: 0.9672 - val_loss: 0.8725 - val_accuracy: 0.7756\n",
            "Epoch 3/10\n",
            "215/215 [==============================] - 2s 10ms/step - loss: 0.0782 - accuracy: 0.9692 - val_loss: 0.8107 - val_accuracy: 0.7677\n",
            "Epoch 4/10\n",
            "215/215 [==============================] - 2s 10ms/step - loss: 0.0663 - accuracy: 0.9737 - val_loss: 1.0514 - val_accuracy: 0.7677\n",
            "Epoch 5/10\n",
            "215/215 [==============================] - 2s 10ms/step - loss: 0.0593 - accuracy: 0.9743 - val_loss: 1.1616 - val_accuracy: 0.7651\n",
            "Epoch 6/10\n",
            "215/215 [==============================] - 2s 11ms/step - loss: 0.0492 - accuracy: 0.9778 - val_loss: 1.4189 - val_accuracy: 0.7625\n",
            "Epoch 7/10\n",
            "215/215 [==============================] - 2s 10ms/step - loss: 0.0481 - accuracy: 0.9771 - val_loss: 1.6282 - val_accuracy: 0.7782\n",
            "Epoch 8/10\n",
            "215/215 [==============================] - 2s 10ms/step - loss: 0.0461 - accuracy: 0.9783 - val_loss: 1.2407 - val_accuracy: 0.7730\n",
            "Epoch 9/10\n",
            "215/215 [==============================] - 2s 10ms/step - loss: 0.0432 - accuracy: 0.9790 - val_loss: 1.6553 - val_accuracy: 0.7743\n",
            "Epoch 10/10\n",
            "215/215 [==============================] - 2s 10ms/step - loss: 0.0455 - accuracy: 0.9790 - val_loss: 1.3035 - val_accuracy: 0.7625\n"
          ]
        }
      ]
    },
    {
      "cell_type": "code",
      "metadata": {
        "colab": {
          "base_uri": "https://localhost:8080/"
        },
        "id": "oNXPA0NYmsRx",
        "outputId": "a0515980-31a8-43e1-e5cd-68bfb8573196"
      },
      "source": [
        "# Check the results against baseline\n",
        "\n",
        "pred_val_probab = model_2.predict(val_sentences)\n",
        "pred_val_probab\n",
        "pred_val_probab.shape\n",
        "\n",
        "# convert model prediction probabilites to label format\n",
        "val_prediction = tf.squeeze(tf.round(pred_val_probab))\n",
        "val_prediction[:20]\n",
        "\n",
        "model_2_results=calculate_results(val_label,val_prediction)\n",
        "model_2_results"
      ],
      "execution_count": 49,
      "outputs": [
        {
          "output_type": "execute_result",
          "data": {
            "text/plain": [
              "{'accuracy': 76.24671916010499,\n",
              " 'f1_score': 0.7607595644846901,\n",
              " 'precision': 0.7631352147335341,\n",
              " 'recall': 0.7624671916010499}"
            ]
          },
          "metadata": {},
          "execution_count": 49
        }
      ]
    },
    {
      "cell_type": "code",
      "metadata": {
        "colab": {
          "base_uri": "https://localhost:8080/"
        },
        "id": "rK-phIaonrGI",
        "outputId": "0b4a333d-fada-4872-a07e-1577e918e052"
      },
      "source": [
        "baseline_results"
      ],
      "execution_count": 50,
      "outputs": [
        {
          "output_type": "execute_result",
          "data": {
            "text/plain": [
              "{'accuracy': 79.26509186351706,\n",
              " 'f1_score': 0.7862189758049549,\n",
              " 'precision': 0.8111390004213173,\n",
              " 'recall': 0.7926509186351706}"
            ]
          },
          "metadata": {},
          "execution_count": 50
        }
      ]
    },
    {
      "cell_type": "markdown",
      "metadata": {
        "id": "VNuZ_21LeBif"
      },
      "source": [
        "## Model 3 - GRU\n",
        "\n",
        "Gated Recurrent unit -- it is similar to LSTM but with less parameters."
      ]
    },
    {
      "cell_type": "code",
      "metadata": {
        "colab": {
          "base_uri": "https://localhost:8080/"
        },
        "id": "BdvTE5QrbcnA",
        "outputId": "e6b4c1c7-6083-4ec0-f4fe-5019960a14f8"
      },
      "source": [
        "from tensorflow.keras import layers\n",
        "\n",
        "inputs = layers.Input(shape=(1,), dtype=\"string\")\n",
        "x=text_vectorizer(inputs)\n",
        "x=embedding(x)\n",
        "print(x.shape)\n",
        "x=layers.GRU(units=64, return_sequences=True)(x) # When you are stacking RNN cells together, you need to retrun_sequences=True\n",
        "print(x.shape)\n",
        "x = layers.LSTM(64,return_sequences=True)(x)\n",
        "print(x.shape)\n",
        "x = layers.GRU(64)(x)\n",
        "print(x.shape)\n",
        "x = layers.Dense(64, activation=\"relu\")(x)\n",
        "print(x.shape)\n",
        "outputs=layers.Dense(1,activation=\"sigmoid\")(x)\n",
        "\n",
        "model_3 = tf.keras.Model(inputs,outputs, name=\"model_3_GRU\")"
      ],
      "execution_count": 51,
      "outputs": [
        {
          "output_type": "stream",
          "name": "stdout",
          "text": [
            "(None, 15, 128)\n",
            "(None, 15, 64)\n",
            "(None, 15, 64)\n",
            "(None, 64)\n",
            "(None, 64)\n"
          ]
        }
      ]
    },
    {
      "cell_type": "code",
      "metadata": {
        "id": "ul7VErrub7YY"
      },
      "source": [
        "# Compile the model\n",
        "model_3.compile(loss=tf.keras.losses.BinaryCrossentropy(),\n",
        "                optimizer=tf.keras.optimizers.Adam(),\n",
        "                metrics=[\"accuracy\"]\n",
        ")"
      ],
      "execution_count": 52,
      "outputs": []
    },
    {
      "cell_type": "code",
      "metadata": {
        "colab": {
          "base_uri": "https://localhost:8080/"
        },
        "id": "Ehx3ts-ie2Bt",
        "outputId": "aa989aaa-7343-47c6-c473-471f96e2a370"
      },
      "source": [
        "model_3_history = model_3.fit (train_sentences,\n",
        "                               train_label,epochs=10,\n",
        "                               validation_data=(val_sentences, val_label),\n",
        "                               callbacks=[create_tensorboard_callback(SAVE_DIR,\"model_2_LSTM\")])"
      ],
      "execution_count": 53,
      "outputs": [
        {
          "output_type": "stream",
          "name": "stdout",
          "text": [
            "Saving TensorBoard log files to: model_logs/model_2_LSTM/20211026-071235\n",
            "Epoch 1/10\n",
            "215/215 [==============================] - 11s 28ms/step - loss: 0.1073 - accuracy: 0.9629 - val_loss: 1.1542 - val_accuracy: 0.7638\n",
            "Epoch 2/10\n",
            "215/215 [==============================] - 4s 20ms/step - loss: 0.0498 - accuracy: 0.9772 - val_loss: 0.9771 - val_accuracy: 0.7690\n",
            "Epoch 3/10\n",
            "215/215 [==============================] - 4s 20ms/step - loss: 0.0442 - accuracy: 0.9800 - val_loss: 1.3463 - val_accuracy: 0.7717\n",
            "Epoch 4/10\n",
            "215/215 [==============================] - 4s 19ms/step - loss: 0.0465 - accuracy: 0.9774 - val_loss: 1.3876 - val_accuracy: 0.7638\n",
            "Epoch 5/10\n",
            "215/215 [==============================] - 4s 19ms/step - loss: 0.0420 - accuracy: 0.9810 - val_loss: 1.4480 - val_accuracy: 0.7717\n",
            "Epoch 6/10\n",
            "215/215 [==============================] - 4s 20ms/step - loss: 0.0405 - accuracy: 0.9794 - val_loss: 1.8457 - val_accuracy: 0.7717\n",
            "Epoch 7/10\n",
            "215/215 [==============================] - 4s 20ms/step - loss: 0.0412 - accuracy: 0.9800 - val_loss: 1.2519 - val_accuracy: 0.7677\n",
            "Epoch 8/10\n",
            "215/215 [==============================] - 4s 19ms/step - loss: 0.0478 - accuracy: 0.9787 - val_loss: 1.4926 - val_accuracy: 0.7612\n",
            "Epoch 9/10\n",
            "215/215 [==============================] - 4s 19ms/step - loss: 0.0380 - accuracy: 0.9801 - val_loss: 1.7743 - val_accuracy: 0.7743\n",
            "Epoch 10/10\n",
            "215/215 [==============================] - 4s 20ms/step - loss: 0.0392 - accuracy: 0.9815 - val_loss: 1.6968 - val_accuracy: 0.7717\n"
          ]
        }
      ]
    },
    {
      "cell_type": "code",
      "metadata": {
        "colab": {
          "base_uri": "https://localhost:8080/"
        },
        "id": "3lk7SzI9faEP",
        "outputId": "aa1cef98-ee20-4f3f-c01c-e2fabbbd888d"
      },
      "source": [
        "# Get Model Prediction probabilities\n",
        "\n",
        "model_3_pred_prob = model_3.predict(val_sentences)\n",
        "model_3_pred_prob[:10]"
      ],
      "execution_count": 54,
      "outputs": [
        {
          "output_type": "execute_result",
          "data": {
            "text/plain": [
              "array([[6.6210735e-03],\n",
              "       [6.1757493e-01],\n",
              "       [9.9990761e-01],\n",
              "       [1.6368575e-01],\n",
              "       [3.4842974e-06],\n",
              "       [9.9933904e-01],\n",
              "       [9.6420979e-01],\n",
              "       [9.9994588e-01],\n",
              "       [9.9988842e-01],\n",
              "       [9.9918920e-01]], dtype=float32)"
            ]
          },
          "metadata": {},
          "execution_count": 54
        }
      ]
    },
    {
      "cell_type": "code",
      "metadata": {
        "colab": {
          "base_uri": "https://localhost:8080/"
        },
        "id": "mOp4r1MDf_Ye",
        "outputId": "ab59040c-8faa-404d-cc30-385c445409b1"
      },
      "source": [
        "# Covert the probabilities to binary output\n",
        "model_3_pred = tf.squeeze(tf.round(model_3_pred_prob))\n",
        "model_3_pred[:10]"
      ],
      "execution_count": 55,
      "outputs": [
        {
          "output_type": "execute_result",
          "data": {
            "text/plain": [
              "<tf.Tensor: shape=(10,), dtype=float32, numpy=array([0., 1., 1., 0., 0., 1., 1., 1., 1., 1.], dtype=float32)>"
            ]
          },
          "metadata": {},
          "execution_count": 55
        }
      ]
    },
    {
      "cell_type": "code",
      "metadata": {
        "colab": {
          "base_uri": "https://localhost:8080/"
        },
        "id": "vm3bc4pwgcmV",
        "outputId": "6b7eb2b4-9aa1-41d9-f7d3-2fd9e2be00c1"
      },
      "source": [
        "model_3_results = calculate_results(y_true=val_label,\n",
        "                                    y_pred=model_3_pred)\n",
        "model_3_results"
      ],
      "execution_count": 56,
      "outputs": [
        {
          "output_type": "execute_result",
          "data": {
            "text/plain": [
              "{'accuracy': 77.16535433070865,\n",
              " 'f1_score': 0.7691811868378113,\n",
              " 'precision': 0.7741380916586217,\n",
              " 'recall': 0.7716535433070866}"
            ]
          },
          "metadata": {},
          "execution_count": 56
        }
      ]
    },
    {
      "cell_type": "markdown",
      "metadata": {
        "id": "7-dLXjnr1RYS"
      },
      "source": [
        "## Model 4 : Bidirectional RNN\n",
        "\n"
      ]
    },
    {
      "cell_type": "code",
      "metadata": {
        "id": "BQyMgd9oCyZV"
      },
      "source": [
        "## Build a bidirectional Model\n",
        "\n",
        "from tensorflow.keras import layers\n",
        "\n",
        "inputs = layers.Input(shape=(1,),dtype=\"string\")\n",
        "x = text_vectorizer(inputs)\n",
        "x = embedding(x)\n",
        "\n",
        "x = layers.Bidirectional(layers.LSTM(64,return_sequences=True))(x)\n",
        "x = layers.Bidirectional(layers.GRU(64))(x)\n",
        "outputs=layers.Dense(1, activation=\"sigmoid\")(x)\n",
        "model_4 = tf.keras.Model(inputs,outputs,name=\"model_4_bidirectional\")\n"
      ],
      "execution_count": 57,
      "outputs": []
    },
    {
      "cell_type": "code",
      "metadata": {
        "id": "GPymEwgzEeea"
      },
      "source": [
        "# Compile the model\n",
        "\n",
        "model_4.compile(loss=tf.keras.losses.BinaryCrossentropy(),\n",
        "                optimizer=tf.keras.optimizers.Adam(),\n",
        "                metrics=[\"accuracy\"])"
      ],
      "execution_count": 58,
      "outputs": []
    },
    {
      "cell_type": "code",
      "metadata": {
        "colab": {
          "base_uri": "https://localhost:8080/"
        },
        "id": "y6mMXww-E2_Y",
        "outputId": "47f3d1a6-fd8c-41d5-c6a0-6cd4262f4b7e"
      },
      "source": [
        "model_4.summary()"
      ],
      "execution_count": 59,
      "outputs": [
        {
          "output_type": "stream",
          "name": "stdout",
          "text": [
            "Model: \"model_4_bidirectional\"\n",
            "_________________________________________________________________\n",
            "Layer (type)                 Output Shape              Param #   \n",
            "=================================================================\n",
            "input_4 (InputLayer)         [(None, 1)]               0         \n",
            "_________________________________________________________________\n",
            "text_vectorization_1 (TextVe (None, 15)                0         \n",
            "_________________________________________________________________\n",
            "embedding (Embedding)        (None, 15, 128)           1280000   \n",
            "_________________________________________________________________\n",
            "bidirectional (Bidirectional (None, 15, 128)           98816     \n",
            "_________________________________________________________________\n",
            "bidirectional_1 (Bidirection (None, 128)               74496     \n",
            "_________________________________________________________________\n",
            "dense_5 (Dense)              (None, 1)                 129       \n",
            "=================================================================\n",
            "Total params: 1,453,441\n",
            "Trainable params: 1,453,441\n",
            "Non-trainable params: 0\n",
            "_________________________________________________________________\n"
          ]
        }
      ]
    },
    {
      "cell_type": "code",
      "metadata": {
        "colab": {
          "base_uri": "https://localhost:8080/"
        },
        "id": "JR0St7zDE_my",
        "outputId": "1836c070-d7b8-4a16-f01d-6d4f8e554bdc"
      },
      "source": [
        " model_4.fit(train_sentences, train_label,epochs=10,validation_data=(val_sentences, val_label),callbacks=[create_tensorboard_callback(SAVE_DIR,\"model_4_bidirectional\")])\n"
      ],
      "execution_count": 60,
      "outputs": [
        {
          "output_type": "stream",
          "name": "stdout",
          "text": [
            "Saving TensorBoard log files to: model_logs/model_4_bidirectional/20211026-071404\n",
            "Epoch 1/10\n",
            "215/215 [==============================] - 14s 35ms/step - loss: 0.0865 - accuracy: 0.9723 - val_loss: 1.0290 - val_accuracy: 0.7690\n",
            "Epoch 2/10\n",
            "215/215 [==============================] - 5s 24ms/step - loss: 0.0407 - accuracy: 0.9799 - val_loss: 1.1890 - val_accuracy: 0.7638\n",
            "Epoch 3/10\n",
            "215/215 [==============================] - 5s 24ms/step - loss: 0.0358 - accuracy: 0.9799 - val_loss: 1.5379 - val_accuracy: 0.7703\n",
            "Epoch 4/10\n",
            "215/215 [==============================] - 5s 24ms/step - loss: 0.0330 - accuracy: 0.9819 - val_loss: 1.6398 - val_accuracy: 0.7703\n",
            "Epoch 5/10\n",
            "215/215 [==============================] - 5s 24ms/step - loss: 0.0359 - accuracy: 0.9816 - val_loss: 1.7110 - val_accuracy: 0.7730\n",
            "Epoch 6/10\n",
            "215/215 [==============================] - 5s 24ms/step - loss: 0.0397 - accuracy: 0.9804 - val_loss: 1.5563 - val_accuracy: 0.7546\n",
            "Epoch 7/10\n",
            "215/215 [==============================] - 5s 24ms/step - loss: 0.0367 - accuracy: 0.9818 - val_loss: 1.4461 - val_accuracy: 0.7625\n",
            "Epoch 8/10\n",
            "215/215 [==============================] - 5s 24ms/step - loss: 0.0338 - accuracy: 0.9832 - val_loss: 1.4172 - val_accuracy: 0.7415\n",
            "Epoch 9/10\n",
            "215/215 [==============================] - 5s 24ms/step - loss: 0.0329 - accuracy: 0.9839 - val_loss: 1.6137 - val_accuracy: 0.7638\n",
            "Epoch 10/10\n",
            "215/215 [==============================] - 5s 24ms/step - loss: 0.0321 - accuracy: 0.9838 - val_loss: 1.8400 - val_accuracy: 0.7651\n"
          ]
        },
        {
          "output_type": "execute_result",
          "data": {
            "text/plain": [
              "<keras.callbacks.History at 0x7f0b32ec6190>"
            ]
          },
          "metadata": {},
          "execution_count": 60
        }
      ]
    },
    {
      "cell_type": "code",
      "metadata": {
        "colab": {
          "base_uri": "https://localhost:8080/"
        },
        "id": "cmO0j0bcFwda",
        "outputId": "ee9524b9-b9da-4a5f-ae40-4e810ca22b54"
      },
      "source": [
        "# Get the validation probabilities\n",
        "\n",
        "model_4_pred_probab = model_4.predict(val_sentences)\n",
        "model_4_pred_probab[:10]"
      ],
      "execution_count": 61,
      "outputs": [
        {
          "output_type": "execute_result",
          "data": {
            "text/plain": [
              "array([[1.9244594e-03],\n",
              "       [8.0250001e-01],\n",
              "       [9.9998367e-01],\n",
              "       [3.2005173e-01],\n",
              "       [6.9176085e-06],\n",
              "       [9.9963760e-01],\n",
              "       [6.2621957e-01],\n",
              "       [9.9999523e-01],\n",
              "       [9.9999082e-01],\n",
              "       [9.9985731e-01]], dtype=float32)"
            ]
          },
          "metadata": {},
          "execution_count": 61
        }
      ]
    },
    {
      "cell_type": "code",
      "metadata": {
        "colab": {
          "base_uri": "https://localhost:8080/"
        },
        "id": "AqVXcVYBGDkJ",
        "outputId": "2194fd39-ce33-4963-a7c8-f88844fa8c45"
      },
      "source": [
        "# Get prediction probabilities converted to binary output to match the label\n",
        "model_4_pred = tf.squeeze(tf.round(model_4_pred_probab))\n",
        "model_4_pred[:10]"
      ],
      "execution_count": 62,
      "outputs": [
        {
          "output_type": "execute_result",
          "data": {
            "text/plain": [
              "<tf.Tensor: shape=(10,), dtype=float32, numpy=array([0., 1., 1., 0., 0., 1., 1., 1., 1., 1.], dtype=float32)>"
            ]
          },
          "metadata": {},
          "execution_count": 62
        }
      ]
    },
    {
      "cell_type": "code",
      "metadata": {
        "colab": {
          "base_uri": "https://localhost:8080/"
        },
        "id": "b85ILloHGbEw",
        "outputId": "4e3ddd3f-ab22-4511-c793-298474c8c3cb"
      },
      "source": [
        "# Get the results\n",
        "model_4_results = calculate_results(y_true=val_label,\n",
        "                                    y_pred=model_4_pred)\n",
        "model_4_results"
      ],
      "execution_count": 63,
      "outputs": [
        {
          "output_type": "execute_result",
          "data": {
            "text/plain": [
              "{'accuracy': 76.50918635170603,\n",
              " 'f1_score': 0.7635213723925918,\n",
              " 'precision': 0.7656343373801384,\n",
              " 'recall': 0.7650918635170604}"
            ]
          },
          "metadata": {},
          "execution_count": 63
        }
      ]
    },
    {
      "cell_type": "code",
      "metadata": {
        "colab": {
          "base_uri": "https://localhost:8080/"
        },
        "id": "um6ZS4PzG25u",
        "outputId": "ab772ac8-44ae-4b38-8603-0583ab668945"
      },
      "source": [
        "baseline_results"
      ],
      "execution_count": 64,
      "outputs": [
        {
          "output_type": "execute_result",
          "data": {
            "text/plain": [
              "{'accuracy': 79.26509186351706,\n",
              " 'f1_score': 0.7862189758049549,\n",
              " 'precision': 0.8111390004213173,\n",
              " 'recall': 0.7926509186351706}"
            ]
          },
          "metadata": {},
          "execution_count": 64
        }
      ]
    },
    {
      "cell_type": "markdown",
      "metadata": {
        "id": "9yj8RXuZPhOO"
      },
      "source": [
        "## Convolution Neural Networks for Text (and other type if Sequnces)\n",
        "\n",
        "We have used CNNs for images but images are typically 2D(height x width)...\n",
        "however , out text data is 1D.\n",
        "\n",
        "The typical structure of Convolution 1D model for sequence(in our case, text)\n",
        "\n",
        "```\n",
        "Input -->(text) --> Tokenization --> Embedding --> layer(s) (Conv1D + Pooling) --> outputs (class probabilites)\n",
        "```"
      ]
    },
    {
      "cell_type": "markdown",
      "metadata": {
        "id": "mDy49imNQ0V9"
      },
      "source": [
        "## Model 5 : Conv1D \n"
      ]
    },
    {
      "cell_type": "code",
      "metadata": {
        "colab": {
          "base_uri": "https://localhost:8080/"
        },
        "id": "4kW-Ce6JQ-Xu",
        "outputId": "07a98d6f-d69a-4c13-b587-13cb15d8f25a"
      },
      "source": [
        "# Test out our Embedding layer, Conv1D layer and max pooling\n",
        "from tensorflow.keras import layers\n",
        "embedding_test = embedding(text_vectorizer([\"this is a test sentence\"])) # turn target sequence in to embedding.\n",
        "conv_1d = layers.Conv1D(filters=32,# hidding units in conv_1D \n",
        "                        kernel_size =5,\n",
        "                        activation=\"relu\",\n",
        "                        padding = \"valid\")\n",
        "\n",
        "conv_1d_output = conv_1d(embedding_test)\n",
        "max_pool = layers.GlobalMaxPool1D()\n",
        "max_pool_output =max_pool(conv_1d_output) # equivalent to `get the most import feature'\n",
        "\n",
        "embedding_test.shape, conv_1d_output.shape, max_pool_output.shape"
      ],
      "execution_count": 65,
      "outputs": [
        {
          "output_type": "execute_result",
          "data": {
            "text/plain": [
              "(TensorShape([1, 15, 128]), TensorShape([1, 11, 32]), TensorShape([1, 32]))"
            ]
          },
          "metadata": {},
          "execution_count": 65
        }
      ]
    },
    {
      "cell_type": "code",
      "metadata": {
        "colab": {
          "base_uri": "https://localhost:8080/"
        },
        "id": "XYROTy6iR7Bt",
        "outputId": "6cd63711-01cd-4f6b-e0f9-f22de5156c8b"
      },
      "source": [
        "# Create 1 -d imensional convolutionlayer to model sequence\n",
        "from tensorflow.keras import layers\n",
        "inputs = layers.Input(shape=(1,),dtype=\"string\")\n",
        "x = text_vectorizer(inputs)\n",
        "x =embedding(x)\n",
        "x = layers.Conv1D(filters=64,\n",
        "                  kernel_size=5,\n",
        "                  activation=\"relu\",\n",
        "                  strides=1,\n",
        "                  padding=\"valid\"\n",
        "                  )(x)\n",
        "x = layers.GlobalMaxPool1D()(x)\n",
        "outputs=layers.Dense(1,activation=\"sigmoid\")(x)\n",
        "model_5 = tf.keras.Model(inputs, outputs, name=\"model_5_Conv1D\")\n",
        "\n",
        "# Compile the model\n",
        "\n",
        "model_5.compile(loss = tf.keras.losses.BinaryCrossentropy(),\n",
        "                optimizer= tf.keras.optimizers.Adam(),\n",
        "                metrics=[\"accuracy\"])\n",
        "model_5.summary()\n"
      ],
      "execution_count": 66,
      "outputs": [
        {
          "output_type": "stream",
          "name": "stdout",
          "text": [
            "Model: \"model_5_Conv1D\"\n",
            "_________________________________________________________________\n",
            "Layer (type)                 Output Shape              Param #   \n",
            "=================================================================\n",
            "input_5 (InputLayer)         [(None, 1)]               0         \n",
            "_________________________________________________________________\n",
            "text_vectorization_1 (TextVe (None, 15)                0         \n",
            "_________________________________________________________________\n",
            "embedding (Embedding)        (None, 15, 128)           1280000   \n",
            "_________________________________________________________________\n",
            "conv1d_1 (Conv1D)            (None, 11, 64)            41024     \n",
            "_________________________________________________________________\n",
            "global_max_pooling1d_1 (Glob (None, 64)                0         \n",
            "_________________________________________________________________\n",
            "dense_6 (Dense)              (None, 1)                 65        \n",
            "=================================================================\n",
            "Total params: 1,321,089\n",
            "Trainable params: 1,321,089\n",
            "Non-trainable params: 0\n",
            "_________________________________________________________________\n"
          ]
        }
      ]
    },
    {
      "cell_type": "code",
      "metadata": {
        "id": "80VhVCu_UpV_",
        "colab": {
          "base_uri": "https://localhost:8080/"
        },
        "outputId": "546dabdf-b242-49a3-f484-58e711c4e21b"
      },
      "source": [
        "# Fit the model \n",
        "\n",
        "model_5_history = model_5.fit(train_sentences,train_label,\n",
        "                              epochs=10, validation_data=(val_sentences,val_label),\n",
        "                              callbacks = [create_tensorboard_callback(SAVE_DIR,\"Conv1D\")] )\n",
        "model_5_history"
      ],
      "execution_count": 68,
      "outputs": [
        {
          "output_type": "stream",
          "name": "stdout",
          "text": [
            "Saving TensorBoard log files to: model_logs/Conv1D/20211026-071632\n",
            "Epoch 1/10\n",
            "215/215 [==============================] - 4s 11ms/step - loss: 0.1089 - accuracy: 0.9638 - val_loss: 1.0251 - val_accuracy: 0.7625\n",
            "Epoch 2/10\n",
            "215/215 [==============================] - 2s 8ms/step - loss: 0.0646 - accuracy: 0.9745 - val_loss: 1.1610 - val_accuracy: 0.7612\n",
            "Epoch 3/10\n",
            "215/215 [==============================] - 2s 8ms/step - loss: 0.0540 - accuracy: 0.9784 - val_loss: 1.1690 - val_accuracy: 0.7520\n",
            "Epoch 4/10\n",
            "215/215 [==============================] - 2s 8ms/step - loss: 0.0496 - accuracy: 0.9783 - val_loss: 1.2151 - val_accuracy: 0.7559\n",
            "Epoch 5/10\n",
            "215/215 [==============================] - 2s 8ms/step - loss: 0.0464 - accuracy: 0.9791 - val_loss: 1.3081 - val_accuracy: 0.7559\n",
            "Epoch 6/10\n",
            "215/215 [==============================] - 2s 8ms/step - loss: 0.0435 - accuracy: 0.9807 - val_loss: 1.3476 - val_accuracy: 0.7493\n",
            "Epoch 7/10\n",
            "215/215 [==============================] - 2s 7ms/step - loss: 0.0443 - accuracy: 0.9803 - val_loss: 1.2612 - val_accuracy: 0.7533\n",
            "Epoch 8/10\n",
            "215/215 [==============================] - 2s 8ms/step - loss: 0.0430 - accuracy: 0.9800 - val_loss: 1.2785 - val_accuracy: 0.7546\n",
            "Epoch 9/10\n",
            "215/215 [==============================] - 2s 8ms/step - loss: 0.0414 - accuracy: 0.9809 - val_loss: 1.2924 - val_accuracy: 0.7441\n",
            "Epoch 10/10\n",
            "215/215 [==============================] - 2s 7ms/step - loss: 0.0415 - accuracy: 0.9819 - val_loss: 1.2905 - val_accuracy: 0.7533\n"
          ]
        },
        {
          "output_type": "execute_result",
          "data": {
            "text/plain": [
              "<keras.callbacks.History at 0x7f0b2f61ec90>"
            ]
          },
          "metadata": {},
          "execution_count": 68
        }
      ]
    },
    {
      "cell_type": "code",
      "metadata": {
        "colab": {
          "base_uri": "https://localhost:8080/"
        },
        "id": "JAMl_VFIdTpp",
        "outputId": "345c4061-6a84-4722-8954-af591eb0cad0"
      },
      "source": [
        "# Make some predicitons with out ConV1D model\n",
        "\n",
        "model_5_pred_prob = model_5.predict(val_sentences)\n",
        "model_5_pred_prob[:10]"
      ],
      "execution_count": 70,
      "outputs": [
        {
          "output_type": "execute_result",
          "data": {
            "text/plain": [
              "array([[6.8440813e-01],\n",
              "       [9.6674550e-01],\n",
              "       [9.9997091e-01],\n",
              "       [5.6646079e-02],\n",
              "       [1.2101473e-06],\n",
              "       [9.9957007e-01],\n",
              "       [9.4476455e-01],\n",
              "       [9.9998760e-01],\n",
              "       [9.9999976e-01],\n",
              "       [9.6760398e-01]], dtype=float32)"
            ]
          },
          "metadata": {},
          "execution_count": 70
        }
      ]
    },
    {
      "cell_type": "code",
      "metadata": {
        "colab": {
          "base_uri": "https://localhost:8080/"
        },
        "id": "0temVSc-d2S5",
        "outputId": "44c7aecc-12ce-41d3-be88-e5d80a278941"
      },
      "source": [
        "# Convert the probabilities to bonary output\n",
        "model_5_pred = tf.squeeze(tf.round(model_5_pred_prob))\n",
        "model_5_pred[:10]"
      ],
      "execution_count": 75,
      "outputs": [
        {
          "output_type": "execute_result",
          "data": {
            "text/plain": [
              "<tf.Tensor: shape=(10,), dtype=float32, numpy=array([1., 1., 1., 0., 0., 1., 1., 1., 1., 1.], dtype=float32)>"
            ]
          },
          "metadata": {},
          "execution_count": 75
        }
      ]
    },
    {
      "cell_type": "code",
      "metadata": {
        "colab": {
          "base_uri": "https://localhost:8080/"
        },
        "id": "Wb16AGgkeX4h",
        "outputId": "8bb62263-bf25-4e28-b7e0-3b6ace721c55"
      },
      "source": [
        "model_5_result = calculate_results(y_true=val_label, \n",
        "                                   y_pred=model_5_pred)\n",
        "model_5_result"
      ],
      "execution_count": 77,
      "outputs": [
        {
          "output_type": "execute_result",
          "data": {
            "text/plain": [
              "{'accuracy': 75.32808398950131,\n",
              " 'f1_score': 0.7529546666488423,\n",
              " 'precision': 0.7528894613723134,\n",
              " 'recall': 0.7532808398950132}"
            ]
          },
          "metadata": {},
          "execution_count": 77
        }
      ]
    },
    {
      "cell_type": "code",
      "metadata": {
        "colab": {
          "base_uri": "https://localhost:8080/"
        },
        "id": "4QxOdzEjelAK",
        "outputId": "01805847-c98d-400a-8f41-5b7b784c95ae"
      },
      "source": [
        "baseline_results"
      ],
      "execution_count": 79,
      "outputs": [
        {
          "output_type": "execute_result",
          "data": {
            "text/plain": [
              "{'accuracy': 79.26509186351706,\n",
              " 'f1_score': 0.7862189758049549,\n",
              " 'precision': 0.8111390004213173,\n",
              " 'recall': 0.7926509186351706}"
            ]
          },
          "metadata": {},
          "execution_count": 79
        }
      ]
    },
    {
      "cell_type": "markdown",
      "metadata": {
        "id": "SI3xShhCfAhh"
      },
      "source": [
        "## Model 6 : Transfer learning  model \n",
        "Tensorflow Hub pretrained Snetence Encoder\n",
        "USE feature extractor : Universal Sentence Extractor.\n",
        "\n",
        "\n",
        "This model is takne from : https://tfhub.dev/google/universal-sentence-encoder/4\n"
      ]
    },
    {
      "cell_type": "code",
      "metadata": {
        "colab": {
          "base_uri": "https://localhost:8080/"
        },
        "id": "UGBcH4eJhy9T",
        "outputId": "acb9e00d-aa4b-4415-aa2b-b56915c50c2c"
      },
      "source": [
        "import tensorflow_hub as hub\n",
        "\n",
        "embed = hub.load(\"https://tfhub.dev/google/universal-sentence-encoder/4\")\n",
        "embed_samples = embed([sample_sentence,\"I love you  \"])\n",
        "print(embed_samples)"
      ],
      "execution_count": 80,
      "outputs": [
        {
          "output_type": "stream",
          "name": "stdout",
          "text": [
            "tf.Tensor(\n",
            "[[-0.0589114   0.03995042  0.00297757 ...  0.05531275 -0.04758603\n",
            "   0.00477128]\n",
            " [ 0.03456973 -0.03164847  0.0067515  ... -0.04832187 -0.00310646\n",
            "  -0.01271175]], shape=(2, 512), dtype=float32)\n"
          ]
        }
      ]
    }
  ]
}